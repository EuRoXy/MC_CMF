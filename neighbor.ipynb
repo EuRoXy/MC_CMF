{
 "cells": [
  {
   "cell_type": "code",
   "execution_count": null,
   "id": "0dd152f4-666a-4066-878b-658312e744ed",
   "metadata": {},
   "outputs": [],
   "source": []
  },
  {
   "cell_type": "code",
   "execution_count": 1,
   "id": "efcc7c09-3d49-434c-81d2-0fbd6f729f05",
   "metadata": {
    "execution": {
     "iopub.execute_input": "2021-07-26T11:17:47.939000+02:00",
     "iopub.status.busy": "2021-07-26T11:17:47.117000+02:00",
     "iopub.status.idle": "2021-07-26T11:17:49.976000+02:00",
     "shell.execute_reply": "2021-07-26T11:17:49.896000+02:00"
    },
    "tags": []
   },
   "outputs": [],
   "source": [
    "include(\"MC.jl\");"
   ]
  },
  {
   "cell_type": "code",
   "execution_count": 9,
   "id": "1c01708c-f9aa-4d8f-b069-46629f7f6276",
   "metadata": {
    "execution": {
     "iopub.execute_input": "2021-07-26T11:18:27.925000+02:00",
     "iopub.status.busy": "2021-07-26T11:18:27.925000+02:00",
     "iopub.status.idle": "2021-07-26T11:18:28.032000+02:00",
     "shell.execute_reply": "2021-07-26T11:18:28.032000+02:00"
    },
    "tags": []
   },
   "outputs": [],
   "source": [
    "include(\"viz.jl\");"
   ]
  },
  {
   "cell_type": "code",
   "execution_count": 3,
   "id": "d18b032a-4b7b-4ea5-804a-88e722e0faa0",
   "metadata": {
    "execution": {
     "iopub.execute_input": "2021-07-26T11:18:09.644000+02:00",
     "iopub.status.busy": "2021-07-26T11:18:03.043000+02:00",
     "iopub.status.idle": "2021-07-26T11:18:10.020000+02:00",
     "shell.execute_reply": "2021-07-26T11:18:09.968000+02:00"
    },
    "tags": []
   },
   "outputs": [],
   "source": [
    "ENV[\"COLUMNS\"] = 200;\n",
    "const N = 30;"
   ]
  },
  {
   "cell_type": "code",
   "execution_count": 4,
   "id": "a1782cf9-e447-4d0f-9909-59e842e59896",
   "metadata": {
    "execution": {
     "iopub.execute_input": "2021-07-26T11:18:10.020000+02:00",
     "iopub.status.busy": "2021-07-26T11:18:10.020000+02:00",
     "iopub.status.idle": "2021-07-26T11:18:10.022000+02:00",
     "shell.execute_reply": "2021-07-26T11:18:10.021000+02:00"
    },
    "tags": []
   },
   "outputs": [],
   "source": [
    "fn_berlin = \"irradiation_Berlin.nc\";"
   ]
  },
  {
   "cell_type": "code",
   "execution_count": 5,
   "id": "ebae4ea3-4404-480b-b253-765f4daf887b",
   "metadata": {
    "execution": {
     "iopub.execute_input": "2021-07-26T11:18:10.022000+02:00",
     "iopub.status.busy": "2021-07-26T11:18:10.022000+02:00",
     "iopub.status.idle": "2021-07-26T11:18:12.318000+02:00",
     "shell.execute_reply": "2021-07-26T11:18:12.317000+02:00"
    },
    "tags": []
   },
   "outputs": [],
   "source": [
    "data_train, data_test = getCMF(fn_berlin);"
   ]
  },
  {
   "cell_type": "code",
   "execution_count": 6,
   "id": "8376c785-b5a7-4e66-92b2-ff89b3649653",
   "metadata": {
    "execution": {
     "iopub.execute_input": "2021-07-26T11:18:12.318000+02:00",
     "iopub.status.busy": "2021-07-26T11:18:12.318000+02:00",
     "iopub.status.idle": "2021-07-26T11:18:17.103000+02:00",
     "shell.execute_reply": "2021-07-26T11:18:17.103000+02:00"
    },
    "tags": []
   },
   "outputs": [],
   "source": [
    "data_train_cls, binStarts, binMean = getBins(data_train, N)\n",
    "data_test_cls = classify(data_test, binStarts);"
   ]
  },
  {
   "cell_type": "code",
   "execution_count": 7,
   "id": "c01f2f7f-702a-4728-8c77-276c4ce91db0",
   "metadata": {
    "execution": {
     "iopub.execute_input": "2021-07-26T11:18:17.104000+02:00",
     "iopub.status.busy": "2021-07-26T11:18:17.104000+02:00",
     "iopub.status.idle": "2021-07-26T11:18:17.429000+02:00",
     "shell.execute_reply": "2021-07-26T11:18:17.428000+02:00"
    },
    "tags": []
   },
   "outputs": [],
   "source": [
    "ticks = rd.(binMean, 2)\n",
    "xti = (binMean[[1:2:26; 30]], ticks[[1:2:26; 30]]);"
   ]
  },
  {
   "cell_type": "markdown",
   "id": "841b08ec-5fa4-454d-b7c7-dca0555c881f",
   "metadata": {},
   "source": [
    "### neighbor cells"
   ]
  },
  {
   "cell_type": "code",
   "execution_count": 8,
   "id": "61b0e664-fdd2-4d69-be98-9d8710f34e42",
   "metadata": {
    "execution": {
     "iopub.execute_input": "2021-07-26T11:18:17.429000+02:00",
     "iopub.status.busy": "2021-07-26T11:18:17.429000+02:00",
     "iopub.status.idle": "2021-07-26T11:18:17.430000+02:00",
     "shell.execute_reply": "2021-07-26T11:18:17.430000+02:00"
    },
    "scrolled": true,
    "tags": []
   },
   "outputs": [],
   "source": [
    "fn_berlin_w  = \"irradiation_Berlin_W.nc\";"
   ]
  },
  {
   "cell_type": "code",
   "execution_count": 34,
   "id": "b0c507cf-feb5-4922-beb2-92e06a337024",
   "metadata": {
    "execution": {
     "iopub.execute_input": "2021-07-26T11:31:20.086000+02:00",
     "iopub.status.busy": "2021-07-26T11:31:20.086000+02:00",
     "iopub.status.idle": "2021-07-26T11:31:20.087000+02:00",
     "shell.execute_reply": "2021-07-26T11:31:20.087000+02:00"
    },
    "scrolled": true,
    "tags": []
   },
   "outputs": [],
   "source": [
    "fn_berlin_sw = \"irradiation_Berlin_SW.nc\"\n",
    "fn_berlin_s  = \"irradiation_Berlin_S.nc\"\n",
    "fn_berlin_se = \"irradiation_Berlin_SE.nc\"\n",
    "fn_berlin_e  = \"irradiation_Berlin_E.nc\"\n",
    "fn_berlin_ne = \"irradiation_Berlin_NE.nc\"\n",
    "fn_berlin_n  = \"irradiation_Berlin_N.nc\"\n",
    "fn_berlin_nw = \"irradiation_Berlin_NW.nc\";"
   ]
  },
  {
   "cell_type": "code",
   "execution_count": 11,
   "id": "f4f461c8-bf81-4186-8b91-09e78426ff8e",
   "metadata": {
    "execution": {
     "iopub.execute_input": "2021-07-26T11:19:02.164000+02:00",
     "iopub.status.busy": "2021-07-26T11:19:02.164000+02:00",
     "iopub.status.idle": "2021-07-26T11:19:03.728000+02:00",
     "shell.execute_reply": "2021-07-26T11:19:03.727000+02:00"
    },
    "tags": []
   },
   "outputs": [
    {
     "data": {
      "text/plain": [
       "getCMFraw (generic function with 1 method)"
      ]
     },
     "execution_count": 11,
     "metadata": {},
     "output_type": "execute_result"
    }
   ],
   "source": [
    "function getCMFraw(fn)\n",
    "    fn_ = joinpath(\"data\", fn)    \n",
    "    ghi = getNCvar(fn_, \"GHI\")\n",
    "    ghiCS = getNCvar(fn_, \"CLEAR_SKY_GHI\");\n",
    "    cmf = ghi ./ ghiCS\n",
    "    return cmf\n",
    "end"
   ]
  },
  {
   "cell_type": "code",
   "execution_count": 12,
   "id": "85aae78b-674a-43f3-8b5d-3b2f032caa9b",
   "metadata": {
    "collapsed": true,
    "execution": {
     "iopub.execute_input": "2021-07-26T11:19:03.728000+02:00",
     "iopub.status.busy": "2021-07-26T11:19:03.728000+02:00",
     "iopub.status.idle": "2021-07-26T11:19:05.449000+02:00",
     "shell.execute_reply": "2021-07-26T11:19:05.448000+02:00"
    },
    "jupyter": {
     "outputs_hidden": true
    },
    "scrolled": true,
    "tags": []
   },
   "outputs": [
    {
     "data": {
      "text/plain": [
       "558048-element Vector{Float64}:\n",
       " NaN\n",
       " NaN\n",
       " NaN\n",
       " NaN\n",
       " NaN\n",
       " NaN\n",
       " NaN\n",
       " NaN\n",
       " NaN\n",
       " NaN\n",
       " NaN\n",
       " NaN\n",
       " NaN\n",
       "   ⋮\n",
       " NaN\n",
       " NaN\n",
       " NaN\n",
       " NaN\n",
       " NaN\n",
       " NaN\n",
       " NaN\n",
       " NaN\n",
       " NaN\n",
       " NaN\n",
       " NaN\n",
       " NaN"
      ]
     },
     "execution_count": 12,
     "metadata": {},
     "output_type": "execute_result"
    }
   ],
   "source": [
    "cmf_c = getCMFraw(fn_berlin)"
   ]
  },
  {
   "cell_type": "code",
   "execution_count": 13,
   "id": "25cbdf00-0e5d-4737-b70f-27ae332b0397",
   "metadata": {
    "execution": {
     "iopub.execute_input": "2021-07-26T11:19:12.114000+02:00",
     "iopub.status.busy": "2021-07-26T11:19:12.114000+02:00",
     "iopub.status.idle": "2021-07-26T11:19:12.139000+02:00",
     "shell.execute_reply": "2021-07-26T11:19:12.138000+02:00"
    },
    "tags": []
   },
   "outputs": [],
   "source": [
    "cmf_w = getCMFraw(fn_berlin_w);"
   ]
  },
  {
   "cell_type": "code",
   "execution_count": 37,
   "id": "da7b0668-dccd-4dac-a944-f42b9f2b6dca",
   "metadata": {
    "collapsed": true,
    "execution": {
     "iopub.execute_input": "2021-07-26T11:33:23.332000+02:00",
     "iopub.status.busy": "2021-07-26T11:33:23.332000+02:00",
     "iopub.status.idle": "2021-07-26T11:33:23.727000+02:00",
     "shell.execute_reply": "2021-07-26T11:33:23.727000+02:00"
    },
    "jupyter": {
     "outputs_hidden": true
    },
    "tags": []
   },
   "outputs": [
    {
     "data": {
      "text/plain": [
       "7-element Vector{Vector{Float64}}:\n",
       " [NaN, NaN, NaN, NaN, NaN, NaN, NaN, NaN, NaN, NaN  …  NaN, NaN, NaN, NaN, NaN, NaN, NaN, NaN, NaN, NaN]\n",
       " [NaN, NaN, NaN, NaN, NaN, NaN, NaN, NaN, NaN, NaN  …  NaN, NaN, NaN, NaN, NaN, NaN, NaN, NaN, NaN, NaN]\n",
       " [NaN, NaN, NaN, NaN, NaN, NaN, NaN, NaN, NaN, NaN  …  NaN, NaN, NaN, NaN, NaN, NaN, NaN, NaN, NaN, NaN]\n",
       " [NaN, NaN, NaN, NaN, NaN, NaN, NaN, NaN, NaN, NaN  …  NaN, NaN, NaN, NaN, NaN, NaN, NaN, NaN, NaN, NaN]\n",
       " [NaN, NaN, NaN, NaN, NaN, NaN, NaN, NaN, NaN, NaN  …  NaN, NaN, NaN, NaN, NaN, NaN, NaN, NaN, NaN, NaN]\n",
       " [NaN, NaN, NaN, NaN, NaN, NaN, NaN, NaN, NaN, NaN  …  NaN, NaN, NaN, NaN, NaN, NaN, NaN, NaN, NaN, NaN]\n",
       " [NaN, NaN, NaN, NaN, NaN, NaN, NaN, NaN, NaN, NaN  …  NaN, NaN, NaN, NaN, NaN, NaN, NaN, NaN, NaN, NaN]"
      ]
     },
     "execution_count": 37,
     "metadata": {},
     "output_type": "execute_result"
    }
   ],
   "source": [
    "cmf_n, cmf_e, cmf_s, cmf_sw, cmf_se, cmf_ne, cmf_nw = \n",
    "getCMFraw.([fn_berlin_n, fn_berlin_e, fn_berlin_s, \n",
    "            fn_berlin_sw, fn_berlin_se,\n",
    "            fn_berlin_ne, fn_berlin_nw]);"
   ]
  },
  {
   "cell_type": "markdown",
   "id": "5744c2ab-0c44-4f81-aa19-44b9774074bb",
   "metadata": {},
   "source": [
    "## Corr with neighbor"
   ]
  },
  {
   "cell_type": "code",
   "execution_count": 31,
   "id": "e6fdb1a0-f85c-4940-a6a8-1cc106880748",
   "metadata": {
    "execution": {
     "iopub.execute_input": "2021-07-26T11:30:18.520000+02:00",
     "iopub.status.busy": "2021-07-26T11:30:18.520000+02:00",
     "iopub.status.idle": "2021-07-26T11:30:18.645000+02:00",
     "shell.execute_reply": "2021-07-26T11:30:18.645000+02:00"
    },
    "tags": []
   },
   "outputs": [
    {
     "data": {
      "text/plain": [
       "cor_neib (generic function with 1 method)"
      ]
     },
     "execution_count": 31,
     "metadata": {},
     "output_type": "execute_result"
    }
   ],
   "source": [
    "function cor_neib(cmf_c, cmf_neib)\n",
    "    df = DataFrame(:c => cmf_c[2:end], :neib => cmf_neib[1:end-1])\n",
    "#     filter!([:c, :neib] => (c, n) -> (c, n) .< 0.95, df) # excluding clear-sky days\n",
    "    filter!([:c, :neib] => (c, n) -> c.<0.95 && n.<0.95, df) # excluding clear-sky days\n",
    "    return cor(df.c, df.neib)\n",
    "end"
   ]
  },
  {
   "cell_type": "code",
   "execution_count": 32,
   "id": "a0c991c0-ece3-40ac-97d2-fbfc0d469e8b",
   "metadata": {
    "execution": {
     "iopub.execute_input": "2021-07-26T11:30:19.214000+02:00",
     "iopub.status.busy": "2021-07-26T11:30:19.213000+02:00",
     "iopub.status.idle": "2021-07-26T11:30:19.645000+02:00",
     "shell.execute_reply": "2021-07-26T11:30:19.644000+02:00"
    },
    "tags": []
   },
   "outputs": [
    {
     "data": {
      "text/plain": [
       "0.70651485445816"
      ]
     },
     "execution_count": 32,
     "metadata": {},
     "output_type": "execute_result"
    }
   ],
   "source": [
    "cor_w = cor_neib(cmf_c, cmf_w)"
   ]
  },
  {
   "cell_type": "code",
   "execution_count": 39,
   "id": "0adc8234-7b50-449a-a6c7-773831315442",
   "metadata": {
    "execution": {
     "iopub.execute_input": "2021-07-26T11:36:44.290000+02:00",
     "iopub.status.busy": "2021-07-26T11:36:44.290000+02:00",
     "iopub.status.idle": "2021-07-26T11:36:44.380000+02:00",
     "shell.execute_reply": "2021-07-26T11:36:44.380000+02:00"
    },
    "tags": []
   },
   "outputs": [
    {
     "data": {
      "text/plain": [
       "0.6918825259150507"
      ]
     },
     "execution_count": 39,
     "metadata": {},
     "output_type": "execute_result"
    }
   ],
   "source": [
    "cor_n = cor_neib(cmf_c, cmf_n)\n",
    "cor_e = cor_neib(cmf_c, cmf_e)\n",
    "cor_s = cor_neib(cmf_c, cmf_s)\n",
    "\n",
    "cor_sw = cor_neib(cmf_c, cmf_sw)\n",
    "cor_se = cor_neib(cmf_c, cmf_se)\n",
    "cor_ne = cor_neib(cmf_c, cmf_ne)\n",
    "cor_nw = cor_neib(cmf_c, cmf_nw)"
   ]
  },
  {
   "cell_type": "code",
   "execution_count": 40,
   "id": "6b1aa549-a750-49ff-8f2b-21c1866a8b22",
   "metadata": {
    "execution": {
     "iopub.execute_input": "2021-07-26T11:37:08.240000+02:00",
     "iopub.status.busy": "2021-07-26T11:37:08.239000+02:00",
     "iopub.status.idle": "2021-07-26T11:37:08.444000+02:00",
     "shell.execute_reply": "2021-07-26T11:37:08.443000+02:00"
    },
    "tags": []
   },
   "outputs": [],
   "source": [
    "cor_mat = reshape([\n",
    "    cor_sw, cor_s, cor_se,    \n",
    "    cor_w,     1,  cor_e,\n",
    "    cor_nw, cor_n, cor_ne\n",
    "], 3, 3);\n",
    "\n",
    "corMat = rd.(cor_mat, 3);"
   ]
  },
  {
   "cell_type": "code",
   "execution_count": 42,
   "id": "4eeea477-07f3-46a3-ac2c-5e392fe4797b",
   "metadata": {
    "collapsed": true,
    "execution": {
     "iopub.execute_input": "2021-07-26T11:39:14.135000+02:00",
     "iopub.status.busy": "2021-07-26T11:39:14.134000+02:00",
     "iopub.status.idle": "2021-07-26T11:39:26.330000+02:00",
     "shell.execute_reply": "2021-07-26T11:39:26.330000+02:00"
    },
    "jupyter": {
     "outputs_hidden": true
    },
    "tags": []
   },
   "outputs": [
    {
     "data": {
      "text/plain": [
       "Plots.PyPlotBackend()"
      ]
     },
     "execution_count": 42,
     "metadata": {},
     "output_type": "execute_result"
    }
   ],
   "source": [
    "pyplot();"
   ]
  },
  {
   "cell_type": "code",
   "execution_count": 43,
   "id": "a600946d-30a4-4047-8436-e0d9ef649ce6",
   "metadata": {
    "execution": {
     "iopub.execute_input": "2021-07-26T11:39:26.995000+02:00",
     "iopub.status.busy": "2021-07-26T11:39:26.331000+02:00",
     "iopub.status.idle": "2021-07-26T11:39:48.549000+02:00",
     "shell.execute_reply": "2021-07-26T11:39:48.548000+02:00"
    },
    "tags": []
   },
   "outputs": [
    {
     "data": {
      "image/png": "[encoded data removed]"
     },
     "execution_count": 43,
     "metadata": {},
     "output_type": "execute_result"
    }
   ],
   "source": [
    "hm = heatmap(1:3, 1:3, cor_mat, c=palette(:Spectral_10), clim=(0,1), dpi=120, size=(450,400), title=\"Correlation coefficient\",\n",
    "    xticks=(1:3, [\"W\", \"C\", \"E\"]), yticks=(1:3, [\"S\", \"C\", \"N\"]), tickfontsize=12);\n",
    "for i=1:3, j=1:3\n",
    "    annotate!(i,j, corMat[i, j])\n",
    "end\n",
    "hm "
   ]
  },
  {
   "cell_type": "code",
   "execution_count": null,
   "id": "e7c8a0c3-bc58-44ca-83b9-01f867395bce",
   "metadata": {},
   "outputs": [],
   "source": []
  }
 ],
 "metadata": {
  "kernelspec": {
   "display_name": "Julia 1.6.1",
   "language": "julia",
   "name": "julia-1.6"
  },
  "language_info": {
   "file_extension": ".jl",
   "mimetype": "application/julia",
   "name": "julia",
   "version": "1.6.1"
  }
 },
 "nbformat": 4,
 "nbformat_minor": 5
}
