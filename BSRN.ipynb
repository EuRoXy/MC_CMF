{
 "cells": [
  {
   "cell_type": "code",
   "execution_count": 1,
   "id": "f9dda1cf-e920-4222-a007-8b67da34790c",
   "metadata": {
    "execution": {
     "iopub.execute_input": "2021-07-30T09:04:53.228000+02:00",
     "iopub.status.busy": "2021-07-30T09:04:52.327000+02:00",
     "iopub.status.idle": "2021-07-30T09:04:57.177000+02:00",
     "shell.execute_reply": "2021-07-30T09:04:57.147000+02:00"
    },
    "tags": []
   },
   "outputs": [
    {
     "data": {
      "text/plain": [
       "getDF (generic function with 1 method)"
      ]
     },
     "execution_count": 1,
     "metadata": {},
     "output_type": "execute_result"
    }
   ],
   "source": [
    "include(\"MC.jl\")"
   ]
  },
  {
   "cell_type": "code",
   "execution_count": 2,
   "id": "1c335340-b8d7-41f5-a952-fc01b1fb7210",
   "metadata": {
    "execution": {
     "iopub.execute_input": "2021-07-30T09:04:57.281000+02:00",
     "iopub.status.busy": "2021-07-30T09:04:57.177000+02:00",
     "iopub.status.idle": "2021-07-30T09:04:57.702000+02:00",
     "shell.execute_reply": "2021-07-30T09:04:57.702000+02:00"
    },
    "tags": []
   },
   "outputs": [],
   "source": [
    "ENV[\"COLUMNS\"] = 200;\n",
    "\n",
    "using Statistics, Dates \n",
    "\n",
    "using CSV, NetCDF, DataFrames"
   ]
  },
  {
   "cell_type": "code",
   "execution_count": 13,
   "id": "38cbb430-7ccc-4f2b-84aa-7cf2fa30e629",
   "metadata": {
    "execution": {
     "iopub.execute_input": "2021-07-27T15:19:24.530000+02:00",
     "iopub.status.busy": "2021-07-27T15:19:24.529000+02:00",
     "iopub.status.idle": "2021-07-27T15:19:26.028000+02:00",
     "shell.execute_reply": "2021-07-27T15:19:26.027000+02:00"
    }
   },
   "outputs": [],
   "source": [
    "using "
   ]
  },
  {
   "cell_type": "code",
   "execution_count": 3,
   "id": "2efab558-c8ab-47e6-ae8f-c1cb37368a00",
   "metadata": {
    "execution": {
     "iopub.execute_input": "2021-07-30T09:04:57.702000+02:00",
     "iopub.status.busy": "2021-07-30T09:04:57.702000+02:00",
     "iopub.status.idle": "2021-07-30T09:05:05.431000+02:00",
     "shell.execute_reply": "2021-07-30T09:05:05.430000+02:00"
    },
    "tags": []
   },
   "outputs": [],
   "source": [
    "using Plots, StatsPlots"
   ]
  },
  {
   "cell_type": "code",
   "execution_count": 7,
   "id": "fc82a504-7db3-41f2-ad68-2f0ed5114c7a",
   "metadata": {
    "execution": {
     "iopub.execute_input": "2021-07-26T15:04:42.517000+02:00",
     "iopub.status.busy": "2021-07-26T15:04:42.517000+02:00",
     "iopub.status.idle": "2021-07-26T15:04:42.573000+02:00",
     "shell.execute_reply": "2021-07-26T15:04:42.573000+02:00"
    }
   },
   "outputs": [],
   "source": [
    "using TimeSeries"
   ]
  },
  {
   "cell_type": "code",
   "execution_count": 22,
   "id": "51d77cda-f79a-4b12-bfed-51d3f0071d6d",
   "metadata": {
    "execution": {
     "iopub.execute_input": "2021-07-20T10:47:35.939000+02:00",
     "iopub.status.busy": "2021-07-20T10:47:35.938000+02:00",
     "iopub.status.idle": "2021-07-20T10:47:46.847000+02:00",
     "shell.execute_reply": "2021-07-20T10:47:46.846000+02:00"
    },
    "tags": []
   },
   "outputs": [
    {
     "data": {
      "text/plain": [
       "Plots.PyPlotBackend()"
      ]
     },
     "execution_count": 22,
     "metadata": {},
     "output_type": "execute_result"
    }
   ],
   "source": [
    "pyplot()"
   ]
  },
  {
   "cell_type": "code",
   "execution_count": 6,
   "id": "3bc15ad3-9bea-49c2-9464-6f80bbf4de25",
   "metadata": {
    "collapsed": true,
    "execution": {
     "iopub.execute_input": "2021-07-27T11:35:02.268000+02:00",
     "iopub.status.busy": "2021-07-27T11:35:02.268000+02:00",
     "iopub.status.idle": "2021-07-27T11:35:04.427000+02:00",
     "shell.execute_reply": "2021-07-27T11:35:04.427000+02:00"
    },
    "jupyter": {
     "outputs_hidden": true
    },
    "tags": []
   },
   "outputs": [
    {
     "data": {
      "text/plain": [
       "29-element Vector{SubString{String}}:\n",
       " \"Date/Time\"\n",
       " \"Height [m]\"\n",
       " \"SWD [W/m**2]\"\n",
       " \"SWD std dev [W/m**2]\"\n",
       " \"SWD min [W/m**2]\"\n",
       " \"SWD max [W/m**2]\"\n",
       " \"DIR [W/m**2]\"\n",
       " \"DIR std dev [W/m**2]\"\n",
       " \"DIR min [W/m**2]\"\n",
       " \"DIR max [W/m**2]\"\n",
       " \"DIF [W/m**2]\"\n",
       " \"DIF std dev [W/m**2]\"\n",
       " \"DIF min [W/m**2]\"\n",
       " ⋮\n",
       " \"LWD max [W/m**2]\"\n",
       " \"SWU [W/m**2]\"\n",
       " \"SWU std dev [W/m**2]\"\n",
       " \"SWU min [W/m**2]\"\n",
       " \"SWU max [W/m**2]\"\n",
       " \"LWU [W/m**2]\"\n",
       " \"LWU std dev [W/m**2]\"\n",
       " \"LWU min [W/m**2]\"\n",
       " \"LWU max [W/m**2]\"\n",
       " \"T2 [°C]\"\n",
       " \"RH [%]\"\n",
       " \"PoPoPoPo [hPa]\""
      ]
     },
     "execution_count": 6,
     "metadata": {},
     "output_type": "execute_result"
    }
   ],
   "source": [
    "colnams = split(\"Date/Time\tHeight [m]\tSWD [W/m**2]\tSWD std dev [W/m**2]\tSWD min [W/m**2]\tSWD max [W/m**2]\tDIR [W/m**2]\tDIR std dev [W/m**2]\tDIR min [W/m**2]\tDIR max [W/m**2]\tDIF [W/m**2]\tDIF std dev [W/m**2]\tDIF min [W/m**2]\tDIF max [W/m**2]\tLWD [W/m**2]\tLWD std dev [W/m**2]\tLWD min [W/m**2]\tLWD max [W/m**2]\tSWU [W/m**2]\tSWU std dev [W/m**2]\tSWU min [W/m**2]\tSWU max [W/m**2]\tLWU [W/m**2]\tLWU std dev [W/m**2]\tLWU min [W/m**2]\tLWU max [W/m**2]\tT2 [°C]\tRH [%]\tPoPoPoPo [hPa]\", '\t');"
   ]
  },
  {
   "cell_type": "code",
   "execution_count": 3,
   "id": "4d59f8e5-cb6e-49d7-ab44-59c33fc289ac",
   "metadata": {
    "execution": {
     "iopub.execute_input": "2021-07-29T08:54:39.537000+02:00",
     "iopub.status.busy": "2021-07-29T08:54:39.537000+02:00",
     "iopub.status.idle": "2021-07-29T08:54:39.538000+02:00",
     "shell.execute_reply": "2021-07-29T08:54:39.538000+02:00"
    }
   },
   "outputs": [],
   "source": [
    "fnam = \"PAY_radiation_2020-07.tab\";"
   ]
  },
  {
   "cell_type": "code",
   "execution_count": 4,
   "id": "941bf1a0-f89c-4aee-b26e-e31bcde1a264",
   "metadata": {
    "execution": {
     "iopub.execute_input": "2021-07-29T08:54:39.545000+02:00",
     "iopub.status.busy": "2021-07-29T08:54:39.544000+02:00",
     "iopub.status.idle": "2021-07-29T08:54:39.918000+02:00",
     "shell.execute_reply": "2021-07-29T08:54:39.918000+02:00"
    }
   },
   "outputs": [
    {
     "data": {
      "text/plain": [
       "\"data\\\\PAY_radiation_2020-07.tab\""
      ]
     },
     "execution_count": 4,
     "metadata": {},
     "output_type": "execute_result"
    }
   ],
   "source": [
    "fn = joinpath(\"data\", fnam)"
   ]
  },
  {
   "cell_type": "code",
   "execution_count": 5,
   "id": "603b97c9-5df7-4ad5-90dd-9109a07c61a8",
   "metadata": {
    "execution": {
     "iopub.execute_input": "2021-07-29T08:54:39.919000+02:00",
     "iopub.status.busy": "2021-07-29T08:54:39.919000+02:00",
     "iopub.status.idle": "2021-07-29T08:54:57.913000+02:00",
     "shell.execute_reply": "2021-07-29T08:54:57.913000+02:00"
    },
    "scrolled": true,
    "tags": []
   },
   "outputs": [
    {
     "data": {
      "text/html": [
       "<table class=\"data-frame\"><thead><tr><th></th><th>Column1</th><th>Column2</th><th>Column3</th><th>Column4</th><th>Column5</th><th>Column6</th><th>Column7</th><th>Column8</th><th>Column9</th><th>Column10</th><th>Column11</th><th>Column12</th><th>Column13</th><th>Column14</th><th>Column15</th><th>Column16</th><th>Column17</th><th>Column18</th><th>Column19</th><th>Column20</th></tr><tr><th></th><th>DateTime</th><th>Int64</th><th>Int64?</th><th>Float64?</th><th>Int64?</th><th>Int64?</th><th>Int64?</th><th>Float64?</th><th>Int64?</th><th>Int64?</th><th>Int64?</th><th>Float64?</th><th>Int64?</th><th>Int64?</th><th>Int64?</th><th>Float64?</th><th>Int64?</th><th>Int64?</th><th>Int64?</th><th>Float64?</th></tr></thead><tbody><p>44,640 rows × 29 columns (omitted printing of 9 columns)</p><tr><th>1</th><td>2020-07-01T00:00:00</td><td>2</td><td><em>missing</em></td><td><em>missing</em></td><td><em>missing</em></td><td><em>missing</em></td><td><em>missing</em></td><td><em>missing</em></td><td><em>missing</em></td><td><em>missing</em></td><td><em>missing</em></td><td><em>missing</em></td><td><em>missing</em></td><td><em>missing</em></td><td><em>missing</em></td><td><em>missing</em></td><td><em>missing</em></td><td><em>missing</em></td><td><em>missing</em></td><td><em>missing</em></td></tr><tr><th>2</th><td>2020-07-01T00:01:00</td><td>2</td><td>0</td><td>0.1</td><td>0</td><td>0</td><td>0</td><td>0.0</td><td>0</td><td>0</td><td>0</td><td>0.2</td><td>-1</td><td>0</td><td>337</td><td>0.2</td><td>337</td><td>338</td><td>0</td><td>0.1</td></tr><tr><th>3</th><td>2020-07-01T00:02:00</td><td>2</td><td>0</td><td>0.1</td><td>0</td><td>0</td><td>0</td><td>0.0</td><td>0</td><td>0</td><td>0</td><td>0.2</td><td>-1</td><td>0</td><td>337</td><td>0.1</td><td>337</td><td>338</td><td>0</td><td>0.1</td></tr><tr><th>4</th><td>2020-07-01T00:03:00</td><td>2</td><td>0</td><td>0.1</td><td>0</td><td>0</td><td>0</td><td>0.0</td><td>0</td><td>0</td><td>0</td><td>0.2</td><td>-1</td><td>1</td><td>337</td><td>0.1</td><td>337</td><td>337</td><td>0</td><td>0.1</td></tr><tr><th>5</th><td>2020-07-01T00:04:00</td><td>2</td><td>0</td><td>0.1</td><td>0</td><td>0</td><td>0</td><td>0.0</td><td>0</td><td>0</td><td>0</td><td>0.3</td><td>-1</td><td>1</td><td>337</td><td>0.1</td><td>337</td><td>337</td><td>0</td><td>0.1</td></tr><tr><th>6</th><td>2020-07-01T00:05:00</td><td>2</td><td>0</td><td>0.1</td><td>0</td><td>0</td><td>0</td><td>0.0</td><td>0</td><td>0</td><td>0</td><td>0.2</td><td>-1</td><td>0</td><td>337</td><td>0.1</td><td>337</td><td>337</td><td>0</td><td>0.1</td></tr><tr><th>7</th><td>2020-07-01T00:06:00</td><td>2</td><td>0</td><td>0.1</td><td>0</td><td>0</td><td>0</td><td>0.0</td><td>0</td><td>0</td><td>0</td><td>0.3</td><td>-1</td><td>1</td><td>337</td><td>0.1</td><td>336</td><td>337</td><td>0</td><td>0.1</td></tr><tr><th>8</th><td>2020-07-01T00:07:00</td><td>2</td><td>0</td><td>0.1</td><td>0</td><td>0</td><td>0</td><td>0.0</td><td>0</td><td>0</td><td>0</td><td>0.2</td><td>-1</td><td>0</td><td>337</td><td>0.1</td><td>336</td><td>337</td><td>0</td><td>0.1</td></tr><tr><th>9</th><td>2020-07-01T00:08:00</td><td>2</td><td>0</td><td>0.1</td><td>0</td><td>0</td><td>0</td><td>0.0</td><td>0</td><td>0</td><td>0</td><td>0.2</td><td>0</td><td>1</td><td>337</td><td>0.1</td><td>337</td><td>337</td><td>0</td><td>0.1</td></tr><tr><th>10</th><td>2020-07-01T00:09:00</td><td>2</td><td>0</td><td>0.1</td><td>0</td><td>0</td><td>0</td><td>0.0</td><td>0</td><td>0</td><td>0</td><td>0.2</td><td>-1</td><td>0</td><td>337</td><td>0.1</td><td>336</td><td>337</td><td>0</td><td>0.1</td></tr><tr><th>11</th><td>2020-07-01T00:10:00</td><td>2</td><td>0</td><td>0.1</td><td>0</td><td>0</td><td>0</td><td>0.0</td><td>0</td><td>0</td><td>0</td><td>0.3</td><td>-1</td><td>1</td><td>337</td><td>0.2</td><td>337</td><td>337</td><td>0</td><td>0.1</td></tr><tr><th>12</th><td>2020-07-01T00:11:00</td><td>2</td><td>0</td><td>0.1</td><td>0</td><td>0</td><td>0</td><td>0.0</td><td>0</td><td>0</td><td>0</td><td>0.2</td><td>-1</td><td>0</td><td>337</td><td>0.2</td><td>337</td><td>338</td><td>0</td><td>0.1</td></tr><tr><th>13</th><td>2020-07-01T00:12:00</td><td>2</td><td>0</td><td>0.1</td><td>0</td><td>0</td><td>0</td><td>0.0</td><td>0</td><td>0</td><td>0</td><td>0.2</td><td>0</td><td>1</td><td>337</td><td>0.1</td><td>337</td><td>337</td><td>0</td><td>0.1</td></tr><tr><th>14</th><td>2020-07-01T00:13:00</td><td>2</td><td>0</td><td>0.1</td><td>0</td><td>0</td><td>0</td><td>0.0</td><td>0</td><td>0</td><td>0</td><td>0.2</td><td>0</td><td>1</td><td>337</td><td>0.1</td><td>337</td><td>337</td><td>0</td><td>0.1</td></tr><tr><th>15</th><td>2020-07-01T00:14:00</td><td>2</td><td>0</td><td>0.1</td><td>0</td><td>0</td><td>0</td><td>0.0</td><td>0</td><td>0</td><td>0</td><td>0.2</td><td>0</td><td>0</td><td>337</td><td>0.1</td><td>337</td><td>337</td><td>0</td><td>0.1</td></tr><tr><th>16</th><td>2020-07-01T00:15:00</td><td>2</td><td>0</td><td>0.1</td><td>0</td><td>0</td><td>0</td><td>0.0</td><td>0</td><td>0</td><td>0</td><td>0.3</td><td>-1</td><td>1</td><td>337</td><td>0.1</td><td>337</td><td>337</td><td>0</td><td>0.1</td></tr><tr><th>17</th><td>2020-07-01T00:16:00</td><td>2</td><td>0</td><td>0.1</td><td>0</td><td>0</td><td>0</td><td>0.0</td><td>0</td><td>0</td><td>0</td><td>0.2</td><td>-1</td><td>0</td><td>337</td><td>0.2</td><td>336</td><td>337</td><td>0</td><td>0.1</td></tr><tr><th>18</th><td>2020-07-01T00:17:00</td><td>2</td><td>0</td><td>0.1</td><td>0</td><td>0</td><td>0</td><td>0.0</td><td>0</td><td>0</td><td>0</td><td>0.2</td><td>0</td><td>0</td><td>337</td><td>0.1</td><td>337</td><td>337</td><td>0</td><td>0.1</td></tr><tr><th>19</th><td>2020-07-01T00:18:00</td><td>2</td><td>0</td><td>0.1</td><td>0</td><td>0</td><td>0</td><td>0.0</td><td>0</td><td>0</td><td>0</td><td>0.3</td><td>-1</td><td>1</td><td>337</td><td>0.1</td><td>337</td><td>337</td><td>0</td><td>0.1</td></tr><tr><th>20</th><td>2020-07-01T00:19:00</td><td>2</td><td>0</td><td>0.1</td><td>0</td><td>0</td><td>0</td><td>0.0</td><td>0</td><td>0</td><td>0</td><td>0.2</td><td>-1</td><td>1</td><td>337</td><td>0.1</td><td>337</td><td>337</td><td>0</td><td>0.1</td></tr><tr><th>21</th><td>2020-07-01T00:20:00</td><td>2</td><td>0</td><td>0.1</td><td>0</td><td>0</td><td>0</td><td>0.0</td><td>0</td><td>0</td><td>0</td><td>0.2</td><td>-1</td><td>0</td><td>337</td><td>0.1</td><td>337</td><td>337</td><td>0</td><td>0.1</td></tr><tr><th>22</th><td>2020-07-01T00:21:00</td><td>2</td><td>0</td><td>0.1</td><td>0</td><td>0</td><td>0</td><td>0.0</td><td>0</td><td>0</td><td>0</td><td>0.2</td><td>0</td><td>0</td><td>337</td><td>0.2</td><td>337</td><td>337</td><td>0</td><td>0.1</td></tr><tr><th>23</th><td>2020-07-01T00:22:00</td><td>2</td><td>0</td><td>0.1</td><td>0</td><td>0</td><td>0</td><td>0.0</td><td>0</td><td>0</td><td>0</td><td>0.2</td><td>-1</td><td>1</td><td>337</td><td>0.2</td><td>337</td><td>337</td><td>0</td><td>0.1</td></tr><tr><th>24</th><td>2020-07-01T00:23:00</td><td>2</td><td>0</td><td>0.1</td><td>0</td><td>0</td><td>0</td><td>0.0</td><td>0</td><td>0</td><td>0</td><td>0.2</td><td>0</td><td>0</td><td>337</td><td>0.1</td><td>337</td><td>337</td><td>0</td><td>0.1</td></tr><tr><th>25</th><td>2020-07-01T00:24:00</td><td>2</td><td>0</td><td>0.1</td><td>0</td><td>0</td><td>0</td><td>0.0</td><td>0</td><td>0</td><td>0</td><td>0.2</td><td>0</td><td>1</td><td>337</td><td>0.1</td><td>337</td><td>337</td><td>0</td><td>0.1</td></tr><tr><th>26</th><td>2020-07-01T00:25:00</td><td>2</td><td>0</td><td>0.1</td><td>0</td><td>0</td><td>0</td><td>0.0</td><td>0</td><td>0</td><td>0</td><td>0.3</td><td>-1</td><td>1</td><td>337</td><td>0.2</td><td>336</td><td>337</td><td>0</td><td>0.1</td></tr><tr><th>27</th><td>2020-07-01T00:26:00</td><td>2</td><td>0</td><td>0.1</td><td>0</td><td>0</td><td>0</td><td>0.0</td><td>0</td><td>0</td><td>0</td><td>0.2</td><td>0</td><td>1</td><td>337</td><td>0.2</td><td>336</td><td>337</td><td>0</td><td>0.1</td></tr><tr><th>28</th><td>2020-07-01T00:27:00</td><td>2</td><td>0</td><td>0.1</td><td>0</td><td>0</td><td>0</td><td>0.0</td><td>0</td><td>0</td><td>0</td><td>0.2</td><td>-1</td><td>0</td><td>337</td><td>0.2</td><td>337</td><td>337</td><td>0</td><td>0.1</td></tr><tr><th>29</th><td>2020-07-01T00:28:00</td><td>2</td><td>0</td><td>0.1</td><td>0</td><td>0</td><td>0</td><td>0.0</td><td>0</td><td>0</td><td>0</td><td>0.2</td><td>0</td><td>1</td><td>337</td><td>0.2</td><td>336</td><td>337</td><td>0</td><td>0.1</td></tr><tr><th>30</th><td>2020-07-01T00:29:00</td><td>2</td><td>0</td><td>0.1</td><td>0</td><td>0</td><td>0</td><td>0.0</td><td>0</td><td>0</td><td>0</td><td>0.3</td><td>-1</td><td>1</td><td>337</td><td>0.2</td><td>336</td><td>337</td><td>0</td><td>0.1</td></tr><tr><th>&vellip;</th><td>&vellip;</td><td>&vellip;</td><td>&vellip;</td><td>&vellip;</td><td>&vellip;</td><td>&vellip;</td><td>&vellip;</td><td>&vellip;</td><td>&vellip;</td><td>&vellip;</td><td>&vellip;</td><td>&vellip;</td><td>&vellip;</td><td>&vellip;</td><td>&vellip;</td><td>&vellip;</td><td>&vellip;</td><td>&vellip;</td><td>&vellip;</td><td>&vellip;</td></tr></tbody></table>"
      ],
      "text/latex": [
       "\\begin{tabular}{r|ccccccccccccccccccccc}\n",
       "\t& Column1 & Column2 & Column3 & Column4 & Column5 & Column6 & Column7 & Column8 & Column9 & Column10 & Column11 & Column12 & Column13 & Column14 & Column15 & Column16 & Column17 & Column18 & Column19 & Column20 & \\\\\n",
       "\t\\hline\n",
       "\t& DateTime & Int64 & Int64? & Float64? & Int64? & Int64? & Int64? & Float64? & Int64? & Int64? & Int64? & Float64? & Int64? & Int64? & Int64? & Float64? & Int64? & Int64? & Int64? & Float64? & \\\\\n",
       "\t\\hline\n",
       "\t1 & 2020-07-01T00:00:00 & 2 & \\emph{missing} & \\emph{missing} & \\emph{missing} & \\emph{missing} & \\emph{missing} & \\emph{missing} & \\emph{missing} & \\emph{missing} & \\emph{missing} & \\emph{missing} & \\emph{missing} & \\emph{missing} & \\emph{missing} & \\emph{missing} & \\emph{missing} & \\emph{missing} & \\emph{missing} & \\emph{missing} & $\\dots$ \\\\\n",
       "\t2 & 2020-07-01T00:01:00 & 2 & 0 & 0.1 & 0 & 0 & 0 & 0.0 & 0 & 0 & 0 & 0.2 & -1 & 0 & 337 & 0.2 & 337 & 338 & 0 & 0.1 & $\\dots$ \\\\\n",
       "\t3 & 2020-07-01T00:02:00 & 2 & 0 & 0.1 & 0 & 0 & 0 & 0.0 & 0 & 0 & 0 & 0.2 & -1 & 0 & 337 & 0.1 & 337 & 338 & 0 & 0.1 & $\\dots$ \\\\\n",
       "\t4 & 2020-07-01T00:03:00 & 2 & 0 & 0.1 & 0 & 0 & 0 & 0.0 & 0 & 0 & 0 & 0.2 & -1 & 1 & 337 & 0.1 & 337 & 337 & 0 & 0.1 & $\\dots$ \\\\\n",
       "\t5 & 2020-07-01T00:04:00 & 2 & 0 & 0.1 & 0 & 0 & 0 & 0.0 & 0 & 0 & 0 & 0.3 & -1 & 1 & 337 & 0.1 & 337 & 337 & 0 & 0.1 & $\\dots$ \\\\\n",
       "\t6 & 2020-07-01T00:05:00 & 2 & 0 & 0.1 & 0 & 0 & 0 & 0.0 & 0 & 0 & 0 & 0.2 & -1 & 0 & 337 & 0.1 & 337 & 337 & 0 & 0.1 & $\\dots$ \\\\\n",
       "\t7 & 2020-07-01T00:06:00 & 2 & 0 & 0.1 & 0 & 0 & 0 & 0.0 & 0 & 0 & 0 & 0.3 & -1 & 1 & 337 & 0.1 & 336 & 337 & 0 & 0.1 & $\\dots$ \\\\\n",
       "\t8 & 2020-07-01T00:07:00 & 2 & 0 & 0.1 & 0 & 0 & 0 & 0.0 & 0 & 0 & 0 & 0.2 & -1 & 0 & 337 & 0.1 & 336 & 337 & 0 & 0.1 & $\\dots$ \\\\\n",
       "\t9 & 2020-07-01T00:08:00 & 2 & 0 & 0.1 & 0 & 0 & 0 & 0.0 & 0 & 0 & 0 & 0.2 & 0 & 1 & 337 & 0.1 & 337 & 337 & 0 & 0.1 & $\\dots$ \\\\\n",
       "\t10 & 2020-07-01T00:09:00 & 2 & 0 & 0.1 & 0 & 0 & 0 & 0.0 & 0 & 0 & 0 & 0.2 & -1 & 0 & 337 & 0.1 & 336 & 337 & 0 & 0.1 & $\\dots$ \\\\\n",
       "\t11 & 2020-07-01T00:10:00 & 2 & 0 & 0.1 & 0 & 0 & 0 & 0.0 & 0 & 0 & 0 & 0.3 & -1 & 1 & 337 & 0.2 & 337 & 337 & 0 & 0.1 & $\\dots$ \\\\\n",
       "\t12 & 2020-07-01T00:11:00 & 2 & 0 & 0.1 & 0 & 0 & 0 & 0.0 & 0 & 0 & 0 & 0.2 & -1 & 0 & 337 & 0.2 & 337 & 338 & 0 & 0.1 & $\\dots$ \\\\\n",
       "\t13 & 2020-07-01T00:12:00 & 2 & 0 & 0.1 & 0 & 0 & 0 & 0.0 & 0 & 0 & 0 & 0.2 & 0 & 1 & 337 & 0.1 & 337 & 337 & 0 & 0.1 & $\\dots$ \\\\\n",
       "\t14 & 2020-07-01T00:13:00 & 2 & 0 & 0.1 & 0 & 0 & 0 & 0.0 & 0 & 0 & 0 & 0.2 & 0 & 1 & 337 & 0.1 & 337 & 337 & 0 & 0.1 & $\\dots$ \\\\\n",
       "\t15 & 2020-07-01T00:14:00 & 2 & 0 & 0.1 & 0 & 0 & 0 & 0.0 & 0 & 0 & 0 & 0.2 & 0 & 0 & 337 & 0.1 & 337 & 337 & 0 & 0.1 & $\\dots$ \\\\\n",
       "\t16 & 2020-07-01T00:15:00 & 2 & 0 & 0.1 & 0 & 0 & 0 & 0.0 & 0 & 0 & 0 & 0.3 & -1 & 1 & 337 & 0.1 & 337 & 337 & 0 & 0.1 & $\\dots$ \\\\\n",
       "\t17 & 2020-07-01T00:16:00 & 2 & 0 & 0.1 & 0 & 0 & 0 & 0.0 & 0 & 0 & 0 & 0.2 & -1 & 0 & 337 & 0.2 & 336 & 337 & 0 & 0.1 & $\\dots$ \\\\\n",
       "\t18 & 2020-07-01T00:17:00 & 2 & 0 & 0.1 & 0 & 0 & 0 & 0.0 & 0 & 0 & 0 & 0.2 & 0 & 0 & 337 & 0.1 & 337 & 337 & 0 & 0.1 & $\\dots$ \\\\\n",
       "\t19 & 2020-07-01T00:18:00 & 2 & 0 & 0.1 & 0 & 0 & 0 & 0.0 & 0 & 0 & 0 & 0.3 & -1 & 1 & 337 & 0.1 & 337 & 337 & 0 & 0.1 & $\\dots$ \\\\\n",
       "\t20 & 2020-07-01T00:19:00 & 2 & 0 & 0.1 & 0 & 0 & 0 & 0.0 & 0 & 0 & 0 & 0.2 & -1 & 1 & 337 & 0.1 & 337 & 337 & 0 & 0.1 & $\\dots$ \\\\\n",
       "\t21 & 2020-07-01T00:20:00 & 2 & 0 & 0.1 & 0 & 0 & 0 & 0.0 & 0 & 0 & 0 & 0.2 & -1 & 0 & 337 & 0.1 & 337 & 337 & 0 & 0.1 & $\\dots$ \\\\\n",
       "\t22 & 2020-07-01T00:21:00 & 2 & 0 & 0.1 & 0 & 0 & 0 & 0.0 & 0 & 0 & 0 & 0.2 & 0 & 0 & 337 & 0.2 & 337 & 337 & 0 & 0.1 & $\\dots$ \\\\\n",
       "\t23 & 2020-07-01T00:22:00 & 2 & 0 & 0.1 & 0 & 0 & 0 & 0.0 & 0 & 0 & 0 & 0.2 & -1 & 1 & 337 & 0.2 & 337 & 337 & 0 & 0.1 & $\\dots$ \\\\\n",
       "\t24 & 2020-07-01T00:23:00 & 2 & 0 & 0.1 & 0 & 0 & 0 & 0.0 & 0 & 0 & 0 & 0.2 & 0 & 0 & 337 & 0.1 & 337 & 337 & 0 & 0.1 & $\\dots$ \\\\\n",
       "\t25 & 2020-07-01T00:24:00 & 2 & 0 & 0.1 & 0 & 0 & 0 & 0.0 & 0 & 0 & 0 & 0.2 & 0 & 1 & 337 & 0.1 & 337 & 337 & 0 & 0.1 & $\\dots$ \\\\\n",
       "\t26 & 2020-07-01T00:25:00 & 2 & 0 & 0.1 & 0 & 0 & 0 & 0.0 & 0 & 0 & 0 & 0.3 & -1 & 1 & 337 & 0.2 & 336 & 337 & 0 & 0.1 & $\\dots$ \\\\\n",
       "\t27 & 2020-07-01T00:26:00 & 2 & 0 & 0.1 & 0 & 0 & 0 & 0.0 & 0 & 0 & 0 & 0.2 & 0 & 1 & 337 & 0.2 & 336 & 337 & 0 & 0.1 & $\\dots$ \\\\\n",
       "\t28 & 2020-07-01T00:27:00 & 2 & 0 & 0.1 & 0 & 0 & 0 & 0.0 & 0 & 0 & 0 & 0.2 & -1 & 0 & 337 & 0.2 & 337 & 337 & 0 & 0.1 & $\\dots$ \\\\\n",
       "\t29 & 2020-07-01T00:28:00 & 2 & 0 & 0.1 & 0 & 0 & 0 & 0.0 & 0 & 0 & 0 & 0.2 & 0 & 1 & 337 & 0.2 & 336 & 337 & 0 & 0.1 & $\\dots$ \\\\\n",
       "\t30 & 2020-07-01T00:29:00 & 2 & 0 & 0.1 & 0 & 0 & 0 & 0.0 & 0 & 0 & 0 & 0.3 & -1 & 1 & 337 & 0.2 & 336 & 337 & 0 & 0.1 & $\\dots$ \\\\\n",
       "\t$\\dots$ & $\\dots$ & $\\dots$ & $\\dots$ & $\\dots$ & $\\dots$ & $\\dots$ & $\\dots$ & $\\dots$ & $\\dots$ & $\\dots$ & $\\dots$ & $\\dots$ & $\\dots$ & $\\dots$ & $\\dots$ & $\\dots$ & $\\dots$ & $\\dots$ & $\\dots$ & $\\dots$ &  \\\\\n",
       "\\end{tabular}\n"
      ],
      "text/plain": [
       "\u001b[1m44640×29 DataFrame\u001b[0m\n",
       "\u001b[1m   Row \u001b[0m│\u001b[1m Column1             \u001b[0m\u001b[1m Column2 \u001b[0m\u001b[1m Column3 \u001b[0m\u001b[1m Column4   \u001b[0m\u001b[1m Column5 \u001b[0m\u001b[1m Column6 \u001b[0m\u001b[1m Column7 \u001b[0m\u001b[1m Column8   \u001b[0m\u001b[1m Column9 \u001b[0m\u001b[1m Column10 \u001b[0m\u001b[1m Column11 \u001b[0m\u001b[1m Column12  \u001b[0m\u001b[1m Column13 \u001b[0m\u001b[1m Column14 \u001b[0m\u001b[1m Column15 \u001b[0m\u001b[1m Column16  \u001b[0m\u001b[1m Column17 \u001b[0m\u001b[1m Column18 \u001b[0m\u001b[1m \u001b[0m ⋯\n",
       "\u001b[1m       \u001b[0m│\u001b[90m DateTime            \u001b[0m\u001b[90m Int64   \u001b[0m\u001b[90m Int64?  \u001b[0m\u001b[90m Float64?  \u001b[0m\u001b[90m Int64?  \u001b[0m\u001b[90m Int64?  \u001b[0m\u001b[90m Int64?  \u001b[0m\u001b[90m Float64?  \u001b[0m\u001b[90m Int64?  \u001b[0m\u001b[90m Int64?   \u001b[0m\u001b[90m Int64?   \u001b[0m\u001b[90m Float64?  \u001b[0m\u001b[90m Int64?   \u001b[0m\u001b[90m Int64?   \u001b[0m\u001b[90m Int64?   \u001b[0m\u001b[90m Float64?  \u001b[0m\u001b[90m Int64?   \u001b[0m\u001b[90m Int64?   \u001b[0m\u001b[90m \u001b[0m ⋯\n",
       "───────┼────────────────────────────────────────────────────────────────────────────────────────────────────────────────────────────────────────────────────────────────────────────────────────────────\n",
       "     1 │ 2020-07-01T00:00:00        2 \u001b[90m missing \u001b[0m\u001b[90m missing   \u001b[0m\u001b[90m missing \u001b[0m\u001b[90m missing \u001b[0m\u001b[90m missing \u001b[0m\u001b[90m missing   \u001b[0m\u001b[90m missing \u001b[0m\u001b[90m  missing \u001b[0m\u001b[90m  missing \u001b[0m\u001b[90m missing   \u001b[0m\u001b[90m  missing \u001b[0m\u001b[90m  missing \u001b[0m\u001b[90m  missing \u001b[0m\u001b[90m missing   \u001b[0m\u001b[90m  missing \u001b[0m\u001b[90m  missing \u001b[0m\u001b[90m \u001b[0m ⋯\n",
       "     2 │ 2020-07-01T00:01:00        2        0        0.1        0        0        0        0.0        0         0         0        0.2        -1         0       337        0.2       337       338\n",
       "     3 │ 2020-07-01T00:02:00        2        0        0.1        0        0        0        0.0        0         0         0        0.2        -1         0       337        0.1       337       338\n",
       "     4 │ 2020-07-01T00:03:00        2        0        0.1        0        0        0        0.0        0         0         0        0.2        -1         1       337        0.1       337       337\n",
       "     5 │ 2020-07-01T00:04:00        2        0        0.1        0        0        0        0.0        0         0         0        0.3        -1         1       337        0.1       337       337   ⋯\n",
       "     6 │ 2020-07-01T00:05:00        2        0        0.1        0        0        0        0.0        0         0         0        0.2        -1         0       337        0.1       337       337\n",
       "     7 │ 2020-07-01T00:06:00        2        0        0.1        0        0        0        0.0        0         0         0        0.3        -1         1       337        0.1       336       337\n",
       "     8 │ 2020-07-01T00:07:00        2        0        0.1        0        0        0        0.0        0         0         0        0.2        -1         0       337        0.1       336       337\n",
       "     9 │ 2020-07-01T00:08:00        2        0        0.1        0        0        0        0.0        0         0         0        0.2         0         1       337        0.1       337       337   ⋯\n",
       "    10 │ 2020-07-01T00:09:00        2        0        0.1        0        0        0        0.0        0         0         0        0.2        -1         0       337        0.1       336       337\n",
       "    11 │ 2020-07-01T00:10:00        2        0        0.1        0        0        0        0.0        0         0         0        0.3        -1         1       337        0.2       337       337\n",
       "   ⋮   │          ⋮              ⋮        ⋮         ⋮         ⋮        ⋮        ⋮         ⋮         ⋮        ⋮         ⋮          ⋮         ⋮         ⋮         ⋮          ⋮         ⋮         ⋮       ⋱\n",
       " 44631 │ 2020-07-31T23:50:00        2        0        0.1        0        0        0        0.0        0         0         0        0.3        -1         1       377        0.5       376       378\n",
       " 44632 │ 2020-07-31T23:51:00        2        0        0.1        0        0        0        0.0        0         0         0        0.3        -1         1       376        0.2       376       377   ⋯\n",
       " 44633 │ 2020-07-31T23:52:00        2        0        0.1        0        0        0        0.0        0         0         0        0.3        -1         1       377        0.5       376       378\n",
       " 44634 │ 2020-07-31T23:53:00        2        0        0.1        0        0        0        0.0        0         0         0        0.2        -1         0       377        0.2       376       377\n",
       " 44635 │ 2020-07-31T23:54:00        2        0        0.1        0        0        0        0.0        0         0         0        0.2        -1         0       375        0.4       375       376\n",
       " 44636 │ 2020-07-31T23:55:00        2        0        0.1        0        0        0        0.0        0         0         0        0.3        -1         1       375        0.3       375       376   ⋯\n",
       " 44637 │ 2020-07-31T23:56:00        2        0        0.1        0        0        0        0.0        0         0         0        0.2        -1         0       376        0.8       375       378\n",
       " 44638 │ 2020-07-31T23:57:00        2        0        0.1        0        0        0        0.0        0         0         0        0.3        -1         1       377        0.2       377       378\n",
       " 44639 │ 2020-07-31T23:58:00        2        0        0.1        0        0        0        0.0        0         0         0        0.3        -1         0       378        0.3       377       378\n",
       " 44640 │ 2020-07-31T23:59:00        2 \u001b[90m missing \u001b[0m\u001b[90m missing   \u001b[0m\u001b[90m missing \u001b[0m\u001b[90m missing \u001b[0m\u001b[90m missing \u001b[0m\u001b[90m missing   \u001b[0m\u001b[90m missing \u001b[0m\u001b[90m  missing \u001b[0m\u001b[90m  missing \u001b[0m\u001b[90m missing   \u001b[0m\u001b[90m  missing \u001b[0m\u001b[90m  missing \u001b[0m\u001b[90m  missing \u001b[0m\u001b[90m missing   \u001b[0m\u001b[90m  missing \u001b[0m\u001b[90m  missing \u001b[0m\u001b[90m \u001b[0m ⋯\n",
       "\u001b[36m                                                                                                                                                                       11 columns and 44619 rows omitted\u001b[0m"
      ]
     },
     "execution_count": 5,
     "metadata": {},
     "output_type": "execute_result"
    }
   ],
   "source": [
    "df = CSV.File(fn; header=false, skipto=42, delim='\\t') |> DataFrame"
   ]
  },
  {
   "cell_type": "code",
   "execution_count": 32,
   "id": "3895a482-3de5-42f9-89bb-96387bc2b96a",
   "metadata": {
    "execution": {
     "iopub.execute_input": "2021-07-26T15:28:15.737000+02:00",
     "iopub.status.busy": "2021-07-26T15:28:15.736000+02:00",
     "iopub.status.idle": "2021-07-26T15:28:16.162000+02:00",
     "shell.execute_reply": "2021-07-26T15:28:16.162000+02:00"
    },
    "tags": []
   },
   "outputs": [
    {
     "data": {
      "text/plain": [
       "280.31551101845"
      ]
     },
     "execution_count": 32,
     "metadata": {},
     "output_type": "execute_result"
    }
   ],
   "source": [
    "mean(skipmissing(rad))"
   ]
  },
  {
   "cell_type": "code",
   "execution_count": 6,
   "id": "18afbc4c-aa25-439a-b9a4-5c39bf34d4f5",
   "metadata": {
    "execution": {
     "iopub.execute_input": "2021-07-29T08:54:57.913000+02:00",
     "iopub.status.busy": "2021-07-29T08:54:57.913000+02:00",
     "iopub.status.idle": "2021-07-29T08:54:59.378000+02:00",
     "shell.execute_reply": "2021-07-29T08:54:59.360000+02:00"
    },
    "scrolled": true,
    "tags": []
   },
   "outputs": [
    {
     "name": "stdout",
     "output_type": "stream",
     "text": [
      "\n",
      "##### NetCDF File #####\n",
      "\n",
      "C:\\Users\\xinyuan.hou\\solCast\\data\\irradiation_PAY_202007_new.nc\n",
      "\n",
      "##### Dimensions #####\n",
      "\n",
      "Name                                                Length                    \n",
      "--------------------------------------------------------------------------------\n",
      "altitude                                            1                         \n",
      "latitude                                            1                         \n",
      "time                                                2976                      \n",
      "longitude                                           1                         \n",
      "\n",
      "##### Variables #####\n",
      "\n",
      "Name                            Type            Dimensions                      \n",
      "--------------------------------------------------------------------------------\n",
      "rely                            DOUBLE          longitude latitude altitude ti..\n",
      "altitude                        DOUBLE          altitude                        \n",
      "time                            INT             time                            \n",
      "CLEAR_SKY_DHI                   DOUBLE          longitude latitude altitude ti..\n",
      "CLEAR_SKY_BHI                   DOUBLE          longitude latitude altitude ti..\n",
      "ut_day                          BYTE            longitude latitude altitude ti..\n",
      "ut_minute                       BYTE            longitude latitude altitude ti..\n",
      "tst_month                       BYTE            longitude latitude altitude ti..\n",
      "CLEAR_SKY_BNI                   DOUBLE          longitude latitude altitude ti..\n",
      "tst_minute                      BYTE            longitude latitude altitude ti..\n",
      "tst_jd                          DOUBLE          longitude latitude altitude ti..\n",
      "ut_second                       DOUBLE          longitude latitude altitude ti..\n",
      "CLEAR_SKY_GHI                   DOUBLE          longitude latitude altitude ti..\n",
      "BNI                             DOUBLE          longitude latitude altitude ti..\n",
      "tst_second                      DOUBLE          longitude latitude altitude ti..\n",
      "ut_month                        BYTE            longitude latitude altitude ti..\n",
      "G0                              DOUBLE          longitude latitude altitude ti..\n",
      "ut_hour                         BYTE            longitude latitude altitude ti..\n",
      "GHI                             DOUBLE          longitude latitude altitude ti..\n",
      "tst_year                        SHORT           longitude latitude altitude ti..\n",
      "latitude                        DOUBLE          latitude                        \n",
      "ut_year                         SHORT           longitude latitude altitude ti..\n",
      "ut_jd                           DOUBLE          longitude latitude altitude ti..\n",
      "tst_hour                        BYTE            longitude latitude altitude ti..\n",
      "longitude                       DOUBLE          longitude                       \n",
      "BHI                             DOUBLE          longitude latitude altitude ti..\n",
      "tst_day                         BYTE            longitude latitude altitude ti..\n",
      "DHI                             DOUBLE          longitude latitude altitude ti..\n",
      "\n",
      "##### Attributes #####\n",
      "\n",
      "Variable            Name                Value                                   \n",
      "--------------------------------------------------------------------------------\n",
      "altitude            units               m                                       \n",
      "altitude            comments            Site altitude in meter                  \n",
      "time                units               seconds since 1970-1-1 00:00:00 +0:00   \n",
      "time                mode                tu                                      \n",
      "time                comments            The instant given for each value corre..\n",
      "CLEAR_SKY_DHI       units               Wh/m2                                   \n",
      "CLEAR_SKY_DHI       comments            Clear Sky Diffuse irradiation on horiz..\n",
      "CLEAR_SKY_BHI       units               Wh/m2                                   \n",
      "CLEAR_SKY_BHI       comments            Clear Sky Beam irradiation on horizont..\n",
      "ut_day              units               day                                     \n",
      "ut_day              comments            UT day                                  \n",
      "ut_minute           units               minute                                  \n",
      "ut_minute           comments            UT minutes                              \n",
      "tst_month           units               month                                   \n",
      "tst_month           comments            TST month                               \n",
      "CLEAR_SKY_BNI       units               Wh/m2                                   \n",
      "CLEAR_SKY_BNI       comments            Clear Sky Beam irradiation on mobile s..\n",
      "tst_minute          units               minute                                  \n",
      "tst_minute          comments            TST minutes                             \n",
      "tst_jd              units               Day                                     \n",
      "tst_jd              comments            Julian Date TST                         \n",
      "ut_second           units               second                                  \n",
      "ut_second           comments            UT seconds                              \n",
      "CLEAR_SKY_GHI       units               Wh/m2                                   \n",
      "CLEAR_SKY_GHI       comments            Clear Sky Global irradiation on horizo..\n",
      "BNI                 units               Wh/m2                                   \n",
      "BNI                 comments            Beam irradiation on mobile surface fol..\n",
      "tst_second          units               second                                  \n",
      "tst_second          comments            TST seconds                             \n",
      "ut_month            units               month                                   \n",
      "ut_month            comments            UT month                                \n",
      "G0                  units               Wh/m2                                   \n",
      "G0                  comments            Irradiation on horizontal plane at the..\n",
      "ut_hour             units               h                                       \n",
      "ut_hour             comments            UT hours                                \n",
      "GHI                 units               Wh/m2                                   \n",
      "GHI                 comments            Global irradiation on horizontal plane..\n",
      "tst_year            units               year                                    \n",
      "tst_year            comments            TST year                                \n",
      "latitude            units               degrees_north                           \n",
      "latitude            comments            Site latitude (positive means North)    \n",
      "ut_year             units               year                                    \n",
      "ut_year             comments            UT year                                 \n",
      "ut_jd               units               Day                                     \n",
      "ut_jd               comments            Julian Date UT                          \n",
      "tst_hour            units               h                                       \n",
      "tst_hour            comments            TST hours                               \n",
      "longitude           units               degrees_east                            \n",
      "longitude           comments            Site longitude (positive means East)    \n",
      "BHI                 units               Wh/m2                                   \n",
      "BHI                 comments            Beam irradiation on horizontal plane a..\n",
      "tst_day             units               day                                     \n",
      "tst_day             comments            TST day                                 \n",
      "DHI                 units               Wh/m2                                   \n",
      "DHI                 comments            Diffuse irradiation on horizontal plan..\n"
     ]
    }
   ],
   "source": [
    "fn1 = joinpath(\"data\", \"irradiation_PAY_202007_new.nc\")\n",
    "ncinfo(fn1)"
   ]
  },
  {
   "cell_type": "code",
   "execution_count": 7,
   "id": "fc7590ab-7706-45a6-8dfd-83395e478d8d",
   "metadata": {
    "execution": {
     "iopub.execute_input": "2021-07-29T08:54:59.379000+02:00",
     "iopub.status.busy": "2021-07-29T08:54:59.379000+02:00",
     "iopub.status.idle": "2021-07-29T08:55:01.812000+02:00",
     "shell.execute_reply": "2021-07-29T08:55:01.812000+02:00"
    },
    "scrolled": true,
    "tags": []
   },
   "outputs": [
    {
     "data": {
      "text/plain": [
       "2-element Vector{Vector{Float64}}:\n",
       " [0.0, 0.0, 0.0, 0.0, 0.0, 0.0, 0.0, 0.0, 0.0, 0.0  …  0.0, 0.0, 0.0, 0.0, 0.0, 0.0, 0.0, 0.0, 0.0, 0.0]\n",
       " [0.0, 0.0, 0.0, 0.0, 0.0, 0.0, 0.0, 0.0, 0.0, 0.0  …  0.0, 0.0, 0.0, 0.0, 0.0, 0.0, 0.0, 0.0, 0.0, 0.0]"
      ]
     },
     "execution_count": 7,
     "metadata": {},
     "output_type": "execute_result"
    }
   ],
   "source": [
    "ghi, ghiCS = getNCvar.(fn1, [\"GHI\", \"CLEAR_SKY_GHI\"])"
   ]
  },
  {
   "cell_type": "code",
   "execution_count": 8,
   "id": "1582a951-f844-4986-88c6-062eaf6f31f6",
   "metadata": {
    "execution": {
     "iopub.execute_input": "2021-07-29T08:55:01.813000+02:00",
     "iopub.status.busy": "2021-07-29T08:55:01.812000+02:00",
     "iopub.status.idle": "2021-07-29T08:55:03.418000+02:00",
     "shell.execute_reply": "2021-07-29T08:55:03.417000+02:00"
    },
    "tags": []
   },
   "outputs": [
    {
     "data": {
      "text/plain": [
       "3-element Vector{Vector{Int8}}:\n",
       " [1, 1, 1, 1, 1, 1, 1, 1, 1, 1  …  31, 31, 31, 31, 31, 31, 31, 31, 31, 1]\n",
       " [0, 0, 0, 1, 1, 1, 1, 2, 2, 2  …  21, 22, 22, 22, 22, 23, 23, 23, 23, 0]\n",
       " [15, 30, 45, 0, 15, 30, 45, 0, 15, 30  …  45, 0, 15, 30, 45, 0, 15, 30, 45, 0]"
      ]
     },
     "execution_count": 8,
     "metadata": {},
     "output_type": "execute_result"
    }
   ],
   "source": [
    "day, hour, minute = getNCvar.(fn1, [\"ut_day\", \"ut_hour\", \"ut_minute\"])"
   ]
  },
  {
   "cell_type": "code",
   "execution_count": 6,
   "id": "38b8babd-da19-4950-bfa4-2f8e7b3dac71",
   "metadata": {
    "execution": {
     "iopub.execute_input": "2021-07-28T11:37:59.934000+02:00",
     "iopub.status.busy": "2021-07-28T11:37:59.934000+02:00",
     "iopub.status.idle": "2021-07-28T11:38:00.719000+02:00",
     "shell.execute_reply": "2021-07-28T11:38:00.719000+02:00"
    },
    "tags": []
   },
   "outputs": [
    {
     "name": "stdout",
     "output_type": "stream",
     "text": [
      "Summary Stats:\n",
      "Length:         2976\n",
      "Missing Count:  0\n",
      "Mean:           69.732237\n",
      "Minimum:        0.000000\n",
      "1st Quartile:   0.000000\n",
      "Median:         34.057938\n",
      "3rd Quartile:   133.410385\n",
      "Maximum:        243.231216\n",
      "Type:           Float64\n"
     ]
    }
   ],
   "source": [
    "describe(ghi)"
   ]
  },
  {
   "cell_type": "code",
   "execution_count": 7,
   "id": "0996b745-691a-4e26-8657-f17c8b7262d8",
   "metadata": {
    "collapsed": true,
    "execution": {
     "iopub.execute_input": "2021-07-28T11:38:03.772000+02:00",
     "iopub.status.busy": "2021-07-28T11:38:03.772000+02:00",
     "iopub.status.idle": "2021-07-28T11:38:03.774000+02:00",
     "shell.execute_reply": "2021-07-28T11:38:03.774000+02:00"
    },
    "jupyter": {
     "outputs_hidden": true
    },
    "tags": []
   },
   "outputs": [
    {
     "name": "stdout",
     "output_type": "stream",
     "text": [
      "Summary Stats:\n",
      "Length:         2976\n",
      "Missing Count:  0\n",
      "Mean:           85.963410\n",
      "Minimum:        0.000000\n",
      "1st Quartile:   0.000000\n",
      "Median:         50.905798\n",
      "3rd Quartile:   178.188423\n",
      "Maximum:        246.674347\n",
      "Type:           Float64\n"
     ]
    }
   ],
   "source": [
    "describe(ghiCS)"
   ]
  },
  {
   "cell_type": "code",
   "execution_count": 20,
   "id": "8f828cc8-2fd1-4f8a-b82d-8cb2f85b63bd",
   "metadata": {
    "collapsed": true,
    "execution": {
     "iopub.execute_input": "2021-07-27T15:23:37.399000+02:00",
     "iopub.status.busy": "2021-07-27T15:23:37.398000+02:00",
     "iopub.status.idle": "2021-07-27T15:23:38.139000+02:00",
     "shell.execute_reply": "2021-07-27T15:23:38.139000+02:00"
    },
    "jupyter": {
     "outputs_hidden": true
    },
    "tags": []
   },
   "outputs": [
    {
     "name": "stdout",
     "output_type": "stream",
     "text": [
      "Summary Stats:\n",
      "Length:         2976\n",
      "Missing Count:  0\n",
      "Mean:           85.963410\n",
      "Minimum:        0.000000\n",
      "1st Quartile:   0.000000\n",
      "Median:         50.905798\n",
      "3rd Quartile:   178.188423\n",
      "Maximum:        246.674347\n",
      "Type:           Float64\n"
     ]
    }
   ],
   "source": [
    "describe(ghiCS)"
   ]
  },
  {
   "cell_type": "markdown",
   "id": "6dc48bbc-b6ca-4210-b795-629c93f9540f",
   "metadata": {},
   "source": [
    "### Day1"
   ]
  },
  {
   "cell_type": "code",
   "execution_count": 9,
   "id": "7064871c-b2f7-498a-a7da-a4b6d16f7d7d",
   "metadata": {
    "execution": {
     "iopub.execute_input": "2021-07-29T08:55:19.902000+02:00",
     "iopub.status.busy": "2021-07-29T08:55:19.901000+02:00",
     "iopub.status.idle": "2021-07-29T08:55:20.187000+02:00",
     "shell.execute_reply": "2021-07-29T08:55:20.187000+02:00"
    },
    "scrolled": true,
    "tags": []
   },
   "outputs": [
    {
     "data": {
      "text/html": [
       "<table class=\"data-frame\"><thead><tr><th></th><th>time</th><th>swd</th><th>dir</th><th>dif</th></tr><tr><th></th><th>DateTime</th><th>Int64?</th><th>Int64?</th><th>Int64?</th></tr></thead><tbody><p>1,440 rows × 4 columns</p><tr><th>1</th><td>2020-07-01T00:00:00</td><td><em>missing</em></td><td><em>missing</em></td><td><em>missing</em></td></tr><tr><th>2</th><td>2020-07-01T00:01:00</td><td>0</td><td>0</td><td>0</td></tr><tr><th>3</th><td>2020-07-01T00:02:00</td><td>0</td><td>0</td><td>0</td></tr><tr><th>4</th><td>2020-07-01T00:03:00</td><td>0</td><td>0</td><td>0</td></tr><tr><th>5</th><td>2020-07-01T00:04:00</td><td>0</td><td>0</td><td>0</td></tr><tr><th>6</th><td>2020-07-01T00:05:00</td><td>0</td><td>0</td><td>0</td></tr><tr><th>7</th><td>2020-07-01T00:06:00</td><td>0</td><td>0</td><td>0</td></tr><tr><th>8</th><td>2020-07-01T00:07:00</td><td>0</td><td>0</td><td>0</td></tr><tr><th>9</th><td>2020-07-01T00:08:00</td><td>0</td><td>0</td><td>0</td></tr><tr><th>10</th><td>2020-07-01T00:09:00</td><td>0</td><td>0</td><td>0</td></tr><tr><th>11</th><td>2020-07-01T00:10:00</td><td>0</td><td>0</td><td>0</td></tr><tr><th>12</th><td>2020-07-01T00:11:00</td><td>0</td><td>0</td><td>0</td></tr><tr><th>13</th><td>2020-07-01T00:12:00</td><td>0</td><td>0</td><td>0</td></tr><tr><th>14</th><td>2020-07-01T00:13:00</td><td>0</td><td>0</td><td>0</td></tr><tr><th>15</th><td>2020-07-01T00:14:00</td><td>0</td><td>0</td><td>0</td></tr><tr><th>16</th><td>2020-07-01T00:15:00</td><td>0</td><td>0</td><td>0</td></tr><tr><th>17</th><td>2020-07-01T00:16:00</td><td>0</td><td>0</td><td>0</td></tr><tr><th>18</th><td>2020-07-01T00:17:00</td><td>0</td><td>0</td><td>0</td></tr><tr><th>19</th><td>2020-07-01T00:18:00</td><td>0</td><td>0</td><td>0</td></tr><tr><th>20</th><td>2020-07-01T00:19:00</td><td>0</td><td>0</td><td>0</td></tr><tr><th>21</th><td>2020-07-01T00:20:00</td><td>0</td><td>0</td><td>0</td></tr><tr><th>22</th><td>2020-07-01T00:21:00</td><td>0</td><td>0</td><td>0</td></tr><tr><th>23</th><td>2020-07-01T00:22:00</td><td>0</td><td>0</td><td>0</td></tr><tr><th>24</th><td>2020-07-01T00:23:00</td><td>0</td><td>0</td><td>0</td></tr><tr><th>25</th><td>2020-07-01T00:24:00</td><td>0</td><td>0</td><td>0</td></tr><tr><th>26</th><td>2020-07-01T00:25:00</td><td>0</td><td>0</td><td>0</td></tr><tr><th>27</th><td>2020-07-01T00:26:00</td><td>0</td><td>0</td><td>0</td></tr><tr><th>28</th><td>2020-07-01T00:27:00</td><td>0</td><td>0</td><td>0</td></tr><tr><th>29</th><td>2020-07-01T00:28:00</td><td>0</td><td>0</td><td>0</td></tr><tr><th>30</th><td>2020-07-01T00:29:00</td><td>0</td><td>0</td><td>0</td></tr><tr><th>&vellip;</th><td>&vellip;</td><td>&vellip;</td><td>&vellip;</td><td>&vellip;</td></tr></tbody></table>"
      ],
      "text/latex": [
       "\\begin{tabular}{r|cccc}\n",
       "\t& time & swd & dir & dif\\\\\n",
       "\t\\hline\n",
       "\t& DateTime & Int64? & Int64? & Int64?\\\\\n",
       "\t\\hline\n",
       "\t1 & 2020-07-01T00:00:00 & \\emph{missing} & \\emph{missing} & \\emph{missing} \\\\\n",
       "\t2 & 2020-07-01T00:01:00 & 0 & 0 & 0 \\\\\n",
       "\t3 & 2020-07-01T00:02:00 & 0 & 0 & 0 \\\\\n",
       "\t4 & 2020-07-01T00:03:00 & 0 & 0 & 0 \\\\\n",
       "\t5 & 2020-07-01T00:04:00 & 0 & 0 & 0 \\\\\n",
       "\t6 & 2020-07-01T00:05:00 & 0 & 0 & 0 \\\\\n",
       "\t7 & 2020-07-01T00:06:00 & 0 & 0 & 0 \\\\\n",
       "\t8 & 2020-07-01T00:07:00 & 0 & 0 & 0 \\\\\n",
       "\t9 & 2020-07-01T00:08:00 & 0 & 0 & 0 \\\\\n",
       "\t10 & 2020-07-01T00:09:00 & 0 & 0 & 0 \\\\\n",
       "\t11 & 2020-07-01T00:10:00 & 0 & 0 & 0 \\\\\n",
       "\t12 & 2020-07-01T00:11:00 & 0 & 0 & 0 \\\\\n",
       "\t13 & 2020-07-01T00:12:00 & 0 & 0 & 0 \\\\\n",
       "\t14 & 2020-07-01T00:13:00 & 0 & 0 & 0 \\\\\n",
       "\t15 & 2020-07-01T00:14:00 & 0 & 0 & 0 \\\\\n",
       "\t16 & 2020-07-01T00:15:00 & 0 & 0 & 0 \\\\\n",
       "\t17 & 2020-07-01T00:16:00 & 0 & 0 & 0 \\\\\n",
       "\t18 & 2020-07-01T00:17:00 & 0 & 0 & 0 \\\\\n",
       "\t19 & 2020-07-01T00:18:00 & 0 & 0 & 0 \\\\\n",
       "\t20 & 2020-07-01T00:19:00 & 0 & 0 & 0 \\\\\n",
       "\t21 & 2020-07-01T00:20:00 & 0 & 0 & 0 \\\\\n",
       "\t22 & 2020-07-01T00:21:00 & 0 & 0 & 0 \\\\\n",
       "\t23 & 2020-07-01T00:22:00 & 0 & 0 & 0 \\\\\n",
       "\t24 & 2020-07-01T00:23:00 & 0 & 0 & 0 \\\\\n",
       "\t25 & 2020-07-01T00:24:00 & 0 & 0 & 0 \\\\\n",
       "\t26 & 2020-07-01T00:25:00 & 0 & 0 & 0 \\\\\n",
       "\t27 & 2020-07-01T00:26:00 & 0 & 0 & 0 \\\\\n",
       "\t28 & 2020-07-01T00:27:00 & 0 & 0 & 0 \\\\\n",
       "\t29 & 2020-07-01T00:28:00 & 0 & 0 & 0 \\\\\n",
       "\t30 & 2020-07-01T00:29:00 & 0 & 0 & 0 \\\\\n",
       "\t$\\dots$ & $\\dots$ & $\\dots$ & $\\dots$ & $\\dots$ \\\\\n",
       "\\end{tabular}\n"
      ],
      "text/plain": [
       "\u001b[1m1440×4 DataFrame\u001b[0m\n",
       "\u001b[1m  Row \u001b[0m│\u001b[1m time                \u001b[0m\u001b[1m swd     \u001b[0m\u001b[1m dir     \u001b[0m\u001b[1m dif     \u001b[0m\n",
       "\u001b[1m      \u001b[0m│\u001b[90m DateTime            \u001b[0m\u001b[90m Int64?  \u001b[0m\u001b[90m Int64?  \u001b[0m\u001b[90m Int64?  \u001b[0m\n",
       "──────┼────────────────────────────────────────────────\n",
       "    1 │ 2020-07-01T00:00:00 \u001b[90m missing \u001b[0m\u001b[90m missing \u001b[0m\u001b[90m missing \u001b[0m\n",
       "    2 │ 2020-07-01T00:01:00        0        0        0\n",
       "    3 │ 2020-07-01T00:02:00        0        0        0\n",
       "    4 │ 2020-07-01T00:03:00        0        0        0\n",
       "    5 │ 2020-07-01T00:04:00        0        0        0\n",
       "    6 │ 2020-07-01T00:05:00        0        0        0\n",
       "    7 │ 2020-07-01T00:06:00        0        0        0\n",
       "    8 │ 2020-07-01T00:07:00        0        0        0\n",
       "    9 │ 2020-07-01T00:08:00        0        0        0\n",
       "   10 │ 2020-07-01T00:09:00        0        0        0\n",
       "   11 │ 2020-07-01T00:10:00        0        0        0\n",
       "  ⋮   │          ⋮              ⋮        ⋮        ⋮\n",
       " 1431 │ 2020-07-01T23:50:00        0        0        0\n",
       " 1432 │ 2020-07-01T23:51:00        0        0        0\n",
       " 1433 │ 2020-07-01T23:52:00        0        0        0\n",
       " 1434 │ 2020-07-01T23:53:00        0        0        0\n",
       " 1435 │ 2020-07-01T23:54:00        0        0        0\n",
       " 1436 │ 2020-07-01T23:55:00        0        0        0\n",
       " 1437 │ 2020-07-01T23:56:00        0        0        0\n",
       " 1438 │ 2020-07-01T23:57:00        0        0        0\n",
       " 1439 │ 2020-07-01T23:58:00        0        0        0\n",
       " 1440 │ 2020-07-01T23:59:00        0        0        0\n",
       "\u001b[36m                                      1419 rows omitted\u001b[0m"
      ]
     },
     "execution_count": 9,
     "metadata": {},
     "output_type": "execute_result"
    }
   ],
   "source": [
    "day1 = df[1:1440, [1,3,7,11]]\n",
    "DataFrames.rename!(day1, [:time, :swd, :dir, :dif])"
   ]
  },
  {
   "cell_type": "code",
   "execution_count": 52,
   "id": "4c0978d6-b857-4f85-be79-7a1c7d4fad7f",
   "metadata": {
    "collapsed": true,
    "execution": {
     "iopub.execute_input": "2021-07-27T15:46:43.176000+02:00",
     "iopub.status.busy": "2021-07-27T15:46:43.176000+02:00",
     "iopub.status.idle": "2021-07-27T15:46:44.614000+02:00",
     "shell.execute_reply": "2021-07-27T15:46:44.613000+02:00"
    },
    "jupyter": {
     "outputs_hidden": true
    },
    "tags": []
   },
   "outputs": [
    {
     "data": {
      "text/plain": [
       "1440-element Vector{Union{Missing, Int64}}:\n",
       "  missing\n",
       " 0\n",
       " 0\n",
       " 0\n",
       " 0\n",
       " 0\n",
       " 0\n",
       " 0\n",
       " 0\n",
       " 0\n",
       " 0\n",
       " 0\n",
       " 0\n",
       " ⋮\n",
       " 0\n",
       " 0\n",
       " 0\n",
       " 0\n",
       " 0\n",
       " 0\n",
       " 0\n",
       " 0\n",
       " 0\n",
       " 0\n",
       " 0\n",
       " 0"
      ]
     },
     "execution_count": 52,
     "metadata": {},
     "output_type": "execute_result"
    }
   ],
   "source": [
    "day1.ghi = day1.dir + day1.dif"
   ]
  },
  {
   "cell_type": "code",
   "execution_count": 53,
   "id": "b5e995f1-88a3-4552-90a2-a314b066d8f4",
   "metadata": {
    "execution": {
     "iopub.execute_input": "2021-07-27T15:47:04.073000+02:00",
     "iopub.status.busy": "2021-07-27T15:47:04.073000+02:00",
     "iopub.status.idle": "2021-07-27T15:47:04.131000+02:00",
     "shell.execute_reply": "2021-07-27T15:47:04.131000+02:00"
    }
   },
   "outputs": [
    {
     "data": {
      "text/plain": [
       "385.75330090340515"
      ]
     },
     "execution_count": 53,
     "metadata": {},
     "output_type": "execute_result"
    }
   ],
   "source": [
    "mean(skipmissing(day1.ghi))"
   ]
  },
  {
   "cell_type": "code",
   "execution_count": 28,
   "id": "6d723902-e1b4-4ff3-a9f4-1d39656d76fd",
   "metadata": {
    "execution": {
     "iopub.execute_input": "2021-07-27T15:31:06.616000+02:00",
     "iopub.status.busy": "2021-07-27T15:31:06.615000+02:00",
     "iopub.status.idle": "2021-07-27T15:31:06.626000+02:00",
     "shell.execute_reply": "2021-07-27T15:31:06.626000+02:00"
    },
    "scrolled": true,
    "tags": []
   },
   "outputs": [
    {
     "data": {
      "text/html": [
       "<table class=\"data-frame\"><thead><tr><th></th><th>time</th><th>swd</th></tr><tr><th></th><th>DateTime</th><th>Int64?</th></tr></thead><tbody><p>1,440 rows × 2 columns</p><tr><th>1</th><td>2020-07-01T00:00:00</td><td><em>missing</em></td></tr><tr><th>2</th><td>2020-07-01T00:01:00</td><td>0</td></tr><tr><th>3</th><td>2020-07-01T00:02:00</td><td>0</td></tr><tr><th>4</th><td>2020-07-01T00:03:00</td><td>0</td></tr><tr><th>5</th><td>2020-07-01T00:04:00</td><td>0</td></tr><tr><th>6</th><td>2020-07-01T00:05:00</td><td>0</td></tr><tr><th>7</th><td>2020-07-01T00:06:00</td><td>0</td></tr><tr><th>8</th><td>2020-07-01T00:07:00</td><td>0</td></tr><tr><th>9</th><td>2020-07-01T00:08:00</td><td>0</td></tr><tr><th>10</th><td>2020-07-01T00:09:00</td><td>0</td></tr><tr><th>11</th><td>2020-07-01T00:10:00</td><td>0</td></tr><tr><th>12</th><td>2020-07-01T00:11:00</td><td>0</td></tr><tr><th>13</th><td>2020-07-01T00:12:00</td><td>0</td></tr><tr><th>14</th><td>2020-07-01T00:13:00</td><td>0</td></tr><tr><th>15</th><td>2020-07-01T00:14:00</td><td>0</td></tr><tr><th>16</th><td>2020-07-01T00:15:00</td><td>0</td></tr><tr><th>17</th><td>2020-07-01T00:16:00</td><td>0</td></tr><tr><th>18</th><td>2020-07-01T00:17:00</td><td>0</td></tr><tr><th>19</th><td>2020-07-01T00:18:00</td><td>0</td></tr><tr><th>20</th><td>2020-07-01T00:19:00</td><td>0</td></tr><tr><th>21</th><td>2020-07-01T00:20:00</td><td>0</td></tr><tr><th>22</th><td>2020-07-01T00:21:00</td><td>0</td></tr><tr><th>23</th><td>2020-07-01T00:22:00</td><td>0</td></tr><tr><th>24</th><td>2020-07-01T00:23:00</td><td>0</td></tr><tr><th>25</th><td>2020-07-01T00:24:00</td><td>0</td></tr><tr><th>26</th><td>2020-07-01T00:25:00</td><td>0</td></tr><tr><th>27</th><td>2020-07-01T00:26:00</td><td>0</td></tr><tr><th>28</th><td>2020-07-01T00:27:00</td><td>0</td></tr><tr><th>29</th><td>2020-07-01T00:28:00</td><td>0</td></tr><tr><th>30</th><td>2020-07-01T00:29:00</td><td>0</td></tr><tr><th>&vellip;</th><td>&vellip;</td><td>&vellip;</td></tr></tbody></table>"
      ],
      "text/latex": [
       "\\begin{tabular}{r|cc}\n",
       "\t& time & swd\\\\\n",
       "\t\\hline\n",
       "\t& DateTime & Int64?\\\\\n",
       "\t\\hline\n",
       "\t1 & 2020-07-01T00:00:00 & \\emph{missing} \\\\\n",
       "\t2 & 2020-07-01T00:01:00 & 0 \\\\\n",
       "\t3 & 2020-07-01T00:02:00 & 0 \\\\\n",
       "\t4 & 2020-07-01T00:03:00 & 0 \\\\\n",
       "\t5 & 2020-07-01T00:04:00 & 0 \\\\\n",
       "\t6 & 2020-07-01T00:05:00 & 0 \\\\\n",
       "\t7 & 2020-07-01T00:06:00 & 0 \\\\\n",
       "\t8 & 2020-07-01T00:07:00 & 0 \\\\\n",
       "\t9 & 2020-07-01T00:08:00 & 0 \\\\\n",
       "\t10 & 2020-07-01T00:09:00 & 0 \\\\\n",
       "\t11 & 2020-07-01T00:10:00 & 0 \\\\\n",
       "\t12 & 2020-07-01T00:11:00 & 0 \\\\\n",
       "\t13 & 2020-07-01T00:12:00 & 0 \\\\\n",
       "\t14 & 2020-07-01T00:13:00 & 0 \\\\\n",
       "\t15 & 2020-07-01T00:14:00 & 0 \\\\\n",
       "\t16 & 2020-07-01T00:15:00 & 0 \\\\\n",
       "\t17 & 2020-07-01T00:16:00 & 0 \\\\\n",
       "\t18 & 2020-07-01T00:17:00 & 0 \\\\\n",
       "\t19 & 2020-07-01T00:18:00 & 0 \\\\\n",
       "\t20 & 2020-07-01T00:19:00 & 0 \\\\\n",
       "\t21 & 2020-07-01T00:20:00 & 0 \\\\\n",
       "\t22 & 2020-07-01T00:21:00 & 0 \\\\\n",
       "\t23 & 2020-07-01T00:22:00 & 0 \\\\\n",
       "\t24 & 2020-07-01T00:23:00 & 0 \\\\\n",
       "\t25 & 2020-07-01T00:24:00 & 0 \\\\\n",
       "\t26 & 2020-07-01T00:25:00 & 0 \\\\\n",
       "\t27 & 2020-07-01T00:26:00 & 0 \\\\\n",
       "\t28 & 2020-07-01T00:27:00 & 0 \\\\\n",
       "\t29 & 2020-07-01T00:28:00 & 0 \\\\\n",
       "\t30 & 2020-07-01T00:29:00 & 0 \\\\\n",
       "\t$\\dots$ & $\\dots$ & $\\dots$ \\\\\n",
       "\\end{tabular}\n"
      ],
      "text/plain": [
       "\u001b[1m1440×2 DataFrame\u001b[0m\n",
       "\u001b[1m  Row \u001b[0m│\u001b[1m time                \u001b[0m\u001b[1m swd     \u001b[0m\n",
       "\u001b[1m      \u001b[0m│\u001b[90m DateTime            \u001b[0m\u001b[90m Int64?  \u001b[0m\n",
       "──────┼──────────────────────────────\n",
       "    1 │ 2020-07-01T00:00:00 \u001b[90m missing \u001b[0m\n",
       "    2 │ 2020-07-01T00:01:00        0\n",
       "    3 │ 2020-07-01T00:02:00        0\n",
       "    4 │ 2020-07-01T00:03:00        0\n",
       "    5 │ 2020-07-01T00:04:00        0\n",
       "    6 │ 2020-07-01T00:05:00        0\n",
       "    7 │ 2020-07-01T00:06:00        0\n",
       "    8 │ 2020-07-01T00:07:00        0\n",
       "    9 │ 2020-07-01T00:08:00        0\n",
       "   10 │ 2020-07-01T00:09:00        0\n",
       "   11 │ 2020-07-01T00:10:00        0\n",
       "  ⋮   │          ⋮              ⋮\n",
       " 1431 │ 2020-07-01T23:50:00        0\n",
       " 1432 │ 2020-07-01T23:51:00        0\n",
       " 1433 │ 2020-07-01T23:52:00        0\n",
       " 1434 │ 2020-07-01T23:53:00        0\n",
       " 1435 │ 2020-07-01T23:54:00        0\n",
       " 1436 │ 2020-07-01T23:55:00        0\n",
       " 1437 │ 2020-07-01T23:56:00        0\n",
       " 1438 │ 2020-07-01T23:57:00        0\n",
       " 1439 │ 2020-07-01T23:58:00        0\n",
       " 1440 │ 2020-07-01T23:59:00        0\n",
       "\u001b[36m                    1419 rows omitted\u001b[0m"
      ]
     },
     "execution_count": 28,
     "metadata": {},
     "output_type": "execute_result"
    }
   ],
   "source": [
    "day1 = df[1:1440, [1,3]]\n",
    "DataFrames.rename!(day1, [:time, :swd])"
   ]
  },
  {
   "cell_type": "code",
   "execution_count": 113,
   "id": "1040dd35-238c-42f1-b076-52cc2c59bf45",
   "metadata": {
    "collapsed": true,
    "execution": {
     "iopub.execute_input": "2021-07-26T17:00:20.815000+02:00",
     "iopub.status.busy": "2021-07-26T17:00:20.814000+02:00",
     "iopub.status.idle": "2021-07-26T17:00:21.025000+02:00",
     "shell.execute_reply": "2021-07-26T17:00:21.024000+02:00"
    },
    "jupyter": {
     "outputs_hidden": true
    },
    "tags": []
   },
   "outputs": [
    {
     "data": {
      "text/plain": [
       "1440-element Vector{Union{Missing, Float64}}:\n",
       "    missing\n",
       " NaN\n",
       " NaN\n",
       " NaN\n",
       " NaN\n",
       " NaN\n",
       " NaN\n",
       " NaN\n",
       " NaN\n",
       " NaN\n",
       " NaN\n",
       " NaN\n",
       " NaN\n",
       "   ⋮\n",
       " NaN\n",
       " NaN\n",
       " NaN\n",
       " NaN\n",
       " NaN\n",
       " NaN\n",
       " NaN\n",
       " NaN\n",
       " NaN\n",
       " NaN\n",
       " NaN\n",
       " NaN"
      ]
     },
     "execution_count": 113,
     "metadata": {},
     "output_type": "execute_result"
    }
   ],
   "source": [
    "day1.cmf = day1.swd ./ day1.dir"
   ]
  },
  {
   "cell_type": "code",
   "execution_count": 10,
   "id": "a1cf1a57-a0cb-441c-ab35-d45a07c80c82",
   "metadata": {
    "execution": {
     "iopub.execute_input": "2021-07-29T08:55:27.814000+02:00",
     "iopub.status.busy": "2021-07-29T08:55:27.814000+02:00",
     "iopub.status.idle": "2021-07-29T08:55:28.409000+02:00",
     "shell.execute_reply": "2021-07-29T08:55:28.408000+02:00"
    },
    "scrolled": true,
    "tags": []
   },
   "outputs": [
    {
     "data": {
      "text/html": [
       "<table class=\"data-frame\"><thead><tr><th></th><th>time</th><th>swd</th><th>dir</th><th>dif</th></tr><tr><th></th><th>DateTime</th><th>Int64?</th><th>Int64?</th><th>Int64?</th></tr></thead><tbody><p>1,440 rows × 4 columns</p><tr><th>1</th><td>2020-07-01T00:00:00</td><td><em>missing</em></td><td><em>missing</em></td><td><em>missing</em></td></tr><tr><th>2</th><td>2020-07-01T00:15:00</td><td>0</td><td>0</td><td>0</td></tr><tr><th>3</th><td>2020-07-01T00:15:00</td><td>0</td><td>0</td><td>0</td></tr><tr><th>4</th><td>2020-07-01T00:15:00</td><td>0</td><td>0</td><td>0</td></tr><tr><th>5</th><td>2020-07-01T00:15:00</td><td>0</td><td>0</td><td>0</td></tr><tr><th>6</th><td>2020-07-01T00:15:00</td><td>0</td><td>0</td><td>0</td></tr><tr><th>7</th><td>2020-07-01T00:15:00</td><td>0</td><td>0</td><td>0</td></tr><tr><th>8</th><td>2020-07-01T00:15:00</td><td>0</td><td>0</td><td>0</td></tr><tr><th>9</th><td>2020-07-01T00:15:00</td><td>0</td><td>0</td><td>0</td></tr><tr><th>10</th><td>2020-07-01T00:15:00</td><td>0</td><td>0</td><td>0</td></tr><tr><th>11</th><td>2020-07-01T00:15:00</td><td>0</td><td>0</td><td>0</td></tr><tr><th>12</th><td>2020-07-01T00:15:00</td><td>0</td><td>0</td><td>0</td></tr><tr><th>13</th><td>2020-07-01T00:15:00</td><td>0</td><td>0</td><td>0</td></tr><tr><th>14</th><td>2020-07-01T00:15:00</td><td>0</td><td>0</td><td>0</td></tr><tr><th>15</th><td>2020-07-01T00:15:00</td><td>0</td><td>0</td><td>0</td></tr><tr><th>16</th><td>2020-07-01T00:15:00</td><td>0</td><td>0</td><td>0</td></tr><tr><th>17</th><td>2020-07-01T00:30:00</td><td>0</td><td>0</td><td>0</td></tr><tr><th>18</th><td>2020-07-01T00:30:00</td><td>0</td><td>0</td><td>0</td></tr><tr><th>19</th><td>2020-07-01T00:30:00</td><td>0</td><td>0</td><td>0</td></tr><tr><th>20</th><td>2020-07-01T00:30:00</td><td>0</td><td>0</td><td>0</td></tr><tr><th>21</th><td>2020-07-01T00:30:00</td><td>0</td><td>0</td><td>0</td></tr><tr><th>22</th><td>2020-07-01T00:30:00</td><td>0</td><td>0</td><td>0</td></tr><tr><th>23</th><td>2020-07-01T00:30:00</td><td>0</td><td>0</td><td>0</td></tr><tr><th>24</th><td>2020-07-01T00:30:00</td><td>0</td><td>0</td><td>0</td></tr><tr><th>25</th><td>2020-07-01T00:30:00</td><td>0</td><td>0</td><td>0</td></tr><tr><th>26</th><td>2020-07-01T00:30:00</td><td>0</td><td>0</td><td>0</td></tr><tr><th>27</th><td>2020-07-01T00:30:00</td><td>0</td><td>0</td><td>0</td></tr><tr><th>28</th><td>2020-07-01T00:30:00</td><td>0</td><td>0</td><td>0</td></tr><tr><th>29</th><td>2020-07-01T00:30:00</td><td>0</td><td>0</td><td>0</td></tr><tr><th>30</th><td>2020-07-01T00:30:00</td><td>0</td><td>0</td><td>0</td></tr><tr><th>&vellip;</th><td>&vellip;</td><td>&vellip;</td><td>&vellip;</td><td>&vellip;</td></tr></tbody></table>"
      ],
      "text/latex": [
       "\\begin{tabular}{r|cccc}\n",
       "\t& time & swd & dir & dif\\\\\n",
       "\t\\hline\n",
       "\t& DateTime & Int64? & Int64? & Int64?\\\\\n",
       "\t\\hline\n",
       "\t1 & 2020-07-01T00:00:00 & \\emph{missing} & \\emph{missing} & \\emph{missing} \\\\\n",
       "\t2 & 2020-07-01T00:15:00 & 0 & 0 & 0 \\\\\n",
       "\t3 & 2020-07-01T00:15:00 & 0 & 0 & 0 \\\\\n",
       "\t4 & 2020-07-01T00:15:00 & 0 & 0 & 0 \\\\\n",
       "\t5 & 2020-07-01T00:15:00 & 0 & 0 & 0 \\\\\n",
       "\t6 & 2020-07-01T00:15:00 & 0 & 0 & 0 \\\\\n",
       "\t7 & 2020-07-01T00:15:00 & 0 & 0 & 0 \\\\\n",
       "\t8 & 2020-07-01T00:15:00 & 0 & 0 & 0 \\\\\n",
       "\t9 & 2020-07-01T00:15:00 & 0 & 0 & 0 \\\\\n",
       "\t10 & 2020-07-01T00:15:00 & 0 & 0 & 0 \\\\\n",
       "\t11 & 2020-07-01T00:15:00 & 0 & 0 & 0 \\\\\n",
       "\t12 & 2020-07-01T00:15:00 & 0 & 0 & 0 \\\\\n",
       "\t13 & 2020-07-01T00:15:00 & 0 & 0 & 0 \\\\\n",
       "\t14 & 2020-07-01T00:15:00 & 0 & 0 & 0 \\\\\n",
       "\t15 & 2020-07-01T00:15:00 & 0 & 0 & 0 \\\\\n",
       "\t16 & 2020-07-01T00:15:00 & 0 & 0 & 0 \\\\\n",
       "\t17 & 2020-07-01T00:30:00 & 0 & 0 & 0 \\\\\n",
       "\t18 & 2020-07-01T00:30:00 & 0 & 0 & 0 \\\\\n",
       "\t19 & 2020-07-01T00:30:00 & 0 & 0 & 0 \\\\\n",
       "\t20 & 2020-07-01T00:30:00 & 0 & 0 & 0 \\\\\n",
       "\t21 & 2020-07-01T00:30:00 & 0 & 0 & 0 \\\\\n",
       "\t22 & 2020-07-01T00:30:00 & 0 & 0 & 0 \\\\\n",
       "\t23 & 2020-07-01T00:30:00 & 0 & 0 & 0 \\\\\n",
       "\t24 & 2020-07-01T00:30:00 & 0 & 0 & 0 \\\\\n",
       "\t25 & 2020-07-01T00:30:00 & 0 & 0 & 0 \\\\\n",
       "\t26 & 2020-07-01T00:30:00 & 0 & 0 & 0 \\\\\n",
       "\t27 & 2020-07-01T00:30:00 & 0 & 0 & 0 \\\\\n",
       "\t28 & 2020-07-01T00:30:00 & 0 & 0 & 0 \\\\\n",
       "\t29 & 2020-07-01T00:30:00 & 0 & 0 & 0 \\\\\n",
       "\t30 & 2020-07-01T00:30:00 & 0 & 0 & 0 \\\\\n",
       "\t$\\dots$ & $\\dots$ & $\\dots$ & $\\dots$ & $\\dots$ \\\\\n",
       "\\end{tabular}\n"
      ],
      "text/plain": [
       "\u001b[1m1440×4 DataFrame\u001b[0m\n",
       "\u001b[1m  Row \u001b[0m│\u001b[1m time                \u001b[0m\u001b[1m swd     \u001b[0m\u001b[1m dir     \u001b[0m\u001b[1m dif     \u001b[0m\n",
       "\u001b[1m      \u001b[0m│\u001b[90m DateTime            \u001b[0m\u001b[90m Int64?  \u001b[0m\u001b[90m Int64?  \u001b[0m\u001b[90m Int64?  \u001b[0m\n",
       "──────┼────────────────────────────────────────────────\n",
       "    1 │ 2020-07-01T00:00:00 \u001b[90m missing \u001b[0m\u001b[90m missing \u001b[0m\u001b[90m missing \u001b[0m\n",
       "    2 │ 2020-07-01T00:15:00        0        0        0\n",
       "    3 │ 2020-07-01T00:15:00        0        0        0\n",
       "    4 │ 2020-07-01T00:15:00        0        0        0\n",
       "    5 │ 2020-07-01T00:15:00        0        0        0\n",
       "    6 │ 2020-07-01T00:15:00        0        0        0\n",
       "    7 │ 2020-07-01T00:15:00        0        0        0\n",
       "    8 │ 2020-07-01T00:15:00        0        0        0\n",
       "    9 │ 2020-07-01T00:15:00        0        0        0\n",
       "   10 │ 2020-07-01T00:15:00        0        0        0\n",
       "   11 │ 2020-07-01T00:15:00        0        0        0\n",
       "  ⋮   │          ⋮              ⋮        ⋮        ⋮\n",
       " 1431 │ 2020-07-02T00:00:00        0        0        0\n",
       " 1432 │ 2020-07-02T00:00:00        0        0        0\n",
       " 1433 │ 2020-07-02T00:00:00        0        0        0\n",
       " 1434 │ 2020-07-02T00:00:00        0        0        0\n",
       " 1435 │ 2020-07-02T00:00:00        0        0        0\n",
       " 1436 │ 2020-07-02T00:00:00        0        0        0\n",
       " 1437 │ 2020-07-02T00:00:00        0        0        0\n",
       " 1438 │ 2020-07-02T00:00:00        0        0        0\n",
       " 1439 │ 2020-07-02T00:00:00        0        0        0\n",
       " 1440 │ 2020-07-02T00:00:00        0        0        0\n",
       "\u001b[36m                                      1419 rows omitted\u001b[0m"
      ]
     },
     "execution_count": 10,
     "metadata": {},
     "output_type": "execute_result"
    }
   ],
   "source": [
    "day1_n = transform(day1, :time => ByRow(x->round(x, Dates.Minute(15), RoundUp)), renamecols=false)"
   ]
  },
  {
   "cell_type": "code",
   "execution_count": 66,
   "id": "ab210b8f-42bd-4709-8362-f3ea27e7d872",
   "metadata": {
    "collapsed": true,
    "execution": {
     "iopub.execute_input": "2021-07-27T15:54:29.721000+02:00",
     "iopub.status.busy": "2021-07-27T15:54:29.721000+02:00",
     "iopub.status.idle": "2021-07-27T15:54:29.782000+02:00",
     "shell.execute_reply": "2021-07-27T15:54:29.781000+02:00"
    },
    "jupyter": {
     "outputs_hidden": true
    },
    "scrolled": true,
    "tags": []
   },
   "outputs": [
    {
     "data": {
      "text/html": [
       "<table class=\"data-frame\"><thead><tr><th></th><th>time</th><th>ghi_mean</th></tr><tr><th></th><th>DateTime</th><th>Float64?</th></tr></thead><tbody><p>97 rows × 2 columns</p><tr><th>1</th><td>2020-07-01T00:00:00</td><td><em>missing</em></td></tr><tr><th>2</th><td>2020-07-01T00:15:00</td><td>0.0</td></tr><tr><th>3</th><td>2020-07-01T00:30:00</td><td>0.0</td></tr><tr><th>4</th><td>2020-07-01T00:45:00</td><td>0.0</td></tr><tr><th>5</th><td>2020-07-01T01:00:00</td><td>0.0</td></tr><tr><th>6</th><td>2020-07-01T01:15:00</td><td>0.0</td></tr><tr><th>7</th><td>2020-07-01T01:30:00</td><td>0.0</td></tr><tr><th>8</th><td>2020-07-01T01:45:00</td><td>0.0</td></tr><tr><th>9</th><td>2020-07-01T02:00:00</td><td>0.0</td></tr><tr><th>10</th><td>2020-07-01T02:15:00</td><td>0.0</td></tr><tr><th>11</th><td>2020-07-01T02:30:00</td><td>0.0</td></tr><tr><th>12</th><td>2020-07-01T02:45:00</td><td>0.0</td></tr><tr><th>13</th><td>2020-07-01T03:00:00</td><td>0.0</td></tr><tr><th>14</th><td>2020-07-01T03:15:00</td><td>0.0</td></tr><tr><th>15</th><td>2020-07-01T03:30:00</td><td>1.13333</td></tr><tr><th>16</th><td>2020-07-01T03:45:00</td><td>5.53333</td></tr><tr><th>17</th><td>2020-07-01T04:00:00</td><td>11.0667</td></tr><tr><th>18</th><td>2020-07-01T04:15:00</td><td>104.6</td></tr><tr><th>19</th><td>2020-07-01T04:30:00</td><td>252.533</td></tr><tr><th>20</th><td>2020-07-01T04:45:00</td><td>177.8</td></tr><tr><th>21</th><td>2020-07-01T05:00:00</td><td>502.267</td></tr><tr><th>22</th><td>2020-07-01T05:15:00</td><td>501.733</td></tr><tr><th>23</th><td>2020-07-01T05:30:00</td><td>596.267</td></tr><tr><th>24</th><td>2020-07-01T05:45:00</td><td>355.733</td></tr><tr><th>25</th><td>2020-07-01T06:00:00</td><td>642.4</td></tr><tr><th>26</th><td>2020-07-01T06:15:00</td><td>358.4</td></tr><tr><th>27</th><td>2020-07-01T06:30:00</td><td>535.4</td></tr><tr><th>28</th><td>2020-07-01T06:45:00</td><td>282.8</td></tr><tr><th>29</th><td>2020-07-01T07:00:00</td><td>216.8</td></tr><tr><th>30</th><td>2020-07-01T07:15:00</td><td>276.867</td></tr><tr><th>&vellip;</th><td>&vellip;</td><td>&vellip;</td></tr></tbody></table>"
      ],
      "text/latex": [
       "\\begin{tabular}{r|cc}\n",
       "\t& time & ghi\\_mean\\\\\n",
       "\t\\hline\n",
       "\t& DateTime & Float64?\\\\\n",
       "\t\\hline\n",
       "\t1 & 2020-07-01T00:00:00 & \\emph{missing} \\\\\n",
       "\t2 & 2020-07-01T00:15:00 & 0.0 \\\\\n",
       "\t3 & 2020-07-01T00:30:00 & 0.0 \\\\\n",
       "\t4 & 2020-07-01T00:45:00 & 0.0 \\\\\n",
       "\t5 & 2020-07-01T01:00:00 & 0.0 \\\\\n",
       "\t6 & 2020-07-01T01:15:00 & 0.0 \\\\\n",
       "\t7 & 2020-07-01T01:30:00 & 0.0 \\\\\n",
       "\t8 & 2020-07-01T01:45:00 & 0.0 \\\\\n",
       "\t9 & 2020-07-01T02:00:00 & 0.0 \\\\\n",
       "\t10 & 2020-07-01T02:15:00 & 0.0 \\\\\n",
       "\t11 & 2020-07-01T02:30:00 & 0.0 \\\\\n",
       "\t12 & 2020-07-01T02:45:00 & 0.0 \\\\\n",
       "\t13 & 2020-07-01T03:00:00 & 0.0 \\\\\n",
       "\t14 & 2020-07-01T03:15:00 & 0.0 \\\\\n",
       "\t15 & 2020-07-01T03:30:00 & 1.13333 \\\\\n",
       "\t16 & 2020-07-01T03:45:00 & 5.53333 \\\\\n",
       "\t17 & 2020-07-01T04:00:00 & 11.0667 \\\\\n",
       "\t18 & 2020-07-01T04:15:00 & 104.6 \\\\\n",
       "\t19 & 2020-07-01T04:30:00 & 252.533 \\\\\n",
       "\t20 & 2020-07-01T04:45:00 & 177.8 \\\\\n",
       "\t21 & 2020-07-01T05:00:00 & 502.267 \\\\\n",
       "\t22 & 2020-07-01T05:15:00 & 501.733 \\\\\n",
       "\t23 & 2020-07-01T05:30:00 & 596.267 \\\\\n",
       "\t24 & 2020-07-01T05:45:00 & 355.733 \\\\\n",
       "\t25 & 2020-07-01T06:00:00 & 642.4 \\\\\n",
       "\t26 & 2020-07-01T06:15:00 & 358.4 \\\\\n",
       "\t27 & 2020-07-01T06:30:00 & 535.4 \\\\\n",
       "\t28 & 2020-07-01T06:45:00 & 282.8 \\\\\n",
       "\t29 & 2020-07-01T07:00:00 & 216.8 \\\\\n",
       "\t30 & 2020-07-01T07:15:00 & 276.867 \\\\\n",
       "\t$\\dots$ & $\\dots$ & $\\dots$ \\\\\n",
       "\\end{tabular}\n"
      ],
      "text/plain": [
       "\u001b[1m97×2 DataFrame\u001b[0m\n",
       "\u001b[1m Row \u001b[0m│\u001b[1m time                \u001b[0m\u001b[1m ghi_mean  \u001b[0m\n",
       "\u001b[1m     \u001b[0m│\u001b[90m DateTime            \u001b[0m\u001b[90m Float64?  \u001b[0m\n",
       "─────┼────────────────────────────────\n",
       "   1 │ 2020-07-01T00:00:00 \u001b[90m missing   \u001b[0m\n",
       "   2 │ 2020-07-01T00:15:00        0.0\n",
       "   3 │ 2020-07-01T00:30:00        0.0\n",
       "   4 │ 2020-07-01T00:45:00        0.0\n",
       "   5 │ 2020-07-01T01:00:00        0.0\n",
       "   6 │ 2020-07-01T01:15:00        0.0\n",
       "   7 │ 2020-07-01T01:30:00        0.0\n",
       "   8 │ 2020-07-01T01:45:00        0.0\n",
       "   9 │ 2020-07-01T02:00:00        0.0\n",
       "  10 │ 2020-07-01T02:15:00        0.0\n",
       "  11 │ 2020-07-01T02:30:00        0.0\n",
       "  ⋮  │          ⋮               ⋮\n",
       "  88 │ 2020-07-01T21:45:00        0.0\n",
       "  89 │ 2020-07-01T22:00:00        0.0\n",
       "  90 │ 2020-07-01T22:15:00        0.0\n",
       "  91 │ 2020-07-01T22:30:00        0.0\n",
       "  92 │ 2020-07-01T22:45:00        0.0\n",
       "  93 │ 2020-07-01T23:00:00        0.0\n",
       "  94 │ 2020-07-01T23:15:00        0.0\n",
       "  95 │ 2020-07-01T23:30:00        0.0\n",
       "  96 │ 2020-07-01T23:45:00        0.0\n",
       "  97 │ 2020-07-02T00:00:00        0.0\n",
       "\u001b[36m                       76 rows omitted\u001b[0m"
      ]
     },
     "execution_count": 66,
     "metadata": {},
     "output_type": "execute_result"
    }
   ],
   "source": [
    "day1_nn = combine(groupby(day1_n, :time), :ghi => mean) #, renamecols=false)"
   ]
  },
  {
   "cell_type": "code",
   "execution_count": 11,
   "id": "42598f64-35fb-4d7c-a653-26ea3290235a",
   "metadata": {
    "execution": {
     "iopub.execute_input": "2021-07-29T08:55:34.212000+02:00",
     "iopub.status.busy": "2021-07-29T08:55:34.212000+02:00",
     "iopub.status.idle": "2021-07-29T08:55:37.544000+02:00",
     "shell.execute_reply": "2021-07-29T08:55:37.544000+02:00"
    },
    "scrolled": true,
    "tags": []
   },
   "outputs": [
    {
     "data": {
      "text/html": [
       "<table class=\"data-frame\"><thead><tr><th></th><th>time</th><th>swd</th><th>dir</th><th>dif</th></tr><tr><th></th><th>DateTime</th><th>Float64?</th><th>Float64?</th><th>Float64?</th></tr></thead><tbody><p>97 rows × 4 columns</p><tr><th>1</th><td>2020-07-01T00:00:00</td><td><em>missing</em></td><td><em>missing</em></td><td><em>missing</em></td></tr><tr><th>2</th><td>2020-07-01T00:15:00</td><td>0.0</td><td>0.0</td><td>0.0</td></tr><tr><th>3</th><td>2020-07-01T00:30:00</td><td>0.0</td><td>0.0</td><td>0.0</td></tr><tr><th>4</th><td>2020-07-01T00:45:00</td><td>0.0</td><td>0.0</td><td>0.0</td></tr><tr><th>5</th><td>2020-07-01T01:00:00</td><td>0.0</td><td>0.0</td><td>0.0</td></tr><tr><th>6</th><td>2020-07-01T01:15:00</td><td>0.0</td><td>0.0</td><td>0.0</td></tr><tr><th>7</th><td>2020-07-01T01:30:00</td><td>0.0</td><td>0.0</td><td>0.0</td></tr><tr><th>8</th><td>2020-07-01T01:45:00</td><td>0.0</td><td>0.0</td><td>0.0</td></tr><tr><th>9</th><td>2020-07-01T02:00:00</td><td>0.0</td><td>0.0</td><td>0.0</td></tr><tr><th>10</th><td>2020-07-01T02:15:00</td><td>0.0</td><td>0.0</td><td>0.0</td></tr><tr><th>11</th><td>2020-07-01T02:30:00</td><td>0.0</td><td>0.0</td><td>0.0</td></tr><tr><th>12</th><td>2020-07-01T02:45:00</td><td>0.0</td><td>0.0</td><td>0.0</td></tr><tr><th>13</th><td>2020-07-01T03:00:00</td><td>0.0</td><td>0.0</td><td>0.0</td></tr><tr><th>14</th><td>2020-07-01T03:15:00</td><td>0.0</td><td>0.0</td><td>0.0</td></tr><tr><th>15</th><td>2020-07-01T03:30:00</td><td>1.0</td><td>0.0</td><td>1.13333</td></tr><tr><th>16</th><td>2020-07-01T03:45:00</td><td>5.26667</td><td>0.0</td><td>5.53333</td></tr><tr><th>17</th><td>2020-07-01T04:00:00</td><td>10.8667</td><td>0.0</td><td>11.0667</td></tr><tr><th>18</th><td>2020-07-01T04:15:00</td><td>24.5333</td><td>83.0</td><td>21.6</td></tr><tr><th>19</th><td>2020-07-01T04:30:00</td><td>53.5333</td><td>219.867</td><td>32.6667</td></tr><tr><th>20</th><td>2020-07-01T04:45:00</td><td>61.1333</td><td>136.733</td><td>41.0667</td></tr><tr><th>21</th><td>2020-07-01T05:00:00</td><td>129.133</td><td>452.133</td><td>50.1333</td></tr><tr><th>22</th><td>2020-07-01T05:15:00</td><td>161.667</td><td>431.733</td><td>70.0</td></tr><tr><th>23</th><td>2020-07-01T05:30:00</td><td>224.4</td><td>498.333</td><td>97.9333</td></tr><tr><th>24</th><td>2020-07-01T05:45:00</td><td>201.333</td><td>223.467</td><td>132.267</td></tr><tr><th>25</th><td>2020-07-01T06:00:00</td><td>305.467</td><td>512.667</td><td>129.733</td></tr><tr><th>26</th><td>2020-07-01T06:15:00</td><td>242.467</td><td>199.133</td><td>159.267</td></tr><tr><th>27</th><td>2020-07-01T06:30:00</td><td>336.733</td><td>336.733</td><td>198.667</td></tr><tr><th>28</th><td>2020-07-01T06:45:00</td><td>251.467</td><td>63.1333</td><td>219.667</td></tr><tr><th>29</th><td>2020-07-01T07:00:00</td><td>216.0</td><td>7.66667</td><td>209.133</td></tr><tr><th>30</th><td>2020-07-01T07:15:00</td><td>266.267</td><td>36.0</td><td>240.867</td></tr><tr><th>&vellip;</th><td>&vellip;</td><td>&vellip;</td><td>&vellip;</td><td>&vellip;</td></tr></tbody></table>"
      ],
      "text/latex": [
       "\\begin{tabular}{r|cccc}\n",
       "\t& time & swd & dir & dif\\\\\n",
       "\t\\hline\n",
       "\t& DateTime & Float64? & Float64? & Float64?\\\\\n",
       "\t\\hline\n",
       "\t1 & 2020-07-01T00:00:00 & \\emph{missing} & \\emph{missing} & \\emph{missing} \\\\\n",
       "\t2 & 2020-07-01T00:15:00 & 0.0 & 0.0 & 0.0 \\\\\n",
       "\t3 & 2020-07-01T00:30:00 & 0.0 & 0.0 & 0.0 \\\\\n",
       "\t4 & 2020-07-01T00:45:00 & 0.0 & 0.0 & 0.0 \\\\\n",
       "\t5 & 2020-07-01T01:00:00 & 0.0 & 0.0 & 0.0 \\\\\n",
       "\t6 & 2020-07-01T01:15:00 & 0.0 & 0.0 & 0.0 \\\\\n",
       "\t7 & 2020-07-01T01:30:00 & 0.0 & 0.0 & 0.0 \\\\\n",
       "\t8 & 2020-07-01T01:45:00 & 0.0 & 0.0 & 0.0 \\\\\n",
       "\t9 & 2020-07-01T02:00:00 & 0.0 & 0.0 & 0.0 \\\\\n",
       "\t10 & 2020-07-01T02:15:00 & 0.0 & 0.0 & 0.0 \\\\\n",
       "\t11 & 2020-07-01T02:30:00 & 0.0 & 0.0 & 0.0 \\\\\n",
       "\t12 & 2020-07-01T02:45:00 & 0.0 & 0.0 & 0.0 \\\\\n",
       "\t13 & 2020-07-01T03:00:00 & 0.0 & 0.0 & 0.0 \\\\\n",
       "\t14 & 2020-07-01T03:15:00 & 0.0 & 0.0 & 0.0 \\\\\n",
       "\t15 & 2020-07-01T03:30:00 & 1.0 & 0.0 & 1.13333 \\\\\n",
       "\t16 & 2020-07-01T03:45:00 & 5.26667 & 0.0 & 5.53333 \\\\\n",
       "\t17 & 2020-07-01T04:00:00 & 10.8667 & 0.0 & 11.0667 \\\\\n",
       "\t18 & 2020-07-01T04:15:00 & 24.5333 & 83.0 & 21.6 \\\\\n",
       "\t19 & 2020-07-01T04:30:00 & 53.5333 & 219.867 & 32.6667 \\\\\n",
       "\t20 & 2020-07-01T04:45:00 & 61.1333 & 136.733 & 41.0667 \\\\\n",
       "\t21 & 2020-07-01T05:00:00 & 129.133 & 452.133 & 50.1333 \\\\\n",
       "\t22 & 2020-07-01T05:15:00 & 161.667 & 431.733 & 70.0 \\\\\n",
       "\t23 & 2020-07-01T05:30:00 & 224.4 & 498.333 & 97.9333 \\\\\n",
       "\t24 & 2020-07-01T05:45:00 & 201.333 & 223.467 & 132.267 \\\\\n",
       "\t25 & 2020-07-01T06:00:00 & 305.467 & 512.667 & 129.733 \\\\\n",
       "\t26 & 2020-07-01T06:15:00 & 242.467 & 199.133 & 159.267 \\\\\n",
       "\t27 & 2020-07-01T06:30:00 & 336.733 & 336.733 & 198.667 \\\\\n",
       "\t28 & 2020-07-01T06:45:00 & 251.467 & 63.1333 & 219.667 \\\\\n",
       "\t29 & 2020-07-01T07:00:00 & 216.0 & 7.66667 & 209.133 \\\\\n",
       "\t30 & 2020-07-01T07:15:00 & 266.267 & 36.0 & 240.867 \\\\\n",
       "\t$\\dots$ & $\\dots$ & $\\dots$ & $\\dots$ & $\\dots$ \\\\\n",
       "\\end{tabular}\n"
      ],
      "text/plain": [
       "\u001b[1m97×4 DataFrame\u001b[0m\n",
       "\u001b[1m Row \u001b[0m│\u001b[1m time                \u001b[0m\u001b[1m swd       \u001b[0m\u001b[1m dir       \u001b[0m\u001b[1m dif       \u001b[0m\n",
       "\u001b[1m     \u001b[0m│\u001b[90m DateTime            \u001b[0m\u001b[90m Float64?  \u001b[0m\u001b[90m Float64?  \u001b[0m\u001b[90m Float64?  \u001b[0m\n",
       "─────┼──────────────────────────────────────────────────────\n",
       "   1 │ 2020-07-01T00:00:00 \u001b[90m missing   \u001b[0m\u001b[90m missing   \u001b[0m\u001b[90m missing   \u001b[0m\n",
       "   2 │ 2020-07-01T00:15:00        0.0        0.0        0.0\n",
       "   3 │ 2020-07-01T00:30:00        0.0        0.0        0.0\n",
       "   4 │ 2020-07-01T00:45:00        0.0        0.0        0.0\n",
       "   5 │ 2020-07-01T01:00:00        0.0        0.0        0.0\n",
       "   6 │ 2020-07-01T01:15:00        0.0        0.0        0.0\n",
       "   7 │ 2020-07-01T01:30:00        0.0        0.0        0.0\n",
       "   8 │ 2020-07-01T01:45:00        0.0        0.0        0.0\n",
       "   9 │ 2020-07-01T02:00:00        0.0        0.0        0.0\n",
       "  10 │ 2020-07-01T02:15:00        0.0        0.0        0.0\n",
       "  11 │ 2020-07-01T02:30:00        0.0        0.0        0.0\n",
       "  ⋮  │          ⋮               ⋮          ⋮          ⋮\n",
       "  88 │ 2020-07-01T21:45:00        0.0        0.0        0.0\n",
       "  89 │ 2020-07-01T22:00:00        0.0        0.0        0.0\n",
       "  90 │ 2020-07-01T22:15:00        0.0        0.0        0.0\n",
       "  91 │ 2020-07-01T22:30:00        0.0        0.0        0.0\n",
       "  92 │ 2020-07-01T22:45:00        0.0        0.0        0.0\n",
       "  93 │ 2020-07-01T23:00:00        0.0        0.0        0.0\n",
       "  94 │ 2020-07-01T23:15:00        0.0        0.0        0.0\n",
       "  95 │ 2020-07-01T23:30:00        0.0        0.0        0.0\n",
       "  96 │ 2020-07-01T23:45:00        0.0        0.0        0.0\n",
       "  97 │ 2020-07-02T00:00:00        0.0        0.0        0.0\n",
       "\u001b[36m                                             76 rows omitted\u001b[0m"
      ]
     },
     "execution_count": 11,
     "metadata": {},
     "output_type": "execute_result"
    }
   ],
   "source": [
    "day1_nn = combine(groupby(day1_n, :time), :swd => mean, :dir => mean, :dif => mean, renamecols=false)"
   ]
  },
  {
   "cell_type": "code",
   "execution_count": 32,
   "id": "381d5d85-9d86-4c0f-a2a7-218c672775da",
   "metadata": {
    "collapsed": true,
    "execution": {
     "iopub.execute_input": "2021-07-27T15:32:36.081000+02:00",
     "iopub.status.busy": "2021-07-27T15:32:36.081000+02:00",
     "iopub.status.idle": "2021-07-27T15:32:39.505000+02:00",
     "shell.execute_reply": "2021-07-27T15:32:39.505000+02:00"
    },
    "jupyter": {
     "outputs_hidden": true
    },
    "tags": []
   },
   "outputs": [
    {
     "data": {
      "text/html": [
       "<p>DataFrameRow (2 columns)</p><table class=\"data-frame\"><thead><tr><th></th><th>time</th><th>swd</th></tr><tr><th></th><th>DateTime</th><th>Float64?</th></tr></thead><tbody><tr><th>97</th><td>2020-07-02T00:00:00</td><td>0.0</td></tr></tbody></table>"
      ],
      "text/latex": [
       "\\begin{tabular}{r|cc}\n",
       "\t& time & swd\\\\\n",
       "\t\\hline\n",
       "\t& DateTime & Float64?\\\\\n",
       "\t\\hline\n",
       "\t97 & 2020-07-02T00:00:00 & 0.0 \\\\\n",
       "\\end{tabular}\n"
      ],
      "text/plain": [
       "\u001b[1mDataFrameRow\u001b[0m\n",
       "\u001b[1m Row \u001b[0m│\u001b[1m time                \u001b[0m\u001b[1m swd      \u001b[0m\n",
       "\u001b[1m     \u001b[0m│\u001b[90m DateTime            \u001b[0m\u001b[90m Float64? \u001b[0m\n",
       "─────┼───────────────────────────────\n",
       "  97 │ 2020-07-02T00:00:00       0.0"
      ]
     },
     "execution_count": 32,
     "metadata": {},
     "output_type": "execute_result"
    }
   ],
   "source": [
    "last(day1_nn)"
   ]
  },
  {
   "cell_type": "code",
   "execution_count": 119,
   "id": "29bde90b-35e8-49ed-993a-d2ea6317378d",
   "metadata": {
    "execution": {
     "iopub.execute_input": "2021-07-26T17:04:06.855000+02:00",
     "iopub.status.busy": "2021-07-26T17:04:06.854000+02:00",
     "iopub.status.idle": "2021-07-26T17:04:06.882000+02:00",
     "shell.execute_reply": "2021-07-26T17:04:06.882000+02:00"
    },
    "tags": []
   },
   "outputs": [],
   "source": [
    "del(day1_nn[1,2] = NaN"
   ]
  },
  {
   "cell_type": "code",
   "execution_count": 12,
   "id": "fb81498d-d227-4eeb-b7ec-25335c8493bf",
   "metadata": {
    "execution": {
     "iopub.execute_input": "2021-07-29T08:55:56.085000+02:00",
     "iopub.status.busy": "2021-07-29T08:55:56.084000+02:00",
     "iopub.status.idle": "2021-07-29T08:55:56.319000+02:00",
     "shell.execute_reply": "2021-07-29T08:55:56.319000+02:00"
    },
    "scrolled": true,
    "tags": []
   },
   "outputs": [
    {
     "data": {
      "text/html": [
       "<table class=\"data-frame\"><thead><tr><th></th><th>time</th><th>swd</th><th>dir</th><th>dif</th><th>ghi</th><th>ghiCS</th></tr><tr><th></th><th>DateTime</th><th>Float64?</th><th>Float64?</th><th>Float64?</th><th>Float64</th><th>Float64</th></tr></thead><tbody><p>97 rows × 6 columns</p><tr><th>1</th><td>2020-07-01T00:00:00</td><td><em>missing</em></td><td><em>missing</em></td><td><em>missing</em></td><td>0.0</td><td>0.0</td></tr><tr><th>2</th><td>2020-07-01T00:15:00</td><td>0.0</td><td>0.0</td><td>0.0</td><td>0.0</td><td>0.0</td></tr><tr><th>3</th><td>2020-07-01T00:30:00</td><td>0.0</td><td>0.0</td><td>0.0</td><td>0.0</td><td>0.0</td></tr><tr><th>4</th><td>2020-07-01T00:45:00</td><td>0.0</td><td>0.0</td><td>0.0</td><td>0.0</td><td>0.0</td></tr><tr><th>5</th><td>2020-07-01T01:00:00</td><td>0.0</td><td>0.0</td><td>0.0</td><td>0.0</td><td>0.0</td></tr><tr><th>6</th><td>2020-07-01T01:15:00</td><td>0.0</td><td>0.0</td><td>0.0</td><td>0.0</td><td>0.0</td></tr><tr><th>7</th><td>2020-07-01T01:30:00</td><td>0.0</td><td>0.0</td><td>0.0</td><td>0.0</td><td>0.0</td></tr><tr><th>8</th><td>2020-07-01T01:45:00</td><td>0.0</td><td>0.0</td><td>0.0</td><td>0.0</td><td>0.0</td></tr><tr><th>9</th><td>2020-07-01T02:00:00</td><td>0.0</td><td>0.0</td><td>0.0</td><td>0.0</td><td>0.0</td></tr><tr><th>10</th><td>2020-07-01T02:15:00</td><td>0.0</td><td>0.0</td><td>0.0</td><td>0.0</td><td>0.0</td></tr><tr><th>11</th><td>2020-07-01T02:30:00</td><td>0.0</td><td>0.0</td><td>0.0</td><td>0.0</td><td>0.0</td></tr><tr><th>12</th><td>2020-07-01T02:45:00</td><td>0.0</td><td>0.0</td><td>0.0</td><td>0.0</td><td>0.0</td></tr><tr><th>13</th><td>2020-07-01T03:00:00</td><td>0.0</td><td>0.0</td><td>0.0</td><td>0.0</td><td>0.0</td></tr><tr><th>14</th><td>2020-07-01T03:15:00</td><td>0.0</td><td>0.0</td><td>0.0</td><td>0.0</td><td>0.0</td></tr><tr><th>15</th><td>2020-07-01T03:30:00</td><td>1.0</td><td>0.0</td><td>1.13333</td><td>0.0</td><td>0.0</td></tr><tr><th>16</th><td>2020-07-01T03:45:00</td><td>5.26667</td><td>0.0</td><td>5.53333</td><td>0.0</td><td>0.0</td></tr><tr><th>17</th><td>2020-07-01T04:00:00</td><td>10.8667</td><td>0.0</td><td>11.0667</td><td>0.41639</td><td>0.986835</td></tr><tr><th>18</th><td>2020-07-01T04:15:00</td><td>24.5333</td><td>83.0</td><td>21.6</td><td>4.29367</td><td>5.59369</td></tr><tr><th>19</th><td>2020-07-01T04:30:00</td><td>53.5333</td><td>219.867</td><td>32.6667</td><td>10.6363</td><td>12.4223</td></tr><tr><th>20</th><td>2020-07-01T04:45:00</td><td>61.1333</td><td>136.733</td><td>41.0667</td><td>18.2185</td><td>20.6691</td></tr><tr><th>21</th><td>2020-07-01T05:00:00</td><td>129.133</td><td>452.133</td><td>50.1333</td><td>26.0276</td><td>29.8758</td></tr><tr><th>22</th><td>2020-07-01T05:15:00</td><td>161.667</td><td>431.733</td><td>70.0</td><td>32.8272</td><td>39.7571</td></tr><tr><th>23</th><td>2020-07-01T05:30:00</td><td>224.4</td><td>498.333</td><td>97.9333</td><td>36.9614</td><td>50.1227</td></tr><tr><th>24</th><td>2020-07-01T05:45:00</td><td>201.333</td><td>223.467</td><td>132.267</td><td>42.8301</td><td>60.8323</td></tr><tr><th>25</th><td>2020-07-01T06:00:00</td><td>305.467</td><td>512.667</td><td>129.733</td><td>50.8196</td><td>71.7723</td></tr><tr><th>26</th><td>2020-07-01T06:15:00</td><td>242.467</td><td>199.133</td><td>159.267</td><td>59.8175</td><td>82.882</td></tr><tr><th>27</th><td>2020-07-01T06:30:00</td><td>336.733</td><td>336.733</td><td>198.667</td><td>68.2656</td><td>94.0734</td></tr><tr><th>28</th><td>2020-07-01T06:45:00</td><td>251.467</td><td>63.1333</td><td>219.667</td><td>76.6477</td><td>105.23</td></tr><tr><th>29</th><td>2020-07-01T07:00:00</td><td>216.0</td><td>7.66667</td><td>209.133</td><td>84.6839</td><td>116.278</td></tr><tr><th>30</th><td>2020-07-01T07:15:00</td><td>266.267</td><td>36.0</td><td>240.867</td><td>95.1376</td><td>127.152</td></tr><tr><th>&vellip;</th><td>&vellip;</td><td>&vellip;</td><td>&vellip;</td><td>&vellip;</td><td>&vellip;</td><td>&vellip;</td></tr></tbody></table>"
      ],
      "text/latex": [
       "\\begin{tabular}{r|cccccc}\n",
       "\t& time & swd & dir & dif & ghi & ghiCS\\\\\n",
       "\t\\hline\n",
       "\t& DateTime & Float64? & Float64? & Float64? & Float64 & Float64\\\\\n",
       "\t\\hline\n",
       "\t1 & 2020-07-01T00:00:00 & \\emph{missing} & \\emph{missing} & \\emph{missing} & 0.0 & 0.0 \\\\\n",
       "\t2 & 2020-07-01T00:15:00 & 0.0 & 0.0 & 0.0 & 0.0 & 0.0 \\\\\n",
       "\t3 & 2020-07-01T00:30:00 & 0.0 & 0.0 & 0.0 & 0.0 & 0.0 \\\\\n",
       "\t4 & 2020-07-01T00:45:00 & 0.0 & 0.0 & 0.0 & 0.0 & 0.0 \\\\\n",
       "\t5 & 2020-07-01T01:00:00 & 0.0 & 0.0 & 0.0 & 0.0 & 0.0 \\\\\n",
       "\t6 & 2020-07-01T01:15:00 & 0.0 & 0.0 & 0.0 & 0.0 & 0.0 \\\\\n",
       "\t7 & 2020-07-01T01:30:00 & 0.0 & 0.0 & 0.0 & 0.0 & 0.0 \\\\\n",
       "\t8 & 2020-07-01T01:45:00 & 0.0 & 0.0 & 0.0 & 0.0 & 0.0 \\\\\n",
       "\t9 & 2020-07-01T02:00:00 & 0.0 & 0.0 & 0.0 & 0.0 & 0.0 \\\\\n",
       "\t10 & 2020-07-01T02:15:00 & 0.0 & 0.0 & 0.0 & 0.0 & 0.0 \\\\\n",
       "\t11 & 2020-07-01T02:30:00 & 0.0 & 0.0 & 0.0 & 0.0 & 0.0 \\\\\n",
       "\t12 & 2020-07-01T02:45:00 & 0.0 & 0.0 & 0.0 & 0.0 & 0.0 \\\\\n",
       "\t13 & 2020-07-01T03:00:00 & 0.0 & 0.0 & 0.0 & 0.0 & 0.0 \\\\\n",
       "\t14 & 2020-07-01T03:15:00 & 0.0 & 0.0 & 0.0 & 0.0 & 0.0 \\\\\n",
       "\t15 & 2020-07-01T03:30:00 & 1.0 & 0.0 & 1.13333 & 0.0 & 0.0 \\\\\n",
       "\t16 & 2020-07-01T03:45:00 & 5.26667 & 0.0 & 5.53333 & 0.0 & 0.0 \\\\\n",
       "\t17 & 2020-07-01T04:00:00 & 10.8667 & 0.0 & 11.0667 & 0.41639 & 0.986835 \\\\\n",
       "\t18 & 2020-07-01T04:15:00 & 24.5333 & 83.0 & 21.6 & 4.29367 & 5.59369 \\\\\n",
       "\t19 & 2020-07-01T04:30:00 & 53.5333 & 219.867 & 32.6667 & 10.6363 & 12.4223 \\\\\n",
       "\t20 & 2020-07-01T04:45:00 & 61.1333 & 136.733 & 41.0667 & 18.2185 & 20.6691 \\\\\n",
       "\t21 & 2020-07-01T05:00:00 & 129.133 & 452.133 & 50.1333 & 26.0276 & 29.8758 \\\\\n",
       "\t22 & 2020-07-01T05:15:00 & 161.667 & 431.733 & 70.0 & 32.8272 & 39.7571 \\\\\n",
       "\t23 & 2020-07-01T05:30:00 & 224.4 & 498.333 & 97.9333 & 36.9614 & 50.1227 \\\\\n",
       "\t24 & 2020-07-01T05:45:00 & 201.333 & 223.467 & 132.267 & 42.8301 & 60.8323 \\\\\n",
       "\t25 & 2020-07-01T06:00:00 & 305.467 & 512.667 & 129.733 & 50.8196 & 71.7723 \\\\\n",
       "\t26 & 2020-07-01T06:15:00 & 242.467 & 199.133 & 159.267 & 59.8175 & 82.882 \\\\\n",
       "\t27 & 2020-07-01T06:30:00 & 336.733 & 336.733 & 198.667 & 68.2656 & 94.0734 \\\\\n",
       "\t28 & 2020-07-01T06:45:00 & 251.467 & 63.1333 & 219.667 & 76.6477 & 105.23 \\\\\n",
       "\t29 & 2020-07-01T07:00:00 & 216.0 & 7.66667 & 209.133 & 84.6839 & 116.278 \\\\\n",
       "\t30 & 2020-07-01T07:15:00 & 266.267 & 36.0 & 240.867 & 95.1376 & 127.152 \\\\\n",
       "\t$\\dots$ & $\\dots$ & $\\dots$ & $\\dots$ & $\\dots$ & $\\dots$ & $\\dots$ \\\\\n",
       "\\end{tabular}\n"
      ],
      "text/plain": [
       "\u001b[1m97×6 DataFrame\u001b[0m\n",
       "\u001b[1m Row \u001b[0m│\u001b[1m time                \u001b[0m\u001b[1m swd       \u001b[0m\u001b[1m dir       \u001b[0m\u001b[1m dif       \u001b[0m\u001b[1m ghi     \u001b[0m\u001b[1m ghiCS   \u001b[0m\n",
       "\u001b[1m     \u001b[0m│\u001b[90m DateTime            \u001b[0m\u001b[90m Float64?  \u001b[0m\u001b[90m Float64?  \u001b[0m\u001b[90m Float64?  \u001b[0m\u001b[90m Float64 \u001b[0m\u001b[90m Float64 \u001b[0m\n",
       "─────┼────────────────────────────────────────────────────────────────────────\n",
       "   1 │ 2020-07-01T00:00:00 \u001b[90m missing   \u001b[0m\u001b[90m missing   \u001b[0m\u001b[90m missing   \u001b[0m     0.0      0.0\n",
       "   2 │ 2020-07-01T00:15:00        0.0        0.0        0.0      0.0      0.0\n",
       "   3 │ 2020-07-01T00:30:00        0.0        0.0        0.0      0.0      0.0\n",
       "   4 │ 2020-07-01T00:45:00        0.0        0.0        0.0      0.0      0.0\n",
       "   5 │ 2020-07-01T01:00:00        0.0        0.0        0.0      0.0      0.0\n",
       "   6 │ 2020-07-01T01:15:00        0.0        0.0        0.0      0.0      0.0\n",
       "   7 │ 2020-07-01T01:30:00        0.0        0.0        0.0      0.0      0.0\n",
       "   8 │ 2020-07-01T01:45:00        0.0        0.0        0.0      0.0      0.0\n",
       "   9 │ 2020-07-01T02:00:00        0.0        0.0        0.0      0.0      0.0\n",
       "  10 │ 2020-07-01T02:15:00        0.0        0.0        0.0      0.0      0.0\n",
       "  11 │ 2020-07-01T02:30:00        0.0        0.0        0.0      0.0      0.0\n",
       "  ⋮  │          ⋮               ⋮          ⋮          ⋮         ⋮        ⋮\n",
       "  88 │ 2020-07-01T21:45:00        0.0        0.0        0.0      0.0      0.0\n",
       "  89 │ 2020-07-01T22:00:00        0.0        0.0        0.0      0.0      0.0\n",
       "  90 │ 2020-07-01T22:15:00        0.0        0.0        0.0      0.0      0.0\n",
       "  91 │ 2020-07-01T22:30:00        0.0        0.0        0.0      0.0      0.0\n",
       "  92 │ 2020-07-01T22:45:00        0.0        0.0        0.0      0.0      0.0\n",
       "  93 │ 2020-07-01T23:00:00        0.0        0.0        0.0      0.0      0.0\n",
       "  94 │ 2020-07-01T23:15:00        0.0        0.0        0.0      0.0      0.0\n",
       "  95 │ 2020-07-01T23:30:00        0.0        0.0        0.0      0.0      0.0\n",
       "  96 │ 2020-07-01T23:45:00        0.0        0.0        0.0      0.0      0.0\n",
       "  97 │ 2020-07-02T00:00:00        0.0        0.0        0.0      0.0      0.0\n",
       "\u001b[36m                                                               76 rows omitted\u001b[0m"
      ]
     },
     "execution_count": 12,
     "metadata": {},
     "output_type": "execute_result"
    }
   ],
   "source": [
    "day1_nn.ghi = vcat(0, ghi[1:96])\n",
    "day1_nn.ghiCS = vcat(0, ghiCS[1:96])\n",
    "day1_nn"
   ]
  },
  {
   "cell_type": "code",
   "execution_count": 18,
   "id": "e9c1f2c7-439a-40fa-96f3-22d5680b4d4f",
   "metadata": {
    "collapsed": true,
    "execution": {
     "iopub.execute_input": "2021-07-28T11:49:06.661000+02:00",
     "iopub.status.busy": "2021-07-28T11:49:06.661000+02:00",
     "iopub.status.idle": "2021-07-28T11:49:06.817000+02:00",
     "shell.execute_reply": "2021-07-28T11:49:06.817000+02:00"
    },
    "jupyter": {
     "outputs_hidden": true
    },
    "tags": []
   },
   "outputs": [
    {
     "data": {
      "text/html": [
       "<table class=\"data-frame\"><thead><tr><th></th><th>time</th><th>swd</th><th>dir</th><th>dif</th><th>ghi</th><th>ghiCS</th></tr><tr><th></th><th>DateTime</th><th>Float64?</th><th>Float64?</th><th>Float64?</th><th>Float64</th><th>Float64</th></tr></thead><tbody><p>4 rows × 6 columns</p><tr><th>1</th><td>2020-07-01T04:00:00</td><td>10.8667</td><td>0.0</td><td>11.0667</td><td>0.41639</td><td>0.986835</td></tr><tr><th>2</th><td>2020-07-01T04:15:00</td><td>24.5333</td><td>83.0</td><td>21.6</td><td>4.29367</td><td>5.59369</td></tr><tr><th>3</th><td>2020-07-01T04:30:00</td><td>53.5333</td><td>219.867</td><td>32.6667</td><td>10.6363</td><td>12.4223</td></tr><tr><th>4</th><td>2020-07-01T04:45:00</td><td>61.1333</td><td>136.733</td><td>41.0667</td><td>18.2185</td><td>20.6691</td></tr></tbody></table>"
      ],
      "text/latex": [
       "\\begin{tabular}{r|cccccc}\n",
       "\t& time & swd & dir & dif & ghi & ghiCS\\\\\n",
       "\t\\hline\n",
       "\t& DateTime & Float64? & Float64? & Float64? & Float64 & Float64\\\\\n",
       "\t\\hline\n",
       "\t1 & 2020-07-01T04:00:00 & 10.8667 & 0.0 & 11.0667 & 0.41639 & 0.986835 \\\\\n",
       "\t2 & 2020-07-01T04:15:00 & 24.5333 & 83.0 & 21.6 & 4.29367 & 5.59369 \\\\\n",
       "\t3 & 2020-07-01T04:30:00 & 53.5333 & 219.867 & 32.6667 & 10.6363 & 12.4223 \\\\\n",
       "\t4 & 2020-07-01T04:45:00 & 61.1333 & 136.733 & 41.0667 & 18.2185 & 20.6691 \\\\\n",
       "\\end{tabular}\n"
      ],
      "text/plain": [
       "\u001b[1m4×6 DataFrame\u001b[0m\n",
       "\u001b[1m Row \u001b[0m│\u001b[1m time                \u001b[0m\u001b[1m swd      \u001b[0m\u001b[1m dir      \u001b[0m\u001b[1m dif      \u001b[0m\u001b[1m ghi      \u001b[0m\u001b[1m ghiCS     \u001b[0m\n",
       "\u001b[1m     \u001b[0m│\u001b[90m DateTime            \u001b[0m\u001b[90m Float64? \u001b[0m\u001b[90m Float64? \u001b[0m\u001b[90m Float64? \u001b[0m\u001b[90m Float64  \u001b[0m\u001b[90m Float64   \u001b[0m\n",
       "─────┼────────────────────────────────────────────────────────────────────────\n",
       "   1 │ 2020-07-01T04:00:00   10.8667     0.0     11.0667   0.41639   0.986835\n",
       "   2 │ 2020-07-01T04:15:00   24.5333    83.0     21.6      4.29367   5.59369\n",
       "   3 │ 2020-07-01T04:30:00   53.5333   219.867   32.6667  10.6363   12.4223\n",
       "   4 │ 2020-07-01T04:45:00   61.1333   136.733   41.0667  18.2185   20.6691"
      ]
     },
     "execution_count": 18,
     "metadata": {},
     "output_type": "execute_result"
    }
   ],
   "source": [
    "te = day1_nn[17:20, :]"
   ]
  },
  {
   "cell_type": "code",
   "execution_count": 20,
   "id": "e64aecac-a9e6-4dd4-8fa4-ae850a4e49f1",
   "metadata": {
    "collapsed": true,
    "execution": {
     "iopub.execute_input": "2021-07-28T11:49:55.228000+02:00",
     "iopub.status.busy": "2021-07-28T11:49:55.228000+02:00",
     "iopub.status.idle": "2021-07-28T11:49:55.323000+02:00",
     "shell.execute_reply": "2021-07-28T11:49:55.322000+02:00"
    },
    "jupyter": {
     "outputs_hidden": true
    },
    "tags": []
   },
   "outputs": [
    {
     "data": {
      "text/html": [
       "<table class=\"data-frame\"><thead><tr><th></th><th>swd</th><th>dir</th><th>dif</th></tr><tr><th></th><th>Float64</th><th>Float64</th><th>Float64</th></tr></thead><tbody><p>4 rows × 3 columns</p><tr><th>1</th><td>0.452778</td><td>0.0</td><td>0.461111</td></tr><tr><th>2</th><td>1.02222</td><td>3.45833</td><td>0.9</td></tr><tr><th>3</th><td>2.23056</td><td>9.16111</td><td>1.36111</td></tr><tr><th>4</th><td>2.54722</td><td>5.69722</td><td>1.71111</td></tr></tbody></table>"
      ],
      "text/latex": [
       "\\begin{tabular}{r|ccc}\n",
       "\t& swd & dir & dif\\\\\n",
       "\t\\hline\n",
       "\t& Float64 & Float64 & Float64\\\\\n",
       "\t\\hline\n",
       "\t1 & 0.452778 & 0.0 & 0.461111 \\\\\n",
       "\t2 & 1.02222 & 3.45833 & 0.9 \\\\\n",
       "\t3 & 2.23056 & 9.16111 & 1.36111 \\\\\n",
       "\t4 & 2.54722 & 5.69722 & 1.71111 \\\\\n",
       "\\end{tabular}\n"
      ],
      "text/plain": [
       "\u001b[1m4×3 DataFrame\u001b[0m\n",
       "\u001b[1m Row \u001b[0m│\u001b[1m swd      \u001b[0m\u001b[1m dir     \u001b[0m\u001b[1m dif      \u001b[0m\n",
       "\u001b[1m     \u001b[0m│\u001b[90m Float64  \u001b[0m\u001b[90m Float64 \u001b[0m\u001b[90m Float64  \u001b[0m\n",
       "─────┼─────────────────────────────\n",
       "   1 │ 0.452778  0.0      0.461111\n",
       "   2 │ 1.02222   3.45833  0.9\n",
       "   3 │ 2.23056   9.16111  1.36111\n",
       "   4 │ 2.54722   5.69722  1.71111"
      ]
     },
     "execution_count": 20,
     "metadata": {},
     "output_type": "execute_result"
    }
   ],
   "source": [
    "tes = te[:,2:4] ./ 24"
   ]
  },
  {
   "cell_type": "code",
   "execution_count": 21,
   "id": "395ba2c2-0443-4e8d-bde3-31ea53b134de",
   "metadata": {
    "collapsed": true,
    "execution": {
     "iopub.execute_input": "2021-07-28T11:51:21.843000+02:00",
     "iopub.status.busy": "2021-07-28T11:51:21.843000+02:00",
     "iopub.status.idle": "2021-07-28T11:51:22.392000+02:00",
     "shell.execute_reply": "2021-07-28T11:51:22.391000+02:00"
    },
    "jupyter": {
     "outputs_hidden": true
    },
    "tags": []
   },
   "outputs": [
    {
     "data": {
      "text/plain": [
       "4-element Vector{Float64}:\n",
       "  0.416390061378479\n",
       "  4.293670177459717\n",
       " 10.636305809020996\n",
       " 18.218477249145508"
      ]
     },
     "execution_count": 21,
     "metadata": {},
     "output_type": "execute_result"
    }
   ],
   "source": [
    "tes.sum = tes.dir .+ tes.dif\n",
    "tes.ghi = te.ghi"
   ]
  },
  {
   "cell_type": "code",
   "execution_count": 22,
   "id": "82ffc6d1-8f19-47bd-a893-38bbd2e97f05",
   "metadata": {
    "execution": {
     "iopub.execute_input": "2021-07-28T11:51:36.611000+02:00",
     "iopub.status.busy": "2021-07-28T11:51:36.611000+02:00",
     "iopub.status.idle": "2021-07-28T11:51:36.613000+02:00",
     "shell.execute_reply": "2021-07-28T11:51:36.613000+02:00"
    }
   },
   "outputs": [
    {
     "data": {
      "text/html": [
       "<table class=\"data-frame\"><thead><tr><th></th><th>swd</th><th>dir</th><th>dif</th><th>sum</th><th>ghi</th></tr><tr><th></th><th>Float64</th><th>Float64</th><th>Float64</th><th>Float64</th><th>Float64</th></tr></thead><tbody><p>4 rows × 5 columns</p><tr><th>1</th><td>0.452778</td><td>0.0</td><td>0.461111</td><td>0.461111</td><td>0.41639</td></tr><tr><th>2</th><td>1.02222</td><td>3.45833</td><td>0.9</td><td>4.35833</td><td>4.29367</td></tr><tr><th>3</th><td>2.23056</td><td>9.16111</td><td>1.36111</td><td>10.5222</td><td>10.6363</td></tr><tr><th>4</th><td>2.54722</td><td>5.69722</td><td>1.71111</td><td>7.40833</td><td>18.2185</td></tr></tbody></table>"
      ],
      "text/latex": [
       "\\begin{tabular}{r|ccccc}\n",
       "\t& swd & dir & dif & sum & ghi\\\\\n",
       "\t\\hline\n",
       "\t& Float64 & Float64 & Float64 & Float64 & Float64\\\\\n",
       "\t\\hline\n",
       "\t1 & 0.452778 & 0.0 & 0.461111 & 0.461111 & 0.41639 \\\\\n",
       "\t2 & 1.02222 & 3.45833 & 0.9 & 4.35833 & 4.29367 \\\\\n",
       "\t3 & 2.23056 & 9.16111 & 1.36111 & 10.5222 & 10.6363 \\\\\n",
       "\t4 & 2.54722 & 5.69722 & 1.71111 & 7.40833 & 18.2185 \\\\\n",
       "\\end{tabular}\n"
      ],
      "text/plain": [
       "\u001b[1m4×5 DataFrame\u001b[0m\n",
       "\u001b[1m Row \u001b[0m│\u001b[1m swd      \u001b[0m\u001b[1m dir     \u001b[0m\u001b[1m dif      \u001b[0m\u001b[1m sum       \u001b[0m\u001b[1m ghi      \u001b[0m\n",
       "\u001b[1m     \u001b[0m│\u001b[90m Float64  \u001b[0m\u001b[90m Float64 \u001b[0m\u001b[90m Float64  \u001b[0m\u001b[90m Float64   \u001b[0m\u001b[90m Float64  \u001b[0m\n",
       "─────┼──────────────────────────────────────────────────\n",
       "   1 │ 0.452778  0.0      0.461111   0.461111   0.41639\n",
       "   2 │ 1.02222   3.45833  0.9        4.35833    4.29367\n",
       "   3 │ 2.23056   9.16111  1.36111   10.5222    10.6363\n",
       "   4 │ 2.54722   5.69722  1.71111    7.40833   18.2185"
      ]
     },
     "execution_count": 22,
     "metadata": {},
     "output_type": "execute_result"
    }
   ],
   "source": [
    "tes"
   ]
  },
  {
   "cell_type": "code",
   "execution_count": 59,
   "id": "87faaa27-6a65-45dc-badb-5807cda6d5da",
   "metadata": {
    "collapsed": true,
    "execution": {
     "iopub.execute_input": "2021-07-27T15:48:29.036000+02:00",
     "iopub.status.busy": "2021-07-27T15:48:29.036000+02:00",
     "iopub.status.idle": "2021-07-27T15:48:29.040000+02:00",
     "shell.execute_reply": "2021-07-27T15:48:29.040000+02:00"
    },
    "jupyter": {
     "outputs_hidden": true
    },
    "tags": []
   },
   "outputs": [
    {
     "data": {
      "text/plain": [
       "97-element Vector{Union{Missing, Float64}}:\n",
       "    missing\n",
       " NaN\n",
       " NaN\n",
       " NaN\n",
       " NaN\n",
       " NaN\n",
       " NaN\n",
       " NaN\n",
       " NaN\n",
       " NaN\n",
       " NaN\n",
       " NaN\n",
       " NaN\n",
       "   ⋮\n",
       " NaN\n",
       " NaN\n",
       " NaN\n",
       " NaN\n",
       " NaN\n",
       " NaN\n",
       " NaN\n",
       " NaN\n",
       " NaN\n",
       " NaN\n",
       " NaN\n",
       " NaN"
      ]
     },
     "execution_count": 59,
     "metadata": {},
     "output_type": "execute_result"
    }
   ],
   "source": [
    "dff = copy(day1_nn)\n",
    "dff.cmf = dff.ghi ./ dff.ghiCS"
   ]
  },
  {
   "cell_type": "code",
   "execution_count": 62,
   "id": "b58059b6-9276-41bc-928c-f72cdf125080",
   "metadata": {
    "collapsed": true,
    "execution": {
     "iopub.execute_input": "2021-07-27T15:48:46.599000+02:00",
     "iopub.status.busy": "2021-07-27T15:48:46.599000+02:00",
     "iopub.status.idle": "2021-07-27T15:48:46.624000+02:00",
     "shell.execute_reply": "2021-07-27T15:48:46.623000+02:00"
    },
    "jupyter": {
     "outputs_hidden": true
    },
    "tags": []
   },
   "outputs": [
    {
     "data": {
      "image/svg+xml": [
       "<?xml version=\"1.0\" encoding=\"utf-8\"?>\n",
       "<svg xmlns=\"http://www.w3.org/2000/svg\" xmlns:xlink=\"http://www.w3.org/1999/xlink\" width=\"600\" height=\"400\" viewBox=\"0 0 2400 1600\">\n",
       "<defs>\n",
       "  <clipPath id=\"clip900\">\n",
       "    <rect x=\"0\" y=\"0\" width=\"2400\" height=\"1600\"/>\n",
       "  </clipPath>\n",
       "</defs>\n",
       "<path clip-path=\"url(#clip900)\" d=\"\n",
       "M0 1600 L2400 1600 L2400 0 L0 0  Z\n",
       "  \" fill=\"#ffffff\" fill-rule=\"evenodd\" fill-opacity=\"1\"/>\n",
       "<defs>\n",
       "  <clipPath id=\"clip901\">\n",
       "    <rect x=\"480\" y=\"0\" width=\"1681\" height=\"1600\"/>\n",
       "  </clipPath>\n",
       "</defs>\n",
       "<path clip-path=\"url(#clip900)\" d=\"\n",
       "M140.696 1486.45 L2352.76 1486.45 L2352.76 47.2441 L140.696 47.2441  Z\n",
       "  \" fill=\"#ffffff\" fill-rule=\"evenodd\" fill-opacity=\"1\"/>\n",
       "<defs>\n",
       "  <clipPath id=\"clip902\">\n",
       "    <rect x=\"140\" y=\"47\" width=\"2213\" height=\"1440\"/>\n",
       "  </clipPath>\n",
       "</defs>\n",
       "<polyline clip-path=\"url(#clip902)\" style=\"stroke:#000000; stroke-width:2; stroke-opacity:0.1; fill:none\" points=\"\n",
       "  181.563,1486.45 181.563,47.2441 \n",
       "  \"/>\n",
       "<polyline clip-path=\"url(#clip902)\" style=\"stroke:#000000; stroke-width:2; stroke-opacity:0.1; fill:none\" points=\"\n",
       "  616.323,1486.45 616.323,47.2441 \n",
       "  \"/>\n",
       "<polyline clip-path=\"url(#clip902)\" style=\"stroke:#000000; stroke-width:2; stroke-opacity:0.1; fill:none\" points=\"\n",
       "  1051.08,1486.45 1051.08,47.2441 \n",
       "  \"/>\n",
       "<polyline clip-path=\"url(#clip902)\" style=\"stroke:#000000; stroke-width:2; stroke-opacity:0.1; fill:none\" points=\"\n",
       "  1485.84,1486.45 1485.84,47.2441 \n",
       "  \"/>\n",
       "<polyline clip-path=\"url(#clip902)\" style=\"stroke:#000000; stroke-width:2; stroke-opacity:0.1; fill:none\" points=\"\n",
       "  1920.6,1486.45 1920.6,47.2441 \n",
       "  \"/>\n",
       "<polyline clip-path=\"url(#clip900)\" style=\"stroke:#000000; stroke-width:4; stroke-opacity:1; fill:none\" points=\"\n",
       "  140.696,1486.45 2352.76,1486.45 \n",
       "  \"/>\n",
       "<polyline clip-path=\"url(#clip900)\" style=\"stroke:#000000; stroke-width:4; stroke-opacity:1; fill:none\" points=\"\n",
       "  181.563,1486.45 181.563,1469.18 \n",
       "  \"/>\n",
       "<polyline clip-path=\"url(#clip900)\" style=\"stroke:#000000; stroke-width:4; stroke-opacity:1; fill:none\" points=\"\n",
       "  616.323,1486.45 616.323,1469.18 \n",
       "  \"/>\n",
       "<polyline clip-path=\"url(#clip900)\" style=\"stroke:#000000; stroke-width:4; stroke-opacity:1; fill:none\" points=\"\n",
       "  1051.08,1486.45 1051.08,1469.18 \n",
       "  \"/>\n",
       "<polyline clip-path=\"url(#clip900)\" style=\"stroke:#000000; stroke-width:4; stroke-opacity:1; fill:none\" points=\"\n",
       "  1485.84,1486.45 1485.84,1469.18 \n",
       "  \"/>\n",
       "<polyline clip-path=\"url(#clip900)\" style=\"stroke:#000000; stroke-width:4; stroke-opacity:1; fill:none\" points=\"\n",
       "  1920.6,1486.45 1920.6,1469.18 \n",
       "  \"/>\n",
       "<path clip-path=\"url(#clip900)\" d=\"M 0 0 M181.563 1515.64 Q177.952 1515.64 176.123 1519.2 Q174.318 1522.75 174.318 1529.87 Q174.318 1536.98 176.123 1540.55 Q177.952 1544.09 181.563 1544.09 Q185.197 1544.09 187.003 1540.55 Q188.831 1536.98 188.831 1529.87 Q188.831 1522.75 187.003 1519.2 Q185.197 1515.64 181.563 1515.64 M181.563 1511.93 Q187.373 1511.93 190.429 1516.54 Q193.507 1521.12 193.507 1529.87 Q193.507 1538.6 190.429 1543.21 Q187.373 1547.79 181.563 1547.79 Q175.753 1547.79 172.674 1543.21 Q169.619 1538.6 169.619 1529.87 Q169.619 1521.12 172.674 1516.54 Q175.753 1511.93 181.563 1511.93 Z\" fill=\"#000000\" fill-rule=\"evenodd\" fill-opacity=\"1\" /><path clip-path=\"url(#clip900)\" d=\"M 0 0 M595.097 1543.18 L611.416 1543.18 L611.416 1547.12 L589.472 1547.12 L589.472 1543.18 Q592.134 1540.43 596.717 1535.8 Q601.323 1531.15 602.504 1529.81 Q604.749 1527.28 605.629 1525.55 Q606.532 1523.79 606.532 1522.1 Q606.532 1519.34 604.587 1517.61 Q602.666 1515.87 599.564 1515.87 Q597.365 1515.87 594.911 1516.63 Q592.481 1517.4 589.703 1518.95 L589.703 1514.23 Q592.527 1513.09 594.981 1512.51 Q597.435 1511.93 599.472 1511.93 Q604.842 1511.93 608.036 1514.62 Q611.231 1517.31 611.231 1521.8 Q611.231 1523.93 610.421 1525.85 Q609.634 1527.74 607.527 1530.34 Q606.948 1531.01 603.847 1534.23 Q600.745 1537.42 595.097 1543.18 Z\" fill=\"#000000\" fill-rule=\"evenodd\" fill-opacity=\"1\" /><path clip-path=\"url(#clip900)\" d=\"M 0 0 M631.231 1515.64 Q627.62 1515.64 625.791 1519.2 Q623.985 1522.75 623.985 1529.87 Q623.985 1536.98 625.791 1540.55 Q627.62 1544.09 631.231 1544.09 Q634.865 1544.09 636.67 1540.55 Q638.499 1536.98 638.499 1529.87 Q638.499 1522.75 636.67 1519.2 Q634.865 1515.64 631.231 1515.64 M631.231 1511.93 Q637.041 1511.93 640.096 1516.54 Q643.175 1521.12 643.175 1529.87 Q643.175 1538.6 640.096 1543.21 Q637.041 1547.79 631.231 1547.79 Q625.42 1547.79 622.342 1543.21 Q619.286 1538.6 619.286 1529.87 Q619.286 1521.12 622.342 1516.54 Q625.42 1511.93 631.231 1511.93 Z\" fill=\"#000000\" fill-rule=\"evenodd\" fill-opacity=\"1\" /><path clip-path=\"url(#clip900)\" d=\"M 0 0 M1039.25 1516.63 L1027.45 1535.08 L1039.25 1535.08 L1039.25 1516.63 M1038.03 1512.56 L1043.91 1512.56 L1043.91 1535.08 L1048.84 1535.08 L1048.84 1538.97 L1043.91 1538.97 L1043.91 1547.12 L1039.25 1547.12 L1039.25 1538.97 L1023.65 1538.97 L1023.65 1534.46 L1038.03 1512.56 Z\" fill=\"#000000\" fill-rule=\"evenodd\" fill-opacity=\"1\" /><path clip-path=\"url(#clip900)\" d=\"M 0 0 M1066.57 1515.64 Q1062.96 1515.64 1061.13 1519.2 Q1059.32 1522.75 1059.32 1529.87 Q1059.32 1536.98 1061.13 1540.55 Q1062.96 1544.09 1066.57 1544.09 Q1070.2 1544.09 1072.01 1540.55 Q1073.84 1536.98 1073.84 1529.87 Q1073.84 1522.75 1072.01 1519.2 Q1070.2 1515.64 1066.57 1515.64 M1066.57 1511.93 Q1072.38 1511.93 1075.44 1516.54 Q1078.51 1521.12 1078.51 1529.87 Q1078.51 1538.6 1075.44 1543.21 Q1072.38 1547.79 1066.57 1547.79 Q1060.76 1547.79 1057.68 1543.21 Q1054.63 1538.6 1054.63 1529.87 Q1054.63 1521.12 1057.68 1516.54 Q1060.76 1511.93 1066.57 1511.93 Z\" fill=\"#000000\" fill-rule=\"evenodd\" fill-opacity=\"1\" /><path clip-path=\"url(#clip900)\" d=\"M 0 0 M1471.25 1527.98 Q1468.1 1527.98 1466.25 1530.13 Q1464.42 1532.28 1464.42 1536.03 Q1464.42 1539.76 1466.25 1541.93 Q1468.1 1544.09 1471.25 1544.09 Q1474.4 1544.09 1476.23 1541.93 Q1478.08 1539.76 1478.08 1536.03 Q1478.08 1532.28 1476.23 1530.13 Q1474.4 1527.98 1471.25 1527.98 M1480.53 1513.32 L1480.53 1517.58 Q1478.77 1516.75 1476.97 1516.31 Q1475.18 1515.87 1473.42 1515.87 Q1468.8 1515.87 1466.34 1519 Q1463.91 1522.12 1463.56 1528.44 Q1464.93 1526.43 1466.99 1525.36 Q1469.05 1524.27 1471.53 1524.27 Q1476.74 1524.27 1479.74 1527.44 Q1482.78 1530.59 1482.78 1536.03 Q1482.78 1541.36 1479.63 1544.57 Q1476.48 1547.79 1471.25 1547.79 Q1465.25 1547.79 1462.08 1543.21 Q1458.91 1538.6 1458.91 1529.87 Q1458.91 1521.68 1462.8 1516.82 Q1466.69 1511.93 1473.24 1511.93 Q1475 1511.93 1476.78 1512.28 Q1478.59 1512.63 1480.53 1513.32 Z\" fill=\"#000000\" fill-rule=\"evenodd\" fill-opacity=\"1\" /><path clip-path=\"url(#clip900)\" d=\"M 0 0 M1500.83 1515.64 Q1497.22 1515.64 1495.39 1519.2 Q1493.59 1522.75 1493.59 1529.87 Q1493.59 1536.98 1495.39 1540.55 Q1497.22 1544.09 1500.83 1544.09 Q1504.47 1544.09 1506.27 1540.55 Q1508.1 1536.98 1508.1 1529.87 Q1508.1 1522.75 1506.27 1519.2 Q1504.47 1515.64 1500.83 1515.64 M1500.83 1511.93 Q1506.64 1511.93 1509.7 1516.54 Q1512.78 1521.12 1512.78 1529.87 Q1512.78 1538.6 1509.7 1543.21 Q1506.64 1547.79 1500.83 1547.79 Q1495.02 1547.79 1491.94 1543.21 Q1488.89 1538.6 1488.89 1529.87 Q1488.89 1521.12 1491.94 1516.54 Q1495.02 1511.93 1500.83 1511.93 Z\" fill=\"#000000\" fill-rule=\"evenodd\" fill-opacity=\"1\" /><path clip-path=\"url(#clip900)\" d=\"M 0 0 M1905.48 1530.71 Q1902.14 1530.71 1900.22 1532.49 Q1898.32 1534.27 1898.32 1537.4 Q1898.32 1540.52 1900.22 1542.31 Q1902.14 1544.09 1905.48 1544.09 Q1908.81 1544.09 1910.73 1542.31 Q1912.65 1540.5 1912.65 1537.4 Q1912.65 1534.27 1910.73 1532.49 Q1908.83 1530.71 1905.48 1530.71 M1900.8 1528.72 Q1897.79 1527.98 1896.1 1525.92 Q1894.44 1523.86 1894.44 1520.89 Q1894.44 1516.75 1897.38 1514.34 Q1900.34 1511.93 1905.48 1511.93 Q1910.64 1511.93 1913.58 1514.34 Q1916.52 1516.75 1916.52 1520.89 Q1916.52 1523.86 1914.83 1525.92 Q1913.16 1527.98 1910.18 1528.72 Q1913.56 1529.5 1915.43 1531.8 Q1917.33 1534.09 1917.33 1537.4 Q1917.33 1542.42 1914.25 1545.11 Q1911.19 1547.79 1905.48 1547.79 Q1899.76 1547.79 1896.68 1545.11 Q1893.63 1542.42 1893.63 1537.4 Q1893.63 1534.09 1895.52 1531.8 Q1897.42 1529.5 1900.8 1528.72 M1899.09 1521.33 Q1899.09 1524.02 1900.75 1525.52 Q1902.44 1527.03 1905.48 1527.03 Q1908.49 1527.03 1910.18 1525.52 Q1911.89 1524.02 1911.89 1521.33 Q1911.89 1518.65 1910.18 1517.14 Q1908.49 1515.64 1905.48 1515.64 Q1902.44 1515.64 1900.75 1517.14 Q1899.09 1518.65 1899.09 1521.33 Z\" fill=\"#000000\" fill-rule=\"evenodd\" fill-opacity=\"1\" /><path clip-path=\"url(#clip900)\" d=\"M 0 0 M1935.64 1515.64 Q1932.03 1515.64 1930.2 1519.2 Q1928.39 1522.75 1928.39 1529.87 Q1928.39 1536.98 1930.2 1540.55 Q1932.03 1544.09 1935.64 1544.09 Q1939.27 1544.09 1941.08 1540.55 Q1942.91 1536.98 1942.91 1529.87 Q1942.91 1522.75 1941.08 1519.2 Q1939.27 1515.64 1935.64 1515.64 M1935.64 1511.93 Q1941.45 1511.93 1944.5 1516.54 Q1947.58 1521.12 1947.58 1529.87 Q1947.58 1538.6 1944.5 1543.21 Q1941.45 1547.79 1935.64 1547.79 Q1929.83 1547.79 1926.75 1543.21 Q1923.69 1538.6 1923.69 1529.87 Q1923.69 1521.12 1926.75 1516.54 Q1929.83 1511.93 1935.64 1511.93 Z\" fill=\"#000000\" fill-rule=\"evenodd\" fill-opacity=\"1\" /><polyline clip-path=\"url(#clip902)\" style=\"stroke:#000000; stroke-width:2; stroke-opacity:0.1; fill:none\" points=\"\n",
       "  140.696,1160.41 2352.76,1160.41 \n",
       "  \"/>\n",
       "<polyline clip-path=\"url(#clip902)\" style=\"stroke:#000000; stroke-width:2; stroke-opacity:0.1; fill:none\" points=\"\n",
       "  140.696,810.605 2352.76,810.605 \n",
       "  \"/>\n",
       "<polyline clip-path=\"url(#clip902)\" style=\"stroke:#000000; stroke-width:2; stroke-opacity:0.1; fill:none\" points=\"\n",
       "  140.696,460.8 2352.76,460.8 \n",
       "  \"/>\n",
       "<polyline clip-path=\"url(#clip902)\" style=\"stroke:#000000; stroke-width:2; stroke-opacity:0.1; fill:none\" points=\"\n",
       "  140.696,110.995 2352.76,110.995 \n",
       "  \"/>\n",
       "<polyline clip-path=\"url(#clip900)\" style=\"stroke:#000000; stroke-width:4; stroke-opacity:1; fill:none\" points=\"\n",
       "  140.696,1486.45 140.696,47.2441 \n",
       "  \"/>\n",
       "<polyline clip-path=\"url(#clip900)\" style=\"stroke:#000000; stroke-width:4; stroke-opacity:1; fill:none\" points=\"\n",
       "  140.696,1160.41 167.24,1160.41 \n",
       "  \"/>\n",
       "<polyline clip-path=\"url(#clip900)\" style=\"stroke:#000000; stroke-width:4; stroke-opacity:1; fill:none\" points=\"\n",
       "  140.696,810.605 167.24,810.605 \n",
       "  \"/>\n",
       "<polyline clip-path=\"url(#clip900)\" style=\"stroke:#000000; stroke-width:4; stroke-opacity:1; fill:none\" points=\"\n",
       "  140.696,460.8 167.24,460.8 \n",
       "  \"/>\n",
       "<polyline clip-path=\"url(#clip900)\" style=\"stroke:#000000; stroke-width:4; stroke-opacity:1; fill:none\" points=\"\n",
       "  140.696,110.995 167.24,110.995 \n",
       "  \"/>\n",
       "<path clip-path=\"url(#clip900)\" d=\"M 0 0 M83.7929 1143.13 L102.149 1143.13 L102.149 1147.07 L88.0753 1147.07 L88.0753 1155.54 Q89.0938 1155.19 90.1123 1155.03 Q91.1308 1154.84 92.1493 1154.84 Q97.9363 1154.84 101.316 1158.01 Q104.696 1161.19 104.696 1166.6 Q104.696 1172.18 101.223 1175.28 Q97.7511 1178.36 91.4317 1178.36 Q89.2558 1178.36 86.9873 1177.99 Q84.7419 1177.62 82.3346 1176.88 L82.3346 1172.18 Q84.4179 1173.32 86.6401 1173.87 Q88.8623 1174.43 91.3391 1174.43 Q95.3437 1174.43 97.6817 1172.32 Q100.02 1170.21 100.02 1166.6 Q100.02 1162.99 97.6817 1160.88 Q95.3437 1158.78 91.3391 1158.78 Q89.4641 1158.78 87.5892 1159.19 Q85.7373 1159.61 83.7929 1160.49 L83.7929 1143.13 Z\" fill=\"#000000\" fill-rule=\"evenodd\" fill-opacity=\"1\" /><path clip-path=\"url(#clip900)\" d=\"M 0 0 M53.3995 823.95 L61.0384 823.95 L61.0384 797.584 L52.7282 799.251 L52.7282 794.992 L60.9921 793.325 L65.668 793.325 L65.668 823.95 L73.3068 823.95 L73.3068 827.885 L53.3995 827.885 L53.3995 823.95 Z\" fill=\"#000000\" fill-rule=\"evenodd\" fill-opacity=\"1\" /><path clip-path=\"url(#clip900)\" d=\"M 0 0 M92.7512 796.404 Q89.1401 796.404 87.3114 799.969 Q85.5058 803.51 85.5058 810.64 Q85.5058 817.746 87.3114 821.311 Q89.1401 824.853 92.7512 824.853 Q96.3854 824.853 98.1909 821.311 Q100.02 817.746 100.02 810.64 Q100.02 803.51 98.1909 799.969 Q96.3854 796.404 92.7512 796.404 M92.7512 792.7 Q98.5613 792.7 101.617 797.307 Q104.696 801.89 104.696 810.64 Q104.696 819.367 101.617 823.973 Q98.5613 828.556 92.7512 828.556 Q86.941 828.556 83.8623 823.973 Q80.8068 819.367 80.8068 810.64 Q80.8068 801.89 83.8623 797.307 Q86.941 792.7 92.7512 792.7 Z\" fill=\"#000000\" fill-rule=\"evenodd\" fill-opacity=\"1\" /><path clip-path=\"url(#clip900)\" d=\"M 0 0 M54.3949 474.145 L62.0337 474.145 L62.0337 447.779 L53.7236 449.446 L53.7236 445.187 L61.9874 443.52 L66.6633 443.52 L66.6633 474.145 L74.3022 474.145 L74.3022 478.08 L54.3949 478.08 L54.3949 474.145 Z\" fill=\"#000000\" fill-rule=\"evenodd\" fill-opacity=\"1\" /><path clip-path=\"url(#clip900)\" d=\"M 0 0 M83.7929 443.52 L102.149 443.52 L102.149 447.455 L88.0753 447.455 L88.0753 455.927 Q89.0938 455.58 90.1123 455.418 Q91.1308 455.233 92.1493 455.233 Q97.9363 455.233 101.316 458.404 Q104.696 461.575 104.696 466.992 Q104.696 472.571 101.223 475.673 Q97.7511 478.751 91.4317 478.751 Q89.2558 478.751 86.9873 478.381 Q84.7419 478.01 82.3346 477.27 L82.3346 472.571 Q84.4179 473.705 86.6401 474.261 Q88.8623 474.816 91.3391 474.816 Q95.3437 474.816 97.6817 472.71 Q100.02 470.603 100.02 466.992 Q100.02 463.381 97.6817 461.274 Q95.3437 459.168 91.3391 459.168 Q89.4641 459.168 87.5892 459.585 Q85.7373 460.001 83.7929 460.881 L83.7929 443.52 Z\" fill=\"#000000\" fill-rule=\"evenodd\" fill-opacity=\"1\" /><path clip-path=\"url(#clip900)\" d=\"M 0 0 M56.6171 124.34 L72.9365 124.34 L72.9365 128.275 L50.9921 128.275 L50.9921 124.34 Q53.6541 121.585 58.2375 116.955 Q62.8439 112.303 64.0245 110.96 Q66.2698 108.437 67.1494 106.701 Q68.0522 104.942 68.0522 103.252 Q68.0522 100.497 66.1078 98.761 Q64.1865 97.0249 61.0847 97.0249 Q58.8856 97.0249 56.4319 97.7888 Q54.0014 98.5527 51.2236 100.104 L51.2236 95.3814 Q54.0477 94.2472 56.5014 93.6685 Q58.955 93.0898 60.9921 93.0898 Q66.3624 93.0898 69.5568 95.775 Q72.7513 98.4601 72.7513 102.951 Q72.7513 105.08 71.9411 107.002 Q71.1541 108.9 69.0476 111.492 Q68.4689 112.164 65.367 115.381 Q62.2652 118.576 56.6171 124.34 Z\" fill=\"#000000\" fill-rule=\"evenodd\" fill-opacity=\"1\" /><path clip-path=\"url(#clip900)\" d=\"M 0 0 M92.7512 96.7935 Q89.1401 96.7935 87.3114 100.358 Q85.5058 103.9 85.5058 111.03 Q85.5058 118.136 87.3114 121.701 Q89.1401 125.242 92.7512 125.242 Q96.3854 125.242 98.1909 121.701 Q100.02 118.136 100.02 111.03 Q100.02 103.9 98.1909 100.358 Q96.3854 96.7935 92.7512 96.7935 M92.7512 93.0898 Q98.5613 93.0898 101.617 97.6962 Q104.696 102.28 104.696 111.03 Q104.696 119.756 101.617 124.363 Q98.5613 128.946 92.7512 128.946 Q86.941 128.946 83.8623 124.363 Q80.8068 119.756 80.8068 111.03 Q80.8068 102.28 83.8623 97.6962 Q86.941 93.0898 92.7512 93.0898 Z\" fill=\"#000000\" fill-rule=\"evenodd\" fill-opacity=\"1\" /><polyline clip-path=\"url(#clip902)\" style=\"stroke:#009af9; stroke-width:4; stroke-opacity:1; fill:none\" points=\"\n",
       "  551.109,725.652 572.847,201.969 594.585,87.9763 616.323,908.397 638.061,334.042 659.799,627.309 681.537,677.949 703.275,1101.1 725.013,884.028 746.751,1207.69 \n",
       "  768.489,1112.05 790.227,1322.2 811.965,1379.77 833.703,1357.88 855.441,1346.69 877.179,1339.12 898.917,1380.35 920.656,1307.89 942.394,1130.63 964.132,1143.04 \n",
       "  985.87,1155.47 1007.61,1166.37 1029.35,1176.3 1051.08,1182.14 1072.82,1191.58 1094.56,1197.39 1116.3,1200.8 1138.04,1204.46 1159.77,1203.43 1181.51,1213.33 \n",
       "  1203.25,1207.56 1224.99,1242.82 1246.73,1187.86 1268.46,1327.02 1290.2,1429.24 1311.94,1343.41 1333.68,1174.74 1355.42,1182.02 1377.15,1163.88 1398.89,1315.11 \n",
       "  1420.63,1419.83 1442.37,1340.36 1464.11,1253 1485.84,1361.08 1507.58,1156.85 1529.32,1103.04 1551.06,1079.71 1572.8,1077.21 1594.53,1121.53 1616.27,1195.08 \n",
       "  1638.01,1445.72 1659.75,1265.47 1681.49,887.603 1703.22,759.648 1724.96,683.784 1746.7,719.512 1768.44,897.655 1790.18,1332.51 1811.91,1348.82 1833.65,1400.02 \n",
       "  1855.39,729.214 1877.13,1326.47 1898.87,535.436 \n",
       "  \"/>\n",
       "<path clip-path=\"url(#clip900)\" d=\"\n",
       "M1980.81 216.178 L2279.02 216.178 L2279.02 95.2176 L1980.81 95.2176  Z\n",
       "  \" fill=\"#ffffff\" fill-rule=\"evenodd\" fill-opacity=\"1\"/>\n",
       "<polyline clip-path=\"url(#clip900)\" style=\"stroke:#000000; stroke-width:4; stroke-opacity:1; fill:none\" points=\"\n",
       "  1980.81,216.178 2279.02,216.178 2279.02,95.2176 1980.81,95.2176 1980.81,216.178 \n",
       "  \"/>\n",
       "<polyline clip-path=\"url(#clip900)\" style=\"stroke:#009af9; stroke-width:4; stroke-opacity:1; fill:none\" points=\"\n",
       "  2005.38,155.698 2152.85,155.698 \n",
       "  \"/>\n",
       "<path clip-path=\"url(#clip900)\" d=\"M 0 0 M2191.28 175.385 Q2189.47 180.015 2187.76 181.427 Q2186.04 182.839 2183.17 182.839 L2179.77 182.839 L2179.77 179.274 L2182.27 179.274 Q2184.03 179.274 2185 178.44 Q2185.98 177.607 2187.16 174.505 L2187.92 172.561 L2177.43 147.052 L2181.95 147.052 L2190.05 167.329 L2198.15 147.052 L2202.66 147.052 L2191.28 175.385 Z\" fill=\"#000000\" fill-rule=\"evenodd\" fill-opacity=\"1\" /><path clip-path=\"url(#clip900)\" d=\"M 0 0 M2209.96 169.042 L2217.6 169.042 L2217.6 142.677 L2209.29 144.343 L2209.29 140.084 L2217.55 138.418 L2222.22 138.418 L2222.22 169.042 L2229.86 169.042 L2229.86 172.978 L2209.96 172.978 L2209.96 169.042 Z\" fill=\"#000000\" fill-rule=\"evenodd\" fill-opacity=\"1\" /></svg>\n"
      ]
     },
     "execution_count": 62,
     "metadata": {},
     "output_type": "execute_result"
    }
   ],
   "source": [
    "plot(dff.cmf)"
   ]
  },
  {
   "cell_type": "code",
   "execution_count": 121,
   "id": "c9529c04-6a1a-424f-8cf0-461d6f3bc323",
   "metadata": {
    "execution": {
     "iopub.execute_input": "2021-07-26T17:10:10.452000+02:00",
     "iopub.status.busy": "2021-07-26T17:10:10.452000+02:00",
     "iopub.status.idle": "2021-07-26T17:10:10.632000+02:00",
     "shell.execute_reply": "2021-07-26T17:10:10.631000+02:00"
    },
    "scrolled": true,
    "tags": []
   },
   "outputs": [
    {
     "data": {
      "text/html": [
       "<table class=\"data-frame\"><thead><tr><th></th><th>time</th><th>cmf</th></tr><tr><th></th><th>DateTime</th><th>Float64?</th></tr></thead><tbody><p>16 rows × 2 columns</p><tr><th>1</th><td>2020-07-01T04:15:00</td><td>0.240634</td></tr><tr><th>2</th><td>2020-07-01T04:45:00</td><td>0.295965</td></tr><tr><th>3</th><td>2020-07-01T05:00:00</td><td>0.377965</td></tr><tr><th>4</th><td>2020-07-01T05:15:00</td><td>0.566522</td></tr><tr><th>5</th><td>2020-07-01T08:15:00</td><td>0.869119</td></tr><tr><th>6</th><td>2020-07-01T08:30:00</td><td>0.86215</td></tr><tr><th>7</th><td>2020-07-01T08:45:00</td><td>0.877472</td></tr><tr><th>8</th><td>2020-07-01T09:00:00</td><td>0.895651</td></tr><tr><th>9</th><td>2020-07-01T09:15:00</td><td>0.916408</td></tr><tr><th>10</th><td>2020-07-01T09:30:00</td><td>0.942874</td></tr><tr><th>11</th><td>2020-07-01T15:00:00</td><td>0.763831</td></tr><tr><th>12</th><td>2020-07-01T15:15:00</td><td>0.7276</td></tr><tr><th>13</th><td>2020-07-01T15:30:00</td><td>0.758543</td></tr><tr><th>14</th><td>2020-07-01T17:00:00</td><td>0.511795</td></tr><tr><th>15</th><td>2020-07-01T17:15:00</td><td>0.451488</td></tr><tr><th>16</th><td>2020-07-01T17:30:00</td><td>0.473244</td></tr></tbody></table>"
      ],
      "text/latex": [
       "\\begin{tabular}{r|cc}\n",
       "\t& time & cmf\\\\\n",
       "\t\\hline\n",
       "\t& DateTime & Float64?\\\\\n",
       "\t\\hline\n",
       "\t1 & 2020-07-01T04:15:00 & 0.240634 \\\\\n",
       "\t2 & 2020-07-01T04:45:00 & 0.295965 \\\\\n",
       "\t3 & 2020-07-01T05:00:00 & 0.377965 \\\\\n",
       "\t4 & 2020-07-01T05:15:00 & 0.566522 \\\\\n",
       "\t5 & 2020-07-01T08:15:00 & 0.869119 \\\\\n",
       "\t6 & 2020-07-01T08:30:00 & 0.86215 \\\\\n",
       "\t7 & 2020-07-01T08:45:00 & 0.877472 \\\\\n",
       "\t8 & 2020-07-01T09:00:00 & 0.895651 \\\\\n",
       "\t9 & 2020-07-01T09:15:00 & 0.916408 \\\\\n",
       "\t10 & 2020-07-01T09:30:00 & 0.942874 \\\\\n",
       "\t11 & 2020-07-01T15:00:00 & 0.763831 \\\\\n",
       "\t12 & 2020-07-01T15:15:00 & 0.7276 \\\\\n",
       "\t13 & 2020-07-01T15:30:00 & 0.758543 \\\\\n",
       "\t14 & 2020-07-01T17:00:00 & 0.511795 \\\\\n",
       "\t15 & 2020-07-01T17:15:00 & 0.451488 \\\\\n",
       "\t16 & 2020-07-01T17:30:00 & 0.473244 \\\\\n",
       "\\end{tabular}\n"
      ],
      "text/plain": [
       "\u001b[1m16×2 DataFrame\u001b[0m\n",
       "\u001b[1m Row \u001b[0m│\u001b[1m time                \u001b[0m\u001b[1m cmf      \u001b[0m\n",
       "\u001b[1m     \u001b[0m│\u001b[90m DateTime            \u001b[0m\u001b[90m Float64? \u001b[0m\n",
       "─────┼───────────────────────────────\n",
       "   1 │ 2020-07-01T04:15:00  0.240634\n",
       "   2 │ 2020-07-01T04:45:00  0.295965\n",
       "   3 │ 2020-07-01T05:00:00  0.377965\n",
       "   4 │ 2020-07-01T05:15:00  0.566522\n",
       "   5 │ 2020-07-01T08:15:00  0.869119\n",
       "   6 │ 2020-07-01T08:30:00  0.86215\n",
       "   7 │ 2020-07-01T08:45:00  0.877472\n",
       "   8 │ 2020-07-01T09:00:00  0.895651\n",
       "   9 │ 2020-07-01T09:15:00  0.916408\n",
       "  10 │ 2020-07-01T09:30:00  0.942874\n",
       "  11 │ 2020-07-01T15:00:00  0.763831\n",
       "  12 │ 2020-07-01T15:15:00  0.7276\n",
       "  13 │ 2020-07-01T15:30:00  0.758543\n",
       "  14 │ 2020-07-01T17:00:00  0.511795\n",
       "  15 │ 2020-07-01T17:15:00  0.451488\n",
       "  16 │ 2020-07-01T17:30:00  0.473244"
      ]
     },
     "execution_count": 121,
     "metadata": {},
     "output_type": "execute_result"
    }
   ],
   "source": [
    "day1_ = filter!(:cmf => c -> c.<0.95, day1_nn)"
   ]
  },
  {
   "cell_type": "code",
   "execution_count": 129,
   "id": "f1bc6c35-9901-4495-a5e1-482975133892",
   "metadata": {
    "collapsed": true,
    "execution": {
     "iopub.execute_input": "2021-07-26T17:12:05.421000+02:00",
     "iopub.status.busy": "2021-07-26T17:12:03.762000+02:00",
     "iopub.status.idle": "2021-07-26T17:12:19.743000+02:00",
     "shell.execute_reply": "2021-07-26T17:12:19.741000+02:00"
    },
    "jupyter": {
     "outputs_hidden": true
    },
    "tags": []
   },
   "outputs": [
    {
     "data": {
      "image/svg+xml": [
       "<?xml version=\"1.0\" encoding=\"utf-8\"?>\n",
       "<svg xmlns=\"http://www.w3.org/2000/svg\" xmlns:xlink=\"http://www.w3.org/1999/xlink\" width=\"600\" height=\"400\" viewBox=\"0 0 2400 1600\">\n",
       "<defs>\n",
       "  <clipPath id=\"clip580\">\n",
       "    <rect x=\"0\" y=\"0\" width=\"2400\" height=\"1600\"/>\n",
       "  </clipPath>\n",
       "</defs>\n",
       "<path clip-path=\"url(#clip580)\" d=\"\n",
       "M0 1600 L2400 1600 L2400 0 L0 0  Z\n",
       "  \" fill=\"#ffffff\" fill-rule=\"evenodd\" fill-opacity=\"1\"/>\n",
       "<defs>\n",
       "  <clipPath id=\"clip581\">\n",
       "    <rect x=\"480\" y=\"0\" width=\"1681\" height=\"1600\"/>\n",
       "  </clipPath>\n",
       "</defs>\n",
       "<path clip-path=\"url(#clip580)\" d=\"\n",
       "M156.598 1486.45 L2352.76 1486.45 L2352.76 47.2441 L156.598 47.2441  Z\n",
       "  \" fill=\"#ffffff\" fill-rule=\"evenodd\" fill-opacity=\"1\"/>\n",
       "<defs>\n",
       "  <clipPath id=\"clip582\">\n",
       "    <rect x=\"156\" y=\"47\" width=\"2197\" height=\"1440\"/>\n",
       "  </clipPath>\n",
       "</defs>\n",
       "<polyline clip-path=\"url(#clip582)\" style=\"stroke:#000000; stroke-width:2; stroke-opacity:0.1; fill:none\" points=\"\n",
       "  179.662,1486.45 179.662,47.2441 \n",
       "  \"/>\n",
       "<polyline clip-path=\"url(#clip582)\" style=\"stroke:#000000; stroke-width:2; stroke-opacity:0.1; fill:none\" points=\"\n",
       "  805.125,1486.45 805.125,47.2441 \n",
       "  \"/>\n",
       "<polyline clip-path=\"url(#clip582)\" style=\"stroke:#000000; stroke-width:2; stroke-opacity:0.1; fill:none\" points=\"\n",
       "  1430.59,1486.45 1430.59,47.2441 \n",
       "  \"/>\n",
       "<polyline clip-path=\"url(#clip582)\" style=\"stroke:#000000; stroke-width:2; stroke-opacity:0.1; fill:none\" points=\"\n",
       "  2056.05,1486.45 2056.05,47.2441 \n",
       "  \"/>\n",
       "<polyline clip-path=\"url(#clip580)\" style=\"stroke:#000000; stroke-width:4; stroke-opacity:1; fill:none\" points=\"\n",
       "  156.598,1486.45 2352.76,1486.45 \n",
       "  \"/>\n",
       "<polyline clip-path=\"url(#clip580)\" style=\"stroke:#000000; stroke-width:4; stroke-opacity:1; fill:none\" points=\"\n",
       "  179.662,1486.45 179.662,1469.18 \n",
       "  \"/>\n",
       "<polyline clip-path=\"url(#clip580)\" style=\"stroke:#000000; stroke-width:4; stroke-opacity:1; fill:none\" points=\"\n",
       "  805.125,1486.45 805.125,1469.18 \n",
       "  \"/>\n",
       "<polyline clip-path=\"url(#clip580)\" style=\"stroke:#000000; stroke-width:4; stroke-opacity:1; fill:none\" points=\"\n",
       "  1430.59,1486.45 1430.59,1469.18 \n",
       "  \"/>\n",
       "<polyline clip-path=\"url(#clip580)\" style=\"stroke:#000000; stroke-width:4; stroke-opacity:1; fill:none\" points=\"\n",
       "  2056.05,1486.45 2056.05,1469.18 \n",
       "  \"/>\n",
       "<path clip-path=\"url(#clip580)\" d=\"M 0 0 M-70.0934 1543.18 L-53.7741 1543.18 L-53.7741 1547.12 L-75.7184 1547.12 L-75.7184 1543.18 Q-73.0564 1540.43 -68.4731 1535.8 Q-63.8666 1531.15 -62.686 1529.81 Q-60.4407 1527.28 -59.5611 1525.55 Q-58.6583 1523.79 -58.6583 1522.1 Q-58.6583 1519.34 -60.6027 1517.61 Q-62.524 1515.87 -65.6258 1515.87 Q-67.8249 1515.87 -70.2786 1516.63 Q-72.7091 1517.4 -75.4869 1518.95 L-75.4869 1514.23 Q-72.6628 1513.09 -70.2092 1512.51 Q-67.7555 1511.93 -65.7184 1511.93 Q-60.3481 1511.93 -57.1537 1514.62 Q-53.9592 1517.31 -53.9592 1521.8 Q-53.9592 1523.93 -54.7694 1525.85 Q-55.5565 1527.74 -57.6629 1530.34 Q-58.2416 1531.01 -61.3435 1534.23 Q-64.4453 1537.42 -70.0934 1543.18 Z\" fill=\"#000000\" fill-rule=\"evenodd\" fill-opacity=\"1\" /><path clip-path=\"url(#clip580)\" d=\"M 0 0 M-33.9593 1515.64 Q-37.5704 1515.64 -39.3991 1519.2 Q-41.2047 1522.75 -41.2047 1529.87 Q-41.2047 1536.98 -39.3991 1540.55 Q-37.5704 1544.09 -33.9593 1544.09 Q-30.3251 1544.09 -28.5196 1540.55 Q-26.6909 1536.98 -26.6909 1529.87 Q-26.6909 1522.75 -28.5196 1519.2 Q-30.3251 1515.64 -33.9593 1515.64 M-33.9593 1511.93 Q-28.1492 1511.93 -25.0937 1516.54 Q-22.015 1521.12 -22.015 1529.87 Q-22.015 1538.6 -25.0937 1543.21 Q-28.1492 1547.79 -33.9593 1547.79 Q-39.7695 1547.79 -42.8482 1543.21 Q-45.9037 1538.6 -45.9037 1529.87 Q-45.9037 1521.12 -42.8482 1516.54 Q-39.7695 1511.93 -33.9593 1511.93 Z\" fill=\"#000000\" fill-rule=\"evenodd\" fill-opacity=\"1\" /><path clip-path=\"url(#clip580)\" d=\"M 0 0 M-9.76966 1543.18 L6.54969 1543.18 L6.54969 1547.12 L-15.3946 1547.12 L-15.3946 1543.18 Q-12.7326 1540.43 -8.1493 1535.8 Q-3.54285 1531.15 -2.3623 1529.81 Q-0.116939 1527.28 0.762686 1525.55 Q1.66546 1523.79 1.66546 1522.1 Q1.66546 1519.34 -0.278975 1517.61 Q-2.20026 1515.87 -5.3021 1515.87 Q-7.50116 1515.87 -9.95485 1516.63 Q-12.3854 1517.4 -15.1632 1518.95 L-15.1632 1514.23 Q-12.3391 1513.09 -9.8854 1512.51 Q-7.43171 1511.93 -5.39469 1511.93 Q-0.0243464 1511.93 3.17008 1514.62 Q6.36451 1517.31 6.36451 1521.8 Q6.36451 1523.93 5.55433 1525.85 Q4.76729 1527.74 2.66082 1530.34 Q2.08212 1531.01 -1.01971 1534.23 Q-4.12155 1537.42 -9.76966 1543.18 Z\" fill=\"#000000\" fill-rule=\"evenodd\" fill-opacity=\"1\" /><path clip-path=\"url(#clip580)\" d=\"M 0 0 M26.3644 1515.64 Q22.7533 1515.64 20.9246 1519.2 Q19.1191 1522.75 19.1191 1529.87 Q19.1191 1536.98 20.9246 1540.55 Q22.7533 1544.09 26.3644 1544.09 Q29.9986 1544.09 31.8042 1540.55 Q33.6329 1536.98 33.6329 1529.87 Q33.6329 1522.75 31.8042 1519.2 Q29.9986 1515.64 26.3644 1515.64 M26.3644 1511.93 Q32.1746 1511.93 35.2301 1516.54 Q38.3088 1521.12 38.3088 1529.87 Q38.3088 1538.6 35.2301 1543.21 Q32.1746 1547.79 26.3644 1547.79 Q20.5542 1547.79 17.4756 1543.21 Q14.42 1538.6 14.42 1529.87 Q14.42 1521.12 17.4756 1516.54 Q20.5542 1511.93 26.3644 1511.93 Z\" fill=\"#000000\" fill-rule=\"evenodd\" fill-opacity=\"1\" /><path clip-path=\"url(#clip580)\" d=\"M 0 0 M43.7717 1532.24 L56.2485 1532.24 L56.2485 1536.03 L43.7717 1536.03 L43.7717 1532.24 Z\" fill=\"#000000\" fill-rule=\"evenodd\" fill-opacity=\"1\" /><path clip-path=\"url(#clip580)\" d=\"M 0 0 M73.6327 1515.64 Q70.0216 1515.64 68.1929 1519.2 Q66.3873 1522.75 66.3873 1529.87 Q66.3873 1536.98 68.1929 1540.55 Q70.0216 1544.09 73.6327 1544.09 Q77.2669 1544.09 79.0725 1540.55 Q80.9011 1536.98 80.9011 1529.87 Q80.9011 1522.75 79.0725 1519.2 Q77.2669 1515.64 73.6327 1515.64 M73.6327 1511.93 Q79.4428 1511.93 82.4984 1516.54 Q85.577 1521.12 85.577 1529.87 Q85.577 1538.6 82.4984 1543.21 Q79.4428 1547.79 73.6327 1547.79 Q67.8225 1547.79 64.7438 1543.21 Q61.6883 1538.6 61.6883 1529.87 Q61.6883 1521.12 64.7438 1516.54 Q67.8225 1511.93 73.6327 1511.93 Z\" fill=\"#000000\" fill-rule=\"evenodd\" fill-opacity=\"1\" /><path clip-path=\"url(#clip580)\" d=\"M 0 0 M92.614 1512.56 L114.836 1512.56 L114.836 1514.55 L102.29 1547.12 L97.4057 1547.12 L109.211 1516.5 L92.614 1516.5 L92.614 1512.56 Z\" fill=\"#000000\" fill-rule=\"evenodd\" fill-opacity=\"1\" /><path clip-path=\"url(#clip580)\" d=\"M 0 0 M121.202 1532.24 L133.679 1532.24 L133.679 1536.03 L121.202 1536.03 L121.202 1532.24 Z\" fill=\"#000000\" fill-rule=\"evenodd\" fill-opacity=\"1\" /><path clip-path=\"url(#clip580)\" d=\"M 0 0 M151.063 1515.64 Q147.452 1515.64 145.623 1519.2 Q143.817 1522.75 143.817 1529.87 Q143.817 1536.98 145.623 1540.55 Q147.452 1544.09 151.063 1544.09 Q154.697 1544.09 156.503 1540.55 Q158.331 1536.98 158.331 1529.87 Q158.331 1522.75 156.503 1519.2 Q154.697 1515.64 151.063 1515.64 M151.063 1511.93 Q156.873 1511.93 159.929 1516.54 Q163.007 1521.12 163.007 1529.87 Q163.007 1538.6 159.929 1543.21 Q156.873 1547.79 151.063 1547.79 Q145.253 1547.79 142.174 1543.21 Q139.118 1538.6 139.118 1529.87 Q139.118 1521.12 142.174 1516.54 Q145.253 1511.93 151.063 1511.93 Z\" fill=\"#000000\" fill-rule=\"evenodd\" fill-opacity=\"1\" /><path clip-path=\"url(#clip580)\" d=\"M 0 0 M172.035 1543.18 L179.674 1543.18 L179.674 1516.82 L171.364 1518.49 L171.364 1514.23 L179.627 1512.56 L184.303 1512.56 L184.303 1543.18 L191.942 1543.18 L191.942 1547.12 L172.035 1547.12 L172.035 1543.18 Z\" fill=\"#000000\" fill-rule=\"evenodd\" fill-opacity=\"1\" /><path clip-path=\"url(#clip580)\" d=\"M 0 0 M196.178 1512.56 L225.414 1512.56 L225.414 1516.5 L213.146 1516.5 L213.146 1547.12 L208.447 1547.12 L208.447 1516.5 L196.178 1516.5 L196.178 1512.56 Z\" fill=\"#000000\" fill-rule=\"evenodd\" fill-opacity=\"1\" /><path clip-path=\"url(#clip580)\" d=\"M 0 0 M240.345 1515.64 Q236.734 1515.64 234.905 1519.2 Q233.099 1522.75 233.099 1529.87 Q233.099 1536.98 234.905 1540.55 Q236.734 1544.09 240.345 1544.09 Q243.979 1544.09 245.785 1540.55 Q247.613 1536.98 247.613 1529.87 Q247.613 1522.75 245.785 1519.2 Q243.979 1515.64 240.345 1515.64 M240.345 1511.93 Q246.155 1511.93 249.21 1516.54 Q252.289 1521.12 252.289 1529.87 Q252.289 1538.6 249.21 1543.21 Q246.155 1547.79 240.345 1547.79 Q234.535 1547.79 231.456 1543.21 Q228.4 1538.6 228.4 1529.87 Q228.4 1521.12 231.456 1516.54 Q234.535 1511.93 240.345 1511.93 Z\" fill=\"#000000\" fill-rule=\"evenodd\" fill-opacity=\"1\" /><path clip-path=\"url(#clip580)\" d=\"M 0 0 M273.354 1516.63 L261.548 1535.08 L273.354 1535.08 L273.354 1516.63 M272.127 1512.56 L278.007 1512.56 L278.007 1535.08 L282.937 1535.08 L282.937 1538.97 L278.007 1538.97 L278.007 1547.12 L273.354 1547.12 L273.354 1538.97 L257.752 1538.97 L257.752 1534.46 L272.127 1512.56 Z\" fill=\"#000000\" fill-rule=\"evenodd\" fill-opacity=\"1\" /><path clip-path=\"url(#clip580)\" d=\"M 0 0 M291.155 1541.24 L296.039 1541.24 L296.039 1547.12 L291.155 1547.12 L291.155 1541.24 M291.155 1522.61 L296.039 1522.61 L296.039 1528.49 L291.155 1528.49 L291.155 1522.61 Z\" fill=\"#000000\" fill-rule=\"evenodd\" fill-opacity=\"1\" /><path clip-path=\"url(#clip580)\" d=\"M 0 0 M316.641 1515.64 Q313.03 1515.64 311.201 1519.2 Q309.395 1522.75 309.395 1529.87 Q309.395 1536.98 311.201 1540.55 Q313.03 1544.09 316.641 1544.09 Q320.275 1544.09 322.08 1540.55 Q323.909 1536.98 323.909 1529.87 Q323.909 1522.75 322.08 1519.2 Q320.275 1515.64 316.641 1515.64 M316.641 1511.93 Q322.451 1511.93 325.506 1516.54 Q328.585 1521.12 328.585 1529.87 Q328.585 1538.6 325.506 1543.21 Q322.451 1547.79 316.641 1547.79 Q310.83 1547.79 307.752 1543.21 Q304.696 1538.6 304.696 1529.87 Q304.696 1521.12 307.752 1516.54 Q310.83 1511.93 316.641 1511.93 Z\" fill=\"#000000\" fill-rule=\"evenodd\" fill-opacity=\"1\" /><path clip-path=\"url(#clip580)\" d=\"M 0 0 M346.802 1515.64 Q343.191 1515.64 341.363 1519.2 Q339.557 1522.75 339.557 1529.87 Q339.557 1536.98 341.363 1540.55 Q343.191 1544.09 346.802 1544.09 Q350.437 1544.09 352.242 1540.55 Q354.071 1536.98 354.071 1529.87 Q354.071 1522.75 352.242 1519.2 Q350.437 1515.64 346.802 1515.64 M346.802 1511.93 Q352.613 1511.93 355.668 1516.54 Q358.747 1521.12 358.747 1529.87 Q358.747 1538.6 355.668 1543.21 Q352.613 1547.79 346.802 1547.79 Q340.992 1547.79 337.914 1543.21 Q334.858 1538.6 334.858 1529.87 Q334.858 1521.12 337.914 1516.54 Q340.992 1511.93 346.802 1511.93 Z\" fill=\"#000000\" fill-rule=\"evenodd\" fill-opacity=\"1\" /><path clip-path=\"url(#clip580)\" d=\"M 0 0 M367.451 1541.24 L372.335 1541.24 L372.335 1547.12 L367.451 1547.12 L367.451 1541.24 M367.451 1522.61 L372.335 1522.61 L372.335 1528.49 L367.451 1528.49 L367.451 1522.61 Z\" fill=\"#000000\" fill-rule=\"evenodd\" fill-opacity=\"1\" /><path clip-path=\"url(#clip580)\" d=\"M 0 0 M392.937 1515.64 Q389.325 1515.64 387.497 1519.2 Q385.691 1522.75 385.691 1529.87 Q385.691 1536.98 387.497 1540.55 Q389.325 1544.09 392.937 1544.09 Q396.571 1544.09 398.376 1540.55 Q400.205 1536.98 400.205 1529.87 Q400.205 1522.75 398.376 1519.2 Q396.571 1515.64 392.937 1515.64 M392.937 1511.93 Q398.747 1511.93 401.802 1516.54 Q404.881 1521.12 404.881 1529.87 Q404.881 1538.6 401.802 1543.21 Q398.747 1547.79 392.937 1547.79 Q387.126 1547.79 384.048 1543.21 Q380.992 1538.6 380.992 1529.87 Q380.992 1521.12 384.048 1516.54 Q387.126 1511.93 392.937 1511.93 Z\" fill=\"#000000\" fill-rule=\"evenodd\" fill-opacity=\"1\" /><path clip-path=\"url(#clip580)\" d=\"M 0 0 M423.098 1515.64 Q419.487 1515.64 417.659 1519.2 Q415.853 1522.75 415.853 1529.87 Q415.853 1536.98 417.659 1540.55 Q419.487 1544.09 423.098 1544.09 Q426.733 1544.09 428.538 1540.55 Q430.367 1536.98 430.367 1529.87 Q430.367 1522.75 428.538 1519.2 Q426.733 1515.64 423.098 1515.64 M423.098 1511.93 Q428.909 1511.93 431.964 1516.54 Q435.043 1521.12 435.043 1529.87 Q435.043 1538.6 431.964 1543.21 Q428.909 1547.79 423.098 1547.79 Q417.288 1547.79 414.21 1543.21 Q411.154 1538.6 411.154 1529.87 Q411.154 1521.12 414.21 1516.54 Q417.288 1511.93 423.098 1511.93 Z\" fill=\"#000000\" fill-rule=\"evenodd\" fill-opacity=\"1\" /><path clip-path=\"url(#clip580)\" d=\"M 0 0 M555.37 1543.18 L571.689 1543.18 L571.689 1547.12 L549.745 1547.12 L549.745 1543.18 Q552.407 1540.43 556.99 1535.8 Q561.597 1531.15 562.777 1529.81 Q565.023 1527.28 565.902 1525.55 Q566.805 1523.79 566.805 1522.1 Q566.805 1519.34 564.86 1517.61 Q562.939 1515.87 559.837 1515.87 Q557.638 1515.87 555.185 1516.63 Q552.754 1517.4 549.976 1518.95 L549.976 1514.23 Q552.8 1513.09 555.254 1512.51 Q557.708 1511.93 559.745 1511.93 Q565.115 1511.93 568.31 1514.62 Q571.504 1517.31 571.504 1521.8 Q571.504 1523.93 570.694 1525.85 Q569.907 1527.74 567.8 1530.34 Q567.222 1531.01 564.12 1534.23 Q561.018 1537.42 555.37 1543.18 Z\" fill=\"#000000\" fill-rule=\"evenodd\" fill-opacity=\"1\" /><path clip-path=\"url(#clip580)\" d=\"M 0 0 M591.504 1515.64 Q587.893 1515.64 586.064 1519.2 Q584.259 1522.75 584.259 1529.87 Q584.259 1536.98 586.064 1540.55 Q587.893 1544.09 591.504 1544.09 Q595.138 1544.09 596.944 1540.55 Q598.772 1536.98 598.772 1529.87 Q598.772 1522.75 596.944 1519.2 Q595.138 1515.64 591.504 1515.64 M591.504 1511.93 Q597.314 1511.93 600.37 1516.54 Q603.448 1521.12 603.448 1529.87 Q603.448 1538.6 600.37 1543.21 Q597.314 1547.79 591.504 1547.79 Q585.694 1547.79 582.615 1543.21 Q579.559 1538.6 579.559 1529.87 Q579.559 1521.12 582.615 1516.54 Q585.694 1511.93 591.504 1511.93 Z\" fill=\"#000000\" fill-rule=\"evenodd\" fill-opacity=\"1\" /><path clip-path=\"url(#clip580)\" d=\"M 0 0 M615.694 1543.18 L632.013 1543.18 L632.013 1547.12 L610.069 1547.12 L610.069 1543.18 Q612.731 1540.43 617.314 1535.8 Q621.92 1531.15 623.101 1529.81 Q625.346 1527.28 626.226 1525.55 Q627.129 1523.79 627.129 1522.1 Q627.129 1519.34 625.184 1517.61 Q623.263 1515.87 620.161 1515.87 Q617.962 1515.87 615.508 1516.63 Q613.078 1517.4 610.3 1518.95 L610.3 1514.23 Q613.124 1513.09 615.578 1512.51 Q618.031 1511.93 620.069 1511.93 Q625.439 1511.93 628.633 1514.62 Q631.828 1517.31 631.828 1521.8 Q631.828 1523.93 631.018 1525.85 Q630.23 1527.74 628.124 1530.34 Q627.545 1531.01 624.443 1534.23 Q621.342 1537.42 615.694 1543.18 Z\" fill=\"#000000\" fill-rule=\"evenodd\" fill-opacity=\"1\" /><path clip-path=\"url(#clip580)\" d=\"M 0 0 M651.828 1515.64 Q648.217 1515.64 646.388 1519.2 Q644.582 1522.75 644.582 1529.87 Q644.582 1536.98 646.388 1540.55 Q648.217 1544.09 651.828 1544.09 Q655.462 1544.09 657.267 1540.55 Q659.096 1536.98 659.096 1529.87 Q659.096 1522.75 657.267 1519.2 Q655.462 1515.64 651.828 1515.64 M651.828 1511.93 Q657.638 1511.93 660.693 1516.54 Q663.772 1521.12 663.772 1529.87 Q663.772 1538.6 660.693 1543.21 Q657.638 1547.79 651.828 1547.79 Q646.017 1547.79 642.939 1543.21 Q639.883 1538.6 639.883 1529.87 Q639.883 1521.12 642.939 1516.54 Q646.017 1511.93 651.828 1511.93 Z\" fill=\"#000000\" fill-rule=\"evenodd\" fill-opacity=\"1\" /><path clip-path=\"url(#clip580)\" d=\"M 0 0 M669.235 1532.24 L681.712 1532.24 L681.712 1536.03 L669.235 1536.03 L669.235 1532.24 Z\" fill=\"#000000\" fill-rule=\"evenodd\" fill-opacity=\"1\" /><path clip-path=\"url(#clip580)\" d=\"M 0 0 M699.096 1515.64 Q695.485 1515.64 693.656 1519.2 Q691.851 1522.75 691.851 1529.87 Q691.851 1536.98 693.656 1540.55 Q695.485 1544.09 699.096 1544.09 Q702.73 1544.09 704.536 1540.55 Q706.364 1536.98 706.364 1529.87 Q706.364 1522.75 704.536 1519.2 Q702.73 1515.64 699.096 1515.64 M699.096 1511.93 Q704.906 1511.93 707.962 1516.54 Q711.04 1521.12 711.04 1529.87 Q711.04 1538.6 707.962 1543.21 Q704.906 1547.79 699.096 1547.79 Q693.286 1547.79 690.207 1543.21 Q687.151 1538.6 687.151 1529.87 Q687.151 1521.12 690.207 1516.54 Q693.286 1511.93 699.096 1511.93 Z\" fill=\"#000000\" fill-rule=\"evenodd\" fill-opacity=\"1\" /><path clip-path=\"url(#clip580)\" d=\"M 0 0 M718.077 1512.56 L740.299 1512.56 L740.299 1514.55 L727.753 1547.12 L722.869 1547.12 L734.674 1516.5 L718.077 1516.5 L718.077 1512.56 Z\" fill=\"#000000\" fill-rule=\"evenodd\" fill-opacity=\"1\" /><path clip-path=\"url(#clip580)\" d=\"M 0 0 M746.665 1532.24 L759.142 1532.24 L759.142 1536.03 L746.665 1536.03 L746.665 1532.24 Z\" fill=\"#000000\" fill-rule=\"evenodd\" fill-opacity=\"1\" /><path clip-path=\"url(#clip580)\" d=\"M 0 0 M776.526 1515.64 Q772.915 1515.64 771.086 1519.2 Q769.281 1522.75 769.281 1529.87 Q769.281 1536.98 771.086 1540.55 Q772.915 1544.09 776.526 1544.09 Q780.16 1544.09 781.966 1540.55 Q783.794 1536.98 783.794 1529.87 Q783.794 1522.75 781.966 1519.2 Q780.16 1515.64 776.526 1515.64 M776.526 1511.93 Q782.336 1511.93 785.392 1516.54 Q788.47 1521.12 788.47 1529.87 Q788.47 1538.6 785.392 1543.21 Q782.336 1547.79 776.526 1547.79 Q770.716 1547.79 767.637 1543.21 Q764.582 1538.6 764.582 1529.87 Q764.582 1521.12 767.637 1516.54 Q770.716 1511.93 776.526 1511.93 Z\" fill=\"#000000\" fill-rule=\"evenodd\" fill-opacity=\"1\" /><path clip-path=\"url(#clip580)\" d=\"M 0 0 M797.498 1543.18 L805.137 1543.18 L805.137 1516.82 L796.827 1518.49 L796.827 1514.23 L805.091 1512.56 L809.767 1512.56 L809.767 1543.18 L817.405 1543.18 L817.405 1547.12 L797.498 1547.12 L797.498 1543.18 Z\" fill=\"#000000\" fill-rule=\"evenodd\" fill-opacity=\"1\" /><path clip-path=\"url(#clip580)\" d=\"M 0 0 M821.642 1512.56 L850.877 1512.56 L850.877 1516.5 L838.609 1516.5 L838.609 1547.12 L833.91 1547.12 L833.91 1516.5 L821.642 1516.5 L821.642 1512.56 Z\" fill=\"#000000\" fill-rule=\"evenodd\" fill-opacity=\"1\" /><path clip-path=\"url(#clip580)\" d=\"M 0 0 M865.808 1515.64 Q862.197 1515.64 860.368 1519.2 Q858.563 1522.75 858.563 1529.87 Q858.563 1536.98 860.368 1540.55 Q862.197 1544.09 865.808 1544.09 Q869.442 1544.09 871.248 1540.55 Q873.076 1536.98 873.076 1529.87 Q873.076 1522.75 871.248 1519.2 Q869.442 1515.64 865.808 1515.64 M865.808 1511.93 Q871.618 1511.93 874.674 1516.54 Q877.752 1521.12 877.752 1529.87 Q877.752 1538.6 874.674 1543.21 Q871.618 1547.79 865.808 1547.79 Q859.998 1547.79 856.919 1543.21 Q853.864 1538.6 853.864 1529.87 Q853.864 1521.12 856.919 1516.54 Q859.998 1511.93 865.808 1511.93 Z\" fill=\"#000000\" fill-rule=\"evenodd\" fill-opacity=\"1\" /><path clip-path=\"url(#clip580)\" d=\"M 0 0 M895.97 1530.71 Q892.636 1530.71 890.715 1532.49 Q888.817 1534.27 888.817 1537.4 Q888.817 1540.52 890.715 1542.31 Q892.636 1544.09 895.97 1544.09 Q899.303 1544.09 901.224 1542.31 Q903.146 1540.5 903.146 1537.4 Q903.146 1534.27 901.224 1532.49 Q899.326 1530.71 895.97 1530.71 M891.294 1528.72 Q888.285 1527.98 886.595 1525.92 Q884.928 1523.86 884.928 1520.89 Q884.928 1516.75 887.868 1514.34 Q890.831 1511.93 895.97 1511.93 Q901.132 1511.93 904.072 1514.34 Q907.011 1516.75 907.011 1520.89 Q907.011 1523.86 905.322 1525.92 Q903.655 1527.98 900.669 1528.72 Q904.048 1529.5 905.923 1531.8 Q907.822 1534.09 907.822 1537.4 Q907.822 1542.42 904.743 1545.11 Q901.687 1547.79 895.97 1547.79 Q890.252 1547.79 887.174 1545.11 Q884.118 1542.42 884.118 1537.4 Q884.118 1534.09 886.016 1531.8 Q887.914 1529.5 891.294 1528.72 M889.581 1521.33 Q889.581 1524.02 891.248 1525.52 Q892.937 1527.03 895.97 1527.03 Q898.979 1527.03 900.669 1525.52 Q902.382 1524.02 902.382 1521.33 Q902.382 1518.65 900.669 1517.14 Q898.979 1515.64 895.97 1515.64 Q892.937 1515.64 891.248 1517.14 Q889.581 1518.65 889.581 1521.33 Z\" fill=\"#000000\" fill-rule=\"evenodd\" fill-opacity=\"1\" /><path clip-path=\"url(#clip580)\" d=\"M 0 0 M916.618 1541.24 L921.502 1541.24 L921.502 1547.12 L916.618 1547.12 L916.618 1541.24 M916.618 1522.61 L921.502 1522.61 L921.502 1528.49 L916.618 1528.49 L916.618 1522.61 Z\" fill=\"#000000\" fill-rule=\"evenodd\" fill-opacity=\"1\" /><path clip-path=\"url(#clip580)\" d=\"M 0 0 M942.104 1515.64 Q938.493 1515.64 936.664 1519.2 Q934.858 1522.75 934.858 1529.87 Q934.858 1536.98 936.664 1540.55 Q938.493 1544.09 942.104 1544.09 Q945.738 1544.09 947.544 1540.55 Q949.372 1536.98 949.372 1529.87 Q949.372 1522.75 947.544 1519.2 Q945.738 1515.64 942.104 1515.64 M942.104 1511.93 Q947.914 1511.93 950.97 1516.54 Q954.048 1521.12 954.048 1529.87 Q954.048 1538.6 950.97 1543.21 Q947.914 1547.79 942.104 1547.79 Q936.294 1547.79 933.215 1543.21 Q930.159 1538.6 930.159 1529.87 Q930.159 1521.12 933.215 1516.54 Q936.294 1511.93 942.104 1511.93 Z\" fill=\"#000000\" fill-rule=\"evenodd\" fill-opacity=\"1\" /><path clip-path=\"url(#clip580)\" d=\"M 0 0 M972.266 1515.64 Q968.655 1515.64 966.826 1519.2 Q965.02 1522.75 965.02 1529.87 Q965.02 1536.98 966.826 1540.55 Q968.655 1544.09 972.266 1544.09 Q975.9 1544.09 977.705 1540.55 Q979.534 1536.98 979.534 1529.87 Q979.534 1522.75 977.705 1519.2 Q975.9 1515.64 972.266 1515.64 M972.266 1511.93 Q978.076 1511.93 981.131 1516.54 Q984.21 1521.12 984.21 1529.87 Q984.21 1538.6 981.131 1543.21 Q978.076 1547.79 972.266 1547.79 Q966.456 1547.79 963.377 1543.21 Q960.321 1538.6 960.321 1529.87 Q960.321 1521.12 963.377 1516.54 Q966.456 1511.93 972.266 1511.93 Z\" fill=\"#000000\" fill-rule=\"evenodd\" fill-opacity=\"1\" /><path clip-path=\"url(#clip580)\" d=\"M 0 0 M992.914 1541.24 L997.798 1541.24 L997.798 1547.12 L992.914 1547.12 L992.914 1541.24 M992.914 1522.61 L997.798 1522.61 L997.798 1528.49 L992.914 1528.49 L992.914 1522.61 Z\" fill=\"#000000\" fill-rule=\"evenodd\" fill-opacity=\"1\" /><path clip-path=\"url(#clip580)\" d=\"M 0 0 M1018.4 1515.64 Q1014.79 1515.64 1012.96 1519.2 Q1011.15 1522.75 1011.15 1529.87 Q1011.15 1536.98 1012.96 1540.55 Q1014.79 1544.09 1018.4 1544.09 Q1022.03 1544.09 1023.84 1540.55 Q1025.67 1536.98 1025.67 1529.87 Q1025.67 1522.75 1023.84 1519.2 Q1022.03 1515.64 1018.4 1515.64 M1018.4 1511.93 Q1024.21 1511.93 1027.27 1516.54 Q1030.34 1521.12 1030.34 1529.87 Q1030.34 1538.6 1027.27 1543.21 Q1024.21 1547.79 1018.4 1547.79 Q1012.59 1547.79 1009.51 1543.21 Q1006.46 1538.6 1006.46 1529.87 Q1006.46 1521.12 1009.51 1516.54 Q1012.59 1511.93 1018.4 1511.93 Z\" fill=\"#000000\" fill-rule=\"evenodd\" fill-opacity=\"1\" /><path clip-path=\"url(#clip580)\" d=\"M 0 0 M1048.56 1515.64 Q1044.95 1515.64 1043.12 1519.2 Q1041.32 1522.75 1041.32 1529.87 Q1041.32 1536.98 1043.12 1540.55 Q1044.95 1544.09 1048.56 1544.09 Q1052.2 1544.09 1054 1540.55 Q1055.83 1536.98 1055.83 1529.87 Q1055.83 1522.75 1054 1519.2 Q1052.2 1515.64 1048.56 1515.64 M1048.56 1511.93 Q1054.37 1511.93 1057.43 1516.54 Q1060.51 1521.12 1060.51 1529.87 Q1060.51 1538.6 1057.43 1543.21 Q1054.37 1547.79 1048.56 1547.79 Q1042.75 1547.79 1039.67 1543.21 Q1036.62 1538.6 1036.62 1529.87 Q1036.62 1521.12 1039.67 1516.54 Q1042.75 1511.93 1048.56 1511.93 Z\" fill=\"#000000\" fill-rule=\"evenodd\" fill-opacity=\"1\" /><path clip-path=\"url(#clip580)\" d=\"M 0 0 M1180.83 1543.18 L1197.15 1543.18 L1197.15 1547.12 L1175.21 1547.12 L1175.21 1543.18 Q1177.87 1540.43 1182.45 1535.8 Q1187.06 1531.15 1188.24 1529.81 Q1190.49 1527.28 1191.37 1525.55 Q1192.27 1523.79 1192.27 1522.1 Q1192.27 1519.34 1190.32 1517.61 Q1188.4 1515.87 1185.3 1515.87 Q1183.1 1515.87 1180.65 1516.63 Q1178.22 1517.4 1175.44 1518.95 L1175.44 1514.23 Q1178.26 1513.09 1180.72 1512.51 Q1183.17 1511.93 1185.21 1511.93 Q1190.58 1511.93 1193.77 1514.62 Q1196.97 1517.31 1196.97 1521.8 Q1196.97 1523.93 1196.16 1525.85 Q1195.37 1527.74 1193.26 1530.34 Q1192.68 1531.01 1189.58 1534.23 Q1186.48 1537.42 1180.83 1543.18 Z\" fill=\"#000000\" fill-rule=\"evenodd\" fill-opacity=\"1\" /><path clip-path=\"url(#clip580)\" d=\"M 0 0 M1216.97 1515.64 Q1213.36 1515.64 1211.53 1519.2 Q1209.72 1522.75 1209.72 1529.87 Q1209.72 1536.98 1211.53 1540.55 Q1213.36 1544.09 1216.97 1544.09 Q1220.6 1544.09 1222.41 1540.55 Q1224.24 1536.98 1224.24 1529.87 Q1224.24 1522.75 1222.41 1519.2 Q1220.6 1515.64 1216.97 1515.64 M1216.97 1511.93 Q1222.78 1511.93 1225.83 1516.54 Q1228.91 1521.12 1228.91 1529.87 Q1228.91 1538.6 1225.83 1543.21 Q1222.78 1547.79 1216.97 1547.79 Q1211.16 1547.79 1208.08 1543.21 Q1205.02 1538.6 1205.02 1529.87 Q1205.02 1521.12 1208.08 1516.54 Q1211.16 1511.93 1216.97 1511.93 Z\" fill=\"#000000\" fill-rule=\"evenodd\" fill-opacity=\"1\" /><path clip-path=\"url(#clip580)\" d=\"M 0 0 M1241.16 1543.18 L1257.48 1543.18 L1257.48 1547.12 L1235.53 1547.12 L1235.53 1543.18 Q1238.19 1540.43 1242.78 1535.8 Q1247.38 1531.15 1248.56 1529.81 Q1250.81 1527.28 1251.69 1525.55 Q1252.59 1523.79 1252.59 1522.1 Q1252.59 1519.34 1250.65 1517.61 Q1248.73 1515.87 1245.62 1515.87 Q1243.43 1515.87 1240.97 1516.63 Q1238.54 1517.4 1235.76 1518.95 L1235.76 1514.23 Q1238.59 1513.09 1241.04 1512.51 Q1243.49 1511.93 1245.53 1511.93 Q1250.9 1511.93 1254.1 1514.62 Q1257.29 1517.31 1257.29 1521.8 Q1257.29 1523.93 1256.48 1525.85 Q1255.69 1527.74 1253.59 1530.34 Q1253.01 1531.01 1249.91 1534.23 Q1246.8 1537.42 1241.16 1543.18 Z\" fill=\"#000000\" fill-rule=\"evenodd\" fill-opacity=\"1\" /><path clip-path=\"url(#clip580)\" d=\"M 0 0 M1277.29 1515.64 Q1273.68 1515.64 1271.85 1519.2 Q1270.05 1522.75 1270.05 1529.87 Q1270.05 1536.98 1271.85 1540.55 Q1273.68 1544.09 1277.29 1544.09 Q1280.93 1544.09 1282.73 1540.55 Q1284.56 1536.98 1284.56 1529.87 Q1284.56 1522.75 1282.73 1519.2 Q1280.93 1515.64 1277.29 1515.64 M1277.29 1511.93 Q1283.1 1511.93 1286.16 1516.54 Q1289.24 1521.12 1289.24 1529.87 Q1289.24 1538.6 1286.16 1543.21 Q1283.1 1547.79 1277.29 1547.79 Q1271.48 1547.79 1268.4 1543.21 Q1265.35 1538.6 1265.35 1529.87 Q1265.35 1521.12 1268.4 1516.54 Q1271.48 1511.93 1277.29 1511.93 Z\" fill=\"#000000\" fill-rule=\"evenodd\" fill-opacity=\"1\" /><path clip-path=\"url(#clip580)\" d=\"M 0 0 M1294.7 1532.24 L1307.17 1532.24 L1307.17 1536.03 L1294.7 1536.03 L1294.7 1532.24 Z\" fill=\"#000000\" fill-rule=\"evenodd\" fill-opacity=\"1\" /><path clip-path=\"url(#clip580)\" d=\"M 0 0 M1324.56 1515.64 Q1320.95 1515.64 1319.12 1519.2 Q1317.31 1522.75 1317.31 1529.87 Q1317.31 1536.98 1319.12 1540.55 Q1320.95 1544.09 1324.56 1544.09 Q1328.19 1544.09 1330 1540.55 Q1331.83 1536.98 1331.83 1529.87 Q1331.83 1522.75 1330 1519.2 Q1328.19 1515.64 1324.56 1515.64 M1324.56 1511.93 Q1330.37 1511.93 1333.42 1516.54 Q1336.5 1521.12 1336.5 1529.87 Q1336.5 1538.6 1333.42 1543.21 Q1330.37 1547.79 1324.56 1547.79 Q1318.75 1547.79 1315.67 1543.21 Q1312.61 1538.6 1312.61 1529.87 Q1312.61 1521.12 1315.67 1516.54 Q1318.75 1511.93 1324.56 1511.93 Z\" fill=\"#000000\" fill-rule=\"evenodd\" fill-opacity=\"1\" /><path clip-path=\"url(#clip580)\" d=\"M 0 0 M1343.54 1512.56 L1365.76 1512.56 L1365.76 1514.55 L1353.22 1547.12 L1348.33 1547.12 L1360.14 1516.5 L1343.54 1516.5 L1343.54 1512.56 Z\" fill=\"#000000\" fill-rule=\"evenodd\" fill-opacity=\"1\" /><path clip-path=\"url(#clip580)\" d=\"M 0 0 M1372.13 1532.24 L1384.61 1532.24 L1384.61 1536.03 L1372.13 1536.03 L1372.13 1532.24 Z\" fill=\"#000000\" fill-rule=\"evenodd\" fill-opacity=\"1\" /><path clip-path=\"url(#clip580)\" d=\"M 0 0 M1401.99 1515.64 Q1398.38 1515.64 1396.55 1519.2 Q1394.74 1522.75 1394.74 1529.87 Q1394.74 1536.98 1396.55 1540.55 Q1398.38 1544.09 1401.99 1544.09 Q1405.62 1544.09 1407.43 1540.55 Q1409.26 1536.98 1409.26 1529.87 Q1409.26 1522.75 1407.43 1519.2 Q1405.62 1515.64 1401.99 1515.64 M1401.99 1511.93 Q1407.8 1511.93 1410.85 1516.54 Q1413.93 1521.12 1413.93 1529.87 Q1413.93 1538.6 1410.85 1543.21 Q1407.8 1547.79 1401.99 1547.79 Q1396.18 1547.79 1393.1 1543.21 Q1390.04 1538.6 1390.04 1529.87 Q1390.04 1521.12 1393.1 1516.54 Q1396.18 1511.93 1401.99 1511.93 Z\" fill=\"#000000\" fill-rule=\"evenodd\" fill-opacity=\"1\" /><path clip-path=\"url(#clip580)\" d=\"M 0 0 M1422.96 1543.18 L1430.6 1543.18 L1430.6 1516.82 L1422.29 1518.49 L1422.29 1514.23 L1430.55 1512.56 L1435.23 1512.56 L1435.23 1543.18 L1442.87 1543.18 L1442.87 1547.12 L1422.96 1547.12 L1422.96 1543.18 Z\" fill=\"#000000\" fill-rule=\"evenodd\" fill-opacity=\"1\" /><path clip-path=\"url(#clip580)\" d=\"M 0 0 M1447.1 1512.56 L1476.34 1512.56 L1476.34 1516.5 L1464.07 1516.5 L1464.07 1547.12 L1459.37 1547.12 L1459.37 1516.5 L1447.1 1516.5 L1447.1 1512.56 Z\" fill=\"#000000\" fill-rule=\"evenodd\" fill-opacity=\"1\" /><path clip-path=\"url(#clip580)\" d=\"M 0 0 M1482.08 1543.18 L1489.72 1543.18 L1489.72 1516.82 L1481.41 1518.49 L1481.41 1514.23 L1489.67 1512.56 L1494.35 1512.56 L1494.35 1543.18 L1501.99 1543.18 L1501.99 1547.12 L1482.08 1547.12 L1482.08 1543.18 Z\" fill=\"#000000\" fill-rule=\"evenodd\" fill-opacity=\"1\" /><path clip-path=\"url(#clip580)\" d=\"M 0 0 M1515.46 1543.18 L1531.78 1543.18 L1531.78 1547.12 L1509.84 1547.12 L1509.84 1543.18 Q1512.5 1540.43 1517.08 1535.8 Q1521.69 1531.15 1522.87 1529.81 Q1525.11 1527.28 1525.99 1525.55 Q1526.9 1523.79 1526.9 1522.1 Q1526.9 1519.34 1524.95 1517.61 Q1523.03 1515.87 1519.93 1515.87 Q1517.73 1515.87 1515.28 1516.63 Q1512.85 1517.4 1510.07 1518.95 L1510.07 1514.23 Q1512.89 1513.09 1515.35 1512.51 Q1517.8 1511.93 1519.84 1511.93 Q1525.21 1511.93 1528.4 1514.62 Q1531.59 1517.31 1531.59 1521.8 Q1531.59 1523.93 1530.78 1525.85 Q1530 1527.74 1527.89 1530.34 Q1527.31 1531.01 1524.21 1534.23 Q1521.11 1537.42 1515.46 1543.18 Z\" fill=\"#000000\" fill-rule=\"evenodd\" fill-opacity=\"1\" /><path clip-path=\"url(#clip580)\" d=\"M 0 0 M1542.08 1541.24 L1546.97 1541.24 L1546.97 1547.12 L1542.08 1547.12 L1542.08 1541.24 M1542.08 1522.61 L1546.97 1522.61 L1546.97 1528.49 L1542.08 1528.49 L1542.08 1522.61 Z\" fill=\"#000000\" fill-rule=\"evenodd\" fill-opacity=\"1\" /><path clip-path=\"url(#clip580)\" d=\"M 0 0 M1567.57 1515.64 Q1563.96 1515.64 1562.13 1519.2 Q1560.32 1522.75 1560.32 1529.87 Q1560.32 1536.98 1562.13 1540.55 Q1563.96 1544.09 1567.57 1544.09 Q1571.2 1544.09 1573.01 1540.55 Q1574.84 1536.98 1574.84 1529.87 Q1574.84 1522.75 1573.01 1519.2 Q1571.2 1515.64 1567.57 1515.64 M1567.57 1511.93 Q1573.38 1511.93 1576.43 1516.54 Q1579.51 1521.12 1579.51 1529.87 Q1579.51 1538.6 1576.43 1543.21 Q1573.38 1547.79 1567.57 1547.79 Q1561.76 1547.79 1558.68 1543.21 Q1555.62 1538.6 1555.62 1529.87 Q1555.62 1521.12 1558.68 1516.54 Q1561.76 1511.93 1567.57 1511.93 Z\" fill=\"#000000\" fill-rule=\"evenodd\" fill-opacity=\"1\" /><path clip-path=\"url(#clip580)\" d=\"M 0 0 M1597.73 1515.64 Q1594.12 1515.64 1592.29 1519.2 Q1590.48 1522.75 1590.48 1529.87 Q1590.48 1536.98 1592.29 1540.55 Q1594.12 1544.09 1597.73 1544.09 Q1601.36 1544.09 1603.17 1540.55 Q1605 1536.98 1605 1529.87 Q1605 1522.75 1603.17 1519.2 Q1601.36 1515.64 1597.73 1515.64 M1597.73 1511.93 Q1603.54 1511.93 1606.59 1516.54 Q1609.67 1521.12 1609.67 1529.87 Q1609.67 1538.6 1606.59 1543.21 Q1603.54 1547.79 1597.73 1547.79 Q1591.92 1547.79 1588.84 1543.21 Q1585.78 1538.6 1585.78 1529.87 Q1585.78 1521.12 1588.84 1516.54 Q1591.92 1511.93 1597.73 1511.93 Z\" fill=\"#000000\" fill-rule=\"evenodd\" fill-opacity=\"1\" /><path clip-path=\"url(#clip580)\" d=\"M 0 0 M1618.38 1541.24 L1623.26 1541.24 L1623.26 1547.12 L1618.38 1547.12 L1618.38 1541.24 M1618.38 1522.61 L1623.26 1522.61 L1623.26 1528.49 L1618.38 1528.49 L1618.38 1522.61 Z\" fill=\"#000000\" fill-rule=\"evenodd\" fill-opacity=\"1\" /><path clip-path=\"url(#clip580)\" d=\"M 0 0 M1643.86 1515.64 Q1640.25 1515.64 1638.42 1519.2 Q1636.62 1522.75 1636.62 1529.87 Q1636.62 1536.98 1638.42 1540.55 Q1640.25 1544.09 1643.86 1544.09 Q1647.5 1544.09 1649.3 1540.55 Q1651.13 1536.98 1651.13 1529.87 Q1651.13 1522.75 1649.3 1519.2 Q1647.5 1515.64 1643.86 1515.64 M1643.86 1511.93 Q1649.67 1511.93 1652.73 1516.54 Q1655.81 1521.12 1655.81 1529.87 Q1655.81 1538.6 1652.73 1543.21 Q1649.67 1547.79 1643.86 1547.79 Q1638.05 1547.79 1634.97 1543.21 Q1631.92 1538.6 1631.92 1529.87 Q1631.92 1521.12 1634.97 1516.54 Q1638.05 1511.93 1643.86 1511.93 Z\" fill=\"#000000\" fill-rule=\"evenodd\" fill-opacity=\"1\" /><path clip-path=\"url(#clip580)\" d=\"M 0 0 M1674.02 1515.64 Q1670.41 1515.64 1668.59 1519.2 Q1666.78 1522.75 1666.78 1529.87 Q1666.78 1536.98 1668.59 1540.55 Q1670.41 1544.09 1674.02 1544.09 Q1677.66 1544.09 1679.46 1540.55 Q1681.29 1536.98 1681.29 1529.87 Q1681.29 1522.75 1679.46 1519.2 Q1677.66 1515.64 1674.02 1515.64 M1674.02 1511.93 Q1679.83 1511.93 1682.89 1516.54 Q1685.97 1521.12 1685.97 1529.87 Q1685.97 1538.6 1682.89 1543.21 Q1679.83 1547.79 1674.02 1547.79 Q1668.21 1547.79 1665.14 1543.21 Q1662.08 1538.6 1662.08 1529.87 Q1662.08 1521.12 1665.14 1516.54 Q1668.21 1511.93 1674.02 1511.93 Z\" fill=\"#000000\" fill-rule=\"evenodd\" fill-opacity=\"1\" /><path clip-path=\"url(#clip580)\" d=\"M 0 0 M1806.3 1543.18 L1822.62 1543.18 L1822.62 1547.12 L1800.67 1547.12 L1800.67 1543.18 Q1803.33 1540.43 1807.92 1535.8 Q1812.52 1531.15 1813.7 1529.81 Q1815.95 1527.28 1816.83 1525.55 Q1817.73 1523.79 1817.73 1522.1 Q1817.73 1519.34 1815.79 1517.61 Q1813.87 1515.87 1810.76 1515.87 Q1808.56 1515.87 1806.11 1516.63 Q1803.68 1517.4 1800.9 1518.95 L1800.9 1514.23 Q1803.73 1513.09 1806.18 1512.51 Q1808.63 1511.93 1810.67 1511.93 Q1816.04 1511.93 1819.24 1514.62 Q1822.43 1517.31 1822.43 1521.8 Q1822.43 1523.93 1821.62 1525.85 Q1820.83 1527.74 1818.73 1530.34 Q1818.15 1531.01 1815.05 1534.23 Q1811.94 1537.42 1806.3 1543.18 Z\" fill=\"#000000\" fill-rule=\"evenodd\" fill-opacity=\"1\" /><path clip-path=\"url(#clip580)\" d=\"M 0 0 M1842.43 1515.64 Q1838.82 1515.64 1836.99 1519.2 Q1835.18 1522.75 1835.18 1529.87 Q1835.18 1536.98 1836.99 1540.55 Q1838.82 1544.09 1842.43 1544.09 Q1846.06 1544.09 1847.87 1540.55 Q1849.7 1536.98 1849.7 1529.87 Q1849.7 1522.75 1847.87 1519.2 Q1846.06 1515.64 1842.43 1515.64 M1842.43 1511.93 Q1848.24 1511.93 1851.3 1516.54 Q1854.37 1521.12 1854.37 1529.87 Q1854.37 1538.6 1851.3 1543.21 Q1848.24 1547.79 1842.43 1547.79 Q1836.62 1547.79 1833.54 1543.21 Q1830.49 1538.6 1830.49 1529.87 Q1830.49 1521.12 1833.54 1516.54 Q1836.62 1511.93 1842.43 1511.93 Z\" fill=\"#000000\" fill-rule=\"evenodd\" fill-opacity=\"1\" /><path clip-path=\"url(#clip580)\" d=\"M 0 0 M1866.62 1543.18 L1882.94 1543.18 L1882.94 1547.12 L1860.99 1547.12 L1860.99 1543.18 Q1863.66 1540.43 1868.24 1535.8 Q1872.85 1531.15 1874.03 1529.81 Q1876.27 1527.28 1877.15 1525.55 Q1878.06 1523.79 1878.06 1522.1 Q1878.06 1519.34 1876.11 1517.61 Q1874.19 1515.87 1871.09 1515.87 Q1868.89 1515.87 1866.43 1516.63 Q1864 1517.4 1861.23 1518.95 L1861.23 1514.23 Q1864.05 1513.09 1866.5 1512.51 Q1868.96 1511.93 1870.99 1511.93 Q1876.37 1511.93 1879.56 1514.62 Q1882.75 1517.31 1882.75 1521.8 Q1882.75 1523.93 1881.94 1525.85 Q1881.16 1527.74 1879.05 1530.34 Q1878.47 1531.01 1875.37 1534.23 Q1872.27 1537.42 1866.62 1543.18 Z\" fill=\"#000000\" fill-rule=\"evenodd\" fill-opacity=\"1\" /><path clip-path=\"url(#clip580)\" d=\"M 0 0 M1902.75 1515.64 Q1899.14 1515.64 1897.31 1519.2 Q1895.51 1522.75 1895.51 1529.87 Q1895.51 1536.98 1897.31 1540.55 Q1899.14 1544.09 1902.75 1544.09 Q1906.39 1544.09 1908.19 1540.55 Q1910.02 1536.98 1910.02 1529.87 Q1910.02 1522.75 1908.19 1519.2 Q1906.39 1515.64 1902.75 1515.64 M1902.75 1511.93 Q1908.56 1511.93 1911.62 1516.54 Q1914.7 1521.12 1914.7 1529.87 Q1914.7 1538.6 1911.62 1543.21 Q1908.56 1547.79 1902.75 1547.79 Q1896.94 1547.79 1893.87 1543.21 Q1890.81 1538.6 1890.81 1529.87 Q1890.81 1521.12 1893.87 1516.54 Q1896.94 1511.93 1902.75 1511.93 Z\" fill=\"#000000\" fill-rule=\"evenodd\" fill-opacity=\"1\" /><path clip-path=\"url(#clip580)\" d=\"M 0 0 M1920.16 1532.24 L1932.64 1532.24 L1932.64 1536.03 L1920.16 1536.03 L1920.16 1532.24 Z\" fill=\"#000000\" fill-rule=\"evenodd\" fill-opacity=\"1\" /><path clip-path=\"url(#clip580)\" d=\"M 0 0 M1950.02 1515.64 Q1946.41 1515.64 1944.58 1519.2 Q1942.78 1522.75 1942.78 1529.87 Q1942.78 1536.98 1944.58 1540.55 Q1946.41 1544.09 1950.02 1544.09 Q1953.66 1544.09 1955.46 1540.55 Q1957.29 1536.98 1957.29 1529.87 Q1957.29 1522.75 1955.46 1519.2 Q1953.66 1515.64 1950.02 1515.64 M1950.02 1511.93 Q1955.83 1511.93 1958.89 1516.54 Q1961.97 1521.12 1961.97 1529.87 Q1961.97 1538.6 1958.89 1543.21 Q1955.83 1547.79 1950.02 1547.79 Q1944.21 1547.79 1941.13 1543.21 Q1938.08 1538.6 1938.08 1529.87 Q1938.08 1521.12 1941.13 1516.54 Q1944.21 1511.93 1950.02 1511.93 Z\" fill=\"#000000\" fill-rule=\"evenodd\" fill-opacity=\"1\" /><path clip-path=\"url(#clip580)\" d=\"M 0 0 M1969 1512.56 L1991.23 1512.56 L1991.23 1514.55 L1978.68 1547.12 L1973.8 1547.12 L1985.6 1516.5 L1969 1516.5 L1969 1512.56 Z\" fill=\"#000000\" fill-rule=\"evenodd\" fill-opacity=\"1\" /><path clip-path=\"url(#clip580)\" d=\"M 0 0 M1997.59 1532.24 L2010.07 1532.24 L2010.07 1536.03 L1997.59 1536.03 L1997.59 1532.24 Z\" fill=\"#000000\" fill-rule=\"evenodd\" fill-opacity=\"1\" /><path clip-path=\"url(#clip580)\" d=\"M 0 0 M2027.45 1515.64 Q2023.84 1515.64 2022.01 1519.2 Q2020.21 1522.75 2020.21 1529.87 Q2020.21 1536.98 2022.01 1540.55 Q2023.84 1544.09 2027.45 1544.09 Q2031.09 1544.09 2032.89 1540.55 Q2034.72 1536.98 2034.72 1529.87 Q2034.72 1522.75 2032.89 1519.2 Q2031.09 1515.64 2027.45 1515.64 M2027.45 1511.93 Q2033.26 1511.93 2036.32 1516.54 Q2039.4 1521.12 2039.4 1529.87 Q2039.4 1538.6 2036.32 1543.21 Q2033.26 1547.79 2027.45 1547.79 Q2021.64 1547.79 2018.56 1543.21 Q2015.51 1538.6 2015.51 1529.87 Q2015.51 1521.12 2018.56 1516.54 Q2021.64 1511.93 2027.45 1511.93 Z\" fill=\"#000000\" fill-rule=\"evenodd\" fill-opacity=\"1\" /><path clip-path=\"url(#clip580)\" d=\"M 0 0 M2048.42 1543.18 L2056.06 1543.18 L2056.06 1516.82 L2047.75 1518.49 L2047.75 1514.23 L2056.02 1512.56 L2060.69 1512.56 L2060.69 1543.18 L2068.33 1543.18 L2068.33 1547.12 L2048.42 1547.12 L2048.42 1543.18 Z\" fill=\"#000000\" fill-rule=\"evenodd\" fill-opacity=\"1\" /><path clip-path=\"url(#clip580)\" d=\"M 0 0 M2072.57 1512.56 L2101.8 1512.56 L2101.8 1516.5 L2089.54 1516.5 L2089.54 1547.12 L2084.84 1547.12 L2084.84 1516.5 L2072.57 1516.5 L2072.57 1512.56 Z\" fill=\"#000000\" fill-rule=\"evenodd\" fill-opacity=\"1\" /><path clip-path=\"url(#clip580)\" d=\"M 0 0 M2107.54 1543.18 L2115.18 1543.18 L2115.18 1516.82 L2106.87 1518.49 L2106.87 1514.23 L2115.14 1512.56 L2119.81 1512.56 L2119.81 1543.18 L2127.45 1543.18 L2127.45 1547.12 L2107.54 1547.12 L2107.54 1543.18 Z\" fill=\"#000000\" fill-rule=\"evenodd\" fill-opacity=\"1\" /><path clip-path=\"url(#clip580)\" d=\"M 0 0 M2147.47 1527.98 Q2144.33 1527.98 2142.47 1530.13 Q2140.65 1532.28 2140.65 1536.03 Q2140.65 1539.76 2142.47 1541.93 Q2144.33 1544.09 2147.47 1544.09 Q2150.62 1544.09 2152.45 1541.93 Q2154.3 1539.76 2154.3 1536.03 Q2154.3 1532.28 2152.45 1530.13 Q2150.62 1527.98 2147.47 1527.98 M2156.76 1513.32 L2156.76 1517.58 Q2155 1516.75 2153.19 1516.31 Q2151.41 1515.87 2149.65 1515.87 Q2145.02 1515.87 2142.57 1519 Q2140.14 1522.12 2139.79 1528.44 Q2141.16 1526.43 2143.22 1525.36 Q2145.28 1524.27 2147.75 1524.27 Q2152.96 1524.27 2155.97 1527.44 Q2159 1530.59 2159 1536.03 Q2159 1541.36 2155.85 1544.57 Q2152.71 1547.79 2147.47 1547.79 Q2141.48 1547.79 2138.31 1543.21 Q2135.14 1538.6 2135.14 1529.87 Q2135.14 1521.68 2139.03 1516.82 Q2142.91 1511.93 2149.47 1511.93 Q2151.22 1511.93 2153.01 1512.28 Q2154.81 1512.63 2156.76 1513.32 Z\" fill=\"#000000\" fill-rule=\"evenodd\" fill-opacity=\"1\" /><path clip-path=\"url(#clip580)\" d=\"M 0 0 M2167.54 1541.24 L2172.43 1541.24 L2172.43 1547.12 L2167.54 1547.12 L2167.54 1541.24 M2167.54 1522.61 L2172.43 1522.61 L2172.43 1528.49 L2167.54 1528.49 L2167.54 1522.61 Z\" fill=\"#000000\" fill-rule=\"evenodd\" fill-opacity=\"1\" /><path clip-path=\"url(#clip580)\" d=\"M 0 0 M2193.03 1515.64 Q2189.42 1515.64 2187.59 1519.2 Q2185.78 1522.75 2185.78 1529.87 Q2185.78 1536.98 2187.59 1540.55 Q2189.42 1544.09 2193.03 1544.09 Q2196.66 1544.09 2198.47 1540.55 Q2200.3 1536.98 2200.3 1529.87 Q2200.3 1522.75 2198.47 1519.2 Q2196.66 1515.64 2193.03 1515.64 M2193.03 1511.93 Q2198.84 1511.93 2201.9 1516.54 Q2204.97 1521.12 2204.97 1529.87 Q2204.97 1538.6 2201.9 1543.21 Q2198.84 1547.79 2193.03 1547.79 Q2187.22 1547.79 2184.14 1543.21 Q2181.09 1538.6 2181.09 1529.87 Q2181.09 1521.12 2184.14 1516.54 Q2187.22 1511.93 2193.03 1511.93 Z\" fill=\"#000000\" fill-rule=\"evenodd\" fill-opacity=\"1\" /><path clip-path=\"url(#clip580)\" d=\"M 0 0 M2223.19 1515.64 Q2219.58 1515.64 2217.75 1519.2 Q2215.95 1522.75 2215.95 1529.87 Q2215.95 1536.98 2217.75 1540.55 Q2219.58 1544.09 2223.19 1544.09 Q2226.83 1544.09 2228.63 1540.55 Q2230.46 1536.98 2230.46 1529.87 Q2230.46 1522.75 2228.63 1519.2 Q2226.83 1515.64 2223.19 1515.64 M2223.19 1511.93 Q2229 1511.93 2232.06 1516.54 Q2235.14 1521.12 2235.14 1529.87 Q2235.14 1538.6 2232.06 1543.21 Q2229 1547.79 2223.19 1547.79 Q2217.38 1547.79 2214.3 1543.21 Q2211.25 1538.6 2211.25 1529.87 Q2211.25 1521.12 2214.3 1516.54 Q2217.38 1511.93 2223.19 1511.93 Z\" fill=\"#000000\" fill-rule=\"evenodd\" fill-opacity=\"1\" /><path clip-path=\"url(#clip580)\" d=\"M 0 0 M2243.84 1541.24 L2248.72 1541.24 L2248.72 1547.12 L2243.84 1547.12 L2243.84 1541.24 M2243.84 1522.61 L2248.72 1522.61 L2248.72 1528.49 L2243.84 1528.49 L2243.84 1522.61 Z\" fill=\"#000000\" fill-rule=\"evenodd\" fill-opacity=\"1\" /><path clip-path=\"url(#clip580)\" d=\"M 0 0 M2269.33 1515.64 Q2265.72 1515.64 2263.89 1519.2 Q2262.08 1522.75 2262.08 1529.87 Q2262.08 1536.98 2263.89 1540.55 Q2265.72 1544.09 2269.33 1544.09 Q2272.96 1544.09 2274.77 1540.55 Q2276.59 1536.98 2276.59 1529.87 Q2276.59 1522.75 2274.77 1519.2 Q2272.96 1515.64 2269.33 1515.64 M2269.33 1511.93 Q2275.14 1511.93 2278.19 1516.54 Q2281.27 1521.12 2281.27 1529.87 Q2281.27 1538.6 2278.19 1543.21 Q2275.14 1547.79 2269.33 1547.79 Q2263.52 1547.79 2260.44 1543.21 Q2257.38 1538.6 2257.38 1529.87 Q2257.38 1521.12 2260.44 1516.54 Q2263.52 1511.93 2269.33 1511.93 Z\" fill=\"#000000\" fill-rule=\"evenodd\" fill-opacity=\"1\" /><path clip-path=\"url(#clip580)\" d=\"M 0 0 M2299.49 1515.64 Q2295.88 1515.64 2294.05 1519.2 Q2292.24 1522.75 2292.24 1529.87 Q2292.24 1536.98 2294.05 1540.55 Q2295.88 1544.09 2299.49 1544.09 Q2303.12 1544.09 2304.93 1540.55 Q2306.76 1536.98 2306.76 1529.87 Q2306.76 1522.75 2304.93 1519.2 Q2303.12 1515.64 2299.49 1515.64 M2299.49 1511.93 Q2305.3 1511.93 2308.35 1516.54 Q2311.43 1521.12 2311.43 1529.87 Q2311.43 1538.6 2308.35 1543.21 Q2305.3 1547.79 2299.49 1547.79 Q2293.68 1547.79 2290.6 1543.21 Q2287.54 1538.6 2287.54 1529.87 Q2287.54 1521.12 2290.6 1516.54 Q2293.68 1511.93 2299.49 1511.93 Z\" fill=\"#000000\" fill-rule=\"evenodd\" fill-opacity=\"1\" /><polyline clip-path=\"url(#clip582)\" style=\"stroke:#000000; stroke-width:2; stroke-opacity:0.1; fill:none\" points=\"\n",
       "  156.598,1330.94 2352.76,1330.94 \n",
       "  \"/>\n",
       "<polyline clip-path=\"url(#clip582)\" style=\"stroke:#000000; stroke-width:2; stroke-opacity:0.1; fill:none\" points=\"\n",
       "  156.598,1137.59 2352.76,1137.59 \n",
       "  \"/>\n",
       "<polyline clip-path=\"url(#clip582)\" style=\"stroke:#000000; stroke-width:2; stroke-opacity:0.1; fill:none\" points=\"\n",
       "  156.598,944.247 2352.76,944.247 \n",
       "  \"/>\n",
       "<polyline clip-path=\"url(#clip582)\" style=\"stroke:#000000; stroke-width:2; stroke-opacity:0.1; fill:none\" points=\"\n",
       "  156.598,750.903 2352.76,750.903 \n",
       "  \"/>\n",
       "<polyline clip-path=\"url(#clip582)\" style=\"stroke:#000000; stroke-width:2; stroke-opacity:0.1; fill:none\" points=\"\n",
       "  156.598,557.558 2352.76,557.558 \n",
       "  \"/>\n",
       "<polyline clip-path=\"url(#clip582)\" style=\"stroke:#000000; stroke-width:2; stroke-opacity:0.1; fill:none\" points=\"\n",
       "  156.598,364.214 2352.76,364.214 \n",
       "  \"/>\n",
       "<polyline clip-path=\"url(#clip582)\" style=\"stroke:#000000; stroke-width:2; stroke-opacity:0.1; fill:none\" points=\"\n",
       "  156.598,170.87 2352.76,170.87 \n",
       "  \"/>\n",
       "<polyline clip-path=\"url(#clip580)\" style=\"stroke:#000000; stroke-width:4; stroke-opacity:1; fill:none\" points=\"\n",
       "  156.598,1486.45 156.598,47.2441 \n",
       "  \"/>\n",
       "<polyline clip-path=\"url(#clip580)\" style=\"stroke:#000000; stroke-width:4; stroke-opacity:1; fill:none\" points=\"\n",
       "  156.598,1330.94 182.952,1330.94 \n",
       "  \"/>\n",
       "<polyline clip-path=\"url(#clip580)\" style=\"stroke:#000000; stroke-width:4; stroke-opacity:1; fill:none\" points=\"\n",
       "  156.598,1137.59 182.952,1137.59 \n",
       "  \"/>\n",
       "<polyline clip-path=\"url(#clip580)\" style=\"stroke:#000000; stroke-width:4; stroke-opacity:1; fill:none\" points=\"\n",
       "  156.598,944.247 182.952,944.247 \n",
       "  \"/>\n",
       "<polyline clip-path=\"url(#clip580)\" style=\"stroke:#000000; stroke-width:4; stroke-opacity:1; fill:none\" points=\"\n",
       "  156.598,750.903 182.952,750.903 \n",
       "  \"/>\n",
       "<polyline clip-path=\"url(#clip580)\" style=\"stroke:#000000; stroke-width:4; stroke-opacity:1; fill:none\" points=\"\n",
       "  156.598,557.558 182.952,557.558 \n",
       "  \"/>\n",
       "<polyline clip-path=\"url(#clip580)\" style=\"stroke:#000000; stroke-width:4; stroke-opacity:1; fill:none\" points=\"\n",
       "  156.598,364.214 182.952,364.214 \n",
       "  \"/>\n",
       "<polyline clip-path=\"url(#clip580)\" style=\"stroke:#000000; stroke-width:4; stroke-opacity:1; fill:none\" points=\"\n",
       "  156.598,170.87 182.952,170.87 \n",
       "  \"/>\n",
       "<path clip-path=\"url(#clip580)\" d=\"M 0 0 M64.0708 1316.73 Q60.4597 1316.73 58.631 1320.3 Q56.8254 1323.84 56.8254 1330.97 Q56.8254 1338.08 58.631 1341.64 Q60.4597 1345.18 64.0708 1345.18 Q67.705 1345.18 69.5105 1341.64 Q71.3392 1338.08 71.3392 1330.97 Q71.3392 1323.84 69.5105 1320.3 Q67.705 1316.73 64.0708 1316.73 M64.0708 1313.03 Q69.8809 1313.03 72.9365 1317.64 Q76.0151 1322.22 76.0151 1330.97 Q76.0151 1339.7 72.9365 1344.3 Q69.8809 1348.89 64.0708 1348.89 Q58.2606 1348.89 55.1819 1344.3 Q52.1264 1339.7 52.1264 1330.97 Q52.1264 1322.22 55.1819 1317.64 Q58.2606 1313.03 64.0708 1313.03 Z\" fill=\"#000000\" fill-rule=\"evenodd\" fill-opacity=\"1\" /><path clip-path=\"url(#clip580)\" d=\"M 0 0 M84.2327 1342.34 L89.1169 1342.34 L89.1169 1348.22 L84.2327 1348.22 L84.2327 1342.34 Z\" fill=\"#000000\" fill-rule=\"evenodd\" fill-opacity=\"1\" /><path clip-path=\"url(#clip580)\" d=\"M 0 0 M113.469 1329.58 Q116.825 1330.3 118.7 1332.57 Q120.598 1334.84 120.598 1338.17 Q120.598 1343.28 117.08 1346.09 Q113.561 1348.89 107.08 1348.89 Q104.904 1348.89 102.589 1348.45 Q100.297 1348.03 97.8437 1347.17 L97.8437 1342.66 Q99.7882 1343.79 102.103 1344.37 Q104.418 1344.95 106.941 1344.95 Q111.339 1344.95 113.631 1343.22 Q115.945 1341.48 115.945 1338.17 Q115.945 1335.11 113.793 1333.4 Q111.663 1331.66 107.844 1331.66 L103.816 1331.66 L103.816 1327.82 L108.029 1327.82 Q111.478 1327.82 113.307 1326.46 Q115.135 1325.07 115.135 1322.47 Q115.135 1319.81 113.237 1318.4 Q111.362 1316.97 107.844 1316.97 Q105.922 1316.97 103.723 1317.38 Q101.524 1317.8 98.8854 1318.68 L98.8854 1314.51 Q101.547 1313.77 103.862 1313.4 Q106.2 1313.03 108.26 1313.03 Q113.584 1313.03 116.686 1315.46 Q119.788 1317.87 119.788 1321.99 Q119.788 1324.86 118.145 1326.85 Q116.501 1328.82 113.469 1329.58 Z\" fill=\"#000000\" fill-rule=\"evenodd\" fill-opacity=\"1\" /><path clip-path=\"url(#clip580)\" d=\"M 0 0 M62.9365 1123.39 Q59.3254 1123.39 57.4967 1126.95 Q55.6912 1130.5 55.6912 1137.63 Q55.6912 1144.73 57.4967 1148.3 Q59.3254 1151.84 62.9365 1151.84 Q66.5707 1151.84 68.3763 1148.3 Q70.205 1144.73 70.205 1137.63 Q70.205 1130.5 68.3763 1126.95 Q66.5707 1123.39 62.9365 1123.39 M62.9365 1119.69 Q68.7467 1119.69 71.8022 1124.29 Q74.8809 1128.88 74.8809 1137.63 Q74.8809 1146.35 71.8022 1150.96 Q68.7467 1155.54 62.9365 1155.54 Q57.1264 1155.54 54.0477 1150.96 Q50.9921 1146.35 50.9921 1137.63 Q50.9921 1128.88 54.0477 1124.29 Q57.1264 1119.69 62.9365 1119.69 Z\" fill=\"#000000\" fill-rule=\"evenodd\" fill-opacity=\"1\" /><path clip-path=\"url(#clip580)\" d=\"M 0 0 M83.0984 1148.99 L87.9827 1148.99 L87.9827 1154.87 L83.0984 1154.87 L83.0984 1148.99 Z\" fill=\"#000000\" fill-rule=\"evenodd\" fill-opacity=\"1\" /><path clip-path=\"url(#clip580)\" d=\"M 0 0 M111.015 1124.39 L99.2095 1142.83 L111.015 1142.83 L111.015 1124.39 M109.788 1120.31 L115.668 1120.31 L115.668 1142.83 L120.598 1142.83 L120.598 1146.72 L115.668 1146.72 L115.668 1154.87 L111.015 1154.87 L111.015 1146.72 L95.4132 1146.72 L95.4132 1142.21 L109.788 1120.31 Z\" fill=\"#000000\" fill-rule=\"evenodd\" fill-opacity=\"1\" /><path clip-path=\"url(#clip580)\" d=\"M 0 0 M64.418 930.046 Q60.8069 930.046 58.9782 933.61 Q57.1726 937.152 57.1726 944.282 Q57.1726 951.388 58.9782 954.953 Q60.8069 958.494 64.418 958.494 Q68.0522 958.494 69.8578 954.953 Q71.6865 951.388 71.6865 944.282 Q71.6865 937.152 69.8578 933.61 Q68.0522 930.046 64.418 930.046 M64.418 926.342 Q70.2281 926.342 73.2837 930.948 Q76.3624 935.532 76.3624 944.282 Q76.3624 953.008 73.2837 957.615 Q70.2281 962.198 64.418 962.198 Q58.6078 962.198 55.5291 957.615 Q52.4736 953.008 52.4736 944.282 Q52.4736 935.532 55.5291 930.948 Q58.6078 926.342 64.418 926.342 Z\" fill=\"#000000\" fill-rule=\"evenodd\" fill-opacity=\"1\" /><path clip-path=\"url(#clip580)\" d=\"M 0 0 M84.5799 955.647 L89.4641 955.647 L89.4641 961.527 L84.5799 961.527 L84.5799 955.647 Z\" fill=\"#000000\" fill-rule=\"evenodd\" fill-opacity=\"1\" /><path clip-path=\"url(#clip580)\" d=\"M 0 0 M99.6956 926.967 L118.052 926.967 L118.052 930.902 L103.978 930.902 L103.978 939.374 Q104.996 939.027 106.015 938.865 Q107.033 938.68 108.052 938.68 Q113.839 938.68 117.219 941.851 Q120.598 945.022 120.598 950.439 Q120.598 956.018 117.126 959.119 Q113.654 962.198 107.334 962.198 Q105.159 962.198 102.89 961.828 Q100.645 961.457 98.2372 960.717 L98.2372 956.018 Q100.321 957.152 102.543 957.707 Q104.765 958.263 107.242 958.263 Q111.246 958.263 113.584 956.157 Q115.922 954.05 115.922 950.439 Q115.922 946.828 113.584 944.721 Q111.246 942.615 107.242 942.615 Q105.367 942.615 103.492 943.032 Q101.64 943.448 99.6956 944.328 L99.6956 926.967 Z\" fill=\"#000000\" fill-rule=\"evenodd\" fill-opacity=\"1\" /><path clip-path=\"url(#clip580)\" d=\"M 0 0 M63.2606 736.701 Q59.6495 736.701 57.8208 740.266 Q56.0152 743.808 56.0152 750.937 Q56.0152 758.044 57.8208 761.609 Q59.6495 765.15 63.2606 765.15 Q66.8948 765.15 68.7004 761.609 Q70.5291 758.044 70.5291 750.937 Q70.5291 743.808 68.7004 740.266 Q66.8948 736.701 63.2606 736.701 M63.2606 732.998 Q69.0707 732.998 72.1263 737.604 Q75.205 742.187 75.205 750.937 Q75.205 759.664 72.1263 764.271 Q69.0707 768.854 63.2606 768.854 Q57.4504 768.854 54.3717 764.271 Q51.3162 759.664 51.3162 750.937 Q51.3162 742.187 54.3717 737.604 Q57.4504 732.998 63.2606 732.998 Z\" fill=\"#000000\" fill-rule=\"evenodd\" fill-opacity=\"1\" /><path clip-path=\"url(#clip580)\" d=\"M 0 0 M83.4225 762.303 L88.3067 762.303 L88.3067 768.183 L83.4225 768.183 L83.4225 762.303 Z\" fill=\"#000000\" fill-rule=\"evenodd\" fill-opacity=\"1\" /><path clip-path=\"url(#clip580)\" d=\"M 0 0 M109.071 749.039 Q105.922 749.039 104.071 751.192 Q102.242 753.345 102.242 757.095 Q102.242 760.822 104.071 762.997 Q105.922 765.15 109.071 765.15 Q112.219 765.15 114.047 762.997 Q115.899 760.822 115.899 757.095 Q115.899 753.345 114.047 751.192 Q112.219 749.039 109.071 749.039 M118.353 734.386 L118.353 738.646 Q116.594 737.812 114.788 737.373 Q113.006 736.933 111.246 736.933 Q106.617 736.933 104.163 740.058 Q101.733 743.183 101.385 749.502 Q102.751 747.488 104.811 746.423 Q106.871 745.335 109.348 745.335 Q114.557 745.335 117.566 748.507 Q120.598 751.655 120.598 757.095 Q120.598 762.419 117.45 765.636 Q114.302 768.854 109.071 768.854 Q103.075 768.854 99.9039 764.271 Q96.7326 759.664 96.7326 750.937 Q96.7326 742.743 100.621 737.882 Q104.51 732.998 111.061 732.998 Q112.82 732.998 114.603 733.345 Q116.408 733.692 118.353 734.386 Z\" fill=\"#000000\" fill-rule=\"evenodd\" fill-opacity=\"1\" /><path clip-path=\"url(#clip580)\" d=\"M 0 0 M64.3254 543.357 Q60.7143 543.357 58.8856 546.922 Q57.0801 550.463 57.0801 557.593 Q57.0801 564.699 58.8856 568.264 Q60.7143 571.806 64.3254 571.806 Q67.9596 571.806 69.7652 568.264 Q71.5939 564.699 71.5939 557.593 Q71.5939 550.463 69.7652 546.922 Q67.9596 543.357 64.3254 543.357 M64.3254 539.653 Q70.1355 539.653 73.1911 544.26 Q76.2698 548.843 76.2698 557.593 Q76.2698 566.32 73.1911 570.926 Q70.1355 575.51 64.3254 575.51 Q58.5152 575.51 55.4365 570.926 Q52.381 566.32 52.381 557.593 Q52.381 548.843 55.4365 544.26 Q58.5152 539.653 64.3254 539.653 Z\" fill=\"#000000\" fill-rule=\"evenodd\" fill-opacity=\"1\" /><path clip-path=\"url(#clip580)\" d=\"M 0 0 M84.4873 568.959 L89.3716 568.959 L89.3716 574.838 L84.4873 574.838 L84.4873 568.959 Z\" fill=\"#000000\" fill-rule=\"evenodd\" fill-opacity=\"1\" /><path clip-path=\"url(#clip580)\" d=\"M 0 0 M98.3761 540.278 L120.598 540.278 L120.598 542.269 L108.052 574.838 L103.168 574.838 L114.973 544.213 L98.3761 544.213 L98.3761 540.278 Z\" fill=\"#000000\" fill-rule=\"evenodd\" fill-opacity=\"1\" /><path clip-path=\"url(#clip580)\" d=\"M 0 0 M63.5152 350.013 Q59.9041 350.013 58.0754 353.578 Q56.2699 357.119 56.2699 364.249 Q56.2699 371.355 58.0754 374.92 Q59.9041 378.462 63.5152 378.462 Q67.1494 378.462 68.955 374.92 Q70.7837 371.355 70.7837 364.249 Q70.7837 357.119 68.955 353.578 Q67.1494 350.013 63.5152 350.013 M63.5152 346.309 Q69.3254 346.309 72.3809 350.916 Q75.4596 355.499 75.4596 364.249 Q75.4596 372.976 72.3809 377.582 Q69.3254 382.165 63.5152 382.165 Q57.7051 382.165 54.6264 377.582 Q51.5708 372.976 51.5708 364.249 Q51.5708 355.499 54.6264 350.916 Q57.7051 346.309 63.5152 346.309 Z\" fill=\"#000000\" fill-rule=\"evenodd\" fill-opacity=\"1\" /><path clip-path=\"url(#clip580)\" d=\"M 0 0 M83.6771 375.614 L88.5614 375.614 L88.5614 381.494 L83.6771 381.494 L83.6771 375.614 Z\" fill=\"#000000\" fill-rule=\"evenodd\" fill-opacity=\"1\" /><path clip-path=\"url(#clip580)\" d=\"M 0 0 M108.746 365.082 Q105.413 365.082 103.492 366.864 Q101.594 368.647 101.594 371.772 Q101.594 374.897 103.492 376.679 Q105.413 378.462 108.746 378.462 Q112.08 378.462 114.001 376.679 Q115.922 374.874 115.922 371.772 Q115.922 368.647 114.001 366.864 Q112.103 365.082 108.746 365.082 M104.071 363.091 Q101.061 362.351 99.3715 360.29 Q97.7048 358.23 97.7048 355.267 Q97.7048 351.124 100.645 348.716 Q103.608 346.309 108.746 346.309 Q113.908 346.309 116.848 348.716 Q119.788 351.124 119.788 355.267 Q119.788 358.23 118.098 360.29 Q116.432 362.351 113.445 363.091 Q116.825 363.878 118.7 366.17 Q120.598 368.462 120.598 371.772 Q120.598 376.795 117.52 379.48 Q114.464 382.165 108.746 382.165 Q103.029 382.165 99.9502 379.48 Q96.8947 376.795 96.8947 371.772 Q96.8947 368.462 98.7928 366.17 Q100.691 363.878 104.071 363.091 M102.358 355.707 Q102.358 358.392 104.024 359.897 Q105.714 361.402 108.746 361.402 Q111.756 361.402 113.445 359.897 Q115.158 358.392 115.158 355.707 Q115.158 353.022 113.445 351.517 Q111.756 350.013 108.746 350.013 Q105.714 350.013 104.024 351.517 Q102.358 353.022 102.358 355.707 Z\" fill=\"#000000\" fill-rule=\"evenodd\" fill-opacity=\"1\" /><path clip-path=\"url(#clip580)\" d=\"M 0 0 M63.6078 156.668 Q59.9967 156.668 58.168 160.233 Q56.3625 163.775 56.3625 170.905 Q56.3625 178.011 58.168 181.576 Q59.9967 185.117 63.6078 185.117 Q67.242 185.117 69.0476 181.576 Q70.8763 178.011 70.8763 170.905 Q70.8763 163.775 69.0476 160.233 Q67.242 156.668 63.6078 156.668 M63.6078 152.965 Q69.418 152.965 72.4735 157.571 Q75.5522 162.155 75.5522 170.905 Q75.5522 179.631 72.4735 184.238 Q69.418 188.821 63.6078 188.821 Q57.7976 188.821 54.719 184.238 Q51.6634 179.631 51.6634 170.905 Q51.6634 162.155 54.719 157.571 Q57.7976 152.965 63.6078 152.965 Z\" fill=\"#000000\" fill-rule=\"evenodd\" fill-opacity=\"1\" /><path clip-path=\"url(#clip580)\" d=\"M 0 0 M83.7697 182.27 L88.654 182.27 L88.654 188.15 L83.7697 188.15 L83.7697 182.27 Z\" fill=\"#000000\" fill-rule=\"evenodd\" fill-opacity=\"1\" /><path clip-path=\"url(#clip580)\" d=\"M 0 0 M98.978 187.432 L98.978 183.173 Q100.737 184.006 102.543 184.446 Q104.348 184.886 106.084 184.886 Q110.714 184.886 113.145 181.784 Q115.598 178.659 115.945 172.317 Q114.603 174.307 112.543 175.372 Q110.483 176.437 107.983 176.437 Q102.797 176.437 99.765 173.312 Q96.7558 170.164 96.7558 164.724 Q96.7558 159.4 99.9039 156.182 Q103.052 152.965 108.283 152.965 Q114.279 152.965 117.427 157.571 Q120.598 162.155 120.598 170.905 Q120.598 179.076 116.709 183.96 Q112.844 188.821 106.293 188.821 Q104.534 188.821 102.728 188.474 Q100.922 188.127 98.978 187.432 M108.283 172.779 Q111.432 172.779 113.26 170.627 Q115.112 168.474 115.112 164.724 Q115.112 160.997 113.26 158.844 Q111.432 156.668 108.283 156.668 Q105.135 156.668 103.284 158.844 Q101.455 160.997 101.455 164.724 Q101.455 168.474 103.284 170.627 Q105.135 172.779 108.283 172.779 Z\" fill=\"#000000\" fill-rule=\"evenodd\" fill-opacity=\"1\" /><circle clip-path=\"url(#clip582)\" cx=\"218.754\" cy=\"1445.72\" r=\"14\" fill=\"#009af9\" fill-rule=\"evenodd\" fill-opacity=\"1\" stroke=\"#000000\" stroke-opacity=\"1\" stroke-width=\"3.2\"/>\n",
       "<circle clip-path=\"url(#clip582)\" cx=\"296.937\" cy=\"1338.74\" r=\"14\" fill=\"#009af9\" fill-rule=\"evenodd\" fill-opacity=\"1\" stroke=\"#000000\" stroke-opacity=\"1\" stroke-width=\"3.2\"/>\n",
       "<circle clip-path=\"url(#clip582)\" cx=\"336.028\" cy=\"1180.19\" r=\"14\" fill=\"#009af9\" fill-rule=\"evenodd\" fill-opacity=\"1\" stroke=\"#000000\" stroke-opacity=\"1\" stroke-width=\"3.2\"/>\n",
       "<circle clip-path=\"url(#clip582)\" cx=\"375.119\" cy=\"815.63\" r=\"14\" fill=\"#009af9\" fill-rule=\"evenodd\" fill-opacity=\"1\" stroke=\"#000000\" stroke-opacity=\"1\" stroke-width=\"3.2\"/>\n",
       "<circle clip-path=\"url(#clip582)\" cx=\"844.217\" cy=\"230.576\" r=\"14\" fill=\"#009af9\" fill-rule=\"evenodd\" fill-opacity=\"1\" stroke=\"#000000\" stroke-opacity=\"1\" stroke-width=\"3.2\"/>\n",
       "<circle clip-path=\"url(#clip582)\" cx=\"883.308\" cy=\"244.051\" r=\"14\" fill=\"#009af9\" fill-rule=\"evenodd\" fill-opacity=\"1\" stroke=\"#000000\" stroke-opacity=\"1\" stroke-width=\"3.2\"/>\n",
       "<circle clip-path=\"url(#clip582)\" cx=\"922.4\" cy=\"214.426\" r=\"14\" fill=\"#009af9\" fill-rule=\"evenodd\" fill-opacity=\"1\" stroke=\"#000000\" stroke-opacity=\"1\" stroke-width=\"3.2\"/>\n",
       "<circle clip-path=\"url(#clip582)\" cx=\"961.491\" cy=\"179.278\" r=\"14\" fill=\"#009af9\" fill-rule=\"evenodd\" fill-opacity=\"1\" stroke=\"#000000\" stroke-opacity=\"1\" stroke-width=\"3.2\"/>\n",
       "<circle clip-path=\"url(#clip582)\" cx=\"1000.58\" cy=\"139.146\" r=\"14\" fill=\"#009af9\" fill-rule=\"evenodd\" fill-opacity=\"1\" stroke=\"#000000\" stroke-opacity=\"1\" stroke-width=\"3.2\"/>\n",
       "<circle clip-path=\"url(#clip582)\" cx=\"1039.67\" cy=\"87.9763\" r=\"14\" fill=\"#009af9\" fill-rule=\"evenodd\" fill-opacity=\"1\" stroke=\"#000000\" stroke-opacity=\"1\" stroke-width=\"3.2\"/>\n",
       "<circle clip-path=\"url(#clip582)\" cx=\"1899.69\" cy=\"434.144\" r=\"14\" fill=\"#009af9\" fill-rule=\"evenodd\" fill-opacity=\"1\" stroke=\"#000000\" stroke-opacity=\"1\" stroke-width=\"3.2\"/>\n",
       "<circle clip-path=\"url(#clip582)\" cx=\"1938.78\" cy=\"504.196\" r=\"14\" fill=\"#009af9\" fill-rule=\"evenodd\" fill-opacity=\"1\" stroke=\"#000000\" stroke-opacity=\"1\" stroke-width=\"3.2\"/>\n",
       "<circle clip-path=\"url(#clip582)\" cx=\"1977.87\" cy=\"444.369\" r=\"14\" fill=\"#009af9\" fill-rule=\"evenodd\" fill-opacity=\"1\" stroke=\"#000000\" stroke-opacity=\"1\" stroke-width=\"3.2\"/>\n",
       "<circle clip-path=\"url(#clip582)\" cx=\"2212.42\" cy=\"921.441\" r=\"14\" fill=\"#009af9\" fill-rule=\"evenodd\" fill-opacity=\"1\" stroke=\"#000000\" stroke-opacity=\"1\" stroke-width=\"3.2\"/>\n",
       "<circle clip-path=\"url(#clip582)\" cx=\"2251.51\" cy=\"1038.04\" r=\"14\" fill=\"#009af9\" fill-rule=\"evenodd\" fill-opacity=\"1\" stroke=\"#000000\" stroke-opacity=\"1\" stroke-width=\"3.2\"/>\n",
       "<circle clip-path=\"url(#clip582)\" cx=\"2290.6\" cy=\"995.977\" r=\"14\" fill=\"#009af9\" fill-rule=\"evenodd\" fill-opacity=\"1\" stroke=\"#000000\" stroke-opacity=\"1\" stroke-width=\"3.2\"/>\n",
       "<path clip-path=\"url(#clip580)\" d=\"\n",
       "M1983.1 216.178 L2279.55 216.178 L2279.55 95.2176 L1983.1 95.2176  Z\n",
       "  \" fill=\"#ffffff\" fill-rule=\"evenodd\" fill-opacity=\"1\"/>\n",
       "<polyline clip-path=\"url(#clip580)\" style=\"stroke:#000000; stroke-width:4; stroke-opacity:1; fill:none\" points=\"\n",
       "  1983.1,216.178 2279.55,216.178 2279.55,95.2176 1983.1,95.2176 1983.1,216.178 \n",
       "  \"/>\n",
       "<circle clip-path=\"url(#clip580)\" cx=\"2080.71\" cy=\"155.698\" r=\"23\" fill=\"#009af9\" fill-rule=\"evenodd\" fill-opacity=\"1\" stroke=\"#000000\" stroke-opacity=\"1\" stroke-width=\"5.12\"/>\n",
       "<path clip-path=\"url(#clip580)\" d=\"M 0 0 M2192.16 175.385 Q2190.35 180.015 2188.64 181.427 Q2186.93 182.839 2184.06 182.839 L2180.65 182.839 L2180.65 179.274 L2183.15 179.274 Q2184.91 179.274 2185.89 178.44 Q2186.86 177.607 2188.04 174.505 L2188.8 172.561 L2178.32 147.052 L2182.83 147.052 L2190.93 167.329 L2199.03 147.052 L2203.55 147.052 L2192.16 175.385 Z\" fill=\"#000000\" fill-rule=\"evenodd\" fill-opacity=\"1\" /><path clip-path=\"url(#clip580)\" d=\"M 0 0 M2210.84 169.042 L2218.48 169.042 L2218.48 142.677 L2210.17 144.343 L2210.17 140.084 L2218.43 138.418 L2223.11 138.418 L2223.11 169.042 L2230.75 169.042 L2230.75 172.978 L2210.84 172.978 L2210.84 169.042 Z\" fill=\"#000000\" fill-rule=\"evenodd\" fill-opacity=\"1\" /></svg>\n"
      ]
     },
     "execution_count": 129,
     "metadata": {},
     "output_type": "execute_result"
    }
   ],
   "source": [
    "@df day1_ scatter(:time, :cmf)"
   ]
  },
  {
   "cell_type": "code",
   "execution_count": 52,
   "id": "8e1a31b3-463c-4611-9492-5c8d598cf941",
   "metadata": {
    "collapsed": true,
    "execution": {
     "iopub.execute_input": "2021-07-26T15:59:55.813000+02:00",
     "iopub.status.busy": "2021-07-26T15:59:55.813000+02:00",
     "iopub.status.idle": "2021-07-26T15:59:56.573000+02:00",
     "shell.execute_reply": "2021-07-26T15:59:56.573000+02:00"
    },
    "jupyter": {
     "outputs_hidden": true,
     "source_hidden": true
    },
    "scrolled": true,
    "tags": []
   },
   "outputs": [
    {
     "data": {
      "text/plain": [
       "1440×1 TimeArray{Union{Missing, Int64}, 1, DateTime, Vector{Union{Missing, Int64}}} 2020-07-01T00:00:00 to 2020-07-01T23:45:00\n",
       "│                     │ swd     │\n",
       "├─────────────────────┼─────────┤\n",
       "│ 2020-07-01T00:00:00 │ missing │\n",
       "│ 2020-07-01T00:00:00 │ 0       │\n",
       "│ 2020-07-01T00:00:00 │ 0       │\n",
       "│ 2020-07-01T00:00:00 │ 0       │\n",
       "│ 2020-07-01T00:00:00 │ 0       │\n",
       "│ 2020-07-01T00:00:00 │ 0       │\n",
       "│ 2020-07-01T00:00:00 │ 0       │\n",
       "│ 2020-07-01T00:00:00 │ 0       │\n",
       "│ 2020-07-01T00:00:00 │ 0       │\n",
       "│ 2020-07-01T00:00:00 │ 0       │\n",
       "│ 2020-07-01T00:00:00 │ 0       │\n",
       "│ ⋮                   │ ⋮       │\n",
       "│ 2020-07-01T23:45:00 │ 0       │\n",
       "│ 2020-07-01T23:45:00 │ 0       │\n",
       "│ 2020-07-01T23:45:00 │ 0       │\n",
       "│ 2020-07-01T23:45:00 │ 0       │\n",
       "│ 2020-07-01T23:45:00 │ 0       │\n",
       "│ 2020-07-01T23:45:00 │ 0       │\n",
       "│ 2020-07-01T23:45:00 │ 0       │\n",
       "│ 2020-07-01T23:45:00 │ 0       │\n",
       "│ 2020-07-01T23:45:00 │ 0       │\n",
       "│ 2020-07-01T23:45:00 │ 0       │"
      ]
     },
     "execution_count": 52,
     "metadata": {},
     "output_type": "execute_result"
    }
   ],
   "source": [
    "ta = TimeArray(day1_n; timestamp=:time)"
   ]
  },
  {
   "cell_type": "code",
   "execution_count": 53,
   "id": "7046a721-e648-4938-b2bf-8f178928605f",
   "metadata": {
    "collapsed": true,
    "execution": {
     "iopub.execute_input": "2021-07-26T16:00:35.086000+02:00",
     "iopub.status.busy": "2021-07-26T16:00:35.085000+02:00",
     "iopub.status.idle": "2021-07-26T16:00:36.724000+02:00",
     "shell.execute_reply": "2021-07-26T16:00:36.724000+02:00"
    },
    "jupyter": {
     "outputs_hidden": true,
     "source_hidden": true
    },
    "scrolled": true,
    "tags": []
   },
   "outputs": [
    {
     "data": {
      "text/plain": [
       "96×1 TimeArray{Union{Missing, Float64}, 1, DateTime, Vector{Union{Missing, Float64}}} 2020-07-01T00:00:00 to 2020-07-01T23:45:00\n",
       "│                     │ swd     │\n",
       "├─────────────────────┼─────────┤\n",
       "│ 2020-07-01T00:00:00 │ missing │\n",
       "│ 2020-07-01T00:15:00 │ 0.0     │\n",
       "│ 2020-07-01T00:30:00 │ 0.0     │\n",
       "│ 2020-07-01T00:45:00 │ 0.0     │\n",
       "│ 2020-07-01T01:00:00 │ 0.0     │\n",
       "│ 2020-07-01T01:15:00 │ 0.0     │\n",
       "│ 2020-07-01T01:30:00 │ 0.0     │\n",
       "│ 2020-07-01T01:45:00 │ 0.0     │\n",
       "│ 2020-07-01T02:00:00 │ 0.0     │\n",
       "│ 2020-07-01T02:15:00 │ 0.0     │\n",
       "│ 2020-07-01T02:30:00 │ 0.0     │\n",
       "│ ⋮                   │ ⋮       │\n",
       "│ 2020-07-01T21:30:00 │ 0.0     │\n",
       "│ 2020-07-01T21:45:00 │ 0.0     │\n",
       "│ 2020-07-01T22:00:00 │ 0.0     │\n",
       "│ 2020-07-01T22:15:00 │ 0.0     │\n",
       "│ 2020-07-01T22:30:00 │ 0.0     │\n",
       "│ 2020-07-01T22:45:00 │ 0.0     │\n",
       "│ 2020-07-01T23:00:00 │ 0.0     │\n",
       "│ 2020-07-01T23:15:00 │ 0.0     │\n",
       "│ 2020-07-01T23:30:00 │ 0.0     │\n",
       "│ 2020-07-01T23:45:00 │ 0.0     │"
      ]
     },
     "execution_count": 53,
     "metadata": {},
     "output_type": "execute_result"
    }
   ],
   "source": [
    "ta1 = collapse(ta, minute, last, mean)"
   ]
  },
  {
   "cell_type": "code",
   "execution_count": 65,
   "id": "62dfbccb-34db-48cd-a8ae-4aac959ccbd2",
   "metadata": {
    "collapsed": true,
    "execution": {
     "iopub.execute_input": "2021-07-26T16:09:34.125000+02:00",
     "iopub.status.busy": "2021-07-26T16:09:34.124000+02:00",
     "iopub.status.idle": "2021-07-26T16:09:34.380000+02:00",
     "shell.execute_reply": "2021-07-26T16:09:34.379000+02:00"
    },
    "jupyter": {
     "outputs_hidden": true,
     "source_hidden": true
    },
    "tags": []
   },
   "outputs": [
    {
     "ename": "MethodError",
     "evalue": "MethodError: no method matching isless(::Float64, ::String)\n\u001b[0mClosest candidates are:\n\u001b[0m  isless(\u001b[91m::AbstractString\u001b[39m, ::AbstractString) at strings/basic.jl:344\n\u001b[0m  isless(::Real, \u001b[91m::AbstractGray{T} where T\u001b[39m) at C:\\Users\\xinyuan.hou\\.julia\\packages\\ColorTypes\\6m8P7\\src\\operations.jl:32\n\u001b[0m  isless(::AbstractFloat, \u001b[91m::Union{StatsBase.PValue, StatsBase.TestStat}\u001b[39m) at C:\\Users\\xinyuan.hou\\.julia\\packages\\StatsBase\\DU1bT\\src\\statmodels.jl:524\n\u001b[0m  ...",
     "output_type": "error",
     "traceback": [
      "MethodError: no method matching isless(::Float64, ::String)\n\u001b[0mClosest candidates are:\n\u001b[0m  isless(\u001b[91m::AbstractString\u001b[39m, ::AbstractString) at strings/basic.jl:344\n\u001b[0m  isless(::Real, \u001b[91m::AbstractGray{T} where T\u001b[39m) at C:\\Users\\xinyuan.hou\\.julia\\packages\\ColorTypes\\6m8P7\\src\\operations.jl:32\n\u001b[0m  isless(::AbstractFloat, \u001b[91m::Union{StatsBase.PValue, StatsBase.TestStat}\u001b[39m) at C:\\Users\\xinyuan.hou\\.julia\\packages\\StatsBase\\DU1bT\\src\\statmodels.jl:524\n\u001b[0m  ...",
      "",
      "Stacktrace:",
      "  [1] <(x::Float64, y::String)",
      "    @ Base .\\operators.jl:279",
      "  [2] <=(x::Float64, y::String)",
      "    @ Base .\\operators.jl:328",
      "  [3] (::Plots.var\"#106#108\"{Float64, Float64})(t::String)",
      "    @ Plots C:\\Users\\xinyuan.hou\\.julia\\packages\\Plots\\vVVub\\src\\axes.jl:191",
      "  [4] filter(f::Plots.var\"#106#108\"{Float64, Float64}, a::Vector{String})",
      "    @ Base .\\array.jl:2507",
      "  [5] optimal_ticks_and_labels(ticks::Vector{String}, alims::Tuple{Float64, Float64}, scale::Symbol, formatter::Function)",
      "    @ Plots C:\\Users\\xinyuan.hou\\.julia\\packages\\Plots\\vVVub\\src\\axes.jl:191",
      "  [6] get_ticks(::Vector{String}, ::Vector{Float64}, ::Vector{Any}, ::Tuple{Float64, Float64}, ::Vararg{Any, N} where N)",
      "    @ Plots C:\\Users\\xinyuan.hou\\.julia\\packages\\Plots\\vVVub\\src\\axes.jl:314",
      "  [7] get_ticks(sp::Plots.Subplot{Plots.GRBackend}, axis::Plots.Axis; update::Bool)",
      "    @ Plots C:\\Users\\xinyuan.hou\\.julia\\packages\\Plots\\vVVub\\src\\axes.jl:232",
      "  [8] get_ticks",
      "    @ C:\\Users\\xinyuan.hou\\.julia\\packages\\Plots\\vVVub\\src\\axes.jl:221 [inlined]",
      "  [9] _update_min_padding!(sp::Plots.Subplot{Plots.GRBackend})",
      "    @ Plots C:\\Users\\xinyuan.hou\\.julia\\packages\\Plots\\vVVub\\src\\backends\\gr.jl:847",
      " [10] iterate",
      "    @ .\\generator.jl:47 [inlined]",
      " [11] _collect(c::Matrix{AbstractLayout}, itr::Base.Generator{Matrix{AbstractLayout}, typeof(Plots._update_min_padding!)}, #unused#::Base.EltypeUnknown, isz::Base.HasShape{2})",
      "    @ Base .\\array.jl:691",
      " [12] collect_similar",
      "    @ .\\array.jl:606 [inlined]",
      " [13] map",
      "    @ .\\abstractarray.jl:2294 [inlined]",
      " [14] _update_min_padding!(layout::Plots.GridLayout)",
      "    @ Plots C:\\Users\\xinyuan.hou\\.julia\\packages\\Plots\\vVVub\\src\\layouts.jl:282",
      " [15] prepare_output(plt::Plots.Plot{Plots.GRBackend})",
      "    @ Plots C:\\Users\\xinyuan.hou\\.julia\\packages\\Plots\\vVVub\\src\\plot.jl:189",
      " [16] show(io::IOBuffer, m::MIME{Symbol(\"image/svg+xml\")}, plt::Plots.Plot{Plots.GRBackend})",
      "    @ Plots C:\\Users\\xinyuan.hou\\.julia\\packages\\Plots\\vVVub\\src\\output.jl:214",
      " [17] sprint(::Function, ::MIME{Symbol(\"image/svg+xml\")}, ::Vararg{Any, N} where N; context::Nothing, sizehint::Int64)",
      "    @ Base .\\strings\\io.jl:105",
      " [18] sprint",
      "    @ .\\strings\\io.jl:101 [inlined]",
      " [19] _ijulia_display_dict(plt::Plots.Plot{Plots.GRBackend})",
      "    @ Plots C:\\Users\\xinyuan.hou\\.julia\\packages\\Plots\\vVVub\\src\\ijulia.jl:53",
      " [20] display_dict(plt::Plots.Plot{Plots.GRBackend})",
      "    @ Plots C:\\Users\\xinyuan.hou\\.julia\\packages\\Plots\\vVVub\\src\\init.jl:77",
      " [21] #invokelatest#2",
      "    @ .\\essentials.jl:708 [inlined]",
      " [22] invokelatest",
      "    @ .\\essentials.jl:706 [inlined]",
      " [23] execute_request(socket::ZMQ.Socket, msg::IJulia.Msg)",
      "    @ IJulia C:\\Users\\xinyuan.hou\\.julia\\packages\\IJulia\\e8kqU\\src\\execute_request.jl:112",
      " [24] #invokelatest#2",
      "    @ .\\essentials.jl:708 [inlined]",
      " [25] invokelatest",
      "    @ .\\essentials.jl:706 [inlined]",
      " [26] eventloop(socket::ZMQ.Socket)",
      "    @ IJulia C:\\Users\\xinyuan.hou\\.julia\\packages\\IJulia\\e8kqU\\src\\eventloop.jl:8",
      " [27] (::IJulia.var\"#15#18\")()",
      "    @ IJulia .\\task.jl:411"
     ]
    }
   ],
   "source": [
    "plot(ta1[:swd], leg=:none,\n",
    "    xticks=xtime[1:180:1440])"
   ]
  },
  {
   "cell_type": "code",
   "execution_count": 72,
   "id": "03fd470a-3df4-4687-b267-8103eeea98e5",
   "metadata": {
    "collapsed": true,
    "execution": {
     "iopub.execute_input": "2021-07-26T16:14:17.274000+02:00",
     "iopub.status.busy": "2021-07-26T16:14:17.274000+02:00",
     "iopub.status.idle": "2021-07-26T16:14:17.280000+02:00",
     "shell.execute_reply": "2021-07-26T16:14:17.279000+02:00"
    },
    "jupyter": {
     "outputs_hidden": true
    },
    "scrolled": true,
    "tags": []
   },
   "outputs": [
    {
     "data": {
      "text/plain": [
       "96-element Vector{String}:\n",
       " \"00:00\"\n",
       " \"00:15\"\n",
       " \"00:30\"\n",
       " \"00:45\"\n",
       " \"01:00\"\n",
       " \"01:15\"\n",
       " \"01:30\"\n",
       " \"01:45\"\n",
       " \"02:00\"\n",
       " \"02:15\"\n",
       " \"02:30\"\n",
       " \"02:45\"\n",
       " \"03:00\"\n",
       " ⋮\n",
       " \"21:00\"\n",
       " \"21:15\"\n",
       " \"21:30\"\n",
       " \"21:45\"\n",
       " \"22:00\"\n",
       " \"22:15\"\n",
       " \"22:30\"\n",
       " \"22:45\"\n",
       " \"23:00\"\n",
       " \"23:15\"\n",
       " \"23:30\"\n",
       " \"23:45\""
      ]
     },
     "execution_count": 72,
     "metadata": {},
     "output_type": "execute_result"
    }
   ],
   "source": [
    "timepoint = day1_nn.time\n",
    "xtime = Dates.format.(day1_nn.time, \"HH:MM\")"
   ]
  },
  {
   "cell_type": "code",
   "execution_count": 91,
   "id": "f52f8e9e-066a-4fd3-9941-40c3327c0220",
   "metadata": {
    "collapsed": true,
    "execution": {
     "iopub.execute_input": "2021-07-26T16:28:37.752000+02:00",
     "iopub.status.busy": "2021-07-26T16:28:37.752000+02:00",
     "iopub.status.idle": "2021-07-26T16:28:37.756000+02:00",
     "shell.execute_reply": "2021-07-26T16:28:37.756000+02:00"
    },
    "jupyter": {
     "outputs_hidden": true
    },
    "tags": []
   },
   "outputs": [
    {
     "data": {
      "text/plain": [
       "8-element Vector{Int64}:\n",
       "  1\n",
       " 13\n",
       " 25\n",
       " 37\n",
       " 49\n",
       " 61\n",
       " 73\n",
       " 85"
      ]
     },
     "execution_count": 91,
     "metadata": {},
     "output_type": "execute_result"
    }
   ],
   "source": [
    "collect(1:12:96)"
   ]
  },
  {
   "cell_type": "code",
   "execution_count": 95,
   "id": "224cbe4b-9c5a-45f6-93a8-71d97ef46dfb",
   "metadata": {
    "execution": {
     "iopub.execute_input": "2021-07-26T16:30:32.140000+02:00",
     "iopub.status.busy": "2021-07-26T16:30:32.139000+02:00",
     "iopub.status.idle": "2021-07-26T16:30:32.174000+02:00",
     "shell.execute_reply": "2021-07-26T16:30:32.174000+02:00"
    },
    "tags": []
   },
   "outputs": [
    {
     "data": {
      "image/svg+xml": [
       "<?xml version=\"1.0\" encoding=\"utf-8\"?>\n",
       "<svg xmlns=\"http://www.w3.org/2000/svg\" xmlns:xlink=\"http://www.w3.org/1999/xlink\" width=\"600\" height=\"400\" viewBox=\"0 0 2400 1600\">\n",
       "<defs>\n",
       "  <clipPath id=\"clip420\">\n",
       "    <rect x=\"0\" y=\"0\" width=\"2400\" height=\"1600\"/>\n",
       "  </clipPath>\n",
       "</defs>\n",
       "<path clip-path=\"url(#clip420)\" d=\"\n",
       "M0 1600 L2400 1600 L2400 0 L0 0  Z\n",
       "  \" fill=\"#ffffff\" fill-rule=\"evenodd\" fill-opacity=\"1\"/>\n",
       "<defs>\n",
       "  <clipPath id=\"clip421\">\n",
       "    <rect x=\"480\" y=\"0\" width=\"1681\" height=\"1600\"/>\n",
       "  </clipPath>\n",
       "</defs>\n",
       "<path clip-path=\"url(#clip420)\" d=\"\n",
       "M262.551 1423.18 L2352.76 1423.18 L2352.76 123.472 L262.551 123.472  Z\n",
       "  \" fill=\"#ffffff\" fill-rule=\"evenodd\" fill-opacity=\"1\"/>\n",
       "<defs>\n",
       "  <clipPath id=\"clip422\">\n",
       "    <rect x=\"262\" y=\"123\" width=\"2091\" height=\"1301\"/>\n",
       "  </clipPath>\n",
       "</defs>\n",
       "<polyline clip-path=\"url(#clip422)\" style=\"stroke:#000000; stroke-width:2; stroke-opacity:0.1; fill:none\" points=\"\n",
       "  321.708,1423.18 321.708,123.472 \n",
       "  \"/>\n",
       "<polyline clip-path=\"url(#clip422)\" style=\"stroke:#000000; stroke-width:2; stroke-opacity:0.1; fill:none\" points=\"\n",
       "  570.789,1423.18 570.789,123.472 \n",
       "  \"/>\n",
       "<polyline clip-path=\"url(#clip422)\" style=\"stroke:#000000; stroke-width:2; stroke-opacity:0.1; fill:none\" points=\"\n",
       "  819.87,1423.18 819.87,123.472 \n",
       "  \"/>\n",
       "<polyline clip-path=\"url(#clip422)\" style=\"stroke:#000000; stroke-width:2; stroke-opacity:0.1; fill:none\" points=\"\n",
       "  1068.95,1423.18 1068.95,123.472 \n",
       "  \"/>\n",
       "<polyline clip-path=\"url(#clip422)\" style=\"stroke:#000000; stroke-width:2; stroke-opacity:0.1; fill:none\" points=\"\n",
       "  1318.03,1423.18 1318.03,123.472 \n",
       "  \"/>\n",
       "<polyline clip-path=\"url(#clip422)\" style=\"stroke:#000000; stroke-width:2; stroke-opacity:0.1; fill:none\" points=\"\n",
       "  1567.11,1423.18 1567.11,123.472 \n",
       "  \"/>\n",
       "<polyline clip-path=\"url(#clip422)\" style=\"stroke:#000000; stroke-width:2; stroke-opacity:0.1; fill:none\" points=\"\n",
       "  1816.19,1423.18 1816.19,123.472 \n",
       "  \"/>\n",
       "<polyline clip-path=\"url(#clip422)\" style=\"stroke:#000000; stroke-width:2; stroke-opacity:0.1; fill:none\" points=\"\n",
       "  2065.27,1423.18 2065.27,123.472 \n",
       "  \"/>\n",
       "<polyline clip-path=\"url(#clip420)\" style=\"stroke:#000000; stroke-width:4; stroke-opacity:1; fill:none\" points=\"\n",
       "  262.551,1423.18 2352.76,1423.18 \n",
       "  \"/>\n",
       "<polyline clip-path=\"url(#clip420)\" style=\"stroke:#000000; stroke-width:4; stroke-opacity:1; fill:none\" points=\"\n",
       "  321.708,1423.18 321.708,1407.58 \n",
       "  \"/>\n",
       "<polyline clip-path=\"url(#clip420)\" style=\"stroke:#000000; stroke-width:4; stroke-opacity:1; fill:none\" points=\"\n",
       "  570.789,1423.18 570.789,1407.58 \n",
       "  \"/>\n",
       "<polyline clip-path=\"url(#clip420)\" style=\"stroke:#000000; stroke-width:4; stroke-opacity:1; fill:none\" points=\"\n",
       "  819.87,1423.18 819.87,1407.58 \n",
       "  \"/>\n",
       "<polyline clip-path=\"url(#clip420)\" style=\"stroke:#000000; stroke-width:4; stroke-opacity:1; fill:none\" points=\"\n",
       "  1068.95,1423.18 1068.95,1407.58 \n",
       "  \"/>\n",
       "<polyline clip-path=\"url(#clip420)\" style=\"stroke:#000000; stroke-width:4; stroke-opacity:1; fill:none\" points=\"\n",
       "  1318.03,1423.18 1318.03,1407.58 \n",
       "  \"/>\n",
       "<polyline clip-path=\"url(#clip420)\" style=\"stroke:#000000; stroke-width:4; stroke-opacity:1; fill:none\" points=\"\n",
       "  1567.11,1423.18 1567.11,1407.58 \n",
       "  \"/>\n",
       "<polyline clip-path=\"url(#clip420)\" style=\"stroke:#000000; stroke-width:4; stroke-opacity:1; fill:none\" points=\"\n",
       "  1816.19,1423.18 1816.19,1407.58 \n",
       "  \"/>\n",
       "<polyline clip-path=\"url(#clip420)\" style=\"stroke:#000000; stroke-width:4; stroke-opacity:1; fill:none\" points=\"\n",
       "  2065.27,1423.18 2065.27,1407.58 \n",
       "  \"/>\n",
       "<path clip-path=\"url(#clip420)\" d=\"M 0 0 M268.479 1452.37 Q264.868 1452.37 263.039 1455.94 Q261.234 1459.48 261.234 1466.61 Q261.234 1473.71 263.039 1477.28 Q264.868 1480.82 268.479 1480.82 Q272.113 1480.82 273.919 1477.28 Q275.748 1473.71 275.748 1466.61 Q275.748 1459.48 273.919 1455.94 Q272.113 1452.37 268.479 1452.37 M268.479 1448.67 Q274.289 1448.67 277.345 1453.27 Q280.423 1457.86 280.423 1466.61 Q280.423 1475.33 277.345 1479.94 Q274.289 1484.52 268.479 1484.52 Q262.669 1484.52 259.59 1479.94 Q256.535 1475.33 256.535 1466.61 Q256.535 1457.86 259.59 1453.27 Q262.669 1448.67 268.479 1448.67 Z\" fill=\"#000000\" fill-rule=\"evenodd\" fill-opacity=\"1\" /><path clip-path=\"url(#clip420)\" d=\"M 0 0 M298.641 1452.37 Q295.03 1452.37 293.201 1455.94 Q291.396 1459.48 291.396 1466.61 Q291.396 1473.71 293.201 1477.28 Q295.03 1480.82 298.641 1480.82 Q302.275 1480.82 304.081 1477.28 Q305.909 1473.71 305.909 1466.61 Q305.909 1459.48 304.081 1455.94 Q302.275 1452.37 298.641 1452.37 M298.641 1448.67 Q304.451 1448.67 307.507 1453.27 Q310.585 1457.86 310.585 1466.61 Q310.585 1475.33 307.507 1479.94 Q304.451 1484.52 298.641 1484.52 Q292.831 1484.52 289.752 1479.94 Q286.697 1475.33 286.697 1466.61 Q286.697 1457.86 289.752 1453.27 Q292.831 1448.67 298.641 1448.67 Z\" fill=\"#000000\" fill-rule=\"evenodd\" fill-opacity=\"1\" /><path clip-path=\"url(#clip420)\" d=\"M 0 0 M319.289 1477.97 L324.173 1477.97 L324.173 1483.85 L319.289 1483.85 L319.289 1477.97 M319.289 1459.34 L324.173 1459.34 L324.173 1465.22 L319.289 1465.22 L319.289 1459.34 Z\" fill=\"#000000\" fill-rule=\"evenodd\" fill-opacity=\"1\" /><path clip-path=\"url(#clip420)\" d=\"M 0 0 M344.775 1452.37 Q341.164 1452.37 339.335 1455.94 Q337.53 1459.48 337.53 1466.61 Q337.53 1473.71 339.335 1477.28 Q341.164 1480.82 344.775 1480.82 Q348.409 1480.82 350.215 1477.28 Q352.043 1473.71 352.043 1466.61 Q352.043 1459.48 350.215 1455.94 Q348.409 1452.37 344.775 1452.37 M344.775 1448.67 Q350.585 1448.67 353.641 1453.27 Q356.719 1457.86 356.719 1466.61 Q356.719 1475.33 353.641 1479.94 Q350.585 1484.52 344.775 1484.52 Q338.965 1484.52 335.886 1479.94 Q332.831 1475.33 332.831 1466.61 Q332.831 1457.86 335.886 1453.27 Q338.965 1448.67 344.775 1448.67 Z\" fill=\"#000000\" fill-rule=\"evenodd\" fill-opacity=\"1\" /><path clip-path=\"url(#clip420)\" d=\"M 0 0 M374.937 1452.37 Q371.326 1452.37 369.497 1455.94 Q367.692 1459.48 367.692 1466.61 Q367.692 1473.71 369.497 1477.28 Q371.326 1480.82 374.937 1480.82 Q378.571 1480.82 380.377 1477.28 Q382.205 1473.71 382.205 1466.61 Q382.205 1459.48 380.377 1455.94 Q378.571 1452.37 374.937 1452.37 M374.937 1448.67 Q380.747 1448.67 383.803 1453.27 Q386.881 1457.86 386.881 1466.61 Q386.881 1475.33 383.803 1479.94 Q380.747 1484.52 374.937 1484.52 Q369.127 1484.52 366.048 1479.94 Q362.992 1475.33 362.992 1466.61 Q362.992 1457.86 366.048 1453.27 Q369.127 1448.67 374.937 1448.67 Z\" fill=\"#000000\" fill-rule=\"evenodd\" fill-opacity=\"1\" /><path clip-path=\"url(#clip420)\" d=\"M 0 0 M517.56 1452.37 Q513.949 1452.37 512.12 1455.94 Q510.315 1459.48 510.315 1466.61 Q510.315 1473.71 512.12 1477.28 Q513.949 1480.82 517.56 1480.82 Q521.194 1480.82 523 1477.28 Q524.829 1473.71 524.829 1466.61 Q524.829 1459.48 523 1455.94 Q521.194 1452.37 517.56 1452.37 M517.56 1448.67 Q523.37 1448.67 526.426 1453.27 Q529.504 1457.86 529.504 1466.61 Q529.504 1475.33 526.426 1479.94 Q523.37 1484.52 517.56 1484.52 Q511.75 1484.52 508.671 1479.94 Q505.616 1475.33 505.616 1466.61 Q505.616 1457.86 508.671 1453.27 Q511.75 1448.67 517.56 1448.67 Z\" fill=\"#000000\" fill-rule=\"evenodd\" fill-opacity=\"1\" /><path clip-path=\"url(#clip420)\" d=\"M 0 0 M551.889 1465.22 Q555.245 1465.94 557.12 1468.2 Q559.018 1470.47 559.018 1473.81 Q559.018 1478.92 555.5 1481.72 Q551.981 1484.52 545.5 1484.52 Q543.324 1484.52 541.009 1484.08 Q538.717 1483.67 536.264 1482.81 L536.264 1478.3 Q538.208 1479.43 540.523 1480.01 Q542.838 1480.59 545.361 1480.59 Q549.759 1480.59 552.051 1478.85 Q554.365 1477.12 554.365 1473.81 Q554.365 1470.75 552.213 1469.04 Q550.083 1467.3 546.264 1467.3 L542.236 1467.3 L542.236 1463.46 L546.449 1463.46 Q549.898 1463.46 551.727 1462.09 Q553.555 1460.7 553.555 1458.11 Q553.555 1455.45 551.657 1454.04 Q549.782 1452.6 546.264 1452.6 Q544.342 1452.6 542.143 1453.02 Q539.944 1453.44 537.305 1454.31 L537.305 1450.15 Q539.967 1449.41 542.282 1449.04 Q544.62 1448.67 546.68 1448.67 Q552.004 1448.67 555.106 1451.1 Q558.208 1453.5 558.208 1457.63 Q558.208 1460.5 556.564 1462.49 Q554.921 1464.45 551.889 1465.22 Z\" fill=\"#000000\" fill-rule=\"evenodd\" fill-opacity=\"1\" /><path clip-path=\"url(#clip420)\" d=\"M 0 0 M568.37 1477.97 L573.254 1477.97 L573.254 1483.85 L568.37 1483.85 L568.37 1477.97 M568.37 1459.34 L573.254 1459.34 L573.254 1465.22 L568.37 1465.22 L568.37 1459.34 Z\" fill=\"#000000\" fill-rule=\"evenodd\" fill-opacity=\"1\" /><path clip-path=\"url(#clip420)\" d=\"M 0 0 M593.856 1452.37 Q590.245 1452.37 588.416 1455.94 Q586.611 1459.48 586.611 1466.61 Q586.611 1473.71 588.416 1477.28 Q590.245 1480.82 593.856 1480.82 Q597.49 1480.82 599.296 1477.28 Q601.124 1473.71 601.124 1466.61 Q601.124 1459.48 599.296 1455.94 Q597.49 1452.37 593.856 1452.37 M593.856 1448.67 Q599.666 1448.67 602.722 1453.27 Q605.8 1457.86 605.8 1466.61 Q605.8 1475.33 602.722 1479.94 Q599.666 1484.52 593.856 1484.52 Q588.046 1484.52 584.967 1479.94 Q581.912 1475.33 581.912 1466.61 Q581.912 1457.86 584.967 1453.27 Q588.046 1448.67 593.856 1448.67 Z\" fill=\"#000000\" fill-rule=\"evenodd\" fill-opacity=\"1\" /><path clip-path=\"url(#clip420)\" d=\"M 0 0 M624.018 1452.37 Q620.407 1452.37 618.578 1455.94 Q616.773 1459.48 616.773 1466.61 Q616.773 1473.71 618.578 1477.28 Q620.407 1480.82 624.018 1480.82 Q627.652 1480.82 629.458 1477.28 Q631.286 1473.71 631.286 1466.61 Q631.286 1459.48 629.458 1455.94 Q627.652 1452.37 624.018 1452.37 M624.018 1448.67 Q629.828 1448.67 632.884 1453.27 Q635.962 1457.86 635.962 1466.61 Q635.962 1475.33 632.884 1479.94 Q629.828 1484.52 624.018 1484.52 Q618.208 1484.52 615.129 1479.94 Q612.073 1475.33 612.073 1466.61 Q612.073 1457.86 615.129 1453.27 Q618.208 1448.67 624.018 1448.67 Z\" fill=\"#000000\" fill-rule=\"evenodd\" fill-opacity=\"1\" /><path clip-path=\"url(#clip420)\" d=\"M 0 0 M766.641 1452.37 Q763.03 1452.37 761.201 1455.94 Q759.396 1459.48 759.396 1466.61 Q759.396 1473.71 761.201 1477.28 Q763.03 1480.82 766.641 1480.82 Q770.275 1480.82 772.081 1477.28 Q773.91 1473.71 773.91 1466.61 Q773.91 1459.48 772.081 1455.94 Q770.275 1452.37 766.641 1452.37 M766.641 1448.67 Q772.451 1448.67 775.507 1453.27 Q778.585 1457.86 778.585 1466.61 Q778.585 1475.33 775.507 1479.94 Q772.451 1484.52 766.641 1484.52 Q760.831 1484.52 757.752 1479.94 Q754.697 1475.33 754.697 1466.61 Q754.697 1457.86 757.752 1453.27 Q760.831 1448.67 766.641 1448.67 Z\" fill=\"#000000\" fill-rule=\"evenodd\" fill-opacity=\"1\" /><path clip-path=\"url(#clip420)\" d=\"M 0 0 M797.382 1464.71 Q794.234 1464.71 792.382 1466.86 Q790.553 1469.01 790.553 1472.76 Q790.553 1476.49 792.382 1478.67 Q794.234 1480.82 797.382 1480.82 Q800.53 1480.82 802.358 1478.67 Q804.21 1476.49 804.21 1472.76 Q804.21 1469.01 802.358 1466.86 Q800.53 1464.71 797.382 1464.71 M806.664 1450.06 L806.664 1454.31 Q804.905 1453.48 803.099 1453.04 Q801.317 1452.6 799.558 1452.6 Q794.928 1452.6 792.474 1455.73 Q790.044 1458.85 789.696 1465.17 Q791.062 1463.16 793.122 1462.09 Q795.183 1461 797.659 1461 Q802.868 1461 805.877 1464.18 Q808.909 1467.32 808.909 1472.76 Q808.909 1478.09 805.761 1481.31 Q802.613 1484.52 797.382 1484.52 Q791.386 1484.52 788.215 1479.94 Q785.044 1475.33 785.044 1466.61 Q785.044 1458.41 788.933 1453.55 Q792.821 1448.67 799.372 1448.67 Q801.132 1448.67 802.914 1449.01 Q804.72 1449.36 806.664 1450.06 Z\" fill=\"#000000\" fill-rule=\"evenodd\" fill-opacity=\"1\" /><path clip-path=\"url(#clip420)\" d=\"M 0 0 M817.451 1477.97 L822.335 1477.97 L822.335 1483.85 L817.451 1483.85 L817.451 1477.97 M817.451 1459.34 L822.335 1459.34 L822.335 1465.22 L817.451 1465.22 L817.451 1459.34 Z\" fill=\"#000000\" fill-rule=\"evenodd\" fill-opacity=\"1\" /><path clip-path=\"url(#clip420)\" d=\"M 0 0 M842.937 1452.37 Q839.326 1452.37 837.497 1455.94 Q835.692 1459.48 835.692 1466.61 Q835.692 1473.71 837.497 1477.28 Q839.326 1480.82 842.937 1480.82 Q846.571 1480.82 848.377 1477.28 Q850.205 1473.71 850.205 1466.61 Q850.205 1459.48 848.377 1455.94 Q846.571 1452.37 842.937 1452.37 M842.937 1448.67 Q848.747 1448.67 851.803 1453.27 Q854.881 1457.86 854.881 1466.61 Q854.881 1475.33 851.803 1479.94 Q848.747 1484.52 842.937 1484.52 Q837.127 1484.52 834.048 1479.94 Q830.993 1475.33 830.993 1466.61 Q830.993 1457.86 834.048 1453.27 Q837.127 1448.67 842.937 1448.67 Z\" fill=\"#000000\" fill-rule=\"evenodd\" fill-opacity=\"1\" /><path clip-path=\"url(#clip420)\" d=\"M 0 0 M873.099 1452.37 Q869.488 1452.37 867.659 1455.94 Q865.853 1459.48 865.853 1466.61 Q865.853 1473.71 867.659 1477.28 Q869.488 1480.82 873.099 1480.82 Q876.733 1480.82 878.539 1477.28 Q880.367 1473.71 880.367 1466.61 Q880.367 1459.48 878.539 1455.94 Q876.733 1452.37 873.099 1452.37 M873.099 1448.67 Q878.909 1448.67 881.965 1453.27 Q885.043 1457.86 885.043 1466.61 Q885.043 1475.33 881.965 1479.94 Q878.909 1484.52 873.099 1484.52 Q867.289 1484.52 864.21 1479.94 Q861.154 1475.33 861.154 1466.61 Q861.154 1457.86 864.21 1453.27 Q867.289 1448.67 873.099 1448.67 Z\" fill=\"#000000\" fill-rule=\"evenodd\" fill-opacity=\"1\" /><path clip-path=\"url(#clip420)\" d=\"M 0 0 M1015.72 1452.37 Q1012.11 1452.37 1010.28 1455.94 Q1008.48 1459.48 1008.48 1466.61 Q1008.48 1473.71 1010.28 1477.28 Q1012.11 1480.82 1015.72 1480.82 Q1019.36 1480.82 1021.16 1477.28 Q1022.99 1473.71 1022.99 1466.61 Q1022.99 1459.48 1021.16 1455.94 Q1019.36 1452.37 1015.72 1452.37 M1015.72 1448.67 Q1021.53 1448.67 1024.59 1453.27 Q1027.67 1457.86 1027.67 1466.61 Q1027.67 1475.33 1024.59 1479.94 Q1021.53 1484.52 1015.72 1484.52 Q1009.91 1484.52 1006.83 1479.94 Q1003.78 1475.33 1003.78 1466.61 Q1003.78 1457.86 1006.83 1453.27 Q1009.91 1448.67 1015.72 1448.67 Z\" fill=\"#000000\" fill-rule=\"evenodd\" fill-opacity=\"1\" /><path clip-path=\"url(#clip420)\" d=\"M 0 0 M1036.02 1483.13 L1036.02 1478.88 Q1037.78 1479.71 1039.59 1480.15 Q1041.39 1480.59 1043.13 1480.59 Q1047.76 1480.59 1050.19 1477.49 Q1052.64 1474.36 1052.99 1468.02 Q1051.65 1470.01 1049.59 1471.07 Q1047.53 1472.14 1045.03 1472.14 Q1039.84 1472.14 1036.81 1469.01 Q1033.8 1465.87 1033.8 1460.43 Q1033.8 1455.1 1036.95 1451.88 Q1040.1 1448.67 1045.33 1448.67 Q1051.32 1448.67 1054.47 1453.27 Q1057.64 1457.86 1057.64 1466.61 Q1057.64 1474.78 1053.75 1479.66 Q1049.89 1484.52 1043.34 1484.52 Q1041.58 1484.52 1039.77 1484.18 Q1037.97 1483.83 1036.02 1483.13 M1045.33 1468.48 Q1048.48 1468.48 1050.31 1466.33 Q1052.16 1464.18 1052.16 1460.43 Q1052.16 1456.7 1050.31 1454.55 Q1048.48 1452.37 1045.33 1452.37 Q1042.18 1452.37 1040.33 1454.55 Q1038.5 1456.7 1038.5 1460.43 Q1038.5 1464.18 1040.33 1466.33 Q1042.18 1468.48 1045.33 1468.48 Z\" fill=\"#000000\" fill-rule=\"evenodd\" fill-opacity=\"1\" /><path clip-path=\"url(#clip420)\" d=\"M 0 0 M1066.53 1477.97 L1071.42 1477.97 L1071.42 1483.85 L1066.53 1483.85 L1066.53 1477.97 M1066.53 1459.34 L1071.42 1459.34 L1071.42 1465.22 L1066.53 1465.22 L1066.53 1459.34 Z\" fill=\"#000000\" fill-rule=\"evenodd\" fill-opacity=\"1\" /><path clip-path=\"url(#clip420)\" d=\"M 0 0 M1092.02 1452.37 Q1088.41 1452.37 1086.58 1455.94 Q1084.77 1459.48 1084.77 1466.61 Q1084.77 1473.71 1086.58 1477.28 Q1088.41 1480.82 1092.02 1480.82 Q1095.65 1480.82 1097.46 1477.28 Q1099.29 1473.71 1099.29 1466.61 Q1099.29 1459.48 1097.46 1455.94 Q1095.65 1452.37 1092.02 1452.37 M1092.02 1448.67 Q1097.83 1448.67 1100.88 1453.27 Q1103.96 1457.86 1103.96 1466.61 Q1103.96 1475.33 1100.88 1479.94 Q1097.83 1484.52 1092.02 1484.52 Q1086.21 1484.52 1083.13 1479.94 Q1080.07 1475.33 1080.07 1466.61 Q1080.07 1457.86 1083.13 1453.27 Q1086.21 1448.67 1092.02 1448.67 Z\" fill=\"#000000\" fill-rule=\"evenodd\" fill-opacity=\"1\" /><path clip-path=\"url(#clip420)\" d=\"M 0 0 M1122.18 1452.37 Q1118.57 1452.37 1116.74 1455.94 Q1114.93 1459.48 1114.93 1466.61 Q1114.93 1473.71 1116.74 1477.28 Q1118.57 1480.82 1122.18 1480.82 Q1125.81 1480.82 1127.62 1477.28 Q1129.45 1473.71 1129.45 1466.61 Q1129.45 1459.48 1127.62 1455.94 Q1125.81 1452.37 1122.18 1452.37 M1122.18 1448.67 Q1127.99 1448.67 1131.05 1453.27 Q1134.12 1457.86 1134.12 1466.61 Q1134.12 1475.33 1131.05 1479.94 Q1127.99 1484.52 1122.18 1484.52 Q1116.37 1484.52 1113.29 1479.94 Q1110.24 1475.33 1110.24 1466.61 Q1110.24 1457.86 1113.29 1453.27 Q1116.37 1448.67 1122.18 1448.67 Z\" fill=\"#000000\" fill-rule=\"evenodd\" fill-opacity=\"1\" /><path clip-path=\"url(#clip420)\" d=\"M 0 0 M1254.57 1479.92 L1262.21 1479.92 L1262.21 1453.55 L1253.9 1455.22 L1253.9 1450.96 L1262.16 1449.29 L1266.84 1449.29 L1266.84 1479.92 L1274.48 1479.92 L1274.48 1483.85 L1254.57 1483.85 L1254.57 1479.92 Z\" fill=\"#000000\" fill-rule=\"evenodd\" fill-opacity=\"1\" /><path clip-path=\"url(#clip420)\" d=\"M 0 0 M1287.95 1479.92 L1304.27 1479.92 L1304.27 1483.85 L1282.33 1483.85 L1282.33 1479.92 Q1284.99 1477.16 1289.57 1472.53 Q1294.18 1467.88 1295.36 1466.54 Q1297.6 1464.01 1298.48 1462.28 Q1299.39 1460.52 1299.39 1458.83 Q1299.39 1456.07 1297.44 1454.34 Q1295.52 1452.6 1292.42 1452.6 Q1290.22 1452.6 1287.77 1453.37 Q1285.34 1454.13 1282.56 1455.68 L1282.56 1450.96 Q1285.38 1449.82 1287.84 1449.25 Q1290.29 1448.67 1292.33 1448.67 Q1297.7 1448.67 1300.89 1451.35 Q1304.09 1454.04 1304.09 1458.53 Q1304.09 1460.66 1303.28 1462.58 Q1302.49 1464.48 1300.38 1467.07 Q1299.8 1467.74 1296.7 1470.96 Q1293.6 1474.15 1287.95 1479.92 Z\" fill=\"#000000\" fill-rule=\"evenodd\" fill-opacity=\"1\" /><path clip-path=\"url(#clip420)\" d=\"M 0 0 M1314.57 1477.97 L1319.46 1477.97 L1319.46 1483.85 L1314.57 1483.85 L1314.57 1477.97 M1314.57 1459.34 L1319.46 1459.34 L1319.46 1465.22 L1314.57 1465.22 L1314.57 1459.34 Z\" fill=\"#000000\" fill-rule=\"evenodd\" fill-opacity=\"1\" /><path clip-path=\"url(#clip420)\" d=\"M 0 0 M1340.06 1452.37 Q1336.45 1452.37 1334.62 1455.94 Q1332.81 1459.48 1332.81 1466.61 Q1332.81 1473.71 1334.62 1477.28 Q1336.45 1480.82 1340.06 1480.82 Q1343.69 1480.82 1345.5 1477.28 Q1347.33 1473.71 1347.33 1466.61 Q1347.33 1459.48 1345.5 1455.94 Q1343.69 1452.37 1340.06 1452.37 M1340.06 1448.67 Q1345.87 1448.67 1348.92 1453.27 Q1352 1457.86 1352 1466.61 Q1352 1475.33 1348.92 1479.94 Q1345.87 1484.52 1340.06 1484.52 Q1334.25 1484.52 1331.17 1479.94 Q1328.11 1475.33 1328.11 1466.61 Q1328.11 1457.86 1331.17 1453.27 Q1334.25 1448.67 1340.06 1448.67 Z\" fill=\"#000000\" fill-rule=\"evenodd\" fill-opacity=\"1\" /><path clip-path=\"url(#clip420)\" d=\"M 0 0 M1370.22 1452.37 Q1366.61 1452.37 1364.78 1455.94 Q1362.97 1459.48 1362.97 1466.61 Q1362.97 1473.71 1364.78 1477.28 Q1366.61 1480.82 1370.22 1480.82 Q1373.85 1480.82 1375.66 1477.28 Q1377.49 1473.71 1377.49 1466.61 Q1377.49 1459.48 1375.66 1455.94 Q1373.85 1452.37 1370.22 1452.37 M1370.22 1448.67 Q1376.03 1448.67 1379.08 1453.27 Q1382.16 1457.86 1382.16 1466.61 Q1382.16 1475.33 1379.08 1479.94 Q1376.03 1484.52 1370.22 1484.52 Q1364.41 1484.52 1361.33 1479.94 Q1358.27 1475.33 1358.27 1466.61 Q1358.27 1457.86 1361.33 1453.27 Q1364.41 1448.67 1370.22 1448.67 Z\" fill=\"#000000\" fill-rule=\"evenodd\" fill-opacity=\"1\" /><path clip-path=\"url(#clip420)\" d=\"M 0 0 M1503.65 1479.92 L1511.29 1479.92 L1511.29 1453.55 L1502.98 1455.22 L1502.98 1450.96 L1511.25 1449.29 L1515.92 1449.29 L1515.92 1479.92 L1523.56 1479.92 L1523.56 1483.85 L1503.65 1483.85 L1503.65 1479.92 Z\" fill=\"#000000\" fill-rule=\"evenodd\" fill-opacity=\"1\" /><path clip-path=\"url(#clip420)\" d=\"M 0 0 M1533.05 1449.29 L1551.41 1449.29 L1551.41 1453.23 L1537.33 1453.23 L1537.33 1461.7 Q1538.35 1461.35 1539.37 1461.19 Q1540.39 1461 1541.41 1461 Q1547.19 1461 1550.57 1464.18 Q1553.95 1467.35 1553.95 1472.76 Q1553.95 1478.34 1550.48 1481.44 Q1547.01 1484.52 1540.69 1484.52 Q1538.51 1484.52 1536.25 1484.15 Q1534 1483.78 1531.59 1483.04 L1531.59 1478.34 Q1533.68 1479.48 1535.9 1480.03 Q1538.12 1480.59 1540.6 1480.59 Q1544.6 1480.59 1546.94 1478.48 Q1549.28 1476.38 1549.28 1472.76 Q1549.28 1469.15 1546.94 1467.05 Q1544.6 1464.94 1540.6 1464.94 Q1538.72 1464.94 1536.85 1465.36 Q1535 1465.77 1533.05 1466.65 L1533.05 1449.29 Z\" fill=\"#000000\" fill-rule=\"evenodd\" fill-opacity=\"1\" /><path clip-path=\"url(#clip420)\" d=\"M 0 0 M1563.65 1477.97 L1568.54 1477.97 L1568.54 1483.85 L1563.65 1483.85 L1563.65 1477.97 M1563.65 1459.34 L1568.54 1459.34 L1568.54 1465.22 L1563.65 1465.22 L1563.65 1459.34 Z\" fill=\"#000000\" fill-rule=\"evenodd\" fill-opacity=\"1\" /><path clip-path=\"url(#clip420)\" d=\"M 0 0 M1589.14 1452.37 Q1585.53 1452.37 1583.7 1455.94 Q1581.89 1459.48 1581.89 1466.61 Q1581.89 1473.71 1583.7 1477.28 Q1585.53 1480.82 1589.14 1480.82 Q1592.77 1480.82 1594.58 1477.28 Q1596.41 1473.71 1596.41 1466.61 Q1596.41 1459.48 1594.58 1455.94 Q1592.77 1452.37 1589.14 1452.37 M1589.14 1448.67 Q1594.95 1448.67 1598 1453.27 Q1601.08 1457.86 1601.08 1466.61 Q1601.08 1475.33 1598 1479.94 Q1594.95 1484.52 1589.14 1484.52 Q1583.33 1484.52 1580.25 1479.94 Q1577.19 1475.33 1577.19 1466.61 Q1577.19 1457.86 1580.25 1453.27 Q1583.33 1448.67 1589.14 1448.67 Z\" fill=\"#000000\" fill-rule=\"evenodd\" fill-opacity=\"1\" /><path clip-path=\"url(#clip420)\" d=\"M 0 0 M1619.3 1452.37 Q1615.69 1452.37 1613.86 1455.94 Q1612.05 1459.48 1612.05 1466.61 Q1612.05 1473.71 1613.86 1477.28 Q1615.69 1480.82 1619.3 1480.82 Q1622.93 1480.82 1624.74 1477.28 Q1626.57 1473.71 1626.57 1466.61 Q1626.57 1459.48 1624.74 1455.94 Q1622.93 1452.37 1619.3 1452.37 M1619.3 1448.67 Q1625.11 1448.67 1628.17 1453.27 Q1631.24 1457.86 1631.24 1466.61 Q1631.24 1475.33 1628.17 1479.94 Q1625.11 1484.52 1619.3 1484.52 Q1613.49 1484.52 1610.41 1479.94 Q1607.36 1475.33 1607.36 1466.61 Q1607.36 1457.86 1610.41 1453.27 Q1613.49 1448.67 1619.3 1448.67 Z\" fill=\"#000000\" fill-rule=\"evenodd\" fill-opacity=\"1\" /><path clip-path=\"url(#clip420)\" d=\"M 0 0 M1752.73 1479.92 L1760.37 1479.92 L1760.37 1453.55 L1752.06 1455.22 L1752.06 1450.96 L1760.33 1449.29 L1765 1449.29 L1765 1479.92 L1772.64 1479.92 L1772.64 1483.85 L1752.73 1483.85 L1752.73 1479.92 Z\" fill=\"#000000\" fill-rule=\"evenodd\" fill-opacity=\"1\" /><path clip-path=\"url(#clip420)\" d=\"M 0 0 M1792.09 1467.44 Q1788.75 1467.44 1786.83 1469.22 Q1784.93 1471 1784.93 1474.13 Q1784.93 1477.25 1786.83 1479.04 Q1788.75 1480.82 1792.09 1480.82 Q1795.42 1480.82 1797.34 1479.04 Q1799.26 1477.23 1799.26 1474.13 Q1799.26 1471 1797.34 1469.22 Q1795.44 1467.44 1792.09 1467.44 M1787.41 1465.45 Q1784.4 1464.71 1782.71 1462.65 Q1781.04 1460.59 1781.04 1457.63 Q1781.04 1453.48 1783.98 1451.07 Q1786.95 1448.67 1792.09 1448.67 Q1797.25 1448.67 1800.19 1451.07 Q1803.13 1453.48 1803.13 1457.63 Q1803.13 1460.59 1801.44 1462.65 Q1799.77 1464.71 1796.78 1465.45 Q1800.16 1466.24 1802.04 1468.53 Q1803.94 1470.82 1803.94 1474.13 Q1803.94 1479.15 1800.86 1481.84 Q1797.8 1484.52 1792.09 1484.52 Q1786.37 1484.52 1783.29 1481.84 Q1780.23 1479.15 1780.23 1474.13 Q1780.23 1470.82 1782.13 1468.53 Q1784.03 1466.24 1787.41 1465.45 M1785.7 1458.06 Q1785.7 1460.75 1787.36 1462.25 Q1789.05 1463.76 1792.09 1463.76 Q1795.09 1463.76 1796.78 1462.25 Q1798.5 1460.75 1798.5 1458.06 Q1798.5 1455.38 1796.78 1453.88 Q1795.09 1452.37 1792.09 1452.37 Q1789.05 1452.37 1787.36 1453.88 Q1785.7 1455.38 1785.7 1458.06 Z\" fill=\"#000000\" fill-rule=\"evenodd\" fill-opacity=\"1\" /><path clip-path=\"url(#clip420)\" d=\"M 0 0 M1812.73 1477.97 L1817.62 1477.97 L1817.62 1483.85 L1812.73 1483.85 L1812.73 1477.97 M1812.73 1459.34 L1817.62 1459.34 L1817.62 1465.22 L1812.73 1465.22 L1812.73 1459.34 Z\" fill=\"#000000\" fill-rule=\"evenodd\" fill-opacity=\"1\" /><path clip-path=\"url(#clip420)\" d=\"M 0 0 M1838.22 1452.37 Q1834.61 1452.37 1832.78 1455.94 Q1830.97 1459.48 1830.97 1466.61 Q1830.97 1473.71 1832.78 1477.28 Q1834.61 1480.82 1838.22 1480.82 Q1841.85 1480.82 1843.66 1477.28 Q1845.49 1473.71 1845.49 1466.61 Q1845.49 1459.48 1843.66 1455.94 Q1841.85 1452.37 1838.22 1452.37 M1838.22 1448.67 Q1844.03 1448.67 1847.08 1453.27 Q1850.16 1457.86 1850.16 1466.61 Q1850.16 1475.33 1847.08 1479.94 Q1844.03 1484.52 1838.22 1484.52 Q1832.41 1484.52 1829.33 1479.94 Q1826.27 1475.33 1826.27 1466.61 Q1826.27 1457.86 1829.33 1453.27 Q1832.41 1448.67 1838.22 1448.67 Z\" fill=\"#000000\" fill-rule=\"evenodd\" fill-opacity=\"1\" /><path clip-path=\"url(#clip420)\" d=\"M 0 0 M1868.38 1452.37 Q1864.77 1452.37 1862.94 1455.94 Q1861.14 1459.48 1861.14 1466.61 Q1861.14 1473.71 1862.94 1477.28 Q1864.77 1480.82 1868.38 1480.82 Q1872.02 1480.82 1873.82 1477.28 Q1875.65 1473.71 1875.65 1466.61 Q1875.65 1459.48 1873.82 1455.94 Q1872.02 1452.37 1868.38 1452.37 M1868.38 1448.67 Q1874.19 1448.67 1877.25 1453.27 Q1880.33 1457.86 1880.33 1466.61 Q1880.33 1475.33 1877.25 1479.94 Q1874.19 1484.52 1868.38 1484.52 Q1862.57 1484.52 1859.49 1479.94 Q1856.44 1475.33 1856.44 1466.61 Q1856.44 1457.86 1859.49 1453.27 Q1862.57 1448.67 1868.38 1448.67 Z\" fill=\"#000000\" fill-rule=\"evenodd\" fill-opacity=\"1\" /><path clip-path=\"url(#clip420)\" d=\"M 0 0 M2005.9 1479.92 L2022.22 1479.92 L2022.22 1483.85 L2000.28 1483.85 L2000.28 1479.92 Q2002.94 1477.16 2007.52 1472.53 Q2012.13 1467.88 2013.31 1466.54 Q2015.55 1464.01 2016.43 1462.28 Q2017.34 1460.52 2017.34 1458.83 Q2017.34 1456.07 2015.39 1454.34 Q2013.47 1452.6 2010.37 1452.6 Q2008.17 1452.6 2005.72 1453.37 Q2003.28 1454.13 2000.51 1455.68 L2000.51 1450.96 Q2003.33 1449.82 2005.78 1449.25 Q2008.24 1448.67 2010.28 1448.67 Q2015.65 1448.67 2018.84 1451.35 Q2022.03 1454.04 2022.03 1458.53 Q2022.03 1460.66 2021.22 1462.58 Q2020.44 1464.48 2018.33 1467.07 Q2017.75 1467.74 2014.65 1470.96 Q2011.55 1474.15 2005.9 1479.92 Z\" fill=\"#000000\" fill-rule=\"evenodd\" fill-opacity=\"1\" /><path clip-path=\"url(#clip420)\" d=\"M 0 0 M2032.84 1479.92 L2040.48 1479.92 L2040.48 1453.55 L2032.17 1455.22 L2032.17 1450.96 L2040.44 1449.29 L2045.11 1449.29 L2045.11 1479.92 L2052.75 1479.92 L2052.75 1483.85 L2032.84 1483.85 L2032.84 1479.92 Z\" fill=\"#000000\" fill-rule=\"evenodd\" fill-opacity=\"1\" /><path clip-path=\"url(#clip420)\" d=\"M 0 0 M2062.68 1477.97 L2067.57 1477.97 L2067.57 1483.85 L2062.68 1483.85 L2062.68 1477.97 M2062.68 1459.34 L2067.57 1459.34 L2067.57 1465.22 L2062.68 1465.22 L2062.68 1459.34 Z\" fill=\"#000000\" fill-rule=\"evenodd\" fill-opacity=\"1\" /><path clip-path=\"url(#clip420)\" d=\"M 0 0 M2088.17 1452.37 Q2084.56 1452.37 2082.73 1455.94 Q2080.92 1459.48 2080.92 1466.61 Q2080.92 1473.71 2082.73 1477.28 Q2084.56 1480.82 2088.17 1480.82 Q2091.8 1480.82 2093.61 1477.28 Q2095.44 1473.71 2095.44 1466.61 Q2095.44 1459.48 2093.61 1455.94 Q2091.8 1452.37 2088.17 1452.37 M2088.17 1448.67 Q2093.98 1448.67 2097.03 1453.27 Q2100.11 1457.86 2100.11 1466.61 Q2100.11 1475.33 2097.03 1479.94 Q2093.98 1484.52 2088.17 1484.52 Q2082.36 1484.52 2079.28 1479.94 Q2076.22 1475.33 2076.22 1466.61 Q2076.22 1457.86 2079.28 1453.27 Q2082.36 1448.67 2088.17 1448.67 Z\" fill=\"#000000\" fill-rule=\"evenodd\" fill-opacity=\"1\" /><path clip-path=\"url(#clip420)\" d=\"M 0 0 M2118.33 1452.37 Q2114.72 1452.37 2112.89 1455.94 Q2111.08 1459.48 2111.08 1466.61 Q2111.08 1473.71 2112.89 1477.28 Q2114.72 1480.82 2118.33 1480.82 Q2121.96 1480.82 2123.77 1477.28 Q2125.6 1473.71 2125.6 1466.61 Q2125.6 1459.48 2123.77 1455.94 Q2121.96 1452.37 2118.33 1452.37 M2118.33 1448.67 Q2124.14 1448.67 2127.2 1453.27 Q2130.27 1457.86 2130.27 1466.61 Q2130.27 1475.33 2127.2 1479.94 Q2124.14 1484.52 2118.33 1484.52 Q2112.52 1484.52 2109.44 1479.94 Q2106.39 1475.33 2106.39 1466.61 Q2106.39 1457.86 2109.44 1453.27 Q2112.52 1448.67 2118.33 1448.67 Z\" fill=\"#000000\" fill-rule=\"evenodd\" fill-opacity=\"1\" /><path clip-path=\"url(#clip420)\" d=\"M 0 0 M1246.81 1522.27 L1246.81 1532.4 L1258.88 1532.4 L1258.88 1536.95 L1246.81 1536.95 L1246.81 1556.3 Q1246.81 1560.66 1247.99 1561.9 Q1249.2 1563.14 1252.86 1563.14 L1258.88 1563.14 L1258.88 1568.04 L1252.86 1568.04 Q1246.08 1568.04 1243.5 1565.53 Q1240.93 1562.98 1240.93 1556.3 L1240.93 1536.95 L1236.63 1536.95 L1236.63 1532.4 L1240.93 1532.4 L1240.93 1522.27 L1246.81 1522.27 Z\" fill=\"#000000\" fill-rule=\"evenodd\" fill-opacity=\"1\" /><path clip-path=\"url(#clip420)\" d=\"M 0 0 M1266.58 1532.4 L1272.44 1532.4 L1272.44 1568.04 L1266.58 1568.04 L1266.58 1532.4 M1266.58 1518.52 L1272.44 1518.52 L1272.44 1525.93 L1266.58 1525.93 L1266.58 1518.52 Z\" fill=\"#000000\" fill-rule=\"evenodd\" fill-opacity=\"1\" /><path clip-path=\"url(#clip420)\" d=\"M 0 0 M1312.44 1539.24 Q1314.64 1535.29 1317.7 1533.41 Q1320.75 1531.54 1324.89 1531.54 Q1330.46 1531.54 1333.48 1535.45 Q1336.51 1539.33 1336.51 1546.53 L1336.51 1568.04 L1330.62 1568.04 L1330.62 1546.72 Q1330.62 1541.59 1328.8 1539.11 Q1326.99 1536.63 1323.27 1536.63 Q1318.71 1536.63 1316.07 1539.65 Q1313.43 1542.68 1313.43 1547.9 L1313.43 1568.04 L1307.54 1568.04 L1307.54 1546.72 Q1307.54 1541.56 1305.73 1539.11 Q1303.91 1536.63 1300.13 1536.63 Q1295.64 1536.63 1293 1539.68 Q1290.35 1542.71 1290.35 1547.9 L1290.35 1568.04 L1284.47 1568.04 L1284.47 1532.4 L1290.35 1532.4 L1290.35 1537.93 Q1292.36 1534.66 1295.16 1533.1 Q1297.96 1531.54 1301.81 1531.54 Q1305.7 1531.54 1308.4 1533.51 Q1311.14 1535.48 1312.44 1539.24 Z\" fill=\"#000000\" fill-rule=\"evenodd\" fill-opacity=\"1\" /><path clip-path=\"url(#clip420)\" d=\"M 0 0 M1378.68 1548.76 L1378.68 1551.62 L1351.75 1551.62 Q1352.13 1557.67 1355.38 1560.85 Q1358.66 1564 1364.48 1564 Q1367.86 1564 1371.01 1563.17 Q1374.19 1562.35 1377.31 1560.69 L1377.31 1566.23 Q1374.16 1567.57 1370.85 1568.27 Q1367.54 1568.97 1364.13 1568.97 Q1355.6 1568.97 1350.61 1564 Q1345.64 1559.04 1345.64 1550.57 Q1345.64 1541.82 1350.35 1536.69 Q1355.09 1531.54 1363.11 1531.54 Q1370.31 1531.54 1374.48 1536.18 Q1378.68 1540.8 1378.68 1548.76 M1372.82 1547.04 Q1372.76 1542.23 1370.12 1539.37 Q1367.51 1536.5 1363.18 1536.5 Q1358.28 1536.5 1355.32 1539.27 Q1352.39 1542.04 1351.94 1547.07 L1372.82 1547.04 Z\" fill=\"#000000\" fill-rule=\"evenodd\" fill-opacity=\"1\" /><polyline clip-path=\"url(#clip422)\" style=\"stroke:#000000; stroke-width:2; stroke-opacity:0.1; fill:none\" points=\"\n",
       "  262.551,1386.15 2352.76,1386.15 \n",
       "  \"/>\n",
       "<polyline clip-path=\"url(#clip422)\" style=\"stroke:#000000; stroke-width:2; stroke-opacity:0.1; fill:none\" points=\"\n",
       "  262.551,1083.49 2352.76,1083.49 \n",
       "  \"/>\n",
       "<polyline clip-path=\"url(#clip422)\" style=\"stroke:#000000; stroke-width:2; stroke-opacity:0.1; fill:none\" points=\"\n",
       "  262.551,780.832 2352.76,780.832 \n",
       "  \"/>\n",
       "<polyline clip-path=\"url(#clip422)\" style=\"stroke:#000000; stroke-width:2; stroke-opacity:0.1; fill:none\" points=\"\n",
       "  262.551,478.171 2352.76,478.171 \n",
       "  \"/>\n",
       "<polyline clip-path=\"url(#clip422)\" style=\"stroke:#000000; stroke-width:2; stroke-opacity:0.1; fill:none\" points=\"\n",
       "  262.551,175.51 2352.76,175.51 \n",
       "  \"/>\n",
       "<polyline clip-path=\"url(#clip420)\" style=\"stroke:#000000; stroke-width:4; stroke-opacity:1; fill:none\" points=\"\n",
       "  262.551,1423.18 262.551,123.472 \n",
       "  \"/>\n",
       "<polyline clip-path=\"url(#clip420)\" style=\"stroke:#000000; stroke-width:4; stroke-opacity:1; fill:none\" points=\"\n",
       "  262.551,1386.15 287.634,1386.15 \n",
       "  \"/>\n",
       "<polyline clip-path=\"url(#clip420)\" style=\"stroke:#000000; stroke-width:4; stroke-opacity:1; fill:none\" points=\"\n",
       "  262.551,1083.49 287.634,1083.49 \n",
       "  \"/>\n",
       "<polyline clip-path=\"url(#clip420)\" style=\"stroke:#000000; stroke-width:4; stroke-opacity:1; fill:none\" points=\"\n",
       "  262.551,780.832 287.634,780.832 \n",
       "  \"/>\n",
       "<polyline clip-path=\"url(#clip420)\" style=\"stroke:#000000; stroke-width:4; stroke-opacity:1; fill:none\" points=\"\n",
       "  262.551,478.171 287.634,478.171 \n",
       "  \"/>\n",
       "<polyline clip-path=\"url(#clip420)\" style=\"stroke:#000000; stroke-width:4; stroke-opacity:1; fill:none\" points=\"\n",
       "  262.551,175.51 287.634,175.51 \n",
       "  \"/>\n",
       "<path clip-path=\"url(#clip420)\" d=\"M 0 0 M214.607 1371.95 Q210.996 1371.95 209.167 1375.52 Q207.362 1379.06 207.362 1386.19 Q207.362 1393.29 209.167 1396.86 Q210.996 1400.4 214.607 1400.4 Q218.241 1400.4 220.047 1396.86 Q221.875 1393.29 221.875 1386.19 Q221.875 1379.06 220.047 1375.52 Q218.241 1371.95 214.607 1371.95 M214.607 1368.25 Q220.417 1368.25 223.473 1372.85 Q226.551 1377.44 226.551 1386.19 Q226.551 1394.92 223.473 1399.52 Q220.417 1404.1 214.607 1404.1 Q208.797 1404.1 205.718 1399.52 Q202.662 1394.92 202.662 1386.19 Q202.662 1377.44 205.718 1372.85 Q208.797 1368.25 214.607 1368.25 Z\" fill=\"#000000\" fill-rule=\"evenodd\" fill-opacity=\"1\" /><path clip-path=\"url(#clip420)\" d=\"M 0 0 M148.311 1096.84 L164.63 1096.84 L164.63 1100.77 L142.686 1100.77 L142.686 1096.84 Q145.348 1094.08 149.931 1089.45 Q154.538 1084.8 155.718 1083.46 Q157.964 1080.93 158.843 1079.2 Q159.746 1077.44 159.746 1075.75 Q159.746 1073 157.802 1071.26 Q155.88 1069.52 152.778 1069.52 Q150.579 1069.52 148.126 1070.29 Q145.695 1071.05 142.917 1072.6 L142.917 1067.88 Q145.741 1066.75 148.195 1066.17 Q150.649 1065.59 152.686 1065.59 Q158.056 1065.59 161.251 1068.27 Q164.445 1070.96 164.445 1075.45 Q164.445 1077.58 163.635 1079.5 Q162.848 1081.4 160.741 1083.99 Q160.163 1084.66 157.061 1087.88 Q153.959 1091.07 148.311 1096.84 Z\" fill=\"#000000\" fill-rule=\"evenodd\" fill-opacity=\"1\" /><path clip-path=\"url(#clip420)\" d=\"M 0 0 M174.491 1066.21 L192.848 1066.21 L192.848 1070.15 L178.774 1070.15 L178.774 1078.62 Q179.792 1078.27 180.811 1078.11 Q181.829 1077.93 182.848 1077.93 Q188.635 1077.93 192.014 1081.1 Q195.394 1084.27 195.394 1089.68 Q195.394 1095.26 191.922 1098.37 Q188.45 1101.44 182.13 1101.44 Q179.954 1101.44 177.686 1101.07 Q175.44 1100.7 173.033 1099.96 L173.033 1095.26 Q175.116 1096.4 177.339 1096.95 Q179.561 1097.51 182.038 1097.51 Q186.042 1097.51 188.38 1095.4 Q190.718 1093.3 190.718 1089.68 Q190.718 1086.07 188.38 1083.97 Q186.042 1081.86 182.038 1081.86 Q180.163 1081.86 178.288 1082.28 Q176.436 1082.69 174.491 1083.57 L174.491 1066.21 Z\" fill=\"#000000\" fill-rule=\"evenodd\" fill-opacity=\"1\" /><path clip-path=\"url(#clip420)\" d=\"M 0 0 M214.607 1069.29 Q210.996 1069.29 209.167 1072.86 Q207.362 1076.4 207.362 1083.53 Q207.362 1090.63 209.167 1094.2 Q210.996 1097.74 214.607 1097.74 Q218.241 1097.74 220.047 1094.2 Q221.875 1090.63 221.875 1083.53 Q221.875 1076.4 220.047 1072.86 Q218.241 1069.29 214.607 1069.29 M214.607 1065.59 Q220.417 1065.59 223.473 1070.19 Q226.551 1074.78 226.551 1083.53 Q226.551 1092.25 223.473 1096.86 Q220.417 1101.44 214.607 1101.44 Q208.797 1101.44 205.718 1096.86 Q202.662 1092.25 202.662 1083.53 Q202.662 1074.78 205.718 1070.19 Q208.797 1065.59 214.607 1065.59 Z\" fill=\"#000000\" fill-rule=\"evenodd\" fill-opacity=\"1\" /><path clip-path=\"url(#clip420)\" d=\"M 0 0 M144.329 763.552 L162.686 763.552 L162.686 767.487 L148.612 767.487 L148.612 775.959 Q149.63 775.612 150.649 775.45 Q151.667 775.265 152.686 775.265 Q158.473 775.265 161.852 778.436 Q165.232 781.607 165.232 787.024 Q165.232 792.603 161.76 795.705 Q158.288 798.783 151.968 798.783 Q149.792 798.783 147.524 798.413 Q145.279 798.043 142.871 797.302 L142.871 792.603 Q144.954 793.737 147.177 794.293 Q149.399 794.848 151.876 794.848 Q155.88 794.848 158.218 792.742 Q160.556 790.635 160.556 787.024 Q160.556 783.413 158.218 781.307 Q155.88 779.2 151.876 779.2 Q150.001 779.2 148.126 779.617 Q146.274 780.033 144.329 780.913 L144.329 763.552 Z\" fill=\"#000000\" fill-rule=\"evenodd\" fill-opacity=\"1\" /><path clip-path=\"url(#clip420)\" d=\"M 0 0 M184.445 766.631 Q180.834 766.631 179.005 770.195 Q177.2 773.737 177.2 780.867 Q177.2 787.973 179.005 791.538 Q180.834 795.08 184.445 795.08 Q188.079 795.08 189.885 791.538 Q191.713 787.973 191.713 780.867 Q191.713 773.737 189.885 770.195 Q188.079 766.631 184.445 766.631 M184.445 762.927 Q190.255 762.927 193.311 767.533 Q196.389 772.117 196.389 780.867 Q196.389 789.593 193.311 794.2 Q190.255 798.783 184.445 798.783 Q178.635 798.783 175.556 794.2 Q172.501 789.593 172.501 780.867 Q172.501 772.117 175.556 767.533 Q178.635 762.927 184.445 762.927 Z\" fill=\"#000000\" fill-rule=\"evenodd\" fill-opacity=\"1\" /><path clip-path=\"url(#clip420)\" d=\"M 0 0 M214.607 766.631 Q210.996 766.631 209.167 770.195 Q207.362 773.737 207.362 780.867 Q207.362 787.973 209.167 791.538 Q210.996 795.08 214.607 795.08 Q218.241 795.08 220.047 791.538 Q221.875 787.973 221.875 780.867 Q221.875 773.737 220.047 770.195 Q218.241 766.631 214.607 766.631 M214.607 762.927 Q220.417 762.927 223.473 767.533 Q226.551 772.117 226.551 780.867 Q226.551 789.593 223.473 794.2 Q220.417 798.783 214.607 798.783 Q208.797 798.783 205.718 794.2 Q202.662 789.593 202.662 780.867 Q202.662 772.117 205.718 767.533 Q208.797 762.927 214.607 762.927 Z\" fill=\"#000000\" fill-rule=\"evenodd\" fill-opacity=\"1\" /><path clip-path=\"url(#clip420)\" d=\"M 0 0 M143.103 460.891 L165.325 460.891 L165.325 462.882 L152.778 495.451 L147.894 495.451 L159.7 464.826 L143.103 464.826 L143.103 460.891 Z\" fill=\"#000000\" fill-rule=\"evenodd\" fill-opacity=\"1\" /><path clip-path=\"url(#clip420)\" d=\"M 0 0 M174.491 460.891 L192.848 460.891 L192.848 464.826 L178.774 464.826 L178.774 473.299 Q179.792 472.951 180.811 472.789 Q181.829 472.604 182.848 472.604 Q188.635 472.604 192.014 475.775 Q195.394 478.947 195.394 484.363 Q195.394 489.942 191.922 493.044 Q188.45 496.122 182.13 496.122 Q179.954 496.122 177.686 495.752 Q175.44 495.382 173.033 494.641 L173.033 489.942 Q175.116 491.076 177.339 491.632 Q179.561 492.187 182.038 492.187 Q186.042 492.187 188.38 490.081 Q190.718 487.974 190.718 484.363 Q190.718 480.752 188.38 478.646 Q186.042 476.539 182.038 476.539 Q180.163 476.539 178.288 476.956 Q176.436 477.373 174.491 478.252 L174.491 460.891 Z\" fill=\"#000000\" fill-rule=\"evenodd\" fill-opacity=\"1\" /><path clip-path=\"url(#clip420)\" d=\"M 0 0 M214.607 463.97 Q210.996 463.97 209.167 467.535 Q207.362 471.076 207.362 478.206 Q207.362 485.312 209.167 488.877 Q210.996 492.419 214.607 492.419 Q218.241 492.419 220.047 488.877 Q221.875 485.312 221.875 478.206 Q221.875 471.076 220.047 467.535 Q218.241 463.97 214.607 463.97 M214.607 460.266 Q220.417 460.266 223.473 464.873 Q226.551 469.456 226.551 478.206 Q226.551 486.933 223.473 491.539 Q220.417 496.122 214.607 496.122 Q208.797 496.122 205.718 491.539 Q202.662 486.933 202.662 478.206 Q202.662 469.456 205.718 464.873 Q208.797 460.266 214.607 460.266 Z\" fill=\"#000000\" fill-rule=\"evenodd\" fill-opacity=\"1\" /><path clip-path=\"url(#clip420)\" d=\"M 0 0 M114.931 188.855 L122.57 188.855 L122.57 162.49 L114.26 164.156 L114.26 159.897 L122.524 158.23 L127.2 158.23 L127.2 188.855 L134.839 188.855 L134.839 192.79 L114.931 192.79 L114.931 188.855 Z\" fill=\"#000000\" fill-rule=\"evenodd\" fill-opacity=\"1\" /><path clip-path=\"url(#clip420)\" d=\"M 0 0 M154.283 161.309 Q150.672 161.309 148.843 164.874 Q147.038 168.416 147.038 175.545 Q147.038 182.652 148.843 186.216 Q150.672 189.758 154.283 189.758 Q157.917 189.758 159.723 186.216 Q161.552 182.652 161.552 175.545 Q161.552 168.416 159.723 164.874 Q157.917 161.309 154.283 161.309 M154.283 157.605 Q160.093 157.605 163.149 162.212 Q166.227 166.795 166.227 175.545 Q166.227 184.272 163.149 188.878 Q160.093 193.462 154.283 193.462 Q148.473 193.462 145.394 188.878 Q142.339 184.272 142.339 175.545 Q142.339 166.795 145.394 162.212 Q148.473 157.605 154.283 157.605 Z\" fill=\"#000000\" fill-rule=\"evenodd\" fill-opacity=\"1\" /><path clip-path=\"url(#clip420)\" d=\"M 0 0 M184.445 161.309 Q180.834 161.309 179.005 164.874 Q177.2 168.416 177.2 175.545 Q177.2 182.652 179.005 186.216 Q180.834 189.758 184.445 189.758 Q188.079 189.758 189.885 186.216 Q191.713 182.652 191.713 175.545 Q191.713 168.416 189.885 164.874 Q188.079 161.309 184.445 161.309 M184.445 157.605 Q190.255 157.605 193.311 162.212 Q196.389 166.795 196.389 175.545 Q196.389 184.272 193.311 188.878 Q190.255 193.462 184.445 193.462 Q178.635 193.462 175.556 188.878 Q172.501 184.272 172.501 175.545 Q172.501 166.795 175.556 162.212 Q178.635 157.605 184.445 157.605 Z\" fill=\"#000000\" fill-rule=\"evenodd\" fill-opacity=\"1\" /><path clip-path=\"url(#clip420)\" d=\"M 0 0 M214.607 161.309 Q210.996 161.309 209.167 164.874 Q207.362 168.416 207.362 175.545 Q207.362 182.652 209.167 186.216 Q210.996 189.758 214.607 189.758 Q218.241 189.758 220.047 186.216 Q221.875 182.652 221.875 175.545 Q221.875 168.416 220.047 164.874 Q218.241 161.309 214.607 161.309 M214.607 157.605 Q220.417 157.605 223.473 162.212 Q226.551 166.795 226.551 175.545 Q226.551 184.272 223.473 188.878 Q220.417 193.462 214.607 193.462 Q208.797 193.462 205.718 188.878 Q202.662 184.272 202.662 175.545 Q202.662 166.795 205.718 162.212 Q208.797 157.605 214.607 157.605 Z\" fill=\"#000000\" fill-rule=\"evenodd\" fill-opacity=\"1\" /><path clip-path=\"url(#clip420)\" d=\"M 0 0 M18.0438 956.197 L24.314 956.197 Q22.5634 959.857 21.704 963.104 Q20.8447 966.35 20.8447 969.374 Q20.8447 974.626 22.8817 977.49 Q24.9187 980.323 28.6745 980.323 Q31.8255 980.323 33.4488 978.445 Q35.0402 976.535 36.0269 971.252 L36.8226 967.369 Q38.1912 960.175 41.6605 956.77 Q45.098 953.332 50.8908 953.332 Q57.7976 953.332 61.3624 957.979 Q64.9272 962.594 64.9272 971.538 Q64.9272 974.912 64.1633 978.731 Q63.3994 982.519 61.9035 986.593 L55.2831 986.593 Q57.4793 982.678 58.5933 978.922 Q59.7073 975.167 59.7073 971.538 Q59.7073 966.032 57.543 963.04 Q55.3786 960.048 51.3682 960.048 Q47.8671 960.048 45.8937 962.212 Q43.9204 964.345 42.9337 969.247 L42.1698 973.161 Q40.7375 980.355 37.682 983.569 Q34.6264 986.784 29.1837 986.784 Q22.8817 986.784 19.2532 982.36 Q15.6248 977.904 15.6248 970.106 Q15.6248 966.764 16.2295 963.295 Q16.8343 959.825 18.0438 956.197 Z\" fill=\"#000000\" fill-rule=\"evenodd\" fill-opacity=\"1\" /><path clip-path=\"url(#clip420)\" d=\"M 0 0 M16.4842 947.539 L16.4842 941.046 L56.6518 931.052 L16.4842 921.09 L16.4842 913.865 L56.6518 903.871 L16.4842 893.908 L16.4842 887.384 L64.0042 899.319 L64.0042 907.404 L22.7544 917.43 L64.0042 927.551 L64.0042 935.636 L16.4842 947.539 Z\" fill=\"#000000\" fill-rule=\"evenodd\" fill-opacity=\"1\" /><path clip-path=\"url(#clip420)\" d=\"M 0 0 M21.7677 872.424 L58.7206 872.424 L58.7206 864.658 Q58.7206 854.823 54.2646 850.271 Q49.8086 845.688 40.1964 845.688 Q30.6479 845.688 26.2237 850.271 Q21.7677 854.823 21.7677 864.658 L21.7677 872.424 M16.4842 878.853 L16.4842 865.645 Q16.4842 851.831 22.2451 845.37 Q27.9743 838.909 40.1964 838.909 Q52.4822 838.909 58.2432 845.402 Q64.0042 851.895 64.0042 865.645 L64.0042 878.853 L16.4842 878.853 Z\" fill=\"#000000\" fill-rule=\"evenodd\" fill-opacity=\"1\" /><path clip-path=\"url(#clip420)\" d=\"M 0 0 M14.479 808.735 L14.479 795.24 L19.0304 795.24 L19.0304 802.879 L68.0464 802.879 L68.0464 795.24 L72.5979 795.24 L72.5979 808.735 L14.479 808.735 Z\" fill=\"#000000\" fill-rule=\"evenodd\" fill-opacity=\"1\" /><path clip-path=\"url(#clip420)\" d=\"M 0 0 M16.4842 786.742 L16.4842 780.249 L56.6518 770.255 L16.4842 760.292 L16.4842 753.067 L56.6518 743.073 L16.4842 733.111 L16.4842 726.586 L64.0042 738.521 L64.0042 746.606 L22.7544 756.632 L64.0042 766.753 L64.0042 774.838 L16.4842 786.742 Z\" fill=\"#000000\" fill-rule=\"evenodd\" fill-opacity=\"1\" /><path clip-path=\"url(#clip420)\" d=\"M 0 0 M35.1993 669.836 Q31.2526 667.639 29.3747 664.584 Q27.4968 661.528 27.4968 657.391 Q27.4968 651.821 31.4117 648.797 Q35.2948 645.773 42.4881 645.773 L64.0042 645.773 L64.0042 651.661 L42.679 651.661 Q37.5546 651.661 35.072 653.476 Q32.5894 655.29 32.5894 659.014 Q32.5894 663.565 35.6131 666.207 Q38.6368 668.849 43.8567 668.849 L64.0042 668.849 L64.0042 674.737 L42.679 674.737 Q37.5228 674.737 35.072 676.551 Q32.5894 678.366 32.5894 682.153 Q32.5894 686.641 35.6449 689.283 Q38.6686 691.925 43.8567 691.925 L64.0042 691.925 L64.0042 697.813 L28.3562 697.813 L28.3562 691.925 L33.8944 691.925 Q30.616 689.919 29.0564 687.118 Q27.4968 684.317 27.4968 680.466 Q27.4968 676.583 29.4702 673.878 Q31.4436 671.14 35.1993 669.836 Z\" fill=\"#000000\" fill-rule=\"evenodd\" fill-opacity=\"1\" /><path clip-path=\"url(#clip420)\" d=\"M 0 0 M29.7885 635.874 L29.7885 610.189 L32.8122 610.189 L32.8122 635.874 L29.7885 635.874 Z\" fill=\"#000000\" fill-rule=\"evenodd\" fill-opacity=\"1\" /><path clip-path=\"url(#clip420)\" d=\"M 0 0 M39.1142 597.298 L39.1142 583.803 L42.7427 583.803 L42.7427 602.836 L39.2416 602.836 Q38.2549 601.754 36.4725 599.749 Q26.7648 588.8 23.7729 588.8 Q21.6722 588.8 20.3991 590.455 Q19.0941 592.11 19.0941 594.816 Q19.0941 596.471 19.667 598.412 Q20.2081 600.354 21.3221 602.645 L17.4072 602.645 Q16.516 600.195 16.0704 598.094 Q15.6248 595.961 15.6248 594.147 Q15.6248 589.532 17.7255 586.763 Q19.8262 583.994 23.2636 583.994 Q27.6878 583.994 36.7271 594.529 Q38.2549 596.312 39.1142 597.298 Z\" fill=\"#000000\" fill-rule=\"evenodd\" fill-opacity=\"1\" /><path clip-path=\"url(#clip420)\" d=\"M 0 0 M14.479 559.868 L72.5979 559.868 L72.5979 573.363 L68.0464 573.363 L68.0464 565.756 L19.0304 565.756 L19.0304 573.363 L14.479 573.363 L14.479 559.868 Z\" fill=\"#000000\" fill-rule=\"evenodd\" fill-opacity=\"1\" /><path clip-path=\"url(#clip420)\" d=\"M 0 0 M902.705 18.8205 L902.705 41.5461 L912.994 41.5461 Q918.706 41.5461 921.825 38.5889 Q924.944 35.6318 924.944 30.163 Q924.944 24.7348 921.825 21.7777 Q918.706 18.8205 912.994 18.8205 L902.705 18.8205 M894.522 12.096 L912.994 12.096 Q923.162 12.096 928.347 16.714 Q933.573 21.2916 933.573 30.163 Q933.573 39.1155 928.347 43.6931 Q923.162 48.2706 912.994 48.2706 L902.705 48.2706 L902.705 72.576 L894.522 72.576 L894.522 12.096 Z\" fill=\"#000000\" fill-rule=\"evenodd\" fill-opacity=\"1\" /><path clip-path=\"url(#clip420)\" d=\"M 0 0 M961.119 49.7694 Q952.085 49.7694 948.602 51.8354 Q945.118 53.9013 945.118 58.8839 Q945.118 62.8538 947.71 65.2034 Q950.344 67.5124 954.84 67.5124 Q961.038 67.5124 964.765 63.1374 Q968.532 58.7219 968.532 51.4303 L968.532 49.7694 L961.119 49.7694 M975.986 46.6907 L975.986 72.576 L968.532 72.576 L968.532 65.6895 Q965.98 69.8214 962.172 71.8063 Q958.364 73.7508 952.855 73.7508 Q945.888 73.7508 941.756 69.8619 Q937.664 65.9325 937.664 59.3701 Q937.664 51.7138 942.768 47.825 Q947.913 43.9361 958.081 43.9361 L968.532 43.9361 L968.532 43.2069 Q968.532 38.0623 965.129 35.2672 Q961.767 32.4315 955.65 32.4315 Q951.761 32.4315 948.075 33.3632 Q944.389 34.295 940.986 36.1584 L940.986 29.2718 Q945.077 27.692 948.926 26.9223 Q952.774 26.1121 956.42 26.1121 Q966.264 26.1121 971.125 31.2163 Q975.986 36.3204 975.986 46.6907 Z\" fill=\"#000000\" fill-rule=\"evenodd\" fill-opacity=\"1\" /><path clip-path=\"url(#clip420)\" d=\"M 0 0 M1010.22 76.7889 Q1007.06 84.8907 1004.06 87.3618 Q1001.06 89.8329 996.038 89.8329 L990.083 89.8329 L990.083 83.5945 L994.458 83.5945 Q997.537 83.5945 999.238 82.1361 Q1000.94 80.6778 1003.01 75.2496 L1004.34 71.8468 L985.992 27.2059 L993.891 27.2059 L1008.07 62.6918 L1022.25 27.2059 L1030.15 27.2059 L1010.22 76.7889 Z\" fill=\"#000000\" fill-rule=\"evenodd\" fill-opacity=\"1\" /><path clip-path=\"url(#clip420)\" d=\"M 0 0 M1079.24 48.0275 L1079.24 51.6733 L1044.97 51.6733 Q1045.46 59.3701 1049.59 63.421 Q1053.76 67.4314 1061.18 67.4314 Q1065.47 67.4314 1069.48 66.3781 Q1073.53 65.3249 1077.5 63.2184 L1077.5 70.267 Q1073.49 71.9684 1069.28 72.8596 Q1065.07 73.7508 1060.73 73.7508 Q1049.87 73.7508 1043.51 67.4314 Q1037.19 61.1119 1037.19 50.3365 Q1037.19 39.1965 1043.19 32.6746 Q1049.23 26.1121 1059.43 26.1121 Q1068.59 26.1121 1073.9 32.0264 Q1079.24 37.9003 1079.24 48.0275 M1071.79 45.84 Q1071.71 39.7232 1068.35 36.0774 Q1065.02 32.4315 1059.52 32.4315 Q1053.28 32.4315 1049.51 35.9558 Q1045.78 39.4801 1045.22 45.8805 L1071.79 45.84 Z\" fill=\"#000000\" fill-rule=\"evenodd\" fill-opacity=\"1\" /><path clip-path=\"url(#clip420)\" d=\"M 0 0 M1117.77 34.1734 Q1116.51 33.4443 1115.01 33.1202 Q1113.55 32.7556 1111.77 32.7556 Q1105.45 32.7556 1102.05 36.8875 Q1098.69 40.9789 1098.69 48.6757 L1098.69 72.576 L1091.19 72.576 L1091.19 27.2059 L1098.69 27.2059 L1098.69 34.2544 Q1101.04 30.1225 1104.8 28.1376 Q1108.57 26.1121 1113.96 26.1121 Q1114.73 26.1121 1115.66 26.2337 Q1116.59 26.3147 1117.73 26.5172 L1117.77 34.1734 Z\" fill=\"#000000\" fill-rule=\"evenodd\" fill-opacity=\"1\" /><path clip-path=\"url(#clip420)\" d=\"M 0 0 M1161.84 45.1919 L1161.84 72.576 L1154.39 72.576 L1154.39 45.4349 Q1154.39 38.994 1151.88 35.7938 Q1149.36 32.5936 1144.34 32.5936 Q1138.31 32.5936 1134.82 36.4419 Q1131.34 40.2903 1131.34 46.9338 L1131.34 72.576 L1123.84 72.576 L1123.84 27.2059 L1131.34 27.2059 L1131.34 34.2544 Q1134.01 30.163 1137.62 28.1376 Q1141.26 26.1121 1146 26.1121 Q1153.82 26.1121 1157.83 30.9732 Q1161.84 35.7938 1161.84 45.1919 Z\" fill=\"#000000\" fill-rule=\"evenodd\" fill-opacity=\"1\" /><path clip-path=\"url(#clip420)\" d=\"M 0 0 M1215.52 48.0275 L1215.52 51.6733 L1181.25 51.6733 Q1181.73 59.3701 1185.86 63.421 Q1190.04 67.4314 1197.45 67.4314 Q1201.74 67.4314 1205.75 66.3781 Q1209.8 65.3249 1213.77 63.2184 L1213.77 70.267 Q1209.76 71.9684 1205.55 72.8596 Q1201.34 73.7508 1197 73.7508 Q1186.15 73.7508 1179.79 67.4314 Q1173.47 61.1119 1173.47 50.3365 Q1173.47 39.1965 1179.46 32.6746 Q1185.5 26.1121 1195.71 26.1121 Q1204.86 26.1121 1210.17 32.0264 Q1215.52 37.9003 1215.52 48.0275 M1208.06 45.84 Q1207.98 39.7232 1204.62 36.0774 Q1201.3 32.4315 1195.79 32.4315 Q1189.55 32.4315 1185.78 35.9558 Q1182.06 39.4801 1181.49 45.8805 L1208.06 45.84 Z\" fill=\"#000000\" fill-rule=\"evenodd\" fill-opacity=\"1\" /><path clip-path=\"url(#clip420)\" d=\"M 0 0 M1262.22 65.6895 L1290.78 65.6895 L1290.78 72.576 L1252.38 72.576 L1252.38 65.6895 Q1257.04 60.8689 1265.06 52.7671 Q1273.12 44.6248 1275.19 42.2752 Q1279.11 37.8598 1280.65 34.8216 Q1282.23 31.7429 1282.23 28.7857 Q1282.23 23.9651 1278.83 20.927 Q1275.47 17.8888 1270.04 17.8888 Q1266.19 17.8888 1261.9 19.2256 Q1257.65 20.5624 1252.78 23.2765 L1252.78 15.0127 Q1257.73 13.0277 1262.02 12.015 Q1266.31 11.0023 1269.88 11.0023 Q1279.28 11.0023 1284.87 15.7013 Q1290.46 20.4004 1290.46 28.2591 Q1290.46 31.9859 1289.04 35.3482 Q1287.66 38.6699 1283.98 43.2069 Q1282.96 44.3817 1277.54 50.0125 Q1272.11 55.6027 1262.22 65.6895 Z\" fill=\"#000000\" fill-rule=\"evenodd\" fill-opacity=\"1\" /><path clip-path=\"url(#clip420)\" d=\"M 0 0 M1325.46 17.4837 Q1319.14 17.4837 1315.94 23.7221 Q1312.78 29.92 1312.78 42.3968 Q1312.78 54.833 1315.94 61.0714 Q1319.14 67.2693 1325.46 67.2693 Q1331.82 67.2693 1334.98 61.0714 Q1338.18 54.833 1338.18 42.3968 Q1338.18 29.92 1334.98 23.7221 Q1331.82 17.4837 1325.46 17.4837 M1325.46 11.0023 Q1335.63 11.0023 1340.97 19.0636 Q1346.36 27.0843 1346.36 42.3968 Q1346.36 57.6687 1340.97 65.73 Q1335.63 73.7508 1325.46 73.7508 Q1315.29 73.7508 1309.9 65.73 Q1304.55 57.6687 1304.55 42.3968 Q1304.55 27.0843 1309.9 19.0636 Q1315.29 11.0023 1325.46 11.0023 Z\" fill=\"#000000\" fill-rule=\"evenodd\" fill-opacity=\"1\" /><path clip-path=\"url(#clip420)\" d=\"M 0 0 M1367.79 65.6895 L1396.35 65.6895 L1396.35 72.576 L1357.95 72.576 L1357.95 65.6895 Q1362.6 60.8689 1370.62 52.7671 Q1378.69 44.6248 1380.75 42.2752 Q1384.68 37.8598 1386.22 34.8216 Q1387.8 31.7429 1387.8 28.7857 Q1387.8 23.9651 1384.4 20.927 Q1381.04 17.8888 1375.61 17.8888 Q1371.76 17.8888 1367.47 19.2256 Q1363.21 20.5624 1358.35 23.2765 L1358.35 15.0127 Q1363.29 13.0277 1367.59 12.015 Q1371.88 11.0023 1375.45 11.0023 Q1384.84 11.0023 1390.43 15.7013 Q1396.02 20.4004 1396.02 28.2591 Q1396.02 31.9859 1394.61 35.3482 Q1393.23 38.6699 1389.54 43.2069 Q1388.53 44.3817 1383.1 50.0125 Q1377.67 55.6027 1367.79 65.6895 Z\" fill=\"#000000\" fill-rule=\"evenodd\" fill-opacity=\"1\" /><path clip-path=\"url(#clip420)\" d=\"M 0 0 M1431.02 17.4837 Q1424.7 17.4837 1421.5 23.7221 Q1418.34 29.92 1418.34 42.3968 Q1418.34 54.833 1421.5 61.0714 Q1424.7 67.2693 1431.02 67.2693 Q1437.38 67.2693 1440.54 61.0714 Q1443.74 54.833 1443.74 42.3968 Q1443.74 29.92 1440.54 23.7221 Q1437.38 17.4837 1431.02 17.4837 M1431.02 11.0023 Q1441.19 11.0023 1446.54 19.0636 Q1451.93 27.0843 1451.93 42.3968 Q1451.93 57.6687 1446.54 65.73 Q1441.19 73.7508 1431.02 73.7508 Q1420.86 73.7508 1415.47 65.73 Q1410.12 57.6687 1410.12 42.3968 Q1410.12 27.0843 1415.47 19.0636 Q1420.86 11.0023 1431.02 11.0023 Z\" fill=\"#000000\" fill-rule=\"evenodd\" fill-opacity=\"1\" /><path clip-path=\"url(#clip420)\" d=\"M 0 0 M1461.49 46.5287 L1483.32 46.5287 L1483.32 53.1722 L1461.49 53.1722 L1461.49 46.5287 Z\" fill=\"#000000\" fill-rule=\"evenodd\" fill-opacity=\"1\" /><path clip-path=\"url(#clip420)\" d=\"M 0 0 M1513.74 17.4837 Q1507.42 17.4837 1504.22 23.7221 Q1501.06 29.92 1501.06 42.3968 Q1501.06 54.833 1504.22 61.0714 Q1507.42 67.2693 1513.74 67.2693 Q1520.1 67.2693 1523.26 61.0714 Q1526.46 54.833 1526.46 42.3968 Q1526.46 29.92 1523.26 23.7221 Q1520.1 17.4837 1513.74 17.4837 M1513.74 11.0023 Q1523.91 11.0023 1529.26 19.0636 Q1534.65 27.0843 1534.65 42.3968 Q1534.65 57.6687 1529.26 65.73 Q1523.91 73.7508 1513.74 73.7508 Q1503.58 73.7508 1498.19 65.73 Q1492.84 57.6687 1492.84 42.3968 Q1492.84 27.0843 1498.19 19.0636 Q1503.58 11.0023 1513.74 11.0023 Z\" fill=\"#000000\" fill-rule=\"evenodd\" fill-opacity=\"1\" /><path clip-path=\"url(#clip420)\" d=\"M 0 0 M1546.96 12.096 L1585.85 12.096 L1585.85 15.5798 L1563.89 72.576 L1555.35 72.576 L1576.01 18.9825 L1546.96 18.9825 L1546.96 12.096 Z\" fill=\"#000000\" fill-rule=\"evenodd\" fill-opacity=\"1\" /><path clip-path=\"url(#clip420)\" d=\"M 0 0 M1596.99 46.5287 L1618.82 46.5287 L1618.82 53.1722 L1596.99 53.1722 L1596.99 46.5287 Z\" fill=\"#000000\" fill-rule=\"evenodd\" fill-opacity=\"1\" /><path clip-path=\"url(#clip420)\" d=\"M 0 0 M1649.25 17.4837 Q1642.93 17.4837 1639.73 23.7221 Q1636.57 29.92 1636.57 42.3968 Q1636.57 54.833 1639.73 61.0714 Q1642.93 67.2693 1649.25 67.2693 Q1655.61 67.2693 1658.77 61.0714 Q1661.97 54.833 1661.97 42.3968 Q1661.97 29.92 1658.77 23.7221 Q1655.61 17.4837 1649.25 17.4837 M1649.25 11.0023 Q1659.41 11.0023 1664.76 19.0636 Q1670.15 27.0843 1670.15 42.3968 Q1670.15 57.6687 1664.76 65.73 Q1659.41 73.7508 1649.25 73.7508 Q1639.08 73.7508 1633.69 65.73 Q1628.34 57.6687 1628.34 42.3968 Q1628.34 27.0843 1633.69 19.0636 Q1639.08 11.0023 1649.25 11.0023 Z\" fill=\"#000000\" fill-rule=\"evenodd\" fill-opacity=\"1\" /><path clip-path=\"url(#clip420)\" d=\"M 0 0 M1685.95 65.6895 L1699.32 65.6895 L1699.32 19.5497 L1684.77 22.4663 L1684.77 15.0127 L1699.23 12.096 L1707.42 12.096 L1707.42 65.6895 L1720.79 65.6895 L1720.79 72.576 L1685.95 72.576 L1685.95 65.6895 Z\" fill=\"#000000\" fill-rule=\"evenodd\" fill-opacity=\"1\" /><polyline clip-path=\"url(#clip422)\" style=\"stroke:#009af9; stroke-width:4; stroke-opacity:1; fill:none\" points=\"\n",
       "  342.465,1386.15 363.221,1386.15 383.978,1386.15 404.735,1386.15 425.492,1386.15 446.248,1386.15 467.005,1386.15 487.762,1386.15 508.519,1386.15 529.275,1386.15 \n",
       "  550.032,1386.15 570.789,1386.15 591.546,1385.19 612.302,1380.1 633.059,1373.64 653.816,1358.39 674.573,1321.42 695.329,1314.48 716.086,1236.6 736.843,1185.43 \n",
       "  757.6,1131.35 778.356,1129.01 799.113,1038.3 819.87,1093.58 840.627,963.72 861.383,1079.3 882.14,1129.17 902.897,1063.32 923.654,1054.28 944.41,950.806 \n",
       "  965.167,1040.23 985.924,929.499 1006.68,519.172 1027.44,485.516 1048.19,452.344 1068.95,419.657 1089.71,391.489 1110.46,358.318 1131.22,339.835 1151.98,320.949 \n",
       "  1172.73,297.866 1193.49,282.693 1214.25,252.992 1235,275.51 1255.76,237.092 1276.52,340.481 1297.28,160.256 1318.03,611.181 1338.79,1050.24 1359.55,765.336 \n",
       "  1380.3,212.233 1401.06,280.998 1421.82,256.059 1442.57,684.949 1463.33,1066.38 1484.09,837.813 1504.84,672.439 1525.6,964.043 1546.36,608.759 1567.11,594.554 \n",
       "  1587.87,634.667 1608.63,699.557 1629.38,825.464 1650.14,939.83 1670.9,1267.51 1691.65,1133.21 1712.41,907.223 1733.17,954.519 1753.92,1023.53 1774.68,1096.73 \n",
       "  1795.44,1158.07 1816.19,1282.68 1836.95,1318.03 1857.71,1355.32 1878.46,1353.95 1899.22,1373.64 1919.98,1377.76 1940.73,1384.86 1961.49,1385.51 1982.25,1386.4 \n",
       "  2003,1386.23 2023.76,1386.15 2044.52,1386.15 2065.27,1386.15 2086.03,1386.15 2106.79,1386.15 2127.55,1386.15 2148.3,1386.15 2169.06,1386.15 2189.82,1386.15 \n",
       "  2210.57,1386.15 2231.33,1386.15 2252.09,1386.15 2272.84,1386.15 2293.6,1386.15 \n",
       "  \"/>\n",
       "</svg>\n"
      ]
     },
     "execution_count": 95,
     "metadata": {},
     "output_type": "execute_result"
    }
   ],
   "source": [
    "plot(timepoint, day1_nn.swd, leg=:none,\n",
    "    xticks=(timepoint[1:12:96], xtime[1:12:96]),  #[1;12:12:96+11]]),\n",
    "    xlabel=\"time\", ylabel=\"SWD [W m⁻²]\", title=\"Payerne 2020-07-01\")"
   ]
  },
  {
   "cell_type": "code",
   "execution_count": 92,
   "id": "41f78524-9f8d-4a5c-a750-924a503636bc",
   "metadata": {
    "execution": {
     "iopub.execute_input": "2021-07-20T11:34:36.798000+02:00",
     "iopub.status.busy": "2021-07-20T11:34:36.797000+02:00",
     "iopub.status.idle": "2021-07-20T11:34:37.171000+02:00",
     "shell.execute_reply": "2021-07-20T11:34:37.171000+02:00"
    },
    "tags": []
   },
   "outputs": [
    {
     "data": {
      "image/png": "[encoded data removed]"
     },
     "execution_count": 92,
     "metadata": {},
     "output_type": "execute_result"
    }
   ],
   "source": [
    "plot(time, day1.Column3, leg=:none,\n",
    "    xticks=(time[1:180:1440], xtime[1:180:1440]),\n",
    "    xlabel=\"time\", ylabel=\"SWD [W m−2]\", title=\"Payerne 2020-07-01\")"
   ]
  },
  {
   "cell_type": "code",
   "execution_count": 82,
   "id": "9d9377de-1281-4482-8b92-cdf6def96f5b",
   "metadata": {
    "collapsed": true,
    "execution": {
     "iopub.execute_input": "2021-07-20T11:18:23.073000+02:00",
     "iopub.status.busy": "2021-07-20T11:18:23.073000+02:00",
     "iopub.status.idle": "2021-07-20T11:18:23.082000+02:00",
     "shell.execute_reply": "2021-07-20T11:18:23.081000+02:00"
    },
    "jupyter": {
     "outputs_hidden": true
    },
    "tags": []
   },
   "outputs": [
    {
     "data": {
      "text/html": [
       "<table class=\"data-frame\"><thead><tr><th></th><th>Column1</th><th>Column3</th></tr><tr><th></th><th>DateTime</th><th>Int64?</th></tr></thead><tbody><p>11 rows × 2 columns</p><tr><th>1</th><td>2020-07-01T12:00:00</td><td>777</td></tr><tr><th>2</th><td>2020-07-01T12:01:00</td><td>539</td></tr><tr><th>3</th><td>2020-07-01T12:02:00</td><td>582</td></tr><tr><th>4</th><td>2020-07-01T12:03:00</td><td>554</td></tr><tr><th>5</th><td>2020-07-01T12:04:00</td><td>913</td></tr><tr><th>6</th><td>2020-07-01T12:05:00</td><td>1168</td></tr><tr><th>7</th><td>2020-07-01T12:06:00</td><td>764</td></tr><tr><th>8</th><td>2020-07-01T12:07:00</td><td>569</td></tr><tr><th>9</th><td>2020-07-01T12:08:00</td><td>511</td></tr><tr><th>10</th><td>2020-07-01T12:09:00</td><td>460</td></tr><tr><th>11</th><td>2020-07-01T12:10:00</td><td>370</td></tr></tbody></table>"
      ],
      "text/latex": [
       "\\begin{tabular}{r|cc}\n",
       "\t& Column1 & Column3\\\\\n",
       "\t\\hline\n",
       "\t& DateTime & Int64?\\\\\n",
       "\t\\hline\n",
       "\t1 & 2020-07-01T12:00:00 & 777 \\\\\n",
       "\t2 & 2020-07-01T12:01:00 & 539 \\\\\n",
       "\t3 & 2020-07-01T12:02:00 & 582 \\\\\n",
       "\t4 & 2020-07-01T12:03:00 & 554 \\\\\n",
       "\t5 & 2020-07-01T12:04:00 & 913 \\\\\n",
       "\t6 & 2020-07-01T12:05:00 & 1168 \\\\\n",
       "\t7 & 2020-07-01T12:06:00 & 764 \\\\\n",
       "\t8 & 2020-07-01T12:07:00 & 569 \\\\\n",
       "\t9 & 2020-07-01T12:08:00 & 511 \\\\\n",
       "\t10 & 2020-07-01T12:09:00 & 460 \\\\\n",
       "\t11 & 2020-07-01T12:10:00 & 370 \\\\\n",
       "\\end{tabular}\n"
      ],
      "text/plain": [
       "\u001b[1m11×2 DataFrame\u001b[0m\n",
       "\u001b[1m Row \u001b[0m│\u001b[1m Column1             \u001b[0m\u001b[1m Column3 \u001b[0m\n",
       "\u001b[1m     \u001b[0m│\u001b[90m DateTime            \u001b[0m\u001b[90m Int64?  \u001b[0m\n",
       "─────┼──────────────────────────────\n",
       "   1 │ 2020-07-01T12:00:00      777\n",
       "   2 │ 2020-07-01T12:01:00      539\n",
       "   3 │ 2020-07-01T12:02:00      582\n",
       "   4 │ 2020-07-01T12:03:00      554\n",
       "   5 │ 2020-07-01T12:04:00      913\n",
       "   6 │ 2020-07-01T12:05:00     1168\n",
       "   7 │ 2020-07-01T12:06:00      764\n",
       "   8 │ 2020-07-01T12:07:00      569\n",
       "   9 │ 2020-07-01T12:08:00      511\n",
       "  10 │ 2020-07-01T12:09:00      460\n",
       "  11 │ 2020-07-01T12:10:00      370"
      ]
     },
     "execution_count": 82,
     "metadata": {},
     "output_type": "execute_result"
    }
   ],
   "source": [
    "te = day1[721:720+11,:]"
   ]
  },
  {
   "cell_type": "code",
   "execution_count": 93,
   "id": "7bac8f3f-04a4-46e7-95ab-f9208d76c1be",
   "metadata": {
    "execution": {
     "iopub.execute_input": "2021-07-20T11:35:03.971000+02:00",
     "iopub.status.busy": "2021-07-20T11:35:03.970000+02:00",
     "iopub.status.idle": "2021-07-20T11:35:04.560000+02:00",
     "shell.execute_reply": "2021-07-20T11:35:04.559000+02:00"
    },
    "scrolled": true,
    "tags": []
   },
   "outputs": [
    {
     "data": {
      "image/png": "[encoded data removed]"
     },
     "execution_count": 93,
     "metadata": {},
     "output_type": "execute_result"
    }
   ],
   "source": [
    "scatter(te.Column1, te.Column3, leg=false,\n",
    "    xticks=(te.Column1, xtime[721:720+11]),\n",
    "    xlabel=\"time\", ylabel=\"SWD [W m−2]\")"
   ]
  },
  {
   "cell_type": "markdown",
   "id": "e2aeb506-8132-475a-8292-ce181ccda438",
   "metadata": {},
   "source": [
    "### Whole month"
   ]
  },
  {
   "cell_type": "code",
   "execution_count": 100,
   "id": "5fdd05fd-7f8e-4531-9c2f-2e06be0a1607",
   "metadata": {
    "collapsed": true,
    "execution": {
     "iopub.execute_input": "2021-07-26T16:52:16.746000+02:00",
     "iopub.status.busy": "2021-07-26T16:52:16.746000+02:00",
     "iopub.status.idle": "2021-07-26T16:52:16.771000+02:00",
     "shell.execute_reply": "2021-07-26T16:52:16.771000+02:00"
    },
    "jupyter": {
     "outputs_hidden": true
    },
    "scrolled": true,
    "tags": []
   },
   "outputs": [
    {
     "data": {
      "text/html": [
       "<table class=\"data-frame\"><thead><tr><th></th><th>time</th><th>swd</th></tr><tr><th></th><th>DateTime</th><th>Int64?</th></tr></thead><tbody><p>44,640 rows × 2 columns</p><tr><th>1</th><td>2020-07-01T00:00:00</td><td><em>missing</em></td></tr><tr><th>2</th><td>2020-07-01T00:01:00</td><td>0</td></tr><tr><th>3</th><td>2020-07-01T00:02:00</td><td>0</td></tr><tr><th>4</th><td>2020-07-01T00:03:00</td><td>0</td></tr><tr><th>5</th><td>2020-07-01T00:04:00</td><td>0</td></tr><tr><th>6</th><td>2020-07-01T00:05:00</td><td>0</td></tr><tr><th>7</th><td>2020-07-01T00:06:00</td><td>0</td></tr><tr><th>8</th><td>2020-07-01T00:07:00</td><td>0</td></tr><tr><th>9</th><td>2020-07-01T00:08:00</td><td>0</td></tr><tr><th>10</th><td>2020-07-01T00:09:00</td><td>0</td></tr><tr><th>11</th><td>2020-07-01T00:10:00</td><td>0</td></tr><tr><th>12</th><td>2020-07-01T00:11:00</td><td>0</td></tr><tr><th>13</th><td>2020-07-01T00:12:00</td><td>0</td></tr><tr><th>14</th><td>2020-07-01T00:13:00</td><td>0</td></tr><tr><th>15</th><td>2020-07-01T00:14:00</td><td>0</td></tr><tr><th>16</th><td>2020-07-01T00:15:00</td><td>0</td></tr><tr><th>17</th><td>2020-07-01T00:16:00</td><td>0</td></tr><tr><th>18</th><td>2020-07-01T00:17:00</td><td>0</td></tr><tr><th>19</th><td>2020-07-01T00:18:00</td><td>0</td></tr><tr><th>20</th><td>2020-07-01T00:19:00</td><td>0</td></tr><tr><th>21</th><td>2020-07-01T00:20:00</td><td>0</td></tr><tr><th>22</th><td>2020-07-01T00:21:00</td><td>0</td></tr><tr><th>23</th><td>2020-07-01T00:22:00</td><td>0</td></tr><tr><th>24</th><td>2020-07-01T00:23:00</td><td>0</td></tr><tr><th>25</th><td>2020-07-01T00:24:00</td><td>0</td></tr><tr><th>26</th><td>2020-07-01T00:25:00</td><td>0</td></tr><tr><th>27</th><td>2020-07-01T00:26:00</td><td>0</td></tr><tr><th>28</th><td>2020-07-01T00:27:00</td><td>0</td></tr><tr><th>29</th><td>2020-07-01T00:28:00</td><td>0</td></tr><tr><th>30</th><td>2020-07-01T00:29:00</td><td>0</td></tr><tr><th>&vellip;</th><td>&vellip;</td><td>&vellip;</td></tr></tbody></table>"
      ],
      "text/latex": [
       "\\begin{tabular}{r|cc}\n",
       "\t& time & swd\\\\\n",
       "\t\\hline\n",
       "\t& DateTime & Int64?\\\\\n",
       "\t\\hline\n",
       "\t1 & 2020-07-01T00:00:00 & \\emph{missing} \\\\\n",
       "\t2 & 2020-07-01T00:01:00 & 0 \\\\\n",
       "\t3 & 2020-07-01T00:02:00 & 0 \\\\\n",
       "\t4 & 2020-07-01T00:03:00 & 0 \\\\\n",
       "\t5 & 2020-07-01T00:04:00 & 0 \\\\\n",
       "\t6 & 2020-07-01T00:05:00 & 0 \\\\\n",
       "\t7 & 2020-07-01T00:06:00 & 0 \\\\\n",
       "\t8 & 2020-07-01T00:07:00 & 0 \\\\\n",
       "\t9 & 2020-07-01T00:08:00 & 0 \\\\\n",
       "\t10 & 2020-07-01T00:09:00 & 0 \\\\\n",
       "\t11 & 2020-07-01T00:10:00 & 0 \\\\\n",
       "\t12 & 2020-07-01T00:11:00 & 0 \\\\\n",
       "\t13 & 2020-07-01T00:12:00 & 0 \\\\\n",
       "\t14 & 2020-07-01T00:13:00 & 0 \\\\\n",
       "\t15 & 2020-07-01T00:14:00 & 0 \\\\\n",
       "\t16 & 2020-07-01T00:15:00 & 0 \\\\\n",
       "\t17 & 2020-07-01T00:16:00 & 0 \\\\\n",
       "\t18 & 2020-07-01T00:17:00 & 0 \\\\\n",
       "\t19 & 2020-07-01T00:18:00 & 0 \\\\\n",
       "\t20 & 2020-07-01T00:19:00 & 0 \\\\\n",
       "\t21 & 2020-07-01T00:20:00 & 0 \\\\\n",
       "\t22 & 2020-07-01T00:21:00 & 0 \\\\\n",
       "\t23 & 2020-07-01T00:22:00 & 0 \\\\\n",
       "\t24 & 2020-07-01T00:23:00 & 0 \\\\\n",
       "\t25 & 2020-07-01T00:24:00 & 0 \\\\\n",
       "\t26 & 2020-07-01T00:25:00 & 0 \\\\\n",
       "\t27 & 2020-07-01T00:26:00 & 0 \\\\\n",
       "\t28 & 2020-07-01T00:27:00 & 0 \\\\\n",
       "\t29 & 2020-07-01T00:28:00 & 0 \\\\\n",
       "\t30 & 2020-07-01T00:29:00 & 0 \\\\\n",
       "\t$\\dots$ & $\\dots$ & $\\dots$ \\\\\n",
       "\\end{tabular}\n"
      ],
      "text/plain": [
       "\u001b[1m44640×2 DataFrame\u001b[0m\n",
       "\u001b[1m   Row \u001b[0m│\u001b[1m time                \u001b[0m\u001b[1m swd     \u001b[0m\n",
       "\u001b[1m       \u001b[0m│\u001b[90m DateTime            \u001b[0m\u001b[90m Int64?  \u001b[0m\n",
       "───────┼──────────────────────────────\n",
       "     1 │ 2020-07-01T00:00:00 \u001b[90m missing \u001b[0m\n",
       "     2 │ 2020-07-01T00:01:00        0\n",
       "     3 │ 2020-07-01T00:02:00        0\n",
       "     4 │ 2020-07-01T00:03:00        0\n",
       "     5 │ 2020-07-01T00:04:00        0\n",
       "     6 │ 2020-07-01T00:05:00        0\n",
       "     7 │ 2020-07-01T00:06:00        0\n",
       "     8 │ 2020-07-01T00:07:00        0\n",
       "     9 │ 2020-07-01T00:08:00        0\n",
       "    10 │ 2020-07-01T00:09:00        0\n",
       "    11 │ 2020-07-01T00:10:00        0\n",
       "   ⋮   │          ⋮              ⋮\n",
       " 44631 │ 2020-07-31T23:50:00        0\n",
       " 44632 │ 2020-07-31T23:51:00        0\n",
       " 44633 │ 2020-07-31T23:52:00        0\n",
       " 44634 │ 2020-07-31T23:53:00        0\n",
       " 44635 │ 2020-07-31T23:54:00        0\n",
       " 44636 │ 2020-07-31T23:55:00        0\n",
       " 44637 │ 2020-07-31T23:56:00        0\n",
       " 44638 │ 2020-07-31T23:57:00        0\n",
       " 44639 │ 2020-07-31T23:58:00        0\n",
       " 44640 │ 2020-07-31T23:59:00 \u001b[90m missing \u001b[0m\n",
       "\u001b[36m                    44619 rows omitted\u001b[0m"
      ]
     },
     "execution_count": 100,
     "metadata": {},
     "output_type": "execute_result"
    }
   ],
   "source": [
    "jul = df[:, [1,3]]\n",
    "DataFrames.rename!(jul, [:time, :swd])"
   ]
  },
  {
   "cell_type": "code",
   "execution_count": 102,
   "id": "6b72b4d4-bbe4-4d9b-9d39-c598177d8fcb",
   "metadata": {
    "collapsed": true,
    "execution": {
     "iopub.execute_input": "2021-07-26T16:52:23.899000+02:00",
     "iopub.status.busy": "2021-07-26T16:52:23.898000+02:00",
     "iopub.status.idle": "2021-07-26T16:52:23.910000+02:00",
     "shell.execute_reply": "2021-07-26T16:52:23.910000+02:00"
    },
    "jupyter": {
     "outputs_hidden": true
    },
    "tags": []
   },
   "outputs": [
    {
     "data": {
      "text/html": [
       "<p>DataFrameRow (2 columns)</p><table class=\"data-frame\"><thead><tr><th></th><th>time</th><th>swd</th></tr><tr><th></th><th>DateTime</th><th>Int64?</th></tr></thead><tbody><tr><th>44640</th><td>2020-07-31T23:59:00</td><td><em>missing</em></td></tr></tbody></table>"
      ],
      "text/latex": [
       "\\begin{tabular}{r|cc}\n",
       "\t& time & swd\\\\\n",
       "\t\\hline\n",
       "\t& DateTime & Int64?\\\\\n",
       "\t\\hline\n",
       "\t44640 & 2020-07-31T23:59:00 & \\emph{missing} \\\\\n",
       "\\end{tabular}\n"
      ],
      "text/plain": [
       "\u001b[1mDataFrameRow\u001b[0m\n",
       "\u001b[1m   Row \u001b[0m│\u001b[1m time                \u001b[0m\u001b[1m swd     \u001b[0m\n",
       "\u001b[1m       \u001b[0m│\u001b[90m DateTime            \u001b[0m\u001b[90m Int64?  \u001b[0m\n",
       "───────┼──────────────────────────────\n",
       " 44640 │ 2020-07-31T23:59:00 \u001b[90m missing \u001b[0m"
      ]
     },
     "execution_count": 102,
     "metadata": {},
     "output_type": "execute_result"
    }
   ],
   "source": [
    "last(jul)"
   ]
  },
  {
   "cell_type": "code",
   "execution_count": 103,
   "id": "bbce9569-7ed9-4bc5-821b-31bde4f4e8c4",
   "metadata": {
    "collapsed": true,
    "execution": {
     "iopub.execute_input": "2021-07-26T16:52:43.449000+02:00",
     "iopub.status.busy": "2021-07-26T16:52:43.449000+02:00",
     "iopub.status.idle": "2021-07-26T16:52:43.522000+02:00",
     "shell.execute_reply": "2021-07-26T16:52:43.522000+02:00"
    },
    "jupyter": {
     "outputs_hidden": true
    },
    "tags": []
   },
   "outputs": [
    {
     "data": {
      "text/html": [
       "<table class=\"data-frame\"><thead><tr><th></th><th>time</th><th>swd</th></tr><tr><th></th><th>DateTime</th><th>Float64?</th></tr></thead><tbody><p>2,976 rows × 2 columns</p><tr><th>1</th><td>2020-07-01T00:00:00</td><td><em>missing</em></td></tr><tr><th>2</th><td>2020-07-01T00:15:00</td><td>0.0</td></tr><tr><th>3</th><td>2020-07-01T00:30:00</td><td>0.0</td></tr><tr><th>4</th><td>2020-07-01T00:45:00</td><td>0.0</td></tr><tr><th>5</th><td>2020-07-01T01:00:00</td><td>0.0</td></tr><tr><th>6</th><td>2020-07-01T01:15:00</td><td>0.0</td></tr><tr><th>7</th><td>2020-07-01T01:30:00</td><td>0.0</td></tr><tr><th>8</th><td>2020-07-01T01:45:00</td><td>0.0</td></tr><tr><th>9</th><td>2020-07-01T02:00:00</td><td>0.0</td></tr><tr><th>10</th><td>2020-07-01T02:15:00</td><td>0.0</td></tr><tr><th>11</th><td>2020-07-01T02:30:00</td><td>0.0</td></tr><tr><th>12</th><td>2020-07-01T02:45:00</td><td>0.0</td></tr><tr><th>13</th><td>2020-07-01T03:00:00</td><td>0.0</td></tr><tr><th>14</th><td>2020-07-01T03:15:00</td><td>0.8</td></tr><tr><th>15</th><td>2020-07-01T03:30:00</td><td>5.0</td></tr><tr><th>16</th><td>2020-07-01T03:45:00</td><td>10.3333</td></tr><tr><th>17</th><td>2020-07-01T04:00:00</td><td>22.9333</td></tr><tr><th>18</th><td>2020-07-01T04:15:00</td><td>53.4667</td></tr><tr><th>19</th><td>2020-07-01T04:30:00</td><td>59.2</td></tr><tr><th>20</th><td>2020-07-01T04:45:00</td><td>123.533</td></tr><tr><th>21</th><td>2020-07-01T05:00:00</td><td>165.8</td></tr><tr><th>22</th><td>2020-07-01T05:15:00</td><td>210.467</td></tr><tr><th>23</th><td>2020-07-01T05:30:00</td><td>212.4</td></tr><tr><th>24</th><td>2020-07-01T05:45:00</td><td>287.333</td></tr><tr><th>25</th><td>2020-07-01T06:00:00</td><td>241.667</td></tr><tr><th>26</th><td>2020-07-01T06:15:00</td><td>348.933</td></tr><tr><th>27</th><td>2020-07-01T06:30:00</td><td>253.467</td></tr><tr><th>28</th><td>2020-07-01T06:45:00</td><td>212.267</td></tr><tr><th>29</th><td>2020-07-01T07:00:00</td><td>266.667</td></tr><tr><th>30</th><td>2020-07-01T07:15:00</td><td>274.133</td></tr><tr><th>&vellip;</th><td>&vellip;</td><td>&vellip;</td></tr></tbody></table>"
      ],
      "text/latex": [
       "\\begin{tabular}{r|cc}\n",
       "\t& time & swd\\\\\n",
       "\t\\hline\n",
       "\t& DateTime & Float64?\\\\\n",
       "\t\\hline\n",
       "\t1 & 2020-07-01T00:00:00 & \\emph{missing} \\\\\n",
       "\t2 & 2020-07-01T00:15:00 & 0.0 \\\\\n",
       "\t3 & 2020-07-01T00:30:00 & 0.0 \\\\\n",
       "\t4 & 2020-07-01T00:45:00 & 0.0 \\\\\n",
       "\t5 & 2020-07-01T01:00:00 & 0.0 \\\\\n",
       "\t6 & 2020-07-01T01:15:00 & 0.0 \\\\\n",
       "\t7 & 2020-07-01T01:30:00 & 0.0 \\\\\n",
       "\t8 & 2020-07-01T01:45:00 & 0.0 \\\\\n",
       "\t9 & 2020-07-01T02:00:00 & 0.0 \\\\\n",
       "\t10 & 2020-07-01T02:15:00 & 0.0 \\\\\n",
       "\t11 & 2020-07-01T02:30:00 & 0.0 \\\\\n",
       "\t12 & 2020-07-01T02:45:00 & 0.0 \\\\\n",
       "\t13 & 2020-07-01T03:00:00 & 0.0 \\\\\n",
       "\t14 & 2020-07-01T03:15:00 & 0.8 \\\\\n",
       "\t15 & 2020-07-01T03:30:00 & 5.0 \\\\\n",
       "\t16 & 2020-07-01T03:45:00 & 10.3333 \\\\\n",
       "\t17 & 2020-07-01T04:00:00 & 22.9333 \\\\\n",
       "\t18 & 2020-07-01T04:15:00 & 53.4667 \\\\\n",
       "\t19 & 2020-07-01T04:30:00 & 59.2 \\\\\n",
       "\t20 & 2020-07-01T04:45:00 & 123.533 \\\\\n",
       "\t21 & 2020-07-01T05:00:00 & 165.8 \\\\\n",
       "\t22 & 2020-07-01T05:15:00 & 210.467 \\\\\n",
       "\t23 & 2020-07-01T05:30:00 & 212.4 \\\\\n",
       "\t24 & 2020-07-01T05:45:00 & 287.333 \\\\\n",
       "\t25 & 2020-07-01T06:00:00 & 241.667 \\\\\n",
       "\t26 & 2020-07-01T06:15:00 & 348.933 \\\\\n",
       "\t27 & 2020-07-01T06:30:00 & 253.467 \\\\\n",
       "\t28 & 2020-07-01T06:45:00 & 212.267 \\\\\n",
       "\t29 & 2020-07-01T07:00:00 & 266.667 \\\\\n",
       "\t30 & 2020-07-01T07:15:00 & 274.133 \\\\\n",
       "\t$\\dots$ & $\\dots$ & $\\dots$ \\\\\n",
       "\\end{tabular}\n"
      ],
      "text/plain": [
       "\u001b[1m2976×2 DataFrame\u001b[0m\n",
       "\u001b[1m  Row \u001b[0m│\u001b[1m time                \u001b[0m\u001b[1m swd            \u001b[0m\n",
       "\u001b[1m      \u001b[0m│\u001b[90m DateTime            \u001b[0m\u001b[90m Float64?       \u001b[0m\n",
       "──────┼─────────────────────────────────────\n",
       "    1 │ 2020-07-01T00:00:00 \u001b[90m missing        \u001b[0m\n",
       "    2 │ 2020-07-01T00:15:00        0.0\n",
       "    3 │ 2020-07-01T00:30:00        0.0\n",
       "    4 │ 2020-07-01T00:45:00        0.0\n",
       "    5 │ 2020-07-01T01:00:00        0.0\n",
       "    6 │ 2020-07-01T01:15:00        0.0\n",
       "    7 │ 2020-07-01T01:30:00        0.0\n",
       "    8 │ 2020-07-01T01:45:00        0.0\n",
       "    9 │ 2020-07-01T02:00:00        0.0\n",
       "   10 │ 2020-07-01T02:15:00        0.0\n",
       "   11 │ 2020-07-01T02:30:00        0.0\n",
       "  ⋮   │          ⋮                 ⋮\n",
       " 2967 │ 2020-07-31T21:30:00        0.0\n",
       " 2968 │ 2020-07-31T21:45:00        0.0\n",
       " 2969 │ 2020-07-31T22:00:00        0.0\n",
       " 2970 │ 2020-07-31T22:15:00        0.0\n",
       " 2971 │ 2020-07-31T22:30:00        0.0\n",
       " 2972 │ 2020-07-31T22:45:00       -0.4\n",
       " 2973 │ 2020-07-31T23:00:00       -0.133333\n",
       " 2974 │ 2020-07-31T23:15:00        0.0\n",
       " 2975 │ 2020-07-31T23:30:00        0.0\n",
       " 2976 │ 2020-07-31T23:45:00 \u001b[90m missing        \u001b[0m\n",
       "\u001b[36m                           2955 rows omitted\u001b[0m"
      ]
     },
     "execution_count": 103,
     "metadata": {},
     "output_type": "execute_result"
    }
   ],
   "source": [
    "days_n = transform(jul, :time => ByRow(x->round(x, Dates.Minute(15), RoundDown)), renamecols=false)\n",
    "days_nn = combine(groupby(days_n, :time), :swd => mean, renamecols=false)"
   ]
  },
  {
   "cell_type": "markdown",
   "id": "924befb7-bacd-4846-8249-7b9818a9c42c",
   "metadata": {},
   "source": [
    "### Solar zenith angle"
   ]
  },
  {
   "cell_type": "code",
   "execution_count": 26,
   "id": "9f60ee4a-ea2b-4b70-8af7-9df2bff79b78",
   "metadata": {
    "execution": {
     "iopub.execute_input": "2021-07-28T11:53:17.771000+02:00",
     "iopub.status.busy": "2021-07-28T11:53:17.771000+02:00",
     "iopub.status.idle": "2021-07-28T11:53:17.824000+02:00",
     "shell.execute_reply": "2021-07-28T11:53:17.823000+02:00"
    },
    "tags": []
   },
   "outputs": [
    {
     "data": {
      "text/plain": [
       "0.4989968572916426"
      ]
     },
     "execution_count": 26,
     "metadata": {},
     "output_type": "execute_result"
    }
   ],
   "source": [
    "sind(Φ)cosd(Φ)"
   ]
  },
  {
   "cell_type": "code",
   "execution_count": 13,
   "id": "a66df22a-e0c3-41e2-9df2-a7097184213e",
   "metadata": {
    "execution": {
     "iopub.execute_input": "2021-07-29T08:56:30.201000+02:00",
     "iopub.status.busy": "2021-07-29T08:56:30.200000+02:00",
     "iopub.status.idle": "2021-07-29T08:56:30.495000+02:00",
     "shell.execute_reply": "2021-07-29T08:56:30.495000+02:00"
    },
    "tags": []
   },
   "outputs": [
    {
     "data": {
      "text/plain": [
       "46.815"
      ]
     },
     "execution_count": 13,
     "metadata": {},
     "output_type": "execute_result"
    }
   ],
   "source": [
    "const Φ = 46.815 # local latitude"
   ]
  },
  {
   "cell_type": "code",
   "execution_count": 20,
   "id": "158e9f50-2e77-4a1c-a160-c1b8b4ea7025",
   "metadata": {
    "execution": {
     "iopub.execute_input": "2021-07-29T08:58:45.986000+02:00",
     "iopub.status.busy": "2021-07-29T08:58:45.986000+02:00",
     "iopub.status.idle": "2021-07-29T08:58:46.006000+02:00",
     "shell.execute_reply": "2021-07-29T08:58:46.006000+02:00"
    }
   },
   "outputs": [
    {
     "data": {
      "text/plain": [
       "182"
      ]
     },
     "execution_count": 20,
     "metadata": {},
     "output_type": "execute_result"
    }
   ],
   "source": [
    "31+29+31+30+31+30"
   ]
  },
  {
   "cell_type": "code",
   "execution_count": 15,
   "id": "fb9d9ec2-c188-40c8-b914-74fe02069f54",
   "metadata": {
    "execution": {
     "iopub.execute_input": "2021-07-29T08:57:20.393000+02:00",
     "iopub.status.busy": "2021-07-29T08:57:20.393000+02:00",
     "iopub.status.idle": "2021-07-29T08:57:20.394000+02:00",
     "shell.execute_reply": "2021-07-29T08:57:20.394000+02:00"
    },
    "tags": []
   },
   "outputs": [
    {
     "data": {
      "text/plain": [
       "23.058145846053417"
      ]
     },
     "execution_count": 15,
     "metadata": {},
     "output_type": "execute_result"
    }
   ],
   "source": [
    "δ = -23.44 * cosd(360/365*(183+10)) # current declination of Sun"
   ]
  },
  {
   "cell_type": "code",
   "execution_count": 16,
   "id": "58247245-fe83-4550-99d0-64a3f144eff0",
   "metadata": {
    "execution": {
     "iopub.execute_input": "2021-07-29T08:57:27.107000+02:00",
     "iopub.status.busy": "2021-07-29T08:57:27.107000+02:00",
     "iopub.status.idle": "2021-07-29T08:57:27.414000+02:00",
     "shell.execute_reply": "2021-07-29T08:57:27.414000+02:00"
    },
    "tags": []
   },
   "outputs": [
    {
     "data": {
      "text/plain": [
       "-120"
      ]
     },
     "execution_count": 16,
     "metadata": {},
     "output_type": "execute_result"
    }
   ],
   "source": [
    "h = -15*8 # hour angle in local solar time # 4am: 8 hr before noon"
   ]
  },
  {
   "cell_type": "code",
   "execution_count": 17,
   "id": "e76dd21f-d116-408b-987a-725dabe226fc",
   "metadata": {
    "execution": {
     "iopub.execute_input": "2021-07-29T08:57:27.559000+02:00",
     "iopub.status.busy": "2021-07-29T08:57:27.559000+02:00",
     "iopub.status.idle": "2021-07-29T08:57:27.609000+02:00",
     "shell.execute_reply": "2021-07-29T08:57:27.608000+02:00"
    },
    "tags": []
   },
   "outputs": [
    {
     "data": {
      "text/plain": [
       "-0.029259029836477324"
      ]
     },
     "execution_count": 17,
     "metadata": {},
     "output_type": "execute_result"
    }
   ],
   "source": [
    "cos_sza() = sind(Φ)sind(δ) + cosd(Φ)cosd(δ)cosd(h)"
   ]
  },
  {
   "cell_type": "code",
   "execution_count": 19,
   "id": "4ed0f0ea-952f-45a2-a53c-2846c0080feb",
   "metadata": {
    "execution": {
     "iopub.execute_input": "2021-07-29T08:58:16.888000+02:00",
     "iopub.status.busy": "2021-07-29T08:58:16.887000+02:00",
     "iopub.status.idle": "2021-07-29T08:58:17.014000+02:00",
     "shell.execute_reply": "2021-07-29T08:58:17.014000+02:00"
    },
    "tags": []
   },
   "outputs": [
    {
     "data": {
      "text/plain": [
       "cosSza (generic function with 1 method)"
      ]
     },
     "execution_count": 19,
     "metadata": {},
     "output_type": "execute_result"
    }
   ],
   "source": [
    "cosSza(δ, h; Φ) = sind(Φ)sind(δ) + cosd(Φ)cosd(δ)cosd(h)"
   ]
  },
  {
   "cell_type": "code",
   "execution_count": 30,
   "id": "9484aad6-b72d-4a88-aad5-e00737dd391f",
   "metadata": {
    "execution": {
     "iopub.execute_input": "2021-07-28T12:01:19.139000+02:00",
     "iopub.status.busy": "2021-07-28T12:01:19.139000+02:00",
     "iopub.status.idle": "2021-07-28T12:01:19.140000+02:00",
     "shell.execute_reply": "2021-07-28T12:01:19.140000+02:00"
    },
    "tags": []
   },
   "outputs": [
    {
     "data": {
      "text/plain": [
       "-0.5"
      ]
     },
     "execution_count": 30,
     "metadata": {},
     "output_type": "execute_result"
    }
   ],
   "source": [
    "cosd(h)"
   ]
  },
  {
   "cell_type": "code",
   "execution_count": 21,
   "id": "7b345707-a013-421a-bc89-0dfdf54d58d6",
   "metadata": {
    "collapsed": true,
    "execution": {
     "iopub.execute_input": "2021-07-29T08:59:24.693000+02:00",
     "iopub.status.busy": "2021-07-29T08:59:24.693000+02:00",
     "iopub.status.idle": "2021-07-29T08:59:24.785000+02:00",
     "shell.execute_reply": "2021-07-29T08:59:24.785000+02:00"
    },
    "jupyter": {
     "outputs_hidden": true
    },
    "scrolled": true,
    "tags": []
   },
   "outputs": [
    {
     "data": {
      "text/html": [
       "<table class=\"data-frame\"><thead><tr><th></th><th>time</th><th>swd</th><th>dir</th><th>dif</th><th>ghi</th><th>ghiCS</th></tr><tr><th></th><th>DateTime</th><th>Float64?</th><th>Float64?</th><th>Float64?</th><th>Float64</th><th>Float64</th></tr></thead><tbody><p>97 rows × 6 columns</p><tr><th>1</th><td>2020-07-01T00:00:00</td><td><em>missing</em></td><td><em>missing</em></td><td><em>missing</em></td><td>0.0</td><td>0.0</td></tr><tr><th>2</th><td>2020-07-01T00:15:00</td><td>0.0</td><td>0.0</td><td>0.0</td><td>0.0</td><td>0.0</td></tr><tr><th>3</th><td>2020-07-01T00:30:00</td><td>0.0</td><td>0.0</td><td>0.0</td><td>0.0</td><td>0.0</td></tr><tr><th>4</th><td>2020-07-01T00:45:00</td><td>0.0</td><td>0.0</td><td>0.0</td><td>0.0</td><td>0.0</td></tr><tr><th>5</th><td>2020-07-01T01:00:00</td><td>0.0</td><td>0.0</td><td>0.0</td><td>0.0</td><td>0.0</td></tr><tr><th>6</th><td>2020-07-01T01:15:00</td><td>0.0</td><td>0.0</td><td>0.0</td><td>0.0</td><td>0.0</td></tr><tr><th>7</th><td>2020-07-01T01:30:00</td><td>0.0</td><td>0.0</td><td>0.0</td><td>0.0</td><td>0.0</td></tr><tr><th>8</th><td>2020-07-01T01:45:00</td><td>0.0</td><td>0.0</td><td>0.0</td><td>0.0</td><td>0.0</td></tr><tr><th>9</th><td>2020-07-01T02:00:00</td><td>0.0</td><td>0.0</td><td>0.0</td><td>0.0</td><td>0.0</td></tr><tr><th>10</th><td>2020-07-01T02:15:00</td><td>0.0</td><td>0.0</td><td>0.0</td><td>0.0</td><td>0.0</td></tr><tr><th>11</th><td>2020-07-01T02:30:00</td><td>0.0</td><td>0.0</td><td>0.0</td><td>0.0</td><td>0.0</td></tr><tr><th>12</th><td>2020-07-01T02:45:00</td><td>0.0</td><td>0.0</td><td>0.0</td><td>0.0</td><td>0.0</td></tr><tr><th>13</th><td>2020-07-01T03:00:00</td><td>0.0</td><td>0.0</td><td>0.0</td><td>0.0</td><td>0.0</td></tr><tr><th>14</th><td>2020-07-01T03:15:00</td><td>0.0</td><td>0.0</td><td>0.0</td><td>0.0</td><td>0.0</td></tr><tr><th>15</th><td>2020-07-01T03:30:00</td><td>1.0</td><td>0.0</td><td>1.13333</td><td>0.0</td><td>0.0</td></tr><tr><th>16</th><td>2020-07-01T03:45:00</td><td>5.26667</td><td>0.0</td><td>5.53333</td><td>0.0</td><td>0.0</td></tr><tr><th>17</th><td>2020-07-01T04:00:00</td><td>10.8667</td><td>0.0</td><td>11.0667</td><td>0.41639</td><td>0.986835</td></tr><tr><th>18</th><td>2020-07-01T04:15:00</td><td>24.5333</td><td>83.0</td><td>21.6</td><td>4.29367</td><td>5.59369</td></tr><tr><th>19</th><td>2020-07-01T04:30:00</td><td>53.5333</td><td>219.867</td><td>32.6667</td><td>10.6363</td><td>12.4223</td></tr><tr><th>20</th><td>2020-07-01T04:45:00</td><td>61.1333</td><td>136.733</td><td>41.0667</td><td>18.2185</td><td>20.6691</td></tr><tr><th>21</th><td>2020-07-01T05:00:00</td><td>129.133</td><td>452.133</td><td>50.1333</td><td>26.0276</td><td>29.8758</td></tr><tr><th>22</th><td>2020-07-01T05:15:00</td><td>161.667</td><td>431.733</td><td>70.0</td><td>32.8272</td><td>39.7571</td></tr><tr><th>23</th><td>2020-07-01T05:30:00</td><td>224.4</td><td>498.333</td><td>97.9333</td><td>36.9614</td><td>50.1227</td></tr><tr><th>24</th><td>2020-07-01T05:45:00</td><td>201.333</td><td>223.467</td><td>132.267</td><td>42.8301</td><td>60.8323</td></tr><tr><th>25</th><td>2020-07-01T06:00:00</td><td>305.467</td><td>512.667</td><td>129.733</td><td>50.8196</td><td>71.7723</td></tr><tr><th>26</th><td>2020-07-01T06:15:00</td><td>242.467</td><td>199.133</td><td>159.267</td><td>59.8175</td><td>82.882</td></tr><tr><th>27</th><td>2020-07-01T06:30:00</td><td>336.733</td><td>336.733</td><td>198.667</td><td>68.2656</td><td>94.0734</td></tr><tr><th>28</th><td>2020-07-01T06:45:00</td><td>251.467</td><td>63.1333</td><td>219.667</td><td>76.6477</td><td>105.23</td></tr><tr><th>29</th><td>2020-07-01T07:00:00</td><td>216.0</td><td>7.66667</td><td>209.133</td><td>84.6839</td><td>116.278</td></tr><tr><th>30</th><td>2020-07-01T07:15:00</td><td>266.267</td><td>36.0</td><td>240.867</td><td>95.1376</td><td>127.152</td></tr><tr><th>&vellip;</th><td>&vellip;</td><td>&vellip;</td><td>&vellip;</td><td>&vellip;</td><td>&vellip;</td><td>&vellip;</td></tr></tbody></table>"
      ],
      "text/latex": [
       "\\begin{tabular}{r|cccccc}\n",
       "\t& time & swd & dir & dif & ghi & ghiCS\\\\\n",
       "\t\\hline\n",
       "\t& DateTime & Float64? & Float64? & Float64? & Float64 & Float64\\\\\n",
       "\t\\hline\n",
       "\t1 & 2020-07-01T00:00:00 & \\emph{missing} & \\emph{missing} & \\emph{missing} & 0.0 & 0.0 \\\\\n",
       "\t2 & 2020-07-01T00:15:00 & 0.0 & 0.0 & 0.0 & 0.0 & 0.0 \\\\\n",
       "\t3 & 2020-07-01T00:30:00 & 0.0 & 0.0 & 0.0 & 0.0 & 0.0 \\\\\n",
       "\t4 & 2020-07-01T00:45:00 & 0.0 & 0.0 & 0.0 & 0.0 & 0.0 \\\\\n",
       "\t5 & 2020-07-01T01:00:00 & 0.0 & 0.0 & 0.0 & 0.0 & 0.0 \\\\\n",
       "\t6 & 2020-07-01T01:15:00 & 0.0 & 0.0 & 0.0 & 0.0 & 0.0 \\\\\n",
       "\t7 & 2020-07-01T01:30:00 & 0.0 & 0.0 & 0.0 & 0.0 & 0.0 \\\\\n",
       "\t8 & 2020-07-01T01:45:00 & 0.0 & 0.0 & 0.0 & 0.0 & 0.0 \\\\\n",
       "\t9 & 2020-07-01T02:00:00 & 0.0 & 0.0 & 0.0 & 0.0 & 0.0 \\\\\n",
       "\t10 & 2020-07-01T02:15:00 & 0.0 & 0.0 & 0.0 & 0.0 & 0.0 \\\\\n",
       "\t11 & 2020-07-01T02:30:00 & 0.0 & 0.0 & 0.0 & 0.0 & 0.0 \\\\\n",
       "\t12 & 2020-07-01T02:45:00 & 0.0 & 0.0 & 0.0 & 0.0 & 0.0 \\\\\n",
       "\t13 & 2020-07-01T03:00:00 & 0.0 & 0.0 & 0.0 & 0.0 & 0.0 \\\\\n",
       "\t14 & 2020-07-01T03:15:00 & 0.0 & 0.0 & 0.0 & 0.0 & 0.0 \\\\\n",
       "\t15 & 2020-07-01T03:30:00 & 1.0 & 0.0 & 1.13333 & 0.0 & 0.0 \\\\\n",
       "\t16 & 2020-07-01T03:45:00 & 5.26667 & 0.0 & 5.53333 & 0.0 & 0.0 \\\\\n",
       "\t17 & 2020-07-01T04:00:00 & 10.8667 & 0.0 & 11.0667 & 0.41639 & 0.986835 \\\\\n",
       "\t18 & 2020-07-01T04:15:00 & 24.5333 & 83.0 & 21.6 & 4.29367 & 5.59369 \\\\\n",
       "\t19 & 2020-07-01T04:30:00 & 53.5333 & 219.867 & 32.6667 & 10.6363 & 12.4223 \\\\\n",
       "\t20 & 2020-07-01T04:45:00 & 61.1333 & 136.733 & 41.0667 & 18.2185 & 20.6691 \\\\\n",
       "\t21 & 2020-07-01T05:00:00 & 129.133 & 452.133 & 50.1333 & 26.0276 & 29.8758 \\\\\n",
       "\t22 & 2020-07-01T05:15:00 & 161.667 & 431.733 & 70.0 & 32.8272 & 39.7571 \\\\\n",
       "\t23 & 2020-07-01T05:30:00 & 224.4 & 498.333 & 97.9333 & 36.9614 & 50.1227 \\\\\n",
       "\t24 & 2020-07-01T05:45:00 & 201.333 & 223.467 & 132.267 & 42.8301 & 60.8323 \\\\\n",
       "\t25 & 2020-07-01T06:00:00 & 305.467 & 512.667 & 129.733 & 50.8196 & 71.7723 \\\\\n",
       "\t26 & 2020-07-01T06:15:00 & 242.467 & 199.133 & 159.267 & 59.8175 & 82.882 \\\\\n",
       "\t27 & 2020-07-01T06:30:00 & 336.733 & 336.733 & 198.667 & 68.2656 & 94.0734 \\\\\n",
       "\t28 & 2020-07-01T06:45:00 & 251.467 & 63.1333 & 219.667 & 76.6477 & 105.23 \\\\\n",
       "\t29 & 2020-07-01T07:00:00 & 216.0 & 7.66667 & 209.133 & 84.6839 & 116.278 \\\\\n",
       "\t30 & 2020-07-01T07:15:00 & 266.267 & 36.0 & 240.867 & 95.1376 & 127.152 \\\\\n",
       "\t$\\dots$ & $\\dots$ & $\\dots$ & $\\dots$ & $\\dots$ & $\\dots$ & $\\dots$ \\\\\n",
       "\\end{tabular}\n"
      ],
      "text/plain": [
       "\u001b[1m97×6 DataFrame\u001b[0m\n",
       "\u001b[1m Row \u001b[0m│\u001b[1m time                \u001b[0m\u001b[1m swd       \u001b[0m\u001b[1m dir       \u001b[0m\u001b[1m dif       \u001b[0m\u001b[1m ghi     \u001b[0m\u001b[1m ghiCS   \u001b[0m\n",
       "\u001b[1m     \u001b[0m│\u001b[90m DateTime            \u001b[0m\u001b[90m Float64?  \u001b[0m\u001b[90m Float64?  \u001b[0m\u001b[90m Float64?  \u001b[0m\u001b[90m Float64 \u001b[0m\u001b[90m Float64 \u001b[0m\n",
       "─────┼────────────────────────────────────────────────────────────────────────\n",
       "   1 │ 2020-07-01T00:00:00 \u001b[90m missing   \u001b[0m\u001b[90m missing   \u001b[0m\u001b[90m missing   \u001b[0m     0.0      0.0\n",
       "   2 │ 2020-07-01T00:15:00        0.0        0.0        0.0      0.0      0.0\n",
       "   3 │ 2020-07-01T00:30:00        0.0        0.0        0.0      0.0      0.0\n",
       "   4 │ 2020-07-01T00:45:00        0.0        0.0        0.0      0.0      0.0\n",
       "   5 │ 2020-07-01T01:00:00        0.0        0.0        0.0      0.0      0.0\n",
       "   6 │ 2020-07-01T01:15:00        0.0        0.0        0.0      0.0      0.0\n",
       "   7 │ 2020-07-01T01:30:00        0.0        0.0        0.0      0.0      0.0\n",
       "   8 │ 2020-07-01T01:45:00        0.0        0.0        0.0      0.0      0.0\n",
       "   9 │ 2020-07-01T02:00:00        0.0        0.0        0.0      0.0      0.0\n",
       "  10 │ 2020-07-01T02:15:00        0.0        0.0        0.0      0.0      0.0\n",
       "  11 │ 2020-07-01T02:30:00        0.0        0.0        0.0      0.0      0.0\n",
       "  ⋮  │          ⋮               ⋮          ⋮          ⋮         ⋮        ⋮\n",
       "  88 │ 2020-07-01T21:45:00        0.0        0.0        0.0      0.0      0.0\n",
       "  89 │ 2020-07-01T22:00:00        0.0        0.0        0.0      0.0      0.0\n",
       "  90 │ 2020-07-01T22:15:00        0.0        0.0        0.0      0.0      0.0\n",
       "  91 │ 2020-07-01T22:30:00        0.0        0.0        0.0      0.0      0.0\n",
       "  92 │ 2020-07-01T22:45:00        0.0        0.0        0.0      0.0      0.0\n",
       "  93 │ 2020-07-01T23:00:00        0.0        0.0        0.0      0.0      0.0\n",
       "  94 │ 2020-07-01T23:15:00        0.0        0.0        0.0      0.0      0.0\n",
       "  95 │ 2020-07-01T23:30:00        0.0        0.0        0.0      0.0      0.0\n",
       "  96 │ 2020-07-01T23:45:00        0.0        0.0        0.0      0.0      0.0\n",
       "  97 │ 2020-07-02T00:00:00        0.0        0.0        0.0      0.0      0.0\n",
       "\u001b[36m                                                               76 rows omitted\u001b[0m"
      ]
     },
     "execution_count": 21,
     "metadata": {},
     "output_type": "execute_result"
    }
   ],
   "source": [
    "df = copy(day1_nn)"
   ]
  },
  {
   "cell_type": "code",
   "execution_count": 22,
   "id": "2f635f54-1199-4640-b242-3ef6a233ae0b",
   "metadata": {
    "collapsed": true,
    "execution": {
     "iopub.execute_input": "2021-07-29T09:00:03.428000+02:00",
     "iopub.status.busy": "2021-07-29T09:00:03.427000+02:00",
     "iopub.status.idle": "2021-07-29T09:00:03.522000+02:00",
     "shell.execute_reply": "2021-07-29T09:00:03.522000+02:00"
    },
    "jupyter": {
     "outputs_hidden": true
    },
    "tags": []
   },
   "outputs": [
    {
     "data": {
      "text/html": [
       "<table class=\"data-frame\"><thead><tr><th></th><th>time</th><th>swd</th><th>dir</th><th>dif</th><th>ghi</th><th>ghiCS</th></tr><tr><th></th><th>DateTime</th><th>Float64?</th><th>Float64?</th><th>Float64?</th><th>Float64</th><th>Float64</th></tr></thead><tbody><p>13 rows × 6 columns</p><tr><th>1</th><td>2020-07-01T04:15:00</td><td>24.5333</td><td>83.0</td><td>21.6</td><td>4.29367</td><td>5.59369</td></tr><tr><th>2</th><td>2020-07-01T04:30:00</td><td>53.5333</td><td>219.867</td><td>32.6667</td><td>10.6363</td><td>12.4223</td></tr><tr><th>3</th><td>2020-07-01T04:45:00</td><td>61.1333</td><td>136.733</td><td>41.0667</td><td>18.2185</td><td>20.6691</td></tr><tr><th>4</th><td>2020-07-01T05:00:00</td><td>129.133</td><td>452.133</td><td>50.1333</td><td>26.0276</td><td>29.8758</td></tr><tr><th>5</th><td>2020-07-01T05:15:00</td><td>161.667</td><td>431.733</td><td>70.0</td><td>32.8272</td><td>39.7571</td></tr><tr><th>6</th><td>2020-07-01T05:30:00</td><td>224.4</td><td>498.333</td><td>97.9333</td><td>36.9614</td><td>50.1227</td></tr><tr><th>7</th><td>2020-07-01T05:45:00</td><td>201.333</td><td>223.467</td><td>132.267</td><td>42.8301</td><td>60.8323</td></tr><tr><th>8</th><td>2020-07-01T06:00:00</td><td>305.467</td><td>512.667</td><td>129.733</td><td>50.8196</td><td>71.7723</td></tr><tr><th>9</th><td>2020-07-01T06:15:00</td><td>242.467</td><td>199.133</td><td>159.267</td><td>59.8175</td><td>82.882</td></tr><tr><th>10</th><td>2020-07-01T06:30:00</td><td>336.733</td><td>336.733</td><td>198.667</td><td>68.2656</td><td>94.0734</td></tr><tr><th>11</th><td>2020-07-01T06:45:00</td><td>251.467</td><td>63.1333</td><td>219.667</td><td>76.6477</td><td>105.23</td></tr><tr><th>12</th><td>2020-07-01T07:00:00</td><td>216.0</td><td>7.66667</td><td>209.133</td><td>84.6839</td><td>116.278</td></tr><tr><th>13</th><td>2020-07-01T07:15:00</td><td>266.267</td><td>36.0</td><td>240.867</td><td>95.1376</td><td>127.152</td></tr></tbody></table>"
      ],
      "text/latex": [
       "\\begin{tabular}{r|cccccc}\n",
       "\t& time & swd & dir & dif & ghi & ghiCS\\\\\n",
       "\t\\hline\n",
       "\t& DateTime & Float64? & Float64? & Float64? & Float64 & Float64\\\\\n",
       "\t\\hline\n",
       "\t1 & 2020-07-01T04:15:00 & 24.5333 & 83.0 & 21.6 & 4.29367 & 5.59369 \\\\\n",
       "\t2 & 2020-07-01T04:30:00 & 53.5333 & 219.867 & 32.6667 & 10.6363 & 12.4223 \\\\\n",
       "\t3 & 2020-07-01T04:45:00 & 61.1333 & 136.733 & 41.0667 & 18.2185 & 20.6691 \\\\\n",
       "\t4 & 2020-07-01T05:00:00 & 129.133 & 452.133 & 50.1333 & 26.0276 & 29.8758 \\\\\n",
       "\t5 & 2020-07-01T05:15:00 & 161.667 & 431.733 & 70.0 & 32.8272 & 39.7571 \\\\\n",
       "\t6 & 2020-07-01T05:30:00 & 224.4 & 498.333 & 97.9333 & 36.9614 & 50.1227 \\\\\n",
       "\t7 & 2020-07-01T05:45:00 & 201.333 & 223.467 & 132.267 & 42.8301 & 60.8323 \\\\\n",
       "\t8 & 2020-07-01T06:00:00 & 305.467 & 512.667 & 129.733 & 50.8196 & 71.7723 \\\\\n",
       "\t9 & 2020-07-01T06:15:00 & 242.467 & 199.133 & 159.267 & 59.8175 & 82.882 \\\\\n",
       "\t10 & 2020-07-01T06:30:00 & 336.733 & 336.733 & 198.667 & 68.2656 & 94.0734 \\\\\n",
       "\t11 & 2020-07-01T06:45:00 & 251.467 & 63.1333 & 219.667 & 76.6477 & 105.23 \\\\\n",
       "\t12 & 2020-07-01T07:00:00 & 216.0 & 7.66667 & 209.133 & 84.6839 & 116.278 \\\\\n",
       "\t13 & 2020-07-01T07:15:00 & 266.267 & 36.0 & 240.867 & 95.1376 & 127.152 \\\\\n",
       "\\end{tabular}\n"
      ],
      "text/plain": [
       "\u001b[1m13×6 DataFrame\u001b[0m\n",
       "\u001b[1m Row \u001b[0m│\u001b[1m time                \u001b[0m\u001b[1m swd      \u001b[0m\u001b[1m dir       \u001b[0m\u001b[1m dif      \u001b[0m\u001b[1m ghi      \u001b[0m\u001b[1m ghiCS     \u001b[0m\n",
       "\u001b[1m     \u001b[0m│\u001b[90m DateTime            \u001b[0m\u001b[90m Float64? \u001b[0m\u001b[90m Float64?  \u001b[0m\u001b[90m Float64? \u001b[0m\u001b[90m Float64  \u001b[0m\u001b[90m Float64   \u001b[0m\n",
       "─────┼─────────────────────────────────────────────────────────────────────────\n",
       "   1 │ 2020-07-01T04:15:00   24.5333   83.0       21.6      4.29367    5.59369\n",
       "   2 │ 2020-07-01T04:30:00   53.5333  219.867     32.6667  10.6363    12.4223\n",
       "   3 │ 2020-07-01T04:45:00   61.1333  136.733     41.0667  18.2185    20.6691\n",
       "   4 │ 2020-07-01T05:00:00  129.133   452.133     50.1333  26.0276    29.8758\n",
       "   5 │ 2020-07-01T05:15:00  161.667   431.733     70.0     32.8272    39.7571\n",
       "   6 │ 2020-07-01T05:30:00  224.4     498.333     97.9333  36.9614    50.1227\n",
       "   7 │ 2020-07-01T05:45:00  201.333   223.467    132.267   42.8301    60.8323\n",
       "   8 │ 2020-07-01T06:00:00  305.467   512.667    129.733   50.8196    71.7723\n",
       "   9 │ 2020-07-01T06:15:00  242.467   199.133    159.267   59.8175    82.882\n",
       "  10 │ 2020-07-01T06:30:00  336.733   336.733    198.667   68.2656    94.0734\n",
       "  11 │ 2020-07-01T06:45:00  251.467    63.1333   219.667   76.6477   105.23\n",
       "  12 │ 2020-07-01T07:00:00  216.0       7.66667  209.133   84.6839   116.278\n",
       "  13 │ 2020-07-01T07:15:00  266.267    36.0      240.867   95.1376   127.152"
      ]
     },
     "execution_count": 22,
     "metadata": {},
     "output_type": "execute_result"
    }
   ],
   "source": [
    "df1 = df[18:30, :]"
   ]
  },
  {
   "cell_type": "code",
   "execution_count": 23,
   "id": "27d03681-bb8e-4086-ad9a-ffa65484af62",
   "metadata": {
    "execution": {
     "iopub.execute_input": "2021-07-29T09:00:26.660000+02:00",
     "iopub.status.busy": "2021-07-29T09:00:26.660000+02:00",
     "iopub.status.idle": "2021-07-29T09:00:26.977000+02:00",
     "shell.execute_reply": "2021-07-29T09:00:26.976000+02:00"
    }
   },
   "outputs": [
    {
     "data": {
      "text/plain": [
       "2020-07-01T04:15:00"
      ]
     },
     "execution_count": 23,
     "metadata": {},
     "output_type": "execute_result"
    }
   ],
   "source": [
    "df1[1,1]"
   ]
  },
  {
   "cell_type": "code",
   "execution_count": 31,
   "id": "403554f1-948e-4ca8-98da-532805b0c26f",
   "metadata": {
    "collapsed": true,
    "execution": {
     "iopub.execute_input": "2021-07-29T09:03:50.489000+02:00",
     "iopub.status.busy": "2021-07-29T09:03:50.489000+02:00",
     "iopub.status.idle": "2021-07-29T09:03:51.326000+02:00",
     "shell.execute_reply": "2021-07-29T09:03:51.326000+02:00"
    },
    "jupyter": {
     "outputs_hidden": true
    },
    "tags": []
   },
   "outputs": [
    {
     "data": {
      "text/plain": [
       "13-element Vector{Int64}:\n",
       " 1\n",
       " 1\n",
       " 1\n",
       " 1\n",
       " 1\n",
       " 1\n",
       " 1\n",
       " 1\n",
       " 1\n",
       " 1\n",
       " 1\n",
       " 1\n",
       " 1"
      ]
     },
     "execution_count": 31,
     "metadata": {},
     "output_type": "execute_result"
    }
   ],
   "source": [
    "df1.day = Dates.day.(df1[:,1])"
   ]
  },
  {
   "cell_type": "code",
   "execution_count": 48,
   "id": "09f311b4-b587-4280-81c6-631e79df34a8",
   "metadata": {
    "collapsed": true,
    "execution": {
     "iopub.execute_input": "2021-07-29T09:09:02.294000+02:00",
     "iopub.status.busy": "2021-07-29T09:09:02.294000+02:00",
     "iopub.status.idle": "2021-07-29T09:09:02.730000+02:00",
     "shell.execute_reply": "2021-07-29T09:09:02.730000+02:00"
    },
    "jupyter": {
     "outputs_hidden": true
    },
    "tags": []
   },
   "outputs": [
    {
     "data": {
      "text/plain": [
       "13-element Vector{Float64}:\n",
       " 23.058145846053417\n",
       " 23.058145846053417\n",
       " 23.058145846053417\n",
       " 23.058145846053417\n",
       " 23.058145846053417\n",
       " 23.058145846053417\n",
       " 23.058145846053417\n",
       " 23.058145846053417\n",
       " 23.058145846053417\n",
       " 23.058145846053417\n",
       " 23.058145846053417\n",
       " 23.058145846053417\n",
       " 23.058145846053417"
      ]
     },
     "execution_count": 48,
     "metadata": {},
     "output_type": "execute_result"
    }
   ],
   "source": [
    "df1[:, :sunDec] .= -23.44 * cosd(360/365*(182+10+1))"
   ]
  },
  {
   "cell_type": "code",
   "execution_count": 49,
   "id": "49f75b06-643c-40d2-a407-699a0f9a9f99",
   "metadata": {
    "execution": {
     "iopub.execute_input": "2021-07-29T09:09:14.696000+02:00",
     "iopub.status.busy": "2021-07-29T09:09:14.696000+02:00",
     "iopub.status.idle": "2021-07-29T09:09:14.708000+02:00",
     "shell.execute_reply": "2021-07-29T09:09:14.708000+02:00"
    },
    "tags": []
   },
   "outputs": [
    {
     "data": {
      "text/html": [
       "<table class=\"data-frame\"><thead><tr><th></th><th>time</th><th>swd</th><th>dir</th><th>dif</th><th>ghi</th><th>ghiCS</th><th>day</th><th>te</th><th>sunDec</th></tr><tr><th></th><th>DateTime</th><th>Float64?</th><th>Float64?</th><th>Float64?</th><th>Float64</th><th>Float64</th><th>Int64</th><th>Int64</th><th>Float64</th></tr></thead><tbody><p>13 rows × 9 columns</p><tr><th>1</th><td>2020-07-01T04:15:00</td><td>24.5333</td><td>83.0</td><td>21.6</td><td>4.29367</td><td>5.59369</td><td>1</td><td>100</td><td>23.0581</td></tr><tr><th>2</th><td>2020-07-01T04:30:00</td><td>53.5333</td><td>219.867</td><td>32.6667</td><td>10.6363</td><td>12.4223</td><td>1</td><td>100</td><td>23.0581</td></tr><tr><th>3</th><td>2020-07-01T04:45:00</td><td>61.1333</td><td>136.733</td><td>41.0667</td><td>18.2185</td><td>20.6691</td><td>1</td><td>100</td><td>23.0581</td></tr><tr><th>4</th><td>2020-07-01T05:00:00</td><td>129.133</td><td>452.133</td><td>50.1333</td><td>26.0276</td><td>29.8758</td><td>1</td><td>100</td><td>23.0581</td></tr><tr><th>5</th><td>2020-07-01T05:15:00</td><td>161.667</td><td>431.733</td><td>70.0</td><td>32.8272</td><td>39.7571</td><td>1</td><td>100</td><td>23.0581</td></tr><tr><th>6</th><td>2020-07-01T05:30:00</td><td>224.4</td><td>498.333</td><td>97.9333</td><td>36.9614</td><td>50.1227</td><td>1</td><td>100</td><td>23.0581</td></tr><tr><th>7</th><td>2020-07-01T05:45:00</td><td>201.333</td><td>223.467</td><td>132.267</td><td>42.8301</td><td>60.8323</td><td>1</td><td>100</td><td>23.0581</td></tr><tr><th>8</th><td>2020-07-01T06:00:00</td><td>305.467</td><td>512.667</td><td>129.733</td><td>50.8196</td><td>71.7723</td><td>1</td><td>100</td><td>23.0581</td></tr><tr><th>9</th><td>2020-07-01T06:15:00</td><td>242.467</td><td>199.133</td><td>159.267</td><td>59.8175</td><td>82.882</td><td>1</td><td>100</td><td>23.0581</td></tr><tr><th>10</th><td>2020-07-01T06:30:00</td><td>336.733</td><td>336.733</td><td>198.667</td><td>68.2656</td><td>94.0734</td><td>1</td><td>100</td><td>23.0581</td></tr><tr><th>11</th><td>2020-07-01T06:45:00</td><td>251.467</td><td>63.1333</td><td>219.667</td><td>76.6477</td><td>105.23</td><td>1</td><td>100</td><td>23.0581</td></tr><tr><th>12</th><td>2020-07-01T07:00:00</td><td>216.0</td><td>7.66667</td><td>209.133</td><td>84.6839</td><td>116.278</td><td>1</td><td>100</td><td>23.0581</td></tr><tr><th>13</th><td>2020-07-01T07:15:00</td><td>266.267</td><td>36.0</td><td>240.867</td><td>95.1376</td><td>127.152</td><td>1</td><td>100</td><td>23.0581</td></tr></tbody></table>"
      ],
      "text/latex": [
       "\\begin{tabular}{r|ccccccccc}\n",
       "\t& time & swd & dir & dif & ghi & ghiCS & day & te & sunDec\\\\\n",
       "\t\\hline\n",
       "\t& DateTime & Float64? & Float64? & Float64? & Float64 & Float64 & Int64 & Int64 & Float64\\\\\n",
       "\t\\hline\n",
       "\t1 & 2020-07-01T04:15:00 & 24.5333 & 83.0 & 21.6 & 4.29367 & 5.59369 & 1 & 100 & 23.0581 \\\\\n",
       "\t2 & 2020-07-01T04:30:00 & 53.5333 & 219.867 & 32.6667 & 10.6363 & 12.4223 & 1 & 100 & 23.0581 \\\\\n",
       "\t3 & 2020-07-01T04:45:00 & 61.1333 & 136.733 & 41.0667 & 18.2185 & 20.6691 & 1 & 100 & 23.0581 \\\\\n",
       "\t4 & 2020-07-01T05:00:00 & 129.133 & 452.133 & 50.1333 & 26.0276 & 29.8758 & 1 & 100 & 23.0581 \\\\\n",
       "\t5 & 2020-07-01T05:15:00 & 161.667 & 431.733 & 70.0 & 32.8272 & 39.7571 & 1 & 100 & 23.0581 \\\\\n",
       "\t6 & 2020-07-01T05:30:00 & 224.4 & 498.333 & 97.9333 & 36.9614 & 50.1227 & 1 & 100 & 23.0581 \\\\\n",
       "\t7 & 2020-07-01T05:45:00 & 201.333 & 223.467 & 132.267 & 42.8301 & 60.8323 & 1 & 100 & 23.0581 \\\\\n",
       "\t8 & 2020-07-01T06:00:00 & 305.467 & 512.667 & 129.733 & 50.8196 & 71.7723 & 1 & 100 & 23.0581 \\\\\n",
       "\t9 & 2020-07-01T06:15:00 & 242.467 & 199.133 & 159.267 & 59.8175 & 82.882 & 1 & 100 & 23.0581 \\\\\n",
       "\t10 & 2020-07-01T06:30:00 & 336.733 & 336.733 & 198.667 & 68.2656 & 94.0734 & 1 & 100 & 23.0581 \\\\\n",
       "\t11 & 2020-07-01T06:45:00 & 251.467 & 63.1333 & 219.667 & 76.6477 & 105.23 & 1 & 100 & 23.0581 \\\\\n",
       "\t12 & 2020-07-01T07:00:00 & 216.0 & 7.66667 & 209.133 & 84.6839 & 116.278 & 1 & 100 & 23.0581 \\\\\n",
       "\t13 & 2020-07-01T07:15:00 & 266.267 & 36.0 & 240.867 & 95.1376 & 127.152 & 1 & 100 & 23.0581 \\\\\n",
       "\\end{tabular}\n"
      ],
      "text/plain": [
       "\u001b[1m13×9 DataFrame\u001b[0m\n",
       "\u001b[1m Row \u001b[0m│\u001b[1m time                \u001b[0m\u001b[1m swd      \u001b[0m\u001b[1m dir       \u001b[0m\u001b[1m dif      \u001b[0m\u001b[1m ghi      \u001b[0m\u001b[1m ghiCS     \u001b[0m\u001b[1m day   \u001b[0m\u001b[1m te    \u001b[0m\u001b[1m sunDec  \u001b[0m\n",
       "\u001b[1m     \u001b[0m│\u001b[90m DateTime            \u001b[0m\u001b[90m Float64? \u001b[0m\u001b[90m Float64?  \u001b[0m\u001b[90m Float64? \u001b[0m\u001b[90m Float64  \u001b[0m\u001b[90m Float64   \u001b[0m\u001b[90m Int64 \u001b[0m\u001b[90m Int64 \u001b[0m\u001b[90m Float64 \u001b[0m\n",
       "─────┼────────────────────────────────────────────────────────────────────────────────────────────────\n",
       "   1 │ 2020-07-01T04:15:00   24.5333   83.0       21.6      4.29367    5.59369      1    100  23.0581\n",
       "   2 │ 2020-07-01T04:30:00   53.5333  219.867     32.6667  10.6363    12.4223       1    100  23.0581\n",
       "   3 │ 2020-07-01T04:45:00   61.1333  136.733     41.0667  18.2185    20.6691       1    100  23.0581\n",
       "   4 │ 2020-07-01T05:00:00  129.133   452.133     50.1333  26.0276    29.8758       1    100  23.0581\n",
       "   5 │ 2020-07-01T05:15:00  161.667   431.733     70.0     32.8272    39.7571       1    100  23.0581\n",
       "   6 │ 2020-07-01T05:30:00  224.4     498.333     97.9333  36.9614    50.1227       1    100  23.0581\n",
       "   7 │ 2020-07-01T05:45:00  201.333   223.467    132.267   42.8301    60.8323       1    100  23.0581\n",
       "   8 │ 2020-07-01T06:00:00  305.467   512.667    129.733   50.8196    71.7723       1    100  23.0581\n",
       "   9 │ 2020-07-01T06:15:00  242.467   199.133    159.267   59.8175    82.882        1    100  23.0581\n",
       "  10 │ 2020-07-01T06:30:00  336.733   336.733    198.667   68.2656    94.0734       1    100  23.0581\n",
       "  11 │ 2020-07-01T06:45:00  251.467    63.1333   219.667   76.6477   105.23         1    100  23.0581\n",
       "  12 │ 2020-07-01T07:00:00  216.0       7.66667  209.133   84.6839   116.278        1    100  23.0581\n",
       "  13 │ 2020-07-01T07:15:00  266.267    36.0      240.867   95.1376   127.152        1    100  23.0581"
      ]
     },
     "execution_count": 49,
     "metadata": {},
     "output_type": "execute_result"
    }
   ],
   "source": [
    "df1"
   ]
  },
  {
   "cell_type": "code",
   "execution_count": 56,
   "id": "d7ee282c-a1cd-433e-9a4b-1548a935c732",
   "metadata": {
    "execution": {
     "iopub.execute_input": "2021-07-29T09:14:51.648000+02:00",
     "iopub.status.busy": "2021-07-29T09:14:51.648000+02:00",
     "iopub.status.idle": "2021-07-29T09:14:51.649000+02:00",
     "shell.execute_reply": "2021-07-29T09:14:51.649000+02:00"
    },
    "tags": []
   },
   "outputs": [
    {
     "data": {
      "text/plain": [
       "2020-07-01T12:00:00"
      ]
     },
     "execution_count": 56,
     "metadata": {},
     "output_type": "execute_result"
    }
   ],
   "source": [
    "time2 = DateTime(2020, 7, 1, 12)"
   ]
  },
  {
   "cell_type": "code",
   "execution_count": 57,
   "id": "3c954d7d-346c-4724-930d-3a11997d003c",
   "metadata": {
    "execution": {
     "iopub.execute_input": "2021-07-29T09:14:51.889000+02:00",
     "iopub.status.busy": "2021-07-29T09:14:51.889000+02:00",
     "iopub.status.idle": "2021-07-29T09:14:51.890000+02:00",
     "shell.execute_reply": "2021-07-29T09:14:51.890000+02:00"
    },
    "tags": []
   },
   "outputs": [
    {
     "data": {
      "text/plain": [
       "2020-07-01T04:45:00"
      ]
     },
     "execution_count": 57,
     "metadata": {},
     "output_type": "execute_result"
    }
   ],
   "source": [
    "time1 = Dates.df1[3,1]"
   ]
  },
  {
   "cell_type": "code",
   "execution_count": 82,
   "id": "23085b54-d44b-40f4-802e-e3edf060da46",
   "metadata": {
    "execution": {
     "iopub.execute_input": "2021-07-29T09:26:53.759000+02:00",
     "iopub.status.busy": "2021-07-29T09:26:53.759000+02:00",
     "iopub.status.idle": "2021-07-29T09:26:53.760000+02:00",
     "shell.execute_reply": "2021-07-29T09:26:53.760000+02:00"
    },
    "tags": []
   },
   "outputs": [
    {
     "data": {
      "text/plain": [
       "26100000 milliseconds"
      ]
     },
     "execution_count": 82,
     "metadata": {},
     "output_type": "execute_result"
    }
   ],
   "source": [
    "time2 - time1"
   ]
  },
  {
   "cell_type": "code",
   "execution_count": 83,
   "id": "009deb19-7e4c-4068-8be0-129d7a704387",
   "metadata": {
    "execution": {
     "iopub.execute_input": "2021-07-29T09:27:08.111000+02:00",
     "iopub.status.busy": "2021-07-29T09:27:08.110000+02:00",
     "iopub.status.idle": "2021-07-29T09:27:08.112000+02:00",
     "shell.execute_reply": "2021-07-29T09:27:08.112000+02:00"
    },
    "tags": []
   },
   "outputs": [
    {
     "data": {
      "text/plain": [
       "435 minutes"
      ]
     },
     "execution_count": 83,
     "metadata": {},
     "output_type": "execute_result"
    }
   ],
   "source": [
    "round(time2 - time1, Minute)"
   ]
  },
  {
   "cell_type": "code",
   "execution_count": 95,
   "id": "ead50b9a-2a03-4c91-857e-2508b5cb9cff",
   "metadata": {
    "execution": {
     "iopub.execute_input": "2021-07-29T09:35:38.199000+02:00",
     "iopub.status.busy": "2021-07-29T09:35:38.199000+02:00",
     "iopub.status.idle": "2021-07-29T09:35:38.200000+02:00",
     "shell.execute_reply": "2021-07-29T09:35:38.200000+02:00"
    },
    "tags": []
   },
   "outputs": [
    {
     "data": {
      "text/plain": [
       "12:00:00"
      ]
     },
     "execution_count": 95,
     "metadata": {},
     "output_type": "execute_result"
    }
   ],
   "source": [
    "t2 = Time(12)"
   ]
  },
  {
   "cell_type": "code",
   "execution_count": 96,
   "id": "029672eb-fd33-4e28-823d-765ad93543d0",
   "metadata": {
    "execution": {
     "iopub.execute_input": "2021-07-29T09:35:38.598000+02:00",
     "iopub.status.busy": "2021-07-29T09:35:38.598000+02:00",
     "iopub.status.idle": "2021-07-29T09:35:38.599000+02:00",
     "shell.execute_reply": "2021-07-29T09:35:38.599000+02:00"
    },
    "tags": []
   },
   "outputs": [
    {
     "data": {
      "text/plain": [
       "05:15:00"
      ]
     },
     "execution_count": 96,
     "metadata": {},
     "output_type": "execute_result"
    }
   ],
   "source": [
    "t1 = Time(df1[5,1])"
   ]
  },
  {
   "cell_type": "code",
   "execution_count": 103,
   "id": "7e015076-0c4a-4c3c-8a69-5dcfa5cd9003",
   "metadata": {
    "execution": {
     "iopub.execute_input": "2021-07-29T09:37:04.490000+02:00",
     "iopub.status.busy": "2021-07-29T09:37:04.490000+02:00",
     "iopub.status.idle": "2021-07-29T09:37:04.497000+02:00",
     "shell.execute_reply": "2021-07-29T09:37:04.496000+02:00"
    },
    "tags": []
   },
   "outputs": [
    {
     "data": {
      "text/plain": [
       "405"
      ]
     },
     "execution_count": 103,
     "metadata": {},
     "output_type": "execute_result"
    }
   ],
   "source": [
    "Dates.value(round(t2 - t1, Minute))"
   ]
  },
  {
   "cell_type": "code",
   "execution_count": 87,
   "id": "8ac6270a-05f3-486f-9f1a-460044e81b6a",
   "metadata": {
    "execution": {
     "iopub.execute_input": "2021-07-29T09:31:04.441000+02:00",
     "iopub.status.busy": "2021-07-29T09:31:04.440000+02:00",
     "iopub.status.idle": "2021-07-29T09:31:04.581000+02:00",
     "shell.execute_reply": "2021-07-29T09:31:04.581000+02:00"
    }
   },
   "outputs": [
    {
     "data": {
      "text/plain": [
       "(::ByRow{DataFrame}) (generic function with 2 methods)"
      ]
     },
     "execution_count": 87,
     "metadata": {},
     "output_type": "execute_result"
    }
   ],
   "source": [
    "ByRow()"
   ]
  },
  {
   "cell_type": "code",
   "execution_count": 107,
   "id": "0a2ca9dc-7542-4dca-b5b7-b9f01335ce7a",
   "metadata": {
    "execution": {
     "iopub.execute_input": "2021-07-29T09:38:17.343000+02:00",
     "iopub.status.busy": "2021-07-29T09:38:17.342000+02:00",
     "iopub.status.idle": "2021-07-29T09:38:17.489000+02:00",
     "shell.execute_reply": "2021-07-29T09:38:17.488000+02:00"
    },
    "tags": []
   },
   "outputs": [
    {
     "data": {
      "text/html": [
       "<table class=\"data-frame\"><thead><tr><th></th><th>time</th><th>swd</th><th>dir</th><th>dif</th><th>ghi</th><th>ghiCS</th><th>day</th><th>te</th><th>sunDec</th><th>time_function</th></tr><tr><th></th><th>DateTime</th><th>Float64?</th><th>Float64?</th><th>Float64?</th><th>Float64</th><th>Float64</th><th>Int64</th><th>Int64</th><th>Float64</th><th>Float64</th></tr></thead><tbody><p>13 rows × 10 columns</p><tr><th>1</th><td>2020-07-01T04:15:00</td><td>24.5333</td><td>83.0</td><td>21.6</td><td>4.29367</td><td>5.59369</td><td>1</td><td>100</td><td>23.0581</td><td>116.25</td></tr><tr><th>2</th><td>2020-07-01T04:30:00</td><td>53.5333</td><td>219.867</td><td>32.6667</td><td>10.6363</td><td>12.4223</td><td>1</td><td>100</td><td>23.0581</td><td>112.5</td></tr><tr><th>3</th><td>2020-07-01T04:45:00</td><td>61.1333</td><td>136.733</td><td>41.0667</td><td>18.2185</td><td>20.6691</td><td>1</td><td>100</td><td>23.0581</td><td>108.75</td></tr><tr><th>4</th><td>2020-07-01T05:00:00</td><td>129.133</td><td>452.133</td><td>50.1333</td><td>26.0276</td><td>29.8758</td><td>1</td><td>100</td><td>23.0581</td><td>105.0</td></tr><tr><th>5</th><td>2020-07-01T05:15:00</td><td>161.667</td><td>431.733</td><td>70.0</td><td>32.8272</td><td>39.7571</td><td>1</td><td>100</td><td>23.0581</td><td>101.25</td></tr><tr><th>6</th><td>2020-07-01T05:30:00</td><td>224.4</td><td>498.333</td><td>97.9333</td><td>36.9614</td><td>50.1227</td><td>1</td><td>100</td><td>23.0581</td><td>97.5</td></tr><tr><th>7</th><td>2020-07-01T05:45:00</td><td>201.333</td><td>223.467</td><td>132.267</td><td>42.8301</td><td>60.8323</td><td>1</td><td>100</td><td>23.0581</td><td>93.75</td></tr><tr><th>8</th><td>2020-07-01T06:00:00</td><td>305.467</td><td>512.667</td><td>129.733</td><td>50.8196</td><td>71.7723</td><td>1</td><td>100</td><td>23.0581</td><td>90.0</td></tr><tr><th>9</th><td>2020-07-01T06:15:00</td><td>242.467</td><td>199.133</td><td>159.267</td><td>59.8175</td><td>82.882</td><td>1</td><td>100</td><td>23.0581</td><td>86.25</td></tr><tr><th>10</th><td>2020-07-01T06:30:00</td><td>336.733</td><td>336.733</td><td>198.667</td><td>68.2656</td><td>94.0734</td><td>1</td><td>100</td><td>23.0581</td><td>82.5</td></tr><tr><th>11</th><td>2020-07-01T06:45:00</td><td>251.467</td><td>63.1333</td><td>219.667</td><td>76.6477</td><td>105.23</td><td>1</td><td>100</td><td>23.0581</td><td>78.75</td></tr><tr><th>12</th><td>2020-07-01T07:00:00</td><td>216.0</td><td>7.66667</td><td>209.133</td><td>84.6839</td><td>116.278</td><td>1</td><td>100</td><td>23.0581</td><td>75.0</td></tr><tr><th>13</th><td>2020-07-01T07:15:00</td><td>266.267</td><td>36.0</td><td>240.867</td><td>95.1376</td><td>127.152</td><td>1</td><td>100</td><td>23.0581</td><td>71.25</td></tr></tbody></table>"
      ],
      "text/latex": [
       "\\begin{tabular}{r|cccccccccc}\n",
       "\t& time & swd & dir & dif & ghi & ghiCS & day & te & sunDec & time\\_function\\\\\n",
       "\t\\hline\n",
       "\t& DateTime & Float64? & Float64? & Float64? & Float64 & Float64 & Int64 & Int64 & Float64 & Float64\\\\\n",
       "\t\\hline\n",
       "\t1 & 2020-07-01T04:15:00 & 24.5333 & 83.0 & 21.6 & 4.29367 & 5.59369 & 1 & 100 & 23.0581 & 116.25 \\\\\n",
       "\t2 & 2020-07-01T04:30:00 & 53.5333 & 219.867 & 32.6667 & 10.6363 & 12.4223 & 1 & 100 & 23.0581 & 112.5 \\\\\n",
       "\t3 & 2020-07-01T04:45:00 & 61.1333 & 136.733 & 41.0667 & 18.2185 & 20.6691 & 1 & 100 & 23.0581 & 108.75 \\\\\n",
       "\t4 & 2020-07-01T05:00:00 & 129.133 & 452.133 & 50.1333 & 26.0276 & 29.8758 & 1 & 100 & 23.0581 & 105.0 \\\\\n",
       "\t5 & 2020-07-01T05:15:00 & 161.667 & 431.733 & 70.0 & 32.8272 & 39.7571 & 1 & 100 & 23.0581 & 101.25 \\\\\n",
       "\t6 & 2020-07-01T05:30:00 & 224.4 & 498.333 & 97.9333 & 36.9614 & 50.1227 & 1 & 100 & 23.0581 & 97.5 \\\\\n",
       "\t7 & 2020-07-01T05:45:00 & 201.333 & 223.467 & 132.267 & 42.8301 & 60.8323 & 1 & 100 & 23.0581 & 93.75 \\\\\n",
       "\t8 & 2020-07-01T06:00:00 & 305.467 & 512.667 & 129.733 & 50.8196 & 71.7723 & 1 & 100 & 23.0581 & 90.0 \\\\\n",
       "\t9 & 2020-07-01T06:15:00 & 242.467 & 199.133 & 159.267 & 59.8175 & 82.882 & 1 & 100 & 23.0581 & 86.25 \\\\\n",
       "\t10 & 2020-07-01T06:30:00 & 336.733 & 336.733 & 198.667 & 68.2656 & 94.0734 & 1 & 100 & 23.0581 & 82.5 \\\\\n",
       "\t11 & 2020-07-01T06:45:00 & 251.467 & 63.1333 & 219.667 & 76.6477 & 105.23 & 1 & 100 & 23.0581 & 78.75 \\\\\n",
       "\t12 & 2020-07-01T07:00:00 & 216.0 & 7.66667 & 209.133 & 84.6839 & 116.278 & 1 & 100 & 23.0581 & 75.0 \\\\\n",
       "\t13 & 2020-07-01T07:15:00 & 266.267 & 36.0 & 240.867 & 95.1376 & 127.152 & 1 & 100 & 23.0581 & 71.25 \\\\\n",
       "\\end{tabular}\n"
      ],
      "text/plain": [
       "\u001b[1m13×10 DataFrame\u001b[0m\n",
       "\u001b[1m Row \u001b[0m│\u001b[1m time                \u001b[0m\u001b[1m swd      \u001b[0m\u001b[1m dir       \u001b[0m\u001b[1m dif      \u001b[0m\u001b[1m ghi      \u001b[0m\u001b[1m ghiCS     \u001b[0m\u001b[1m day   \u001b[0m\u001b[1m te    \u001b[0m\u001b[1m sunDec  \u001b[0m\u001b[1m time_function \u001b[0m\n",
       "\u001b[1m     \u001b[0m│\u001b[90m DateTime            \u001b[0m\u001b[90m Float64? \u001b[0m\u001b[90m Float64?  \u001b[0m\u001b[90m Float64? \u001b[0m\u001b[90m Float64  \u001b[0m\u001b[90m Float64   \u001b[0m\u001b[90m Int64 \u001b[0m\u001b[90m Int64 \u001b[0m\u001b[90m Float64 \u001b[0m\u001b[90m Float64       \u001b[0m\n",
       "─────┼───────────────────────────────────────────────────────────────────────────────────────────────────────────────\n",
       "   1 │ 2020-07-01T04:15:00   24.5333   83.0       21.6      4.29367    5.59369      1    100  23.0581         116.25\n",
       "   2 │ 2020-07-01T04:30:00   53.5333  219.867     32.6667  10.6363    12.4223       1    100  23.0581         112.5\n",
       "   3 │ 2020-07-01T04:45:00   61.1333  136.733     41.0667  18.2185    20.6691       1    100  23.0581         108.75\n",
       "   4 │ 2020-07-01T05:00:00  129.133   452.133     50.1333  26.0276    29.8758       1    100  23.0581         105.0\n",
       "   5 │ 2020-07-01T05:15:00  161.667   431.733     70.0     32.8272    39.7571       1    100  23.0581         101.25\n",
       "   6 │ 2020-07-01T05:30:00  224.4     498.333     97.9333  36.9614    50.1227       1    100  23.0581          97.5\n",
       "   7 │ 2020-07-01T05:45:00  201.333   223.467    132.267   42.8301    60.8323       1    100  23.0581          93.75\n",
       "   8 │ 2020-07-01T06:00:00  305.467   512.667    129.733   50.8196    71.7723       1    100  23.0581          90.0\n",
       "   9 │ 2020-07-01T06:15:00  242.467   199.133    159.267   59.8175    82.882        1    100  23.0581          86.25\n",
       "  10 │ 2020-07-01T06:30:00  336.733   336.733    198.667   68.2656    94.0734       1    100  23.0581          82.5\n",
       "  11 │ 2020-07-01T06:45:00  251.467    63.1333   219.667   76.6477   105.23         1    100  23.0581          78.75\n",
       "  12 │ 2020-07-01T07:00:00  216.0       7.66667  209.133   84.6839   116.278        1    100  23.0581          75.0\n",
       "  13 │ 2020-07-01T07:15:00  266.267    36.0      240.867   95.1376   127.152        1    100  23.0581          71.25"
      ]
     },
     "execution_count": 107,
     "metadata": {},
     "output_type": "execute_result"
    }
   ],
   "source": [
    "df_te = transform(df1, :time => ByRow(t->Dates.value(round(Time(12)-Time(t), Minute))*d_h))"
   ]
  },
  {
   "cell_type": "code",
   "execution_count": null,
   "id": "a6827472-6be3-451b-8c3b-0672d87d284b",
   "metadata": {},
   "outputs": [],
   "source": [
    "round(Time(12)-Time(t), Minute)"
   ]
  },
  {
   "cell_type": "code",
   "execution_count": null,
   "id": "52a79b77-3575-4a62-b9d6-687e2de9787f",
   "metadata": {},
   "outputs": [],
   "source": [
    "h_te = ByRow(round(Time(12)-Time(df1[row, 1]), Minute)*d_h)"
   ]
  },
  {
   "cell_type": "code",
   "execution_count": 84,
   "id": "0cbd2012-dde8-4934-b33e-16acca72093f",
   "metadata": {
    "execution": {
     "iopub.execute_input": "2021-07-29T09:27:48.840000+02:00",
     "iopub.status.busy": "2021-07-29T09:27:48.840000+02:00",
     "iopub.status.idle": "2021-07-29T09:27:48.841000+02:00",
     "shell.execute_reply": "2021-07-29T09:27:48.841000+02:00"
    }
   },
   "outputs": [
    {
     "data": {
      "text/plain": [
       "0.25"
      ]
     },
     "execution_count": 84,
     "metadata": {},
     "output_type": "execute_result"
    }
   ],
   "source": [
    "d_h = 15/60"
   ]
  },
  {
   "cell_type": "code",
   "execution_count": 53,
   "id": "5a6f1427-ebfa-4443-b4a6-25c49e46e8e7",
   "metadata": {
    "execution": {
     "iopub.execute_input": "2021-07-29T09:12:18.312000+02:00",
     "iopub.status.busy": "2021-07-29T09:12:18.311000+02:00",
     "iopub.status.idle": "2021-07-29T09:12:18.313000+02:00",
     "shell.execute_reply": "2021-07-29T09:12:18.312000+02:00"
    },
    "tags": []
   },
   "outputs": [
    {
     "data": {
      "text/plain": [
       "4"
      ]
     },
     "execution_count": 53,
     "metadata": {},
     "output_type": "execute_result"
    }
   ],
   "source": [
    "Dates.hour(df1[2,1]) "
   ]
  },
  {
   "cell_type": "code",
   "execution_count": 103,
   "id": "a5537674-c933-48f4-9f35-7398dfb981ae",
   "metadata": {
    "collapsed": true,
    "execution": {
     "iopub.execute_input": "2021-07-26T16:52:43.449000+02:00",
     "iopub.status.busy": "2021-07-26T16:52:43.449000+02:00",
     "iopub.status.idle": "2021-07-26T16:52:43.522000+02:00",
     "shell.execute_reply": "2021-07-26T16:52:43.522000+02:00"
    },
    "jupyter": {
     "outputs_hidden": true
    },
    "tags": []
   },
   "outputs": [
    {
     "data": {
      "text/html": [
       "<table class=\"data-frame\"><thead><tr><th></th><th>time</th><th>swd</th></tr><tr><th></th><th>DateTime</th><th>Float64?</th></tr></thead><tbody><p>2,976 rows × 2 columns</p><tr><th>1</th><td>2020-07-01T00:00:00</td><td><em>missing</em></td></tr><tr><th>2</th><td>2020-07-01T00:15:00</td><td>0.0</td></tr><tr><th>3</th><td>2020-07-01T00:30:00</td><td>0.0</td></tr><tr><th>4</th><td>2020-07-01T00:45:00</td><td>0.0</td></tr><tr><th>5</th><td>2020-07-01T01:00:00</td><td>0.0</td></tr><tr><th>6</th><td>2020-07-01T01:15:00</td><td>0.0</td></tr><tr><th>7</th><td>2020-07-01T01:30:00</td><td>0.0</td></tr><tr><th>8</th><td>2020-07-01T01:45:00</td><td>0.0</td></tr><tr><th>9</th><td>2020-07-01T02:00:00</td><td>0.0</td></tr><tr><th>10</th><td>2020-07-01T02:15:00</td><td>0.0</td></tr><tr><th>11</th><td>2020-07-01T02:30:00</td><td>0.0</td></tr><tr><th>12</th><td>2020-07-01T02:45:00</td><td>0.0</td></tr><tr><th>13</th><td>2020-07-01T03:00:00</td><td>0.0</td></tr><tr><th>14</th><td>2020-07-01T03:15:00</td><td>0.8</td></tr><tr><th>15</th><td>2020-07-01T03:30:00</td><td>5.0</td></tr><tr><th>16</th><td>2020-07-01T03:45:00</td><td>10.3333</td></tr><tr><th>17</th><td>2020-07-01T04:00:00</td><td>22.9333</td></tr><tr><th>18</th><td>2020-07-01T04:15:00</td><td>53.4667</td></tr><tr><th>19</th><td>2020-07-01T04:30:00</td><td>59.2</td></tr><tr><th>20</th><td>2020-07-01T04:45:00</td><td>123.533</td></tr><tr><th>21</th><td>2020-07-01T05:00:00</td><td>165.8</td></tr><tr><th>22</th><td>2020-07-01T05:15:00</td><td>210.467</td></tr><tr><th>23</th><td>2020-07-01T05:30:00</td><td>212.4</td></tr><tr><th>24</th><td>2020-07-01T05:45:00</td><td>287.333</td></tr><tr><th>25</th><td>2020-07-01T06:00:00</td><td>241.667</td></tr><tr><th>26</th><td>2020-07-01T06:15:00</td><td>348.933</td></tr><tr><th>27</th><td>2020-07-01T06:30:00</td><td>253.467</td></tr><tr><th>28</th><td>2020-07-01T06:45:00</td><td>212.267</td></tr><tr><th>29</th><td>2020-07-01T07:00:00</td><td>266.667</td></tr><tr><th>30</th><td>2020-07-01T07:15:00</td><td>274.133</td></tr><tr><th>&vellip;</th><td>&vellip;</td><td>&vellip;</td></tr></tbody></table>"
      ],
      "text/latex": [
       "\\begin{tabular}{r|cc}\n",
       "\t& time & swd\\\\\n",
       "\t\\hline\n",
       "\t& DateTime & Float64?\\\\\n",
       "\t\\hline\n",
       "\t1 & 2020-07-01T00:00:00 & \\emph{missing} \\\\\n",
       "\t2 & 2020-07-01T00:15:00 & 0.0 \\\\\n",
       "\t3 & 2020-07-01T00:30:00 & 0.0 \\\\\n",
       "\t4 & 2020-07-01T00:45:00 & 0.0 \\\\\n",
       "\t5 & 2020-07-01T01:00:00 & 0.0 \\\\\n",
       "\t6 & 2020-07-01T01:15:00 & 0.0 \\\\\n",
       "\t7 & 2020-07-01T01:30:00 & 0.0 \\\\\n",
       "\t8 & 2020-07-01T01:45:00 & 0.0 \\\\\n",
       "\t9 & 2020-07-01T02:00:00 & 0.0 \\\\\n",
       "\t10 & 2020-07-01T02:15:00 & 0.0 \\\\\n",
       "\t11 & 2020-07-01T02:30:00 & 0.0 \\\\\n",
       "\t12 & 2020-07-01T02:45:00 & 0.0 \\\\\n",
       "\t13 & 2020-07-01T03:00:00 & 0.0 \\\\\n",
       "\t14 & 2020-07-01T03:15:00 & 0.8 \\\\\n",
       "\t15 & 2020-07-01T03:30:00 & 5.0 \\\\\n",
       "\t16 & 2020-07-01T03:45:00 & 10.3333 \\\\\n",
       "\t17 & 2020-07-01T04:00:00 & 22.9333 \\\\\n",
       "\t18 & 2020-07-01T04:15:00 & 53.4667 \\\\\n",
       "\t19 & 2020-07-01T04:30:00 & 59.2 \\\\\n",
       "\t20 & 2020-07-01T04:45:00 & 123.533 \\\\\n",
       "\t21 & 2020-07-01T05:00:00 & 165.8 \\\\\n",
       "\t22 & 2020-07-01T05:15:00 & 210.467 \\\\\n",
       "\t23 & 2020-07-01T05:30:00 & 212.4 \\\\\n",
       "\t24 & 2020-07-01T05:45:00 & 287.333 \\\\\n",
       "\t25 & 2020-07-01T06:00:00 & 241.667 \\\\\n",
       "\t26 & 2020-07-01T06:15:00 & 348.933 \\\\\n",
       "\t27 & 2020-07-01T06:30:00 & 253.467 \\\\\n",
       "\t28 & 2020-07-01T06:45:00 & 212.267 \\\\\n",
       "\t29 & 2020-07-01T07:00:00 & 266.667 \\\\\n",
       "\t30 & 2020-07-01T07:15:00 & 274.133 \\\\\n",
       "\t$\\dots$ & $\\dots$ & $\\dots$ \\\\\n",
       "\\end{tabular}\n"
      ],
      "text/plain": [
       "\u001b[1m2976×2 DataFrame\u001b[0m\n",
       "\u001b[1m  Row \u001b[0m│\u001b[1m time                \u001b[0m\u001b[1m swd            \u001b[0m\n",
       "\u001b[1m      \u001b[0m│\u001b[90m DateTime            \u001b[0m\u001b[90m Float64?       \u001b[0m\n",
       "──────┼─────────────────────────────────────\n",
       "    1 │ 2020-07-01T00:00:00 \u001b[90m missing        \u001b[0m\n",
       "    2 │ 2020-07-01T00:15:00        0.0\n",
       "    3 │ 2020-07-01T00:30:00        0.0\n",
       "    4 │ 2020-07-01T00:45:00        0.0\n",
       "    5 │ 2020-07-01T01:00:00        0.0\n",
       "    6 │ 2020-07-01T01:15:00        0.0\n",
       "    7 │ 2020-07-01T01:30:00        0.0\n",
       "    8 │ 2020-07-01T01:45:00        0.0\n",
       "    9 │ 2020-07-01T02:00:00        0.0\n",
       "   10 │ 2020-07-01T02:15:00        0.0\n",
       "   11 │ 2020-07-01T02:30:00        0.0\n",
       "  ⋮   │          ⋮                 ⋮\n",
       " 2967 │ 2020-07-31T21:30:00        0.0\n",
       " 2968 │ 2020-07-31T21:45:00        0.0\n",
       " 2969 │ 2020-07-31T22:00:00        0.0\n",
       " 2970 │ 2020-07-31T22:15:00        0.0\n",
       " 2971 │ 2020-07-31T22:30:00        0.0\n",
       " 2972 │ 2020-07-31T22:45:00       -0.4\n",
       " 2973 │ 2020-07-31T23:00:00       -0.133333\n",
       " 2974 │ 2020-07-31T23:15:00        0.0\n",
       " 2975 │ 2020-07-31T23:30:00        0.0\n",
       " 2976 │ 2020-07-31T23:45:00 \u001b[90m missing        \u001b[0m\n",
       "\u001b[36m                           2955 rows omitted\u001b[0m"
      ]
     },
     "execution_count": 103,
     "metadata": {},
     "output_type": "execute_result"
    }
   ],
   "source": [
    "days_n = transform(jul, :time => ByRow(x->round(x, Dates.Minute(15), RoundDown)), renamecols=false)\n",
    "days_nn = combine(groupby(days_n, :time), :swd => mean, renamecols=false)"
   ]
  },
  {
   "cell_type": "code",
   "execution_count": 19,
   "id": "fa9d1f24-dc19-4925-9b26-4cf8e841bc8b",
   "metadata": {
    "execution": {
     "iopub.execute_input": "2021-07-29T08:58:16.888000+02:00",
     "iopub.status.busy": "2021-07-29T08:58:16.887000+02:00",
     "iopub.status.idle": "2021-07-29T08:58:17.014000+02:00",
     "shell.execute_reply": "2021-07-29T08:58:17.014000+02:00"
    },
    "tags": []
   },
   "outputs": [
    {
     "data": {
      "text/plain": [
       "cosSza (generic function with 1 method)"
      ]
     },
     "execution_count": 19,
     "metadata": {},
     "output_type": "execute_result"
    }
   ],
   "source": [
    "cosSza(δ, h; Φ) = sind(Φ)sind(δ) + cosd(Φ)cosd(δ)cosd(h)"
   ]
  },
  {
   "cell_type": "code",
   "execution_count": 122,
   "id": "f6ec8958-b881-46fe-b9c6-faf27478c927",
   "metadata": {
    "execution": {
     "iopub.execute_input": "2021-07-29T10:08:59.749000+02:00",
     "iopub.status.busy": "2021-07-29T10:08:59.749000+02:00",
     "iopub.status.idle": "2021-07-29T10:08:59.848000+02:00",
     "shell.execute_reply": "2021-07-29T10:08:59.848000+02:00"
    },
    "tags": []
   },
   "outputs": [
    {
     "data": {
      "text/html": [
       "<table class=\"data-frame\"><thead><tr><th></th><th>time</th><th>swd</th><th>dir</th><th>dif</th><th>ghi</th><th>ghiCS</th><th>day</th><th>te</th><th>sunDec</th><th>time_function</th><th>cosSza</th></tr><tr><th></th><th>DateTime</th><th>Float64?</th><th>Float64?</th><th>Float64?</th><th>Float64</th><th>Float64</th><th>Int64</th><th>Int64</th><th>Float64</th><th>Float64</th><th>Float64</th></tr></thead><tbody><p>13 rows × 11 columns</p><tr><th>1</th><td>2020-07-01T04:15:00</td><td>24.5333</td><td>83.0</td><td>21.6</td><td>4.29367</td><td>5.59369</td><td>1</td><td>100</td><td>23.0581</td><td>116.25</td><td>0.00708072</td></tr><tr><th>2</th><td>2020-07-01T04:30:00</td><td>53.5333</td><td>219.867</td><td>32.6667</td><td>10.6363</td><td>12.4223</td><td>1</td><td>100</td><td>23.0581</td><td>112.5</td><td>0.044613</td></tr><tr><th>3</th><td>2020-07-01T04:45:00</td><td>61.1333</td><td>136.733</td><td>41.0667</td><td>18.2185</td><td>20.6691</td><td>1</td><td>100</td><td>23.0581</td><td>108.75</td><td>0.0831772</td></tr><tr><th>4</th><td>2020-07-01T05:00:00</td><td>129.133</td><td>452.133</td><td>50.1333</td><td>26.0276</td><td>29.8758</td><td>1</td><td>100</td><td>23.0581</td><td>105.0</td><td>0.122608</td></tr><tr><th>5</th><td>2020-07-01T05:15:00</td><td>161.667</td><td>431.733</td><td>70.0</td><td>32.8272</td><td>39.7571</td><td>1</td><td>100</td><td>23.0581</td><td>101.25</td><td>0.162737</td></tr><tr><th>6</th><td>2020-07-01T05:30:00</td><td>224.4</td><td>498.333</td><td>97.9333</td><td>36.9614</td><td>50.1227</td><td>1</td><td>100</td><td>23.0581</td><td>97.5</td><td>0.203392</td></tr><tr><th>7</th><td>2020-07-01T05:45:00</td><td>201.333</td><td>223.467</td><td>132.267</td><td>42.8301</td><td>60.8323</td><td>1</td><td>100</td><td>23.0581</td><td>93.75</td><td>0.244399</td></tr><tr><th>8</th><td>2020-07-01T06:00:00</td><td>305.467</td><td>512.667</td><td>129.733</td><td>50.8196</td><td>71.7723</td><td>1</td><td>100</td><td>23.0581</td><td>90.0</td><td>0.285582</td></tr><tr><th>9</th><td>2020-07-01T06:15:00</td><td>242.467</td><td>199.133</td><td>159.267</td><td>59.8175</td><td>82.882</td><td>1</td><td>100</td><td>23.0581</td><td>86.25</td><td>0.326765</td></tr><tr><th>10</th><td>2020-07-01T06:30:00</td><td>336.733</td><td>336.733</td><td>198.667</td><td>68.2656</td><td>94.0734</td><td>1</td><td>100</td><td>23.0581</td><td>82.5</td><td>0.367772</td></tr><tr><th>11</th><td>2020-07-01T06:45:00</td><td>251.467</td><td>63.1333</td><td>219.667</td><td>76.6477</td><td>105.23</td><td>1</td><td>100</td><td>23.0581</td><td>78.75</td><td>0.408427</td></tr><tr><th>12</th><td>2020-07-01T07:00:00</td><td>216.0</td><td>7.66667</td><td>209.133</td><td>84.6839</td><td>116.278</td><td>1</td><td>100</td><td>23.0581</td><td>75.0</td><td>0.448555</td></tr><tr><th>13</th><td>2020-07-01T07:15:00</td><td>266.267</td><td>36.0</td><td>240.867</td><td>95.1376</td><td>127.152</td><td>1</td><td>100</td><td>23.0581</td><td>71.25</td><td>0.487986</td></tr></tbody></table>"
      ],
      "text/latex": [
       "\\begin{tabular}{r|ccccccccccc}\n",
       "\t& time & swd & dir & dif & ghi & ghiCS & day & te & sunDec & time\\_function & cosSza\\\\\n",
       "\t\\hline\n",
       "\t& DateTime & Float64? & Float64? & Float64? & Float64 & Float64 & Int64 & Int64 & Float64 & Float64 & Float64\\\\\n",
       "\t\\hline\n",
       "\t1 & 2020-07-01T04:15:00 & 24.5333 & 83.0 & 21.6 & 4.29367 & 5.59369 & 1 & 100 & 23.0581 & 116.25 & 0.00708072 \\\\\n",
       "\t2 & 2020-07-01T04:30:00 & 53.5333 & 219.867 & 32.6667 & 10.6363 & 12.4223 & 1 & 100 & 23.0581 & 112.5 & 0.044613 \\\\\n",
       "\t3 & 2020-07-01T04:45:00 & 61.1333 & 136.733 & 41.0667 & 18.2185 & 20.6691 & 1 & 100 & 23.0581 & 108.75 & 0.0831772 \\\\\n",
       "\t4 & 2020-07-01T05:00:00 & 129.133 & 452.133 & 50.1333 & 26.0276 & 29.8758 & 1 & 100 & 23.0581 & 105.0 & 0.122608 \\\\\n",
       "\t5 & 2020-07-01T05:15:00 & 161.667 & 431.733 & 70.0 & 32.8272 & 39.7571 & 1 & 100 & 23.0581 & 101.25 & 0.162737 \\\\\n",
       "\t6 & 2020-07-01T05:30:00 & 224.4 & 498.333 & 97.9333 & 36.9614 & 50.1227 & 1 & 100 & 23.0581 & 97.5 & 0.203392 \\\\\n",
       "\t7 & 2020-07-01T05:45:00 & 201.333 & 223.467 & 132.267 & 42.8301 & 60.8323 & 1 & 100 & 23.0581 & 93.75 & 0.244399 \\\\\n",
       "\t8 & 2020-07-01T06:00:00 & 305.467 & 512.667 & 129.733 & 50.8196 & 71.7723 & 1 & 100 & 23.0581 & 90.0 & 0.285582 \\\\\n",
       "\t9 & 2020-07-01T06:15:00 & 242.467 & 199.133 & 159.267 & 59.8175 & 82.882 & 1 & 100 & 23.0581 & 86.25 & 0.326765 \\\\\n",
       "\t10 & 2020-07-01T06:30:00 & 336.733 & 336.733 & 198.667 & 68.2656 & 94.0734 & 1 & 100 & 23.0581 & 82.5 & 0.367772 \\\\\n",
       "\t11 & 2020-07-01T06:45:00 & 251.467 & 63.1333 & 219.667 & 76.6477 & 105.23 & 1 & 100 & 23.0581 & 78.75 & 0.408427 \\\\\n",
       "\t12 & 2020-07-01T07:00:00 & 216.0 & 7.66667 & 209.133 & 84.6839 & 116.278 & 1 & 100 & 23.0581 & 75.0 & 0.448555 \\\\\n",
       "\t13 & 2020-07-01T07:15:00 & 266.267 & 36.0 & 240.867 & 95.1376 & 127.152 & 1 & 100 & 23.0581 & 71.25 & 0.487986 \\\\\n",
       "\\end{tabular}\n"
      ],
      "text/plain": [
       "\u001b[1m13×11 DataFrame\u001b[0m\n",
       "\u001b[1m Row \u001b[0m│\u001b[1m time                \u001b[0m\u001b[1m swd      \u001b[0m\u001b[1m dir       \u001b[0m\u001b[1m dif      \u001b[0m\u001b[1m ghi      \u001b[0m\u001b[1m ghiCS     \u001b[0m\u001b[1m day   \u001b[0m\u001b[1m te    \u001b[0m\u001b[1m sunDec  \u001b[0m\u001b[1m time_function \u001b[0m\u001b[1m cosSza     \u001b[0m\n",
       "\u001b[1m     \u001b[0m│\u001b[90m DateTime            \u001b[0m\u001b[90m Float64? \u001b[0m\u001b[90m Float64?  \u001b[0m\u001b[90m Float64? \u001b[0m\u001b[90m Float64  \u001b[0m\u001b[90m Float64   \u001b[0m\u001b[90m Int64 \u001b[0m\u001b[90m Int64 \u001b[0m\u001b[90m Float64 \u001b[0m\u001b[90m Float64       \u001b[0m\u001b[90m Float64    \u001b[0m\n",
       "─────┼───────────────────────────────────────────────────────────────────────────────────────────────────────────────────────────\n",
       "   1 │ 2020-07-01T04:15:00   24.5333   83.0       21.6      4.29367    5.59369      1    100  23.0581         116.25  0.00708072\n",
       "   2 │ 2020-07-01T04:30:00   53.5333  219.867     32.6667  10.6363    12.4223       1    100  23.0581         112.5   0.044613\n",
       "   3 │ 2020-07-01T04:45:00   61.1333  136.733     41.0667  18.2185    20.6691       1    100  23.0581         108.75  0.0831772\n",
       "   4 │ 2020-07-01T05:00:00  129.133   452.133     50.1333  26.0276    29.8758       1    100  23.0581         105.0   0.122608\n",
       "   5 │ 2020-07-01T05:15:00  161.667   431.733     70.0     32.8272    39.7571       1    100  23.0581         101.25  0.162737\n",
       "   6 │ 2020-07-01T05:30:00  224.4     498.333     97.9333  36.9614    50.1227       1    100  23.0581          97.5   0.203392\n",
       "   7 │ 2020-07-01T05:45:00  201.333   223.467    132.267   42.8301    60.8323       1    100  23.0581          93.75  0.244399\n",
       "   8 │ 2020-07-01T06:00:00  305.467   512.667    129.733   50.8196    71.7723       1    100  23.0581          90.0   0.285582\n",
       "   9 │ 2020-07-01T06:15:00  242.467   199.133    159.267   59.8175    82.882        1    100  23.0581          86.25  0.326765\n",
       "  10 │ 2020-07-01T06:30:00  336.733   336.733    198.667   68.2656    94.0734       1    100  23.0581          82.5   0.367772\n",
       "  11 │ 2020-07-01T06:45:00  251.467    63.1333   219.667   76.6477   105.23         1    100  23.0581          78.75  0.408427\n",
       "  12 │ 2020-07-01T07:00:00  216.0       7.66667  209.133   84.6839   116.278        1    100  23.0581          75.0   0.448555\n",
       "  13 │ 2020-07-01T07:15:00  266.267    36.0      240.867   95.1376   127.152        1    100  23.0581          71.25  0.487986"
      ]
     },
     "execution_count": 122,
     "metadata": {},
     "output_type": "execute_result"
    }
   ],
   "source": [
    "df_te = transform(df_te, [:sunDec, :time_function] => ByRow((δ, h) -> sind(Φ)sind(δ) + cosd(Φ)cosd(δ)cosd(h)) => :cosSza)"
   ]
  },
  {
   "cell_type": "code",
   "execution_count": 125,
   "id": "5db2e3d7-f8ae-40bd-ac03-e6b146944e0e",
   "metadata": {
    "collapsed": true,
    "execution": {
     "iopub.execute_input": "2021-07-29T10:10:21.315000+02:00",
     "iopub.status.busy": "2021-07-29T10:10:21.315000+02:00",
     "iopub.status.idle": "2021-07-29T10:10:21.547000+02:00",
     "shell.execute_reply": "2021-07-29T10:10:21.547000+02:00"
    },
    "jupyter": {
     "outputs_hidden": true
    },
    "tags": []
   },
   "outputs": [
    {
     "data": {
      "text/html": [
       "<table class=\"data-frame\"><thead><tr><th></th><th>time</th><th>swd</th><th>dir</th><th>dif</th><th>ghi</th><th>ghiCS</th><th>day</th><th>te</th><th>sunDec</th><th>time_function</th><th>cosSza</th><th>ghi_new</th></tr><tr><th></th><th>DateTime</th><th>Float64?</th><th>Float64?</th><th>Float64?</th><th>Float64</th><th>Float64</th><th>Int64</th><th>Int64</th><th>Float64</th><th>Float64</th><th>Float64</th><th>Float64</th></tr></thead><tbody><p>13 rows × 12 columns</p><tr><th>1</th><td>2020-07-01T04:15:00</td><td>24.5333</td><td>83.0</td><td>21.6</td><td>4.29367</td><td>5.59369</td><td>1</td><td>100</td><td>23.0581</td><td>116.25</td><td>0.00708072</td><td>22.1877</td></tr><tr><th>2</th><td>2020-07-01T04:30:00</td><td>53.5333</td><td>219.867</td><td>32.6667</td><td>10.6363</td><td>12.4223</td><td>1</td><td>100</td><td>23.0581</td><td>112.5</td><td>0.044613</td><td>42.4756</td></tr><tr><th>3</th><td>2020-07-01T04:45:00</td><td>61.1333</td><td>136.733</td><td>41.0667</td><td>18.2185</td><td>20.6691</td><td>1</td><td>100</td><td>23.0581</td><td>108.75</td><td>0.0831772</td><td>52.4398</td></tr><tr><th>4</th><td>2020-07-01T05:00:00</td><td>129.133</td><td>452.133</td><td>50.1333</td><td>26.0276</td><td>29.8758</td><td>1</td><td>100</td><td>23.0581</td><td>105.0</td><td>0.122608</td><td>105.569</td></tr><tr><th>5</th><td>2020-07-01T05:15:00</td><td>161.667</td><td>431.733</td><td>70.0</td><td>32.8272</td><td>39.7571</td><td>1</td><td>100</td><td>23.0581</td><td>101.25</td><td>0.162737</td><td>140.259</td></tr><tr><th>6</th><td>2020-07-01T05:30:00</td><td>224.4</td><td>498.333</td><td>97.9333</td><td>36.9614</td><td>50.1227</td><td>1</td><td>100</td><td>23.0581</td><td>97.5</td><td>0.203392</td><td>199.29</td></tr><tr><th>7</th><td>2020-07-01T05:45:00</td><td>201.333</td><td>223.467</td><td>132.267</td><td>42.8301</td><td>60.8323</td><td>1</td><td>100</td><td>23.0581</td><td>93.75</td><td>0.244399</td><td>186.882</td></tr><tr><th>8</th><td>2020-07-01T06:00:00</td><td>305.467</td><td>512.667</td><td>129.733</td><td>50.8196</td><td>71.7723</td><td>1</td><td>100</td><td>23.0581</td><td>90.0</td><td>0.285582</td><td>276.142</td></tr><tr><th>9</th><td>2020-07-01T06:15:00</td><td>242.467</td><td>199.133</td><td>159.267</td><td>59.8175</td><td>82.882</td><td>1</td><td>100</td><td>23.0581</td><td>86.25</td><td>0.326765</td><td>224.336</td></tr><tr><th>10</th><td>2020-07-01T06:30:00</td><td>336.733</td><td>336.733</td><td>198.667</td><td>68.2656</td><td>94.0734</td><td>1</td><td>100</td><td>23.0581</td><td>82.5</td><td>0.367772</td><td>322.508</td></tr><tr><th>11</th><td>2020-07-01T06:45:00</td><td>251.467</td><td>63.1333</td><td>219.667</td><td>76.6477</td><td>105.23</td><td>1</td><td>100</td><td>23.0581</td><td>78.75</td><td>0.408427</td><td>245.452</td></tr><tr><th>12</th><td>2020-07-01T07:00:00</td><td>216.0</td><td>7.66667</td><td>209.133</td><td>84.6839</td><td>116.278</td><td>1</td><td>100</td><td>23.0581</td><td>75.0</td><td>0.448555</td><td>212.572</td></tr><tr><th>13</th><td>2020-07-01T07:15:00</td><td>266.267</td><td>36.0</td><td>240.867</td><td>95.1376</td><td>127.152</td><td>1</td><td>100</td><td>23.0581</td><td>71.25</td><td>0.487986</td><td>258.434</td></tr></tbody></table>"
      ],
      "text/latex": [
       "\\begin{tabular}{r|cccccccccccc}\n",
       "\t& time & swd & dir & dif & ghi & ghiCS & day & te & sunDec & time\\_function & cosSza & ghi\\_new\\\\\n",
       "\t\\hline\n",
       "\t& DateTime & Float64? & Float64? & Float64? & Float64 & Float64 & Int64 & Int64 & Float64 & Float64 & Float64 & Float64\\\\\n",
       "\t\\hline\n",
       "\t1 & 2020-07-01T04:15:00 & 24.5333 & 83.0 & 21.6 & 4.29367 & 5.59369 & 1 & 100 & 23.0581 & 116.25 & 0.00708072 & 22.1877 \\\\\n",
       "\t2 & 2020-07-01T04:30:00 & 53.5333 & 219.867 & 32.6667 & 10.6363 & 12.4223 & 1 & 100 & 23.0581 & 112.5 & 0.044613 & 42.4756 \\\\\n",
       "\t3 & 2020-07-01T04:45:00 & 61.1333 & 136.733 & 41.0667 & 18.2185 & 20.6691 & 1 & 100 & 23.0581 & 108.75 & 0.0831772 & 52.4398 \\\\\n",
       "\t4 & 2020-07-01T05:00:00 & 129.133 & 452.133 & 50.1333 & 26.0276 & 29.8758 & 1 & 100 & 23.0581 & 105.0 & 0.122608 & 105.569 \\\\\n",
       "\t5 & 2020-07-01T05:15:00 & 161.667 & 431.733 & 70.0 & 32.8272 & 39.7571 & 1 & 100 & 23.0581 & 101.25 & 0.162737 & 140.259 \\\\\n",
       "\t6 & 2020-07-01T05:30:00 & 224.4 & 498.333 & 97.9333 & 36.9614 & 50.1227 & 1 & 100 & 23.0581 & 97.5 & 0.203392 & 199.29 \\\\\n",
       "\t7 & 2020-07-01T05:45:00 & 201.333 & 223.467 & 132.267 & 42.8301 & 60.8323 & 1 & 100 & 23.0581 & 93.75 & 0.244399 & 186.882 \\\\\n",
       "\t8 & 2020-07-01T06:00:00 & 305.467 & 512.667 & 129.733 & 50.8196 & 71.7723 & 1 & 100 & 23.0581 & 90.0 & 0.285582 & 276.142 \\\\\n",
       "\t9 & 2020-07-01T06:15:00 & 242.467 & 199.133 & 159.267 & 59.8175 & 82.882 & 1 & 100 & 23.0581 & 86.25 & 0.326765 & 224.336 \\\\\n",
       "\t10 & 2020-07-01T06:30:00 & 336.733 & 336.733 & 198.667 & 68.2656 & 94.0734 & 1 & 100 & 23.0581 & 82.5 & 0.367772 & 322.508 \\\\\n",
       "\t11 & 2020-07-01T06:45:00 & 251.467 & 63.1333 & 219.667 & 76.6477 & 105.23 & 1 & 100 & 23.0581 & 78.75 & 0.408427 & 245.452 \\\\\n",
       "\t12 & 2020-07-01T07:00:00 & 216.0 & 7.66667 & 209.133 & 84.6839 & 116.278 & 1 & 100 & 23.0581 & 75.0 & 0.448555 & 212.572 \\\\\n",
       "\t13 & 2020-07-01T07:15:00 & 266.267 & 36.0 & 240.867 & 95.1376 & 127.152 & 1 & 100 & 23.0581 & 71.25 & 0.487986 & 258.434 \\\\\n",
       "\\end{tabular}\n"
      ],
      "text/plain": [
       "\u001b[1m13×12 DataFrame\u001b[0m\n",
       "\u001b[1m Row \u001b[0m│\u001b[1m time                \u001b[0m\u001b[1m swd      \u001b[0m\u001b[1m dir       \u001b[0m\u001b[1m dif      \u001b[0m\u001b[1m ghi      \u001b[0m\u001b[1m ghiCS     \u001b[0m\u001b[1m day   \u001b[0m\u001b[1m te    \u001b[0m\u001b[1m sunDec  \u001b[0m\u001b[1m time_function \u001b[0m\u001b[1m cosSza     \u001b[0m\u001b[1m ghi_new  \u001b[0m\n",
       "\u001b[1m     \u001b[0m│\u001b[90m DateTime            \u001b[0m\u001b[90m Float64? \u001b[0m\u001b[90m Float64?  \u001b[0m\u001b[90m Float64? \u001b[0m\u001b[90m Float64  \u001b[0m\u001b[90m Float64   \u001b[0m\u001b[90m Int64 \u001b[0m\u001b[90m Int64 \u001b[0m\u001b[90m Float64 \u001b[0m\u001b[90m Float64       \u001b[0m\u001b[90m Float64    \u001b[0m\u001b[90m Float64  \u001b[0m\n",
       "─────┼─────────────────────────────────────────────────────────────────────────────────────────────────────────────────────────────────────\n",
       "   1 │ 2020-07-01T04:15:00   24.5333   83.0       21.6      4.29367    5.59369      1    100  23.0581         116.25  0.00708072   22.1877\n",
       "   2 │ 2020-07-01T04:30:00   53.5333  219.867     32.6667  10.6363    12.4223       1    100  23.0581         112.5   0.044613     42.4756\n",
       "   3 │ 2020-07-01T04:45:00   61.1333  136.733     41.0667  18.2185    20.6691       1    100  23.0581         108.75  0.0831772    52.4398\n",
       "   4 │ 2020-07-01T05:00:00  129.133   452.133     50.1333  26.0276    29.8758       1    100  23.0581         105.0   0.122608    105.569\n",
       "   5 │ 2020-07-01T05:15:00  161.667   431.733     70.0     32.8272    39.7571       1    100  23.0581         101.25  0.162737    140.259\n",
       "   6 │ 2020-07-01T05:30:00  224.4     498.333     97.9333  36.9614    50.1227       1    100  23.0581          97.5   0.203392    199.29\n",
       "   7 │ 2020-07-01T05:45:00  201.333   223.467    132.267   42.8301    60.8323       1    100  23.0581          93.75  0.244399    186.882\n",
       "   8 │ 2020-07-01T06:00:00  305.467   512.667    129.733   50.8196    71.7723       1    100  23.0581          90.0   0.285582    276.142\n",
       "   9 │ 2020-07-01T06:15:00  242.467   199.133    159.267   59.8175    82.882        1    100  23.0581          86.25  0.326765    224.336\n",
       "  10 │ 2020-07-01T06:30:00  336.733   336.733    198.667   68.2656    94.0734       1    100  23.0581          82.5   0.367772    322.508\n",
       "  11 │ 2020-07-01T06:45:00  251.467    63.1333   219.667   76.6477   105.23         1    100  23.0581          78.75  0.408427    245.452\n",
       "  12 │ 2020-07-01T07:00:00  216.0       7.66667  209.133   84.6839   116.278        1    100  23.0581          75.0   0.448555    212.572\n",
       "  13 │ 2020-07-01T07:15:00  266.267    36.0      240.867   95.1376   127.152        1    100  23.0581          71.25  0.487986    258.434"
      ]
     },
     "execution_count": 125,
     "metadata": {},
     "output_type": "execute_result"
    }
   ],
   "source": [
    "df1 = transform(df_te, [:dir, :dif, :cosSza] => ByRow( (dni, dhi, c) -> dhi + dni*c ) => :ghi_new)"
   ]
  },
  {
   "cell_type": "code",
   "execution_count": 126,
   "id": "b54f5ffd-000b-4b88-9917-59a7240939c3",
   "metadata": {
    "execution": {
     "iopub.execute_input": "2021-07-29T10:10:28.018000+02:00",
     "iopub.status.busy": "2021-07-29T10:10:28.018000+02:00",
     "iopub.status.idle": "2021-07-29T10:10:28.028000+02:00",
     "shell.execute_reply": "2021-07-29T10:10:28.028000+02:00"
    },
    "tags": []
   },
   "outputs": [
    {
     "data": {
      "text/html": [
       "<table class=\"data-frame\"><thead><tr><th></th><th>swd</th><th>ghi_new</th><th>ghi</th><th>ghiCS</th></tr><tr><th></th><th>Float64?</th><th>Float64</th><th>Float64</th><th>Float64</th></tr></thead><tbody><p>13 rows × 4 columns</p><tr><th>1</th><td>24.5333</td><td>22.1877</td><td>4.29367</td><td>5.59369</td></tr><tr><th>2</th><td>53.5333</td><td>42.4756</td><td>10.6363</td><td>12.4223</td></tr><tr><th>3</th><td>61.1333</td><td>52.4398</td><td>18.2185</td><td>20.6691</td></tr><tr><th>4</th><td>129.133</td><td>105.569</td><td>26.0276</td><td>29.8758</td></tr><tr><th>5</th><td>161.667</td><td>140.259</td><td>32.8272</td><td>39.7571</td></tr><tr><th>6</th><td>224.4</td><td>199.29</td><td>36.9614</td><td>50.1227</td></tr><tr><th>7</th><td>201.333</td><td>186.882</td><td>42.8301</td><td>60.8323</td></tr><tr><th>8</th><td>305.467</td><td>276.142</td><td>50.8196</td><td>71.7723</td></tr><tr><th>9</th><td>242.467</td><td>224.336</td><td>59.8175</td><td>82.882</td></tr><tr><th>10</th><td>336.733</td><td>322.508</td><td>68.2656</td><td>94.0734</td></tr><tr><th>11</th><td>251.467</td><td>245.452</td><td>76.6477</td><td>105.23</td></tr><tr><th>12</th><td>216.0</td><td>212.572</td><td>84.6839</td><td>116.278</td></tr><tr><th>13</th><td>266.267</td><td>258.434</td><td>95.1376</td><td>127.152</td></tr></tbody></table>"
      ],
      "text/latex": [
       "\\begin{tabular}{r|cccc}\n",
       "\t& swd & ghi\\_new & ghi & ghiCS\\\\\n",
       "\t\\hline\n",
       "\t& Float64? & Float64 & Float64 & Float64\\\\\n",
       "\t\\hline\n",
       "\t1 & 24.5333 & 22.1877 & 4.29367 & 5.59369 \\\\\n",
       "\t2 & 53.5333 & 42.4756 & 10.6363 & 12.4223 \\\\\n",
       "\t3 & 61.1333 & 52.4398 & 18.2185 & 20.6691 \\\\\n",
       "\t4 & 129.133 & 105.569 & 26.0276 & 29.8758 \\\\\n",
       "\t5 & 161.667 & 140.259 & 32.8272 & 39.7571 \\\\\n",
       "\t6 & 224.4 & 199.29 & 36.9614 & 50.1227 \\\\\n",
       "\t7 & 201.333 & 186.882 & 42.8301 & 60.8323 \\\\\n",
       "\t8 & 305.467 & 276.142 & 50.8196 & 71.7723 \\\\\n",
       "\t9 & 242.467 & 224.336 & 59.8175 & 82.882 \\\\\n",
       "\t10 & 336.733 & 322.508 & 68.2656 & 94.0734 \\\\\n",
       "\t11 & 251.467 & 245.452 & 76.6477 & 105.23 \\\\\n",
       "\t12 & 216.0 & 212.572 & 84.6839 & 116.278 \\\\\n",
       "\t13 & 266.267 & 258.434 & 95.1376 & 127.152 \\\\\n",
       "\\end{tabular}\n"
      ],
      "text/plain": [
       "\u001b[1m13×4 DataFrame\u001b[0m\n",
       "\u001b[1m Row \u001b[0m│\u001b[1m swd      \u001b[0m\u001b[1m ghi_new  \u001b[0m\u001b[1m ghi      \u001b[0m\u001b[1m ghiCS     \u001b[0m\n",
       "\u001b[1m     \u001b[0m│\u001b[90m Float64? \u001b[0m\u001b[90m Float64  \u001b[0m\u001b[90m Float64  \u001b[0m\u001b[90m Float64   \u001b[0m\n",
       "─────┼─────────────────────────────────────────\n",
       "   1 │  24.5333   22.1877   4.29367    5.59369\n",
       "   2 │  53.5333   42.4756  10.6363    12.4223\n",
       "   3 │  61.1333   52.4398  18.2185    20.6691\n",
       "   4 │ 129.133   105.569   26.0276    29.8758\n",
       "   5 │ 161.667   140.259   32.8272    39.7571\n",
       "   6 │ 224.4     199.29    36.9614    50.1227\n",
       "   7 │ 201.333   186.882   42.8301    60.8323\n",
       "   8 │ 305.467   276.142   50.8196    71.7723\n",
       "   9 │ 242.467   224.336   59.8175    82.882\n",
       "  10 │ 336.733   322.508   68.2656    94.0734\n",
       "  11 │ 251.467   245.452   76.6477   105.23\n",
       "  12 │ 216.0     212.572   84.6839   116.278\n",
       "  13 │ 266.267   258.434   95.1376   127.152"
      ]
     },
     "execution_count": 126,
     "metadata": {},
     "output_type": "execute_result"
    }
   ],
   "source": [
    "df2 = select(df1, [:swd, :ghi_new, :ghi, :ghiCS])"
   ]
  },
  {
   "cell_type": "code",
   "execution_count": 127,
   "id": "ff9aedfe-c968-486e-b37e-33a950f1a9a1",
   "metadata": {
    "collapsed": true,
    "execution": {
     "iopub.execute_input": "2021-07-29T10:12:03.403000+02:00",
     "iopub.status.busy": "2021-07-29T10:12:03.402000+02:00",
     "iopub.status.idle": "2021-07-29T10:12:03.501000+02:00",
     "shell.execute_reply": "2021-07-29T10:12:03.501000+02:00"
    },
    "jupyter": {
     "outputs_hidden": true
    },
    "tags": []
   },
   "outputs": [
    {
     "data": {
      "text/plain": [
       "13-element Vector{Float64}:\n",
       " 5.167537002181118\n",
       " 3.9934531419002766\n",
       " 2.8783837310259925\n",
       " 4.056027467584624\n",
       " 4.272647299356086\n",
       " 5.391843156216257\n",
       " 4.363328655042332\n",
       " 5.433759322807086\n",
       " 3.7503506736392263\n",
       " 4.724304715448172\n",
       " 3.202338495979738\n",
       " 2.510184376346495\n",
       " 2.7164255006672926"
      ]
     },
     "execution_count": 127,
     "metadata": {},
     "output_type": "execute_result"
    }
   ],
   "source": [
    "df2.ratio = df2.ghi_new ./ df2.ghi"
   ]
  },
  {
   "cell_type": "markdown",
   "id": "1dd4cf5b-53ee-4241-8f0e-8eb4b732f2d5",
   "metadata": {},
   "source": [
    "### solarData"
   ]
  },
  {
   "cell_type": "code",
   "execution_count": 4,
   "id": "26f64164-2d9b-4b52-888a-3f6ba0a4bb6b",
   "metadata": {
    "execution": {
     "iopub.execute_input": "2021-07-30T09:05:24.864000+02:00",
     "iopub.status.busy": "2021-07-30T09:05:18.149000+02:00",
     "iopub.status.idle": "2021-07-30T09:05:25.523000+02:00",
     "shell.execute_reply": "2021-07-30T09:05:25.522000+02:00"
    },
    "tags": []
   },
   "outputs": [
    {
     "data": {
      "text/plain": [
       "\"data\\\\te.csv\""
      ]
     },
     "execution_count": 4,
     "metadata": {},
     "output_type": "execute_result"
    }
   ],
   "source": [
    "fn = joinpath(\"data\", \"te.csv\")"
   ]
  },
  {
   "cell_type": "code",
   "execution_count": 4,
   "id": "c8f5b3b0-70e8-41a3-b0ad-eb15ac54e512",
   "metadata": {
    "execution": {
     "iopub.execute_input": "2021-07-29T08:54:39.545000+02:00",
     "iopub.status.busy": "2021-07-29T08:54:39.544000+02:00",
     "iopub.status.idle": "2021-07-29T08:54:39.918000+02:00",
     "shell.execute_reply": "2021-07-29T08:54:39.918000+02:00"
    }
   },
   "outputs": [
    {
     "data": {
      "text/plain": [
       "\"data\\\\PAY_radiation_2020-07.tab\""
      ]
     },
     "execution_count": 4,
     "metadata": {},
     "output_type": "execute_result"
    }
   ],
   "source": [
    "fn = joinpath(\"data\", fnam)"
   ]
  },
  {
   "cell_type": "code",
   "execution_count": 5,
   "id": "745549f5-602e-46e1-a1b7-7830e01ba757",
   "metadata": {
    "execution": {
     "iopub.execute_input": "2021-07-30T09:05:28.697000+02:00",
     "iopub.status.busy": "2021-07-30T09:05:28.697000+02:00",
     "iopub.status.idle": "2021-07-30T09:05:47.960000+02:00",
     "shell.execute_reply": "2021-07-30T09:05:47.959000+02:00"
    },
    "scrolled": true,
    "tags": []
   },
   "outputs": [
    {
     "data": {
      "text/html": [
       "<table class=\"data-frame\"><thead><tr><th></th><th>Time</th><th>dw_solar</th><th>direct_n</th><th>diffuse</th><th>dw_longwave</th><th>temp</th><th>rh</th><th>pressure</th><th>zen</th><th>Ics</th><th>Icsb</th><th>Icsd</th><th>Ioh</th></tr><tr><th></th><th>String</th><th>String</th><th>String</th><th>String</th><th>String</th><th>Float64</th><th>Float64</th><th>Float64</th><th>Float64</th><th>Float64</th><th>Float64</th><th>Float64</th><th>Float64</th></tr></thead><tbody><p>2,977 rows × 13 columns</p><tr><th>1</th><td>2020-07-01 00:00:00</td><td>NA</td><td>NA</td><td>NA</td><td>NA</td><td>16.6</td><td>93.2</td><td>957.0</td><td>109.898</td><td>0.0</td><td>0.0</td><td>0.0</td><td>0.0</td></tr><tr><th>2</th><td>2020-07-01 00:15:00</td><td>0</td><td>0</td><td>0</td><td>337</td><td>16.4267</td><td>93.32</td><td>957.0</td><td>109.732</td><td>0.0</td><td>0.0</td><td>0.0</td><td>0.0</td></tr><tr><th>3</th><td>2020-07-01 00:30:00</td><td>0</td><td>0</td><td>0</td><td>337</td><td>16.2867</td><td>93.66</td><td>957.0</td><td>109.31</td><td>0.0</td><td>0.0</td><td>0.0</td><td>0.0</td></tr><tr><th>4</th><td>2020-07-01 00:45:00</td><td>0</td><td>0</td><td>0</td><td>336.333333333333</td><td>16.3467</td><td>93.7867</td><td>957.0</td><td>108.729</td><td>0.0</td><td>0.0</td><td>0.0</td><td>0.0</td></tr><tr><th>5</th><td>2020-07-01 01:00:00</td><td>0</td><td>0</td><td>0</td><td>336</td><td>16.2733</td><td>92.6733</td><td>957.0</td><td>107.994</td><td>0.0</td><td>0.0</td><td>0.0</td><td>0.0</td></tr><tr><th>6</th><td>2020-07-01 01:15:00</td><td>0</td><td>0</td><td>0</td><td>334.533333333333</td><td>16.0</td><td>92.6467</td><td>957.0</td><td>107.109</td><td>0.0</td><td>0.0</td><td>0.0</td><td>0.0</td></tr><tr><th>7</th><td>2020-07-01 01:30:00</td><td>0</td><td>0</td><td>0</td><td>333.466666666667</td><td>15.7133</td><td>93.6667</td><td>957.0</td><td>106.08</td><td>0.0</td><td>0.0</td><td>0.0</td><td>0.0</td></tr><tr><th>8</th><td>2020-07-01 01:45:00</td><td>0</td><td>0</td><td>0</td><td>333.066666666667</td><td>15.3333</td><td>94.9933</td><td>957.0</td><td>104.913</td><td>0.0</td><td>0.0</td><td>0.0</td><td>0.0</td></tr><tr><th>9</th><td>2020-07-01 02:00:00</td><td>0</td><td>0</td><td>0</td><td>334.666666666667</td><td>15.02</td><td>95.9267</td><td>957.0</td><td>103.615</td><td>0.0</td><td>0.0</td><td>0.0</td><td>0.0</td></tr><tr><th>10</th><td>2020-07-01 02:15:00</td><td>0</td><td>0</td><td>0</td><td>344</td><td>14.8</td><td>96.9267</td><td>956.867</td><td>102.194</td><td>0.0</td><td>0.0</td><td>0.0</td><td>0.0</td></tr><tr><th>11</th><td>2020-07-01 02:30:00</td><td>0</td><td>0</td><td>0</td><td>334.866666666667</td><td>14.6533</td><td>98.0667</td><td>956.733</td><td>100.657</td><td>0.0</td><td>0.0</td><td>0.0</td><td>0.0</td></tr><tr><th>12</th><td>2020-07-01 02:45:00</td><td>0</td><td>0</td><td>0</td><td>338.133333333333</td><td>14.4133</td><td>98.8</td><td>957.0</td><td>99.0095</td><td>0.0</td><td>0.0</td><td>0.0</td><td>0.0</td></tr><tr><th>13</th><td>2020-07-01 03:00:00</td><td>0</td><td>0</td><td>0</td><td>343.266666666667</td><td>14.52</td><td>100.087</td><td>956.667</td><td>97.2604</td><td>0.0</td><td>0.0</td><td>0.0</td><td>0.0</td></tr><tr><th>14</th><td>2020-07-01 03:15:00</td><td>0</td><td>0</td><td>0</td><td>336.733333333333</td><td>14.38</td><td>100.627</td><td>956.533</td><td>95.4165</td><td>0.0</td><td>0.0</td><td>0.0</td><td>0.0</td></tr><tr><th>15</th><td>2020-07-01 03:30:00</td><td>1</td><td>0</td><td>1.13333333333333</td><td>343.8</td><td>14.5267</td><td>100.7</td><td>956.0</td><td>93.4848</td><td>0.0</td><td>0.0</td><td>0.0</td><td>0.0</td></tr><tr><th>16</th><td>2020-07-01 03:45:00</td><td>5.26666666666667</td><td>0</td><td>5.53333333333333</td><td>344.666666666667</td><td>14.4867</td><td>100.7</td><td>956.933</td><td>91.472</td><td>0.0</td><td>0.0</td><td>0.0</td><td>0.0</td></tr><tr><th>17</th><td>2020-07-01 04:00:00</td><td>10.8666666666667</td><td>0</td><td>11.0666666666667</td><td>336.8</td><td>14.4667</td><td>100.7</td><td>956.667</td><td>89.3845</td><td>0.46151</td><td>0.662778</td><td>0.446629</td><td>15.2667</td></tr><tr><th>18</th><td>2020-07-01 04:15:00</td><td>24.5333333333333</td><td>83</td><td>21.6</td><td>339.466666666667</td><td>14.4467</td><td>100.7</td><td>956.667</td><td>87.2284</td><td>9.92182</td><td>15.1201</td><td>9.09285</td><td>64.1333</td></tr><tr><th>19</th><td>2020-07-01 04:30:00</td><td>53.5333333333333</td><td>219.866666666667</td><td>32.6666666666667</td><td>338.6</td><td>14.7667</td><td>100.7</td><td>957.0</td><td>85.0103</td><td>32.3279</td><td>65.322</td><td>26.4287</td><td>115.2</td></tr><tr><th>20</th><td>2020-07-01 04:45:00</td><td>61.1333333333333</td><td>136.733333333333</td><td>41.0666666666667</td><td>338.066666666667</td><td>14.9867</td><td>100.7</td><td>957.0</td><td>82.7353</td><td>58.4085</td><td>141.335</td><td>40.2666</td><td>167.4</td></tr><tr><th>21</th><td>2020-07-01 05:00:00</td><td>129.133333333333</td><td>452.133333333333</td><td>50.1333333333333</td><td>337.8</td><td>15.7333</td><td>100.7</td><td>957.0</td><td>80.4089</td><td>90.4089</td><td>223.539</td><td>52.8943</td><td>220.667</td></tr><tr><th>22</th><td>2020-07-01 05:15:00</td><td>161.666666666667</td><td>431.733333333333</td><td>70</td><td>340.866666666667</td><td>16.7867</td><td>100.16</td><td>957.0</td><td>78.0367</td><td>126.615</td><td>301.277</td><td>63.9185</td><td>274.533</td></tr><tr><th>23</th><td>2020-07-01 05:30:00</td><td>224.4</td><td>498.333333333333</td><td>97.9333333333333</td><td>349.533333333333</td><td>17.6</td><td>95.46</td><td>957.0</td><td>75.6235</td><td>165.785</td><td>370.834</td><td>73.4937</td><td>328.8</td></tr><tr><th>24</th><td>2020-07-01 05:45:00</td><td>201.333333333333</td><td>223.466666666667</td><td>132.266666666667</td><td>370.666666666667</td><td>18.62</td><td>87.5133</td><td>956.933</td><td>73.1743</td><td>207.006</td><td>431.647</td><td>81.8773</td><td>383.4</td></tr><tr><th>25</th><td>2020-07-01 06:00:00</td><td>305.466666666667</td><td>512.666666666667</td><td>129.733333333333</td><td>355.066666666667</td><td>19.4533</td><td>80.1333</td><td>956.333</td><td>70.6939</td><td>249.597</td><td>484.36</td><td>89.3054</td><td>437.8</td></tr><tr><th>26</th><td>2020-07-01 06:15:00</td><td>242.466666666667</td><td>199.133333333333</td><td>159.266666666667</td><td>362.4</td><td>19.9267</td><td>75.4467</td><td>956.933</td><td>68.1871</td><td>293.014</td><td>529.96</td><td>95.9655</td><td>492.133</td></tr><tr><th>27</th><td>2020-07-01 06:30:00</td><td>336.733333333333</td><td>336.733333333333</td><td>198.666666666667</td><td>365.733333333333</td><td>20.5733</td><td>74.2</td><td>956.267</td><td>65.6587</td><td>336.818</td><td>569.456</td><td>102.001</td><td>545.867</td></tr><tr><th>28</th><td>2020-07-01 06:45:00</td><td>251.466666666667</td><td>63.1333333333333</td><td>219.666666666667</td><td>378.533333333333</td><td>21.12</td><td>70.8067</td><td>956.267</td><td>63.1135</td><td>380.63</td><td>603.749</td><td>107.517</td><td>598.733</td></tr><tr><th>29</th><td>2020-07-01 07:00:00</td><td>216</td><td>7.66666666666667</td><td>209.133333333333</td><td>359.866666666667</td><td>21.5</td><td>69.7533</td><td>956.0</td><td>60.5564</td><td>424.124</td><td>633.618</td><td>112.594</td><td>651.0</td></tr><tr><th>30</th><td>2020-07-01 07:15:00</td><td>266.266666666667</td><td>36</td><td>240.866666666667</td><td>364.866666666667</td><td>21.6867</td><td>70.1733</td><td>956.467</td><td>57.993</td><td>466.997</td><td>659.709</td><td>117.288</td><td>701.933</td></tr><tr><th>&vellip;</th><td>&vellip;</td><td>&vellip;</td><td>&vellip;</td><td>&vellip;</td><td>&vellip;</td><td>&vellip;</td><td>&vellip;</td><td>&vellip;</td><td>&vellip;</td><td>&vellip;</td><td>&vellip;</td><td>&vellip;</td><td>&vellip;</td></tr></tbody></table>"
      ],
      "text/latex": [
       "\\begin{tabular}{r|ccccccccccccc}\n",
       "\t& Time & dw\\_solar & direct\\_n & diffuse & dw\\_longwave & temp & rh & pressure & zen & Ics & Icsb & Icsd & Ioh\\\\\n",
       "\t\\hline\n",
       "\t& String & String & String & String & String & Float64 & Float64 & Float64 & Float64 & Float64 & Float64 & Float64 & Float64\\\\\n",
       "\t\\hline\n",
       "\t1 & 2020-07-01 00:00:00 & NA & NA & NA & NA & 16.6 & 93.2 & 957.0 & 109.898 & 0.0 & 0.0 & 0.0 & 0.0 \\\\\n",
       "\t2 & 2020-07-01 00:15:00 & 0 & 0 & 0 & 337 & 16.4267 & 93.32 & 957.0 & 109.732 & 0.0 & 0.0 & 0.0 & 0.0 \\\\\n",
       "\t3 & 2020-07-01 00:30:00 & 0 & 0 & 0 & 337 & 16.2867 & 93.66 & 957.0 & 109.31 & 0.0 & 0.0 & 0.0 & 0.0 \\\\\n",
       "\t4 & 2020-07-01 00:45:00 & 0 & 0 & 0 & 336.333333333333 & 16.3467 & 93.7867 & 957.0 & 108.729 & 0.0 & 0.0 & 0.0 & 0.0 \\\\\n",
       "\t5 & 2020-07-01 01:00:00 & 0 & 0 & 0 & 336 & 16.2733 & 92.6733 & 957.0 & 107.994 & 0.0 & 0.0 & 0.0 & 0.0 \\\\\n",
       "\t6 & 2020-07-01 01:15:00 & 0 & 0 & 0 & 334.533333333333 & 16.0 & 92.6467 & 957.0 & 107.109 & 0.0 & 0.0 & 0.0 & 0.0 \\\\\n",
       "\t7 & 2020-07-01 01:30:00 & 0 & 0 & 0 & 333.466666666667 & 15.7133 & 93.6667 & 957.0 & 106.08 & 0.0 & 0.0 & 0.0 & 0.0 \\\\\n",
       "\t8 & 2020-07-01 01:45:00 & 0 & 0 & 0 & 333.066666666667 & 15.3333 & 94.9933 & 957.0 & 104.913 & 0.0 & 0.0 & 0.0 & 0.0 \\\\\n",
       "\t9 & 2020-07-01 02:00:00 & 0 & 0 & 0 & 334.666666666667 & 15.02 & 95.9267 & 957.0 & 103.615 & 0.0 & 0.0 & 0.0 & 0.0 \\\\\n",
       "\t10 & 2020-07-01 02:15:00 & 0 & 0 & 0 & 344 & 14.8 & 96.9267 & 956.867 & 102.194 & 0.0 & 0.0 & 0.0 & 0.0 \\\\\n",
       "\t11 & 2020-07-01 02:30:00 & 0 & 0 & 0 & 334.866666666667 & 14.6533 & 98.0667 & 956.733 & 100.657 & 0.0 & 0.0 & 0.0 & 0.0 \\\\\n",
       "\t12 & 2020-07-01 02:45:00 & 0 & 0 & 0 & 338.133333333333 & 14.4133 & 98.8 & 957.0 & 99.0095 & 0.0 & 0.0 & 0.0 & 0.0 \\\\\n",
       "\t13 & 2020-07-01 03:00:00 & 0 & 0 & 0 & 343.266666666667 & 14.52 & 100.087 & 956.667 & 97.2604 & 0.0 & 0.0 & 0.0 & 0.0 \\\\\n",
       "\t14 & 2020-07-01 03:15:00 & 0 & 0 & 0 & 336.733333333333 & 14.38 & 100.627 & 956.533 & 95.4165 & 0.0 & 0.0 & 0.0 & 0.0 \\\\\n",
       "\t15 & 2020-07-01 03:30:00 & 1 & 0 & 1.13333333333333 & 343.8 & 14.5267 & 100.7 & 956.0 & 93.4848 & 0.0 & 0.0 & 0.0 & 0.0 \\\\\n",
       "\t16 & 2020-07-01 03:45:00 & 5.26666666666667 & 0 & 5.53333333333333 & 344.666666666667 & 14.4867 & 100.7 & 956.933 & 91.472 & 0.0 & 0.0 & 0.0 & 0.0 \\\\\n",
       "\t17 & 2020-07-01 04:00:00 & 10.8666666666667 & 0 & 11.0666666666667 & 336.8 & 14.4667 & 100.7 & 956.667 & 89.3845 & 0.46151 & 0.662778 & 0.446629 & 15.2667 \\\\\n",
       "\t18 & 2020-07-01 04:15:00 & 24.5333333333333 & 83 & 21.6 & 339.466666666667 & 14.4467 & 100.7 & 956.667 & 87.2284 & 9.92182 & 15.1201 & 9.09285 & 64.1333 \\\\\n",
       "\t19 & 2020-07-01 04:30:00 & 53.5333333333333 & 219.866666666667 & 32.6666666666667 & 338.6 & 14.7667 & 100.7 & 957.0 & 85.0103 & 32.3279 & 65.322 & 26.4287 & 115.2 \\\\\n",
       "\t20 & 2020-07-01 04:45:00 & 61.1333333333333 & 136.733333333333 & 41.0666666666667 & 338.066666666667 & 14.9867 & 100.7 & 957.0 & 82.7353 & 58.4085 & 141.335 & 40.2666 & 167.4 \\\\\n",
       "\t21 & 2020-07-01 05:00:00 & 129.133333333333 & 452.133333333333 & 50.1333333333333 & 337.8 & 15.7333 & 100.7 & 957.0 & 80.4089 & 90.4089 & 223.539 & 52.8943 & 220.667 \\\\\n",
       "\t22 & 2020-07-01 05:15:00 & 161.666666666667 & 431.733333333333 & 70 & 340.866666666667 & 16.7867 & 100.16 & 957.0 & 78.0367 & 126.615 & 301.277 & 63.9185 & 274.533 \\\\\n",
       "\t23 & 2020-07-01 05:30:00 & 224.4 & 498.333333333333 & 97.9333333333333 & 349.533333333333 & 17.6 & 95.46 & 957.0 & 75.6235 & 165.785 & 370.834 & 73.4937 & 328.8 \\\\\n",
       "\t24 & 2020-07-01 05:45:00 & 201.333333333333 & 223.466666666667 & 132.266666666667 & 370.666666666667 & 18.62 & 87.5133 & 956.933 & 73.1743 & 207.006 & 431.647 & 81.8773 & 383.4 \\\\\n",
       "\t25 & 2020-07-01 06:00:00 & 305.466666666667 & 512.666666666667 & 129.733333333333 & 355.066666666667 & 19.4533 & 80.1333 & 956.333 & 70.6939 & 249.597 & 484.36 & 89.3054 & 437.8 \\\\\n",
       "\t26 & 2020-07-01 06:15:00 & 242.466666666667 & 199.133333333333 & 159.266666666667 & 362.4 & 19.9267 & 75.4467 & 956.933 & 68.1871 & 293.014 & 529.96 & 95.9655 & 492.133 \\\\\n",
       "\t27 & 2020-07-01 06:30:00 & 336.733333333333 & 336.733333333333 & 198.666666666667 & 365.733333333333 & 20.5733 & 74.2 & 956.267 & 65.6587 & 336.818 & 569.456 & 102.001 & 545.867 \\\\\n",
       "\t28 & 2020-07-01 06:45:00 & 251.466666666667 & 63.1333333333333 & 219.666666666667 & 378.533333333333 & 21.12 & 70.8067 & 956.267 & 63.1135 & 380.63 & 603.749 & 107.517 & 598.733 \\\\\n",
       "\t29 & 2020-07-01 07:00:00 & 216 & 7.66666666666667 & 209.133333333333 & 359.866666666667 & 21.5 & 69.7533 & 956.0 & 60.5564 & 424.124 & 633.618 & 112.594 & 651.0 \\\\\n",
       "\t30 & 2020-07-01 07:15:00 & 266.266666666667 & 36 & 240.866666666667 & 364.866666666667 & 21.6867 & 70.1733 & 956.467 & 57.993 & 466.997 & 659.709 & 117.288 & 701.933 \\\\\n",
       "\t$\\dots$ & $\\dots$ & $\\dots$ & $\\dots$ & $\\dots$ & $\\dots$ & $\\dots$ & $\\dots$ & $\\dots$ & $\\dots$ & $\\dots$ & $\\dots$ & $\\dots$ & $\\dots$ \\\\\n",
       "\\end{tabular}\n"
      ],
      "text/plain": [
       "\u001b[1m2977×13 DataFrame\u001b[0m\n",
       "\u001b[1m  Row \u001b[0m│\u001b[1m Time                \u001b[0m\u001b[1m dw_solar \u001b[0m\u001b[1m direct_n \u001b[0m\u001b[1m diffuse           \u001b[0m\u001b[1m dw_longwave      \u001b[0m\u001b[1m temp    \u001b[0m\u001b[1m rh       \u001b[0m\u001b[1m pressure \u001b[0m\u001b[1m zen      \u001b[0m\u001b[1m Ics     \u001b[0m\u001b[1m Icsb    \u001b[0m\u001b[1m Icsd    \u001b[0m\u001b[1m Ioh     \u001b[0m\n",
       "\u001b[1m      \u001b[0m│\u001b[90m String              \u001b[0m\u001b[90m String   \u001b[0m\u001b[90m String   \u001b[0m\u001b[90m String            \u001b[0m\u001b[90m String           \u001b[0m\u001b[90m Float64 \u001b[0m\u001b[90m Float64  \u001b[0m\u001b[90m Float64  \u001b[0m\u001b[90m Float64  \u001b[0m\u001b[90m Float64 \u001b[0m\u001b[90m Float64 \u001b[0m\u001b[90m Float64 \u001b[0m\u001b[90m Float64 \u001b[0m\n",
       "──────┼─────────────────────────────────────────────────────────────────────────────────────────────────────────────────────────────────────────────────────────\n",
       "    1 │ 2020-07-01 00:00:00  NA        NA        NA                 NA                16.6      93.2      957.0    109.898       0.0      0.0      0.0      0.0\n",
       "    2 │ 2020-07-01 00:15:00  0         0         0                  337               16.4267   93.32     957.0    109.732       0.0      0.0      0.0      0.0\n",
       "    3 │ 2020-07-01 00:30:00  0         0         0                  337               16.2867   93.66     957.0    109.31        0.0      0.0      0.0      0.0\n",
       "    4 │ 2020-07-01 00:45:00  0         0         0                  336.333333333333  16.3467   93.7867   957.0    108.729       0.0      0.0      0.0      0.0\n",
       "    5 │ 2020-07-01 01:00:00  0         0         0                  336               16.2733   92.6733   957.0    107.994       0.0      0.0      0.0      0.0\n",
       "    6 │ 2020-07-01 01:15:00  0         0         0                  334.533333333333  16.0      92.6467   957.0    107.109       0.0      0.0      0.0      0.0\n",
       "    7 │ 2020-07-01 01:30:00  0         0         0                  333.466666666667  15.7133   93.6667   957.0    106.08        0.0      0.0      0.0      0.0\n",
       "    8 │ 2020-07-01 01:45:00  0         0         0                  333.066666666667  15.3333   94.9933   957.0    104.913       0.0      0.0      0.0      0.0\n",
       "    9 │ 2020-07-01 02:00:00  0         0         0                  334.666666666667  15.02     95.9267   957.0    103.615       0.0      0.0      0.0      0.0\n",
       "   10 │ 2020-07-01 02:15:00  0         0         0                  344               14.8      96.9267   956.867  102.194       0.0      0.0      0.0      0.0\n",
       "   11 │ 2020-07-01 02:30:00  0         0         0                  334.866666666667  14.6533   98.0667   956.733  100.657       0.0      0.0      0.0      0.0\n",
       "  ⋮   │          ⋮              ⋮         ⋮              ⋮                 ⋮             ⋮        ⋮         ⋮         ⋮         ⋮        ⋮        ⋮        ⋮\n",
       " 2968 │ 2020-07-31 21:45:00  0         0         0                  379.066666666667  22.08     84.6267   960.0    109.701       0.0      0.0      0.0      0.0\n",
       " 2969 │ 2020-07-31 22:00:00  0         0         0                  384.133333333333  21.9733   85.28     960.0    110.941       0.0      0.0      0.0      0.0\n",
       " 2970 │ 2020-07-31 22:15:00  0         0         0                  405.6             21.9867   84.1133   960.0    112.037       0.0      0.0      0.0      0.0\n",
       " 2971 │ 2020-07-31 22:30:00  0         0         0                  410.933333333333  22.3933   79.2667   960.667  112.982       0.0      0.0      0.0      0.0\n",
       " 2972 │ 2020-07-31 22:45:00  0         0         0                  389.8             22.58     75.7067   960.933  113.768       0.0      0.0      0.0      0.0\n",
       " 2973 │ 2020-07-31 23:00:00  0         0         0.133333333333333  384.4             23.8867   63.3933   961.0    114.39        0.0      0.0      0.0      0.0\n",
       " 2974 │ 2020-07-31 23:15:00  0         0         0                  382.066666666667  24.5733   58.1      961.0    114.842       0.0      0.0      0.0      0.0\n",
       " 2975 │ 2020-07-31 23:30:00  0         0         0                  382.6             24.34     55.98     961.0    115.121       0.0      0.0      0.0      0.0\n",
       " 2976 │ 2020-07-31 23:45:00  0         0         0                  382.933333333333  24.2933   55.5733   961.0    115.225       0.0      0.0      0.0      0.0\n",
       " 2977 │ 2020-08-01 00:00:00  0         0         0                  377.846153846154  23.5571   61.2214   961.0    115.158       0.0      0.0      0.0      0.0\n",
       "\u001b[36m                                                                                                                                               2956 rows omitted\u001b[0m"
      ]
     },
     "execution_count": 5,
     "metadata": {},
     "output_type": "execute_result"
    }
   ],
   "source": [
    "df = CSV.File(fn; delim=',') |> DataFrame"
   ]
  },
  {
   "cell_type": "code",
   "execution_count": 6,
   "id": "da2c27c0-9a75-4aff-8196-9a49f740cb0f",
   "metadata": {
    "execution": {
     "iopub.execute_input": "2021-07-30T09:05:52.186000+02:00",
     "iopub.status.busy": "2021-07-30T09:05:52.186000+02:00",
     "iopub.status.idle": "2021-07-30T09:05:52.477000+02:00",
     "shell.execute_reply": "2021-07-30T09:05:52.476000+02:00"
    },
    "scrolled": true,
    "tags": []
   },
   "outputs": [
    {
     "data": {
      "text/html": [
       "<table class=\"data-frame\"><thead><tr><th></th><th>Time</th><th>direct_n</th><th>diffuse</th><th>zen</th><th>Ics</th></tr><tr><th></th><th>String</th><th>String</th><th>String</th><th>Float64</th><th>Float64</th></tr></thead><tbody><p>2,977 rows × 5 columns</p><tr><th>1</th><td>2020-07-01 00:00:00</td><td>NA</td><td>NA</td><td>109.898</td><td>0.0</td></tr><tr><th>2</th><td>2020-07-01 00:15:00</td><td>0</td><td>0</td><td>109.732</td><td>0.0</td></tr><tr><th>3</th><td>2020-07-01 00:30:00</td><td>0</td><td>0</td><td>109.31</td><td>0.0</td></tr><tr><th>4</th><td>2020-07-01 00:45:00</td><td>0</td><td>0</td><td>108.729</td><td>0.0</td></tr><tr><th>5</th><td>2020-07-01 01:00:00</td><td>0</td><td>0</td><td>107.994</td><td>0.0</td></tr><tr><th>6</th><td>2020-07-01 01:15:00</td><td>0</td><td>0</td><td>107.109</td><td>0.0</td></tr><tr><th>7</th><td>2020-07-01 01:30:00</td><td>0</td><td>0</td><td>106.08</td><td>0.0</td></tr><tr><th>8</th><td>2020-07-01 01:45:00</td><td>0</td><td>0</td><td>104.913</td><td>0.0</td></tr><tr><th>9</th><td>2020-07-01 02:00:00</td><td>0</td><td>0</td><td>103.615</td><td>0.0</td></tr><tr><th>10</th><td>2020-07-01 02:15:00</td><td>0</td><td>0</td><td>102.194</td><td>0.0</td></tr><tr><th>11</th><td>2020-07-01 02:30:00</td><td>0</td><td>0</td><td>100.657</td><td>0.0</td></tr><tr><th>12</th><td>2020-07-01 02:45:00</td><td>0</td><td>0</td><td>99.0095</td><td>0.0</td></tr><tr><th>13</th><td>2020-07-01 03:00:00</td><td>0</td><td>0</td><td>97.2604</td><td>0.0</td></tr><tr><th>14</th><td>2020-07-01 03:15:00</td><td>0</td><td>0</td><td>95.4165</td><td>0.0</td></tr><tr><th>15</th><td>2020-07-01 03:30:00</td><td>0</td><td>1.13333333333333</td><td>93.4848</td><td>0.0</td></tr><tr><th>16</th><td>2020-07-01 03:45:00</td><td>0</td><td>5.53333333333333</td><td>91.472</td><td>0.0</td></tr><tr><th>17</th><td>2020-07-01 04:00:00</td><td>0</td><td>11.0666666666667</td><td>89.3845</td><td>0.46151</td></tr><tr><th>18</th><td>2020-07-01 04:15:00</td><td>83</td><td>21.6</td><td>87.2284</td><td>9.92182</td></tr><tr><th>19</th><td>2020-07-01 04:30:00</td><td>219.866666666667</td><td>32.6666666666667</td><td>85.0103</td><td>32.3279</td></tr><tr><th>20</th><td>2020-07-01 04:45:00</td><td>136.733333333333</td><td>41.0666666666667</td><td>82.7353</td><td>58.4085</td></tr><tr><th>21</th><td>2020-07-01 05:00:00</td><td>452.133333333333</td><td>50.1333333333333</td><td>80.4089</td><td>90.4089</td></tr><tr><th>22</th><td>2020-07-01 05:15:00</td><td>431.733333333333</td><td>70</td><td>78.0367</td><td>126.615</td></tr><tr><th>23</th><td>2020-07-01 05:30:00</td><td>498.333333333333</td><td>97.9333333333333</td><td>75.6235</td><td>165.785</td></tr><tr><th>24</th><td>2020-07-01 05:45:00</td><td>223.466666666667</td><td>132.266666666667</td><td>73.1743</td><td>207.006</td></tr><tr><th>25</th><td>2020-07-01 06:00:00</td><td>512.666666666667</td><td>129.733333333333</td><td>70.6939</td><td>249.597</td></tr><tr><th>26</th><td>2020-07-01 06:15:00</td><td>199.133333333333</td><td>159.266666666667</td><td>68.1871</td><td>293.014</td></tr><tr><th>27</th><td>2020-07-01 06:30:00</td><td>336.733333333333</td><td>198.666666666667</td><td>65.6587</td><td>336.818</td></tr><tr><th>28</th><td>2020-07-01 06:45:00</td><td>63.1333333333333</td><td>219.666666666667</td><td>63.1135</td><td>380.63</td></tr><tr><th>29</th><td>2020-07-01 07:00:00</td><td>7.66666666666667</td><td>209.133333333333</td><td>60.5564</td><td>424.124</td></tr><tr><th>30</th><td>2020-07-01 07:15:00</td><td>36</td><td>240.866666666667</td><td>57.993</td><td>466.997</td></tr><tr><th>&vellip;</th><td>&vellip;</td><td>&vellip;</td><td>&vellip;</td><td>&vellip;</td><td>&vellip;</td></tr></tbody></table>"
      ],
      "text/latex": [
       "\\begin{tabular}{r|ccccc}\n",
       "\t& Time & direct\\_n & diffuse & zen & Ics\\\\\n",
       "\t\\hline\n",
       "\t& String & String & String & Float64 & Float64\\\\\n",
       "\t\\hline\n",
       "\t1 & 2020-07-01 00:00:00 & NA & NA & 109.898 & 0.0 \\\\\n",
       "\t2 & 2020-07-01 00:15:00 & 0 & 0 & 109.732 & 0.0 \\\\\n",
       "\t3 & 2020-07-01 00:30:00 & 0 & 0 & 109.31 & 0.0 \\\\\n",
       "\t4 & 2020-07-01 00:45:00 & 0 & 0 & 108.729 & 0.0 \\\\\n",
       "\t5 & 2020-07-01 01:00:00 & 0 & 0 & 107.994 & 0.0 \\\\\n",
       "\t6 & 2020-07-01 01:15:00 & 0 & 0 & 107.109 & 0.0 \\\\\n",
       "\t7 & 2020-07-01 01:30:00 & 0 & 0 & 106.08 & 0.0 \\\\\n",
       "\t8 & 2020-07-01 01:45:00 & 0 & 0 & 104.913 & 0.0 \\\\\n",
       "\t9 & 2020-07-01 02:00:00 & 0 & 0 & 103.615 & 0.0 \\\\\n",
       "\t10 & 2020-07-01 02:15:00 & 0 & 0 & 102.194 & 0.0 \\\\\n",
       "\t11 & 2020-07-01 02:30:00 & 0 & 0 & 100.657 & 0.0 \\\\\n",
       "\t12 & 2020-07-01 02:45:00 & 0 & 0 & 99.0095 & 0.0 \\\\\n",
       "\t13 & 2020-07-01 03:00:00 & 0 & 0 & 97.2604 & 0.0 \\\\\n",
       "\t14 & 2020-07-01 03:15:00 & 0 & 0 & 95.4165 & 0.0 \\\\\n",
       "\t15 & 2020-07-01 03:30:00 & 0 & 1.13333333333333 & 93.4848 & 0.0 \\\\\n",
       "\t16 & 2020-07-01 03:45:00 & 0 & 5.53333333333333 & 91.472 & 0.0 \\\\\n",
       "\t17 & 2020-07-01 04:00:00 & 0 & 11.0666666666667 & 89.3845 & 0.46151 \\\\\n",
       "\t18 & 2020-07-01 04:15:00 & 83 & 21.6 & 87.2284 & 9.92182 \\\\\n",
       "\t19 & 2020-07-01 04:30:00 & 219.866666666667 & 32.6666666666667 & 85.0103 & 32.3279 \\\\\n",
       "\t20 & 2020-07-01 04:45:00 & 136.733333333333 & 41.0666666666667 & 82.7353 & 58.4085 \\\\\n",
       "\t21 & 2020-07-01 05:00:00 & 452.133333333333 & 50.1333333333333 & 80.4089 & 90.4089 \\\\\n",
       "\t22 & 2020-07-01 05:15:00 & 431.733333333333 & 70 & 78.0367 & 126.615 \\\\\n",
       "\t23 & 2020-07-01 05:30:00 & 498.333333333333 & 97.9333333333333 & 75.6235 & 165.785 \\\\\n",
       "\t24 & 2020-07-01 05:45:00 & 223.466666666667 & 132.266666666667 & 73.1743 & 207.006 \\\\\n",
       "\t25 & 2020-07-01 06:00:00 & 512.666666666667 & 129.733333333333 & 70.6939 & 249.597 \\\\\n",
       "\t26 & 2020-07-01 06:15:00 & 199.133333333333 & 159.266666666667 & 68.1871 & 293.014 \\\\\n",
       "\t27 & 2020-07-01 06:30:00 & 336.733333333333 & 198.666666666667 & 65.6587 & 336.818 \\\\\n",
       "\t28 & 2020-07-01 06:45:00 & 63.1333333333333 & 219.666666666667 & 63.1135 & 380.63 \\\\\n",
       "\t29 & 2020-07-01 07:00:00 & 7.66666666666667 & 209.133333333333 & 60.5564 & 424.124 \\\\\n",
       "\t30 & 2020-07-01 07:15:00 & 36 & 240.866666666667 & 57.993 & 466.997 \\\\\n",
       "\t$\\dots$ & $\\dots$ & $\\dots$ & $\\dots$ & $\\dots$ & $\\dots$ \\\\\n",
       "\\end{tabular}\n"
      ],
      "text/plain": [
       "\u001b[1m2977×5 DataFrame\u001b[0m\n",
       "\u001b[1m  Row \u001b[0m│\u001b[1m Time                \u001b[0m\u001b[1m direct_n \u001b[0m\u001b[1m diffuse           \u001b[0m\u001b[1m zen      \u001b[0m\u001b[1m Ics     \u001b[0m\n",
       "\u001b[1m      \u001b[0m│\u001b[90m String              \u001b[0m\u001b[90m String   \u001b[0m\u001b[90m String            \u001b[0m\u001b[90m Float64  \u001b[0m\u001b[90m Float64 \u001b[0m\n",
       "──────┼─────────────────────────────────────────────────────────────────────\n",
       "    1 │ 2020-07-01 00:00:00  NA        NA                 109.898       0.0\n",
       "    2 │ 2020-07-01 00:15:00  0         0                  109.732       0.0\n",
       "    3 │ 2020-07-01 00:30:00  0         0                  109.31        0.0\n",
       "    4 │ 2020-07-01 00:45:00  0         0                  108.729       0.0\n",
       "    5 │ 2020-07-01 01:00:00  0         0                  107.994       0.0\n",
       "    6 │ 2020-07-01 01:15:00  0         0                  107.109       0.0\n",
       "    7 │ 2020-07-01 01:30:00  0         0                  106.08        0.0\n",
       "    8 │ 2020-07-01 01:45:00  0         0                  104.913       0.0\n",
       "    9 │ 2020-07-01 02:00:00  0         0                  103.615       0.0\n",
       "   10 │ 2020-07-01 02:15:00  0         0                  102.194       0.0\n",
       "   11 │ 2020-07-01 02:30:00  0         0                  100.657       0.0\n",
       "  ⋮   │          ⋮              ⋮              ⋮             ⋮         ⋮\n",
       " 2968 │ 2020-07-31 21:45:00  0         0                  109.701       0.0\n",
       " 2969 │ 2020-07-31 22:00:00  0         0                  110.941       0.0\n",
       " 2970 │ 2020-07-31 22:15:00  0         0                  112.037       0.0\n",
       " 2971 │ 2020-07-31 22:30:00  0         0                  112.982       0.0\n",
       " 2972 │ 2020-07-31 22:45:00  0         0                  113.768       0.0\n",
       " 2973 │ 2020-07-31 23:00:00  0         0.133333333333333  114.39        0.0\n",
       " 2974 │ 2020-07-31 23:15:00  0         0                  114.842       0.0\n",
       " 2975 │ 2020-07-31 23:30:00  0         0                  115.121       0.0\n",
       " 2976 │ 2020-07-31 23:45:00  0         0                  115.225       0.0\n",
       " 2977 │ 2020-08-01 00:00:00  0         0                  115.158       0.0\n",
       "\u001b[36m                                                           2956 rows omitted\u001b[0m"
      ]
     },
     "execution_count": 6,
     "metadata": {},
     "output_type": "execute_result"
    }
   ],
   "source": [
    "df1 = df[:, [:Time, :direct_n, :diffuse, :zen, :Ics]]"
   ]
  },
  {
   "cell_type": "code",
   "execution_count": 7,
   "id": "93a95519-452c-4e5a-8f6a-f4a02057afe9",
   "metadata": {
    "execution": {
     "iopub.execute_input": "2021-07-30T09:06:15.765000+02:00",
     "iopub.status.busy": "2021-07-30T09:06:15.764000+02:00",
     "iopub.status.idle": "2021-07-30T09:06:16.200000+02:00",
     "shell.execute_reply": "2021-07-30T09:06:16.199000+02:00"
    },
    "tags": []
   },
   "outputs": [],
   "source": [
    "df1.dir = parse.(Float64, replace!(df1[:, :direct_n], \"NA\" => \"0\"))\n",
    "\n",
    "df1.dif = parse.(Float64, replace!(df1[:, :diffuse], \"NA\" => \"0\"));\n",
    "\n",
    "df1.ghi = df1.dif .+ df1.dir .* cosd.(df1.zen)\n",
    "\n",
    "df1.cmf = df1.ghi ./ df1.Ics;"
   ]
  },
  {
   "cell_type": "code",
   "execution_count": 9,
   "id": "5a04a248-808e-4670-a3a6-e9eda848fb91",
   "metadata": {
    "execution": {
     "iopub.execute_input": "2021-07-30T09:07:03.038000+02:00",
     "iopub.status.busy": "2021-07-30T09:07:03.038000+02:00",
     "iopub.status.idle": "2021-07-30T09:07:03.376000+02:00",
     "shell.execute_reply": "2021-07-30T09:07:03.376000+02:00"
    },
    "tags": []
   },
   "outputs": [
    {
     "data": {
      "text/html": [
       "<table class=\"data-frame\"><thead><tr><th></th><th>Time</th><th>zen</th><th>Ics</th><th>dir</th><th>dif</th><th>ghi</th><th>cmf</th></tr><tr><th></th><th>String</th><th>Float64</th><th>Float64</th><th>Float64</th><th>Float64</th><th>Float64</th><th>Float64</th></tr></thead><tbody><p>14 rows × 7 columns</p><tr><th>1</th><td>2020-07-01 04:00:00</td><td>89.3845</td><td>0.46151</td><td>0.0</td><td>11.0667</td><td>11.0667</td><td>23.9793</td></tr><tr><th>2</th><td>2020-07-01 04:15:00</td><td>87.2284</td><td>9.92182</td><td>83.0</td><td>21.6</td><td>25.6134</td><td>2.58153</td></tr><tr><th>3</th><td>2020-07-01 04:30:00</td><td>85.0103</td><td>32.3279</td><td>219.867</td><td>32.6667</td><td>51.7901</td><td>1.60202</td></tr><tr><th>4</th><td>2020-07-01 04:45:00</td><td>82.7353</td><td>58.4085</td><td>136.733</td><td>41.0667</td><td>58.357</td><td>0.999118</td></tr><tr><th>5</th><td>2020-07-01 05:00:00</td><td>80.4089</td><td>90.4089</td><td>452.133</td><td>50.1333</td><td>125.466</td><td>1.38776</td></tr><tr><th>6</th><td>2020-07-01 05:15:00</td><td>78.0367</td><td>126.615</td><td>431.733</td><td>70.0</td><td>159.492</td><td>1.25966</td></tr><tr><th>7</th><td>2020-07-01 05:30:00</td><td>75.6235</td><td>165.785</td><td>498.333</td><td>97.9333</td><td>221.666</td><td>1.33707</td></tr><tr><th>8</th><td>2020-07-01 05:45:00</td><td>73.1743</td><td>207.006</td><td>223.467</td><td>132.267</td><td>196.952</td><td>0.951428</td></tr><tr><th>9</th><td>2020-07-01 06:00:00</td><td>70.6939</td><td>249.597</td><td>512.667</td><td>129.733</td><td>299.229</td><td>1.19885</td></tr><tr><th>10</th><td>2020-07-01 06:15:00</td><td>68.1871</td><td>293.014</td><td>199.133</td><td>159.267</td><td>233.26</td><td>0.796072</td></tr><tr><th>11</th><td>2020-07-01 06:30:00</td><td>65.6587</td><td>336.818</td><td>336.733</td><td>198.667</td><td>337.459</td><td>1.0019</td></tr><tr><th>12</th><td>2020-07-01 06:45:00</td><td>63.1135</td><td>380.63</td><td>63.1333</td><td>219.667</td><td>248.217</td><td>0.652122</td></tr><tr><th>13</th><td>2020-07-01 07:00:00</td><td>60.5564</td><td>424.124</td><td>7.66667</td><td>209.133</td><td>212.902</td><td>0.501981</td></tr><tr><th>14</th><td>2020-07-01 07:15:00</td><td>57.993</td><td>466.997</td><td>36.0</td><td>240.867</td><td>259.947</td><td>0.556636</td></tr></tbody></table>"
      ],
      "text/latex": [
       "\\begin{tabular}{r|ccccccc}\n",
       "\t& Time & zen & Ics & dir & dif & ghi & cmf\\\\\n",
       "\t\\hline\n",
       "\t& String & Float64 & Float64 & Float64 & Float64 & Float64 & Float64\\\\\n",
       "\t\\hline\n",
       "\t1 & 2020-07-01 04:00:00 & 89.3845 & 0.46151 & 0.0 & 11.0667 & 11.0667 & 23.9793 \\\\\n",
       "\t2 & 2020-07-01 04:15:00 & 87.2284 & 9.92182 & 83.0 & 21.6 & 25.6134 & 2.58153 \\\\\n",
       "\t3 & 2020-07-01 04:30:00 & 85.0103 & 32.3279 & 219.867 & 32.6667 & 51.7901 & 1.60202 \\\\\n",
       "\t4 & 2020-07-01 04:45:00 & 82.7353 & 58.4085 & 136.733 & 41.0667 & 58.357 & 0.999118 \\\\\n",
       "\t5 & 2020-07-01 05:00:00 & 80.4089 & 90.4089 & 452.133 & 50.1333 & 125.466 & 1.38776 \\\\\n",
       "\t6 & 2020-07-01 05:15:00 & 78.0367 & 126.615 & 431.733 & 70.0 & 159.492 & 1.25966 \\\\\n",
       "\t7 & 2020-07-01 05:30:00 & 75.6235 & 165.785 & 498.333 & 97.9333 & 221.666 & 1.33707 \\\\\n",
       "\t8 & 2020-07-01 05:45:00 & 73.1743 & 207.006 & 223.467 & 132.267 & 196.952 & 0.951428 \\\\\n",
       "\t9 & 2020-07-01 06:00:00 & 70.6939 & 249.597 & 512.667 & 129.733 & 299.229 & 1.19885 \\\\\n",
       "\t10 & 2020-07-01 06:15:00 & 68.1871 & 293.014 & 199.133 & 159.267 & 233.26 & 0.796072 \\\\\n",
       "\t11 & 2020-07-01 06:30:00 & 65.6587 & 336.818 & 336.733 & 198.667 & 337.459 & 1.0019 \\\\\n",
       "\t12 & 2020-07-01 06:45:00 & 63.1135 & 380.63 & 63.1333 & 219.667 & 248.217 & 0.652122 \\\\\n",
       "\t13 & 2020-07-01 07:00:00 & 60.5564 & 424.124 & 7.66667 & 209.133 & 212.902 & 0.501981 \\\\\n",
       "\t14 & 2020-07-01 07:15:00 & 57.993 & 466.997 & 36.0 & 240.867 & 259.947 & 0.556636 \\\\\n",
       "\\end{tabular}\n"
      ],
      "text/plain": [
       "\u001b[1m14×7 DataFrame\u001b[0m\n",
       "\u001b[1m Row \u001b[0m│\u001b[1m Time                \u001b[0m\u001b[1m zen     \u001b[0m\u001b[1m Ics       \u001b[0m\u001b[1m dir       \u001b[0m\u001b[1m dif      \u001b[0m\u001b[1m ghi      \u001b[0m\u001b[1m cmf       \u001b[0m\n",
       "\u001b[1m     \u001b[0m│\u001b[90m String              \u001b[0m\u001b[90m Float64 \u001b[0m\u001b[90m Float64   \u001b[0m\u001b[90m Float64   \u001b[0m\u001b[90m Float64  \u001b[0m\u001b[90m Float64  \u001b[0m\u001b[90m Float64   \u001b[0m\n",
       "─────┼───────────────────────────────────────────────────────────────────────────────────\n",
       "   1 │ 2020-07-01 04:00:00  89.3845    0.46151    0.0       11.0667   11.0667  23.9793\n",
       "   2 │ 2020-07-01 04:15:00  87.2284    9.92182   83.0       21.6      25.6134   2.58153\n",
       "   3 │ 2020-07-01 04:30:00  85.0103   32.3279   219.867     32.6667   51.7901   1.60202\n",
       "   4 │ 2020-07-01 04:45:00  82.7353   58.4085   136.733     41.0667   58.357    0.999118\n",
       "   5 │ 2020-07-01 05:00:00  80.4089   90.4089   452.133     50.1333  125.466    1.38776\n",
       "   6 │ 2020-07-01 05:15:00  78.0367  126.615    431.733     70.0     159.492    1.25966\n",
       "   7 │ 2020-07-01 05:30:00  75.6235  165.785    498.333     97.9333  221.666    1.33707\n",
       "   8 │ 2020-07-01 05:45:00  73.1743  207.006    223.467    132.267   196.952    0.951428\n",
       "   9 │ 2020-07-01 06:00:00  70.6939  249.597    512.667    129.733   299.229    1.19885\n",
       "  10 │ 2020-07-01 06:15:00  68.1871  293.014    199.133    159.267   233.26     0.796072\n",
       "  11 │ 2020-07-01 06:30:00  65.6587  336.818    336.733    198.667   337.459    1.0019\n",
       "  12 │ 2020-07-01 06:45:00  63.1135  380.63      63.1333   219.667   248.217    0.652122\n",
       "  13 │ 2020-07-01 07:00:00  60.5564  424.124      7.66667  209.133   212.902    0.501981\n",
       "  14 │ 2020-07-01 07:15:00  57.993   466.997     36.0      240.867   259.947    0.556636"
      ]
     },
     "execution_count": 9,
     "metadata": {},
     "output_type": "execute_result"
    }
   ],
   "source": [
    "df2 = df1[17:30, [1; 4:end]]"
   ]
  },
  {
   "cell_type": "code",
   "execution_count": 10,
   "id": "834fe4c0-20ca-44e0-901a-c46849d08f1a",
   "metadata": {
    "collapsed": true,
    "execution": {
     "iopub.execute_input": "2021-07-30T09:07:37.184000+02:00",
     "iopub.status.busy": "2021-07-30T09:07:37.184000+02:00",
     "iopub.status.idle": "2021-07-30T09:07:39.008000+02:00",
     "shell.execute_reply": "2021-07-30T09:07:39.008000+02:00"
    },
    "jupyter": {
     "outputs_hidden": true
    },
    "tags": []
   },
   "outputs": [
    {
     "data": {
      "text/plain": [
       "1763-element Vector{Float64}:\n",
       " 0.999117861992276\n",
       " 1.3877569370164482\n",
       " 1.2596613150469567\n",
       " 1.337073391863142\n",
       " 0.9514281462254593\n",
       " 1.1988501715221909\n",
       " 0.7960715690463334\n",
       " 1.001901261545309\n",
       " 0.6521223039903828\n",
       " 0.5019808924520058\n",
       " 0.55663648584904\n",
       " 0.5700919958663035\n",
       " 0.6033326250458957\n",
       " ⋮\n",
       " 0.9983810114494408\n",
       " 1.014451717701248\n",
       " 1.0269909846509921\n",
       " 1.0333871055327823\n",
       " 1.0304654104632285\n",
       " 1.0387948175226538\n",
       " 1.068169799346572\n",
       " 1.0661993688985498\n",
       " 1.121732341669085\n",
       " 1.1321224106199257\n",
       " 1.274678098460952\n",
       " 0.9732934542583911"
      ]
     },
     "execution_count": 10,
     "metadata": {},
     "output_type": "execute_result"
    }
   ],
   "source": [
    "cmf = df1.cmf\n",
    "cmf1 = filter(cmf -> (!isnan(cmf) && !isinf(cmf) && cmf .< 1.5), cmf)"
   ]
  },
  {
   "cell_type": "code",
   "execution_count": 208,
   "id": "2ea53d0e-15db-4f87-aa13-c08b4357e046",
   "metadata": {
    "collapsed": true,
    "execution": {
     "iopub.execute_input": "2021-07-29T18:35:33.925000+02:00",
     "iopub.status.busy": "2021-07-29T18:35:33.924000+02:00",
     "iopub.status.idle": "2021-07-29T18:35:33.927000+02:00",
     "shell.execute_reply": "2021-07-29T18:35:33.926000+02:00"
    },
    "jupyter": {
     "outputs_hidden": true
    },
    "tags": []
   },
   "outputs": [
    {
     "name": "stdout",
     "output_type": "stream",
     "text": [
      "Summary Stats:\n",
      "Length:         1763\n",
      "Missing Count:  0\n",
      "Mean:           0.867207\n",
      "Minimum:        0.000000\n",
      "1st Quartile:   0.622757\n",
      "Median:         1.027082\n",
      "3rd Quartile:   1.079620\n",
      "Maximum:        1.493894\n",
      "Type:           Float64\n"
     ]
    }
   ],
   "source": [
    "describe(cmf1)"
   ]
  },
  {
   "cell_type": "code",
   "execution_count": 197,
   "id": "155b67f3-b596-448c-83da-5219ab757407",
   "metadata": {
    "collapsed": true,
    "execution": {
     "iopub.execute_input": "2021-07-29T18:30:41.746000+02:00",
     "iopub.status.busy": "2021-07-29T18:30:35.451000+02:00",
     "iopub.status.idle": "2021-07-29T18:31:01.980000+02:00",
     "shell.execute_reply": "2021-07-29T18:31:01.977000+02:00"
    },
    "jupyter": {
     "outputs_hidden": true
    },
    "tags": []
   },
   "outputs": [
    {
     "data": {
      "image/svg+xml": [
       "<?xml version=\"1.0\" encoding=\"utf-8\"?>\n",
       "<svg xmlns=\"http://www.w3.org/2000/svg\" xmlns:xlink=\"http://www.w3.org/1999/xlink\" width=\"600\" height=\"400\" viewBox=\"0 0 2400 1600\">\n",
       "<defs>\n",
       "  <clipPath id=\"clip500\">\n",
       "    <rect x=\"0\" y=\"0\" width=\"2400\" height=\"1600\"/>\n",
       "  </clipPath>\n",
       "</defs>\n",
       "<path clip-path=\"url(#clip500)\" d=\"\n",
       "M0 1600 L2400 1600 L2400 0 L0 0  Z\n",
       "  \" fill=\"#ffffff\" fill-rule=\"evenodd\" fill-opacity=\"1\"/>\n",
       "<defs>\n",
       "  <clipPath id=\"clip501\">\n",
       "    <rect x=\"480\" y=\"0\" width=\"1681\" height=\"1600\"/>\n",
       "  </clipPath>\n",
       "</defs>\n",
       "<path clip-path=\"url(#clip500)\" d=\"\n",
       "M277.431 1486.45 L2352.76 1486.45 L2352.76 47.2441 L277.431 47.2441  Z\n",
       "  \" fill=\"#ffffff\" fill-rule=\"evenodd\" fill-opacity=\"1\"/>\n",
       "<defs>\n",
       "  <clipPath id=\"clip502\">\n",
       "    <rect x=\"277\" y=\"47\" width=\"2076\" height=\"1440\"/>\n",
       "  </clipPath>\n",
       "</defs>\n",
       "<polyline clip-path=\"url(#clip502)\" style=\"stroke:#000000; stroke-width:2; stroke-opacity:0.1; fill:none\" points=\"\n",
       "  335.509,1486.45 335.509,47.2441 \n",
       "  \"/>\n",
       "<polyline clip-path=\"url(#clip502)\" style=\"stroke:#000000; stroke-width:2; stroke-opacity:0.1; fill:none\" points=\"\n",
       "  993.39,1486.45 993.39,47.2441 \n",
       "  \"/>\n",
       "<polyline clip-path=\"url(#clip502)\" style=\"stroke:#000000; stroke-width:2; stroke-opacity:0.1; fill:none\" points=\"\n",
       "  1651.27,1486.45 1651.27,47.2441 \n",
       "  \"/>\n",
       "<polyline clip-path=\"url(#clip502)\" style=\"stroke:#000000; stroke-width:2; stroke-opacity:0.1; fill:none\" points=\"\n",
       "  2309.15,1486.45 2309.15,47.2441 \n",
       "  \"/>\n",
       "<polyline clip-path=\"url(#clip500)\" style=\"stroke:#000000; stroke-width:4; stroke-opacity:1; fill:none\" points=\"\n",
       "  277.431,1486.45 2352.76,1486.45 \n",
       "  \"/>\n",
       "<polyline clip-path=\"url(#clip500)\" style=\"stroke:#000000; stroke-width:4; stroke-opacity:1; fill:none\" points=\"\n",
       "  335.509,1486.45 335.509,1469.18 \n",
       "  \"/>\n",
       "<polyline clip-path=\"url(#clip500)\" style=\"stroke:#000000; stroke-width:4; stroke-opacity:1; fill:none\" points=\"\n",
       "  993.39,1486.45 993.39,1469.18 \n",
       "  \"/>\n",
       "<polyline clip-path=\"url(#clip500)\" style=\"stroke:#000000; stroke-width:4; stroke-opacity:1; fill:none\" points=\"\n",
       "  1651.27,1486.45 1651.27,1469.18 \n",
       "  \"/>\n",
       "<polyline clip-path=\"url(#clip500)\" style=\"stroke:#000000; stroke-width:4; stroke-opacity:1; fill:none\" points=\"\n",
       "  2309.15,1486.45 2309.15,1469.18 \n",
       "  \"/>\n",
       "<path clip-path=\"url(#clip500)\" d=\"M 0 0 M335.509 1515.64 Q331.898 1515.64 330.069 1519.2 Q328.263 1522.75 328.263 1529.87 Q328.263 1536.98 330.069 1540.55 Q331.898 1544.09 335.509 1544.09 Q339.143 1544.09 340.948 1540.55 Q342.777 1536.98 342.777 1529.87 Q342.777 1522.75 340.948 1519.2 Q339.143 1515.64 335.509 1515.64 M335.509 1511.93 Q341.319 1511.93 344.374 1516.54 Q347.453 1521.12 347.453 1529.87 Q347.453 1538.6 344.374 1543.21 Q341.319 1547.79 335.509 1547.79 Q329.698 1547.79 326.62 1543.21 Q323.564 1538.6 323.564 1529.87 Q323.564 1521.12 326.62 1516.54 Q329.698 1511.93 335.509 1511.93 Z\" fill=\"#000000\" fill-rule=\"evenodd\" fill-opacity=\"1\" /><path clip-path=\"url(#clip500)\" d=\"M 0 0 M937.915 1543.18 L945.554 1543.18 L945.554 1516.82 L937.244 1518.49 L937.244 1514.23 L945.508 1512.56 L950.184 1512.56 L950.184 1543.18 L957.823 1543.18 L957.823 1547.12 L937.915 1547.12 L937.915 1543.18 Z\" fill=\"#000000\" fill-rule=\"evenodd\" fill-opacity=\"1\" /><path clip-path=\"url(#clip500)\" d=\"M 0 0 M977.267 1515.64 Q973.656 1515.64 971.827 1519.2 Q970.022 1522.75 970.022 1529.87 Q970.022 1536.98 971.827 1540.55 Q973.656 1544.09 977.267 1544.09 Q980.901 1544.09 982.707 1540.55 Q984.536 1536.98 984.536 1529.87 Q984.536 1522.75 982.707 1519.2 Q980.901 1515.64 977.267 1515.64 M977.267 1511.93 Q983.077 1511.93 986.133 1516.54 Q989.211 1521.12 989.211 1529.87 Q989.211 1538.6 986.133 1543.21 Q983.077 1547.79 977.267 1547.79 Q971.457 1547.79 968.378 1543.21 Q965.323 1538.6 965.323 1529.87 Q965.323 1521.12 968.378 1516.54 Q971.457 1511.93 977.267 1511.93 Z\" fill=\"#000000\" fill-rule=\"evenodd\" fill-opacity=\"1\" /><path clip-path=\"url(#clip500)\" d=\"M 0 0 M1007.43 1515.64 Q1003.82 1515.64 1001.99 1519.2 Q1000.18 1522.75 1000.18 1529.87 Q1000.18 1536.98 1001.99 1540.55 Q1003.82 1544.09 1007.43 1544.09 Q1011.06 1544.09 1012.87 1540.55 Q1014.7 1536.98 1014.7 1529.87 Q1014.7 1522.75 1012.87 1519.2 Q1011.06 1515.64 1007.43 1515.64 M1007.43 1511.93 Q1013.24 1511.93 1016.29 1516.54 Q1019.37 1521.12 1019.37 1529.87 Q1019.37 1538.6 1016.29 1543.21 Q1013.24 1547.79 1007.43 1547.79 Q1001.62 1547.79 998.54 1543.21 Q995.485 1538.6 995.485 1529.87 Q995.485 1521.12 998.54 1516.54 Q1001.62 1511.93 1007.43 1511.93 Z\" fill=\"#000000\" fill-rule=\"evenodd\" fill-opacity=\"1\" /><path clip-path=\"url(#clip500)\" d=\"M 0 0 M1037.59 1515.64 Q1033.98 1515.64 1032.15 1519.2 Q1030.35 1522.75 1030.35 1529.87 Q1030.35 1536.98 1032.15 1540.55 Q1033.98 1544.09 1037.59 1544.09 Q1041.23 1544.09 1043.03 1540.55 Q1044.86 1536.98 1044.86 1529.87 Q1044.86 1522.75 1043.03 1519.2 Q1041.23 1515.64 1037.59 1515.64 M1037.59 1511.93 Q1043.4 1511.93 1046.46 1516.54 Q1049.54 1521.12 1049.54 1529.87 Q1049.54 1538.6 1046.46 1543.21 Q1043.4 1547.79 1037.59 1547.79 Q1031.78 1547.79 1028.7 1543.21 Q1025.65 1538.6 1025.65 1529.87 Q1025.65 1521.12 1028.7 1516.54 Q1031.78 1511.93 1037.59 1511.93 Z\" fill=\"#000000\" fill-rule=\"evenodd\" fill-opacity=\"1\" /><path clip-path=\"url(#clip500)\" d=\"M 0 0 M1599.88 1543.18 L1616.2 1543.18 L1616.2 1547.12 L1594.26 1547.12 L1594.26 1543.18 Q1596.92 1540.43 1601.5 1535.8 Q1606.11 1531.15 1607.29 1529.81 Q1609.53 1527.28 1610.41 1525.55 Q1611.32 1523.79 1611.32 1522.1 Q1611.32 1519.34 1609.37 1517.61 Q1607.45 1515.87 1604.35 1515.87 Q1602.15 1515.87 1599.7 1516.63 Q1597.27 1517.4 1594.49 1518.95 L1594.49 1514.23 Q1597.31 1513.09 1599.77 1512.51 Q1602.22 1511.93 1604.26 1511.93 Q1609.63 1511.93 1612.82 1514.62 Q1616.02 1517.31 1616.02 1521.8 Q1616.02 1523.93 1615.21 1525.85 Q1614.42 1527.74 1612.31 1530.34 Q1611.73 1531.01 1608.63 1534.23 Q1605.53 1537.42 1599.88 1543.18 Z\" fill=\"#000000\" fill-rule=\"evenodd\" fill-opacity=\"1\" /><path clip-path=\"url(#clip500)\" d=\"M 0 0 M1636.02 1515.64 Q1632.4 1515.64 1630.58 1519.2 Q1628.77 1522.75 1628.77 1529.87 Q1628.77 1536.98 1630.58 1540.55 Q1632.4 1544.09 1636.02 1544.09 Q1639.65 1544.09 1641.46 1540.55 Q1643.28 1536.98 1643.28 1529.87 Q1643.28 1522.75 1641.46 1519.2 Q1639.65 1515.64 1636.02 1515.64 M1636.02 1511.93 Q1641.83 1511.93 1644.88 1516.54 Q1647.96 1521.12 1647.96 1529.87 Q1647.96 1538.6 1644.88 1543.21 Q1641.83 1547.79 1636.02 1547.79 Q1630.21 1547.79 1627.13 1543.21 Q1624.07 1538.6 1624.07 1529.87 Q1624.07 1521.12 1627.13 1516.54 Q1630.21 1511.93 1636.02 1511.93 Z\" fill=\"#000000\" fill-rule=\"evenodd\" fill-opacity=\"1\" /><path clip-path=\"url(#clip500)\" d=\"M 0 0 M1666.18 1515.64 Q1662.57 1515.64 1660.74 1519.2 Q1658.93 1522.75 1658.93 1529.87 Q1658.93 1536.98 1660.74 1540.55 Q1662.57 1544.09 1666.18 1544.09 Q1669.81 1544.09 1671.62 1540.55 Q1673.45 1536.98 1673.45 1529.87 Q1673.45 1522.75 1671.62 1519.2 Q1669.81 1515.64 1666.18 1515.64 M1666.18 1511.93 Q1671.99 1511.93 1675.04 1516.54 Q1678.12 1521.12 1678.12 1529.87 Q1678.12 1538.6 1675.04 1543.21 Q1671.99 1547.79 1666.18 1547.79 Q1660.37 1547.79 1657.29 1543.21 Q1654.23 1538.6 1654.23 1529.87 Q1654.23 1521.12 1657.29 1516.54 Q1660.37 1511.93 1666.18 1511.93 Z\" fill=\"#000000\" fill-rule=\"evenodd\" fill-opacity=\"1\" /><path clip-path=\"url(#clip500)\" d=\"M 0 0 M1696.34 1515.64 Q1692.73 1515.64 1690.9 1519.2 Q1689.09 1522.75 1689.09 1529.87 Q1689.09 1536.98 1690.9 1540.55 Q1692.73 1544.09 1696.34 1544.09 Q1699.97 1544.09 1701.78 1540.55 Q1703.61 1536.98 1703.61 1529.87 Q1703.61 1522.75 1701.78 1519.2 Q1699.97 1515.64 1696.34 1515.64 M1696.34 1511.93 Q1702.15 1511.93 1705.21 1516.54 Q1708.28 1521.12 1708.28 1529.87 Q1708.28 1538.6 1705.21 1543.21 Q1702.15 1547.79 1696.34 1547.79 Q1690.53 1547.79 1687.45 1543.21 Q1684.4 1538.6 1684.4 1529.87 Q1684.4 1521.12 1687.45 1516.54 Q1690.53 1511.93 1696.34 1511.93 Z\" fill=\"#000000\" fill-rule=\"evenodd\" fill-opacity=\"1\" /><path clip-path=\"url(#clip500)\" d=\"M 0 0 M2267.83 1528.49 Q2271.19 1529.2 2273.06 1531.47 Q2274.96 1533.74 2274.96 1537.07 Q2274.96 1542.19 2271.44 1544.99 Q2267.92 1547.79 2261.44 1547.79 Q2259.27 1547.79 2256.95 1547.35 Q2254.66 1546.93 2252.21 1546.08 L2252.21 1541.56 Q2254.15 1542.7 2256.47 1543.28 Q2258.78 1543.86 2261.3 1543.86 Q2265.7 1543.86 2267.99 1542.12 Q2270.31 1540.38 2270.31 1537.07 Q2270.31 1534.02 2268.16 1532.31 Q2266.03 1530.57 2262.21 1530.57 L2258.18 1530.57 L2258.18 1526.73 L2262.39 1526.73 Q2265.84 1526.73 2267.67 1525.36 Q2269.5 1523.97 2269.5 1521.38 Q2269.5 1518.72 2267.6 1517.31 Q2265.73 1515.87 2262.21 1515.87 Q2260.29 1515.87 2258.09 1516.29 Q2255.89 1516.7 2253.25 1517.58 L2253.25 1513.42 Q2255.91 1512.68 2258.23 1512.31 Q2260.56 1511.93 2262.62 1511.93 Q2267.95 1511.93 2271.05 1514.37 Q2274.15 1516.77 2274.15 1520.89 Q2274.15 1523.76 2272.51 1525.75 Q2270.86 1527.72 2267.83 1528.49 Z\" fill=\"#000000\" fill-rule=\"evenodd\" fill-opacity=\"1\" /><path clip-path=\"url(#clip500)\" d=\"M 0 0 M2293.83 1515.64 Q2290.22 1515.64 2288.39 1519.2 Q2286.58 1522.75 2286.58 1529.87 Q2286.58 1536.98 2288.39 1540.55 Q2290.22 1544.09 2293.83 1544.09 Q2297.46 1544.09 2299.27 1540.55 Q2301.1 1536.98 2301.1 1529.87 Q2301.1 1522.75 2299.27 1519.2 Q2297.46 1515.64 2293.83 1515.64 M2293.83 1511.93 Q2299.64 1511.93 2302.69 1516.54 Q2305.77 1521.12 2305.77 1529.87 Q2305.77 1538.6 2302.69 1543.21 Q2299.64 1547.79 2293.83 1547.79 Q2288.02 1547.79 2284.94 1543.21 Q2281.88 1538.6 2281.88 1529.87 Q2281.88 1521.12 2284.94 1516.54 Q2288.02 1511.93 2293.83 1511.93 Z\" fill=\"#000000\" fill-rule=\"evenodd\" fill-opacity=\"1\" /><path clip-path=\"url(#clip500)\" d=\"M 0 0 M2323.99 1515.64 Q2320.38 1515.64 2318.55 1519.2 Q2316.74 1522.75 2316.74 1529.87 Q2316.74 1536.98 2318.55 1540.55 Q2320.38 1544.09 2323.99 1544.09 Q2327.62 1544.09 2329.43 1540.55 Q2331.26 1536.98 2331.26 1529.87 Q2331.26 1522.75 2329.43 1519.2 Q2327.62 1515.64 2323.99 1515.64 M2323.99 1511.93 Q2329.8 1511.93 2332.86 1516.54 Q2335.93 1521.12 2335.93 1529.87 Q2335.93 1538.6 2332.86 1543.21 Q2329.8 1547.79 2323.99 1547.79 Q2318.18 1547.79 2315.1 1543.21 Q2312.05 1538.6 2312.05 1529.87 Q2312.05 1521.12 2315.1 1516.54 Q2318.18 1511.93 2323.99 1511.93 Z\" fill=\"#000000\" fill-rule=\"evenodd\" fill-opacity=\"1\" /><path clip-path=\"url(#clip500)\" d=\"M 0 0 M2354.15 1515.64 Q2350.54 1515.64 2348.71 1519.2 Q2346.91 1522.75 2346.91 1529.87 Q2346.91 1536.98 2348.71 1540.55 Q2350.54 1544.09 2354.15 1544.09 Q2357.79 1544.09 2359.59 1540.55 Q2361.42 1536.98 2361.42 1529.87 Q2361.42 1522.75 2359.59 1519.2 Q2357.79 1515.64 2354.15 1515.64 M2354.15 1511.93 Q2359.96 1511.93 2363.02 1516.54 Q2366.1 1521.12 2366.1 1529.87 Q2366.1 1538.6 2363.02 1543.21 Q2359.96 1547.79 2354.15 1547.79 Q2348.34 1547.79 2345.26 1543.21 Q2342.21 1538.6 2342.21 1529.87 Q2342.21 1521.12 2345.26 1516.54 Q2348.34 1511.93 2354.15 1511.93 Z\" fill=\"#000000\" fill-rule=\"evenodd\" fill-opacity=\"1\" /><polyline clip-path=\"url(#clip502)\" style=\"stroke:#000000; stroke-width:2; stroke-opacity:0.1; fill:none\" points=\"\n",
       "  277.431,1445.72 2352.76,1445.72 \n",
       "  \"/>\n",
       "<polyline clip-path=\"url(#clip502)\" style=\"stroke:#000000; stroke-width:2; stroke-opacity:0.1; fill:none\" points=\"\n",
       "  277.431,1138.7 2352.76,1138.7 \n",
       "  \"/>\n",
       "<polyline clip-path=\"url(#clip502)\" style=\"stroke:#000000; stroke-width:2; stroke-opacity:0.1; fill:none\" points=\"\n",
       "  277.431,831.692 2352.76,831.692 \n",
       "  \"/>\n",
       "<polyline clip-path=\"url(#clip502)\" style=\"stroke:#000000; stroke-width:2; stroke-opacity:0.1; fill:none\" points=\"\n",
       "  277.431,524.681 2352.76,524.681 \n",
       "  \"/>\n",
       "<polyline clip-path=\"url(#clip502)\" style=\"stroke:#000000; stroke-width:2; stroke-opacity:0.1; fill:none\" points=\"\n",
       "  277.431,217.669 2352.76,217.669 \n",
       "  \"/>\n",
       "<polyline clip-path=\"url(#clip500)\" style=\"stroke:#000000; stroke-width:4; stroke-opacity:1; fill:none\" points=\"\n",
       "  277.431,1486.45 277.431,47.2441 \n",
       "  \"/>\n",
       "<polyline clip-path=\"url(#clip500)\" style=\"stroke:#000000; stroke-width:4; stroke-opacity:1; fill:none\" points=\"\n",
       "  277.431,1445.72 302.335,1445.72 \n",
       "  \"/>\n",
       "<polyline clip-path=\"url(#clip500)\" style=\"stroke:#000000; stroke-width:4; stroke-opacity:1; fill:none\" points=\"\n",
       "  277.431,1138.7 302.335,1138.7 \n",
       "  \"/>\n",
       "<polyline clip-path=\"url(#clip500)\" style=\"stroke:#000000; stroke-width:4; stroke-opacity:1; fill:none\" points=\"\n",
       "  277.431,831.692 302.335,831.692 \n",
       "  \"/>\n",
       "<polyline clip-path=\"url(#clip500)\" style=\"stroke:#000000; stroke-width:4; stroke-opacity:1; fill:none\" points=\"\n",
       "  277.431,524.681 302.335,524.681 \n",
       "  \"/>\n",
       "<polyline clip-path=\"url(#clip500)\" style=\"stroke:#000000; stroke-width:4; stroke-opacity:1; fill:none\" points=\"\n",
       "  277.431,217.669 302.335,217.669 \n",
       "  \"/>\n",
       "<path clip-path=\"url(#clip500)\" d=\"M 0 0 M229.487 1431.51 Q225.875 1431.51 224.047 1435.08 Q222.241 1438.62 222.241 1445.75 Q222.241 1452.86 224.047 1456.42 Q225.875 1459.96 229.487 1459.96 Q233.121 1459.96 234.926 1456.42 Q236.755 1452.86 236.755 1445.75 Q236.755 1438.62 234.926 1435.08 Q233.121 1431.51 229.487 1431.51 M229.487 1427.81 Q235.297 1427.81 238.352 1432.42 Q241.431 1437 241.431 1445.75 Q241.431 1454.48 238.352 1459.08 Q235.297 1463.67 229.487 1463.67 Q223.676 1463.67 220.598 1459.08 Q217.542 1454.48 217.542 1445.75 Q217.542 1437 220.598 1432.42 Q223.676 1427.81 229.487 1427.81 Z\" fill=\"#000000\" fill-rule=\"evenodd\" fill-opacity=\"1\" /><path clip-path=\"url(#clip500)\" d=\"M 0 0 M57.7745 1158.5 L74.0939 1158.5 L74.0939 1162.43 L52.1495 1162.43 L52.1495 1158.5 Q54.8115 1155.74 59.3949 1151.11 Q64.0013 1146.46 65.1819 1145.12 Q67.4272 1142.59 68.3068 1140.86 Q69.2096 1139.1 69.2096 1137.41 Q69.2096 1134.65 67.2652 1132.92 Q65.3439 1131.18 62.2421 1131.18 Q60.043 1131.18 57.5893 1131.95 Q55.1588 1132.71 52.381 1134.26 L52.381 1129.54 Q55.2051 1128.4 57.6588 1127.83 Q60.1124 1127.25 62.1495 1127.25 Q67.5198 1127.25 70.7142 1129.93 Q73.9087 1132.62 73.9087 1137.11 Q73.9087 1139.24 73.0985 1141.16 Q72.3115 1143.06 70.205 1145.65 Q69.6263 1146.32 66.5245 1149.54 Q63.4226 1152.73 57.7745 1158.5 Z\" fill=\"#000000\" fill-rule=\"evenodd\" fill-opacity=\"1\" /><path clip-path=\"url(#clip500)\" d=\"M 0 0 M83.9086 1156.55 L88.7928 1156.55 L88.7928 1162.43 L83.9086 1162.43 L83.9086 1156.55 Z\" fill=\"#000000\" fill-rule=\"evenodd\" fill-opacity=\"1\" /><path clip-path=\"url(#clip500)\" d=\"M 0 0 M108.978 1130.95 Q105.367 1130.95 103.538 1134.52 Q101.733 1138.06 101.733 1145.19 Q101.733 1152.29 103.538 1155.86 Q105.367 1159.4 108.978 1159.4 Q112.612 1159.4 114.418 1155.86 Q116.246 1152.29 116.246 1145.19 Q116.246 1138.06 114.418 1134.52 Q112.612 1130.95 108.978 1130.95 M108.978 1127.25 Q114.788 1127.25 117.844 1131.85 Q120.922 1136.44 120.922 1145.19 Q120.922 1153.91 117.844 1158.52 Q114.788 1163.1 108.978 1163.1 Q103.168 1163.1 100.089 1158.52 Q97.0335 1153.91 97.0335 1145.19 Q97.0335 1136.44 100.089 1131.85 Q103.168 1127.25 108.978 1127.25 Z\" fill=\"#000000\" fill-rule=\"evenodd\" fill-opacity=\"1\" /><path clip-path=\"url(#clip500)\" d=\"M 0 0 M157.311 1136.97 L146.732 1147.59 L157.311 1158.17 L154.556 1160.97 L143.931 1150.35 L133.306 1160.97 L130.575 1158.17 L141.131 1147.59 L130.575 1136.97 L133.306 1134.17 L143.931 1144.79 L154.556 1134.17 L157.311 1136.97 Z\" fill=\"#000000\" fill-rule=\"evenodd\" fill-opacity=\"1\" /><path clip-path=\"url(#clip500)\" d=\"M 0 0 M169.672 1158.5 L177.311 1158.5 L177.311 1132.13 L169.001 1133.8 L169.001 1129.54 L177.265 1127.87 L181.94 1127.87 L181.94 1158.5 L189.579 1158.5 L189.579 1162.43 L169.672 1162.43 L169.672 1158.5 Z\" fill=\"#000000\" fill-rule=\"evenodd\" fill-opacity=\"1\" /><path clip-path=\"url(#clip500)\" d=\"M 0 0 M209.024 1130.95 Q205.413 1130.95 203.584 1134.52 Q201.778 1138.06 201.778 1145.19 Q201.778 1152.29 203.584 1155.86 Q205.413 1159.4 209.024 1159.4 Q212.658 1159.4 214.463 1155.86 Q216.292 1152.29 216.292 1145.19 Q216.292 1138.06 214.463 1134.52 Q212.658 1130.95 209.024 1130.95 M209.024 1127.25 Q214.834 1127.25 217.889 1131.85 Q220.968 1136.44 220.968 1145.19 Q220.968 1153.91 217.889 1158.52 Q214.834 1163.1 209.024 1163.1 Q203.214 1163.1 200.135 1158.52 Q197.079 1153.91 197.079 1145.19 Q197.079 1136.44 200.135 1131.85 Q203.214 1127.25 209.024 1127.25 Z\" fill=\"#000000\" fill-rule=\"evenodd\" fill-opacity=\"1\" /><path clip-path=\"url(#clip500)\" d=\"M 0 0 M233.645 1110.25 L224.053 1125.24 L233.645 1125.24 L233.645 1110.25 M232.648 1106.94 L237.425 1106.94 L237.425 1125.24 L241.431 1125.24 L241.431 1128.4 L237.425 1128.4 L237.425 1135.02 L233.645 1135.02 L233.645 1128.4 L220.968 1128.4 L220.968 1124.73 L232.648 1106.94 Z\" fill=\"#000000\" fill-rule=\"evenodd\" fill-opacity=\"1\" /><path clip-path=\"url(#clip500)\" d=\"M 0 0 M66.5939 824.934 L54.7884 843.383 L66.5939 843.383 L66.5939 824.934 M65.367 820.86 L71.2466 820.86 L71.2466 843.383 L76.1772 843.383 L76.1772 847.272 L71.2466 847.272 L71.2466 855.42 L66.5939 855.42 L66.5939 847.272 L50.9921 847.272 L50.9921 842.758 L65.367 820.86 Z\" fill=\"#000000\" fill-rule=\"evenodd\" fill-opacity=\"1\" /><path clip-path=\"url(#clip500)\" d=\"M 0 0 M83.9086 849.54 L88.7928 849.54 L88.7928 855.42 L83.9086 855.42 L83.9086 849.54 Z\" fill=\"#000000\" fill-rule=\"evenodd\" fill-opacity=\"1\" /><path clip-path=\"url(#clip500)\" d=\"M 0 0 M108.978 823.939 Q105.367 823.939 103.538 827.503 Q101.733 831.045 101.733 838.175 Q101.733 845.281 103.538 848.846 Q105.367 852.388 108.978 852.388 Q112.612 852.388 114.418 848.846 Q116.246 845.281 116.246 838.175 Q116.246 831.045 114.418 827.503 Q112.612 823.939 108.978 823.939 M108.978 820.235 Q114.788 820.235 117.844 824.841 Q120.922 829.425 120.922 838.175 Q120.922 846.902 117.844 851.508 Q114.788 856.091 108.978 856.091 Q103.168 856.091 100.089 851.508 Q97.0335 846.902 97.0335 838.175 Q97.0335 829.425 100.089 824.841 Q103.168 820.235 108.978 820.235 Z\" fill=\"#000000\" fill-rule=\"evenodd\" fill-opacity=\"1\" /><path clip-path=\"url(#clip500)\" d=\"M 0 0 M157.311 829.957 L146.732 840.582 L157.311 851.161 L154.556 853.962 L143.931 843.337 L133.306 853.962 L130.575 851.161 L141.131 840.582 L130.575 829.957 L133.306 827.156 L143.931 837.781 L154.556 827.156 L157.311 829.957 Z\" fill=\"#000000\" fill-rule=\"evenodd\" fill-opacity=\"1\" /><path clip-path=\"url(#clip500)\" d=\"M 0 0 M169.672 851.485 L177.311 851.485 L177.311 825.119 L169.001 826.786 L169.001 822.527 L177.265 820.86 L181.94 820.86 L181.94 851.485 L189.579 851.485 L189.579 855.42 L169.672 855.42 L169.672 851.485 Z\" fill=\"#000000\" fill-rule=\"evenodd\" fill-opacity=\"1\" /><path clip-path=\"url(#clip500)\" d=\"M 0 0 M209.024 823.939 Q205.413 823.939 203.584 827.503 Q201.778 831.045 201.778 838.175 Q201.778 845.281 203.584 848.846 Q205.413 852.388 209.024 852.388 Q212.658 852.388 214.463 848.846 Q216.292 845.281 216.292 838.175 Q216.292 831.045 214.463 827.503 Q212.658 823.939 209.024 823.939 M209.024 820.235 Q214.834 820.235 217.889 824.841 Q220.968 829.425 220.968 838.175 Q220.968 846.902 217.889 851.508 Q214.834 856.091 209.024 856.091 Q203.214 856.091 200.135 851.508 Q197.079 846.902 197.079 838.175 Q197.079 829.425 200.135 824.841 Q203.214 820.235 209.024 820.235 Z\" fill=\"#000000\" fill-rule=\"evenodd\" fill-opacity=\"1\" /><path clip-path=\"url(#clip500)\" d=\"M 0 0 M233.645 803.24 L224.053 818.23 L233.645 818.23 L233.645 803.24 M232.648 799.93 L237.425 799.93 L237.425 818.23 L241.431 818.23 L241.431 821.389 L237.425 821.389 L237.425 828.01 L233.645 828.01 L233.645 821.389 L220.968 821.389 L220.968 817.722 L232.648 799.93 Z\" fill=\"#000000\" fill-rule=\"evenodd\" fill-opacity=\"1\" /><path clip-path=\"url(#clip500)\" d=\"M 0 0 M64.3254 529.265 Q61.1773 529.265 59.3254 531.418 Q57.4967 533.57 57.4967 537.32 Q57.4967 541.047 59.3254 543.223 Q61.1773 545.376 64.3254 545.376 Q67.4735 545.376 69.3022 543.223 Q71.1541 541.047 71.1541 537.32 Q71.1541 533.57 69.3022 531.418 Q67.4735 529.265 64.3254 529.265 M73.6077 514.612 L73.6077 518.871 Q71.8485 518.038 70.0429 517.598 Q68.2606 517.159 66.5013 517.159 Q61.8717 517.159 59.418 520.283 Q56.9875 523.408 56.6402 529.728 Q58.006 527.714 60.0662 526.649 Q62.1263 525.561 64.6032 525.561 Q69.8115 525.561 72.8207 528.733 Q75.8531 531.881 75.8531 537.32 Q75.8531 542.644 72.705 545.862 Q69.5568 549.08 64.3254 549.08 Q58.33 549.08 55.1588 544.496 Q51.9875 539.89 51.9875 531.163 Q51.9875 522.969 55.8764 518.108 Q59.7652 513.223 66.3161 513.223 Q68.0754 513.223 69.8578 513.571 Q71.6633 513.918 73.6077 514.612 Z\" fill=\"#000000\" fill-rule=\"evenodd\" fill-opacity=\"1\" /><path clip-path=\"url(#clip500)\" d=\"M 0 0 M83.9086 542.529 L88.7928 542.529 L88.7928 548.408 L83.9086 548.408 L83.9086 542.529 Z\" fill=\"#000000\" fill-rule=\"evenodd\" fill-opacity=\"1\" /><path clip-path=\"url(#clip500)\" d=\"M 0 0 M108.978 516.927 Q105.367 516.927 103.538 520.492 Q101.733 524.033 101.733 531.163 Q101.733 538.27 103.538 541.834 Q105.367 545.376 108.978 545.376 Q112.612 545.376 114.418 541.834 Q116.246 538.27 116.246 531.163 Q116.246 524.033 114.418 520.492 Q112.612 516.927 108.978 516.927 M108.978 513.223 Q114.788 513.223 117.844 517.83 Q120.922 522.413 120.922 531.163 Q120.922 539.89 117.844 544.496 Q114.788 549.08 108.978 549.08 Q103.168 549.08 100.089 544.496 Q97.0335 539.89 97.0335 531.163 Q97.0335 522.413 100.089 517.83 Q103.168 513.223 108.978 513.223 Z\" fill=\"#000000\" fill-rule=\"evenodd\" fill-opacity=\"1\" /><path clip-path=\"url(#clip500)\" d=\"M 0 0 M157.311 522.946 L146.732 533.57 L157.311 544.149 L154.556 546.95 L143.931 536.325 L133.306 546.95 L130.575 544.149 L141.131 533.57 L130.575 522.946 L133.306 520.145 L143.931 530.77 L154.556 520.145 L157.311 522.946 Z\" fill=\"#000000\" fill-rule=\"evenodd\" fill-opacity=\"1\" /><path clip-path=\"url(#clip500)\" d=\"M 0 0 M169.672 544.473 L177.311 544.473 L177.311 518.108 L169.001 519.774 L169.001 515.515 L177.265 513.848 L181.94 513.848 L181.94 544.473 L189.579 544.473 L189.579 548.408 L169.672 548.408 L169.672 544.473 Z\" fill=\"#000000\" fill-rule=\"evenodd\" fill-opacity=\"1\" /><path clip-path=\"url(#clip500)\" d=\"M 0 0 M209.024 516.927 Q205.413 516.927 203.584 520.492 Q201.778 524.033 201.778 531.163 Q201.778 538.27 203.584 541.834 Q205.413 545.376 209.024 545.376 Q212.658 545.376 214.463 541.834 Q216.292 538.27 216.292 531.163 Q216.292 524.033 214.463 520.492 Q212.658 516.927 209.024 516.927 M209.024 513.223 Q214.834 513.223 217.889 517.83 Q220.968 522.413 220.968 531.163 Q220.968 539.89 217.889 544.496 Q214.834 549.08 209.024 549.08 Q203.214 549.08 200.135 544.496 Q197.079 539.89 197.079 531.163 Q197.079 522.413 200.135 517.83 Q203.214 513.223 209.024 513.223 Z\" fill=\"#000000\" fill-rule=\"evenodd\" fill-opacity=\"1\" /><path clip-path=\"url(#clip500)\" d=\"M 0 0 M233.645 496.228 L224.053 511.218 L233.645 511.218 L233.645 496.228 M232.648 492.918 L237.425 492.918 L237.425 511.218 L241.431 511.218 L241.431 514.378 L237.425 514.378 L237.425 520.998 L233.645 520.998 L233.645 514.378 L220.968 514.378 L220.968 510.71 L232.648 492.918 Z\" fill=\"#000000\" fill-rule=\"evenodd\" fill-opacity=\"1\" /><path clip-path=\"url(#clip500)\" d=\"M 0 0 M63.7467 224.985 Q60.4134 224.985 58.4921 226.767 Q56.5939 228.55 56.5939 231.675 Q56.5939 234.8 58.4921 236.582 Q60.4134 238.364 63.7467 238.364 Q67.08 238.364 69.0013 236.582 Q70.9226 234.776 70.9226 231.675 Q70.9226 228.55 69.0013 226.767 Q67.1032 224.985 63.7467 224.985 M59.0708 222.994 Q56.0615 222.253 54.3717 220.193 Q52.7051 218.133 52.7051 215.17 Q52.7051 211.026 55.6449 208.619 Q58.6078 206.212 63.7467 206.212 Q68.9087 206.212 71.8485 208.619 Q74.7883 211.026 74.7883 215.17 Q74.7883 218.133 73.0985 220.193 Q71.4318 222.253 68.4457 222.994 Q71.8253 223.781 73.7003 226.073 Q75.5985 228.364 75.5985 231.675 Q75.5985 236.698 72.5198 239.383 Q69.4642 242.068 63.7467 242.068 Q58.0291 242.068 54.9504 239.383 Q51.8949 236.698 51.8949 231.675 Q51.8949 228.364 53.793 226.073 Q55.6912 223.781 59.0708 222.994 M57.3578 215.61 Q57.3578 218.295 59.0245 219.8 Q60.7143 221.304 63.7467 221.304 Q66.7559 221.304 68.4457 219.8 Q70.1587 218.295 70.1587 215.61 Q70.1587 212.925 68.4457 211.42 Q66.7559 209.915 63.7467 209.915 Q60.7143 209.915 59.0245 211.42 Q57.3578 212.925 57.3578 215.61 Z\" fill=\"#000000\" fill-rule=\"evenodd\" fill-opacity=\"1\" /><path clip-path=\"url(#clip500)\" d=\"M 0 0 M83.9086 235.517 L88.7928 235.517 L88.7928 241.397 L83.9086 241.397 L83.9086 235.517 Z\" fill=\"#000000\" fill-rule=\"evenodd\" fill-opacity=\"1\" /><path clip-path=\"url(#clip500)\" d=\"M 0 0 M108.978 209.915 Q105.367 209.915 103.538 213.48 Q101.733 217.022 101.733 224.151 Q101.733 231.258 103.538 234.823 Q105.367 238.364 108.978 238.364 Q112.612 238.364 114.418 234.823 Q116.246 231.258 116.246 224.151 Q116.246 217.022 114.418 213.48 Q112.612 209.915 108.978 209.915 M108.978 206.212 Q114.788 206.212 117.844 210.818 Q120.922 215.401 120.922 224.151 Q120.922 232.878 117.844 237.485 Q114.788 242.068 108.978 242.068 Q103.168 242.068 100.089 237.485 Q97.0335 232.878 97.0335 224.151 Q97.0335 215.401 100.089 210.818 Q103.168 206.212 108.978 206.212 Z\" fill=\"#000000\" fill-rule=\"evenodd\" fill-opacity=\"1\" /><path clip-path=\"url(#clip500)\" d=\"M 0 0 M157.311 215.934 L146.732 226.559 L157.311 237.137 L154.556 239.938 L143.931 229.313 L133.306 239.938 L130.575 237.137 L141.131 226.559 L130.575 215.934 L133.306 213.133 L143.931 223.758 L154.556 213.133 L157.311 215.934 Z\" fill=\"#000000\" fill-rule=\"evenodd\" fill-opacity=\"1\" /><path clip-path=\"url(#clip500)\" d=\"M 0 0 M169.672 237.462 L177.311 237.462 L177.311 211.096 L169.001 212.763 L169.001 208.503 L177.265 206.837 L181.94 206.837 L181.94 237.462 L189.579 237.462 L189.579 241.397 L169.672 241.397 L169.672 237.462 Z\" fill=\"#000000\" fill-rule=\"evenodd\" fill-opacity=\"1\" /><path clip-path=\"url(#clip500)\" d=\"M 0 0 M209.024 209.915 Q205.413 209.915 203.584 213.48 Q201.778 217.022 201.778 224.151 Q201.778 231.258 203.584 234.823 Q205.413 238.364 209.024 238.364 Q212.658 238.364 214.463 234.823 Q216.292 231.258 216.292 224.151 Q216.292 217.022 214.463 213.48 Q212.658 209.915 209.024 209.915 M209.024 206.212 Q214.834 206.212 217.889 210.818 Q220.968 215.401 220.968 224.151 Q220.968 232.878 217.889 237.485 Q214.834 242.068 209.024 242.068 Q203.214 242.068 200.135 237.485 Q197.079 232.878 197.079 224.151 Q197.079 215.401 200.135 210.818 Q203.214 206.212 209.024 206.212 Z\" fill=\"#000000\" fill-rule=\"evenodd\" fill-opacity=\"1\" /><path clip-path=\"url(#clip500)\" d=\"M 0 0 M233.645 189.216 L224.053 204.206 L233.645 204.206 L233.645 189.216 M232.648 185.906 L237.425 185.906 L237.425 204.206 L241.431 204.206 L241.431 207.366 L237.425 207.366 L237.425 213.986 L233.645 213.986 L233.645 207.366 L220.968 207.366 L220.968 203.698 L232.648 185.906 Z\" fill=\"#000000\" fill-rule=\"evenodd\" fill-opacity=\"1\" /><polyline clip-path=\"url(#clip502)\" style=\"stroke:#009af9; stroke-width:4; stroke-opacity:1; fill:none\" points=\"\n",
       "  346.693,1445.35 347.351,1445.68 348.008,1445.69 348.666,1445.7 349.324,1445.69 349.982,1445.7 350.64,1445.7 351.298,1445.7 351.956,1445.7 352.614,1445.7 \n",
       "  353.271,1445.7 353.929,1445.71 354.587,1445.71 355.245,1445.71 355.903,1445.71 356.561,1445.71 357.219,1445.71 357.877,1445.71 358.534,1445.7 359.192,1445.7 \n",
       "  359.85,1445.7 360.508,1445.7 361.166,1445.7 361.824,1445.7 362.482,1445.7 363.14,1445.7 363.798,1445.7 364.455,1445.7 365.113,1445.7 365.771,1445.7 \n",
       "  366.429,1445.7 367.087,1445.7 367.745,1445.7 368.403,1445.71 369.061,1445.71 369.718,1445.71 370.376,1445.7 371.034,1445.7 371.692,1445.7 372.35,1445.71 \n",
       "  373.008,1445.71 373.666,1445.71 374.324,1445.7 374.982,1445.71 375.639,1445.7 376.297,1445.7 376.955,1445.7 377.613,1445.7 378.271,1445.7 378.929,1445.7 \n",
       "  379.587,1445.71 380.245,1445.71 380.902,1445.7 381.56,1445.7 382.218,1445.7 382.876,1445.7 383.534,1445.7 384.192,1445.71 384.85,1445.71 385.508,1445.71 \n",
       "  386.165,1445.7 386.823,1445.69 387.481,1445.14 \n",
       "  \"/>\n",
       "<polyline clip-path=\"url(#clip502)\" style=\"stroke:#009af9; stroke-width:4; stroke-opacity:1; fill:none\" points=\"\n",
       "  409.849,1445.56 410.507,1445.7 411.165,1445.71 411.823,1445.71 412.481,1445.7 413.139,1445.7 413.796,1445.7 414.454,1445.71 415.112,1445.71 415.77,1445.71 \n",
       "  416.428,1445.71 417.086,1445.71 417.744,1445.7 418.402,1445.7 419.06,1445.71 419.717,1445.71 420.375,1445.7 421.033,1445.7 421.691,1445.7 422.349,1445.7 \n",
       "  423.007,1445.7 423.665,1445.71 424.323,1445.71 424.98,1445.71 425.638,1445.7 426.296,1445.71 426.954,1445.7 427.612,1445.71 428.27,1445.71 428.928,1445.71 \n",
       "  429.586,1445.71 430.244,1445.7 430.901,1445.71 431.559,1445.71 432.217,1445.71 432.875,1445.7 433.533,1445.7 434.191,1445.7 434.849,1445.71 435.507,1445.71 \n",
       "  436.164,1445.71 436.822,1445.7 437.48,1445.7 438.138,1445.71 438.796,1445.71 439.454,1445.7 440.112,1445.7 440.77,1445.7 441.427,1445.7 442.085,1445.71 \n",
       "  442.743,1445.7 443.401,1445.7 444.059,1445.71 444.717,1445.71 445.375,1445.71 446.033,1445.71 446.691,1445.71 447.348,1445.71 448.006,1445.71 448.664,1445.71 \n",
       "  449.322,1445.71 449.98,1445.71 450.638,1445.62 \n",
       "  \"/>\n",
       "<polyline clip-path=\"url(#clip502)\" style=\"stroke:#009af9; stroke-width:4; stroke-opacity:1; fill:none\" points=\"\n",
       "  473.006,1445.66 473.664,1445.71 474.322,1445.71 474.979,1445.71 475.637,1445.71 476.295,1445.71 476.953,1445.71 477.611,1445.71 478.269,1445.71 478.927,1445.71 \n",
       "  479.585,1445.71 480.242,1445.71 480.9,1445.71 481.558,1445.71 482.216,1445.71 482.874,1445.71 483.532,1445.71 484.19,1445.71 484.848,1445.71 485.506,1445.71 \n",
       "  486.163,1445.71 486.821,1445.71 487.479,1445.71 488.137,1445.7 488.795,1445.71 489.453,1445.7 490.111,1445.7 490.769,1445.7 491.426,1445.7 492.084,1445.71 \n",
       "  492.742,1445.71 493.4,1445.71 494.058,1445.71 494.716,1445.71 495.374,1445.71 496.032,1445.71 496.689,1445.71 497.347,1445.71 498.005,1445.71 498.663,1445.71 \n",
       "  499.321,1445.71 499.979,1445.71 500.637,1445.71 501.295,1445.71 501.953,1445.71 502.61,1445.71 503.268,1445.71 503.926,1445.71 504.584,1445.71 505.242,1445.71 \n",
       "  505.9,1445.71 506.558,1445.71 507.216,1445.7 507.873,1445.7 508.531,1445.7 509.189,1445.7 509.847,1445.7 510.505,1445.71 511.163,1445.71 511.821,1445.71 \n",
       "  512.479,1445.7 513.137,1445.68 513.794,1445.11 \n",
       "  \"/>\n",
       "<polyline clip-path=\"url(#clip502)\" style=\"stroke:#009af9; stroke-width:4; stroke-opacity:1; fill:none\" points=\"\n",
       "  536.162,1445.33 536.82,1445.68 537.478,1445.7 538.136,1445.7 538.794,1445.71 539.452,1445.71 540.11,1445.7 540.768,1445.7 541.425,1445.7 542.083,1445.7 \n",
       "  542.741,1445.7 543.399,1445.7 544.057,1445.7 544.715,1445.7 545.373,1445.7 546.031,1445.7 546.688,1445.7 547.346,1445.7 548.004,1445.7 548.662,1445.7 \n",
       "  549.32,1445.7 549.978,1445.7 550.636,1445.7 551.294,1445.7 551.951,1445.7 552.609,1445.7 553.267,1445.7 553.925,1445.7 554.583,1445.7 555.241,1445.7 \n",
       "  555.899,1445.7 556.557,1445.7 557.215,1445.7 557.872,1445.7 558.53,1445.7 559.188,1445.7 559.846,1445.7 560.504,1445.7 561.162,1445.7 561.82,1445.7 \n",
       "  562.478,1445.7 563.135,1445.7 563.793,1445.7 564.451,1445.7 565.109,1445.7 565.767,1445.7 566.425,1445.7 567.083,1445.7 567.741,1445.7 568.399,1445.7 \n",
       "  569.056,1445.7 569.714,1445.7 570.372,1445.7 571.03,1445.7 571.688,1445.71 572.346,1445.7 573.004,1445.7 573.662,1445.71 574.319,1445.7 574.977,1445.7 \n",
       "  575.635,1445.7 576.293,1445.67 576.951,1444.7 \n",
       "  \"/>\n",
       "<polyline clip-path=\"url(#clip502)\" style=\"stroke:#009af9; stroke-width:4; stroke-opacity:1; fill:none\" points=\"\n",
       "  599.319,1445.08 599.977,1445.68 600.635,1445.69 601.293,1445.69 601.95,1445.69 602.608,1445.7 603.266,1445.7 603.924,1445.7 604.582,1445.7 605.24,1445.7 \n",
       "  605.898,1445.7 606.556,1445.7 607.213,1445.7 607.871,1445.7 608.529,1445.7 609.187,1445.7 609.845,1445.7 610.503,1445.7 611.161,1445.7 611.819,1445.7 \n",
       "  612.477,1445.7 613.134,1445.7 613.792,1445.7 614.45,1445.7 615.108,1445.7 615.766,1445.7 616.424,1445.7 617.082,1445.7 617.74,1445.7 618.397,1445.7 \n",
       "  619.055,1445.7 619.713,1445.7 620.371,1445.7 621.029,1445.7 621.687,1445.7 622.345,1445.7 623.003,1445.7 623.661,1445.7 624.318,1445.7 624.976,1445.7 \n",
       "  625.634,1445.7 626.292,1445.7 626.95,1445.7 627.608,1445.7 628.266,1445.7 628.924,1445.7 629.581,1445.7 630.239,1445.7 630.897,1445.7 631.555,1445.7 \n",
       "  632.213,1445.7 632.871,1445.7 633.529,1445.7 634.187,1445.7 634.844,1445.7 635.502,1445.7 636.16,1445.7 636.818,1445.7 637.476,1445.7 638.134,1445.69 \n",
       "  638.792,1445.69 639.45,1445.67 640.108,1444.84 \n",
       "  \"/>\n",
       "<polyline clip-path=\"url(#clip502)\" style=\"stroke:#009af9; stroke-width:4; stroke-opacity:1; fill:none\" points=\"\n",
       "  662.475,1444.62 663.133,1445.66 663.791,1445.69 664.449,1445.7 665.107,1445.69 665.765,1445.69 666.423,1445.69 667.081,1445.69 667.739,1445.7 668.396,1445.7 \n",
       "  669.054,1445.71 669.712,1445.71 670.37,1445.71 671.028,1445.71 671.686,1445.7 672.344,1445.7 673.002,1445.71 673.659,1445.71 674.317,1445.71 674.975,1445.71 \n",
       "  675.633,1445.71 676.291,1445.71 676.949,1445.71 677.607,1445.71 678.265,1445.71 678.923,1445.71 679.58,1445.71 680.238,1445.71 680.896,1445.71 681.554,1445.71 \n",
       "  682.212,1445.71 682.87,1445.71 683.528,1445.71 684.186,1445.71 684.843,1445.7 685.501,1445.7 686.159,1445.71 686.817,1445.71 687.475,1445.71 688.133,1445.7 \n",
       "  688.791,1445.7 689.449,1445.7 690.106,1445.7 690.764,1445.7 691.422,1445.7 692.08,1445.7 692.738,1445.7 693.396,1445.71 694.054,1445.71 694.712,1445.71 \n",
       "  695.37,1445.71 696.027,1445.7 696.685,1445.7 697.343,1445.7 698.001,1445.7 698.659,1445.7 699.317,1445.71 699.975,1445.7 700.633,1445.7 701.29,1445.69 \n",
       "  701.948,1445.69 702.606,1445.66 703.264,1444.37 \n",
       "  \"/>\n",
       "<polyline clip-path=\"url(#clip502)\" style=\"stroke:#009af9; stroke-width:4; stroke-opacity:1; fill:none\" points=\"\n",
       "  725.632,1444.56 726.29,1445.66 726.948,1445.69 727.606,1445.69 728.264,1445.69 728.921,1445.7 729.579,1445.7 730.237,1445.7 730.895,1445.7 731.553,1445.7 \n",
       "  732.211,1445.7 732.869,1445.7 733.527,1445.7 734.185,1445.7 734.842,1445.7 735.5,1445.7 736.158,1445.7 736.816,1445.7 737.474,1445.7 738.132,1445.7 \n",
       "  738.79,1445.7 739.448,1445.7 740.105,1445.7 740.763,1445.7 741.421,1445.7 742.079,1445.7 742.737,1445.7 743.395,1445.7 744.053,1445.7 744.711,1445.7 \n",
       "  745.368,1445.7 746.026,1445.7 746.684,1445.7 747.342,1445.7 748,1445.7 748.658,1445.7 749.316,1445.7 749.974,1445.7 750.632,1445.7 751.289,1445.7 \n",
       "  751.947,1445.7 752.605,1445.7 753.263,1445.7 753.921,1445.7 754.579,1445.7 755.237,1445.7 755.895,1445.7 756.552,1445.7 757.21,1445.7 757.868,1445.7 \n",
       "  758.526,1445.7 759.184,1445.7 759.842,1445.7 760.5,1445.7 761.158,1445.7 761.816,1445.7 762.473,1445.7 763.131,1445.7 763.789,1445.7 764.447,1445.7 \n",
       "  765.105,1445.69 765.763,1445.66 766.421,1444.19 \n",
       "  \"/>\n",
       "<polyline clip-path=\"url(#clip502)\" style=\"stroke:#009af9; stroke-width:4; stroke-opacity:1; fill:none\" points=\"\n",
       "  788.789,1444.19 789.447,1445.66 790.104,1445.69 790.762,1445.69 791.42,1445.69 792.078,1445.7 792.736,1445.7 793.394,1445.7 794.052,1445.7 794.71,1445.7 \n",
       "  795.367,1445.7 796.025,1445.7 796.683,1445.7 797.341,1445.7 797.999,1445.7 798.657,1445.7 799.315,1445.7 799.973,1445.7 800.63,1445.7 801.288,1445.7 \n",
       "  801.946,1445.7 802.604,1445.7 803.262,1445.7 803.92,1445.7 804.578,1445.7 805.236,1445.7 805.894,1445.7 806.551,1445.7 807.209,1445.7 807.867,1445.7 \n",
       "  808.525,1445.7 809.183,1445.7 809.841,1445.7 810.499,1445.7 811.157,1445.7 811.814,1445.7 812.472,1445.7 813.13,1445.7 813.788,1445.7 814.446,1445.7 \n",
       "  815.104,1445.7 815.762,1445.7 816.42,1445.7 817.078,1445.7 817.735,1445.7 818.393,1445.7 819.051,1445.7 819.709,1445.7 820.367,1445.7 821.025,1445.7 \n",
       "  821.683,1445.7 822.341,1445.7 822.998,1445.7 823.656,1445.7 824.314,1445.7 824.972,1445.7 825.63,1445.71 826.288,1445.71 826.946,1445.71 827.604,1445.7 \n",
       "  828.261,1445.68 828.919,1445.64 829.577,1443.04 \n",
       "  \"/>\n",
       "<polyline clip-path=\"url(#clip502)\" style=\"stroke:#009af9; stroke-width:4; stroke-opacity:1; fill:none\" points=\"\n",
       "  851.945,1443.71 852.603,1445.66 853.261,1445.69 853.919,1445.69 854.577,1445.7 855.235,1445.7 855.892,1445.7 856.55,1445.7 857.208,1445.7 857.866,1445.7 \n",
       "  858.524,1445.7 859.182,1445.7 859.84,1445.7 860.498,1445.7 861.156,1445.7 861.813,1445.7 862.471,1445.7 863.129,1445.7 863.787,1445.7 864.445,1445.7 \n",
       "  865.103,1445.7 865.761,1445.7 866.419,1445.7 867.076,1445.71 867.734,1445.7 868.392,1445.7 869.05,1445.71 869.708,1445.71 870.366,1445.7 871.024,1445.7 \n",
       "  871.682,1445.7 872.34,1445.7 872.997,1445.71 873.655,1445.7 874.313,1445.7 874.971,1445.7 875.629,1445.7 876.287,1445.7 876.945,1445.7 877.603,1445.7 \n",
       "  878.26,1445.7 878.918,1445.7 879.576,1445.7 880.234,1445.7 880.892,1445.7 881.55,1445.7 882.208,1445.7 882.866,1445.7 883.523,1445.7 884.181,1445.7 \n",
       "  884.839,1445.7 885.497,1445.7 886.155,1445.7 886.813,1445.7 887.471,1445.7 888.129,1445.7 888.787,1445.7 889.444,1445.7 890.102,1445.69 890.76,1445.69 \n",
       "  891.418,1445.69 892.076,1445.66 892.734,1443.56 \n",
       "  \"/>\n",
       "<polyline clip-path=\"url(#clip502)\" style=\"stroke:#009af9; stroke-width:4; stroke-opacity:1; fill:none\" points=\"\n",
       "  915.102,1442.54 915.76,1445.64 916.418,1445.69 917.075,1445.7 917.733,1445.7 918.391,1445.7 919.049,1445.7 919.707,1445.7 920.365,1445.7 921.023,1445.7 \n",
       "  921.681,1445.7 922.338,1445.7 922.996,1445.7 923.654,1445.7 924.312,1445.7 924.97,1445.7 925.628,1445.7 926.286,1445.7 926.944,1445.7 927.602,1445.7 \n",
       "  928.259,1445.7 928.917,1445.7 929.575,1445.71 930.233,1445.71 930.891,1445.71 931.549,1445.71 932.207,1445.71 932.865,1445.71 933.522,1445.71 934.18,1445.71 \n",
       "  934.838,1445.71 935.496,1445.7 936.154,1445.7 936.812,1445.7 937.47,1445.7 938.128,1445.7 938.785,1445.7 939.443,1445.7 940.101,1445.7 940.759,1445.71 \n",
       "  941.417,1445.7 942.075,1445.7 942.733,1445.7 943.391,1445.7 944.049,1445.7 944.706,1445.7 945.364,1445.7 946.022,1445.7 946.68,1445.7 947.338,1445.7 \n",
       "  947.996,1445.7 948.654,1445.7 949.312,1445.7 949.969,1445.7 950.627,1445.71 951.285,1445.71 951.943,1445.71 952.601,1445.71 953.259,1445.71 953.917,1445.71 \n",
       "  954.575,1445.71 955.233,1445.71 955.89,1445.25 \n",
       "  \"/>\n",
       "<polyline clip-path=\"url(#clip502)\" style=\"stroke:#009af9; stroke-width:4; stroke-opacity:1; fill:none\" points=\"\n",
       "  978.258,1444.75 978.916,1445.69 979.574,1445.71 980.232,1445.71 980.89,1445.71 981.548,1445.71 982.206,1445.71 982.864,1445.71 983.521,1445.71 984.179,1445.71 \n",
       "  984.837,1445.71 985.495,1445.7 986.153,1445.71 986.811,1445.71 987.469,1445.71 988.127,1445.71 988.784,1445.71 989.442,1445.7 990.1,1445.7 990.758,1445.7 \n",
       "  991.416,1445.71 992.074,1445.71 992.732,1445.7 993.39,1445.71 994.048,1445.7 994.705,1445.7 995.363,1445.7 996.021,1445.7 996.679,1445.7 997.337,1445.7 \n",
       "  997.995,1445.7 998.653,1445.7 999.311,1445.7 999.968,1445.71 1000.63,1445.7 1001.28,1445.7 1001.94,1445.7 1002.6,1445.7 1003.26,1445.7 1003.92,1445.7 \n",
       "  1004.57,1445.7 1005.23,1445.7 1005.89,1445.7 1006.55,1445.71 1007.21,1445.7 1007.86,1445.71 1008.52,1445.7 1009.18,1445.7 1009.84,1445.7 1010.49,1445.71 \n",
       "  1011.15,1445.71 1011.81,1445.71 1012.47,1445.7 1013.13,1445.7 1013.78,1445.7 1014.44,1445.7 1015.1,1445.69 1015.76,1445.7 1016.42,1445.7 1017.07,1445.7 \n",
       "  1017.73,1445.7 1018.39,1445.67 1019.05,1442.12 \n",
       "  \"/>\n",
       "<polyline clip-path=\"url(#clip502)\" style=\"stroke:#009af9; stroke-width:4; stroke-opacity:1; fill:none\" points=\"\n",
       "  1041.41,1436.8 1042.07,1445.64 1042.73,1445.69 1043.39,1445.69 1044.05,1445.69 1044.7,1445.7 1045.36,1445.7 1046.02,1445.7 1046.68,1445.7 1047.34,1445.7 \n",
       "  1047.99,1445.7 1048.65,1445.7 1049.31,1445.7 1049.97,1445.7 1050.63,1445.7 1051.28,1445.7 1051.94,1445.7 1052.6,1445.7 1053.26,1445.7 1053.91,1445.7 \n",
       "  1054.57,1445.7 1055.23,1445.7 1055.89,1445.7 1056.55,1445.7 1057.2,1445.7 1057.86,1445.7 1058.52,1445.7 1059.18,1445.7 1059.84,1445.7 1060.49,1445.7 \n",
       "  1061.15,1445.7 1061.81,1445.7 1062.47,1445.7 1063.13,1445.7 1063.78,1445.7 1064.44,1445.7 1065.1,1445.7 1065.76,1445.7 1066.41,1445.7 1067.07,1445.7 \n",
       "  1067.73,1445.7 1068.39,1445.7 1069.05,1445.7 1069.7,1445.7 1070.36,1445.7 1071.02,1445.7 1071.68,1445.7 1072.34,1445.7 1072.99,1445.7 1073.65,1445.7 \n",
       "  1074.31,1445.7 1074.97,1445.7 1075.62,1445.7 1076.28,1445.7 1076.94,1445.7 1077.6,1445.7 1078.26,1445.7 1078.91,1445.7 1079.57,1445.69 1080.23,1445.69 \n",
       "  1080.89,1445.69 1081.55,1445.65 1082.2,1440.44 \n",
       "  \"/>\n",
       "<polyline clip-path=\"url(#clip502)\" style=\"stroke:#009af9; stroke-width:4; stroke-opacity:1; fill:none\" points=\"\n",
       "  1104.57,1426.31 1105.23,1445.62 1105.89,1445.68 1106.55,1445.69 1107.2,1445.69 1107.86,1445.7 1108.52,1445.7 1109.18,1445.7 1109.83,1445.7 1110.49,1445.7 \n",
       "  1111.15,1445.7 1111.81,1445.7 1112.47,1445.7 1113.12,1445.7 1113.78,1445.7 1114.44,1445.7 1115.1,1445.7 1115.76,1445.7 1116.41,1445.7 1117.07,1445.7 \n",
       "  1117.73,1445.7 1118.39,1445.7 1119.04,1445.7 1119.7,1445.7 1120.36,1445.7 1121.02,1445.7 1121.68,1445.7 1122.33,1445.7 1122.99,1445.7 1123.65,1445.7 \n",
       "  1124.31,1445.7 1124.97,1445.7 1125.62,1445.7 1126.28,1445.7 1126.94,1445.7 1127.6,1445.7 1128.26,1445.7 1128.91,1445.7 1129.57,1445.7 1130.23,1445.7 \n",
       "  1130.89,1445.71 1131.54,1445.71 1132.2,1445.7 1132.86,1445.7 1133.52,1445.7 1134.18,1445.7 1134.83,1445.7 1135.49,1445.7 1136.15,1445.7 1136.81,1445.7 \n",
       "  1137.47,1445.7 1138.12,1445.7 1138.78,1445.7 1139.44,1445.7 1140.1,1445.7 1140.75,1445.7 1141.41,1445.7 1142.07,1445.69 1142.73,1445.69 1143.39,1445.69 \n",
       "  1144.04,1445.68 1144.7,1445.61 1145.36,1437.06 \n",
       "  \"/>\n",
       "<polyline clip-path=\"url(#clip502)\" style=\"stroke:#009af9; stroke-width:4; stroke-opacity:1; fill:none\" points=\"\n",
       "  1167.73,1388.53 1168.39,1445.58 1169.04,1445.68 1169.7,1445.69 1170.36,1445.69 1171.02,1445.69 1171.68,1445.7 1172.33,1445.7 1172.99,1445.7 1173.65,1445.7 \n",
       "  1174.31,1445.7 1174.96,1445.7 1175.62,1445.7 1176.28,1445.7 1176.94,1445.7 1177.6,1445.7 1178.25,1445.7 1178.91,1445.7 1179.57,1445.7 1180.23,1445.71 \n",
       "  1180.89,1445.7 1181.54,1445.7 1182.2,1445.7 1182.86,1445.7 1183.52,1445.7 1184.18,1445.7 1184.83,1445.7 1185.49,1445.7 1186.15,1445.7 1186.81,1445.7 \n",
       "  1187.46,1445.7 1188.12,1445.7 1188.78,1445.7 1189.44,1445.7 1190.1,1445.7 1190.75,1445.7 1191.41,1445.7 1192.07,1445.71 1192.73,1445.71 1193.39,1445.7 \n",
       "  1194.04,1445.7 1194.7,1445.71 1195.36,1445.71 1196.02,1445.7 1196.67,1445.71 1197.33,1445.7 1197.99,1445.7 1198.65,1445.7 1199.31,1445.7 1199.96,1445.7 \n",
       "  1200.62,1445.7 1201.28,1445.7 1201.94,1445.71 1202.6,1445.71 1203.25,1445.71 1203.91,1445.7 1204.57,1445.7 1205.23,1445.7 1205.89,1445.71 1206.54,1445.69 \n",
       "  1207.2,1445.69 1207.86,1445.65 1208.52,1436.19 \n",
       "  \"/>\n",
       "<polyline clip-path=\"url(#clip502)\" style=\"stroke:#009af9; stroke-width:4; stroke-opacity:1; fill:none\" points=\"\n",
       "  1230.88,1365.73 1231.54,1445.67 1232.2,1445.71 1232.86,1445.71 1233.52,1445.71 1234.17,1445.71 1234.83,1445.71 1235.49,1445.71 1236.15,1445.71 1236.81,1445.71 \n",
       "  1237.46,1445.71 1238.12,1445.71 1238.78,1445.71 1239.44,1445.71 1240.09,1445.71 1240.75,1445.71 1241.41,1445.71 1242.07,1445.7 1242.73,1445.71 1243.38,1445.71 \n",
       "  1244.04,1445.71 1244.7,1445.71 1245.36,1445.71 1246.02,1445.71 1246.67,1445.71 1247.33,1445.71 1247.99,1445.71 1248.65,1445.71 1249.31,1445.71 1249.96,1445.71 \n",
       "  1250.62,1445.71 1251.28,1445.71 1251.94,1445.71 1252.59,1445.71 1253.25,1445.71 1253.91,1445.71 1254.57,1445.71 1255.23,1445.71 1255.88,1445.71 1256.54,1445.71 \n",
       "  1257.2,1445.71 1257.86,1445.71 1258.52,1445.71 1259.17,1445.71 1259.83,1445.71 1260.49,1445.71 1261.15,1445.71 1261.81,1445.71 1262.46,1445.71 1263.12,1445.71 \n",
       "  1263.78,1445.71 1264.44,1445.71 1265.09,1445.71 1265.75,1445.71 1266.41,1445.71 1267.07,1445.71 1267.73,1445.71 1268.38,1445.71 1269.04,1445.71 1269.7,1445.71 \n",
       "  1270.36,1445.7 1271.02,1445.67 1271.67,1430.37 \n",
       "  \"/>\n",
       "<polyline clip-path=\"url(#clip502)\" style=\"stroke:#009af9; stroke-width:4; stroke-opacity:1; fill:none\" points=\"\n",
       "  1294.7,1445.67 1295.36,1445.71 1296.01,1445.71 1296.67,1445.71 1297.33,1445.71 1297.99,1445.71 1298.65,1445.71 1299.3,1445.71 1299.96,1445.71 1300.62,1445.71 \n",
       "  1301.28,1445.71 1301.94,1445.71 1302.59,1445.71 1303.25,1445.71 1303.91,1445.71 1304.57,1445.71 1305.23,1445.71 1305.88,1445.71 1306.54,1445.71 1307.2,1445.71 \n",
       "  1307.86,1445.71 1308.51,1445.71 1309.17,1445.71 1309.83,1445.71 1310.49,1445.71 1311.15,1445.71 1311.8,1445.71 1312.46,1445.71 1313.12,1445.71 1313.78,1445.71 \n",
       "  1314.44,1445.71 1315.09,1445.71 1315.75,1445.71 1316.41,1445.7 1317.07,1445.71 1317.72,1445.71 1318.38,1445.71 1319.04,1445.71 1319.7,1445.71 1320.36,1445.71 \n",
       "  1321.01,1445.71 1321.67,1445.71 1322.33,1445.71 1322.99,1445.71 1323.65,1445.71 1324.3,1445.7 1324.96,1445.71 1325.62,1445.71 1326.28,1445.71 1326.94,1445.71 \n",
       "  1327.59,1445.71 1328.25,1445.71 1328.91,1445.71 1329.57,1445.71 1330.22,1445.71 1330.88,1445.71 1331.54,1445.71 1332.2,1445.71 1332.86,1445.71 1333.51,1445.71 \n",
       "  1334.17,1445.69 1334.83,1401.68 \n",
       "  \"/>\n",
       "<polyline clip-path=\"url(#clip502)\" style=\"stroke:#009af9; stroke-width:4; stroke-opacity:1; fill:none\" points=\"\n",
       "  1357.86,1445.63 1358.51,1445.71 1359.17,1445.71 1359.83,1445.71 1360.49,1445.71 1361.15,1445.71 1361.8,1445.71 1362.46,1445.71 1363.12,1445.71 1363.78,1445.71 \n",
       "  1364.43,1445.71 1365.09,1445.71 1365.75,1445.71 1366.41,1445.71 1367.07,1445.71 1367.72,1445.71 1368.38,1445.71 1369.04,1445.71 1369.7,1445.71 1370.36,1445.71 \n",
       "  1371.01,1445.71 1371.67,1445.71 1372.33,1445.71 1372.99,1445.71 1373.64,1445.71 1374.3,1445.71 1374.96,1445.71 1375.62,1445.71 1376.28,1445.71 1376.93,1445.71 \n",
       "  1377.59,1445.71 1378.25,1445.71 1378.91,1445.71 1379.57,1445.71 1380.22,1445.71 1380.88,1445.71 1381.54,1445.71 1382.2,1445.71 1382.86,1445.71 1383.51,1445.71 \n",
       "  1384.17,1445.71 1384.83,1445.71 1385.49,1445.71 1386.14,1445.71 1386.8,1445.71 1387.46,1445.71 1388.12,1445.71 1388.78,1445.71 1389.43,1445.71 1390.09,1445.71 \n",
       "  1390.75,1445.71 1391.41,1445.71 1392.07,1445.71 1392.72,1445.71 1393.38,1445.7 1394.04,1445.7 1394.7,1445.7 1395.35,1445.7 1396.01,1445.7 1396.67,1445.7 \n",
       "  1397.33,1445.6 \n",
       "  \"/>\n",
       "<polyline clip-path=\"url(#clip502)\" style=\"stroke:#009af9; stroke-width:4; stroke-opacity:1; fill:none\" points=\"\n",
       "  1421.01,1445.48 1421.67,1445.68 1422.33,1445.69 1422.99,1445.69 1423.64,1445.7 1424.3,1445.7 1424.96,1445.7 1425.62,1445.7 1426.28,1445.7 1426.93,1445.7 \n",
       "  1427.59,1445.7 1428.25,1445.7 1428.91,1445.7 1429.56,1445.7 1430.22,1445.7 1430.88,1445.7 1431.54,1445.7 1432.2,1445.7 1432.85,1445.7 1433.51,1445.7 \n",
       "  1434.17,1445.71 1434.83,1445.7 1435.49,1445.7 1436.14,1445.7 1436.8,1445.7 1437.46,1445.71 1438.12,1445.7 1438.78,1445.7 1439.43,1445.7 1440.09,1445.7 \n",
       "  1440.75,1445.7 1441.41,1445.7 1442.06,1445.7 1442.72,1445.7 1443.38,1445.7 1444.04,1445.7 1444.7,1445.7 1445.35,1445.7 1446.01,1445.7 1446.67,1445.7 \n",
       "  1447.33,1445.7 1447.99,1445.7 1448.64,1445.7 1449.3,1445.7 1449.96,1445.7 1450.62,1445.7 1451.27,1445.7 1451.93,1445.7 1452.59,1445.7 1453.25,1445.7 \n",
       "  1453.91,1445.7 1454.56,1445.7 1455.22,1445.7 1455.88,1445.7 1456.54,1445.7 1457.2,1445.7 1457.85,1445.7 1458.51,1445.7 1459.17,1445.7 1459.83,1445.7 \n",
       "  1460.49,1445.59 \n",
       "  \"/>\n",
       "<polyline clip-path=\"url(#clip502)\" style=\"stroke:#009af9; stroke-width:4; stroke-opacity:1; fill:none\" points=\"\n",
       "  1484.17,1445.42 1484.83,1445.68 1485.48,1445.69 1486.14,1445.69 1486.8,1445.69 1487.46,1445.7 1488.12,1445.7 1488.77,1445.7 1489.43,1445.7 1490.09,1445.7 \n",
       "  1490.75,1445.7 1491.41,1445.7 1492.06,1445.7 1492.72,1445.7 1493.38,1445.7 1494.04,1445.7 1494.69,1445.7 1495.35,1445.7 1496.01,1445.7 1496.67,1445.7 \n",
       "  1497.33,1445.7 1497.98,1445.7 1498.64,1445.7 1499.3,1445.7 1499.96,1445.7 1500.62,1445.7 1501.27,1445.7 1501.93,1445.7 1502.59,1445.7 1503.25,1445.7 \n",
       "  1503.91,1445.7 1504.56,1445.7 1505.22,1445.7 1505.88,1445.7 1506.54,1445.7 1507.19,1445.7 1507.85,1445.7 1508.51,1445.7 1509.17,1445.7 1509.83,1445.7 \n",
       "  1510.48,1445.7 1511.14,1445.7 1511.8,1445.7 1512.46,1445.7 1513.12,1445.7 1513.77,1445.7 1514.43,1445.7 1515.09,1445.7 1515.75,1445.7 1516.4,1445.7 \n",
       "  1517.06,1445.7 1517.72,1445.7 1518.38,1445.7 1519.04,1445.7 1519.69,1445.7 1520.35,1445.7 1521.01,1445.7 1521.67,1445.69 1522.33,1445.69 1522.98,1445.67 \n",
       "  1523.64,1445.46 \n",
       "  \"/>\n",
       "<polyline clip-path=\"url(#clip502)\" style=\"stroke:#009af9; stroke-width:4; stroke-opacity:1; fill:none\" points=\"\n",
       "  1547.33,1445.34 1547.98,1445.67 1548.64,1445.69 1549.3,1445.69 1549.96,1445.69 1550.61,1445.7 1551.27,1445.7 1551.93,1445.7 1552.59,1445.7 1553.25,1445.7 \n",
       "  1553.9,1445.7 1554.56,1445.7 1555.22,1445.7 1555.88,1445.7 1556.54,1445.7 1557.19,1445.7 1557.85,1445.7 1558.51,1445.7 1559.17,1445.7 1559.83,1445.7 \n",
       "  1560.48,1445.7 1561.14,1445.7 1561.8,1445.7 1562.46,1445.7 1563.11,1445.7 1563.77,1445.7 1564.43,1445.7 1565.09,1445.7 1565.75,1445.7 1566.4,1445.7 \n",
       "  1567.06,1445.7 1567.72,1445.7 1568.38,1445.7 1569.04,1445.7 1569.69,1445.7 1570.35,1445.7 1571.01,1445.7 1571.67,1445.7 1572.32,1445.7 1572.98,1445.7 \n",
       "  1573.64,1445.7 1574.3,1445.7 1574.96,1445.7 1575.61,1445.7 1576.27,1445.7 1576.93,1445.7 1577.59,1445.7 1578.25,1445.7 1578.9,1445.7 1579.56,1445.7 \n",
       "  1580.22,1445.7 1580.88,1445.7 1581.54,1445.7 1582.19,1445.7 1582.85,1445.7 1583.51,1445.7 1584.17,1445.7 1584.82,1445.7 1585.48,1445.7 1586.14,1445.69 \n",
       "  1586.8,1445.49 \n",
       "  \"/>\n",
       "<polyline clip-path=\"url(#clip502)\" style=\"stroke:#009af9; stroke-width:4; stroke-opacity:1; fill:none\" points=\"\n",
       "  1610.48,1445.65 1611.14,1445.71 1611.8,1445.71 1612.46,1445.72 1613.11,1445.72 1613.77,1445.71 1614.43,1445.71 1615.09,1445.71 1615.75,1445.71 1616.4,1445.71 \n",
       "  1617.06,1445.71 1617.72,1445.71 1618.38,1445.7 1619.03,1445.71 1619.69,1445.71 1620.35,1445.71 1621.01,1445.71 1621.67,1445.71 1622.32,1445.71 1622.98,1445.71 \n",
       "  1623.64,1445.7 1624.3,1445.7 1624.96,1445.7 1625.61,1445.7 1626.27,1445.7 1626.93,1445.7 1627.59,1445.7 1628.24,1445.71 1628.9,1445.71 1629.56,1445.7 \n",
       "  1630.22,1445.7 1630.88,1445.7 1631.53,1445.7 1632.19,1445.7 1632.85,1445.7 1633.51,1445.7 1634.17,1445.71 1634.82,1445.7 1635.48,1445.7 1636.14,1445.71 \n",
       "  1636.8,1445.71 1637.46,1445.7 1638.11,1445.7 1638.77,1445.7 1639.43,1445.7 1640.09,1445.7 1640.74,1445.7 1641.4,1445.7 1642.06,1445.71 1642.72,1445.7 \n",
       "  1643.38,1445.7 1644.03,1445.7 1644.69,1445.7 1645.35,1445.7 1646.01,1445.7 1646.67,1445.7 1647.32,1445.71 1647.98,1445.7 1648.64,1445.7 1649.3,1445.68 \n",
       "  1649.95,1445.31 \n",
       "  \"/>\n",
       "<polyline clip-path=\"url(#clip502)\" style=\"stroke:#009af9; stroke-width:4; stroke-opacity:1; fill:none\" points=\"\n",
       "  1673.64,1445.63 1674.3,1445.71 1674.95,1445.71 1675.61,1445.71 1676.27,1445.71 1676.93,1445.71 1677.59,1445.71 1678.24,1445.71 1678.9,1445.71 1679.56,1445.71 \n",
       "  1680.22,1445.71 1680.88,1445.71 1681.53,1445.71 1682.19,1445.71 1682.85,1445.71 1683.51,1445.71 1684.16,1445.71 1684.82,1445.7 1685.48,1445.7 1686.14,1445.7 \n",
       "  1686.8,1445.7 1687.45,1445.7 1688.11,1445.7 1688.77,1445.7 1689.43,1445.7 1690.09,1445.71 1690.74,1445.7 1691.4,1445.7 1692.06,1445.7 1692.72,1445.7 \n",
       "  1693.37,1445.7 1694.03,1445.7 1694.69,1445.7 1695.35,1445.7 1696.01,1445.7 1696.66,1445.71 1697.32,1445.71 1697.98,1445.7 1698.64,1445.7 1699.3,1445.7 \n",
       "  1699.95,1445.7 1700.61,1445.7 1701.27,1445.7 1701.93,1445.7 1702.59,1445.7 1703.24,1445.7 1703.9,1445.71 1704.56,1445.71 1705.22,1445.71 1705.87,1445.71 \n",
       "  1706.53,1445.71 1707.19,1445.71 1707.85,1445.71 1708.51,1445.7 1709.16,1445.7 1709.82,1445.71 1710.48,1445.7 1711.14,1445.7 1711.8,1445.7 1712.45,1445.68 \n",
       "  1713.11,1445.36 \n",
       "  \"/>\n",
       "<polyline clip-path=\"url(#clip502)\" style=\"stroke:#009af9; stroke-width:4; stroke-opacity:1; fill:none\" points=\"\n",
       "  1736.8,1444.77 1737.45,1445.68 1738.11,1445.7 1738.77,1445.7 1739.43,1445.7 1740.08,1445.71 1740.74,1445.7 1741.4,1445.7 1742.06,1445.71 1742.72,1445.7 \n",
       "  1743.37,1445.71 1744.03,1445.7 1744.69,1445.7 1745.35,1445.7 1746.01,1445.7 1746.66,1445.7 1747.32,1445.7 1747.98,1445.7 1748.64,1445.7 1749.29,1445.7 \n",
       "  1749.95,1445.7 1750.61,1445.7 1751.27,1445.7 1751.93,1445.7 1752.58,1445.7 1753.24,1445.7 1753.9,1445.7 1754.56,1445.7 1755.22,1445.7 1755.87,1445.7 \n",
       "  1756.53,1445.7 1757.19,1445.7 1757.85,1445.7 1758.51,1445.7 1759.16,1445.7 1759.82,1445.71 1760.48,1445.71 1761.14,1445.71 1761.79,1445.71 1762.45,1445.7 \n",
       "  1763.11,1445.7 1763.77,1445.7 1764.43,1445.7 1765.08,1445.7 1765.74,1445.7 1766.4,1445.7 1767.06,1445.71 1767.72,1445.71 1768.37,1445.7 1769.03,1445.7 \n",
       "  1769.69,1445.71 1770.35,1445.71 1771,1445.7 1771.66,1445.7 1772.32,1445.71 1772.98,1445.71 1773.64,1445.71 1774.29,1445.7 1774.95,1445.7 1775.61,1445.69 \n",
       "  1776.27,1445.41 \n",
       "  \"/>\n",
       "<polyline clip-path=\"url(#clip502)\" style=\"stroke:#009af9; stroke-width:4; stroke-opacity:1; fill:none\" points=\"\n",
       "  1799.95,1444.66 1800.61,1445.68 1801.27,1445.7 1801.93,1445.7 1802.58,1445.71 1803.24,1445.71 1803.9,1445.71 1804.56,1445.71 1805.21,1445.71 1805.87,1445.71 \n",
       "  1806.53,1445.71 1807.19,1445.71 1807.85,1445.71 1808.5,1445.71 1809.16,1445.71 1809.82,1445.71 1810.48,1445.71 1811.14,1445.71 1811.79,1445.71 1812.45,1445.71 \n",
       "  1813.11,1445.71 1813.77,1445.71 1814.43,1445.7 1815.08,1445.7 1815.74,1445.71 1816.4,1445.71 1817.06,1445.71 1817.71,1445.7 1818.37,1445.7 1819.03,1445.71 \n",
       "  1819.69,1445.71 1820.35,1445.71 1821,1445.71 1821.66,1445.7 1822.32,1445.71 1822.98,1445.71 1823.64,1445.71 1824.29,1445.7 1824.95,1445.7 1825.61,1445.7 \n",
       "  1826.27,1445.7 1826.92,1445.7 1827.58,1445.71 1828.24,1445.71 1828.9,1445.71 1829.56,1445.71 1830.21,1445.71 1830.87,1445.71 1831.53,1445.71 1832.19,1445.71 \n",
       "  1832.85,1445.71 1833.5,1445.71 1834.16,1445.71 1834.82,1445.72 1835.48,1445.72 1836.14,1445.71 1836.79,1445.71 1837.45,1445.71 1838.11,1445.7 1838.77,1445.68 \n",
       "  1839.42,1445.03 \n",
       "  \"/>\n",
       "<polyline clip-path=\"url(#clip502)\" style=\"stroke:#009af9; stroke-width:4; stroke-opacity:1; fill:none\" points=\"\n",
       "  1863.11,1443.13 1863.77,1445.66 1864.42,1445.7 1865.08,1445.69 1865.74,1445.69 1866.4,1445.7 1867.06,1445.7 1867.71,1445.7 1868.37,1445.7 1869.03,1445.7 \n",
       "  1869.69,1445.7 1870.34,1445.7 1871,1445.7 1871.66,1445.7 1872.32,1445.7 1872.98,1445.7 1873.63,1445.7 1874.29,1445.7 1874.95,1445.7 1875.61,1445.7 \n",
       "  1876.27,1445.7 1876.92,1445.7 1877.58,1445.7 1878.24,1445.7 1878.9,1445.7 1879.56,1445.7 1880.21,1445.7 1880.87,1445.7 1881.53,1445.7 1882.19,1445.7 \n",
       "  1882.84,1445.7 1883.5,1445.7 1884.16,1445.7 1884.82,1445.7 1885.48,1445.7 1886.13,1445.7 1886.79,1445.7 1887.45,1445.7 1888.11,1445.7 1888.77,1445.7 \n",
       "  1889.42,1445.7 1890.08,1445.7 1890.74,1445.7 1891.4,1445.7 1892.06,1445.7 1892.71,1445.7 1893.37,1445.71 1894.03,1445.71 1894.69,1445.71 1895.34,1445.7 \n",
       "  1896,1445.7 1896.66,1445.7 1897.32,1445.7 1897.98,1445.7 1898.63,1445.7 1899.29,1445.71 1899.95,1445.71 1900.61,1445.71 1901.27,1445.7 1901.92,1445.69 \n",
       "  1902.58,1445.23 \n",
       "  \"/>\n",
       "<polyline clip-path=\"url(#clip502)\" style=\"stroke:#009af9; stroke-width:4; stroke-opacity:1; fill:none\" points=\"\n",
       "  1926.26,1444.47 1926.92,1445.7 1927.58,1445.7 1928.24,1445.7 1928.9,1445.7 1929.55,1445.7 1930.21,1445.7 1930.87,1445.7 1931.53,1445.7 1932.19,1445.7 \n",
       "  1932.84,1445.7 1933.5,1445.7 1934.16,1445.7 1934.82,1445.7 1935.48,1445.7 1936.13,1445.7 1936.79,1445.7 1937.45,1445.7 1938.11,1445.7 1938.76,1445.71 \n",
       "  1939.42,1445.7 1940.08,1445.71 1940.74,1445.71 1941.4,1445.7 1942.05,1445.7 1942.71,1445.7 1943.37,1445.7 1944.03,1445.7 1944.69,1445.7 1945.34,1445.7 \n",
       "  1946,1445.7 1946.66,1445.7 1947.32,1445.7 1947.97,1445.7 1948.63,1445.7 1949.29,1445.7 1949.95,1445.71 1950.61,1445.71 1951.26,1445.7 1951.92,1445.7 \n",
       "  1952.58,1445.7 1953.24,1445.7 1953.9,1445.7 1954.55,1445.7 1955.21,1445.7 1955.87,1445.7 1956.53,1445.7 1957.19,1445.7 1957.84,1445.7 1958.5,1445.7 \n",
       "  1959.16,1445.7 1959.82,1445.7 1960.47,1445.7 1961.13,1445.7 1961.79,1445.7 1962.45,1445.7 1963.11,1445.7 1963.76,1445.7 1964.42,1445.69 1965.08,1445.65 \n",
       "  1965.74,1443.86 \n",
       "  \"/>\n",
       "<polyline clip-path=\"url(#clip502)\" style=\"stroke:#009af9; stroke-width:4; stroke-opacity:1; fill:none\" points=\"\n",
       "  1989.42,1432.11 1990.08,1445.62 1990.74,1445.69 1991.4,1445.69 1992.05,1445.69 1992.71,1445.7 1993.37,1445.7 1994.03,1445.7 1994.68,1445.7 1995.34,1445.7 \n",
       "  1996,1445.7 1996.66,1445.7 1997.32,1445.7 1997.97,1445.7 1998.63,1445.7 1999.29,1445.7 1999.95,1445.7 2000.61,1445.7 2001.26,1445.7 2001.92,1445.7 \n",
       "  2002.58,1445.7 2003.24,1445.7 2003.89,1445.7 2004.55,1445.7 2005.21,1445.7 2005.87,1445.7 2006.53,1445.7 2007.18,1445.7 2007.84,1445.7 2008.5,1445.7 \n",
       "  2009.16,1445.7 2009.82,1445.7 2010.47,1445.7 2011.13,1445.7 2011.79,1445.7 2012.45,1445.7 2013.11,1445.7 2013.76,1445.7 2014.42,1445.7 2015.08,1445.7 \n",
       "  2015.74,1445.7 2016.39,1445.7 2017.05,1445.7 2017.71,1445.7 2018.37,1445.7 2019.03,1445.7 2019.68,1445.7 2020.34,1445.7 2021,1445.7 2021.66,1445.7 \n",
       "  2022.32,1445.7 2022.97,1445.7 2023.63,1445.7 2024.29,1445.7 2024.95,1445.7 2025.6,1445.7 2026.26,1445.7 2026.92,1445.69 2027.58,1445.69 2028.24,1445.66 \n",
       "  2028.89,1442.37 \n",
       "  \"/>\n",
       "<polyline clip-path=\"url(#clip502)\" style=\"stroke:#009af9; stroke-width:4; stroke-opacity:1; fill:none\" points=\"\n",
       "  2052.58,1403.71 2053.24,1445.62 2053.89,1445.69 2054.55,1445.7 2055.21,1445.7 2055.87,1445.7 2056.53,1445.7 2057.18,1445.7 2057.84,1445.7 2058.5,1445.7 \n",
       "  2059.16,1445.7 2059.81,1445.7 2060.47,1445.7 2061.13,1445.7 2061.79,1445.7 2062.45,1445.7 2063.1,1445.71 2063.76,1445.7 2064.42,1445.7 2065.08,1445.7 \n",
       "  2065.74,1445.7 2066.39,1445.7 2067.05,1445.71 2067.71,1445.7 2068.37,1445.7 2069.03,1445.7 2069.68,1445.71 2070.34,1445.71 2071,1445.71 2071.66,1445.71 \n",
       "  2072.31,1445.71 2072.97,1445.71 2073.63,1445.7 2074.29,1445.7 2074.95,1445.7 2075.6,1445.7 2076.26,1445.7 2076.92,1445.71 2077.58,1445.71 2078.24,1445.7 \n",
       "  2078.89,1445.71 2079.55,1445.71 2080.21,1445.71 2080.87,1445.71 2081.52,1445.71 2082.18,1445.7 2082.84,1445.7 2083.5,1445.7 2084.16,1445.7 2084.81,1445.7 \n",
       "  2085.47,1445.7 2086.13,1445.71 2086.79,1445.71 2087.45,1445.71 2088.1,1445.71 2088.76,1445.71 2089.42,1445.71 2090.08,1445.71 2090.74,1445.7 2091.39,1445.69 \n",
       "  2092.05,1443.07 \n",
       "  \"/>\n",
       "<polyline clip-path=\"url(#clip502)\" style=\"stroke:#009af9; stroke-width:4; stroke-opacity:1; fill:none\" points=\"\n",
       "  2115.73,87.9763 2116.39,1445.61 2117.05,1445.7 2117.71,1445.7 2118.37,1445.7 2119.02,1445.71 2119.68,1445.71 2120.34,1445.7 2121,1445.7 2121.66,1445.7 \n",
       "  2122.31,1445.7 2122.97,1445.7 2123.63,1445.7 2124.29,1445.7 2124.94,1445.7 2125.6,1445.7 2126.26,1445.7 2126.92,1445.7 2127.58,1445.71 2128.23,1445.7 \n",
       "  2128.89,1445.7 2129.55,1445.7 2130.21,1445.7 2130.87,1445.7 2131.52,1445.7 2132.18,1445.7 2132.84,1445.7 2133.5,1445.7 2134.16,1445.7 2134.81,1445.7 \n",
       "  2135.47,1445.7 2136.13,1445.7 2136.79,1445.7 2137.44,1445.7 2138.1,1445.7 2138.76,1445.7 2139.42,1445.7 2140.08,1445.7 2140.73,1445.7 2141.39,1445.7 \n",
       "  2142.05,1445.7 2142.71,1445.7 2143.37,1445.7 2144.02,1445.7 2144.68,1445.7 2145.34,1445.7 2146,1445.7 2146.65,1445.7 2147.31,1445.7 2147.97,1445.7 \n",
       "  2148.63,1445.7 2149.29,1445.7 2149.94,1445.7 2150.6,1445.7 2151.26,1445.7 2151.92,1445.7 2152.58,1445.7 2153.23,1445.69 2153.89,1445.69 2154.55,1445.63 \n",
       "  2155.21,1423.13 \n",
       "  \"/>\n",
       "<polyline clip-path=\"url(#clip502)\" style=\"stroke:#009af9; stroke-width:4; stroke-opacity:1; fill:none\" points=\"\n",
       "  2179.55,1445.54 2180.21,1445.68 2180.86,1445.69 2181.52,1445.7 2182.18,1445.7 2182.84,1445.7 2183.5,1445.7 2184.15,1445.7 2184.81,1445.7 2185.47,1445.7 \n",
       "  2186.13,1445.7 2186.79,1445.7 2187.44,1445.7 2188.1,1445.7 2188.76,1445.7 2189.42,1445.7 2190.08,1445.7 2190.73,1445.7 2191.39,1445.7 2192.05,1445.7 \n",
       "  2192.71,1445.7 2193.36,1445.7 2194.02,1445.7 2194.68,1445.7 2195.34,1445.7 2196,1445.7 2196.65,1445.7 2197.31,1445.7 2197.97,1445.7 2198.63,1445.7 \n",
       "  2199.29,1445.7 2199.94,1445.7 2200.6,1445.7 2201.26,1445.7 2201.92,1445.7 2202.57,1445.7 2203.23,1445.7 2203.89,1445.7 2204.55,1445.7 2205.21,1445.7 \n",
       "  2205.86,1445.7 2206.52,1445.7 2207.18,1445.7 2207.84,1445.7 2208.5,1445.7 2209.15,1445.71 2209.81,1445.71 2210.47,1445.7 2211.13,1445.7 2211.79,1445.7 \n",
       "  2212.44,1445.7 2213.1,1445.7 2213.76,1445.7 2214.42,1445.7 2215.07,1445.7 2215.73,1445.7 2216.39,1445.7 2217.05,1445.69 2217.71,1445.59 2218.36,1243.08 \n",
       "  \n",
       "  \"/>\n",
       "<polyline clip-path=\"url(#clip502)\" style=\"stroke:#009af9; stroke-width:4; stroke-opacity:1; fill:none\" points=\"\n",
       "  2242.71,1445.53 2243.36,1445.69 2244.02,1445.7 2244.68,1445.7 2245.34,1445.7 2245.99,1445.7 2246.65,1445.7 2247.31,1445.7 2247.97,1445.7 2248.63,1445.7 \n",
       "  2249.28,1445.7 2249.94,1445.7 2250.6,1445.7 2251.26,1445.7 2251.92,1445.7 2252.57,1445.7 2253.23,1445.7 2253.89,1445.7 2254.55,1445.7 2255.21,1445.7 \n",
       "  2255.86,1445.7 2256.52,1445.7 2257.18,1445.7 2257.84,1445.7 2258.49,1445.7 2259.15,1445.7 2259.81,1445.7 2260.47,1445.7 2261.13,1445.7 2261.78,1445.7 \n",
       "  2262.44,1445.7 2263.1,1445.7 2263.76,1445.7 2264.42,1445.7 2265.07,1445.7 2265.73,1445.7 2266.39,1445.7 2267.05,1445.7 2267.71,1445.7 2268.36,1445.7 \n",
       "  2269.02,1445.7 2269.68,1445.7 2270.34,1445.7 2270.99,1445.7 2271.65,1445.7 2272.31,1445.7 2272.97,1445.7 2273.63,1445.7 2274.28,1445.7 2274.94,1445.7 \n",
       "  2275.6,1445.7 2276.26,1445.7 2276.92,1445.7 2277.57,1445.7 2278.23,1445.7 2278.89,1445.7 2279.55,1445.7 2280.2,1445.7 2280.86,1445.64 \n",
       "  \"/>\n",
       "<path clip-path=\"url(#clip500)\" d=\"\n",
       "M2000.56 216.178 L2283.58 216.178 L2283.58 95.2176 L2000.56 95.2176  Z\n",
       "  \" fill=\"#ffffff\" fill-rule=\"evenodd\" fill-opacity=\"1\"/>\n",
       "<polyline clip-path=\"url(#clip500)\" style=\"stroke:#000000; stroke-width:4; stroke-opacity:1; fill:none\" points=\"\n",
       "  2000.56,216.178 2283.58,216.178 2283.58,95.2176 2000.56,95.2176 2000.56,216.178 \n",
       "  \"/>\n",
       "<polyline clip-path=\"url(#clip500)\" style=\"stroke:#009af9; stroke-width:4; stroke-opacity:1; fill:none\" points=\"\n",
       "  2023.62,155.698 2161.97,155.698 \n",
       "  \"/>\n",
       "<path clip-path=\"url(#clip500)\" d=\"M 0 0 M2198.87 175.385 Q2197.07 180.015 2195.35 181.427 Q2193.64 182.839 2190.77 182.839 L2187.37 182.839 L2187.37 179.274 L2189.87 179.274 Q2191.63 179.274 2192.6 178.44 Q2193.57 177.607 2194.75 174.505 L2195.52 172.561 L2185.03 147.052 L2189.54 147.052 L2197.65 167.329 L2205.75 147.052 L2210.26 147.052 L2198.87 175.385 Z\" fill=\"#000000\" fill-rule=\"evenodd\" fill-opacity=\"1\" /><path clip-path=\"url(#clip500)\" d=\"M 0 0 M2217.55 169.042 L2225.19 169.042 L2225.19 142.677 L2216.88 144.343 L2216.88 140.084 L2225.15 138.418 L2229.82 138.418 L2229.82 169.042 L2237.46 169.042 L2237.46 172.978 L2217.55 172.978 L2217.55 169.042 Z\" fill=\"#000000\" fill-rule=\"evenodd\" fill-opacity=\"1\" /></svg>\n"
      ]
     },
     "execution_count": 197,
     "metadata": {},
     "output_type": "execute_result"
    }
   ],
   "source": [
    "plot(cmf)"
   ]
  },
  {
   "cell_type": "code",
   "execution_count": 16,
   "id": "50fd1a63-6b2b-4e69-9465-966048689aa6",
   "metadata": {
    "execution": {
     "iopub.execute_input": "2021-07-30T09:10:04.253000+02:00",
     "iopub.status.busy": "2021-07-30T09:10:04.253000+02:00",
     "iopub.status.idle": "2021-07-30T09:10:04.390000+02:00",
     "shell.execute_reply": "2021-07-30T09:10:04.390000+02:00"
    },
    "tags": []
   },
   "outputs": [
    {
     "data": {
      "image/png": "[encoded data removed]"
     },
     "execution_count": 16,
     "metadata": {},
     "output_type": "execute_result"
    }
   ],
   "source": [
    "histogram(cmf1, leg=:none, \n",
    "          xlabel=\"CMF\", ylabel=\"countsv\", title=\"Payern 2020-07\",\n",
    "          fmt=:png, dpi=120)"
   ]
  },
  {
   "cell_type": "code",
   "execution_count": null,
   "id": "7e8048c8-6595-4b6b-9d24-669606a6253e",
   "metadata": {},
   "outputs": [],
   "source": []
  }
 ],
 "metadata": {
  "kernelspec": {
   "display_name": "Julia 1.6.1",
   "language": "julia",
   "name": "julia-1.6"
  },
  "language_info": {
   "file_extension": ".jl",
   "mimetype": "application/julia",
   "name": "julia",
   "version": "1.6.1"
  }
 },
 "nbformat": 4,
 "nbformat_minor": 5
}
