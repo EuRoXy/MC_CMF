{
 "cells": [
  {
   "cell_type": "code",
   "execution_count": 11,
   "id": "75eaff09-9f61-41f9-a115-8ac2a82b610d",
   "metadata": {
    "collapsed": true,
    "execution": {
     "iopub.execute_input": "2021-08-18T16:44:33.260000+02:00",
     "iopub.status.busy": "2021-08-18T16:44:33.259000+02:00",
     "iopub.status.idle": "2021-08-18T16:44:33.264000+02:00",
     "shell.execute_reply": "2021-08-18T16:44:33.263000+02:00"
    },
    "jupyter": {
     "outputs_hidden": true
    },
    "tags": []
   },
   "outputs": [
    {
     "name": "stderr",
     "output_type": "stream",
     "text": [
      "WARNING: using Dates.year in module Main conflicts with an existing identifier.\n",
      "WARNING: using Dates.hour in module Main conflicts with an existing identifier.\n",
      "WARNING: using Dates.day in module Main conflicts with an existing identifier.\n",
      "WARNING: using Dates.minute in module Main conflicts with an existing identifier.\n",
      "WARNING: using Dates.month in module Main conflicts with an existing identifier.\n"
     ]
    }
   ],
   "source": [
    "using Dates"
   ]
  },
  {
   "cell_type": "code",
   "execution_count": 56,
   "id": "e9152a8f-6c59-4d6e-967b-aaa2f6707f1e",
   "metadata": {
    "execution": {
     "iopub.execute_input": "2021-08-18T17:36:06.033000+02:00",
     "iopub.status.busy": "2021-08-18T17:36:06.033000+02:00",
     "iopub.status.idle": "2021-08-18T17:36:06.256000+02:00",
     "shell.execute_reply": "2021-08-18T17:36:06.256000+02:00"
    },
    "tags": []
   },
   "outputs": [
    {
     "data": {
      "text/plain": [
       "hybrid (generic function with 1 method)"
      ]
     },
     "execution_count": 56,
     "metadata": {},
     "output_type": "execute_result"
    }
   ],
   "source": [
    "include(\"MC.jl\")"
   ]
  },
  {
   "cell_type": "code",
   "execution_count": 1,
   "id": "e43d5c4a-5334-4610-a36a-774e2c268dc4",
   "metadata": {
    "execution": {
     "iopub.execute_input": "2021-08-18T16:38:27.775000+02:00",
     "iopub.status.busy": "2021-08-18T16:38:26.949000+02:00",
     "iopub.status.idle": "2021-08-18T16:38:39.003000+02:00",
     "shell.execute_reply": "2021-08-18T16:38:38.910000+02:00"
    },
    "tags": []
   },
   "outputs": [],
   "source": [
    "include(\"viz.jl\");"
   ]
  },
  {
   "cell_type": "code",
   "execution_count": 2,
   "id": "60e92064-1e33-401e-80ba-506c201ac143",
   "metadata": {
    "execution": {
     "iopub.execute_input": "2021-08-18T16:38:45.108000+02:00",
     "iopub.status.busy": "2021-08-18T16:38:39.003000+02:00",
     "iopub.status.idle": "2021-08-18T16:38:45.444000+02:00",
     "shell.execute_reply": "2021-08-18T16:38:45.392000+02:00"
    },
    "tags": []
   },
   "outputs": [],
   "source": [
    "default(fmt=:png, dpi=:120)"
   ]
  },
  {
   "cell_type": "code",
   "execution_count": 3,
   "id": "fc9980e3-c47d-43d2-a919-8268f2dbc430",
   "metadata": {
    "execution": {
     "iopub.execute_input": "2021-08-18T16:38:45.444000+02:00",
     "iopub.status.busy": "2021-08-18T16:38:45.444000+02:00",
     "iopub.status.idle": "2021-08-18T16:38:45.446000+02:00",
     "shell.execute_reply": "2021-08-18T16:38:45.446000+02:00"
    },
    "tags": []
   },
   "outputs": [],
   "source": [
    "ENV[\"COLUMNS\"] = 200;\n",
    "const N = 30;"
   ]
  },
  {
   "cell_type": "code",
   "execution_count": 4,
   "id": "4cf90d71-15db-464c-87f2-4877d56ce716",
   "metadata": {
    "execution": {
     "iopub.execute_input": "2021-08-18T16:38:45.447000+02:00",
     "iopub.status.busy": "2021-08-18T16:38:45.447000+02:00",
     "iopub.status.idle": "2021-08-18T16:38:46.240000+02:00",
     "shell.execute_reply": "2021-08-18T16:38:46.239000+02:00"
    },
    "scrolled": true,
    "tags": []
   },
   "outputs": [
    {
     "data": {
      "text/plain": [
       "\"irradiation_Berlin.nc\""
      ]
     },
     "execution_count": 4,
     "metadata": {},
     "output_type": "execute_result"
    }
   ],
   "source": [
    "fn_berlin = \"irradiation_Berlin.nc\""
   ]
  },
  {
   "cell_type": "code",
   "execution_count": 2,
   "id": "5268a732-1932-4574-be91-e9db02066b30",
   "metadata": {
    "execution": {
     "iopub.execute_input": "2021-08-18T15:26:45.691000+02:00",
     "iopub.status.busy": "2021-08-18T15:26:39.365000+02:00",
     "iopub.status.idle": "2021-08-18T15:26:46.060000+02:00",
     "shell.execute_reply": "2021-08-18T15:26:46.012000+02:00"
    },
    "scrolled": true,
    "tags": []
   },
   "outputs": [],
   "source": [
    "fn_berlin_w  = \"irradiation_Berlin_W.nc\";"
   ]
  },
  {
   "cell_type": "markdown",
   "id": "878ee582-762c-4769-a2f9-551b37e903c7",
   "metadata": {},
   "source": [
    "### Funcs"
   ]
  },
  {
   "cell_type": "code",
   "execution_count": 2,
   "id": "3b2387e6-41b4-4da4-abc3-fead6f370209",
   "metadata": {
    "execution": {
     "iopub.execute_input": "2021-05-28T08:40:02.589000+02:00",
     "iopub.status.busy": "2021-05-28T08:39:55.580000+02:00",
     "iopub.status.idle": "2021-05-28T08:40:02.761000+02:00",
     "shell.execute_reply": "2021-05-28T08:40:02.709000+02:00"
    },
    "tags": []
   },
   "outputs": [],
   "source": [
    "fn_athens = \"irradiation_Athens.nc\"\n",
    "fn_berlin = \"irradiation_Berlin.nc\";"
   ]
  },
  {
   "cell_type": "code",
   "execution_count": 5,
   "id": "925c6ace-292e-4837-a290-9685cd696b31",
   "metadata": {
    "execution": {
     "iopub.execute_input": "2021-05-21T18:39:47.272000+02:00",
     "iopub.status.busy": "2021-05-21T18:39:47.272000+02:00",
     "iopub.status.idle": "2021-05-21T18:39:49.362000+02:00",
     "shell.execute_reply": "2021-05-21T18:39:49.361000+02:00"
    },
    "scrolled": true,
    "tags": []
   },
   "outputs": [
    {
     "name": "stdout",
     "output_type": "stream",
     "text": [
      "\n",
      "##### NetCDF File #####\n",
      "\n",
      "C:\\Users\\xinyuan.hou\\solCast\\irradiation_Berlin.nc\n",
      "\n",
      "##### Dimensions #####\n",
      "\n",
      "Name                                                Length                    \n",
      "--------------------------------------------------------------------------------\n",
      "altitude                                            1                         \n",
      "latitude                                            1                         \n",
      "time                                                558048                    \n",
      "longitude                                           1                         \n",
      "\n",
      "##### Variables #####\n",
      "\n",
      "Name                            Type            Dimensions                      \n",
      "--------------------------------------------------------------------------------\n",
      "rely                            DOUBLE          longitude latitude altitude ti..\n",
      "altitude                        DOUBLE          altitude                        \n",
      "time                            INT             time                            \n",
      "CLEAR_SKY_DHI                   DOUBLE          longitude latitude altitude ti..\n",
      "CLEAR_SKY_BHI                   DOUBLE          longitude latitude altitude ti..\n",
      "ut_day                          BYTE            longitude latitude altitude ti..\n",
      "ut_minute                       BYTE            longitude latitude altitude ti..\n",
      "tst_month                       BYTE            longitude latitude altitude ti..\n",
      "CLEAR_SKY_BNI                   DOUBLE          longitude latitude altitude ti..\n",
      "tst_minute                      BYTE            longitude latitude altitude ti..\n",
      "tst_jd                          DOUBLE          longitude latitude altitude ti..\n",
      "ut_second                       DOUBLE          longitude latitude altitude ti..\n",
      "CLEAR_SKY_GHI                   DOUBLE          longitude latitude altitude ti..\n",
      "BNI                             DOUBLE          longitude latitude altitude ti..\n",
      "tst_second                      DOUBLE          longitude latitude altitude ti..\n",
      "ut_month                        BYTE            longitude latitude altitude ti..\n",
      "G0                              DOUBLE          longitude latitude altitude ti..\n",
      "ut_hour                         BYTE            longitude latitude altitude ti..\n",
      "GHI                             DOUBLE          longitude latitude altitude ti..\n",
      "tst_year                        SHORT           longitude latitude altitude ti..\n",
      "latitude                        DOUBLE          latitude                        \n",
      "ut_year                         SHORT           longitude latitude altitude ti..\n",
      "ut_jd                           DOUBLE          longitude latitude altitude ti..\n",
      "tst_hour                        BYTE            longitude latitude altitude ti..\n",
      "longitude                       DOUBLE          longitude                       \n",
      "BHI                             DOUBLE          longitude latitude altitude ti..\n",
      "tst_day                         BYTE            longitude latitude altitude ti..\n",
      "DHI                             DOUBLE          longitude latitude altitude ti..\n",
      "\n",
      "##### Attributes #####\n",
      "\n",
      "Variable            Name                Value                                   \n",
      "--------------------------------------------------------------------------------\n",
      "altitude            units               m                                       \n",
      "altitude            comments            Site altitude in meter                  \n",
      "time                units               seconds since 1970-1-1 00:00:00 +0:00   \n",
      "time                mode                tu                                      \n",
      "time                comments            The instant given for each value corre..\n",
      "CLEAR_SKY_DHI       units               Wh/m2                                   \n",
      "CLEAR_SKY_DHI       comments            Clear Sky Diffuse irradiation on horiz..\n",
      "CLEAR_SKY_BHI       units               Wh/m2                                   \n",
      "CLEAR_SKY_BHI       comments            Clear Sky Beam irradiation on horizont..\n",
      "ut_day              units               day                                     \n",
      "ut_day              comments            UT day                                  \n",
      "ut_minute           units               minute                                  \n",
      "ut_minute           comments            UT minutes                              \n",
      "tst_month           units               month                                   \n",
      "tst_month           comments            TST month                               \n",
      "CLEAR_SKY_BNI       units               Wh/m2                                   \n",
      "CLEAR_SKY_BNI       comments            Clear Sky Beam irradiation on mobile s..\n",
      "tst_minute          units               minute                                  \n",
      "tst_minute          comments            TST minutes                             \n",
      "tst_jd              units               Day                                     \n",
      "tst_jd              comments            Julian Date TST                         \n",
      "ut_second           units               second                                  \n",
      "ut_second           comments            UT seconds                              \n",
      "CLEAR_SKY_GHI       units               Wh/m2                                   \n",
      "CLEAR_SKY_GHI       comments            Clear Sky Global irradiation on horizo..\n",
      "BNI                 units               Wh/m2                                   \n",
      "BNI                 comments            Beam irradiation on mobile surface fol..\n",
      "tst_second          units               second                                  \n",
      "tst_second          comments            TST seconds                             \n",
      "ut_month            units               month                                   \n",
      "ut_month            comments            UT month                                \n",
      "G0                  units               Wh/m2                                   \n",
      "G0                  comments            Irradiation on horizontal plane at the..\n",
      "ut_hour             units               h                                       \n",
      "ut_hour             comments            UT hours                                \n",
      "GHI                 units               Wh/m2                                   \n",
      "GHI                 comments            Global irradiation on horizontal plane..\n",
      "tst_year            units               year                                    \n",
      "tst_year            comments            TST year                                \n",
      "latitude            units               degrees_north                           \n",
      "latitude            comments            Site latitude (positive means North)    \n",
      "ut_year             units               year                                    \n",
      "ut_year             comments            UT year                                 \n",
      "ut_jd               units               Day                                     \n",
      "ut_jd               comments            Julian Date UT                          \n",
      "tst_hour            units               h                                       \n",
      "tst_hour            comments            TST hours                               \n",
      "longitude           units               degrees_east                            \n",
      "longitude           comments            Site longitude (positive means East)    \n",
      "BHI                 units               Wh/m2                                   \n",
      "BHI                 comments            Beam irradiation on horizontal plane a..\n",
      "tst_day             units               day                                     \n",
      "tst_day             comments            TST day                                 \n",
      "DHI                 units               Wh/m2                                   \n",
      "DHI                 comments            Diffuse irradiation on horizontal plan..\n"
     ]
    }
   ],
   "source": [
    "ncinfo(fn_berlin)"
   ]
  },
  {
   "cell_type": "code",
   "execution_count": 8,
   "id": "de9f6121-511f-4fbc-bd21-56534f504608",
   "metadata": {
    "execution": {
     "iopub.execute_input": "2021-08-18T16:43:30.876000+02:00",
     "iopub.status.busy": "2021-08-18T16:43:30.875000+02:00",
     "iopub.status.idle": "2021-08-18T16:43:30.877000+02:00",
     "shell.execute_reply": "2021-08-18T16:43:30.877000+02:00"
    },
    "tags": []
   },
   "outputs": [
    {
     "data": {
      "text/plain": [
       "\"data\\\\irradiation_Berlin.nc\""
      ]
     },
     "execution_count": 8,
     "metadata": {},
     "output_type": "execute_result"
    }
   ],
   "source": [
    "    fn_ = joinpath(\"data\", fn_berlin)"
   ]
  },
  {
   "cell_type": "code",
   "execution_count": 8,
   "id": "4918e421-f865-420a-a0d9-e4e8d069ac2a",
   "metadata": {
    "execution": {
     "iopub.execute_input": "2021-08-18T15:32:36.509000+02:00",
     "iopub.status.busy": "2021-08-18T15:32:36.509000+02:00",
     "iopub.status.idle": "2021-08-18T15:32:36.532000+02:00",
     "shell.execute_reply": "2021-08-18T15:32:36.532000+02:00"
    },
    "tags": []
   },
   "outputs": [],
   "source": [
    "    ghi = getNCvar(fn_, \"GHI\")\n",
    "    ghiCS = getNCvar(fn_, \"CLEAR_SKY_GHI\");"
   ]
  },
  {
   "cell_type": "code",
   "execution_count": null,
   "id": "f8eb9b5d-d0c4-48e8-9f9b-eddcd1352a22",
   "metadata": {},
   "outputs": [],
   "source": [
    "    cmf = ghi ./ ghiCS\n",
    "    cmf_train = cmf[1:523007] # 2004 - 2018\n",
    "    cmf_test = cmf[523008:end] # 2019"
   ]
  },
  {
   "cell_type": "code",
   "execution_count": 53,
   "id": "7a028526-9f3c-4a4d-bc4b-211dbdb367e2",
   "metadata": {
    "collapsed": true,
    "execution": {
     "iopub.execute_input": "2021-08-18T17:35:15.594000+02:00",
     "iopub.status.busy": "2021-08-18T17:35:15.593000+02:00",
     "iopub.status.idle": "2021-08-18T17:35:16.140000+02:00",
     "shell.execute_reply": "2021-08-18T17:35:16.140000+02:00"
    },
    "jupyter": {
     "outputs_hidden": true
    },
    "tags": []
   },
   "outputs": [
    {
     "data": {
      "text/plain": [
       "([0.25300818171573625, 0.25114843250478547, 0.22158832728772718, 0.18179115729880074, 0.15113926484883422, 0.165566104963329, 0.3466782860167718, 0.31671983957807137, 0.36398169822529436, 0.41458791214159674  …  0.4847562973172902, 0.42879282344472974, 0.562585022521856, 0.5562563972920771, 0.740902732523057, 0.8464298692171635, 0.8553437322878059, 0.8214015279512967, 0.8961348158326929, 0.9577757923480762], [0.44469196601764, 0.4351617737683957, 0.269436723419728, 0.17068227409802456, 0.1429488917122064, 0.15129203466407165, 0.2401452489621812, 0.22737657362189478, 0.18280183122008878, 0.18156954657218516  …  0.3512261624529648, 0.3654462465213288, 0.43314935585746206, 0.5053020493139164, 0.5916213600795741, 0.653059553669952, 0.7160528373997062, 0.7139817138829445, 0.8317632961413673, 0.9169679834730434])"
      ]
     },
     "execution_count": 53,
     "metadata": {},
     "output_type": "execute_result"
    }
   ],
   "source": [
    "data_train, data_test = getCMF(fn_berlin)"
   ]
  },
  {
   "cell_type": "code",
   "execution_count": 54,
   "id": "34c32b08-421b-452a-929d-7e602f3e4a49",
   "metadata": {
    "execution": {
     "iopub.execute_input": "2021-08-18T17:35:16.141000+02:00",
     "iopub.status.busy": "2021-08-18T17:35:16.141000+02:00",
     "iopub.status.idle": "2021-08-18T17:35:19.948000+02:00",
     "shell.execute_reply": "2021-08-18T17:35:19.948000+02:00"
    },
    "tags": []
   },
   "outputs": [],
   "source": [
    "data_train_cls, binStarts, binMean = getBins(data_train, N) # city-specific\n",
    "data_test_cls = classify(data_test, binStarts);"
   ]
  },
  {
   "cell_type": "code",
   "execution_count": 57,
   "id": "ff0ce4da-53e5-4286-85a2-a2b37e9482f8",
   "metadata": {
    "execution": {
     "iopub.execute_input": "2021-08-18T17:36:11.206000+02:00",
     "iopub.status.busy": "2021-08-18T17:36:11.206000+02:00",
     "iopub.status.idle": "2021-08-18T17:36:11.573000+02:00",
     "shell.execute_reply": "2021-08-18T17:36:11.573000+02:00"
    },
    "scrolled": true,
    "tags": []
   },
   "outputs": [
    {
     "ename": "LoadError",
     "evalue": "MethodError: no method matching ^(::Tuple{Int64}, ::Int64)\n\u001b[0mClosest candidates are:\n\u001b[0m  ^(\u001b[91m::Union{AbstractChar, AbstractString}\u001b[39m, ::Integer) at strings/basic.jl:718\n\u001b[0m  ^(\u001b[91m::UniformScaling\u001b[39m, ::Number) at C:\\buildbot\\worker\\package_win64\\build\\usr\\share\\julia\\stdlib\\v1.6\\LinearAlgebra\\src\\uniformscaling.jl:298\n\u001b[0m  ^(\u001b[91m::Symmetric{var\"#s832\", S} where {var\"#s832\"<:Real, S<:(AbstractMatrix{var\"#s832\"} where var\"#s832\"<:var\"#s832\")}\u001b[39m, ::Integer) at C:\\buildbot\\worker\\package_win64\\build\\usr\\share\\julia\\stdlib\\v1.6\\LinearAlgebra\\src\\symmetric.jl:868\n\u001b[0m  ...",
     "output_type": "error",
     "traceback": [
      "MethodError: no method matching ^(::Tuple{Int64}, ::Int64)\n\u001b[0mClosest candidates are:\n\u001b[0m  ^(\u001b[91m::Union{AbstractChar, AbstractString}\u001b[39m, ::Integer) at strings/basic.jl:718\n\u001b[0m  ^(\u001b[91m::UniformScaling\u001b[39m, ::Number) at C:\\buildbot\\worker\\package_win64\\build\\usr\\share\\julia\\stdlib\\v1.6\\LinearAlgebra\\src\\uniformscaling.jl:298\n\u001b[0m  ^(\u001b[91m::Symmetric{var\"#s832\", S} where {var\"#s832\"<:Real, S<:(AbstractMatrix{var\"#s832\"} where var\"#s832\"<:var\"#s832\")}\u001b[39m, ::Integer) at C:\\buildbot\\worker\\package_win64\\build\\usr\\share\\julia\\stdlib\\v1.6\\LinearAlgebra\\src\\symmetric.jl:868\n\u001b[0m  ...",
      "",
      "Stacktrace:",
      " [1] mcFit(state::Vector{Int64}, od::Int64, n::Tuple{Int64})",
      "   @ Main C:\\Users\\xinyuan.hou\\solCast\\MC.jl:59",
      " [2] getDF(od::Int64, steps::Int64, n::Int64)",
      "   @ Main C:\\Users\\xinyuan.hou\\solCast\\MC.jl:199",
      " [3] top-level scope",
      "   @ In[57]:1",
      " [4] eval",
      "   @ .\\boot.jl:360 [inlined]",
      " [5] include_string(mapexpr::typeof(REPL.softscope), mod::Module, code::String, filename::String)",
      "   @ Base .\\loading.jl:1094"
     ]
    }
   ],
   "source": [
    "df21 = getDF(2, 1, N) #; test_neib=test_neib_w)"
   ]
  },
  {
   "cell_type": "code",
   "execution_count": 12,
   "id": "237ff113-c8ad-44e8-8d73-fadc7353fa95",
   "metadata": {
    "collapsed": true,
    "execution": {
     "iopub.execute_input": "2021-08-18T16:45:07.343000+02:00",
     "iopub.status.busy": "2021-08-18T16:45:07.343000+02:00",
     "iopub.status.idle": "2021-08-18T16:45:07.346000+02:00",
     "shell.execute_reply": "2021-08-18T16:45:07.346000+02:00"
    },
    "jupyter": {
     "outputs_hidden": true
    },
    "tags": []
   },
   "outputs": [
    {
     "data": {
      "text/plain": [
       "Dict{Symbol, String} with 7 entries:\n",
       "  :d     => \"ut_day\"\n",
       "  :hr    => \"ut_hour\"\n",
       "  :ghi   => \"GHI\"\n",
       "  :ghiCS => \"CLEAR_SKY_GHI\"\n",
       "  :yr    => \"ut_year\"\n",
       "  :mo    => \"ut_month\"\n",
       "  :min   => \"ut_minute\""
      ]
     },
     "execution_count": 12,
     "metadata": {},
     "output_type": "execute_result"
    }
   ],
   "source": [
    "cols = [:yr, :mo, :d, :hr, :min, :ghi, :ghiCS]\n",
    "vars = [\"ut_year\", \"ut_month\", \"ut_day\", \"ut_hour\", \"ut_minute\", \"GHI\", \"CLEAR_SKY_GHI\"];\n",
    "\n",
    "dateDic = Dict(zip(cols, vars))"
   ]
  },
  {
   "cell_type": "code",
   "execution_count": 13,
   "id": "17c6c425-160a-4dac-831f-bde3ee79e322",
   "metadata": {
    "execution": {
     "iopub.execute_input": "2021-08-18T16:45:10.790000+02:00",
     "iopub.status.busy": "2021-08-18T16:45:10.790000+02:00",
     "iopub.status.idle": "2021-08-18T16:45:10.836000+02:00",
     "shell.execute_reply": "2021-08-18T16:45:10.836000+02:00"
    },
    "tags": []
   },
   "outputs": [],
   "source": [
    "for (c, v) in dateDic\n",
    "    @eval $c = getNCvar(fn_, $v)\n",
    "end"
   ]
  },
  {
   "cell_type": "code",
   "execution_count": 19,
   "id": "fc8edb99-2cdf-4808-bb19-6872e6eab53b",
   "metadata": {
    "collapsed": true,
    "execution": {
     "iopub.execute_input": "2021-08-18T16:35:23.017000+02:00",
     "iopub.status.busy": "2021-08-18T16:35:23.017000+02:00",
     "iopub.status.idle": "2021-08-18T16:35:23.901000+02:00",
     "shell.execute_reply": "2021-08-18T16:35:23.901000+02:00"
    },
    "jupyter": {
     "outputs_hidden": true,
     "source_hidden": true
    },
    "tags": []
   },
   "outputs": [
    {
     "data": {
      "text/plain": [
       "558048-element Vector{Int16}:\n",
       " 2004\n",
       " 2004\n",
       " 2004\n",
       " 2004\n",
       " 2004\n",
       " 2004\n",
       " 2004\n",
       " 2004\n",
       " 2004\n",
       " 2004\n",
       " 2004\n",
       " 2004\n",
       " 2004\n",
       "    ⋮\n",
       " 2019\n",
       " 2019\n",
       " 2019\n",
       " 2019\n",
       " 2019\n",
       " 2019\n",
       " 2019\n",
       " 2019\n",
       " 2019\n",
       " 2019\n",
       " 2019\n",
       " 2020"
      ]
     },
     "execution_count": 19,
     "metadata": {},
     "output_type": "execute_result"
    }
   ],
   "source": [
    "year"
   ]
  },
  {
   "cell_type": "code",
   "execution_count": 16,
   "id": "4e132a7a-f58b-4c66-b5ce-70d14efa135c",
   "metadata": {
    "collapsed": true,
    "execution": {
     "iopub.execute_input": "2021-08-18T16:48:00.788000+02:00",
     "iopub.status.busy": "2021-08-18T16:48:00.788000+02:00",
     "iopub.status.idle": "2021-08-18T16:48:07.702000+02:00",
     "shell.execute_reply": "2021-08-18T16:48:07.702000+02:00"
    },
    "jupyter": {
     "outputs_hidden": true
    },
    "tags": []
   },
   "outputs": [
    {
     "data": {
      "text/html": [
       "<table class=\"data-frame\"><thead><tr><th></th><th>year</th><th>month</th><th>day</th><th>hour</th><th>minute</th></tr><tr><th></th><th>Int16</th><th>Int8</th><th>Int8</th><th>Int8</th><th>Int8</th></tr></thead><tbody><p>558,048 rows × 5 columns</p><tr><th>1</th><td>2004</td><td>2</td><td>1</td><td>0</td><td>15</td></tr><tr><th>2</th><td>2004</td><td>2</td><td>1</td><td>0</td><td>30</td></tr><tr><th>3</th><td>2004</td><td>2</td><td>1</td><td>0</td><td>45</td></tr><tr><th>4</th><td>2004</td><td>2</td><td>1</td><td>1</td><td>0</td></tr><tr><th>5</th><td>2004</td><td>2</td><td>1</td><td>1</td><td>15</td></tr><tr><th>6</th><td>2004</td><td>2</td><td>1</td><td>1</td><td>30</td></tr><tr><th>7</th><td>2004</td><td>2</td><td>1</td><td>1</td><td>45</td></tr><tr><th>8</th><td>2004</td><td>2</td><td>1</td><td>2</td><td>0</td></tr><tr><th>9</th><td>2004</td><td>2</td><td>1</td><td>2</td><td>15</td></tr><tr><th>10</th><td>2004</td><td>2</td><td>1</td><td>2</td><td>30</td></tr><tr><th>11</th><td>2004</td><td>2</td><td>1</td><td>2</td><td>45</td></tr><tr><th>12</th><td>2004</td><td>2</td><td>1</td><td>3</td><td>0</td></tr><tr><th>13</th><td>2004</td><td>2</td><td>1</td><td>3</td><td>15</td></tr><tr><th>14</th><td>2004</td><td>2</td><td>1</td><td>3</td><td>30</td></tr><tr><th>15</th><td>2004</td><td>2</td><td>1</td><td>3</td><td>45</td></tr><tr><th>16</th><td>2004</td><td>2</td><td>1</td><td>4</td><td>0</td></tr><tr><th>17</th><td>2004</td><td>2</td><td>1</td><td>4</td><td>15</td></tr><tr><th>18</th><td>2004</td><td>2</td><td>1</td><td>4</td><td>30</td></tr><tr><th>19</th><td>2004</td><td>2</td><td>1</td><td>4</td><td>45</td></tr><tr><th>20</th><td>2004</td><td>2</td><td>1</td><td>5</td><td>0</td></tr><tr><th>21</th><td>2004</td><td>2</td><td>1</td><td>5</td><td>15</td></tr><tr><th>22</th><td>2004</td><td>2</td><td>1</td><td>5</td><td>30</td></tr><tr><th>23</th><td>2004</td><td>2</td><td>1</td><td>5</td><td>45</td></tr><tr><th>24</th><td>2004</td><td>2</td><td>1</td><td>6</td><td>0</td></tr><tr><th>25</th><td>2004</td><td>2</td><td>1</td><td>6</td><td>15</td></tr><tr><th>26</th><td>2004</td><td>2</td><td>1</td><td>6</td><td>30</td></tr><tr><th>27</th><td>2004</td><td>2</td><td>1</td><td>6</td><td>45</td></tr><tr><th>28</th><td>2004</td><td>2</td><td>1</td><td>7</td><td>0</td></tr><tr><th>29</th><td>2004</td><td>2</td><td>1</td><td>7</td><td>15</td></tr><tr><th>30</th><td>2004</td><td>2</td><td>1</td><td>7</td><td>30</td></tr><tr><th>&vellip;</th><td>&vellip;</td><td>&vellip;</td><td>&vellip;</td><td>&vellip;</td><td>&vellip;</td></tr></tbody></table>"
      ],
      "text/latex": [
       "\\begin{tabular}{r|ccccc}\n",
       "\t& year & month & day & hour & minute\\\\\n",
       "\t\\hline\n",
       "\t& Int16 & Int8 & Int8 & Int8 & Int8\\\\\n",
       "\t\\hline\n",
       "\t1 & 2004 & 2 & 1 & 0 & 15 \\\\\n",
       "\t2 & 2004 & 2 & 1 & 0 & 30 \\\\\n",
       "\t3 & 2004 & 2 & 1 & 0 & 45 \\\\\n",
       "\t4 & 2004 & 2 & 1 & 1 & 0 \\\\\n",
       "\t5 & 2004 & 2 & 1 & 1 & 15 \\\\\n",
       "\t6 & 2004 & 2 & 1 & 1 & 30 \\\\\n",
       "\t7 & 2004 & 2 & 1 & 1 & 45 \\\\\n",
       "\t8 & 2004 & 2 & 1 & 2 & 0 \\\\\n",
       "\t9 & 2004 & 2 & 1 & 2 & 15 \\\\\n",
       "\t10 & 2004 & 2 & 1 & 2 & 30 \\\\\n",
       "\t11 & 2004 & 2 & 1 & 2 & 45 \\\\\n",
       "\t12 & 2004 & 2 & 1 & 3 & 0 \\\\\n",
       "\t13 & 2004 & 2 & 1 & 3 & 15 \\\\\n",
       "\t14 & 2004 & 2 & 1 & 3 & 30 \\\\\n",
       "\t15 & 2004 & 2 & 1 & 3 & 45 \\\\\n",
       "\t16 & 2004 & 2 & 1 & 4 & 0 \\\\\n",
       "\t17 & 2004 & 2 & 1 & 4 & 15 \\\\\n",
       "\t18 & 2004 & 2 & 1 & 4 & 30 \\\\\n",
       "\t19 & 2004 & 2 & 1 & 4 & 45 \\\\\n",
       "\t20 & 2004 & 2 & 1 & 5 & 0 \\\\\n",
       "\t21 & 2004 & 2 & 1 & 5 & 15 \\\\\n",
       "\t22 & 2004 & 2 & 1 & 5 & 30 \\\\\n",
       "\t23 & 2004 & 2 & 1 & 5 & 45 \\\\\n",
       "\t24 & 2004 & 2 & 1 & 6 & 0 \\\\\n",
       "\t25 & 2004 & 2 & 1 & 6 & 15 \\\\\n",
       "\t26 & 2004 & 2 & 1 & 6 & 30 \\\\\n",
       "\t27 & 2004 & 2 & 1 & 6 & 45 \\\\\n",
       "\t28 & 2004 & 2 & 1 & 7 & 0 \\\\\n",
       "\t29 & 2004 & 2 & 1 & 7 & 15 \\\\\n",
       "\t30 & 2004 & 2 & 1 & 7 & 30 \\\\\n",
       "\t$\\dots$ & $\\dots$ & $\\dots$ & $\\dots$ & $\\dots$ & $\\dots$ \\\\\n",
       "\\end{tabular}\n"
      ],
      "text/plain": [
       "\u001b[1m558048×5 DataFrame\u001b[0m\n",
       "\u001b[1m    Row \u001b[0m│\u001b[1m year  \u001b[0m\u001b[1m month \u001b[0m\u001b[1m day  \u001b[0m\u001b[1m hour \u001b[0m\u001b[1m minute \u001b[0m\n",
       "\u001b[1m        \u001b[0m│\u001b[90m Int16 \u001b[0m\u001b[90m Int8  \u001b[0m\u001b[90m Int8 \u001b[0m\u001b[90m Int8 \u001b[0m\u001b[90m Int8   \u001b[0m\n",
       "────────┼──────────────────────────────────\n",
       "      1 │  2004      2     1     0      15\n",
       "      2 │  2004      2     1     0      30\n",
       "      3 │  2004      2     1     0      45\n",
       "      4 │  2004      2     1     1       0\n",
       "      5 │  2004      2     1     1      15\n",
       "      6 │  2004      2     1     1      30\n",
       "      7 │  2004      2     1     1      45\n",
       "      8 │  2004      2     1     2       0\n",
       "      9 │  2004      2     1     2      15\n",
       "     10 │  2004      2     1     2      30\n",
       "     11 │  2004      2     1     2      45\n",
       "   ⋮    │   ⋮      ⋮     ⋮     ⋮      ⋮\n",
       " 558039 │  2019     12    31    21      45\n",
       " 558040 │  2019     12    31    22       0\n",
       " 558041 │  2019     12    31    22      15\n",
       " 558042 │  2019     12    31    22      30\n",
       " 558043 │  2019     12    31    22      45\n",
       " 558044 │  2019     12    31    23       0\n",
       " 558045 │  2019     12    31    23      15\n",
       " 558046 │  2019     12    31    23      30\n",
       " 558047 │  2019     12    31    23      45\n",
       " 558048 │  2020      1     1     0       0\n",
       "\u001b[36m                        558027 rows omitted\u001b[0m"
      ]
     },
     "execution_count": 16,
     "metadata": {},
     "output_type": "execute_result"
    }
   ],
   "source": [
    "df = DataFrame(:year=>yr, :month=>mo, :day=>d, :hour=>hr, :minute=>min)"
   ]
  },
  {
   "cell_type": "code",
   "execution_count": 18,
   "id": "0a257081-e329-49f6-956a-07b4dadc63ce",
   "metadata": {
    "collapsed": true,
    "execution": {
     "iopub.execute_input": "2021-08-18T16:53:17.583000+02:00",
     "iopub.status.busy": "2021-08-18T16:53:17.583000+02:00",
     "iopub.status.idle": "2021-08-18T16:53:18.436000+02:00",
     "shell.execute_reply": "2021-08-18T16:53:18.436000+02:00"
    },
    "jupyter": {
     "outputs_hidden": true
    },
    "tags": []
   },
   "outputs": [
    {
     "data": {
      "text/plain": [
       "558048-element Vector{DateTime}:\n",
       " 2004-02-01T00:15:00\n",
       " 2004-02-01T00:30:00\n",
       " 2004-02-01T00:45:00\n",
       " 2004-02-01T01:00:00\n",
       " 2004-02-01T01:15:00\n",
       " 2004-02-01T01:30:00\n",
       " 2004-02-01T01:45:00\n",
       " 2004-02-01T02:00:00\n",
       " 2004-02-01T02:15:00\n",
       " 2004-02-01T02:30:00\n",
       " 2004-02-01T02:45:00\n",
       " 2004-02-01T03:00:00\n",
       " 2004-02-01T03:15:00\n",
       " ⋮\n",
       " 2019-12-31T21:15:00\n",
       " 2019-12-31T21:30:00\n",
       " 2019-12-31T21:45:00\n",
       " 2019-12-31T22:00:00\n",
       " 2019-12-31T22:15:00\n",
       " 2019-12-31T22:30:00\n",
       " 2019-12-31T22:45:00\n",
       " 2019-12-31T23:00:00\n",
       " 2019-12-31T23:15:00\n",
       " 2019-12-31T23:30:00\n",
       " 2019-12-31T23:45:00\n",
       " 2020-01-01T00:00:00"
      ]
     },
     "execution_count": 18,
     "metadata": {},
     "output_type": "execute_result"
    }
   ],
   "source": [
    "dt = map(df -> DateTime(df.year, df.month, df.day, df.hour, df.minute), eachrow(df))"
   ]
  },
  {
   "cell_type": "code",
   "execution_count": 36,
   "id": "cea9ac22-e41f-4b25-b525-0a879570025f",
   "metadata": {
    "collapsed": true,
    "execution": {
     "iopub.execute_input": "2021-08-18T17:08:51.449000+02:00",
     "iopub.status.busy": "2021-08-18T17:08:51.449000+02:00",
     "iopub.status.idle": "2021-08-18T17:08:51.461000+02:00",
     "shell.execute_reply": "2021-08-18T17:08:51.461000+02:00"
    },
    "jupyter": {
     "outputs_hidden": true
    },
    "scrolled": true,
    "tags": []
   },
   "outputs": [
    {
     "data": {
      "text/html": [
       "<table class=\"data-frame\"><thead><tr><th></th><th>time</th><th>ghi</th><th>ghiCS</th></tr><tr><th></th><th>DateTime</th><th>Float64</th><th>Float64</th></tr></thead><tbody><p>558,048 rows × 3 columns</p><tr><th>1</th><td>2004-02-01T00:15:00</td><td>0.0</td><td>0.0</td></tr><tr><th>2</th><td>2004-02-01T00:30:00</td><td>0.0</td><td>0.0</td></tr><tr><th>3</th><td>2004-02-01T00:45:00</td><td>0.0</td><td>0.0</td></tr><tr><th>4</th><td>2004-02-01T01:00:00</td><td>0.0</td><td>0.0</td></tr><tr><th>5</th><td>2004-02-01T01:15:00</td><td>0.0</td><td>0.0</td></tr><tr><th>6</th><td>2004-02-01T01:30:00</td><td>0.0</td><td>0.0</td></tr><tr><th>7</th><td>2004-02-01T01:45:00</td><td>0.0</td><td>0.0</td></tr><tr><th>8</th><td>2004-02-01T02:00:00</td><td>0.0</td><td>0.0</td></tr><tr><th>9</th><td>2004-02-01T02:15:00</td><td>0.0</td><td>0.0</td></tr><tr><th>10</th><td>2004-02-01T02:30:00</td><td>0.0</td><td>0.0</td></tr><tr><th>11</th><td>2004-02-01T02:45:00</td><td>0.0</td><td>0.0</td></tr><tr><th>12</th><td>2004-02-01T03:00:00</td><td>0.0</td><td>0.0</td></tr><tr><th>13</th><td>2004-02-01T03:15:00</td><td>0.0</td><td>0.0</td></tr><tr><th>14</th><td>2004-02-01T03:30:00</td><td>0.0</td><td>0.0</td></tr><tr><th>15</th><td>2004-02-01T03:45:00</td><td>0.0</td><td>0.0</td></tr><tr><th>16</th><td>2004-02-01T04:00:00</td><td>0.0</td><td>0.0</td></tr><tr><th>17</th><td>2004-02-01T04:15:00</td><td>0.0</td><td>0.0</td></tr><tr><th>18</th><td>2004-02-01T04:30:00</td><td>0.0</td><td>0.0</td></tr><tr><th>19</th><td>2004-02-01T04:45:00</td><td>0.0</td><td>0.0</td></tr><tr><th>20</th><td>2004-02-01T05:00:00</td><td>0.0</td><td>0.0</td></tr><tr><th>21</th><td>2004-02-01T05:15:00</td><td>0.0</td><td>0.0</td></tr><tr><th>22</th><td>2004-02-01T05:30:00</td><td>0.0</td><td>0.0</td></tr><tr><th>23</th><td>2004-02-01T05:45:00</td><td>0.0</td><td>0.0</td></tr><tr><th>24</th><td>2004-02-01T06:00:00</td><td>0.0</td><td>0.0</td></tr><tr><th>25</th><td>2004-02-01T06:15:00</td><td>0.0</td><td>0.0</td></tr><tr><th>26</th><td>2004-02-01T06:30:00</td><td>0.0</td><td>0.0</td></tr><tr><th>27</th><td>2004-02-01T06:45:00</td><td>0.0</td><td>0.0</td></tr><tr><th>28</th><td>2004-02-01T07:00:00</td><td>0.0145616</td><td>0.0575537</td></tr><tr><th>29</th><td>2004-02-01T07:15:00</td><td>0.601231</td><td>2.39393</td></tr><tr><th>30</th><td>2004-02-01T07:30:00</td><td>1.60888</td><td>7.26069</td></tr><tr><th>&vellip;</th><td>&vellip;</td><td>&vellip;</td><td>&vellip;</td></tr></tbody></table>"
      ],
      "text/latex": [
       "\\begin{tabular}{r|ccc}\n",
       "\t& time & ghi & ghiCS\\\\\n",
       "\t\\hline\n",
       "\t& DateTime & Float64 & Float64\\\\\n",
       "\t\\hline\n",
       "\t1 & 2004-02-01T00:15:00 & 0.0 & 0.0 \\\\\n",
       "\t2 & 2004-02-01T00:30:00 & 0.0 & 0.0 \\\\\n",
       "\t3 & 2004-02-01T00:45:00 & 0.0 & 0.0 \\\\\n",
       "\t4 & 2004-02-01T01:00:00 & 0.0 & 0.0 \\\\\n",
       "\t5 & 2004-02-01T01:15:00 & 0.0 & 0.0 \\\\\n",
       "\t6 & 2004-02-01T01:30:00 & 0.0 & 0.0 \\\\\n",
       "\t7 & 2004-02-01T01:45:00 & 0.0 & 0.0 \\\\\n",
       "\t8 & 2004-02-01T02:00:00 & 0.0 & 0.0 \\\\\n",
       "\t9 & 2004-02-01T02:15:00 & 0.0 & 0.0 \\\\\n",
       "\t10 & 2004-02-01T02:30:00 & 0.0 & 0.0 \\\\\n",
       "\t11 & 2004-02-01T02:45:00 & 0.0 & 0.0 \\\\\n",
       "\t12 & 2004-02-01T03:00:00 & 0.0 & 0.0 \\\\\n",
       "\t13 & 2004-02-01T03:15:00 & 0.0 & 0.0 \\\\\n",
       "\t14 & 2004-02-01T03:30:00 & 0.0 & 0.0 \\\\\n",
       "\t15 & 2004-02-01T03:45:00 & 0.0 & 0.0 \\\\\n",
       "\t16 & 2004-02-01T04:00:00 & 0.0 & 0.0 \\\\\n",
       "\t17 & 2004-02-01T04:15:00 & 0.0 & 0.0 \\\\\n",
       "\t18 & 2004-02-01T04:30:00 & 0.0 & 0.0 \\\\\n",
       "\t19 & 2004-02-01T04:45:00 & 0.0 & 0.0 \\\\\n",
       "\t20 & 2004-02-01T05:00:00 & 0.0 & 0.0 \\\\\n",
       "\t21 & 2004-02-01T05:15:00 & 0.0 & 0.0 \\\\\n",
       "\t22 & 2004-02-01T05:30:00 & 0.0 & 0.0 \\\\\n",
       "\t23 & 2004-02-01T05:45:00 & 0.0 & 0.0 \\\\\n",
       "\t24 & 2004-02-01T06:00:00 & 0.0 & 0.0 \\\\\n",
       "\t25 & 2004-02-01T06:15:00 & 0.0 & 0.0 \\\\\n",
       "\t26 & 2004-02-01T06:30:00 & 0.0 & 0.0 \\\\\n",
       "\t27 & 2004-02-01T06:45:00 & 0.0 & 0.0 \\\\\n",
       "\t28 & 2004-02-01T07:00:00 & 0.0145616 & 0.0575537 \\\\\n",
       "\t29 & 2004-02-01T07:15:00 & 0.601231 & 2.39393 \\\\\n",
       "\t30 & 2004-02-01T07:30:00 & 1.60888 & 7.26069 \\\\\n",
       "\t$\\dots$ & $\\dots$ & $\\dots$ & $\\dots$ \\\\\n",
       "\\end{tabular}\n"
      ],
      "text/plain": [
       "\u001b[1m558048×3 DataFrame\u001b[0m\n",
       "\u001b[1m    Row \u001b[0m│\u001b[1m time                \u001b[0m\u001b[1m ghi     \u001b[0m\u001b[1m ghiCS   \u001b[0m\n",
       "\u001b[1m        \u001b[0m│\u001b[90m DateTime            \u001b[0m\u001b[90m Float64 \u001b[0m\u001b[90m Float64 \u001b[0m\n",
       "────────┼───────────────────────────────────────\n",
       "      1 │ 2004-02-01T00:15:00      0.0      0.0\n",
       "      2 │ 2004-02-01T00:30:00      0.0      0.0\n",
       "      3 │ 2004-02-01T00:45:00      0.0      0.0\n",
       "      4 │ 2004-02-01T01:00:00      0.0      0.0\n",
       "      5 │ 2004-02-01T01:15:00      0.0      0.0\n",
       "      6 │ 2004-02-01T01:30:00      0.0      0.0\n",
       "      7 │ 2004-02-01T01:45:00      0.0      0.0\n",
       "      8 │ 2004-02-01T02:00:00      0.0      0.0\n",
       "      9 │ 2004-02-01T02:15:00      0.0      0.0\n",
       "     10 │ 2004-02-01T02:30:00      0.0      0.0\n",
       "     11 │ 2004-02-01T02:45:00      0.0      0.0\n",
       "   ⋮    │          ⋮              ⋮        ⋮\n",
       " 558039 │ 2019-12-31T21:45:00      0.0      0.0\n",
       " 558040 │ 2019-12-31T22:00:00      0.0      0.0\n",
       " 558041 │ 2019-12-31T22:15:00      0.0      0.0\n",
       " 558042 │ 2019-12-31T22:30:00      0.0      0.0\n",
       " 558043 │ 2019-12-31T22:45:00      0.0      0.0\n",
       " 558044 │ 2019-12-31T23:00:00      0.0      0.0\n",
       " 558045 │ 2019-12-31T23:15:00      0.0      0.0\n",
       " 558046 │ 2019-12-31T23:30:00      0.0      0.0\n",
       " 558047 │ 2019-12-31T23:45:00      0.0      0.0\n",
       " 558048 │ 2020-01-01T00:00:00      0.0      0.0\n",
       "\u001b[36m                             558027 rows omitted\u001b[0m"
      ]
     },
     "execution_count": 36,
     "metadata": {},
     "output_type": "execute_result"
    }
   ],
   "source": [
    "df1 = DataFrame(:time=>dt, :ghi=>ghi, :ghiCS=>ghiCS)"
   ]
  },
  {
   "cell_type": "code",
   "execution_count": 48,
   "id": "a703d15d-db16-4a0a-9752-386c4bbd9822",
   "metadata": {
    "collapsed": true,
    "execution": {
     "iopub.execute_input": "2021-08-18T17:27:35.389000+02:00",
     "iopub.status.busy": "2021-08-18T17:27:35.389000+02:00",
     "iopub.status.idle": "2021-08-18T17:27:35.511000+02:00",
     "shell.execute_reply": "2021-08-18T17:27:35.510000+02:00"
    },
    "jupyter": {
     "outputs_hidden": true
    },
    "tags": []
   },
   "outputs": [
    {
     "data": {
      "text/html": [
       "<table class=\"data-frame\"><thead><tr><th></th><th>time</th><th>ghi</th><th>ghiCS</th></tr><tr><th></th><th>DateTime</th><th>Float64</th><th>Float64</th></tr></thead><tbody><p>523,007 rows × 3 columns</p><tr><th>1</th><td>2004-02-01T00:15:00</td><td>0.0</td><td>0.0</td></tr><tr><th>2</th><td>2004-02-01T00:30:00</td><td>0.0</td><td>0.0</td></tr><tr><th>3</th><td>2004-02-01T00:45:00</td><td>0.0</td><td>0.0</td></tr><tr><th>4</th><td>2004-02-01T01:00:00</td><td>0.0</td><td>0.0</td></tr><tr><th>5</th><td>2004-02-01T01:15:00</td><td>0.0</td><td>0.0</td></tr><tr><th>6</th><td>2004-02-01T01:30:00</td><td>0.0</td><td>0.0</td></tr><tr><th>7</th><td>2004-02-01T01:45:00</td><td>0.0</td><td>0.0</td></tr><tr><th>8</th><td>2004-02-01T02:00:00</td><td>0.0</td><td>0.0</td></tr><tr><th>9</th><td>2004-02-01T02:15:00</td><td>0.0</td><td>0.0</td></tr><tr><th>10</th><td>2004-02-01T02:30:00</td><td>0.0</td><td>0.0</td></tr><tr><th>11</th><td>2004-02-01T02:45:00</td><td>0.0</td><td>0.0</td></tr><tr><th>12</th><td>2004-02-01T03:00:00</td><td>0.0</td><td>0.0</td></tr><tr><th>13</th><td>2004-02-01T03:15:00</td><td>0.0</td><td>0.0</td></tr><tr><th>14</th><td>2004-02-01T03:30:00</td><td>0.0</td><td>0.0</td></tr><tr><th>15</th><td>2004-02-01T03:45:00</td><td>0.0</td><td>0.0</td></tr><tr><th>16</th><td>2004-02-01T04:00:00</td><td>0.0</td><td>0.0</td></tr><tr><th>17</th><td>2004-02-01T04:15:00</td><td>0.0</td><td>0.0</td></tr><tr><th>18</th><td>2004-02-01T04:30:00</td><td>0.0</td><td>0.0</td></tr><tr><th>19</th><td>2004-02-01T04:45:00</td><td>0.0</td><td>0.0</td></tr><tr><th>20</th><td>2004-02-01T05:00:00</td><td>0.0</td><td>0.0</td></tr><tr><th>21</th><td>2004-02-01T05:15:00</td><td>0.0</td><td>0.0</td></tr><tr><th>22</th><td>2004-02-01T05:30:00</td><td>0.0</td><td>0.0</td></tr><tr><th>23</th><td>2004-02-01T05:45:00</td><td>0.0</td><td>0.0</td></tr><tr><th>24</th><td>2004-02-01T06:00:00</td><td>0.0</td><td>0.0</td></tr><tr><th>25</th><td>2004-02-01T06:15:00</td><td>0.0</td><td>0.0</td></tr><tr><th>26</th><td>2004-02-01T06:30:00</td><td>0.0</td><td>0.0</td></tr><tr><th>27</th><td>2004-02-01T06:45:00</td><td>0.0</td><td>0.0</td></tr><tr><th>28</th><td>2004-02-01T07:00:00</td><td>0.0145616</td><td>0.0575537</td></tr><tr><th>29</th><td>2004-02-01T07:15:00</td><td>0.601231</td><td>2.39393</td></tr><tr><th>30</th><td>2004-02-01T07:30:00</td><td>1.60888</td><td>7.26069</td></tr><tr><th>&vellip;</th><td>&vellip;</td><td>&vellip;</td><td>&vellip;</td></tr></tbody></table>"
      ],
      "text/latex": [
       "\\begin{tabular}{r|ccc}\n",
       "\t& time & ghi & ghiCS\\\\\n",
       "\t\\hline\n",
       "\t& DateTime & Float64 & Float64\\\\\n",
       "\t\\hline\n",
       "\t1 & 2004-02-01T00:15:00 & 0.0 & 0.0 \\\\\n",
       "\t2 & 2004-02-01T00:30:00 & 0.0 & 0.0 \\\\\n",
       "\t3 & 2004-02-01T00:45:00 & 0.0 & 0.0 \\\\\n",
       "\t4 & 2004-02-01T01:00:00 & 0.0 & 0.0 \\\\\n",
       "\t5 & 2004-02-01T01:15:00 & 0.0 & 0.0 \\\\\n",
       "\t6 & 2004-02-01T01:30:00 & 0.0 & 0.0 \\\\\n",
       "\t7 & 2004-02-01T01:45:00 & 0.0 & 0.0 \\\\\n",
       "\t8 & 2004-02-01T02:00:00 & 0.0 & 0.0 \\\\\n",
       "\t9 & 2004-02-01T02:15:00 & 0.0 & 0.0 \\\\\n",
       "\t10 & 2004-02-01T02:30:00 & 0.0 & 0.0 \\\\\n",
       "\t11 & 2004-02-01T02:45:00 & 0.0 & 0.0 \\\\\n",
       "\t12 & 2004-02-01T03:00:00 & 0.0 & 0.0 \\\\\n",
       "\t13 & 2004-02-01T03:15:00 & 0.0 & 0.0 \\\\\n",
       "\t14 & 2004-02-01T03:30:00 & 0.0 & 0.0 \\\\\n",
       "\t15 & 2004-02-01T03:45:00 & 0.0 & 0.0 \\\\\n",
       "\t16 & 2004-02-01T04:00:00 & 0.0 & 0.0 \\\\\n",
       "\t17 & 2004-02-01T04:15:00 & 0.0 & 0.0 \\\\\n",
       "\t18 & 2004-02-01T04:30:00 & 0.0 & 0.0 \\\\\n",
       "\t19 & 2004-02-01T04:45:00 & 0.0 & 0.0 \\\\\n",
       "\t20 & 2004-02-01T05:00:00 & 0.0 & 0.0 \\\\\n",
       "\t21 & 2004-02-01T05:15:00 & 0.0 & 0.0 \\\\\n",
       "\t22 & 2004-02-01T05:30:00 & 0.0 & 0.0 \\\\\n",
       "\t23 & 2004-02-01T05:45:00 & 0.0 & 0.0 \\\\\n",
       "\t24 & 2004-02-01T06:00:00 & 0.0 & 0.0 \\\\\n",
       "\t25 & 2004-02-01T06:15:00 & 0.0 & 0.0 \\\\\n",
       "\t26 & 2004-02-01T06:30:00 & 0.0 & 0.0 \\\\\n",
       "\t27 & 2004-02-01T06:45:00 & 0.0 & 0.0 \\\\\n",
       "\t28 & 2004-02-01T07:00:00 & 0.0145616 & 0.0575537 \\\\\n",
       "\t29 & 2004-02-01T07:15:00 & 0.601231 & 2.39393 \\\\\n",
       "\t30 & 2004-02-01T07:30:00 & 1.60888 & 7.26069 \\\\\n",
       "\t$\\dots$ & $\\dots$ & $\\dots$ & $\\dots$ \\\\\n",
       "\\end{tabular}\n"
      ],
      "text/plain": [
       "\u001b[1m523007×3 DataFrame\u001b[0m\n",
       "\u001b[1m    Row \u001b[0m│\u001b[1m time                \u001b[0m\u001b[1m ghi     \u001b[0m\u001b[1m ghiCS   \u001b[0m\n",
       "\u001b[1m        \u001b[0m│\u001b[90m DateTime            \u001b[0m\u001b[90m Float64 \u001b[0m\u001b[90m Float64 \u001b[0m\n",
       "────────┼───────────────────────────────────────\n",
       "      1 │ 2004-02-01T00:15:00      0.0      0.0\n",
       "      2 │ 2004-02-01T00:30:00      0.0      0.0\n",
       "      3 │ 2004-02-01T00:45:00      0.0      0.0\n",
       "      4 │ 2004-02-01T01:00:00      0.0      0.0\n",
       "      5 │ 2004-02-01T01:15:00      0.0      0.0\n",
       "      6 │ 2004-02-01T01:30:00      0.0      0.0\n",
       "      7 │ 2004-02-01T01:45:00      0.0      0.0\n",
       "      8 │ 2004-02-01T02:00:00      0.0      0.0\n",
       "      9 │ 2004-02-01T02:15:00      0.0      0.0\n",
       "     10 │ 2004-02-01T02:30:00      0.0      0.0\n",
       "     11 │ 2004-02-01T02:45:00      0.0      0.0\n",
       "   ⋮    │          ⋮              ⋮        ⋮\n",
       " 522998 │ 2018-12-31T21:30:00      0.0      0.0\n",
       " 522999 │ 2018-12-31T21:45:00      0.0      0.0\n",
       " 523000 │ 2018-12-31T22:00:00      0.0      0.0\n",
       " 523001 │ 2018-12-31T22:15:00      0.0      0.0\n",
       " 523002 │ 2018-12-31T22:30:00      0.0      0.0\n",
       " 523003 │ 2018-12-31T22:45:00      0.0      0.0\n",
       " 523004 │ 2018-12-31T23:00:00      0.0      0.0\n",
       " 523005 │ 2018-12-31T23:15:00      0.0      0.0\n",
       " 523006 │ 2018-12-31T23:30:00      0.0      0.0\n",
       " 523007 │ 2018-12-31T23:45:00      0.0      0.0\n",
       "\u001b[36m                             522986 rows omitted\u001b[0m"
      ]
     },
     "execution_count": 48,
     "metadata": {},
     "output_type": "execute_result"
    }
   ],
   "source": [
    "df1_train = df1[1:523007, :]"
   ]
  },
  {
   "cell_type": "code",
   "execution_count": 49,
   "id": "a6187e86-1928-4b7f-848f-fced2fa844f5",
   "metadata": {
    "execution": {
     "iopub.execute_input": "2021-08-18T17:27:58.830000+02:00",
     "iopub.status.busy": "2021-08-18T17:27:58.830000+02:00",
     "iopub.status.idle": "2021-08-18T17:27:58.843000+02:00",
     "shell.execute_reply": "2021-08-18T17:27:58.843000+02:00"
    },
    "scrolled": true,
    "tags": []
   },
   "outputs": [
    {
     "data": {
      "text/html": [
       "<table class=\"data-frame\"><thead><tr><th></th><th>time</th><th>ghi</th><th>ghiCS</th></tr><tr><th></th><th>DateTime</th><th>Float64</th><th>Float64</th></tr></thead><tbody><p>35,041 rows × 3 columns</p><tr><th>1</th><td>2019-01-01T00:00:00</td><td>0.0</td><td>0.0</td></tr><tr><th>2</th><td>2019-01-01T00:15:00</td><td>0.0</td><td>0.0</td></tr><tr><th>3</th><td>2019-01-01T00:30:00</td><td>0.0</td><td>0.0</td></tr><tr><th>4</th><td>2019-01-01T00:45:00</td><td>0.0</td><td>0.0</td></tr><tr><th>5</th><td>2019-01-01T01:00:00</td><td>0.0</td><td>0.0</td></tr><tr><th>6</th><td>2019-01-01T01:15:00</td><td>0.0</td><td>0.0</td></tr><tr><th>7</th><td>2019-01-01T01:30:00</td><td>0.0</td><td>0.0</td></tr><tr><th>8</th><td>2019-01-01T01:45:00</td><td>0.0</td><td>0.0</td></tr><tr><th>9</th><td>2019-01-01T02:00:00</td><td>0.0</td><td>0.0</td></tr><tr><th>10</th><td>2019-01-01T02:15:00</td><td>0.0</td><td>0.0</td></tr><tr><th>11</th><td>2019-01-01T02:30:00</td><td>0.0</td><td>0.0</td></tr><tr><th>12</th><td>2019-01-01T02:45:00</td><td>0.0</td><td>0.0</td></tr><tr><th>13</th><td>2019-01-01T03:00:00</td><td>0.0</td><td>0.0</td></tr><tr><th>14</th><td>2019-01-01T03:15:00</td><td>0.0</td><td>0.0</td></tr><tr><th>15</th><td>2019-01-01T03:30:00</td><td>0.0</td><td>0.0</td></tr><tr><th>16</th><td>2019-01-01T03:45:00</td><td>0.0</td><td>0.0</td></tr><tr><th>17</th><td>2019-01-01T04:00:00</td><td>0.0</td><td>0.0</td></tr><tr><th>18</th><td>2019-01-01T04:15:00</td><td>0.0</td><td>0.0</td></tr><tr><th>19</th><td>2019-01-01T04:30:00</td><td>0.0</td><td>0.0</td></tr><tr><th>20</th><td>2019-01-01T04:45:00</td><td>0.0</td><td>0.0</td></tr><tr><th>21</th><td>2019-01-01T05:00:00</td><td>0.0</td><td>0.0</td></tr><tr><th>22</th><td>2019-01-01T05:15:00</td><td>0.0</td><td>0.0</td></tr><tr><th>23</th><td>2019-01-01T05:30:00</td><td>0.0</td><td>0.0</td></tr><tr><th>24</th><td>2019-01-01T05:45:00</td><td>0.0</td><td>0.0</td></tr><tr><th>25</th><td>2019-01-01T06:00:00</td><td>0.0</td><td>0.0</td></tr><tr><th>26</th><td>2019-01-01T06:15:00</td><td>0.0</td><td>0.0</td></tr><tr><th>27</th><td>2019-01-01T06:30:00</td><td>0.0</td><td>0.0</td></tr><tr><th>28</th><td>2019-01-01T06:45:00</td><td>0.0</td><td>0.0</td></tr><tr><th>29</th><td>2019-01-01T07:00:00</td><td>0.0</td><td>0.0</td></tr><tr><th>30</th><td>2019-01-01T07:15:00</td><td>0.0</td><td>0.0</td></tr><tr><th>&vellip;</th><td>&vellip;</td><td>&vellip;</td><td>&vellip;</td></tr></tbody></table>"
      ],
      "text/latex": [
       "\\begin{tabular}{r|ccc}\n",
       "\t& time & ghi & ghiCS\\\\\n",
       "\t\\hline\n",
       "\t& DateTime & Float64 & Float64\\\\\n",
       "\t\\hline\n",
       "\t1 & 2019-01-01T00:00:00 & 0.0 & 0.0 \\\\\n",
       "\t2 & 2019-01-01T00:15:00 & 0.0 & 0.0 \\\\\n",
       "\t3 & 2019-01-01T00:30:00 & 0.0 & 0.0 \\\\\n",
       "\t4 & 2019-01-01T00:45:00 & 0.0 & 0.0 \\\\\n",
       "\t5 & 2019-01-01T01:00:00 & 0.0 & 0.0 \\\\\n",
       "\t6 & 2019-01-01T01:15:00 & 0.0 & 0.0 \\\\\n",
       "\t7 & 2019-01-01T01:30:00 & 0.0 & 0.0 \\\\\n",
       "\t8 & 2019-01-01T01:45:00 & 0.0 & 0.0 \\\\\n",
       "\t9 & 2019-01-01T02:00:00 & 0.0 & 0.0 \\\\\n",
       "\t10 & 2019-01-01T02:15:00 & 0.0 & 0.0 \\\\\n",
       "\t11 & 2019-01-01T02:30:00 & 0.0 & 0.0 \\\\\n",
       "\t12 & 2019-01-01T02:45:00 & 0.0 & 0.0 \\\\\n",
       "\t13 & 2019-01-01T03:00:00 & 0.0 & 0.0 \\\\\n",
       "\t14 & 2019-01-01T03:15:00 & 0.0 & 0.0 \\\\\n",
       "\t15 & 2019-01-01T03:30:00 & 0.0 & 0.0 \\\\\n",
       "\t16 & 2019-01-01T03:45:00 & 0.0 & 0.0 \\\\\n",
       "\t17 & 2019-01-01T04:00:00 & 0.0 & 0.0 \\\\\n",
       "\t18 & 2019-01-01T04:15:00 & 0.0 & 0.0 \\\\\n",
       "\t19 & 2019-01-01T04:30:00 & 0.0 & 0.0 \\\\\n",
       "\t20 & 2019-01-01T04:45:00 & 0.0 & 0.0 \\\\\n",
       "\t21 & 2019-01-01T05:00:00 & 0.0 & 0.0 \\\\\n",
       "\t22 & 2019-01-01T05:15:00 & 0.0 & 0.0 \\\\\n",
       "\t23 & 2019-01-01T05:30:00 & 0.0 & 0.0 \\\\\n",
       "\t24 & 2019-01-01T05:45:00 & 0.0 & 0.0 \\\\\n",
       "\t25 & 2019-01-01T06:00:00 & 0.0 & 0.0 \\\\\n",
       "\t26 & 2019-01-01T06:15:00 & 0.0 & 0.0 \\\\\n",
       "\t27 & 2019-01-01T06:30:00 & 0.0 & 0.0 \\\\\n",
       "\t28 & 2019-01-01T06:45:00 & 0.0 & 0.0 \\\\\n",
       "\t29 & 2019-01-01T07:00:00 & 0.0 & 0.0 \\\\\n",
       "\t30 & 2019-01-01T07:15:00 & 0.0 & 0.0 \\\\\n",
       "\t$\\dots$ & $\\dots$ & $\\dots$ & $\\dots$ \\\\\n",
       "\\end{tabular}\n"
      ],
      "text/plain": [
       "\u001b[1m35041×3 DataFrame\u001b[0m\n",
       "\u001b[1m   Row \u001b[0m│\u001b[1m time                \u001b[0m\u001b[1m ghi     \u001b[0m\u001b[1m ghiCS   \u001b[0m\n",
       "\u001b[1m       \u001b[0m│\u001b[90m DateTime            \u001b[0m\u001b[90m Float64 \u001b[0m\u001b[90m Float64 \u001b[0m\n",
       "───────┼───────────────────────────────────────\n",
       "     1 │ 2019-01-01T00:00:00      0.0      0.0\n",
       "     2 │ 2019-01-01T00:15:00      0.0      0.0\n",
       "     3 │ 2019-01-01T00:30:00      0.0      0.0\n",
       "     4 │ 2019-01-01T00:45:00      0.0      0.0\n",
       "     5 │ 2019-01-01T01:00:00      0.0      0.0\n",
       "     6 │ 2019-01-01T01:15:00      0.0      0.0\n",
       "     7 │ 2019-01-01T01:30:00      0.0      0.0\n",
       "     8 │ 2019-01-01T01:45:00      0.0      0.0\n",
       "     9 │ 2019-01-01T02:00:00      0.0      0.0\n",
       "    10 │ 2019-01-01T02:15:00      0.0      0.0\n",
       "    11 │ 2019-01-01T02:30:00      0.0      0.0\n",
       "   ⋮   │          ⋮              ⋮        ⋮\n",
       " 35032 │ 2019-12-31T21:45:00      0.0      0.0\n",
       " 35033 │ 2019-12-31T22:00:00      0.0      0.0\n",
       " 35034 │ 2019-12-31T22:15:00      0.0      0.0\n",
       " 35035 │ 2019-12-31T22:30:00      0.0      0.0\n",
       " 35036 │ 2019-12-31T22:45:00      0.0      0.0\n",
       " 35037 │ 2019-12-31T23:00:00      0.0      0.0\n",
       " 35038 │ 2019-12-31T23:15:00      0.0      0.0\n",
       " 35039 │ 2019-12-31T23:30:00      0.0      0.0\n",
       " 35040 │ 2019-12-31T23:45:00      0.0      0.0\n",
       " 35041 │ 2020-01-01T00:00:00      0.0      0.0\n",
       "\u001b[36m                             35020 rows omitted\u001b[0m"
      ]
     },
     "execution_count": 49,
     "metadata": {},
     "output_type": "execute_result"
    }
   ],
   "source": [
    "df1_test = df1[523008:end, :]"
   ]
  },
  {
   "cell_type": "code",
   "execution_count": 50,
   "id": "d3098baa-7c1b-40a6-80c1-e75995af218d",
   "metadata": {
    "execution": {
     "iopub.execute_input": "2021-08-18T17:29:40.358000+02:00",
     "iopub.status.busy": "2021-08-18T17:29:40.358000+02:00",
     "iopub.status.idle": "2021-08-18T17:29:41.509000+02:00",
     "shell.execute_reply": "2021-08-18T17:29:41.509000+02:00"
    },
    "scrolled": true,
    "tags": []
   },
   "outputs": [
    {
     "data": {
      "text/plain": [
       "calCMF (generic function with 1 method)"
      ]
     },
     "execution_count": 50,
     "metadata": {},
     "output_type": "execute_result"
    }
   ],
   "source": [
    "function calCMF(df1)\n",
    "    df2 = filter(:ghi => g -> (!iszero(g) & !isnan(g)), df1)\n",
    "    df2.cmf = df2.ghi ./ df2.ghiCS\n",
    "    return df2\n",
    "end"
   ]
  },
  {
   "cell_type": "code",
   "execution_count": 51,
   "id": "113f4de7-0cfb-4d9d-bc97-0d7f38390fd1",
   "metadata": {
    "execution": {
     "iopub.execute_input": "2021-08-18T17:29:52.285000+02:00",
     "iopub.status.busy": "2021-08-18T17:29:52.285000+02:00",
     "iopub.status.idle": "2021-08-18T17:29:52.494000+02:00",
     "shell.execute_reply": "2021-08-18T17:29:52.494000+02:00"
    },
    "scrolled": true,
    "tags": []
   },
   "outputs": [
    {
     "data": {
      "text/html": [
       "<table class=\"data-frame\"><thead><tr><th></th><th>time</th><th>ghi</th><th>ghiCS</th><th>cmf</th></tr><tr><th></th><th>DateTime</th><th>Float64</th><th>Float64</th><th>Float64</th></tr></thead><tbody><p>17,979 rows × 4 columns</p><tr><th>1</th><td>2019-01-01T07:30:00</td><td>0.0437946</td><td>0.0984829</td><td>0.444692</td></tr><tr><th>2</th><td>2019-01-01T07:45:00</td><td>1.11554</td><td>2.5635</td><td>0.435162</td></tr><tr><th>3</th><td>2019-01-01T08:00:00</td><td>1.95644</td><td>7.26123</td><td>0.269437</td></tr><tr><th>4</th><td>2019-01-01T08:15:00</td><td>2.19264</td><td>12.8464</td><td>0.170682</td></tr><tr><th>5</th><td>2019-01-01T08:30:00</td><td>2.67955</td><td>18.7448</td><td>0.142949</td></tr><tr><th>6</th><td>2019-01-01T08:45:00</td><td>3.72535</td><td>24.6236</td><td>0.151292</td></tr><tr><th>7</th><td>2019-01-01T09:00:00</td><td>7.27156</td><td>30.2799</td><td>0.240145</td></tr><tr><th>8</th><td>2019-01-01T09:15:00</td><td>8.06943</td><td>35.4893</td><td>0.227377</td></tr><tr><th>9</th><td>2019-01-01T09:30:00</td><td>7.34271</td><td>40.1676</td><td>0.182802</td></tr><tr><th>10</th><td>2019-01-01T09:45:00</td><td>8.05224</td><td>44.348</td><td>0.18157</td></tr><tr><th>11</th><td>2019-01-01T10:00:00</td><td>8.64267</td><td>47.994</td><td>0.180078</td></tr><tr><th>12</th><td>2019-01-01T10:15:00</td><td>9.09165</td><td>51.0505</td><td>0.178091</td></tr><tr><th>13</th><td>2019-01-01T10:30:00</td><td>9.87164</td><td>53.4788</td><td>0.18459</td></tr><tr><th>14</th><td>2019-01-01T10:45:00</td><td>15.4354</td><td>55.2526</td><td>0.279361</td></tr><tr><th>15</th><td>2019-01-01T11:00:00</td><td>15.3847</td><td>56.3516</td><td>0.273013</td></tr><tr><th>16</th><td>2019-01-01T11:15:00</td><td>17.6442</td><td>56.7613</td><td>0.310849</td></tr><tr><th>17</th><td>2019-01-01T11:30:00</td><td>20.5195</td><td>56.4763</td><td>0.363329</td></tr><tr><th>18</th><td>2019-01-01T11:45:00</td><td>21.2327</td><td>55.5265</td><td>0.382388</td></tr><tr><th>19</th><td>2019-01-01T12:00:00</td><td>21.0946</td><td>53.8911</td><td>0.391431</td></tr><tr><th>20</th><td>2019-01-01T12:15:00</td><td>25.3345</td><td>51.5402</td><td>0.491548</td></tr><tr><th>21</th><td>2019-01-01T12:30:00</td><td>27.2669</td><td>48.4854</td><td>0.562373</td></tr><tr><th>22</th><td>2019-01-01T12:45:00</td><td>31.5523</td><td>44.8102</td><td>0.704132</td></tr><tr><th>23</th><td>2019-01-01T13:00:00</td><td>32.0851</td><td>40.5597</td><td>0.791058</td></tr><tr><th>24</th><td>2019-01-01T13:15:00</td><td>22.9063</td><td>35.7959</td><td>0.639915</td></tr><tr><th>25</th><td>2019-01-01T13:30:00</td><td>13.4843</td><td>30.6031</td><td>0.440617</td></tr><tr><th>26</th><td>2019-01-01T13:45:00</td><td>9.72382</td><td>25.0972</td><td>0.387446</td></tr><tr><th>27</th><td>2019-01-01T14:00:00</td><td>8.84153</td><td>19.4376</td><td>0.454868</td></tr><tr><th>28</th><td>2019-01-01T14:15:00</td><td>11.4346</td><td>13.8422</td><td>0.826072</td></tr><tr><th>29</th><td>2019-01-01T14:30:00</td><td>8.60423</td><td>8.60423</td><td>1.0</td></tr><tr><th>30</th><td>2019-01-01T14:45:00</td><td>4.1086</td><td>4.1086</td><td>1.0</td></tr><tr><th>&vellip;</th><td>&vellip;</td><td>&vellip;</td><td>&vellip;</td><td>&vellip;</td></tr></tbody></table>"
      ],
      "text/latex": [
       "\\begin{tabular}{r|cccc}\n",
       "\t& time & ghi & ghiCS & cmf\\\\\n",
       "\t\\hline\n",
       "\t& DateTime & Float64 & Float64 & Float64\\\\\n",
       "\t\\hline\n",
       "\t1 & 2019-01-01T07:30:00 & 0.0437946 & 0.0984829 & 0.444692 \\\\\n",
       "\t2 & 2019-01-01T07:45:00 & 1.11554 & 2.5635 & 0.435162 \\\\\n",
       "\t3 & 2019-01-01T08:00:00 & 1.95644 & 7.26123 & 0.269437 \\\\\n",
       "\t4 & 2019-01-01T08:15:00 & 2.19264 & 12.8464 & 0.170682 \\\\\n",
       "\t5 & 2019-01-01T08:30:00 & 2.67955 & 18.7448 & 0.142949 \\\\\n",
       "\t6 & 2019-01-01T08:45:00 & 3.72535 & 24.6236 & 0.151292 \\\\\n",
       "\t7 & 2019-01-01T09:00:00 & 7.27156 & 30.2799 & 0.240145 \\\\\n",
       "\t8 & 2019-01-01T09:15:00 & 8.06943 & 35.4893 & 0.227377 \\\\\n",
       "\t9 & 2019-01-01T09:30:00 & 7.34271 & 40.1676 & 0.182802 \\\\\n",
       "\t10 & 2019-01-01T09:45:00 & 8.05224 & 44.348 & 0.18157 \\\\\n",
       "\t11 & 2019-01-01T10:00:00 & 8.64267 & 47.994 & 0.180078 \\\\\n",
       "\t12 & 2019-01-01T10:15:00 & 9.09165 & 51.0505 & 0.178091 \\\\\n",
       "\t13 & 2019-01-01T10:30:00 & 9.87164 & 53.4788 & 0.18459 \\\\\n",
       "\t14 & 2019-01-01T10:45:00 & 15.4354 & 55.2526 & 0.279361 \\\\\n",
       "\t15 & 2019-01-01T11:00:00 & 15.3847 & 56.3516 & 0.273013 \\\\\n",
       "\t16 & 2019-01-01T11:15:00 & 17.6442 & 56.7613 & 0.310849 \\\\\n",
       "\t17 & 2019-01-01T11:30:00 & 20.5195 & 56.4763 & 0.363329 \\\\\n",
       "\t18 & 2019-01-01T11:45:00 & 21.2327 & 55.5265 & 0.382388 \\\\\n",
       "\t19 & 2019-01-01T12:00:00 & 21.0946 & 53.8911 & 0.391431 \\\\\n",
       "\t20 & 2019-01-01T12:15:00 & 25.3345 & 51.5402 & 0.491548 \\\\\n",
       "\t21 & 2019-01-01T12:30:00 & 27.2669 & 48.4854 & 0.562373 \\\\\n",
       "\t22 & 2019-01-01T12:45:00 & 31.5523 & 44.8102 & 0.704132 \\\\\n",
       "\t23 & 2019-01-01T13:00:00 & 32.0851 & 40.5597 & 0.791058 \\\\\n",
       "\t24 & 2019-01-01T13:15:00 & 22.9063 & 35.7959 & 0.639915 \\\\\n",
       "\t25 & 2019-01-01T13:30:00 & 13.4843 & 30.6031 & 0.440617 \\\\\n",
       "\t26 & 2019-01-01T13:45:00 & 9.72382 & 25.0972 & 0.387446 \\\\\n",
       "\t27 & 2019-01-01T14:00:00 & 8.84153 & 19.4376 & 0.454868 \\\\\n",
       "\t28 & 2019-01-01T14:15:00 & 11.4346 & 13.8422 & 0.826072 \\\\\n",
       "\t29 & 2019-01-01T14:30:00 & 8.60423 & 8.60423 & 1.0 \\\\\n",
       "\t30 & 2019-01-01T14:45:00 & 4.1086 & 4.1086 & 1.0 \\\\\n",
       "\t$\\dots$ & $\\dots$ & $\\dots$ & $\\dots$ & $\\dots$ \\\\\n",
       "\\end{tabular}\n"
      ],
      "text/plain": [
       "\u001b[1m17979×4 DataFrame\u001b[0m\n",
       "\u001b[1m   Row \u001b[0m│\u001b[1m time                \u001b[0m\u001b[1m ghi        \u001b[0m\u001b[1m ghiCS      \u001b[0m\u001b[1m cmf      \u001b[0m\n",
       "\u001b[1m       \u001b[0m│\u001b[90m DateTime            \u001b[0m\u001b[90m Float64    \u001b[0m\u001b[90m Float64    \u001b[0m\u001b[90m Float64  \u001b[0m\n",
       "───────┼───────────────────────────────────────────────────────\n",
       "     1 │ 2019-01-01T07:30:00   0.0437946   0.0984829  0.444692\n",
       "     2 │ 2019-01-01T07:45:00   1.11554     2.5635     0.435162\n",
       "     3 │ 2019-01-01T08:00:00   1.95644     7.26123    0.269437\n",
       "     4 │ 2019-01-01T08:15:00   2.19264    12.8464     0.170682\n",
       "     5 │ 2019-01-01T08:30:00   2.67955    18.7448     0.142949\n",
       "     6 │ 2019-01-01T08:45:00   3.72535    24.6236     0.151292\n",
       "     7 │ 2019-01-01T09:00:00   7.27156    30.2799     0.240145\n",
       "     8 │ 2019-01-01T09:15:00   8.06943    35.4893     0.227377\n",
       "     9 │ 2019-01-01T09:30:00   7.34271    40.1676     0.182802\n",
       "    10 │ 2019-01-01T09:45:00   8.05224    44.348      0.18157\n",
       "    11 │ 2019-01-01T10:00:00   8.64267    47.994      0.180078\n",
       "   ⋮   │          ⋮               ⋮           ⋮          ⋮\n",
       " 17970 │ 2019-12-31T12:45:00  16.2905     46.3818     0.351226\n",
       " 17971 │ 2019-12-31T13:00:00  15.3952     42.1271     0.365446\n",
       " 17972 │ 2019-12-31T13:15:00  16.1721     37.3361     0.433149\n",
       " 17973 │ 2019-12-31T13:30:00  16.2092     32.0782     0.505302\n",
       " 17974 │ 2019-12-31T13:45:00  15.6477     26.4489     0.591621\n",
       " 17975 │ 2019-12-31T14:00:00  13.442      20.5831     0.65306\n",
       " 17976 │ 2019-12-31T14:15:00  10.5106     14.6785     0.716053\n",
       " 17977 │ 2019-12-31T14:30:00   6.44924     9.03278    0.713982\n",
       " 17978 │ 2019-12-31T14:45:00   3.42109     4.11305    0.831763\n",
       " 17979 │ 2019-12-31T15:00:00   0.644611    0.702981   0.916968\n",
       "\u001b[36m                                             17958 rows omitted\u001b[0m"
      ]
     },
     "execution_count": 51,
     "metadata": {},
     "output_type": "execute_result"
    }
   ],
   "source": [
    "df_test = calCMF(df1_test)"
   ]
  },
  {
   "cell_type": "code",
   "execution_count": null,
   "id": "11c7b6f5-6892-4ed1-8c33-4c103a1701ac",
   "metadata": {},
   "outputs": [],
   "source": []
  },
  {
   "cell_type": "code",
   "execution_count": null,
   "id": "331330af-901e-4c5a-a99c-a03480700beb",
   "metadata": {},
   "outputs": [],
   "source": []
  },
  {
   "cell_type": "code",
   "execution_count": null,
   "id": "2f1cf5fd-12f9-4745-97ed-99326b2677c9",
   "metadata": {
    "tags": []
   },
   "outputs": [],
   "source": [
    "ghis = [:ghi_a, :ghiCS_a, :ghi_b, :ghiCS_b];"
   ]
  },
  {
   "cell_type": "code",
   "execution_count": null,
   "id": "e001c9fb-2a7e-4636-b5ca-0c380f96b783",
   "metadata": {
    "tags": []
   },
   "outputs": [],
   "source": [
    "ghiVarNames = repeat([\"GHI\", \"CLEAR_SKY_GHI\"], 2)"
   ]
  },
  {
   "cell_type": "code",
   "execution_count": null,
   "id": "5ec143b9-31c0-4894-aa46-a40b3ae8dc35",
   "metadata": {
    "tags": []
   },
   "outputs": [],
   "source": [
    "fnams = repeat([fn_athens, fn_berlin], inner=2)"
   ]
  },
  {
   "cell_type": "code",
   "execution_count": null,
   "id": "0a968074-387a-45ef-b223-50a13e41b770",
   "metadata": {
    "tags": []
   },
   "outputs": [],
   "source": [
    "for i in 1:length(ghis)\n",
    "#     println(ghis[i], \" \", ghiVarNames[i], \" \", fnams[i])\n",
    "    ghis[i] = getNCvar(fnams[i], ghiVarNames[i])\n",
    "end"
   ]
  },
  {
   "cell_type": "code",
   "execution_count": null,
   "id": "a5996cec-621e-4a2e-b9ab-4354b8017d3c",
   "metadata": {
    "slideshow": {
     "slide_type": "slide"
    },
    "tags": []
   },
   "outputs": [],
   "source": [
    "ghi_a = dropdims(ncread(fn_athens, \"GHI\"); dims=(1,2,3))"
   ]
  },
  {
   "cell_type": "code",
   "execution_count": null,
   "id": "5c8b48fc-7739-415d-a6e4-e3bd4d5f0469",
   "metadata": {
    "slideshow": {
     "slide_type": "slide"
    },
    "tags": []
   },
   "outputs": [],
   "source": [
    "ghiCS_a = dropdims(ncread(fn_athens, \"CLEAR_SKY_GHI\"); dims=(1,2,3));"
   ]
  },
  {
   "cell_type": "code",
   "execution_count": null,
   "id": "f10f95fb-18c8-4290-8b2a-958bed4c6716",
   "metadata": {
    "tags": []
   },
   "outputs": [],
   "source": [
    "cmf_a = ghi_a ./ ghiCS_a"
   ]
  },
  {
   "cell_type": "code",
   "execution_count": 10,
   "id": "653c00a5-53d1-47fc-a594-e857250487d1",
   "metadata": {
    "execution": {
     "iopub.execute_input": "2021-05-28T08:42:09.569000+02:00",
     "iopub.status.busy": "2021-05-28T08:42:09.569000+02:00",
     "iopub.status.idle": "2021-05-28T08:42:17.569000+02:00",
     "shell.execute_reply": "2021-05-28T08:42:17.569000+02:00"
    },
    "scrolled": true,
    "tags": []
   },
   "outputs": [
    {
     "data": {
      "text/html": [
       "<table class=\"data-frame\"><thead><tr><th></th><th>year</th><th>month</th><th>day</th></tr><tr><th></th><th>Int16</th><th>Int8</th><th>Int8</th></tr></thead><tbody><p>558,048 rows × 3 columns</p><tr><th>1</th><td>2004</td><td>2</td><td>1</td></tr><tr><th>2</th><td>2004</td><td>2</td><td>1</td></tr><tr><th>3</th><td>2004</td><td>2</td><td>1</td></tr><tr><th>4</th><td>2004</td><td>2</td><td>1</td></tr><tr><th>5</th><td>2004</td><td>2</td><td>1</td></tr><tr><th>6</th><td>2004</td><td>2</td><td>1</td></tr><tr><th>7</th><td>2004</td><td>2</td><td>1</td></tr><tr><th>8</th><td>2004</td><td>2</td><td>1</td></tr><tr><th>9</th><td>2004</td><td>2</td><td>1</td></tr><tr><th>10</th><td>2004</td><td>2</td><td>1</td></tr><tr><th>11</th><td>2004</td><td>2</td><td>1</td></tr><tr><th>12</th><td>2004</td><td>2</td><td>1</td></tr><tr><th>13</th><td>2004</td><td>2</td><td>1</td></tr><tr><th>14</th><td>2004</td><td>2</td><td>1</td></tr><tr><th>15</th><td>2004</td><td>2</td><td>1</td></tr><tr><th>16</th><td>2004</td><td>2</td><td>1</td></tr><tr><th>17</th><td>2004</td><td>2</td><td>1</td></tr><tr><th>18</th><td>2004</td><td>2</td><td>1</td></tr><tr><th>19</th><td>2004</td><td>2</td><td>1</td></tr><tr><th>20</th><td>2004</td><td>2</td><td>1</td></tr><tr><th>21</th><td>2004</td><td>2</td><td>1</td></tr><tr><th>22</th><td>2004</td><td>2</td><td>1</td></tr><tr><th>23</th><td>2004</td><td>2</td><td>1</td></tr><tr><th>24</th><td>2004</td><td>2</td><td>1</td></tr><tr><th>25</th><td>2004</td><td>2</td><td>1</td></tr><tr><th>26</th><td>2004</td><td>2</td><td>1</td></tr><tr><th>27</th><td>2004</td><td>2</td><td>1</td></tr><tr><th>28</th><td>2004</td><td>2</td><td>1</td></tr><tr><th>29</th><td>2004</td><td>2</td><td>1</td></tr><tr><th>30</th><td>2004</td><td>2</td><td>1</td></tr><tr><th>&vellip;</th><td>&vellip;</td><td>&vellip;</td><td>&vellip;</td></tr></tbody></table>"
      ],
      "text/latex": [
       "\\begin{tabular}{r|ccc}\n",
       "\t& year & month & day\\\\\n",
       "\t\\hline\n",
       "\t& Int16 & Int8 & Int8\\\\\n",
       "\t\\hline\n",
       "\t1 & 2004 & 2 & 1 \\\\\n",
       "\t2 & 2004 & 2 & 1 \\\\\n",
       "\t3 & 2004 & 2 & 1 \\\\\n",
       "\t4 & 2004 & 2 & 1 \\\\\n",
       "\t5 & 2004 & 2 & 1 \\\\\n",
       "\t6 & 2004 & 2 & 1 \\\\\n",
       "\t7 & 2004 & 2 & 1 \\\\\n",
       "\t8 & 2004 & 2 & 1 \\\\\n",
       "\t9 & 2004 & 2 & 1 \\\\\n",
       "\t10 & 2004 & 2 & 1 \\\\\n",
       "\t11 & 2004 & 2 & 1 \\\\\n",
       "\t12 & 2004 & 2 & 1 \\\\\n",
       "\t13 & 2004 & 2 & 1 \\\\\n",
       "\t14 & 2004 & 2 & 1 \\\\\n",
       "\t15 & 2004 & 2 & 1 \\\\\n",
       "\t16 & 2004 & 2 & 1 \\\\\n",
       "\t17 & 2004 & 2 & 1 \\\\\n",
       "\t18 & 2004 & 2 & 1 \\\\\n",
       "\t19 & 2004 & 2 & 1 \\\\\n",
       "\t20 & 2004 & 2 & 1 \\\\\n",
       "\t21 & 2004 & 2 & 1 \\\\\n",
       "\t22 & 2004 & 2 & 1 \\\\\n",
       "\t23 & 2004 & 2 & 1 \\\\\n",
       "\t24 & 2004 & 2 & 1 \\\\\n",
       "\t25 & 2004 & 2 & 1 \\\\\n",
       "\t26 & 2004 & 2 & 1 \\\\\n",
       "\t27 & 2004 & 2 & 1 \\\\\n",
       "\t28 & 2004 & 2 & 1 \\\\\n",
       "\t29 & 2004 & 2 & 1 \\\\\n",
       "\t30 & 2004 & 2 & 1 \\\\\n",
       "\t$\\dots$ & $\\dots$ & $\\dots$ & $\\dots$ \\\\\n",
       "\\end{tabular}\n"
      ],
      "text/plain": [
       "\u001b[1m558048×3 DataFrame\u001b[0m\n",
       "\u001b[1m    Row \u001b[0m│\u001b[1m year  \u001b[0m\u001b[1m month \u001b[0m\u001b[1m day  \u001b[0m\n",
       "\u001b[1m        \u001b[0m│\u001b[90m Int16 \u001b[0m\u001b[90m Int8  \u001b[0m\u001b[90m Int8 \u001b[0m\n",
       "────────┼────────────────────\n",
       "      1 │  2004      2     1\n",
       "      2 │  2004      2     1\n",
       "      3 │  2004      2     1\n",
       "      4 │  2004      2     1\n",
       "      5 │  2004      2     1\n",
       "      6 │  2004      2     1\n",
       "      7 │  2004      2     1\n",
       "      8 │  2004      2     1\n",
       "      9 │  2004      2     1\n",
       "     10 │  2004      2     1\n",
       "     11 │  2004      2     1\n",
       "   ⋮    │   ⋮      ⋮     ⋮\n",
       " 558039 │  2019     12    31\n",
       " 558040 │  2019     12    31\n",
       " 558041 │  2019     12    31\n",
       " 558042 │  2019     12    31\n",
       " 558043 │  2019     12    31\n",
       " 558044 │  2019     12    31\n",
       " 558045 │  2019     12    31\n",
       " 558046 │  2019     12    31\n",
       " 558047 │  2019     12    31\n",
       " 558048 │  2020      1     1\n",
       "\u001b[36m          558027 rows omitted\u001b[0m"
      ]
     },
     "execution_count": 10,
     "metadata": {},
     "output_type": "execute_result"
    }
   ],
   "source": [
    "di = OrderedDict(\"year\" => year, \"month\" => month, \"day\" => day) #,\n",
    "df = DataFrame(di)"
   ]
  },
  {
   "cell_type": "code",
   "execution_count": 11,
   "id": "95003b2a-bfe8-4319-9ad6-8e5a39a6b5a4",
   "metadata": {
    "execution": {
     "iopub.execute_input": "2021-05-28T08:43:18.556000+02:00",
     "iopub.status.busy": "2021-05-28T08:43:18.556000+02:00",
     "iopub.status.idle": "2021-05-28T08:43:18.788000+02:00",
     "shell.execute_reply": "2021-05-28T08:43:18.788000+02:00"
    }
   },
   "outputs": [
    {
     "data": {
      "text/html": [
       "<table class=\"data-frame\"><thead><tr><th></th><th>year</th><th>month</th><th>day</th></tr><tr><th></th><th>Int16</th><th>Int8</th><th>Int8</th></tr></thead><tbody><p>11 rows × 3 columns</p><tr><th>1</th><td>2018</td><td>12</td><td>31</td></tr><tr><th>2</th><td>2018</td><td>12</td><td>31</td></tr><tr><th>3</th><td>2018</td><td>12</td><td>31</td></tr><tr><th>4</th><td>2018</td><td>12</td><td>31</td></tr><tr><th>5</th><td>2018</td><td>12</td><td>31</td></tr><tr><th>6</th><td>2018</td><td>12</td><td>31</td></tr><tr><th>7</th><td>2019</td><td>1</td><td>1</td></tr><tr><th>8</th><td>2019</td><td>1</td><td>1</td></tr><tr><th>9</th><td>2019</td><td>1</td><td>1</td></tr><tr><th>10</th><td>2019</td><td>1</td><td>1</td></tr><tr><th>11</th><td>2019</td><td>1</td><td>1</td></tr></tbody></table>"
      ],
      "text/latex": [
       "\\begin{tabular}{r|ccc}\n",
       "\t& year & month & day\\\\\n",
       "\t\\hline\n",
       "\t& Int16 & Int8 & Int8\\\\\n",
       "\t\\hline\n",
       "\t1 & 2018 & 12 & 31 \\\\\n",
       "\t2 & 2018 & 12 & 31 \\\\\n",
       "\t3 & 2018 & 12 & 31 \\\\\n",
       "\t4 & 2018 & 12 & 31 \\\\\n",
       "\t5 & 2018 & 12 & 31 \\\\\n",
       "\t6 & 2018 & 12 & 31 \\\\\n",
       "\t7 & 2019 & 1 & 1 \\\\\n",
       "\t8 & 2019 & 1 & 1 \\\\\n",
       "\t9 & 2019 & 1 & 1 \\\\\n",
       "\t10 & 2019 & 1 & 1 \\\\\n",
       "\t11 & 2019 & 1 & 1 \\\\\n",
       "\\end{tabular}\n"
      ],
      "text/plain": [
       "\u001b[1m11×3 DataFrame\u001b[0m\n",
       "\u001b[1m Row \u001b[0m│\u001b[1m year  \u001b[0m\u001b[1m month \u001b[0m\u001b[1m day  \u001b[0m\n",
       "\u001b[1m     \u001b[0m│\u001b[90m Int16 \u001b[0m\u001b[90m Int8  \u001b[0m\u001b[90m Int8 \u001b[0m\n",
       "─────┼────────────────────\n",
       "   1 │  2018     12    31\n",
       "   2 │  2018     12    31\n",
       "   3 │  2018     12    31\n",
       "   4 │  2018     12    31\n",
       "   5 │  2018     12    31\n",
       "   6 │  2018     12    31\n",
       "   7 │  2019      1     1\n",
       "   8 │  2019      1     1\n",
       "   9 │  2019      1     1\n",
       "  10 │  2019      1     1\n",
       "  11 │  2019      1     1"
      ]
     },
     "execution_count": 11,
     "metadata": {},
     "output_type": "execute_result"
    }
   ],
   "source": [
    "df[523007-5:523007+5,:]"
   ]
  },
  {
   "cell_type": "code",
   "execution_count": null,
   "id": "27118165-931a-455f-9bf3-e9953d7e252e",
   "metadata": {
    "tags": []
   },
   "outputs": [],
   "source": [
    "          \"GHI_a\" => ghi_a, \"GHI_CS_a\" => ghiCS_a, \n",
    "          \"GHI_b\" => ghi_b, \"GHI_CS_b\" => ghiCS_b);"
   ]
  },
  {
   "cell_type": "code",
   "execution_count": null,
   "id": "a61be753-6164-41e4-9736-251b9af8ec24",
   "metadata": {
    "tags": []
   },
   "outputs": [],
   "source": [
    "df = DataFrame(di);\n",
    "\n",
    "df[!, :CMF_a] = ghi_a ./ ghiCS_a\n",
    "df[!, :CMF_b] = ghi_b ./ ghiCS_b;"
   ]
  },
  {
   "cell_type": "code",
   "execution_count": null,
   "id": "4be94806-f1f0-4411-a235-6293bc9eee28",
   "metadata": {},
   "outputs": [],
   "source": []
  },
  {
   "cell_type": "code",
   "execution_count": null,
   "id": "f07eacaa-0b1f-4b83-9b86-9bbf97e090d8",
   "metadata": {},
   "outputs": [],
   "source": []
  },
  {
   "cell_type": "code",
   "execution_count": 4,
   "id": "0d7f4eaf-305c-44b0-beba-918e4b69e0c4",
   "metadata": {
    "execution": {
     "iopub.execute_input": "2021-05-26T09:06:11.423000+02:00",
     "iopub.status.busy": "2021-05-26T09:06:11.423000+02:00",
     "iopub.status.idle": "2021-05-26T09:06:13.595000+02:00",
     "shell.execute_reply": "2021-05-26T09:06:13.594000+02:00"
    },
    "tags": []
   },
   "outputs": [],
   "source": [
    "ghi_b = dropdims(ncread(fn_berlin, \"GHI\"); dims=(1,2,3))\n",
    "ghiCS_b = dropdims(ncread(fn_berlin, \"CLEAR_SKY_GHI\"); dims=(1,2,3));"
   ]
  },
  {
   "cell_type": "code",
   "execution_count": 5,
   "id": "69b25a3b-8ad5-48f1-bdf1-3a38bc0595c3",
   "metadata": {
    "execution": {
     "iopub.execute_input": "2021-05-26T09:06:13.595000+02:00",
     "iopub.status.busy": "2021-05-26T09:06:13.595000+02:00",
     "iopub.status.idle": "2021-05-26T09:06:13.721000+02:00",
     "shell.execute_reply": "2021-05-26T09:06:13.721000+02:00"
    },
    "tags": []
   },
   "outputs": [],
   "source": [
    "cmf_b = ghi_b ./ ghiCS_b\n",
    "\n",
    "cmf_b_train = cmf_b[1:523007]\n",
    "cmf_b_test = cmf_b[523008:end];"
   ]
  },
  {
   "cell_type": "code",
   "execution_count": 24,
   "id": "899e075a-9b8b-44cc-8528-3972dd0a9222",
   "metadata": {
    "execution": {
     "iopub.execute_input": "2021-05-26T09:18:05.848000+02:00",
     "iopub.status.busy": "2021-05-26T09:18:05.848000+02:00",
     "iopub.status.idle": "2021-05-26T09:18:05.900000+02:00",
     "shell.execute_reply": "2021-05-26T09:18:05.900000+02:00"
    },
    "tags": []
   },
   "outputs": [
    {
     "data": {
      "image/svg+xml": [
       "<?xml version=\"1.0\" encoding=\"utf-8\"?>\n",
       "<svg xmlns=\"http://www.w3.org/2000/svg\" xmlns:xlink=\"http://www.w3.org/1999/xlink\" width=\"600\" height=\"400\" viewBox=\"0 0 2400 1600\">\n",
       "<defs>\n",
       "  <clipPath id=\"clip520\">\n",
       "    <rect x=\"0\" y=\"0\" width=\"2400\" height=\"1600\"/>\n",
       "  </clipPath>\n",
       "</defs>\n",
       "<path clip-path=\"url(#clip520)\" d=\"\n",
       "M0 1600 L2400 1600 L2400 0 L0 0  Z\n",
       "  \" fill=\"#ffffff\" fill-rule=\"evenodd\" fill-opacity=\"1\"/>\n",
       "<defs>\n",
       "  <clipPath id=\"clip521\">\n",
       "    <rect x=\"480\" y=\"0\" width=\"1681\" height=\"1600\"/>\n",
       "  </clipPath>\n",
       "</defs>\n",
       "<path clip-path=\"url(#clip520)\" d=\"\n",
       "M202.177 1486.45 L2352.76 1486.45 L2352.76 123.472 L202.177 123.472  Z\n",
       "  \" fill=\"#ffffff\" fill-rule=\"evenodd\" fill-opacity=\"1\"/>\n",
       "<defs>\n",
       "  <clipPath id=\"clip522\">\n",
       "    <rect x=\"202\" y=\"123\" width=\"2152\" height=\"1364\"/>\n",
       "  </clipPath>\n",
       "</defs>\n",
       "<polyline clip-path=\"url(#clip522)\" style=\"stroke:#000000; stroke-width:2; stroke-opacity:0.1; fill:none\" points=\"\n",
       "  202.177,1486.45 202.177,123.472 \n",
       "  \"/>\n",
       "<polyline clip-path=\"url(#clip522)\" style=\"stroke:#000000; stroke-width:2; stroke-opacity:0.1; fill:none\" points=\"\n",
       "  632.293,1486.45 632.293,123.472 \n",
       "  \"/>\n",
       "<polyline clip-path=\"url(#clip522)\" style=\"stroke:#000000; stroke-width:2; stroke-opacity:0.1; fill:none\" points=\"\n",
       "  1062.41,1486.45 1062.41,123.472 \n",
       "  \"/>\n",
       "<polyline clip-path=\"url(#clip522)\" style=\"stroke:#000000; stroke-width:2; stroke-opacity:0.1; fill:none\" points=\"\n",
       "  1492.52,1486.45 1492.52,123.472 \n",
       "  \"/>\n",
       "<polyline clip-path=\"url(#clip522)\" style=\"stroke:#000000; stroke-width:2; stroke-opacity:0.1; fill:none\" points=\"\n",
       "  1922.64,1486.45 1922.64,123.472 \n",
       "  \"/>\n",
       "<polyline clip-path=\"url(#clip522)\" style=\"stroke:#000000; stroke-width:2; stroke-opacity:0.1; fill:none\" points=\"\n",
       "  2352.76,1486.45 2352.76,123.472 \n",
       "  \"/>\n",
       "<polyline clip-path=\"url(#clip520)\" style=\"stroke:#000000; stroke-width:4; stroke-opacity:1; fill:none\" points=\"\n",
       "  202.177,1486.45 2352.76,1486.45 \n",
       "  \"/>\n",
       "<polyline clip-path=\"url(#clip520)\" style=\"stroke:#000000; stroke-width:4; stroke-opacity:1; fill:none\" points=\"\n",
       "  202.177,1486.45 202.177,1470.09 \n",
       "  \"/>\n",
       "<polyline clip-path=\"url(#clip520)\" style=\"stroke:#000000; stroke-width:4; stroke-opacity:1; fill:none\" points=\"\n",
       "  632.293,1486.45 632.293,1470.09 \n",
       "  \"/>\n",
       "<polyline clip-path=\"url(#clip520)\" style=\"stroke:#000000; stroke-width:4; stroke-opacity:1; fill:none\" points=\"\n",
       "  1062.41,1486.45 1062.41,1470.09 \n",
       "  \"/>\n",
       "<polyline clip-path=\"url(#clip520)\" style=\"stroke:#000000; stroke-width:4; stroke-opacity:1; fill:none\" points=\"\n",
       "  1492.52,1486.45 1492.52,1470.09 \n",
       "  \"/>\n",
       "<polyline clip-path=\"url(#clip520)\" style=\"stroke:#000000; stroke-width:4; stroke-opacity:1; fill:none\" points=\"\n",
       "  1922.64,1486.45 1922.64,1470.09 \n",
       "  \"/>\n",
       "<polyline clip-path=\"url(#clip520)\" style=\"stroke:#000000; stroke-width:4; stroke-opacity:1; fill:none\" points=\"\n",
       "  2352.76,1486.45 2352.76,1470.09 \n",
       "  \"/>\n",
       "<path clip-path=\"url(#clip520)\" d=\"M 0 0 M179.561 1515.64 Q175.95 1515.64 174.121 1519.2 Q172.316 1522.75 172.316 1529.87 Q172.316 1536.98 174.121 1540.55 Q175.95 1544.09 179.561 1544.09 Q183.195 1544.09 185.001 1540.55 Q186.83 1536.98 186.83 1529.87 Q186.83 1522.75 185.001 1519.2 Q183.195 1515.64 179.561 1515.64 M179.561 1511.93 Q185.371 1511.93 188.427 1516.54 Q191.505 1521.12 191.505 1529.87 Q191.505 1538.6 188.427 1543.21 Q185.371 1547.79 179.561 1547.79 Q173.751 1547.79 170.672 1543.21 Q167.617 1538.6 167.617 1529.87 Q167.617 1521.12 170.672 1516.54 Q173.751 1511.93 179.561 1511.93 Z\" fill=\"#000000\" fill-rule=\"evenodd\" fill-opacity=\"1\" /><path clip-path=\"url(#clip520)\" d=\"M 0 0 M199.723 1541.24 L204.607 1541.24 L204.607 1547.12 L199.723 1547.12 L199.723 1541.24 Z\" fill=\"#000000\" fill-rule=\"evenodd\" fill-opacity=\"1\" /><path clip-path=\"url(#clip520)\" d=\"M 0 0 M224.792 1515.64 Q221.181 1515.64 219.353 1519.2 Q217.547 1522.75 217.547 1529.87 Q217.547 1536.98 219.353 1540.55 Q221.181 1544.09 224.792 1544.09 Q228.427 1544.09 230.232 1540.55 Q232.061 1536.98 232.061 1529.87 Q232.061 1522.75 230.232 1519.2 Q228.427 1515.64 224.792 1515.64 M224.792 1511.93 Q230.602 1511.93 233.658 1516.54 Q236.737 1521.12 236.737 1529.87 Q236.737 1538.6 233.658 1543.21 Q230.602 1547.79 224.792 1547.79 Q218.982 1547.79 215.903 1543.21 Q212.848 1538.6 212.848 1529.87 Q212.848 1521.12 215.903 1516.54 Q218.982 1511.93 224.792 1511.93 Z\" fill=\"#000000\" fill-rule=\"evenodd\" fill-opacity=\"1\" /><path clip-path=\"url(#clip520)\" d=\"M 0 0 M610.476 1515.64 Q606.864 1515.64 605.036 1519.2 Q603.23 1522.75 603.23 1529.87 Q603.23 1536.98 605.036 1540.55 Q606.864 1544.09 610.476 1544.09 Q614.11 1544.09 615.915 1540.55 Q617.744 1536.98 617.744 1529.87 Q617.744 1522.75 615.915 1519.2 Q614.11 1515.64 610.476 1515.64 M610.476 1511.93 Q616.286 1511.93 619.341 1516.54 Q622.42 1521.12 622.42 1529.87 Q622.42 1538.6 619.341 1543.21 Q616.286 1547.79 610.476 1547.79 Q604.665 1547.79 601.587 1543.21 Q598.531 1538.6 598.531 1529.87 Q598.531 1521.12 601.587 1516.54 Q604.665 1511.93 610.476 1511.93 Z\" fill=\"#000000\" fill-rule=\"evenodd\" fill-opacity=\"1\" /><path clip-path=\"url(#clip520)\" d=\"M 0 0 M630.637 1541.24 L635.522 1541.24 L635.522 1547.12 L630.637 1547.12 L630.637 1541.24 Z\" fill=\"#000000\" fill-rule=\"evenodd\" fill-opacity=\"1\" /><path clip-path=\"url(#clip520)\" d=\"M 0 0 M649.735 1543.18 L666.054 1543.18 L666.054 1547.12 L644.11 1547.12 L644.11 1543.18 Q646.772 1540.43 651.355 1535.8 Q655.961 1531.15 657.142 1529.81 Q659.387 1527.28 660.267 1525.55 Q661.17 1523.79 661.17 1522.1 Q661.17 1519.34 659.225 1517.61 Q657.304 1515.87 654.202 1515.87 Q652.003 1515.87 649.549 1516.63 Q647.119 1517.4 644.341 1518.95 L644.341 1514.23 Q647.165 1513.09 649.619 1512.51 Q652.073 1511.93 654.11 1511.93 Q659.48 1511.93 662.674 1514.62 Q665.869 1517.31 665.869 1521.8 Q665.869 1523.93 665.059 1525.85 Q664.272 1527.74 662.165 1530.34 Q661.586 1531.01 658.485 1534.23 Q655.383 1537.42 649.735 1543.18 Z\" fill=\"#000000\" fill-rule=\"evenodd\" fill-opacity=\"1\" /><path clip-path=\"url(#clip520)\" d=\"M 0 0 M1039.55 1515.64 Q1035.94 1515.64 1034.11 1519.2 Q1032.3 1522.75 1032.3 1529.87 Q1032.3 1536.98 1034.11 1540.55 Q1035.94 1544.09 1039.55 1544.09 Q1043.18 1544.09 1044.99 1540.55 Q1046.82 1536.98 1046.82 1529.87 Q1046.82 1522.75 1044.99 1519.2 Q1043.18 1515.64 1039.55 1515.64 M1039.55 1511.93 Q1045.36 1511.93 1048.42 1516.54 Q1051.49 1521.12 1051.49 1529.87 Q1051.49 1538.6 1048.42 1543.21 Q1045.36 1547.79 1039.55 1547.79 Q1033.74 1547.79 1030.66 1543.21 Q1027.61 1538.6 1027.61 1529.87 Q1027.61 1521.12 1030.66 1516.54 Q1033.74 1511.93 1039.55 1511.93 Z\" fill=\"#000000\" fill-rule=\"evenodd\" fill-opacity=\"1\" /><path clip-path=\"url(#clip520)\" d=\"M 0 0 M1059.71 1541.24 L1064.6 1541.24 L1064.6 1547.12 L1059.71 1547.12 L1059.71 1541.24 Z\" fill=\"#000000\" fill-rule=\"evenodd\" fill-opacity=\"1\" /><path clip-path=\"url(#clip520)\" d=\"M 0 0 M1087.63 1516.63 L1075.82 1535.08 L1087.63 1535.08 L1087.63 1516.63 M1086.4 1512.56 L1092.28 1512.56 L1092.28 1535.08 L1097.21 1535.08 L1097.21 1538.97 L1092.28 1538.97 L1092.28 1547.12 L1087.63 1547.12 L1087.63 1538.97 L1072.03 1538.97 L1072.03 1534.46 L1086.4 1512.56 Z\" fill=\"#000000\" fill-rule=\"evenodd\" fill-opacity=\"1\" /><path clip-path=\"url(#clip520)\" d=\"M 0 0 M1469.83 1515.64 Q1466.22 1515.64 1464.39 1519.2 Q1462.58 1522.75 1462.58 1529.87 Q1462.58 1536.98 1464.39 1540.55 Q1466.22 1544.09 1469.83 1544.09 Q1473.46 1544.09 1475.27 1540.55 Q1477.1 1536.98 1477.1 1529.87 Q1477.1 1522.75 1475.27 1519.2 Q1473.46 1515.64 1469.83 1515.64 M1469.83 1511.93 Q1475.64 1511.93 1478.69 1516.54 Q1481.77 1521.12 1481.77 1529.87 Q1481.77 1538.6 1478.69 1543.21 Q1475.64 1547.79 1469.83 1547.79 Q1464.02 1547.79 1460.94 1543.21 Q1457.88 1538.6 1457.88 1529.87 Q1457.88 1521.12 1460.94 1516.54 Q1464.02 1511.93 1469.83 1511.93 Z\" fill=\"#000000\" fill-rule=\"evenodd\" fill-opacity=\"1\" /><path clip-path=\"url(#clip520)\" d=\"M 0 0 M1489.99 1541.24 L1494.87 1541.24 L1494.87 1547.12 L1489.99 1547.12 L1489.99 1541.24 Z\" fill=\"#000000\" fill-rule=\"evenodd\" fill-opacity=\"1\" /><path clip-path=\"url(#clip520)\" d=\"M 0 0 M1515.64 1527.98 Q1512.49 1527.98 1510.64 1530.13 Q1508.81 1532.28 1508.81 1536.03 Q1508.81 1539.76 1510.64 1541.93 Q1512.49 1544.09 1515.64 1544.09 Q1518.79 1544.09 1520.61 1541.93 Q1522.47 1539.76 1522.47 1536.03 Q1522.47 1532.28 1520.61 1530.13 Q1518.79 1527.98 1515.64 1527.98 M1524.92 1513.32 L1524.92 1517.58 Q1523.16 1516.75 1521.36 1516.31 Q1519.57 1515.87 1517.81 1515.87 Q1513.18 1515.87 1510.73 1519 Q1508.3 1522.12 1507.95 1528.44 Q1509.32 1526.43 1511.38 1525.36 Q1513.44 1524.27 1515.92 1524.27 Q1521.12 1524.27 1524.13 1527.44 Q1527.17 1530.59 1527.17 1536.03 Q1527.17 1541.36 1524.02 1544.57 Q1520.87 1547.79 1515.64 1547.79 Q1509.64 1547.79 1506.47 1543.21 Q1503.3 1538.6 1503.3 1529.87 Q1503.3 1521.68 1507.19 1516.82 Q1511.08 1511.93 1517.63 1511.93 Q1519.39 1511.93 1521.17 1512.28 Q1522.98 1512.63 1524.92 1513.32 Z\" fill=\"#000000\" fill-rule=\"evenodd\" fill-opacity=\"1\" /><path clip-path=\"url(#clip520)\" d=\"M 0 0 M1900.07 1515.64 Q1896.46 1515.64 1894.63 1519.2 Q1892.83 1522.75 1892.83 1529.87 Q1892.83 1536.98 1894.63 1540.55 Q1896.46 1544.09 1900.07 1544.09 Q1903.7 1544.09 1905.51 1540.55 Q1907.34 1536.98 1907.34 1529.87 Q1907.34 1522.75 1905.51 1519.2 Q1903.7 1515.64 1900.07 1515.64 M1900.07 1511.93 Q1905.88 1511.93 1908.94 1516.54 Q1912.02 1521.12 1912.02 1529.87 Q1912.02 1538.6 1908.94 1543.21 Q1905.88 1547.79 1900.07 1547.79 Q1894.26 1547.79 1891.18 1543.21 Q1888.13 1538.6 1888.13 1529.87 Q1888.13 1521.12 1891.18 1516.54 Q1894.26 1511.93 1900.07 1511.93 Z\" fill=\"#000000\" fill-rule=\"evenodd\" fill-opacity=\"1\" /><path clip-path=\"url(#clip520)\" d=\"M 0 0 M1920.23 1541.24 L1925.12 1541.24 L1925.12 1547.12 L1920.23 1547.12 L1920.23 1541.24 Z\" fill=\"#000000\" fill-rule=\"evenodd\" fill-opacity=\"1\" /><path clip-path=\"url(#clip520)\" d=\"M 0 0 M1945.3 1530.71 Q1941.97 1530.71 1940.05 1532.49 Q1938.15 1534.27 1938.15 1537.4 Q1938.15 1540.52 1940.05 1542.31 Q1941.97 1544.09 1945.3 1544.09 Q1948.64 1544.09 1950.56 1542.31 Q1952.48 1540.5 1952.48 1537.4 Q1952.48 1534.27 1950.56 1532.49 Q1948.66 1530.71 1945.3 1530.71 M1940.63 1528.72 Q1937.62 1527.98 1935.93 1525.92 Q1934.26 1523.86 1934.26 1520.89 Q1934.26 1516.75 1937.2 1514.34 Q1940.16 1511.93 1945.3 1511.93 Q1950.46 1511.93 1953.4 1514.34 Q1956.34 1516.75 1956.34 1520.89 Q1956.34 1523.86 1954.65 1525.92 Q1952.99 1527.98 1950 1528.72 Q1953.38 1529.5 1955.26 1531.8 Q1957.15 1534.09 1957.15 1537.4 Q1957.15 1542.42 1954.08 1545.11 Q1951.02 1547.79 1945.3 1547.79 Q1939.58 1547.79 1936.51 1545.11 Q1933.45 1542.42 1933.45 1537.4 Q1933.45 1534.09 1935.35 1531.8 Q1937.25 1529.5 1940.63 1528.72 M1938.91 1521.33 Q1938.91 1524.02 1940.58 1525.52 Q1942.27 1527.03 1945.3 1527.03 Q1948.31 1527.03 1950 1525.52 Q1951.71 1524.02 1951.71 1521.33 Q1951.71 1518.65 1950 1517.14 Q1948.31 1515.64 1945.3 1515.64 Q1942.27 1515.64 1940.58 1517.14 Q1938.91 1518.65 1938.91 1521.33 Z\" fill=\"#000000\" fill-rule=\"evenodd\" fill-opacity=\"1\" /><path clip-path=\"url(#clip520)\" d=\"M 0 0 M2319.91 1543.18 L2327.55 1543.18 L2327.55 1516.82 L2319.24 1518.49 L2319.24 1514.23 L2327.5 1512.56 L2332.18 1512.56 L2332.18 1543.18 L2339.82 1543.18 L2339.82 1547.12 L2319.91 1547.12 L2319.91 1543.18 Z\" fill=\"#000000\" fill-rule=\"evenodd\" fill-opacity=\"1\" /><path clip-path=\"url(#clip520)\" d=\"M 0 0 M2349.26 1541.24 L2354.14 1541.24 L2354.14 1547.12 L2349.26 1547.12 L2349.26 1541.24 Z\" fill=\"#000000\" fill-rule=\"evenodd\" fill-opacity=\"1\" /><path clip-path=\"url(#clip520)\" d=\"M 0 0 M2374.33 1515.64 Q2370.72 1515.64 2368.89 1519.2 Q2367.08 1522.75 2367.08 1529.87 Q2367.08 1536.98 2368.89 1540.55 Q2370.72 1544.09 2374.33 1544.09 Q2377.96 1544.09 2379.77 1540.55 Q2381.6 1536.98 2381.6 1529.87 Q2381.6 1522.75 2379.77 1519.2 Q2377.96 1515.64 2374.33 1515.64 M2374.33 1511.93 Q2380.14 1511.93 2383.2 1516.54 Q2386.27 1521.12 2386.27 1529.87 Q2386.27 1538.6 2383.2 1543.21 Q2380.14 1547.79 2374.33 1547.79 Q2368.52 1547.79 2365.44 1543.21 Q2362.39 1538.6 2362.39 1529.87 Q2362.39 1521.12 2365.44 1516.54 Q2368.52 1511.93 2374.33 1511.93 Z\" fill=\"#000000\" fill-rule=\"evenodd\" fill-opacity=\"1\" /><polyline clip-path=\"url(#clip522)\" style=\"stroke:#000000; stroke-width:2; stroke-opacity:0.1; fill:none\" points=\"\n",
       "  202.177,1447.87 2352.76,1447.87 \n",
       "  \"/>\n",
       "<polyline clip-path=\"url(#clip522)\" style=\"stroke:#000000; stroke-width:2; stroke-opacity:0.1; fill:none\" points=\"\n",
       "  202.177,1159.6 2352.76,1159.6 \n",
       "  \"/>\n",
       "<polyline clip-path=\"url(#clip522)\" style=\"stroke:#000000; stroke-width:2; stroke-opacity:0.1; fill:none\" points=\"\n",
       "  202.177,871.334 2352.76,871.334 \n",
       "  \"/>\n",
       "<polyline clip-path=\"url(#clip522)\" style=\"stroke:#000000; stroke-width:2; stroke-opacity:0.1; fill:none\" points=\"\n",
       "  202.177,583.065 2352.76,583.065 \n",
       "  \"/>\n",
       "<polyline clip-path=\"url(#clip522)\" style=\"stroke:#000000; stroke-width:2; stroke-opacity:0.1; fill:none\" points=\"\n",
       "  202.177,294.795 2352.76,294.795 \n",
       "  \"/>\n",
       "<polyline clip-path=\"url(#clip520)\" style=\"stroke:#000000; stroke-width:4; stroke-opacity:1; fill:none\" points=\"\n",
       "  202.177,1486.45 202.177,123.472 \n",
       "  \"/>\n",
       "<polyline clip-path=\"url(#clip520)\" style=\"stroke:#000000; stroke-width:4; stroke-opacity:1; fill:none\" points=\"\n",
       "  202.177,1447.87 227.984,1447.87 \n",
       "  \"/>\n",
       "<polyline clip-path=\"url(#clip520)\" style=\"stroke:#000000; stroke-width:4; stroke-opacity:1; fill:none\" points=\"\n",
       "  202.177,1159.6 227.984,1159.6 \n",
       "  \"/>\n",
       "<polyline clip-path=\"url(#clip520)\" style=\"stroke:#000000; stroke-width:4; stroke-opacity:1; fill:none\" points=\"\n",
       "  202.177,871.334 227.984,871.334 \n",
       "  \"/>\n",
       "<polyline clip-path=\"url(#clip520)\" style=\"stroke:#000000; stroke-width:4; stroke-opacity:1; fill:none\" points=\"\n",
       "  202.177,583.065 227.984,583.065 \n",
       "  \"/>\n",
       "<polyline clip-path=\"url(#clip520)\" style=\"stroke:#000000; stroke-width:4; stroke-opacity:1; fill:none\" points=\"\n",
       "  202.177,294.795 227.984,294.795 \n",
       "  \"/>\n",
       "<path clip-path=\"url(#clip520)\" d=\"M 0 0 M154.232 1433.67 Q150.621 1433.67 148.793 1437.24 Q146.987 1440.78 146.987 1447.91 Q146.987 1455.01 148.793 1458.58 Q150.621 1462.12 154.232 1462.12 Q157.867 1462.12 159.672 1458.58 Q161.501 1455.01 161.501 1447.91 Q161.501 1440.78 159.672 1437.24 Q157.867 1433.67 154.232 1433.67 M154.232 1429.97 Q160.042 1429.97 163.098 1434.57 Q166.177 1439.16 166.177 1447.91 Q166.177 1456.63 163.098 1461.24 Q160.042 1465.82 154.232 1465.82 Q148.422 1465.82 145.343 1461.24 Q142.288 1456.63 142.288 1447.91 Q142.288 1439.16 145.343 1434.57 Q148.422 1429.97 154.232 1429.97 Z\" fill=\"#000000\" fill-rule=\"evenodd\" fill-opacity=\"1\" /><path clip-path=\"url(#clip520)\" d=\"M 0 0 M57.7745 1172.95 L74.0939 1172.95 L74.0939 1176.88 L52.1495 1176.88 L52.1495 1172.95 Q54.8115 1170.19 59.3949 1165.56 Q64.0013 1160.91 65.1819 1159.57 Q67.4272 1157.05 68.3068 1155.31 Q69.2096 1153.55 69.2096 1151.86 Q69.2096 1149.11 67.2652 1147.37 Q65.3439 1145.63 62.2421 1145.63 Q60.043 1145.63 57.5893 1146.4 Q55.1588 1147.16 52.381 1148.71 L52.381 1143.99 Q55.2051 1142.86 57.6588 1142.28 Q60.1124 1141.7 62.1495 1141.7 Q67.5198 1141.7 70.7142 1144.38 Q73.9087 1147.07 73.9087 1151.56 Q73.9087 1153.69 73.0985 1155.61 Q72.3115 1157.51 70.205 1160.1 Q69.6263 1160.77 66.5245 1163.99 Q63.4226 1167.18 57.7745 1172.95 Z\" fill=\"#000000\" fill-rule=\"evenodd\" fill-opacity=\"1\" /><path clip-path=\"url(#clip520)\" d=\"M 0 0 M93.9086 1145.4 Q90.2975 1145.4 88.4688 1148.97 Q86.6632 1152.51 86.6632 1159.64 Q86.6632 1166.74 88.4688 1170.31 Q90.2975 1173.85 93.9086 1173.85 Q97.5428 1173.85 99.3483 1170.31 Q101.177 1166.74 101.177 1159.64 Q101.177 1152.51 99.3483 1148.97 Q97.5428 1145.4 93.9086 1145.4 M93.9086 1141.7 Q99.7187 1141.7 102.774 1146.31 Q105.853 1150.89 105.853 1159.64 Q105.853 1168.37 102.774 1172.97 Q99.7187 1177.55 93.9086 1177.55 Q88.0984 1177.55 85.0197 1172.97 Q81.9642 1168.37 81.9642 1159.64 Q81.9642 1150.89 85.0197 1146.31 Q88.0984 1141.7 93.9086 1141.7 Z\" fill=\"#000000\" fill-rule=\"evenodd\" fill-opacity=\"1\" /><path clip-path=\"url(#clip520)\" d=\"M 0 0 M124.07 1145.4 Q120.459 1145.4 118.631 1148.97 Q116.825 1152.51 116.825 1159.64 Q116.825 1166.74 118.631 1170.31 Q120.459 1173.85 124.07 1173.85 Q127.705 1173.85 129.51 1170.31 Q131.339 1166.74 131.339 1159.64 Q131.339 1152.51 129.51 1148.97 Q127.705 1145.4 124.07 1145.4 M124.07 1141.7 Q129.881 1141.7 132.936 1146.31 Q136.015 1150.89 136.015 1159.64 Q136.015 1168.37 132.936 1172.97 Q129.881 1177.55 124.07 1177.55 Q118.26 1177.55 115.182 1172.97 Q112.126 1168.37 112.126 1159.64 Q112.126 1150.89 115.182 1146.31 Q118.26 1141.7 124.07 1141.7 Z\" fill=\"#000000\" fill-rule=\"evenodd\" fill-opacity=\"1\" /><path clip-path=\"url(#clip520)\" d=\"M 0 0 M154.232 1145.4 Q150.621 1145.4 148.793 1148.97 Q146.987 1152.51 146.987 1159.64 Q146.987 1166.74 148.793 1170.31 Q150.621 1173.85 154.232 1173.85 Q157.867 1173.85 159.672 1170.31 Q161.501 1166.74 161.501 1159.64 Q161.501 1152.51 159.672 1148.97 Q157.867 1145.4 154.232 1145.4 M154.232 1141.7 Q160.042 1141.7 163.098 1146.31 Q166.177 1150.89 166.177 1159.64 Q166.177 1168.37 163.098 1172.97 Q160.042 1177.55 154.232 1177.55 Q148.422 1177.55 145.343 1172.97 Q142.288 1168.37 142.288 1159.64 Q142.288 1150.89 145.343 1146.31 Q148.422 1141.7 154.232 1141.7 Z\" fill=\"#000000\" fill-rule=\"evenodd\" fill-opacity=\"1\" /><path clip-path=\"url(#clip520)\" d=\"M 0 0 M66.5939 858.128 L54.7884 876.577 L66.5939 876.577 L66.5939 858.128 M65.367 854.054 L71.2466 854.054 L71.2466 876.577 L76.1772 876.577 L76.1772 880.466 L71.2466 880.466 L71.2466 888.614 L66.5939 888.614 L66.5939 880.466 L50.9921 880.466 L50.9921 875.952 L65.367 854.054 Z\" fill=\"#000000\" fill-rule=\"evenodd\" fill-opacity=\"1\" /><path clip-path=\"url(#clip520)\" d=\"M 0 0 M93.9086 857.133 Q90.2975 857.133 88.4688 860.698 Q86.6632 864.239 86.6632 871.369 Q86.6632 878.475 88.4688 882.04 Q90.2975 885.582 93.9086 885.582 Q97.5428 885.582 99.3483 882.04 Q101.177 878.475 101.177 871.369 Q101.177 864.239 99.3483 860.698 Q97.5428 857.133 93.9086 857.133 M93.9086 853.429 Q99.7187 853.429 102.774 858.036 Q105.853 862.619 105.853 871.369 Q105.853 880.096 102.774 884.702 Q99.7187 889.285 93.9086 889.285 Q88.0984 889.285 85.0197 884.702 Q81.9642 880.096 81.9642 871.369 Q81.9642 862.619 85.0197 858.036 Q88.0984 853.429 93.9086 853.429 Z\" fill=\"#000000\" fill-rule=\"evenodd\" fill-opacity=\"1\" /><path clip-path=\"url(#clip520)\" d=\"M 0 0 M124.07 857.133 Q120.459 857.133 118.631 860.698 Q116.825 864.239 116.825 871.369 Q116.825 878.475 118.631 882.04 Q120.459 885.582 124.07 885.582 Q127.705 885.582 129.51 882.04 Q131.339 878.475 131.339 871.369 Q131.339 864.239 129.51 860.698 Q127.705 857.133 124.07 857.133 M124.07 853.429 Q129.881 853.429 132.936 858.036 Q136.015 862.619 136.015 871.369 Q136.015 880.096 132.936 884.702 Q129.881 889.285 124.07 889.285 Q118.26 889.285 115.182 884.702 Q112.126 880.096 112.126 871.369 Q112.126 862.619 115.182 858.036 Q118.26 853.429 124.07 853.429 Z\" fill=\"#000000\" fill-rule=\"evenodd\" fill-opacity=\"1\" /><path clip-path=\"url(#clip520)\" d=\"M 0 0 M154.232 857.133 Q150.621 857.133 148.793 860.698 Q146.987 864.239 146.987 871.369 Q146.987 878.475 148.793 882.04 Q150.621 885.582 154.232 885.582 Q157.867 885.582 159.672 882.04 Q161.501 878.475 161.501 871.369 Q161.501 864.239 159.672 860.698 Q157.867 857.133 154.232 857.133 M154.232 853.429 Q160.042 853.429 163.098 858.036 Q166.177 862.619 166.177 871.369 Q166.177 880.096 163.098 884.702 Q160.042 889.285 154.232 889.285 Q148.422 889.285 145.343 884.702 Q142.288 880.096 142.288 871.369 Q142.288 862.619 145.343 858.036 Q148.422 853.429 154.232 853.429 Z\" fill=\"#000000\" fill-rule=\"evenodd\" fill-opacity=\"1\" /><path clip-path=\"url(#clip520)\" d=\"M 0 0 M64.3254 581.201 Q61.1773 581.201 59.3254 583.354 Q57.4967 585.507 57.4967 589.257 Q57.4967 592.983 59.3254 595.159 Q61.1773 597.312 64.3254 597.312 Q67.4735 597.312 69.3022 595.159 Q71.1541 592.983 71.1541 589.257 Q71.1541 585.507 69.3022 583.354 Q67.4735 581.201 64.3254 581.201 M73.6077 566.548 L73.6077 570.808 Q71.8485 569.974 70.0429 569.535 Q68.2606 569.095 66.5013 569.095 Q61.8717 569.095 59.418 572.22 Q56.9875 575.345 56.6402 581.664 Q58.006 579.65 60.0662 578.585 Q62.1263 577.497 64.6032 577.497 Q69.8115 577.497 72.8207 580.669 Q75.8531 583.817 75.8531 589.257 Q75.8531 594.581 72.705 597.798 Q69.5568 601.016 64.3254 601.016 Q58.33 601.016 55.1588 596.433 Q51.9875 591.826 51.9875 583.099 Q51.9875 574.905 55.8764 570.044 Q59.7652 565.16 66.3161 565.16 Q68.0754 565.16 69.8578 565.507 Q71.6633 565.854 73.6077 566.548 Z\" fill=\"#000000\" fill-rule=\"evenodd\" fill-opacity=\"1\" /><path clip-path=\"url(#clip520)\" d=\"M 0 0 M93.9086 568.863 Q90.2975 568.863 88.4688 572.428 Q86.6632 575.97 86.6632 583.099 Q86.6632 590.206 88.4688 593.771 Q90.2975 597.312 93.9086 597.312 Q97.5428 597.312 99.3483 593.771 Q101.177 590.206 101.177 583.099 Q101.177 575.97 99.3483 572.428 Q97.5428 568.863 93.9086 568.863 M93.9086 565.16 Q99.7187 565.16 102.774 569.766 Q105.853 574.349 105.853 583.099 Q105.853 591.826 102.774 596.433 Q99.7187 601.016 93.9086 601.016 Q88.0984 601.016 85.0197 596.433 Q81.9642 591.826 81.9642 583.099 Q81.9642 574.349 85.0197 569.766 Q88.0984 565.16 93.9086 565.16 Z\" fill=\"#000000\" fill-rule=\"evenodd\" fill-opacity=\"1\" /><path clip-path=\"url(#clip520)\" d=\"M 0 0 M124.07 568.863 Q120.459 568.863 118.631 572.428 Q116.825 575.97 116.825 583.099 Q116.825 590.206 118.631 593.771 Q120.459 597.312 124.07 597.312 Q127.705 597.312 129.51 593.771 Q131.339 590.206 131.339 583.099 Q131.339 575.97 129.51 572.428 Q127.705 568.863 124.07 568.863 M124.07 565.16 Q129.881 565.16 132.936 569.766 Q136.015 574.349 136.015 583.099 Q136.015 591.826 132.936 596.433 Q129.881 601.016 124.07 601.016 Q118.26 601.016 115.182 596.433 Q112.126 591.826 112.126 583.099 Q112.126 574.349 115.182 569.766 Q118.26 565.16 124.07 565.16 Z\" fill=\"#000000\" fill-rule=\"evenodd\" fill-opacity=\"1\" /><path clip-path=\"url(#clip520)\" d=\"M 0 0 M154.232 568.863 Q150.621 568.863 148.793 572.428 Q146.987 575.97 146.987 583.099 Q146.987 590.206 148.793 593.771 Q150.621 597.312 154.232 597.312 Q157.867 597.312 159.672 593.771 Q161.501 590.206 161.501 583.099 Q161.501 575.97 159.672 572.428 Q157.867 568.863 154.232 568.863 M154.232 565.16 Q160.042 565.16 163.098 569.766 Q166.177 574.349 166.177 583.099 Q166.177 591.826 163.098 596.433 Q160.042 601.016 154.232 601.016 Q148.422 601.016 145.343 596.433 Q142.288 591.826 142.288 583.099 Q142.288 574.349 145.343 569.766 Q148.422 565.16 154.232 565.16 Z\" fill=\"#000000\" fill-rule=\"evenodd\" fill-opacity=\"1\" /><path clip-path=\"url(#clip520)\" d=\"M 0 0 M63.7467 295.663 Q60.4134 295.663 58.4921 297.445 Q56.5939 299.228 56.5939 302.353 Q56.5939 305.478 58.4921 307.26 Q60.4134 309.043 63.7467 309.043 Q67.08 309.043 69.0013 307.26 Q70.9226 305.455 70.9226 302.353 Q70.9226 299.228 69.0013 297.445 Q67.1032 295.663 63.7467 295.663 M59.0708 293.672 Q56.0615 292.932 54.3717 290.871 Q52.7051 288.811 52.7051 285.848 Q52.7051 281.705 55.6449 279.297 Q58.6078 276.89 63.7467 276.89 Q68.9087 276.89 71.8485 279.297 Q74.7883 281.705 74.7883 285.848 Q74.7883 288.811 73.0985 290.871 Q71.4318 292.932 68.4457 293.672 Q71.8253 294.459 73.7003 296.751 Q75.5985 299.043 75.5985 302.353 Q75.5985 307.376 72.5198 310.061 Q69.4642 312.746 63.7467 312.746 Q58.0291 312.746 54.9504 310.061 Q51.8949 307.376 51.8949 302.353 Q51.8949 299.043 53.793 296.751 Q55.6912 294.459 59.0708 293.672 M57.3578 286.288 Q57.3578 288.973 59.0245 290.478 Q60.7143 291.983 63.7467 291.983 Q66.7559 291.983 68.4457 290.478 Q70.1587 288.973 70.1587 286.288 Q70.1587 283.603 68.4457 282.098 Q66.7559 280.594 63.7467 280.594 Q60.7143 280.594 59.0245 282.098 Q57.3578 283.603 57.3578 286.288 Z\" fill=\"#000000\" fill-rule=\"evenodd\" fill-opacity=\"1\" /><path clip-path=\"url(#clip520)\" d=\"M 0 0 M93.9086 280.594 Q90.2975 280.594 88.4688 284.159 Q86.6632 287.7 86.6632 294.83 Q86.6632 301.936 88.4688 305.501 Q90.2975 309.043 93.9086 309.043 Q97.5428 309.043 99.3483 305.501 Q101.177 301.936 101.177 294.83 Q101.177 287.7 99.3483 284.159 Q97.5428 280.594 93.9086 280.594 M93.9086 276.89 Q99.7187 276.89 102.774 281.496 Q105.853 286.08 105.853 294.83 Q105.853 303.557 102.774 308.163 Q99.7187 312.746 93.9086 312.746 Q88.0984 312.746 85.0197 308.163 Q81.9642 303.557 81.9642 294.83 Q81.9642 286.08 85.0197 281.496 Q88.0984 276.89 93.9086 276.89 Z\" fill=\"#000000\" fill-rule=\"evenodd\" fill-opacity=\"1\" /><path clip-path=\"url(#clip520)\" d=\"M 0 0 M124.07 280.594 Q120.459 280.594 118.631 284.159 Q116.825 287.7 116.825 294.83 Q116.825 301.936 118.631 305.501 Q120.459 309.043 124.07 309.043 Q127.705 309.043 129.51 305.501 Q131.339 301.936 131.339 294.83 Q131.339 287.7 129.51 284.159 Q127.705 280.594 124.07 280.594 M124.07 276.89 Q129.881 276.89 132.936 281.496 Q136.015 286.08 136.015 294.83 Q136.015 303.557 132.936 308.163 Q129.881 312.746 124.07 312.746 Q118.26 312.746 115.182 308.163 Q112.126 303.557 112.126 294.83 Q112.126 286.08 115.182 281.496 Q118.26 276.89 124.07 276.89 Z\" fill=\"#000000\" fill-rule=\"evenodd\" fill-opacity=\"1\" /><path clip-path=\"url(#clip520)\" d=\"M 0 0 M154.232 280.594 Q150.621 280.594 148.793 284.159 Q146.987 287.7 146.987 294.83 Q146.987 301.936 148.793 305.501 Q150.621 309.043 154.232 309.043 Q157.867 309.043 159.672 305.501 Q161.501 301.936 161.501 294.83 Q161.501 287.7 159.672 284.159 Q157.867 280.594 154.232 280.594 M154.232 276.89 Q160.042 276.89 163.098 281.496 Q166.177 286.08 166.177 294.83 Q166.177 303.557 163.098 308.163 Q160.042 312.746 154.232 312.746 Q148.422 312.746 145.343 308.163 Q142.288 303.557 142.288 294.83 Q142.288 286.08 145.343 281.496 Q148.422 276.89 154.232 276.89 Z\" fill=\"#000000\" fill-rule=\"evenodd\" fill-opacity=\"1\" /><path clip-path=\"url(#clip520)\" d=\"M 0 0 M636.917 43.6931 L636.917 65.8515 L650.042 65.8515 Q656.645 65.8515 659.805 63.1374 Q663.005 60.3828 663.005 54.752 Q663.005 49.0808 659.805 46.4072 Q656.645 43.6931 650.042 43.6931 L636.917 43.6931 M636.917 18.8205 L636.917 37.0496 L649.029 37.0496 Q655.025 37.0496 657.941 34.8216 Q660.898 32.5531 660.898 27.935 Q660.898 23.3575 657.941 21.089 Q655.025 18.8205 649.029 18.8205 L636.917 18.8205 M628.734 12.096 L649.637 12.096 Q658.994 12.096 664.058 15.9849 Q669.122 19.8737 669.122 27.0438 Q669.122 32.5936 666.529 35.8748 Q663.937 39.156 658.913 39.9662 Q664.949 41.2625 668.271 45.3944 Q671.633 49.4858 671.633 55.6432 Q671.633 63.745 666.124 68.1605 Q660.615 72.576 650.447 72.576 L628.734 72.576 L628.734 12.096 Z\" fill=\"#000000\" fill-rule=\"evenodd\" fill-opacity=\"1\" /><path clip-path=\"url(#clip520)\" d=\"M 0 0 M724.133 48.0275 L724.133 51.6733 L689.862 51.6733 Q690.348 59.3701 694.48 63.421 Q698.653 67.4314 706.066 67.4314 Q710.36 67.4314 714.37 66.3781 Q718.421 65.3249 722.391 63.2184 L722.391 70.267 Q718.381 71.9684 714.168 72.8596 Q709.955 73.7508 705.62 73.7508 Q694.764 73.7508 688.404 67.4314 Q682.085 61.1119 682.085 50.3365 Q682.085 39.1965 688.08 32.6746 Q694.116 26.1121 704.324 26.1121 Q713.479 26.1121 718.786 32.0264 Q724.133 37.9003 724.133 48.0275 M716.679 45.84 Q716.598 39.7232 713.236 36.0774 Q709.914 32.4315 704.405 32.4315 Q698.167 32.4315 694.399 35.9558 Q690.673 39.4801 690.105 45.8805 L716.679 45.84 Z\" fill=\"#000000\" fill-rule=\"evenodd\" fill-opacity=\"1\" /><path clip-path=\"url(#clip520)\" d=\"M 0 0 M762.657 34.1734 Q761.401 33.4443 759.903 33.1202 Q758.444 32.7556 756.662 32.7556 Q750.342 32.7556 746.94 36.8875 Q743.577 40.9789 743.577 48.6757 L743.577 72.576 L736.083 72.576 L736.083 27.2059 L743.577 27.2059 L743.577 34.2544 Q745.927 30.1225 749.694 28.1376 Q753.462 26.1121 758.849 26.1121 Q759.619 26.1121 760.551 26.2337 Q761.482 26.3147 762.617 26.5172 L762.657 34.1734 Z\" fill=\"#000000\" fill-rule=\"evenodd\" fill-opacity=\"1\" /><path clip-path=\"url(#clip520)\" d=\"M 0 0 M770.475 9.54393 L777.929 9.54393 L777.929 72.576 L770.475 72.576 L770.475 9.54393 Z\" fill=\"#000000\" fill-rule=\"evenodd\" fill-opacity=\"1\" /><path clip-path=\"url(#clip520)\" d=\"M 0 0 M793.525 27.2059 L800.979 27.2059 L800.979 72.576 L793.525 72.576 L793.525 27.2059 M793.525 9.54393 L800.979 9.54393 L800.979 18.9825 L793.525 18.9825 L793.525 9.54393 Z\" fill=\"#000000\" fill-rule=\"evenodd\" fill-opacity=\"1\" /><path clip-path=\"url(#clip520)\" d=\"M 0 0 M854.289 45.1919 L854.289 72.576 L846.835 72.576 L846.835 45.4349 Q846.835 38.994 844.323 35.7938 Q841.812 32.5936 836.789 32.5936 Q830.753 32.5936 827.269 36.4419 Q823.785 40.2903 823.785 46.9338 L823.785 72.576 L816.291 72.576 L816.291 27.2059 L823.785 27.2059 L823.785 34.2544 Q826.459 30.163 830.064 28.1376 Q833.71 26.1121 838.45 26.1121 Q846.268 26.1121 850.278 30.9732 Q854.289 35.7938 854.289 45.1919 Z\" fill=\"#000000\" fill-rule=\"evenodd\" fill-opacity=\"1\" /><path clip-path=\"url(#clip520)\" d=\"M 0 0 M903.629 86.3491 L903.629 92.1419 L860.527 92.1419 L860.527 86.3491 L903.629 86.3491 Z\" fill=\"#000000\" fill-rule=\"evenodd\" fill-opacity=\"1\" /><path clip-path=\"url(#clip520)\" d=\"M 0 0 M918.009 14.324 L918.009 27.2059 L933.362 27.2059 L933.362 32.9987 L918.009 32.9987 L918.009 57.6282 Q918.009 63.1779 919.508 64.7578 Q921.047 66.3376 925.706 66.3376 L933.362 66.3376 L933.362 72.576 L925.706 72.576 Q917.078 72.576 913.796 69.3758 Q910.515 66.1351 910.515 57.6282 L910.515 32.9987 L905.046 32.9987 L905.046 27.2059 L910.515 27.2059 L910.515 14.324 L918.009 14.324 Z\" fill=\"#000000\" fill-rule=\"evenodd\" fill-opacity=\"1\" /><path clip-path=\"url(#clip520)\" d=\"M 0 0 M969.456 34.1734 Q968.2 33.4443 966.701 33.1202 Q965.243 32.7556 963.46 32.7556 Q957.141 32.7556 953.738 36.8875 Q950.376 40.9789 950.376 48.6757 L950.376 72.576 L942.882 72.576 L942.882 27.2059 L950.376 27.2059 L950.376 34.2544 Q952.726 30.1225 956.493 28.1376 Q960.26 26.1121 965.648 26.1121 Q966.418 26.1121 967.349 26.2337 Q968.281 26.3147 969.415 26.5172 L969.456 34.1734 Z\" fill=\"#000000\" fill-rule=\"evenodd\" fill-opacity=\"1\" /><path clip-path=\"url(#clip520)\" d=\"M 0 0 M997.893 49.7694 Q988.86 49.7694 985.376 51.8354 Q981.892 53.9013 981.892 58.8839 Q981.892 62.8538 984.485 65.2034 Q987.118 67.5124 991.614 67.5124 Q997.812 67.5124 1001.54 63.1374 Q1005.31 58.7219 1005.31 51.4303 L1005.31 49.7694 L997.893 49.7694 M1012.76 46.6907 L1012.76 72.576 L1005.31 72.576 L1005.31 65.6895 Q1002.75 69.8214 998.946 71.8063 Q995.139 73.7508 989.629 73.7508 Q982.662 73.7508 978.53 69.8619 Q974.438 65.9325 974.438 59.3701 Q974.438 51.7138 979.543 47.825 Q984.687 43.9361 994.855 43.9361 L1005.31 43.9361 L1005.31 43.2069 Q1005.31 38.0623 1001.9 35.2672 Q998.541 32.4315 992.424 32.4315 Q988.536 32.4315 984.849 33.3632 Q981.163 34.295 977.76 36.1584 L977.76 29.2718 Q981.852 27.692 985.7 26.9223 Q989.548 26.1121 993.194 26.1121 Q1003.04 26.1121 1007.9 31.2163 Q1012.76 36.3204 1012.76 46.6907 Z\" fill=\"#000000\" fill-rule=\"evenodd\" fill-opacity=\"1\" /><path clip-path=\"url(#clip520)\" d=\"M 0 0 M1028.11 27.2059 L1035.57 27.2059 L1035.57 72.576 L1028.11 72.576 L1028.11 27.2059 M1028.11 9.54393 L1035.57 9.54393 L1035.57 18.9825 L1028.11 18.9825 L1028.11 9.54393 Z\" fill=\"#000000\" fill-rule=\"evenodd\" fill-opacity=\"1\" /><path clip-path=\"url(#clip520)\" d=\"M 0 0 M1088.88 45.1919 L1088.88 72.576 L1081.42 72.576 L1081.42 45.4349 Q1081.42 38.994 1078.91 35.7938 Q1076.4 32.5936 1071.38 32.5936 Q1065.34 32.5936 1061.86 36.4419 Q1058.37 40.2903 1058.37 46.9338 L1058.37 72.576 L1050.88 72.576 L1050.88 27.2059 L1058.37 27.2059 L1058.37 34.2544 Q1061.05 30.163 1064.65 28.1376 Q1068.3 26.1121 1073.04 26.1121 Q1080.86 26.1121 1084.87 30.9732 Q1088.88 35.7938 1088.88 45.1919 Z\" fill=\"#000000\" fill-rule=\"evenodd\" fill-opacity=\"1\" /><path clip-path=\"url(#clip520)\" d=\"M 0 0 M1148.02 9.62495 Q1142.59 18.942 1139.96 28.0566 Q1137.33 37.1711 1137.33 46.5287 Q1137.33 55.8863 1139.96 65.0818 Q1142.63 74.2369 1148.02 83.5134 L1141.54 83.5134 Q1135.46 73.9938 1132.42 64.7983 Q1129.43 55.6027 1129.43 46.5287 Q1129.43 37.4952 1132.42 28.3401 Q1135.42 19.1851 1141.54 9.62495 L1148.02 9.62495 Z\" fill=\"#000000\" fill-rule=\"evenodd\" fill-opacity=\"1\" /><path clip-path=\"url(#clip520)\" d=\"M 0 0 M1170.58 65.6895 L1199.14 65.6895 L1199.14 72.576 L1160.74 72.576 L1160.74 65.6895 Q1165.4 60.8689 1173.42 52.7671 Q1181.48 44.6248 1183.55 42.2752 Q1187.48 37.8598 1189.01 34.8216 Q1190.59 31.7429 1190.59 28.7857 Q1190.59 23.9651 1187.19 20.927 Q1183.83 17.8888 1178.4 17.8888 Q1174.55 17.8888 1170.26 19.2256 Q1166.01 20.5624 1161.14 23.2765 L1161.14 15.0127 Q1166.09 13.0277 1170.38 12.015 Q1174.67 11.0023 1178.24 11.0023 Q1187.64 11.0023 1193.23 15.7013 Q1198.82 20.4004 1198.82 28.2591 Q1198.82 31.9859 1197.4 35.3482 Q1196.02 38.6699 1192.34 43.2069 Q1191.32 44.3817 1185.9 50.0125 Q1180.47 55.6027 1170.58 65.6895 Z\" fill=\"#000000\" fill-rule=\"evenodd\" fill-opacity=\"1\" /><path clip-path=\"url(#clip520)\" d=\"M 0 0 M1233.82 17.4837 Q1227.5 17.4837 1224.3 23.7221 Q1221.14 29.92 1221.14 42.3968 Q1221.14 54.833 1224.3 61.0714 Q1227.5 67.2693 1233.82 67.2693 Q1240.18 67.2693 1243.34 61.0714 Q1246.54 54.833 1246.54 42.3968 Q1246.54 29.92 1243.34 23.7221 Q1240.18 17.4837 1233.82 17.4837 M1233.82 11.0023 Q1243.99 11.0023 1249.33 19.0636 Q1254.72 27.0843 1254.72 42.3968 Q1254.72 57.6687 1249.33 65.73 Q1243.99 73.7508 1233.82 73.7508 Q1223.65 73.7508 1218.26 65.73 Q1212.92 57.6687 1212.92 42.3968 Q1212.92 27.0843 1218.26 19.0636 Q1223.65 11.0023 1233.82 11.0023 Z\" fill=\"#000000\" fill-rule=\"evenodd\" fill-opacity=\"1\" /><path clip-path=\"url(#clip520)\" d=\"M 0 0 M1286.6 17.4837 Q1280.28 17.4837 1277.08 23.7221 Q1273.92 29.92 1273.92 42.3968 Q1273.92 54.833 1277.08 61.0714 Q1280.28 67.2693 1286.6 67.2693 Q1292.96 67.2693 1296.12 61.0714 Q1299.32 54.833 1299.32 42.3968 Q1299.32 29.92 1296.12 23.7221 Q1292.96 17.4837 1286.6 17.4837 M1286.6 11.0023 Q1296.77 11.0023 1302.12 19.0636 Q1307.5 27.0843 1307.5 42.3968 Q1307.5 57.6687 1302.12 65.73 Q1296.77 73.7508 1286.6 73.7508 Q1276.43 73.7508 1271.05 65.73 Q1265.7 57.6687 1265.7 42.3968 Q1265.7 27.0843 1271.05 19.0636 Q1276.43 11.0023 1286.6 11.0023 Z\" fill=\"#000000\" fill-rule=\"evenodd\" fill-opacity=\"1\" /><path clip-path=\"url(#clip520)\" d=\"M 0 0 M1344.37 19.2256 L1323.71 51.5113 L1344.37 51.5113 L1344.37 19.2256 M1342.22 12.096 L1352.51 12.096 L1352.51 51.5113 L1361.14 51.5113 L1361.14 58.3168 L1352.51 58.3168 L1352.51 72.576 L1344.37 72.576 L1344.37 58.3168 L1317.06 58.3168 L1317.06 50.4176 L1342.22 12.096 Z\" fill=\"#000000\" fill-rule=\"evenodd\" fill-opacity=\"1\" /><path clip-path=\"url(#clip520)\" d=\"M 0 0 M1408.09 86.3491 L1408.09 92.1419 L1364.99 92.1419 L1364.99 86.3491 L1408.09 86.3491 Z\" fill=\"#000000\" fill-rule=\"evenodd\" fill-opacity=\"1\" /><path clip-path=\"url(#clip520)\" d=\"M 0 0 M1433.65 17.4837 Q1427.33 17.4837 1424.13 23.7221 Q1420.97 29.92 1420.97 42.3968 Q1420.97 54.833 1424.13 61.0714 Q1427.33 67.2693 1433.65 67.2693 Q1440.01 67.2693 1443.17 61.0714 Q1446.37 54.833 1446.37 42.3968 Q1446.37 29.92 1443.17 23.7221 Q1440.01 17.4837 1433.65 17.4837 M1433.65 11.0023 Q1443.82 11.0023 1449.16 19.0636 Q1454.55 27.0843 1454.55 42.3968 Q1454.55 57.6687 1449.16 65.73 Q1443.82 73.7508 1433.65 73.7508 Q1423.48 73.7508 1418.09 65.73 Q1412.75 57.6687 1412.75 42.3968 Q1412.75 27.0843 1418.09 19.0636 Q1423.48 11.0023 1433.65 11.0023 Z\" fill=\"#000000\" fill-rule=\"evenodd\" fill-opacity=\"1\" /><path clip-path=\"url(#clip520)\" d=\"M 0 0 M1475.98 65.6895 L1504.54 65.6895 L1504.54 72.576 L1466.14 72.576 L1466.14 65.6895 Q1470.8 60.8689 1478.82 52.7671 Q1486.88 44.6248 1488.94 42.2752 Q1492.87 37.8598 1494.41 34.8216 Q1495.99 31.7429 1495.99 28.7857 Q1495.99 23.9651 1492.59 20.927 Q1489.23 17.8888 1483.8 17.8888 Q1479.95 17.8888 1475.66 19.2256 Q1471.4 20.5624 1466.54 23.2765 L1466.54 15.0127 Q1471.48 13.0277 1475.78 12.015 Q1480.07 11.0023 1483.64 11.0023 Q1493.04 11.0023 1498.63 15.7013 Q1504.22 20.4004 1504.22 28.2591 Q1504.22 31.9859 1502.8 35.3482 Q1501.42 38.6699 1497.73 43.2069 Q1496.72 44.3817 1491.29 50.0125 Q1485.87 55.6027 1475.98 65.6895 Z\" fill=\"#000000\" fill-rule=\"evenodd\" fill-opacity=\"1\" /><path clip-path=\"url(#clip520)\" d=\"M 0 0 M1516.89 46.5287 L1538.73 46.5287 L1538.73 53.1722 L1516.89 53.1722 L1516.89 46.5287 Z\" fill=\"#000000\" fill-rule=\"evenodd\" fill-opacity=\"1\" /><path clip-path=\"url(#clip520)\" d=\"M 0 0 M1558.7 65.6895 L1587.26 65.6895 L1587.26 72.576 L1548.86 72.576 L1548.86 65.6895 Q1553.52 60.8689 1561.54 52.7671 Q1569.6 44.6248 1571.66 42.2752 Q1575.59 37.8598 1577.13 34.8216 Q1578.71 31.7429 1578.71 28.7857 Q1578.71 23.9651 1575.31 20.927 Q1571.95 17.8888 1566.52 17.8888 Q1562.67 17.8888 1558.38 19.2256 Q1554.12 20.5624 1549.26 23.2765 L1549.26 15.0127 Q1554.2 13.0277 1558.5 12.015 Q1562.79 11.0023 1566.36 11.0023 Q1575.75 11.0023 1581.34 15.7013 Q1586.94 20.4004 1586.94 28.2591 Q1586.94 31.9859 1585.52 35.3482 Q1584.14 38.6699 1580.45 43.2069 Q1579.44 44.3817 1574.01 50.0125 Q1568.58 55.6027 1558.7 65.6895 Z\" fill=\"#000000\" fill-rule=\"evenodd\" fill-opacity=\"1\" /><path clip-path=\"url(#clip520)\" d=\"M 0 0 M1621.93 17.4837 Q1615.62 17.4837 1612.42 23.7221 Q1609.26 29.92 1609.26 42.3968 Q1609.26 54.833 1612.42 61.0714 Q1615.62 67.2693 1621.93 67.2693 Q1628.29 67.2693 1631.45 61.0714 Q1634.65 54.833 1634.65 42.3968 Q1634.65 29.92 1631.45 23.7221 Q1628.29 17.4837 1621.93 17.4837 M1621.93 11.0023 Q1632.1 11.0023 1637.45 19.0636 Q1642.84 27.0843 1642.84 42.3968 Q1642.84 57.6687 1637.45 65.73 Q1632.1 73.7508 1621.93 73.7508 Q1611.77 73.7508 1606.38 65.73 Q1601.03 57.6687 1601.03 42.3968 Q1601.03 27.0843 1606.38 19.0636 Q1611.77 11.0023 1621.93 11.0023 Z\" fill=\"#000000\" fill-rule=\"evenodd\" fill-opacity=\"1\" /><path clip-path=\"url(#clip520)\" d=\"M 0 0 M1658.64 65.6895 L1672 65.6895 L1672 19.5497 L1657.46 22.4663 L1657.46 15.0127 L1671.92 12.096 L1680.11 12.096 L1680.11 65.6895 L1693.47 65.6895 L1693.47 72.576 L1658.64 72.576 L1658.64 65.6895 Z\" fill=\"#000000\" fill-rule=\"evenodd\" fill-opacity=\"1\" /><path clip-path=\"url(#clip520)\" d=\"M 0 0 M1727.5 43.8551 Q1721.67 43.8551 1718.31 46.9743 Q1714.98 50.0935 1714.98 55.5622 Q1714.98 61.0309 1718.31 64.1501 Q1721.67 67.2693 1727.5 67.2693 Q1733.33 67.2693 1736.7 64.1501 Q1740.06 60.9904 1740.06 55.5622 Q1740.06 50.0935 1736.7 46.9743 Q1733.38 43.8551 1727.5 43.8551 M1719.32 40.3713 Q1714.05 39.075 1711.1 35.4697 Q1708.18 31.8644 1708.18 26.6793 Q1708.18 19.4281 1713.32 15.2152 Q1718.51 11.0023 1727.5 11.0023 Q1736.54 11.0023 1741.68 15.2152 Q1746.82 19.4281 1746.82 26.6793 Q1746.82 31.8644 1743.87 35.4697 Q1740.95 39.075 1735.72 40.3713 Q1741.64 41.7486 1744.92 45.759 Q1748.24 49.7694 1748.24 55.5622 Q1748.24 64.3527 1742.85 69.0517 Q1737.51 73.7508 1727.5 73.7508 Q1717.5 73.7508 1712.11 69.0517 Q1706.76 64.3527 1706.76 55.5622 Q1706.76 49.7694 1710.08 45.759 Q1713.4 41.7486 1719.32 40.3713 M1716.32 27.4489 Q1716.32 32.148 1719.24 34.7811 Q1722.19 37.4142 1727.5 37.4142 Q1732.77 37.4142 1735.72 34.7811 Q1738.72 32.148 1738.72 27.4489 Q1738.72 22.7499 1735.72 20.1168 Q1732.77 17.4837 1727.5 17.4837 Q1722.19 17.4837 1719.24 20.1168 Q1716.32 22.7499 1716.32 27.4489 Z\" fill=\"#000000\" fill-rule=\"evenodd\" fill-opacity=\"1\" /><path clip-path=\"url(#clip520)\" d=\"M 0 0 M1796.2 86.3491 L1796.2 92.1419 L1753.1 92.1419 L1753.1 86.3491 L1796.2 86.3491 Z\" fill=\"#000000\" fill-rule=\"evenodd\" fill-opacity=\"1\" /><path clip-path=\"url(#clip520)\" d=\"M 0 0 M1805.68 65.6895 L1819.05 65.6895 L1819.05 19.5497 L1804.51 22.4663 L1804.51 15.0127 L1818.97 12.096 L1827.15 12.096 L1827.15 65.6895 L1840.52 65.6895 L1840.52 72.576 L1805.68 72.576 L1805.68 65.6895 Z\" fill=\"#000000\" fill-rule=\"evenodd\" fill-opacity=\"1\" /><path clip-path=\"url(#clip520)\" d=\"M 0 0 M1864.1 65.6895 L1892.66 65.6895 L1892.66 72.576 L1854.25 72.576 L1854.25 65.6895 Q1858.91 60.8689 1866.93 52.7671 Q1874.99 44.6248 1877.06 42.2752 Q1880.99 37.8598 1882.53 34.8216 Q1884.11 31.7429 1884.11 28.7857 Q1884.11 23.9651 1880.71 20.927 Q1877.34 17.8888 1871.92 17.8888 Q1868.07 17.8888 1863.77 19.2256 Q1859.52 20.5624 1854.66 23.2765 L1854.66 15.0127 Q1859.6 13.0277 1863.9 12.015 Q1868.19 11.0023 1871.75 11.0023 Q1881.15 11.0023 1886.74 15.7013 Q1892.33 20.4004 1892.33 28.2591 Q1892.33 31.9859 1890.91 35.3482 Q1889.54 38.6699 1885.85 43.2069 Q1884.84 44.3817 1879.41 50.0125 Q1873.98 55.6027 1864.1 65.6895 Z\" fill=\"#000000\" fill-rule=\"evenodd\" fill-opacity=\"1\" /><path clip-path=\"url(#clip520)\" d=\"M 0 0 M1907.6 9.62495 L1914.09 9.62495 Q1920.16 19.1851 1923.16 28.3401 Q1926.2 37.4952 1926.2 46.5287 Q1926.2 55.6027 1923.16 64.7983 Q1920.16 73.9938 1914.09 83.5134 L1907.6 83.5134 Q1912.99 74.2369 1915.63 65.0818 Q1918.3 55.8863 1918.3 46.5287 Q1918.3 37.1711 1915.63 28.0566 Q1912.99 18.942 1907.6 9.62495 Z\" fill=\"#000000\" fill-rule=\"evenodd\" fill-opacity=\"1\" /><path clip-path=\"url(#clip522)\" d=\"\n",
       "M202.177 162.047 L202.177 1447.87 L628.98 1447.87 L628.98 162.047 L202.177 162.047 L202.177 162.047  Z\n",
       "  \" fill=\"#009af9\" fill-rule=\"evenodd\" fill-opacity=\"1\"/>\n",
       "<polyline clip-path=\"url(#clip522)\" style=\"stroke:#000000; stroke-width:4; stroke-opacity:1; fill:none\" points=\"\n",
       "  202.177,162.047 202.177,1447.87 628.98,1447.87 628.98,162.047 202.177,162.047 \n",
       "  \"/>\n",
       "<path clip-path=\"url(#clip522)\" d=\"\n",
       "M628.98 162.191 L628.98 1447.87 L720.266 1447.87 L720.266 162.191 L628.98 162.191 L628.98 162.191  Z\n",
       "  \" fill=\"#009af9\" fill-rule=\"evenodd\" fill-opacity=\"1\"/>\n",
       "<polyline clip-path=\"url(#clip522)\" style=\"stroke:#000000; stroke-width:4; stroke-opacity:1; fill:none\" points=\"\n",
       "  628.98,162.191 628.98,1447.87 720.266,1447.87 720.266,162.191 628.98,162.191 \n",
       "  \"/>\n",
       "<path clip-path=\"url(#clip522)\" d=\"\n",
       "M720.266 162.191 L720.266 1447.87 L781.687 1447.87 L781.687 162.191 L720.266 162.191 L720.266 162.191  Z\n",
       "  \" fill=\"#009af9\" fill-rule=\"evenodd\" fill-opacity=\"1\"/>\n",
       "<polyline clip-path=\"url(#clip522)\" style=\"stroke:#000000; stroke-width:4; stroke-opacity:1; fill:none\" points=\"\n",
       "  720.266,162.191 720.266,1447.87 781.687,1447.87 781.687,162.191 720.266,162.191 \n",
       "  \"/>\n",
       "<path clip-path=\"url(#clip522)\" d=\"\n",
       "M781.687 162.191 L781.687 1447.87 L835.636 1447.87 L835.636 162.191 L781.687 162.191 L781.687 162.191  Z\n",
       "  \" fill=\"#009af9\" fill-rule=\"evenodd\" fill-opacity=\"1\"/>\n",
       "<polyline clip-path=\"url(#clip522)\" style=\"stroke:#000000; stroke-width:4; stroke-opacity:1; fill:none\" points=\"\n",
       "  781.687,162.191 781.687,1447.87 835.636,1447.87 835.636,162.191 781.687,162.191 \n",
       "  \"/>\n",
       "<path clip-path=\"url(#clip522)\" d=\"\n",
       "M835.636 162.191 L835.636 1447.87 L891.167 1447.87 L891.167 162.191 L835.636 162.191 L835.636 162.191  Z\n",
       "  \" fill=\"#009af9\" fill-rule=\"evenodd\" fill-opacity=\"1\"/>\n",
       "<polyline clip-path=\"url(#clip522)\" style=\"stroke:#000000; stroke-width:4; stroke-opacity:1; fill:none\" points=\"\n",
       "  835.636,162.191 835.636,1447.87 891.167,1447.87 891.167,162.191 835.636,162.191 \n",
       "  \"/>\n",
       "<path clip-path=\"url(#clip522)\" d=\"\n",
       "M891.167 162.047 L891.167 1447.87 L951.417 1447.87 L951.417 162.047 L891.167 162.047 L891.167 162.047  Z\n",
       "  \" fill=\"#009af9\" fill-rule=\"evenodd\" fill-opacity=\"1\"/>\n",
       "<polyline clip-path=\"url(#clip522)\" style=\"stroke:#000000; stroke-width:4; stroke-opacity:1; fill:none\" points=\"\n",
       "  891.167,162.047 891.167,1447.87 951.417,1447.87 951.417,162.047 891.167,162.047 \n",
       "  \"/>\n",
       "<path clip-path=\"url(#clip522)\" d=\"\n",
       "M951.417 162.191 L951.417 1447.87 L1017.06 1447.87 L1017.06 162.191 L951.417 162.191 L951.417 162.191  Z\n",
       "  \" fill=\"#009af9\" fill-rule=\"evenodd\" fill-opacity=\"1\"/>\n",
       "<polyline clip-path=\"url(#clip522)\" style=\"stroke:#000000; stroke-width:4; stroke-opacity:1; fill:none\" points=\"\n",
       "  951.417,162.191 951.417,1447.87 1017.06,1447.87 1017.06,162.191 951.417,162.191 \n",
       "  \"/>\n",
       "<path clip-path=\"url(#clip522)\" d=\"\n",
       "M1017.06 162.191 L1017.06 1447.87 L1091.88 1447.87 L1091.88 162.191 L1017.06 162.191 L1017.06 162.191  Z\n",
       "  \" fill=\"#009af9\" fill-rule=\"evenodd\" fill-opacity=\"1\"/>\n",
       "<polyline clip-path=\"url(#clip522)\" style=\"stroke:#000000; stroke-width:4; stroke-opacity:1; fill:none\" points=\"\n",
       "  1017.06,162.191 1017.06,1447.87 1091.88,1447.87 1091.88,162.191 1017.06,162.191 \n",
       "  \"/>\n",
       "<path clip-path=\"url(#clip522)\" d=\"\n",
       "M1091.88 162.191 L1091.88 1447.87 L1166.78 1447.87 L1166.78 162.191 L1091.88 162.191 L1091.88 162.191  Z\n",
       "  \" fill=\"#009af9\" fill-rule=\"evenodd\" fill-opacity=\"1\"/>\n",
       "<polyline clip-path=\"url(#clip522)\" style=\"stroke:#000000; stroke-width:4; stroke-opacity:1; fill:none\" points=\"\n",
       "  1091.88,162.191 1091.88,1447.87 1166.78,1447.87 1166.78,162.191 1091.88,162.191 \n",
       "  \"/>\n",
       "<path clip-path=\"url(#clip522)\" d=\"\n",
       "M1166.78 162.191 L1166.78 1447.87 L1258.1 1447.87 L1258.1 162.191 L1166.78 162.191 L1166.78 162.191  Z\n",
       "  \" fill=\"#009af9\" fill-rule=\"evenodd\" fill-opacity=\"1\"/>\n",
       "<polyline clip-path=\"url(#clip522)\" style=\"stroke:#000000; stroke-width:4; stroke-opacity:1; fill:none\" points=\"\n",
       "  1166.78,162.191 1166.78,1447.87 1258.1,1447.87 1258.1,162.191 1166.78,162.191 \n",
       "  \"/>\n",
       "<path clip-path=\"url(#clip522)\" d=\"\n",
       "M1258.1 162.047 L1258.1 1447.87 L1368.54 1447.87 L1368.54 162.047 L1258.1 162.047 L1258.1 162.047  Z\n",
       "  \" fill=\"#009af9\" fill-rule=\"evenodd\" fill-opacity=\"1\"/>\n",
       "<polyline clip-path=\"url(#clip522)\" style=\"stroke:#000000; stroke-width:4; stroke-opacity:1; fill:none\" points=\"\n",
       "  1258.1,162.047 1258.1,1447.87 1368.54,1447.87 1368.54,162.047 1258.1,162.047 \n",
       "  \"/>\n",
       "<path clip-path=\"url(#clip522)\" d=\"\n",
       "M1368.54 162.191 L1368.54 1447.87 L1482.03 1447.87 L1482.03 162.191 L1368.54 162.191 L1368.54 162.191  Z\n",
       "  \" fill=\"#009af9\" fill-rule=\"evenodd\" fill-opacity=\"1\"/>\n",
       "<polyline clip-path=\"url(#clip522)\" style=\"stroke:#000000; stroke-width:4; stroke-opacity:1; fill:none\" points=\"\n",
       "  1368.54,162.191 1368.54,1447.87 1482.03,1447.87 1482.03,162.191 1368.54,162.191 \n",
       "  \"/>\n",
       "<path clip-path=\"url(#clip522)\" d=\"\n",
       "M1482.03 162.191 L1482.03 1447.87 L1585.93 1447.87 L1585.93 162.191 L1482.03 162.191 L1482.03 162.191  Z\n",
       "  \" fill=\"#009af9\" fill-rule=\"evenodd\" fill-opacity=\"1\"/>\n",
       "<polyline clip-path=\"url(#clip522)\" style=\"stroke:#000000; stroke-width:4; stroke-opacity:1; fill:none\" points=\"\n",
       "  1482.03,162.191 1482.03,1447.87 1585.93,1447.87 1585.93,162.191 1482.03,162.191 \n",
       "  \"/>\n",
       "<path clip-path=\"url(#clip522)\" d=\"\n",
       "M1585.93 162.191 L1585.93 1447.87 L1678.79 1447.87 L1678.79 162.191 L1585.93 162.191 L1585.93 162.191  Z\n",
       "  \" fill=\"#009af9\" fill-rule=\"evenodd\" fill-opacity=\"1\"/>\n",
       "<polyline clip-path=\"url(#clip522)\" style=\"stroke:#000000; stroke-width:4; stroke-opacity:1; fill:none\" points=\"\n",
       "  1585.93,162.191 1585.93,1447.87 1678.79,1447.87 1678.79,162.191 1585.93,162.191 \n",
       "  \"/>\n",
       "<path clip-path=\"url(#clip522)\" d=\"\n",
       "M1678.79 162.191 L1678.79 1447.87 L1762.34 1447.87 L1762.34 162.191 L1678.79 162.191 L1678.79 162.191  Z\n",
       "  \" fill=\"#009af9\" fill-rule=\"evenodd\" fill-opacity=\"1\"/>\n",
       "<polyline clip-path=\"url(#clip522)\" style=\"stroke:#000000; stroke-width:4; stroke-opacity:1; fill:none\" points=\"\n",
       "  1678.79,162.191 1678.79,1447.87 1762.34,1447.87 1762.34,162.191 1678.79,162.191 \n",
       "  \"/>\n",
       "<path clip-path=\"url(#clip522)\" d=\"\n",
       "M1762.34 162.047 L1762.34 1447.87 L1841.67 1447.87 L1841.67 162.047 L1762.34 162.047 L1762.34 162.047  Z\n",
       "  \" fill=\"#009af9\" fill-rule=\"evenodd\" fill-opacity=\"1\"/>\n",
       "<polyline clip-path=\"url(#clip522)\" style=\"stroke:#000000; stroke-width:4; stroke-opacity:1; fill:none\" points=\"\n",
       "  1762.34,162.047 1762.34,1447.87 1841.67,1447.87 1841.67,162.047 1762.34,162.047 \n",
       "  \"/>\n",
       "<path clip-path=\"url(#clip522)\" d=\"\n",
       "M1841.67 162.191 L1841.67 1447.87 L1899.63 1447.87 L1899.63 162.191 L1841.67 162.191 L1841.67 162.191  Z\n",
       "  \" fill=\"#009af9\" fill-rule=\"evenodd\" fill-opacity=\"1\"/>\n",
       "<polyline clip-path=\"url(#clip522)\" style=\"stroke:#000000; stroke-width:4; stroke-opacity:1; fill:none\" points=\"\n",
       "  1841.67,162.191 1841.67,1447.87 1899.63,1447.87 1899.63,162.191 1841.67,162.191 \n",
       "  \"/>\n",
       "<path clip-path=\"url(#clip522)\" d=\"\n",
       "M1899.63 162.191 L1899.63 1447.87 L1950.73 1447.87 L1950.73 162.191 L1899.63 162.191 L1899.63 162.191  Z\n",
       "  \" fill=\"#009af9\" fill-rule=\"evenodd\" fill-opacity=\"1\"/>\n",
       "<polyline clip-path=\"url(#clip522)\" style=\"stroke:#000000; stroke-width:4; stroke-opacity:1; fill:none\" points=\"\n",
       "  1899.63,162.191 1899.63,1447.87 1950.73,1447.87 1950.73,162.191 1899.63,162.191 \n",
       "  \"/>\n",
       "<path clip-path=\"url(#clip522)\" d=\"\n",
       "M1950.73 162.191 L1950.73 1447.87 L2001.63 1447.87 L2001.63 162.191 L1950.73 162.191 L1950.73 162.191  Z\n",
       "  \" fill=\"#009af9\" fill-rule=\"evenodd\" fill-opacity=\"1\"/>\n",
       "<polyline clip-path=\"url(#clip522)\" style=\"stroke:#000000; stroke-width:4; stroke-opacity:1; fill:none\" points=\"\n",
       "  1950.73,162.191 1950.73,1447.87 2001.63,1447.87 2001.63,162.191 1950.73,162.191 \n",
       "  \"/>\n",
       "<path clip-path=\"url(#clip522)\" d=\"\n",
       "M2001.63 162.191 L2001.63 1447.87 L2043.15 1447.87 L2043.15 162.191 L2001.63 162.191 L2001.63 162.191  Z\n",
       "  \" fill=\"#009af9\" fill-rule=\"evenodd\" fill-opacity=\"1\"/>\n",
       "<polyline clip-path=\"url(#clip522)\" style=\"stroke:#000000; stroke-width:4; stroke-opacity:1; fill:none\" points=\"\n",
       "  2001.63,162.191 2001.63,1447.87 2043.15,1447.87 2043.15,162.191 2001.63,162.191 \n",
       "  \"/>\n",
       "<path clip-path=\"url(#clip522)\" d=\"\n",
       "M2043.15 162.047 L2043.15 1447.87 L2087.21 1447.87 L2087.21 162.047 L2043.15 162.047 L2043.15 162.047  Z\n",
       "  \" fill=\"#009af9\" fill-rule=\"evenodd\" fill-opacity=\"1\"/>\n",
       "<polyline clip-path=\"url(#clip522)\" style=\"stroke:#000000; stroke-width:4; stroke-opacity:1; fill:none\" points=\"\n",
       "  2043.15,162.047 2043.15,1447.87 2087.21,1447.87 2087.21,162.047 2043.15,162.047 \n",
       "  \"/>\n",
       "<path clip-path=\"url(#clip522)\" d=\"\n",
       "M2087.21 162.191 L2087.21 1447.87 L2142.6 1447.87 L2142.6 162.191 L2087.21 162.191 L2087.21 162.191  Z\n",
       "  \" fill=\"#009af9\" fill-rule=\"evenodd\" fill-opacity=\"1\"/>\n",
       "<polyline clip-path=\"url(#clip522)\" style=\"stroke:#000000; stroke-width:4; stroke-opacity:1; fill:none\" points=\"\n",
       "  2087.21,162.191 2087.21,1447.87 2142.6,1447.87 2142.6,162.191 2087.21,162.191 \n",
       "  \"/>\n",
       "<path clip-path=\"url(#clip522)\" d=\"\n",
       "M2142.6 162.191 L2142.6 1447.87 L2198.65 1447.87 L2198.65 162.191 L2142.6 162.191 L2142.6 162.191  Z\n",
       "  \" fill=\"#009af9\" fill-rule=\"evenodd\" fill-opacity=\"1\"/>\n",
       "<polyline clip-path=\"url(#clip522)\" style=\"stroke:#000000; stroke-width:4; stroke-opacity:1; fill:none\" points=\"\n",
       "  2142.6,162.191 2142.6,1447.87 2198.65,1447.87 2198.65,162.191 2142.6,162.191 \n",
       "  \"/>\n",
       "<path clip-path=\"url(#clip522)\" d=\"\n",
       "M2198.65 162.191 L2198.65 1447.87 L2228.9 1447.87 L2228.9 162.191 L2198.65 162.191 L2198.65 162.191  Z\n",
       "  \" fill=\"#009af9\" fill-rule=\"evenodd\" fill-opacity=\"1\"/>\n",
       "<polyline clip-path=\"url(#clip522)\" style=\"stroke:#000000; stroke-width:4; stroke-opacity:1; fill:none\" points=\"\n",
       "  2198.65,162.191 2198.65,1447.87 2228.9,1447.87 2228.9,162.191 2198.65,162.191 \n",
       "  \"/>\n",
       "<path clip-path=\"url(#clip522)\" d=\"\n",
       "M2228.9 162.191 L2228.9 1447.87 L2242.29 1447.87 L2242.29 162.191 L2228.9 162.191 L2228.9 162.191  Z\n",
       "  \" fill=\"#009af9\" fill-rule=\"evenodd\" fill-opacity=\"1\"/>\n",
       "<polyline clip-path=\"url(#clip522)\" style=\"stroke:#000000; stroke-width:4; stroke-opacity:1; fill:none\" points=\"\n",
       "  2228.9,162.191 2228.9,1447.87 2242.29,1447.87 2242.29,162.191 2228.9,162.191 \n",
       "  \"/>\n",
       "<path clip-path=\"url(#clip522)\" d=\"\n",
       "M2242.29 162.047 L2242.29 1447.87 L2249.75 1447.87 L2249.75 162.047 L2242.29 162.047 L2242.29 162.047  Z\n",
       "  \" fill=\"#009af9\" fill-rule=\"evenodd\" fill-opacity=\"1\"/>\n",
       "<polyline clip-path=\"url(#clip522)\" style=\"stroke:#000000; stroke-width:4; stroke-opacity:1; fill:none\" points=\"\n",
       "  2242.29,162.047 2242.29,1447.87 2249.75,1447.87 2249.75,162.047 2242.29,162.047 \n",
       "  \"/>\n",
       "<path clip-path=\"url(#clip522)\" d=\"\n",
       "M2249.75 162.191 L2249.75 1447.87 L2256.54 1447.87 L2256.54 162.191 L2249.75 162.191 L2249.75 162.191  Z\n",
       "  \" fill=\"#009af9\" fill-rule=\"evenodd\" fill-opacity=\"1\"/>\n",
       "<polyline clip-path=\"url(#clip522)\" style=\"stroke:#000000; stroke-width:4; stroke-opacity:1; fill:none\" points=\"\n",
       "  2249.75,162.191 2249.75,1447.87 2256.54,1447.87 2256.54,162.191 2249.75,162.191 \n",
       "  \"/>\n",
       "<path clip-path=\"url(#clip522)\" d=\"\n",
       "M2256.54 162.191 L2256.54 1447.87 L2267.86 1447.87 L2267.86 162.191 L2256.54 162.191 L2256.54 162.191  Z\n",
       "  \" fill=\"#009af9\" fill-rule=\"evenodd\" fill-opacity=\"1\"/>\n",
       "<polyline clip-path=\"url(#clip522)\" style=\"stroke:#000000; stroke-width:4; stroke-opacity:1; fill:none\" points=\"\n",
       "  2256.54,162.191 2256.54,1447.87 2267.86,1447.87 2267.86,162.191 2256.54,162.191 \n",
       "  \"/>\n",
       "<path clip-path=\"url(#clip522)\" d=\"\n",
       "M2267.86 162.191 L2267.86 1447.87 L2298.61 1447.87 L2298.61 162.191 L2267.86 162.191 L2267.86 162.191  Z\n",
       "  \" fill=\"#009af9\" fill-rule=\"evenodd\" fill-opacity=\"1\"/>\n",
       "<polyline clip-path=\"url(#clip522)\" style=\"stroke:#000000; stroke-width:4; stroke-opacity:1; fill:none\" points=\"\n",
       "  2267.86,162.191 2267.86,1447.87 2298.61,1447.87 2298.61,162.191 2267.86,162.191 \n",
       "  \"/>\n",
       "<path clip-path=\"url(#clip522)\" d=\"\n",
       "M2298.61 890.072 L2298.61 1447.87 L2352.76 1447.87 L2352.76 890.072 L2298.61 890.072 L2298.61 890.072  Z\n",
       "  \" fill=\"#009af9\" fill-rule=\"evenodd\" fill-opacity=\"1\"/>\n",
       "<polyline clip-path=\"url(#clip522)\" style=\"stroke:#000000; stroke-width:4; stroke-opacity:1; fill:none\" points=\"\n",
       "  2298.61,890.072 2298.61,1447.87 2352.76,1447.87 2352.76,890.072 2298.61,890.072 \n",
       "  \"/>\n",
       "<path clip-path=\"url(#clip520)\" d=\"\n",
       "M1989.69 289.865 L2281.07 289.865 L2281.07 168.905 L1989.69 168.905  Z\n",
       "  \" fill=\"#ffffff\" fill-rule=\"evenodd\" fill-opacity=\"1\"/>\n",
       "<polyline clip-path=\"url(#clip520)\" style=\"stroke:#000000; stroke-width:4; stroke-opacity:1; fill:none\" points=\"\n",
       "  1989.69,289.865 2281.07,289.865 2281.07,168.905 1989.69,168.905 1989.69,289.865 \n",
       "  \"/>\n",
       "<path clip-path=\"url(#clip520)\" d=\"\n",
       "M2013.58 253.577 L2156.95 253.577 L2156.95 205.193 L2013.58 205.193 L2013.58 253.577  Z\n",
       "  \" fill=\"#009af9\" fill-rule=\"evenodd\" fill-opacity=\"1\"/>\n",
       "<polyline clip-path=\"url(#clip520)\" style=\"stroke:#000000; stroke-width:4; stroke-opacity:1; fill:none\" points=\"\n",
       "  2013.58,253.577 2156.95,253.577 2156.95,205.193 2013.58,205.193 2013.58,253.577 \n",
       "  \"/>\n",
       "<path clip-path=\"url(#clip520)\" d=\"M 0 0 M2194.69 249.072 Q2192.89 253.702 2191.17 255.114 Q2189.46 256.526 2186.59 256.526 L2183.19 256.526 L2183.19 252.961 L2185.69 252.961 Q2187.45 252.961 2188.42 252.128 Q2189.39 251.294 2190.57 248.192 L2191.34 246.248 L2180.85 220.739 L2185.36 220.739 L2193.46 241.017 L2201.57 220.739 L2206.08 220.739 L2194.69 249.072 Z\" fill=\"#000000\" fill-rule=\"evenodd\" fill-opacity=\"1\" /><path clip-path=\"url(#clip520)\" d=\"M 0 0 M2213.37 242.729 L2221.01 242.729 L2221.01 216.364 L2212.7 218.031 L2212.7 213.771 L2220.96 212.105 L2225.64 212.105 L2225.64 242.729 L2233.28 242.729 L2233.28 246.665 L2213.37 246.665 L2213.37 242.729 Z\" fill=\"#000000\" fill-rule=\"evenodd\" fill-opacity=\"1\" /></svg>\n"
      ]
     },
     "execution_count": 24,
     "metadata": {},
     "output_type": "execute_result"
    }
   ],
   "source": [
    "hist_b_train = histogram(cmf_b_train, #normalize=:probability, \n",
    "    bins=qx_ep, #    leg=false,\n",
    "    xlim=(0,1), #ylim=(0,0.15), xlabel=\"CMF\", ylabel=\"Frequency\", lw=0.3, \n",
    "    title=\"Berlin_train (2004_02-2018_12)\")"
   ]
  },
  {
   "cell_type": "code",
   "execution_count": 26,
   "id": "4b2f62a8-776c-4178-9b48-0f58be141319",
   "metadata": {
    "execution": {
     "iopub.execute_input": "2021-05-26T09:18:46.712000+02:00",
     "iopub.status.busy": "2021-05-26T09:18:46.712000+02:00",
     "iopub.status.idle": "2021-05-26T09:18:46.787000+02:00",
     "shell.execute_reply": "2021-05-26T09:18:46.787000+02:00"
    },
    "tags": []
   },
   "outputs": [
    {
     "data": {
      "image/svg+xml": [
       "<?xml version=\"1.0\" encoding=\"utf-8\"?>\n",
       "<svg xmlns=\"http://www.w3.org/2000/svg\" xmlns:xlink=\"http://www.w3.org/1999/xlink\" width=\"600\" height=\"400\" viewBox=\"0 0 2400 1600\">\n",
       "<defs>\n",
       "  <clipPath id=\"clip600\">\n",
       "    <rect x=\"0\" y=\"0\" width=\"2400\" height=\"1600\"/>\n",
       "  </clipPath>\n",
       "</defs>\n",
       "<path clip-path=\"url(#clip600)\" d=\"\n",
       "M0 1600 L2400 1600 L2400 0 L0 0  Z\n",
       "  \" fill=\"#ffffff\" fill-rule=\"evenodd\" fill-opacity=\"1\"/>\n",
       "<defs>\n",
       "  <clipPath id=\"clip601\">\n",
       "    <rect x=\"480\" y=\"0\" width=\"1681\" height=\"1600\"/>\n",
       "  </clipPath>\n",
       "</defs>\n",
       "<path clip-path=\"url(#clip600)\" d=\"\n",
       "M277.431 1486.45 L2352.76 1486.45 L2352.76 123.472 L277.431 123.472  Z\n",
       "  \" fill=\"#ffffff\" fill-rule=\"evenodd\" fill-opacity=\"1\"/>\n",
       "<defs>\n",
       "  <clipPath id=\"clip602\">\n",
       "    <rect x=\"277\" y=\"123\" width=\"2076\" height=\"1364\"/>\n",
       "  </clipPath>\n",
       "</defs>\n",
       "<polyline clip-path=\"url(#clip602)\" style=\"stroke:#000000; stroke-width:2; stroke-opacity:0.1; fill:none\" points=\"\n",
       "  277.431,1486.45 277.431,123.472 \n",
       "  \"/>\n",
       "<polyline clip-path=\"url(#clip602)\" style=\"stroke:#000000; stroke-width:2; stroke-opacity:0.1; fill:none\" points=\"\n",
       "  692.496,1486.45 692.496,123.472 \n",
       "  \"/>\n",
       "<polyline clip-path=\"url(#clip602)\" style=\"stroke:#000000; stroke-width:2; stroke-opacity:0.1; fill:none\" points=\"\n",
       "  1107.56,1486.45 1107.56,123.472 \n",
       "  \"/>\n",
       "<polyline clip-path=\"url(#clip602)\" style=\"stroke:#000000; stroke-width:2; stroke-opacity:0.1; fill:none\" points=\"\n",
       "  1522.63,1486.45 1522.63,123.472 \n",
       "  \"/>\n",
       "<polyline clip-path=\"url(#clip602)\" style=\"stroke:#000000; stroke-width:2; stroke-opacity:0.1; fill:none\" points=\"\n",
       "  1937.69,1486.45 1937.69,123.472 \n",
       "  \"/>\n",
       "<polyline clip-path=\"url(#clip602)\" style=\"stroke:#000000; stroke-width:2; stroke-opacity:0.1; fill:none\" points=\"\n",
       "  2352.76,1486.45 2352.76,123.472 \n",
       "  \"/>\n",
       "<polyline clip-path=\"url(#clip600)\" style=\"stroke:#000000; stroke-width:4; stroke-opacity:1; fill:none\" points=\"\n",
       "  277.431,1486.45 2352.76,1486.45 \n",
       "  \"/>\n",
       "<polyline clip-path=\"url(#clip600)\" style=\"stroke:#000000; stroke-width:4; stroke-opacity:1; fill:none\" points=\"\n",
       "  277.431,1486.45 277.431,1470.09 \n",
       "  \"/>\n",
       "<polyline clip-path=\"url(#clip600)\" style=\"stroke:#000000; stroke-width:4; stroke-opacity:1; fill:none\" points=\"\n",
       "  692.496,1486.45 692.496,1470.09 \n",
       "  \"/>\n",
       "<polyline clip-path=\"url(#clip600)\" style=\"stroke:#000000; stroke-width:4; stroke-opacity:1; fill:none\" points=\"\n",
       "  1107.56,1486.45 1107.56,1470.09 \n",
       "  \"/>\n",
       "<polyline clip-path=\"url(#clip600)\" style=\"stroke:#000000; stroke-width:4; stroke-opacity:1; fill:none\" points=\"\n",
       "  1522.63,1486.45 1522.63,1470.09 \n",
       "  \"/>\n",
       "<polyline clip-path=\"url(#clip600)\" style=\"stroke:#000000; stroke-width:4; stroke-opacity:1; fill:none\" points=\"\n",
       "  1937.69,1486.45 1937.69,1470.09 \n",
       "  \"/>\n",
       "<polyline clip-path=\"url(#clip600)\" style=\"stroke:#000000; stroke-width:4; stroke-opacity:1; fill:none\" points=\"\n",
       "  2352.76,1486.45 2352.76,1470.09 \n",
       "  \"/>\n",
       "<path clip-path=\"url(#clip600)\" d=\"M 0 0 M254.815 1515.64 Q251.204 1515.64 249.376 1519.2 Q247.57 1522.75 247.57 1529.87 Q247.57 1536.98 249.376 1540.55 Q251.204 1544.09 254.815 1544.09 Q258.45 1544.09 260.255 1540.55 Q262.084 1536.98 262.084 1529.87 Q262.084 1522.75 260.255 1519.2 Q258.45 1515.64 254.815 1515.64 M254.815 1511.93 Q260.625 1511.93 263.681 1516.54 Q266.76 1521.12 266.76 1529.87 Q266.76 1538.6 263.681 1543.21 Q260.625 1547.79 254.815 1547.79 Q249.005 1547.79 245.926 1543.21 Q242.871 1538.6 242.871 1529.87 Q242.871 1521.12 245.926 1516.54 Q249.005 1511.93 254.815 1511.93 Z\" fill=\"#000000\" fill-rule=\"evenodd\" fill-opacity=\"1\" /><path clip-path=\"url(#clip600)\" d=\"M 0 0 M274.977 1541.24 L279.861 1541.24 L279.861 1547.12 L274.977 1547.12 L274.977 1541.24 Z\" fill=\"#000000\" fill-rule=\"evenodd\" fill-opacity=\"1\" /><path clip-path=\"url(#clip600)\" d=\"M 0 0 M300.047 1515.64 Q296.435 1515.64 294.607 1519.2 Q292.801 1522.75 292.801 1529.87 Q292.801 1536.98 294.607 1540.55 Q296.435 1544.09 300.047 1544.09 Q303.681 1544.09 305.486 1540.55 Q307.315 1536.98 307.315 1529.87 Q307.315 1522.75 305.486 1519.2 Q303.681 1515.64 300.047 1515.64 M300.047 1511.93 Q305.857 1511.93 308.912 1516.54 Q311.991 1521.12 311.991 1529.87 Q311.991 1538.6 308.912 1543.21 Q305.857 1547.79 300.047 1547.79 Q294.236 1547.79 291.158 1543.21 Q288.102 1538.6 288.102 1529.87 Q288.102 1521.12 291.158 1516.54 Q294.236 1511.93 300.047 1511.93 Z\" fill=\"#000000\" fill-rule=\"evenodd\" fill-opacity=\"1\" /><path clip-path=\"url(#clip600)\" d=\"M 0 0 M670.679 1515.64 Q667.068 1515.64 665.239 1519.2 Q663.434 1522.75 663.434 1529.87 Q663.434 1536.98 665.239 1540.55 Q667.068 1544.09 670.679 1544.09 Q674.313 1544.09 676.119 1540.55 Q677.947 1536.98 677.947 1529.87 Q677.947 1522.75 676.119 1519.2 Q674.313 1515.64 670.679 1515.64 M670.679 1511.93 Q676.489 1511.93 679.545 1516.54 Q682.623 1521.12 682.623 1529.87 Q682.623 1538.6 679.545 1543.21 Q676.489 1547.79 670.679 1547.79 Q664.869 1547.79 661.79 1543.21 Q658.735 1538.6 658.735 1529.87 Q658.735 1521.12 661.79 1516.54 Q664.869 1511.93 670.679 1511.93 Z\" fill=\"#000000\" fill-rule=\"evenodd\" fill-opacity=\"1\" /><path clip-path=\"url(#clip600)\" d=\"M 0 0 M690.841 1541.24 L695.725 1541.24 L695.725 1547.12 L690.841 1547.12 L690.841 1541.24 Z\" fill=\"#000000\" fill-rule=\"evenodd\" fill-opacity=\"1\" /><path clip-path=\"url(#clip600)\" d=\"M 0 0 M709.938 1543.18 L726.257 1543.18 L726.257 1547.12 L704.313 1547.12 L704.313 1543.18 Q706.975 1540.43 711.558 1535.8 Q716.165 1531.15 717.345 1529.81 Q719.591 1527.28 720.47 1525.55 Q721.373 1523.79 721.373 1522.1 Q721.373 1519.34 719.429 1517.61 Q717.507 1515.87 714.406 1515.87 Q712.206 1515.87 709.753 1516.63 Q707.322 1517.4 704.544 1518.95 L704.544 1514.23 Q707.369 1513.09 709.822 1512.51 Q712.276 1511.93 714.313 1511.93 Q719.683 1511.93 722.878 1514.62 Q726.072 1517.31 726.072 1521.8 Q726.072 1523.93 725.262 1525.85 Q724.475 1527.74 722.368 1530.34 Q721.79 1531.01 718.688 1534.23 Q715.586 1537.42 709.938 1543.18 Z\" fill=\"#000000\" fill-rule=\"evenodd\" fill-opacity=\"1\" /><path clip-path=\"url(#clip600)\" d=\"M 0 0 M1084.7 1515.64 Q1081.09 1515.64 1079.26 1519.2 Q1077.46 1522.75 1077.46 1529.87 Q1077.46 1536.98 1079.26 1540.55 Q1081.09 1544.09 1084.7 1544.09 Q1088.34 1544.09 1090.14 1540.55 Q1091.97 1536.98 1091.97 1529.87 Q1091.97 1522.75 1090.14 1519.2 Q1088.34 1515.64 1084.7 1515.64 M1084.7 1511.93 Q1090.51 1511.93 1093.57 1516.54 Q1096.65 1521.12 1096.65 1529.87 Q1096.65 1538.6 1093.57 1543.21 Q1090.51 1547.79 1084.7 1547.79 Q1078.89 1547.79 1075.81 1543.21 Q1072.76 1538.6 1072.76 1529.87 Q1072.76 1521.12 1075.81 1516.54 Q1078.89 1511.93 1084.7 1511.93 Z\" fill=\"#000000\" fill-rule=\"evenodd\" fill-opacity=\"1\" /><path clip-path=\"url(#clip600)\" d=\"M 0 0 M1104.86 1541.24 L1109.75 1541.24 L1109.75 1547.12 L1104.86 1547.12 L1104.86 1541.24 Z\" fill=\"#000000\" fill-rule=\"evenodd\" fill-opacity=\"1\" /><path clip-path=\"url(#clip600)\" d=\"M 0 0 M1132.78 1516.63 L1120.98 1535.08 L1132.78 1535.08 L1132.78 1516.63 M1131.55 1512.56 L1137.43 1512.56 L1137.43 1535.08 L1142.36 1535.08 L1142.36 1538.97 L1137.43 1538.97 L1137.43 1547.12 L1132.78 1547.12 L1132.78 1538.97 L1117.18 1538.97 L1117.18 1534.46 L1131.55 1512.56 Z\" fill=\"#000000\" fill-rule=\"evenodd\" fill-opacity=\"1\" /><path clip-path=\"url(#clip600)\" d=\"M 0 0 M1499.93 1515.64 Q1496.32 1515.64 1494.49 1519.2 Q1492.68 1522.75 1492.68 1529.87 Q1492.68 1536.98 1494.49 1540.55 Q1496.32 1544.09 1499.93 1544.09 Q1503.56 1544.09 1505.37 1540.55 Q1507.2 1536.98 1507.2 1529.87 Q1507.2 1522.75 1505.37 1519.2 Q1503.56 1515.64 1499.93 1515.64 M1499.93 1511.93 Q1505.74 1511.93 1508.79 1516.54 Q1511.87 1521.12 1511.87 1529.87 Q1511.87 1538.6 1508.79 1543.21 Q1505.74 1547.79 1499.93 1547.79 Q1494.12 1547.79 1491.04 1543.21 Q1487.98 1538.6 1487.98 1529.87 Q1487.98 1521.12 1491.04 1516.54 Q1494.12 1511.93 1499.93 1511.93 Z\" fill=\"#000000\" fill-rule=\"evenodd\" fill-opacity=\"1\" /><path clip-path=\"url(#clip600)\" d=\"M 0 0 M1520.09 1541.24 L1524.98 1541.24 L1524.98 1547.12 L1520.09 1547.12 L1520.09 1541.24 Z\" fill=\"#000000\" fill-rule=\"evenodd\" fill-opacity=\"1\" /><path clip-path=\"url(#clip600)\" d=\"M 0 0 M1545.74 1527.98 Q1542.59 1527.98 1540.74 1530.13 Q1538.91 1532.28 1538.91 1536.03 Q1538.91 1539.76 1540.74 1541.93 Q1542.59 1544.09 1545.74 1544.09 Q1548.89 1544.09 1550.72 1541.93 Q1552.57 1539.76 1552.57 1536.03 Q1552.57 1532.28 1550.72 1530.13 Q1548.89 1527.98 1545.74 1527.98 M1555.02 1513.32 L1555.02 1517.58 Q1553.26 1516.75 1551.46 1516.31 Q1549.67 1515.87 1547.92 1515.87 Q1543.29 1515.87 1540.83 1519 Q1538.4 1522.12 1538.05 1528.44 Q1539.42 1526.43 1541.48 1525.36 Q1543.54 1524.27 1546.02 1524.27 Q1551.23 1524.27 1554.23 1527.44 Q1557.27 1530.59 1557.27 1536.03 Q1557.27 1541.36 1554.12 1544.57 Q1550.97 1547.79 1545.74 1547.79 Q1539.74 1547.79 1536.57 1543.21 Q1533.4 1538.6 1533.4 1529.87 Q1533.4 1521.68 1537.29 1516.82 Q1541.18 1511.93 1547.73 1511.93 Q1549.49 1511.93 1551.27 1512.28 Q1553.08 1512.63 1555.02 1513.32 Z\" fill=\"#000000\" fill-rule=\"evenodd\" fill-opacity=\"1\" /><path clip-path=\"url(#clip600)\" d=\"M 0 0 M1915.12 1515.64 Q1911.51 1515.64 1909.68 1519.2 Q1907.88 1522.75 1907.88 1529.87 Q1907.88 1536.98 1909.68 1540.55 Q1911.51 1544.09 1915.12 1544.09 Q1918.76 1544.09 1920.56 1540.55 Q1922.39 1536.98 1922.39 1529.87 Q1922.39 1522.75 1920.56 1519.2 Q1918.76 1515.64 1915.12 1515.64 M1915.12 1511.93 Q1920.93 1511.93 1923.99 1516.54 Q1927.07 1521.12 1927.07 1529.87 Q1927.07 1538.6 1923.99 1543.21 Q1920.93 1547.79 1915.12 1547.79 Q1909.31 1547.79 1906.23 1543.21 Q1903.18 1538.6 1903.18 1529.87 Q1903.18 1521.12 1906.23 1516.54 Q1909.31 1511.93 1915.12 1511.93 Z\" fill=\"#000000\" fill-rule=\"evenodd\" fill-opacity=\"1\" /><path clip-path=\"url(#clip600)\" d=\"M 0 0 M1935.28 1541.24 L1940.17 1541.24 L1940.17 1547.12 L1935.28 1547.12 L1935.28 1541.24 Z\" fill=\"#000000\" fill-rule=\"evenodd\" fill-opacity=\"1\" /><path clip-path=\"url(#clip600)\" d=\"M 0 0 M1960.35 1530.71 Q1957.02 1530.71 1955.1 1532.49 Q1953.2 1534.27 1953.2 1537.4 Q1953.2 1540.52 1955.1 1542.31 Q1957.02 1544.09 1960.35 1544.09 Q1963.69 1544.09 1965.61 1542.31 Q1967.53 1540.5 1967.53 1537.4 Q1967.53 1534.27 1965.61 1532.49 Q1963.71 1530.71 1960.35 1530.71 M1955.68 1528.72 Q1952.67 1527.98 1950.98 1525.92 Q1949.31 1523.86 1949.31 1520.89 Q1949.31 1516.75 1952.25 1514.34 Q1955.21 1511.93 1960.35 1511.93 Q1965.51 1511.93 1968.45 1514.34 Q1971.39 1516.75 1971.39 1520.89 Q1971.39 1523.86 1969.7 1525.92 Q1968.04 1527.98 1965.05 1528.72 Q1968.43 1529.5 1970.31 1531.8 Q1972.2 1534.09 1972.2 1537.4 Q1972.2 1542.42 1969.13 1545.11 Q1966.07 1547.79 1960.35 1547.79 Q1954.64 1547.79 1951.56 1545.11 Q1948.5 1542.42 1948.5 1537.4 Q1948.5 1534.09 1950.4 1531.8 Q1952.3 1529.5 1955.68 1528.72 M1953.96 1521.33 Q1953.96 1524.02 1955.63 1525.52 Q1957.32 1527.03 1960.35 1527.03 Q1963.36 1527.03 1965.05 1525.52 Q1966.76 1524.02 1966.76 1521.33 Q1966.76 1518.65 1965.05 1517.14 Q1963.36 1515.64 1960.35 1515.64 Q1957.32 1515.64 1955.63 1517.14 Q1953.96 1518.65 1953.96 1521.33 Z\" fill=\"#000000\" fill-rule=\"evenodd\" fill-opacity=\"1\" /><path clip-path=\"url(#clip600)\" d=\"M 0 0 M2319.91 1543.18 L2327.55 1543.18 L2327.55 1516.82 L2319.24 1518.49 L2319.24 1514.23 L2327.5 1512.56 L2332.18 1512.56 L2332.18 1543.18 L2339.82 1543.18 L2339.82 1547.12 L2319.91 1547.12 L2319.91 1543.18 Z\" fill=\"#000000\" fill-rule=\"evenodd\" fill-opacity=\"1\" /><path clip-path=\"url(#clip600)\" d=\"M 0 0 M2349.26 1541.24 L2354.14 1541.24 L2354.14 1547.12 L2349.26 1547.12 L2349.26 1541.24 Z\" fill=\"#000000\" fill-rule=\"evenodd\" fill-opacity=\"1\" /><path clip-path=\"url(#clip600)\" d=\"M 0 0 M2374.33 1515.64 Q2370.72 1515.64 2368.89 1519.2 Q2367.08 1522.75 2367.08 1529.87 Q2367.08 1536.98 2368.89 1540.55 Q2370.72 1544.09 2374.33 1544.09 Q2377.96 1544.09 2379.77 1540.55 Q2381.6 1536.98 2381.6 1529.87 Q2381.6 1522.75 2379.77 1519.2 Q2377.96 1515.64 2374.33 1515.64 M2374.33 1511.93 Q2380.14 1511.93 2383.2 1516.54 Q2386.27 1521.12 2386.27 1529.87 Q2386.27 1538.6 2383.2 1543.21 Q2380.14 1547.79 2374.33 1547.79 Q2368.52 1547.79 2365.44 1543.21 Q2362.39 1538.6 2362.39 1529.87 Q2362.39 1521.12 2365.44 1516.54 Q2368.52 1511.93 2374.33 1511.93 Z\" fill=\"#000000\" fill-rule=\"evenodd\" fill-opacity=\"1\" /><polyline clip-path=\"url(#clip602)\" style=\"stroke:#000000; stroke-width:2; stroke-opacity:0.1; fill:none\" points=\"\n",
       "  277.431,1447.87 2352.76,1447.87 \n",
       "  \"/>\n",
       "<polyline clip-path=\"url(#clip602)\" style=\"stroke:#000000; stroke-width:2; stroke-opacity:0.1; fill:none\" points=\"\n",
       "  277.431,1177.75 2352.76,1177.75 \n",
       "  \"/>\n",
       "<polyline clip-path=\"url(#clip602)\" style=\"stroke:#000000; stroke-width:2; stroke-opacity:0.1; fill:none\" points=\"\n",
       "  277.431,907.633 2352.76,907.633 \n",
       "  \"/>\n",
       "<polyline clip-path=\"url(#clip602)\" style=\"stroke:#000000; stroke-width:2; stroke-opacity:0.1; fill:none\" points=\"\n",
       "  277.431,637.512 2352.76,637.512 \n",
       "  \"/>\n",
       "<polyline clip-path=\"url(#clip602)\" style=\"stroke:#000000; stroke-width:2; stroke-opacity:0.1; fill:none\" points=\"\n",
       "  277.431,367.392 2352.76,367.392 \n",
       "  \"/>\n",
       "<polyline clip-path=\"url(#clip600)\" style=\"stroke:#000000; stroke-width:4; stroke-opacity:1; fill:none\" points=\"\n",
       "  277.431,1486.45 277.431,123.472 \n",
       "  \"/>\n",
       "<polyline clip-path=\"url(#clip600)\" style=\"stroke:#000000; stroke-width:4; stroke-opacity:1; fill:none\" points=\"\n",
       "  277.431,1447.87 302.335,1447.87 \n",
       "  \"/>\n",
       "<polyline clip-path=\"url(#clip600)\" style=\"stroke:#000000; stroke-width:4; stroke-opacity:1; fill:none\" points=\"\n",
       "  277.431,1177.75 302.335,1177.75 \n",
       "  \"/>\n",
       "<polyline clip-path=\"url(#clip600)\" style=\"stroke:#000000; stroke-width:4; stroke-opacity:1; fill:none\" points=\"\n",
       "  277.431,907.633 302.335,907.633 \n",
       "  \"/>\n",
       "<polyline clip-path=\"url(#clip600)\" style=\"stroke:#000000; stroke-width:4; stroke-opacity:1; fill:none\" points=\"\n",
       "  277.431,637.512 302.335,637.512 \n",
       "  \"/>\n",
       "<polyline clip-path=\"url(#clip600)\" style=\"stroke:#000000; stroke-width:4; stroke-opacity:1; fill:none\" points=\"\n",
       "  277.431,367.392 302.335,367.392 \n",
       "  \"/>\n",
       "<path clip-path=\"url(#clip600)\" d=\"M 0 0 M229.487 1433.67 Q225.875 1433.67 224.047 1437.24 Q222.241 1440.78 222.241 1447.91 Q222.241 1455.01 224.047 1458.58 Q225.875 1462.12 229.487 1462.12 Q233.121 1462.12 234.926 1458.58 Q236.755 1455.01 236.755 1447.91 Q236.755 1440.78 234.926 1437.24 Q233.121 1433.67 229.487 1433.67 M229.487 1429.97 Q235.297 1429.97 238.352 1434.57 Q241.431 1439.16 241.431 1447.91 Q241.431 1456.63 238.352 1461.24 Q235.297 1465.82 229.487 1465.82 Q223.676 1465.82 220.598 1461.24 Q217.542 1456.63 217.542 1447.91 Q217.542 1439.16 220.598 1434.57 Q223.676 1429.97 229.487 1429.97 Z\" fill=\"#000000\" fill-rule=\"evenodd\" fill-opacity=\"1\" /><path clip-path=\"url(#clip600)\" d=\"M 0 0 M54.5569 1197.55 L62.1958 1197.55 L62.1958 1171.18 L53.8856 1172.85 L53.8856 1168.59 L62.1495 1166.92 L66.8254 1166.92 L66.8254 1197.55 L74.4642 1197.55 L74.4642 1201.48 L54.5569 1201.48 L54.5569 1197.55 Z\" fill=\"#000000\" fill-rule=\"evenodd\" fill-opacity=\"1\" /><path clip-path=\"url(#clip600)\" d=\"M 0 0 M83.9086 1195.6 L88.7928 1195.6 L88.7928 1201.48 L83.9086 1201.48 L83.9086 1195.6 Z\" fill=\"#000000\" fill-rule=\"evenodd\" fill-opacity=\"1\" /><path clip-path=\"url(#clip600)\" d=\"M 0 0 M108.978 1170 Q105.367 1170 103.538 1173.56 Q101.733 1177.11 101.733 1184.24 Q101.733 1191.34 103.538 1194.91 Q105.367 1198.45 108.978 1198.45 Q112.612 1198.45 114.418 1194.91 Q116.246 1191.34 116.246 1184.24 Q116.246 1177.11 114.418 1173.56 Q112.612 1170 108.978 1170 M108.978 1166.3 Q114.788 1166.3 117.844 1170.9 Q120.922 1175.49 120.922 1184.24 Q120.922 1192.96 117.844 1197.57 Q114.788 1202.15 108.978 1202.15 Q103.168 1202.15 100.089 1197.57 Q97.0335 1192.96 97.0335 1184.24 Q97.0335 1175.49 100.089 1170.9 Q103.168 1166.3 108.978 1166.3 Z\" fill=\"#000000\" fill-rule=\"evenodd\" fill-opacity=\"1\" /><path clip-path=\"url(#clip600)\" d=\"M 0 0 M157.311 1176.02 L146.732 1186.64 L157.311 1197.22 L154.556 1200.02 L143.931 1189.4 L133.306 1200.02 L130.575 1197.22 L141.131 1186.64 L130.575 1176.02 L133.306 1173.22 L143.931 1183.84 L154.556 1173.22 L157.311 1176.02 Z\" fill=\"#000000\" fill-rule=\"evenodd\" fill-opacity=\"1\" /><path clip-path=\"url(#clip600)\" d=\"M 0 0 M169.672 1197.55 L177.311 1197.55 L177.311 1171.18 L169.001 1172.85 L169.001 1168.59 L177.265 1166.92 L181.94 1166.92 L181.94 1197.55 L189.579 1197.55 L189.579 1201.48 L169.672 1201.48 L169.672 1197.55 Z\" fill=\"#000000\" fill-rule=\"evenodd\" fill-opacity=\"1\" /><path clip-path=\"url(#clip600)\" d=\"M 0 0 M209.024 1170 Q205.413 1170 203.584 1173.56 Q201.778 1177.11 201.778 1184.24 Q201.778 1191.34 203.584 1194.91 Q205.413 1198.45 209.024 1198.45 Q212.658 1198.45 214.463 1194.91 Q216.292 1191.34 216.292 1184.24 Q216.292 1177.11 214.463 1173.56 Q212.658 1170 209.024 1170 M209.024 1166.3 Q214.834 1166.3 217.889 1170.9 Q220.968 1175.49 220.968 1184.24 Q220.968 1192.96 217.889 1197.57 Q214.834 1202.15 209.024 1202.15 Q203.214 1202.15 200.135 1197.57 Q197.079 1192.96 197.079 1184.24 Q197.079 1175.49 200.135 1170.9 Q203.214 1166.3 209.024 1166.3 Z\" fill=\"#000000\" fill-rule=\"evenodd\" fill-opacity=\"1\" /><path clip-path=\"url(#clip600)\" d=\"M 0 0 M233.645 1149.3 L224.053 1164.29 L233.645 1164.29 L233.645 1149.3 M232.648 1145.99 L237.425 1145.99 L237.425 1164.29 L241.431 1164.29 L241.431 1167.45 L237.425 1167.45 L237.425 1174.07 L233.645 1174.07 L233.645 1167.45 L220.968 1167.45 L220.968 1163.78 L232.648 1145.99 Z\" fill=\"#000000\" fill-rule=\"evenodd\" fill-opacity=\"1\" /><path clip-path=\"url(#clip600)\" d=\"M 0 0 M57.7745 927.425 L74.0939 927.425 L74.0939 931.36 L52.1495 931.36 L52.1495 927.425 Q54.8115 924.671 59.3949 920.041 Q64.0013 915.388 65.1819 914.046 Q67.4272 911.522 68.3068 909.786 Q69.2096 908.027 69.2096 906.337 Q69.2096 903.583 67.2652 901.847 Q65.3439 900.11 62.2421 900.11 Q60.043 900.11 57.5893 900.874 Q55.1588 901.638 52.381 903.189 L52.381 898.467 Q55.2051 897.333 57.6588 896.754 Q60.1124 896.175 62.1495 896.175 Q67.5198 896.175 70.7142 898.86 Q73.9087 901.546 73.9087 906.036 Q73.9087 908.166 73.0985 910.087 Q72.3115 911.985 70.205 914.578 Q69.6263 915.249 66.5245 918.467 Q63.4226 921.661 57.7745 927.425 Z\" fill=\"#000000\" fill-rule=\"evenodd\" fill-opacity=\"1\" /><path clip-path=\"url(#clip600)\" d=\"M 0 0 M83.9086 925.481 L88.7928 925.481 L88.7928 931.36 L83.9086 931.36 L83.9086 925.481 Z\" fill=\"#000000\" fill-rule=\"evenodd\" fill-opacity=\"1\" /><path clip-path=\"url(#clip600)\" d=\"M 0 0 M108.978 899.879 Q105.367 899.879 103.538 903.444 Q101.733 906.985 101.733 914.115 Q101.733 921.221 103.538 924.786 Q105.367 928.328 108.978 928.328 Q112.612 928.328 114.418 924.786 Q116.246 921.221 116.246 914.115 Q116.246 906.985 114.418 903.444 Q112.612 899.879 108.978 899.879 M108.978 896.175 Q114.788 896.175 117.844 900.782 Q120.922 905.365 120.922 914.115 Q120.922 922.842 117.844 927.448 Q114.788 932.032 108.978 932.032 Q103.168 932.032 100.089 927.448 Q97.0335 922.842 97.0335 914.115 Q97.0335 905.365 100.089 900.782 Q103.168 896.175 108.978 896.175 Z\" fill=\"#000000\" fill-rule=\"evenodd\" fill-opacity=\"1\" /><path clip-path=\"url(#clip600)\" d=\"M 0 0 M157.311 905.897 L146.732 916.522 L157.311 927.101 L154.556 929.902 L143.931 919.277 L133.306 929.902 L130.575 927.101 L141.131 916.522 L130.575 905.897 L133.306 903.097 L143.931 913.721 L154.556 903.097 L157.311 905.897 Z\" fill=\"#000000\" fill-rule=\"evenodd\" fill-opacity=\"1\" /><path clip-path=\"url(#clip600)\" d=\"M 0 0 M169.672 927.425 L177.311 927.425 L177.311 901.06 L169.001 902.726 L169.001 898.467 L177.265 896.8 L181.94 896.8 L181.94 927.425 L189.579 927.425 L189.579 931.36 L169.672 931.36 L169.672 927.425 Z\" fill=\"#000000\" fill-rule=\"evenodd\" fill-opacity=\"1\" /><path clip-path=\"url(#clip600)\" d=\"M 0 0 M209.024 899.879 Q205.413 899.879 203.584 903.444 Q201.778 906.985 201.778 914.115 Q201.778 921.221 203.584 924.786 Q205.413 928.328 209.024 928.328 Q212.658 928.328 214.463 924.786 Q216.292 921.221 216.292 914.115 Q216.292 906.985 214.463 903.444 Q212.658 899.879 209.024 899.879 M209.024 896.175 Q214.834 896.175 217.889 900.782 Q220.968 905.365 220.968 914.115 Q220.968 922.842 217.889 927.448 Q214.834 932.032 209.024 932.032 Q203.214 932.032 200.135 927.448 Q197.079 922.842 197.079 914.115 Q197.079 905.365 200.135 900.782 Q203.214 896.175 209.024 896.175 Z\" fill=\"#000000\" fill-rule=\"evenodd\" fill-opacity=\"1\" /><path clip-path=\"url(#clip600)\" d=\"M 0 0 M233.645 879.18 L224.053 894.17 L233.645 894.17 L233.645 879.18 M232.648 875.87 L237.425 875.87 L237.425 894.17 L241.431 894.17 L241.431 897.33 L237.425 897.33 L237.425 903.95 L233.645 903.95 L233.645 897.33 L220.968 897.33 L220.968 893.662 L232.648 875.87 Z\" fill=\"#000000\" fill-rule=\"evenodd\" fill-opacity=\"1\" /><path clip-path=\"url(#clip600)\" d=\"M 0 0 M67.9133 642.606 Q71.2698 643.324 73.1448 645.592 Q75.0429 647.861 75.0429 651.194 Q75.0429 656.31 71.5244 659.11 Q68.0059 661.911 61.5245 661.911 Q59.3486 661.911 57.0338 661.472 Q54.7421 661.055 52.2884 660.198 L52.2884 655.685 Q54.2328 656.819 56.5477 657.398 Q58.8625 657.976 61.3856 657.976 Q65.7837 657.976 68.0754 656.24 Q70.3902 654.504 70.3902 651.194 Q70.3902 648.138 68.2374 646.425 Q66.1078 644.689 62.2884 644.689 L58.2606 644.689 L58.2606 640.847 L62.4735 640.847 Q65.9226 640.847 67.7513 639.481 Q69.58 638.092 69.58 635.499 Q69.58 632.837 67.6819 631.425 Q65.8069 629.99 62.2884 629.99 Q60.3671 629.99 58.168 630.407 Q55.969 630.824 53.3301 631.703 L53.3301 627.537 Q55.9921 626.796 58.3069 626.425 Q60.6449 626.055 62.705 626.055 Q68.0291 626.055 71.1309 628.486 Q74.2327 630.893 74.2327 635.013 Q74.2327 637.884 72.5892 639.874 Q70.9457 641.842 67.9133 642.606 Z\" fill=\"#000000\" fill-rule=\"evenodd\" fill-opacity=\"1\" /><path clip-path=\"url(#clip600)\" d=\"M 0 0 M83.9086 655.36 L88.7928 655.36 L88.7928 661.24 L83.9086 661.24 L83.9086 655.36 Z\" fill=\"#000000\" fill-rule=\"evenodd\" fill-opacity=\"1\" /><path clip-path=\"url(#clip600)\" d=\"M 0 0 M108.978 629.759 Q105.367 629.759 103.538 633.324 Q101.733 636.865 101.733 643.995 Q101.733 651.101 103.538 654.666 Q105.367 658.208 108.978 658.208 Q112.612 658.208 114.418 654.666 Q116.246 651.101 116.246 643.995 Q116.246 636.865 114.418 633.324 Q112.612 629.759 108.978 629.759 M108.978 626.055 Q114.788 626.055 117.844 630.662 Q120.922 635.245 120.922 643.995 Q120.922 652.722 117.844 657.328 Q114.788 661.911 108.978 661.911 Q103.168 661.911 100.089 657.328 Q97.0335 652.722 97.0335 643.995 Q97.0335 635.245 100.089 630.662 Q103.168 626.055 108.978 626.055 Z\" fill=\"#000000\" fill-rule=\"evenodd\" fill-opacity=\"1\" /><path clip-path=\"url(#clip600)\" d=\"M 0 0 M157.311 635.777 L146.732 646.402 L157.311 656.981 L154.556 659.782 L143.931 649.157 L133.306 659.782 L130.575 656.981 L141.131 646.402 L130.575 635.777 L133.306 632.976 L143.931 643.601 L154.556 632.976 L157.311 635.777 Z\" fill=\"#000000\" fill-rule=\"evenodd\" fill-opacity=\"1\" /><path clip-path=\"url(#clip600)\" d=\"M 0 0 M169.672 657.305 L177.311 657.305 L177.311 630.939 L169.001 632.606 L169.001 628.347 L177.265 626.68 L181.94 626.68 L181.94 657.305 L189.579 657.305 L189.579 661.24 L169.672 661.24 L169.672 657.305 Z\" fill=\"#000000\" fill-rule=\"evenodd\" fill-opacity=\"1\" /><path clip-path=\"url(#clip600)\" d=\"M 0 0 M209.024 629.759 Q205.413 629.759 203.584 633.324 Q201.778 636.865 201.778 643.995 Q201.778 651.101 203.584 654.666 Q205.413 658.208 209.024 658.208 Q212.658 658.208 214.463 654.666 Q216.292 651.101 216.292 643.995 Q216.292 636.865 214.463 633.324 Q212.658 629.759 209.024 629.759 M209.024 626.055 Q214.834 626.055 217.889 630.662 Q220.968 635.245 220.968 643.995 Q220.968 652.722 217.889 657.328 Q214.834 661.911 209.024 661.911 Q203.214 661.911 200.135 657.328 Q197.079 652.722 197.079 643.995 Q197.079 635.245 200.135 630.662 Q203.214 626.055 209.024 626.055 Z\" fill=\"#000000\" fill-rule=\"evenodd\" fill-opacity=\"1\" /><path clip-path=\"url(#clip600)\" d=\"M 0 0 M233.645 609.06 L224.053 624.05 L233.645 624.05 L233.645 609.06 M232.648 605.75 L237.425 605.75 L237.425 624.05 L241.431 624.05 L241.431 627.209 L237.425 627.209 L237.425 633.83 L233.645 633.83 L233.645 627.209 L220.968 627.209 L220.968 623.542 L232.648 605.75 Z\" fill=\"#000000\" fill-rule=\"evenodd\" fill-opacity=\"1\" /><path clip-path=\"url(#clip600)\" d=\"M 0 0 M66.5939 360.634 L54.7884 379.083 L66.5939 379.083 L66.5939 360.634 M65.367 356.56 L71.2466 356.56 L71.2466 379.083 L76.1772 379.083 L76.1772 382.972 L71.2466 382.972 L71.2466 391.12 L66.5939 391.12 L66.5939 382.972 L50.9921 382.972 L50.9921 378.458 L65.367 356.56 Z\" fill=\"#000000\" fill-rule=\"evenodd\" fill-opacity=\"1\" /><path clip-path=\"url(#clip600)\" d=\"M 0 0 M83.9086 385.24 L88.7928 385.24 L88.7928 391.12 L83.9086 391.12 L83.9086 385.24 Z\" fill=\"#000000\" fill-rule=\"evenodd\" fill-opacity=\"1\" /><path clip-path=\"url(#clip600)\" d=\"M 0 0 M108.978 359.639 Q105.367 359.639 103.538 363.203 Q101.733 366.745 101.733 373.875 Q101.733 380.981 103.538 384.546 Q105.367 388.087 108.978 388.087 Q112.612 388.087 114.418 384.546 Q116.246 380.981 116.246 373.875 Q116.246 366.745 114.418 363.203 Q112.612 359.639 108.978 359.639 M108.978 355.935 Q114.788 355.935 117.844 360.541 Q120.922 365.125 120.922 373.875 Q120.922 382.601 117.844 387.208 Q114.788 391.791 108.978 391.791 Q103.168 391.791 100.089 387.208 Q97.0335 382.601 97.0335 373.875 Q97.0335 365.125 100.089 360.541 Q103.168 355.935 108.978 355.935 Z\" fill=\"#000000\" fill-rule=\"evenodd\" fill-opacity=\"1\" /><path clip-path=\"url(#clip600)\" d=\"M 0 0 M157.311 365.657 L146.732 376.282 L157.311 386.861 L154.556 389.662 L143.931 379.037 L133.306 389.662 L130.575 386.861 L141.131 376.282 L130.575 365.657 L133.306 362.856 L143.931 373.481 L154.556 362.856 L157.311 365.657 Z\" fill=\"#000000\" fill-rule=\"evenodd\" fill-opacity=\"1\" /><path clip-path=\"url(#clip600)\" d=\"M 0 0 M169.672 387.185 L177.311 387.185 L177.311 360.819 L169.001 362.486 L169.001 358.227 L177.265 356.56 L181.94 356.56 L181.94 387.185 L189.579 387.185 L189.579 391.12 L169.672 391.12 L169.672 387.185 Z\" fill=\"#000000\" fill-rule=\"evenodd\" fill-opacity=\"1\" /><path clip-path=\"url(#clip600)\" d=\"M 0 0 M209.024 359.639 Q205.413 359.639 203.584 363.203 Q201.778 366.745 201.778 373.875 Q201.778 380.981 203.584 384.546 Q205.413 388.087 209.024 388.087 Q212.658 388.087 214.463 384.546 Q216.292 380.981 216.292 373.875 Q216.292 366.745 214.463 363.203 Q212.658 359.639 209.024 359.639 M209.024 355.935 Q214.834 355.935 217.889 360.541 Q220.968 365.125 220.968 373.875 Q220.968 382.601 217.889 387.208 Q214.834 391.791 209.024 391.791 Q203.214 391.791 200.135 387.208 Q197.079 382.601 197.079 373.875 Q197.079 365.125 200.135 360.541 Q203.214 355.935 209.024 355.935 Z\" fill=\"#000000\" fill-rule=\"evenodd\" fill-opacity=\"1\" /><path clip-path=\"url(#clip600)\" d=\"M 0 0 M233.645 338.94 L224.053 353.929 L233.645 353.929 L233.645 338.94 M232.648 335.629 L237.425 335.629 L237.425 353.929 L241.431 353.929 L241.431 357.089 L237.425 357.089 L237.425 363.709 L233.645 363.709 L233.645 357.089 L220.968 357.089 L220.968 353.422 L232.648 335.629 Z\" fill=\"#000000\" fill-rule=\"evenodd\" fill-opacity=\"1\" /><path clip-path=\"url(#clip600)\" d=\"M 0 0 M674.544 43.6931 L674.544 65.8515 L687.669 65.8515 Q694.272 65.8515 697.432 63.1374 Q700.632 60.3828 700.632 54.752 Q700.632 49.0808 697.432 46.4072 Q694.272 43.6931 687.669 43.6931 L674.544 43.6931 M674.544 18.8205 L674.544 37.0496 L686.656 37.0496 Q692.652 37.0496 695.568 34.8216 Q698.526 32.5531 698.526 27.935 Q698.526 23.3575 695.568 21.089 Q692.652 18.8205 686.656 18.8205 L674.544 18.8205 M666.361 12.096 L687.264 12.096 Q696.622 12.096 701.685 15.9849 Q706.749 19.8737 706.749 27.0438 Q706.749 32.5936 704.156 35.8748 Q701.564 39.156 696.541 39.9662 Q702.576 41.2625 705.898 45.3944 Q709.26 49.4858 709.26 55.6432 Q709.26 63.745 703.751 68.1605 Q698.242 72.576 688.074 72.576 L666.361 72.576 L666.361 12.096 Z\" fill=\"#000000\" fill-rule=\"evenodd\" fill-opacity=\"1\" /><path clip-path=\"url(#clip600)\" d=\"M 0 0 M761.76 48.0275 L761.76 51.6733 L727.49 51.6733 Q727.976 59.3701 732.108 63.421 Q736.28 67.4314 743.693 67.4314 Q747.987 67.4314 751.997 66.3781 Q756.048 65.3249 760.018 63.2184 L760.018 70.267 Q756.008 71.9684 751.795 72.8596 Q747.582 73.7508 743.248 73.7508 Q732.391 73.7508 726.031 67.4314 Q719.712 61.1119 719.712 50.3365 Q719.712 39.1965 725.707 32.6746 Q731.743 26.1121 741.951 26.1121 Q751.106 26.1121 756.413 32.0264 Q761.76 37.9003 761.76 48.0275 M754.306 45.84 Q754.225 39.7232 750.863 36.0774 Q747.541 32.4315 742.032 32.4315 Q735.794 32.4315 732.027 35.9558 Q728.3 39.4801 727.733 45.8805 L754.306 45.84 Z\" fill=\"#000000\" fill-rule=\"evenodd\" fill-opacity=\"1\" /><path clip-path=\"url(#clip600)\" d=\"M 0 0 M800.284 34.1734 Q799.028 33.4443 797.53 33.1202 Q796.071 32.7556 794.289 32.7556 Q787.97 32.7556 784.567 36.8875 Q781.204 40.9789 781.204 48.6757 L781.204 72.576 L773.71 72.576 L773.71 27.2059 L781.204 27.2059 L781.204 34.2544 Q783.554 30.1225 787.321 28.1376 Q791.089 26.1121 796.476 26.1121 Q797.246 26.1121 798.178 26.2337 Q799.109 26.3147 800.244 26.5172 L800.284 34.1734 Z\" fill=\"#000000\" fill-rule=\"evenodd\" fill-opacity=\"1\" /><path clip-path=\"url(#clip600)\" d=\"M 0 0 M808.102 9.54393 L815.556 9.54393 L815.556 72.576 L808.102 72.576 L808.102 9.54393 Z\" fill=\"#000000\" fill-rule=\"evenodd\" fill-opacity=\"1\" /><path clip-path=\"url(#clip600)\" d=\"M 0 0 M831.152 27.2059 L838.606 27.2059 L838.606 72.576 L831.152 72.576 L831.152 27.2059 M831.152 9.54393 L838.606 9.54393 L838.606 18.9825 L831.152 18.9825 L831.152 9.54393 Z\" fill=\"#000000\" fill-rule=\"evenodd\" fill-opacity=\"1\" /><path clip-path=\"url(#clip600)\" d=\"M 0 0 M891.916 45.1919 L891.916 72.576 L884.462 72.576 L884.462 45.4349 Q884.462 38.994 881.95 35.7938 Q879.439 32.5936 874.416 32.5936 Q868.38 32.5936 864.896 36.4419 Q861.412 40.2903 861.412 46.9338 L861.412 72.576 L853.918 72.576 L853.918 27.2059 L861.412 27.2059 L861.412 34.2544 Q864.086 30.163 867.691 28.1376 Q871.337 26.1121 876.077 26.1121 Q883.895 26.1121 887.905 30.9732 Q891.916 35.7938 891.916 45.1919 Z\" fill=\"#000000\" fill-rule=\"evenodd\" fill-opacity=\"1\" /><path clip-path=\"url(#clip600)\" d=\"M 0 0 M941.256 86.3491 L941.256 92.1419 L898.154 92.1419 L898.154 86.3491 L941.256 86.3491 Z\" fill=\"#000000\" fill-rule=\"evenodd\" fill-opacity=\"1\" /><path clip-path=\"url(#clip600)\" d=\"M 0 0 M955.636 14.324 L955.636 27.2059 L970.989 27.2059 L970.989 32.9987 L955.636 32.9987 L955.636 57.6282 Q955.636 63.1779 957.135 64.7578 Q958.675 66.3376 963.333 66.3376 L970.989 66.3376 L970.989 72.576 L963.333 72.576 Q954.705 72.576 951.423 69.3758 Q948.142 66.1351 948.142 57.6282 L948.142 32.9987 L942.674 32.9987 L942.674 27.2059 L948.142 27.2059 L948.142 14.324 L955.636 14.324 Z\" fill=\"#000000\" fill-rule=\"evenodd\" fill-opacity=\"1\" /><path clip-path=\"url(#clip600)\" d=\"M 0 0 M1007.08 34.1734 Q1005.83 33.4443 1004.33 33.1202 Q1002.87 32.7556 1001.09 32.7556 Q994.768 32.7556 991.365 36.8875 Q988.003 40.9789 988.003 48.6757 L988.003 72.576 L980.509 72.576 L980.509 27.2059 L988.003 27.2059 L988.003 34.2544 Q990.353 30.1225 994.12 28.1376 Q997.887 26.1121 1003.28 26.1121 Q1004.04 26.1121 1004.98 26.2337 Q1005.91 26.3147 1007.04 26.5172 L1007.08 34.1734 Z\" fill=\"#000000\" fill-rule=\"evenodd\" fill-opacity=\"1\" /><path clip-path=\"url(#clip600)\" d=\"M 0 0 M1035.52 49.7694 Q1026.49 49.7694 1023 51.8354 Q1019.52 53.9013 1019.52 58.8839 Q1019.52 62.8538 1022.11 65.2034 Q1024.74 67.5124 1029.24 67.5124 Q1035.44 67.5124 1039.17 63.1374 Q1042.93 58.7219 1042.93 51.4303 L1042.93 49.7694 L1035.52 49.7694 M1050.39 46.6907 L1050.39 72.576 L1042.93 72.576 L1042.93 65.6895 Q1040.38 69.8214 1036.57 71.8063 Q1032.77 73.7508 1027.26 73.7508 Q1020.29 73.7508 1016.16 69.8619 Q1012.07 65.9325 1012.07 59.3701 Q1012.07 51.7138 1017.17 47.825 Q1022.31 43.9361 1032.48 43.9361 L1042.93 43.9361 L1042.93 43.2069 Q1042.93 38.0623 1039.53 35.2672 Q1036.17 32.4315 1030.05 32.4315 Q1026.16 32.4315 1022.48 33.3632 Q1018.79 34.295 1015.39 36.1584 L1015.39 29.2718 Q1019.48 27.692 1023.33 26.9223 Q1027.18 26.1121 1030.82 26.1121 Q1040.66 26.1121 1045.53 31.2163 Q1050.39 36.3204 1050.39 46.6907 Z\" fill=\"#000000\" fill-rule=\"evenodd\" fill-opacity=\"1\" /><path clip-path=\"url(#clip600)\" d=\"M 0 0 M1065.74 27.2059 L1073.19 27.2059 L1073.19 72.576 L1065.74 72.576 L1065.74 27.2059 M1065.74 9.54393 L1073.19 9.54393 L1073.19 18.9825 L1065.74 18.9825 L1065.74 9.54393 Z\" fill=\"#000000\" fill-rule=\"evenodd\" fill-opacity=\"1\" /><path clip-path=\"url(#clip600)\" d=\"M 0 0 M1126.5 45.1919 L1126.5 72.576 L1119.05 72.576 L1119.05 45.4349 Q1119.05 38.994 1116.54 35.7938 Q1114.03 32.5936 1109 32.5936 Q1102.97 32.5936 1099.48 36.4419 Q1096 40.2903 1096 46.9338 L1096 72.576 L1088.51 72.576 L1088.51 27.2059 L1096 27.2059 L1096 34.2544 Q1098.67 30.163 1102.28 28.1376 Q1105.92 26.1121 1110.66 26.1121 Q1118.48 26.1121 1122.49 30.9732 Q1126.5 35.7938 1126.5 45.1919 Z\" fill=\"#000000\" fill-rule=\"evenodd\" fill-opacity=\"1\" /><path clip-path=\"url(#clip600)\" d=\"M 0 0 M1185.65 9.62495 Q1180.22 18.942 1177.59 28.0566 Q1174.95 37.1711 1174.95 46.5287 Q1174.95 55.8863 1177.59 65.0818 Q1180.26 74.2369 1185.65 83.5134 L1179.17 83.5134 Q1173.09 73.9938 1170.05 64.7983 Q1167.05 55.6027 1167.05 46.5287 Q1167.05 37.4952 1170.05 28.3401 Q1173.05 19.1851 1179.17 9.62495 L1185.65 9.62495 Z\" fill=\"#000000\" fill-rule=\"evenodd\" fill-opacity=\"1\" /><path clip-path=\"url(#clip600)\" d=\"M 0 0 M1208.21 65.6895 L1236.77 65.6895 L1236.77 72.576 L1198.37 72.576 L1198.37 65.6895 Q1203.03 60.8689 1211.05 52.7671 Q1219.11 44.6248 1221.17 42.2752 Q1225.1 37.8598 1226.64 34.8216 Q1228.22 31.7429 1228.22 28.7857 Q1228.22 23.9651 1224.82 20.927 Q1221.46 17.8888 1216.03 17.8888 Q1212.18 17.8888 1207.89 19.2256 Q1203.63 20.5624 1198.77 23.2765 L1198.77 15.0127 Q1203.71 13.0277 1208.01 12.015 Q1212.3 11.0023 1215.87 11.0023 Q1225.26 11.0023 1230.85 15.7013 Q1236.45 20.4004 1236.45 28.2591 Q1236.45 31.9859 1235.03 35.3482 Q1233.65 38.6699 1229.96 43.2069 Q1228.95 44.3817 1223.52 50.0125 Q1218.09 55.6027 1208.21 65.6895 Z\" fill=\"#000000\" fill-rule=\"evenodd\" fill-opacity=\"1\" /><path clip-path=\"url(#clip600)\" d=\"M 0 0 M1271.44 17.4837 Q1265.13 17.4837 1261.93 23.7221 Q1258.77 29.92 1258.77 42.3968 Q1258.77 54.833 1261.93 61.0714 Q1265.13 67.2693 1271.44 67.2693 Q1277.8 67.2693 1280.96 61.0714 Q1284.16 54.833 1284.16 42.3968 Q1284.16 29.92 1280.96 23.7221 Q1277.8 17.4837 1271.44 17.4837 M1271.44 11.0023 Q1281.61 11.0023 1286.96 19.0636 Q1292.35 27.0843 1292.35 42.3968 Q1292.35 57.6687 1286.96 65.73 Q1281.61 73.7508 1271.44 73.7508 Q1261.28 73.7508 1255.89 65.73 Q1250.54 57.6687 1250.54 42.3968 Q1250.54 27.0843 1255.89 19.0636 Q1261.28 11.0023 1271.44 11.0023 Z\" fill=\"#000000\" fill-rule=\"evenodd\" fill-opacity=\"1\" /><path clip-path=\"url(#clip600)\" d=\"M 0 0 M1324.23 17.4837 Q1317.91 17.4837 1314.71 23.7221 Q1311.55 29.92 1311.55 42.3968 Q1311.55 54.833 1314.71 61.0714 Q1317.91 67.2693 1324.23 67.2693 Q1330.59 67.2693 1333.75 61.0714 Q1336.95 54.833 1336.95 42.3968 Q1336.95 29.92 1333.75 23.7221 Q1330.59 17.4837 1324.23 17.4837 M1324.23 11.0023 Q1334.4 11.0023 1339.74 19.0636 Q1345.13 27.0843 1345.13 42.3968 Q1345.13 57.6687 1339.74 65.73 Q1334.4 73.7508 1324.23 73.7508 Q1314.06 73.7508 1308.67 65.73 Q1303.33 57.6687 1303.33 42.3968 Q1303.33 27.0843 1308.67 19.0636 Q1314.06 11.0023 1324.23 11.0023 Z\" fill=\"#000000\" fill-rule=\"evenodd\" fill-opacity=\"1\" /><path clip-path=\"url(#clip600)\" d=\"M 0 0 M1381.99 19.2256 L1361.33 51.5113 L1381.99 51.5113 L1381.99 19.2256 M1379.85 12.096 L1390.14 12.096 L1390.14 51.5113 L1398.76 51.5113 L1398.76 58.3168 L1390.14 58.3168 L1390.14 72.576 L1381.99 72.576 L1381.99 58.3168 L1354.69 58.3168 L1354.69 50.4176 L1379.85 12.096 Z\" fill=\"#000000\" fill-rule=\"evenodd\" fill-opacity=\"1\" /><path clip-path=\"url(#clip600)\" d=\"M 0 0 M1445.71 86.3491 L1445.71 92.1419 L1402.61 92.1419 L1402.61 86.3491 L1445.71 86.3491 Z\" fill=\"#000000\" fill-rule=\"evenodd\" fill-opacity=\"1\" /><path clip-path=\"url(#clip600)\" d=\"M 0 0 M1471.28 17.4837 Q1464.96 17.4837 1461.76 23.7221 Q1458.6 29.92 1458.6 42.3968 Q1458.6 54.833 1461.76 61.0714 Q1464.96 67.2693 1471.28 67.2693 Q1477.64 67.2693 1480.8 61.0714 Q1484 54.833 1484 42.3968 Q1484 29.92 1480.8 23.7221 Q1477.64 17.4837 1471.28 17.4837 M1471.28 11.0023 Q1481.44 11.0023 1486.79 19.0636 Q1492.18 27.0843 1492.18 42.3968 Q1492.18 57.6687 1486.79 65.73 Q1481.44 73.7508 1471.28 73.7508 Q1461.11 73.7508 1455.72 65.73 Q1450.37 57.6687 1450.37 42.3968 Q1450.37 27.0843 1455.72 19.0636 Q1461.11 11.0023 1471.28 11.0023 Z\" fill=\"#000000\" fill-rule=\"evenodd\" fill-opacity=\"1\" /><path clip-path=\"url(#clip600)\" d=\"M 0 0 M1513.61 65.6895 L1542.17 65.6895 L1542.17 72.576 L1503.76 72.576 L1503.76 65.6895 Q1508.42 60.8689 1516.44 52.7671 Q1524.5 44.6248 1526.57 42.2752 Q1530.5 37.8598 1532.04 34.8216 Q1533.62 31.7429 1533.62 28.7857 Q1533.62 23.9651 1530.22 20.927 Q1526.85 17.8888 1521.43 17.8888 Q1517.58 17.8888 1513.28 19.2256 Q1509.03 20.5624 1504.17 23.2765 L1504.17 15.0127 Q1509.11 13.0277 1513.41 12.015 Q1517.7 11.0023 1521.26 11.0023 Q1530.66 11.0023 1536.25 15.7013 Q1541.84 20.4004 1541.84 28.2591 Q1541.84 31.9859 1540.42 35.3482 Q1539.05 38.6699 1535.36 43.2069 Q1534.35 44.3817 1528.92 50.0125 Q1523.49 55.6027 1513.61 65.6895 Z\" fill=\"#000000\" fill-rule=\"evenodd\" fill-opacity=\"1\" /><path clip-path=\"url(#clip600)\" d=\"M 0 0 M1554.52 46.5287 L1576.36 46.5287 L1576.36 53.1722 L1554.52 53.1722 L1554.52 46.5287 Z\" fill=\"#000000\" fill-rule=\"evenodd\" fill-opacity=\"1\" /><path clip-path=\"url(#clip600)\" d=\"M 0 0 M1596.33 65.6895 L1624.89 65.6895 L1624.89 72.576 L1586.48 72.576 L1586.48 65.6895 Q1591.14 60.8689 1599.16 52.7671 Q1607.22 44.6248 1609.29 42.2752 Q1613.22 37.8598 1614.76 34.8216 Q1616.34 31.7429 1616.34 28.7857 Q1616.34 23.9651 1612.94 20.927 Q1609.57 17.8888 1604.15 17.8888 Q1600.3 17.8888 1596 19.2256 Q1591.75 20.5624 1586.89 23.2765 L1586.89 15.0127 Q1591.83 13.0277 1596.12 12.015 Q1600.42 11.0023 1603.98 11.0023 Q1613.38 11.0023 1618.97 15.7013 Q1624.56 20.4004 1624.56 28.2591 Q1624.56 31.9859 1623.14 35.3482 Q1621.77 38.6699 1618.08 43.2069 Q1617.07 44.3817 1611.64 50.0125 Q1606.21 55.6027 1596.33 65.6895 Z\" fill=\"#000000\" fill-rule=\"evenodd\" fill-opacity=\"1\" /><path clip-path=\"url(#clip600)\" d=\"M 0 0 M1659.56 17.4837 Q1653.24 17.4837 1650.04 23.7221 Q1646.88 29.92 1646.88 42.3968 Q1646.88 54.833 1650.04 61.0714 Q1653.24 67.2693 1659.56 67.2693 Q1665.92 67.2693 1669.08 61.0714 Q1672.28 54.833 1672.28 42.3968 Q1672.28 29.92 1669.08 23.7221 Q1665.92 17.4837 1659.56 17.4837 M1659.56 11.0023 Q1669.73 11.0023 1675.08 19.0636 Q1680.46 27.0843 1680.46 42.3968 Q1680.46 57.6687 1675.08 65.73 Q1669.73 73.7508 1659.56 73.7508 Q1649.39 73.7508 1644.01 65.73 Q1638.66 57.6687 1638.66 42.3968 Q1638.66 27.0843 1644.01 19.0636 Q1649.39 11.0023 1659.56 11.0023 Z\" fill=\"#000000\" fill-rule=\"evenodd\" fill-opacity=\"1\" /><path clip-path=\"url(#clip600)\" d=\"M 0 0 M1696.26 65.6895 L1709.63 65.6895 L1709.63 19.5497 L1695.09 22.4663 L1695.09 15.0127 L1709.55 12.096 L1717.73 12.096 L1717.73 65.6895 L1731.1 65.6895 L1731.1 72.576 L1696.26 72.576 L1696.26 65.6895 Z\" fill=\"#000000\" fill-rule=\"evenodd\" fill-opacity=\"1\" /><path clip-path=\"url(#clip600)\" d=\"M 0 0 M1765.13 43.8551 Q1759.3 43.8551 1755.93 46.9743 Q1752.61 50.0935 1752.61 55.5622 Q1752.61 61.0309 1755.93 64.1501 Q1759.3 67.2693 1765.13 67.2693 Q1770.96 67.2693 1774.32 64.1501 Q1777.69 60.9904 1777.69 55.5622 Q1777.69 50.0935 1774.32 46.9743 Q1771 43.8551 1765.13 43.8551 M1756.95 40.3713 Q1751.68 39.075 1748.72 35.4697 Q1745.81 31.8644 1745.81 26.6793 Q1745.81 19.4281 1750.95 15.2152 Q1756.14 11.0023 1765.13 11.0023 Q1774.16 11.0023 1779.31 15.2152 Q1784.45 19.4281 1784.45 26.6793 Q1784.45 31.8644 1781.49 35.4697 Q1778.58 39.075 1773.35 40.3713 Q1779.27 41.7486 1782.55 45.759 Q1785.87 49.7694 1785.87 55.5622 Q1785.87 64.3527 1780.48 69.0517 Q1775.13 73.7508 1765.13 73.7508 Q1755.12 73.7508 1749.74 69.0517 Q1744.39 64.3527 1744.39 55.5622 Q1744.39 49.7694 1747.71 45.759 Q1751.03 41.7486 1756.95 40.3713 M1753.95 27.4489 Q1753.95 32.148 1756.86 34.7811 Q1759.82 37.4142 1765.13 37.4142 Q1770.39 37.4142 1773.35 34.7811 Q1776.35 32.148 1776.35 27.4489 Q1776.35 22.7499 1773.35 20.1168 Q1770.39 17.4837 1765.13 17.4837 Q1759.82 17.4837 1756.86 20.1168 Q1753.95 22.7499 1753.95 27.4489 Z\" fill=\"#000000\" fill-rule=\"evenodd\" fill-opacity=\"1\" /><path clip-path=\"url(#clip600)\" d=\"M 0 0 M1833.83 86.3491 L1833.83 92.1419 L1790.73 92.1419 L1790.73 86.3491 L1833.83 86.3491 Z\" fill=\"#000000\" fill-rule=\"evenodd\" fill-opacity=\"1\" /><path clip-path=\"url(#clip600)\" d=\"M 0 0 M1843.31 65.6895 L1856.68 65.6895 L1856.68 19.5497 L1842.14 22.4663 L1842.14 15.0127 L1856.6 12.096 L1864.78 12.096 L1864.78 65.6895 L1878.15 65.6895 L1878.15 72.576 L1843.31 72.576 L1843.31 65.6895 Z\" fill=\"#000000\" fill-rule=\"evenodd\" fill-opacity=\"1\" /><path clip-path=\"url(#clip600)\" d=\"M 0 0 M1901.73 65.6895 L1930.28 65.6895 L1930.28 72.576 L1891.88 72.576 L1891.88 65.6895 Q1896.54 60.8689 1904.56 52.7671 Q1912.62 44.6248 1914.69 42.2752 Q1918.62 37.8598 1920.16 34.8216 Q1921.74 31.7429 1921.74 28.7857 Q1921.74 23.9651 1918.33 20.927 Q1914.97 17.8888 1909.54 17.8888 Q1905.69 17.8888 1901.4 19.2256 Q1897.15 20.5624 1892.29 23.2765 L1892.29 15.0127 Q1897.23 13.0277 1901.52 12.015 Q1905.82 11.0023 1909.38 11.0023 Q1918.78 11.0023 1924.37 15.7013 Q1929.96 20.4004 1929.96 28.2591 Q1929.96 31.9859 1928.54 35.3482 Q1927.16 38.6699 1923.48 43.2069 Q1922.47 44.3817 1917.04 50.0125 Q1911.61 55.6027 1901.73 65.6895 Z\" fill=\"#000000\" fill-rule=\"evenodd\" fill-opacity=\"1\" /><path clip-path=\"url(#clip600)\" d=\"M 0 0 M1945.23 9.62495 L1951.71 9.62495 Q1957.79 19.1851 1960.79 28.3401 Q1963.83 37.4952 1963.83 46.5287 Q1963.83 55.6027 1960.79 64.7983 Q1957.79 73.9938 1951.71 83.5134 L1945.23 83.5134 Q1950.62 74.2369 1953.25 65.0818 Q1955.93 55.8863 1955.93 46.5287 Q1955.93 37.1711 1953.25 28.0566 Q1950.62 18.942 1945.23 9.62495 Z\" fill=\"#000000\" fill-rule=\"evenodd\" fill-opacity=\"1\" /><path clip-path=\"url(#clip602)\" d=\"\n",
       "M277.431 1447.87 L277.431 1447.87 L346.608 1447.87 L346.608 1447.87 L277.431 1447.87 L277.431 1447.87  Z\n",
       "  \" fill=\"#009af9\" fill-rule=\"evenodd\" fill-opacity=\"1\"/>\n",
       "<polyline clip-path=\"url(#clip602)\" style=\"stroke:#000000; stroke-width:4; stroke-opacity:1; fill:none\" points=\"\n",
       "  277.431,1447.87 277.431,1447.87 346.608,1447.87 277.431,1447.87 \n",
       "  \"/>\n",
       "<path clip-path=\"url(#clip602)\" d=\"\n",
       "M346.608 1447.87 L346.608 1447.87 L415.786 1447.87 L415.786 1447.87 L346.608 1447.87 L346.608 1447.87  Z\n",
       "  \" fill=\"#009af9\" fill-rule=\"evenodd\" fill-opacity=\"1\"/>\n",
       "<polyline clip-path=\"url(#clip602)\" style=\"stroke:#000000; stroke-width:4; stroke-opacity:1; fill:none\" points=\"\n",
       "  346.608,1447.87 346.608,1447.87 415.786,1447.87 346.608,1447.87 \n",
       "  \"/>\n",
       "<path clip-path=\"url(#clip602)\" d=\"\n",
       "M415.786 1447.39 L415.786 1447.87 L484.963 1447.87 L484.963 1447.39 L415.786 1447.39 L415.786 1447.39  Z\n",
       "  \" fill=\"#009af9\" fill-rule=\"evenodd\" fill-opacity=\"1\"/>\n",
       "<polyline clip-path=\"url(#clip602)\" style=\"stroke:#000000; stroke-width:4; stroke-opacity:1; fill:none\" points=\"\n",
       "  415.786,1447.39 415.786,1447.87 484.963,1447.87 484.963,1447.39 415.786,1447.39 \n",
       "  \"/>\n",
       "<path clip-path=\"url(#clip602)\" d=\"\n",
       "M484.963 1441.15 L484.963 1447.87 L554.141 1447.87 L554.141 1441.15 L484.963 1441.15 L484.963 1441.15  Z\n",
       "  \" fill=\"#009af9\" fill-rule=\"evenodd\" fill-opacity=\"1\"/>\n",
       "<polyline clip-path=\"url(#clip602)\" style=\"stroke:#000000; stroke-width:4; stroke-opacity:1; fill:none\" points=\"\n",
       "  484.963,1441.15 484.963,1447.87 554.141,1447.87 554.141,1441.15 484.963,1441.15 \n",
       "  \"/>\n",
       "<path clip-path=\"url(#clip602)\" d=\"\n",
       "M554.141 1385.61 L554.141 1447.87 L623.318 1447.87 L623.318 1385.61 L554.141 1385.61 L554.141 1385.61  Z\n",
       "  \" fill=\"#009af9\" fill-rule=\"evenodd\" fill-opacity=\"1\"/>\n",
       "<polyline clip-path=\"url(#clip602)\" style=\"stroke:#000000; stroke-width:4; stroke-opacity:1; fill:none\" points=\"\n",
       "  554.141,1385.61 554.141,1447.87 623.318,1447.87 623.318,1385.61 554.141,1385.61 \n",
       "  \"/>\n",
       "<path clip-path=\"url(#clip602)\" d=\"\n",
       "M623.318 1269.51 L623.318 1447.87 L692.496 1447.87 L692.496 1269.51 L623.318 1269.51 L623.318 1269.51  Z\n",
       "  \" fill=\"#009af9\" fill-rule=\"evenodd\" fill-opacity=\"1\"/>\n",
       "<polyline clip-path=\"url(#clip602)\" style=\"stroke:#000000; stroke-width:4; stroke-opacity:1; fill:none\" points=\"\n",
       "  623.318,1269.51 623.318,1447.87 692.496,1447.87 692.496,1269.51 623.318,1269.51 \n",
       "  \"/>\n",
       "<path clip-path=\"url(#clip602)\" d=\"\n",
       "M692.496 1266.19 L692.496 1447.87 L761.673 1447.87 L761.673 1266.19 L692.496 1266.19 L692.496 1266.19  Z\n",
       "  \" fill=\"#009af9\" fill-rule=\"evenodd\" fill-opacity=\"1\"/>\n",
       "<polyline clip-path=\"url(#clip602)\" style=\"stroke:#000000; stroke-width:4; stroke-opacity:1; fill:none\" points=\"\n",
       "  692.496,1266.19 692.496,1447.87 761.673,1447.87 761.673,1266.19 692.496,1266.19 \n",
       "  \"/>\n",
       "<path clip-path=\"url(#clip602)\" d=\"\n",
       "M761.673 1180.48 L761.673 1447.87 L830.851 1447.87 L830.851 1180.48 L761.673 1180.48 L761.673 1180.48  Z\n",
       "  \" fill=\"#009af9\" fill-rule=\"evenodd\" fill-opacity=\"1\"/>\n",
       "<polyline clip-path=\"url(#clip602)\" style=\"stroke:#000000; stroke-width:4; stroke-opacity:1; fill:none\" points=\"\n",
       "  761.673,1180.48 761.673,1447.87 830.851,1447.87 830.851,1180.48 761.673,1180.48 \n",
       "  \"/>\n",
       "<path clip-path=\"url(#clip602)\" d=\"\n",
       "M830.851 1129.75 L830.851 1447.87 L900.028 1447.87 L900.028 1129.75 L830.851 1129.75 L830.851 1129.75  Z\n",
       "  \" fill=\"#009af9\" fill-rule=\"evenodd\" fill-opacity=\"1\"/>\n",
       "<polyline clip-path=\"url(#clip602)\" style=\"stroke:#000000; stroke-width:4; stroke-opacity:1; fill:none\" points=\"\n",
       "  830.851,1129.75 830.851,1447.87 900.028,1447.87 900.028,1129.75 830.851,1129.75 \n",
       "  \"/>\n",
       "<path clip-path=\"url(#clip602)\" d=\"\n",
       "M900.028 1145.39 L900.028 1447.87 L969.206 1447.87 L969.206 1145.39 L900.028 1145.39 L900.028 1145.39  Z\n",
       "  \" fill=\"#009af9\" fill-rule=\"evenodd\" fill-opacity=\"1\"/>\n",
       "<polyline clip-path=\"url(#clip602)\" style=\"stroke:#000000; stroke-width:4; stroke-opacity:1; fill:none\" points=\"\n",
       "  900.028,1145.39 900.028,1447.87 969.206,1447.87 969.206,1145.39 900.028,1145.39 \n",
       "  \"/>\n",
       "<path clip-path=\"url(#clip602)\" d=\"\n",
       "M969.206 1171.51 L969.206 1447.87 L1038.38 1447.87 L1038.38 1171.51 L969.206 1171.51 L969.206 1171.51  Z\n",
       "  \" fill=\"#009af9\" fill-rule=\"evenodd\" fill-opacity=\"1\"/>\n",
       "<polyline clip-path=\"url(#clip602)\" style=\"stroke:#000000; stroke-width:4; stroke-opacity:1; fill:none\" points=\"\n",
       "  969.206,1171.51 969.206,1447.87 1038.38,1447.87 1038.38,1171.51 969.206,1171.51 \n",
       "  \"/>\n",
       "<path clip-path=\"url(#clip602)\" d=\"\n",
       "M1038.38 1210.55 L1038.38 1447.87 L1107.56 1447.87 L1107.56 1210.55 L1038.38 1210.55 L1038.38 1210.55  Z\n",
       "  \" fill=\"#009af9\" fill-rule=\"evenodd\" fill-opacity=\"1\"/>\n",
       "<polyline clip-path=\"url(#clip602)\" style=\"stroke:#000000; stroke-width:4; stroke-opacity:1; fill:none\" points=\"\n",
       "  1038.38,1210.55 1038.38,1447.87 1107.56,1447.87 1107.56,1210.55 1038.38,1210.55 \n",
       "  \"/>\n",
       "<path clip-path=\"url(#clip602)\" d=\"\n",
       "M1107.56 1212.73 L1107.56 1447.87 L1176.74 1447.87 L1176.74 1212.73 L1107.56 1212.73 L1107.56 1212.73  Z\n",
       "  \" fill=\"#009af9\" fill-rule=\"evenodd\" fill-opacity=\"1\"/>\n",
       "<polyline clip-path=\"url(#clip602)\" style=\"stroke:#000000; stroke-width:4; stroke-opacity:1; fill:none\" points=\"\n",
       "  1107.56,1212.73 1107.56,1447.87 1176.74,1447.87 1176.74,1212.73 1107.56,1212.73 \n",
       "  \"/>\n",
       "<path clip-path=\"url(#clip602)\" d=\"\n",
       "M1176.74 1232.37 L1176.74 1447.87 L1245.92 1447.87 L1245.92 1232.37 L1176.74 1232.37 L1176.74 1232.37  Z\n",
       "  \" fill=\"#009af9\" fill-rule=\"evenodd\" fill-opacity=\"1\"/>\n",
       "<polyline clip-path=\"url(#clip602)\" style=\"stroke:#000000; stroke-width:4; stroke-opacity:1; fill:none\" points=\"\n",
       "  1176.74,1232.37 1176.74,1447.87 1245.92,1447.87 1245.92,1232.37 1176.74,1232.37 \n",
       "  \"/>\n",
       "<path clip-path=\"url(#clip602)\" d=\"\n",
       "M1245.92 1273.94 L1245.92 1447.87 L1315.09 1447.87 L1315.09 1273.94 L1245.92 1273.94 L1245.92 1273.94  Z\n",
       "  \" fill=\"#009af9\" fill-rule=\"evenodd\" fill-opacity=\"1\"/>\n",
       "<polyline clip-path=\"url(#clip602)\" style=\"stroke:#000000; stroke-width:4; stroke-opacity:1; fill:none\" points=\"\n",
       "  1245.92,1273.94 1245.92,1447.87 1315.09,1447.87 1315.09,1273.94 1245.92,1273.94 \n",
       "  \"/>\n",
       "<path clip-path=\"url(#clip602)\" d=\"\n",
       "M1315.09 1293.28 L1315.09 1447.87 L1384.27 1447.87 L1384.27 1293.28 L1315.09 1293.28 L1315.09 1293.28  Z\n",
       "  \" fill=\"#009af9\" fill-rule=\"evenodd\" fill-opacity=\"1\"/>\n",
       "<polyline clip-path=\"url(#clip602)\" style=\"stroke:#000000; stroke-width:4; stroke-opacity:1; fill:none\" points=\"\n",
       "  1315.09,1293.28 1315.09,1447.87 1384.27,1447.87 1384.27,1293.28 1315.09,1293.28 \n",
       "  \"/>\n",
       "<path clip-path=\"url(#clip602)\" d=\"\n",
       "M1384.27 1299.79 L1384.27 1447.87 L1453.45 1447.87 L1453.45 1299.79 L1384.27 1299.79 L1384.27 1299.79  Z\n",
       "  \" fill=\"#009af9\" fill-rule=\"evenodd\" fill-opacity=\"1\"/>\n",
       "<polyline clip-path=\"url(#clip602)\" style=\"stroke:#000000; stroke-width:4; stroke-opacity:1; fill:none\" points=\"\n",
       "  1384.27,1299.79 1384.27,1447.87 1453.45,1447.87 1453.45,1299.79 1384.27,1299.79 \n",
       "  \"/>\n",
       "<path clip-path=\"url(#clip602)\" d=\"\n",
       "M1453.45 1291.55 L1453.45 1447.87 L1522.63 1447.87 L1522.63 1291.55 L1453.45 1291.55 L1453.45 1291.55  Z\n",
       "  \" fill=\"#009af9\" fill-rule=\"evenodd\" fill-opacity=\"1\"/>\n",
       "<polyline clip-path=\"url(#clip602)\" style=\"stroke:#000000; stroke-width:4; stroke-opacity:1; fill:none\" points=\"\n",
       "  1453.45,1291.55 1453.45,1447.87 1522.63,1447.87 1522.63,1291.55 1453.45,1291.55 \n",
       "  \"/>\n",
       "<path clip-path=\"url(#clip602)\" d=\"\n",
       "M1522.63 1281.4 L1522.63 1447.87 L1591.8 1447.87 L1591.8 1281.4 L1522.63 1281.4 L1522.63 1281.4  Z\n",
       "  \" fill=\"#009af9\" fill-rule=\"evenodd\" fill-opacity=\"1\"/>\n",
       "<polyline clip-path=\"url(#clip602)\" style=\"stroke:#000000; stroke-width:4; stroke-opacity:1; fill:none\" points=\"\n",
       "  1522.63,1281.4 1522.63,1447.87 1591.8,1447.87 1591.8,1281.4 1522.63,1281.4 \n",
       "  \"/>\n",
       "<path clip-path=\"url(#clip602)\" d=\"\n",
       "M1591.8 1271 L1591.8 1447.87 L1660.98 1447.87 L1660.98 1271 L1591.8 1271 L1591.8 1271  Z\n",
       "  \" fill=\"#009af9\" fill-rule=\"evenodd\" fill-opacity=\"1\"/>\n",
       "<polyline clip-path=\"url(#clip602)\" style=\"stroke:#000000; stroke-width:4; stroke-opacity:1; fill:none\" points=\"\n",
       "  1591.8,1271 1591.8,1447.87 1660.98,1447.87 1660.98,1271 1591.8,1271 \n",
       "  \"/>\n",
       "<path clip-path=\"url(#clip602)\" d=\"\n",
       "M1660.98 1250.98 L1660.98 1447.87 L1730.16 1447.87 L1730.16 1250.98 L1660.98 1250.98 L1660.98 1250.98  Z\n",
       "  \" fill=\"#009af9\" fill-rule=\"evenodd\" fill-opacity=\"1\"/>\n",
       "<polyline clip-path=\"url(#clip602)\" style=\"stroke:#000000; stroke-width:4; stroke-opacity:1; fill:none\" points=\"\n",
       "  1660.98,1250.98 1660.98,1447.87 1730.16,1447.87 1730.16,1250.98 1660.98,1250.98 \n",
       "  \"/>\n",
       "<path clip-path=\"url(#clip602)\" d=\"\n",
       "M1730.16 1238.94 L1730.16 1447.87 L1799.34 1447.87 L1799.34 1238.94 L1730.16 1238.94 L1730.16 1238.94  Z\n",
       "  \" fill=\"#009af9\" fill-rule=\"evenodd\" fill-opacity=\"1\"/>\n",
       "<polyline clip-path=\"url(#clip602)\" style=\"stroke:#000000; stroke-width:4; stroke-opacity:1; fill:none\" points=\"\n",
       "  1730.16,1238.94 1730.16,1447.87 1799.34,1447.87 1799.34,1238.94 1730.16,1238.94 \n",
       "  \"/>\n",
       "<path clip-path=\"url(#clip602)\" d=\"\n",
       "M1799.34 1224.92 L1799.34 1447.87 L1868.51 1447.87 L1868.51 1224.92 L1799.34 1224.92 L1799.34 1224.92  Z\n",
       "  \" fill=\"#009af9\" fill-rule=\"evenodd\" fill-opacity=\"1\"/>\n",
       "<polyline clip-path=\"url(#clip602)\" style=\"stroke:#000000; stroke-width:4; stroke-opacity:1; fill:none\" points=\"\n",
       "  1799.34,1224.92 1799.34,1447.87 1868.51,1447.87 1868.51,1224.92 1799.34,1224.92 \n",
       "  \"/>\n",
       "<path clip-path=\"url(#clip602)\" d=\"\n",
       "M1868.51 1126.54 L1868.51 1447.87 L1937.69 1447.87 L1937.69 1126.54 L1868.51 1126.54 L1868.51 1126.54  Z\n",
       "  \" fill=\"#009af9\" fill-rule=\"evenodd\" fill-opacity=\"1\"/>\n",
       "<polyline clip-path=\"url(#clip602)\" style=\"stroke:#000000; stroke-width:4; stroke-opacity:1; fill:none\" points=\"\n",
       "  1868.51,1126.54 1868.51,1447.87 1937.69,1447.87 1937.69,1126.54 1868.51,1126.54 \n",
       "  \"/>\n",
       "<path clip-path=\"url(#clip602)\" d=\"\n",
       "M1937.69 1114.09 L1937.69 1447.87 L2006.87 1447.87 L2006.87 1114.09 L1937.69 1114.09 L1937.69 1114.09  Z\n",
       "  \" fill=\"#009af9\" fill-rule=\"evenodd\" fill-opacity=\"1\"/>\n",
       "<polyline clip-path=\"url(#clip602)\" style=\"stroke:#000000; stroke-width:4; stroke-opacity:1; fill:none\" points=\"\n",
       "  1937.69,1114.09 1937.69,1447.87 2006.87,1447.87 2006.87,1114.09 1937.69,1114.09 \n",
       "  \"/>\n",
       "<path clip-path=\"url(#clip602)\" d=\"\n",
       "M2006.87 1045.99 L2006.87 1447.87 L2076.05 1447.87 L2076.05 1045.99 L2006.87 1045.99 L2006.87 1045.99  Z\n",
       "  \" fill=\"#009af9\" fill-rule=\"evenodd\" fill-opacity=\"1\"/>\n",
       "<polyline clip-path=\"url(#clip602)\" style=\"stroke:#000000; stroke-width:4; stroke-opacity:1; fill:none\" points=\"\n",
       "  2006.87,1045.99 2006.87,1447.87 2076.05,1447.87 2076.05,1045.99 2006.87,1045.99 \n",
       "  \"/>\n",
       "<path clip-path=\"url(#clip602)\" d=\"\n",
       "M2076.05 1110.28 L2076.05 1447.87 L2145.22 1447.87 L2145.22 1110.28 L2076.05 1110.28 L2076.05 1110.28  Z\n",
       "  \" fill=\"#009af9\" fill-rule=\"evenodd\" fill-opacity=\"1\"/>\n",
       "<polyline clip-path=\"url(#clip602)\" style=\"stroke:#000000; stroke-width:4; stroke-opacity:1; fill:none\" points=\"\n",
       "  2076.05,1110.28 2076.05,1447.87 2145.22,1447.87 2145.22,1110.28 2076.05,1110.28 \n",
       "  \"/>\n",
       "<path clip-path=\"url(#clip602)\" d=\"\n",
       "M2145.22 1127.29 L2145.22 1447.87 L2214.4 1447.87 L2214.4 1127.29 L2145.22 1127.29 L2145.22 1127.29  Z\n",
       "  \" fill=\"#009af9\" fill-rule=\"evenodd\" fill-opacity=\"1\"/>\n",
       "<polyline clip-path=\"url(#clip602)\" style=\"stroke:#000000; stroke-width:4; stroke-opacity:1; fill:none\" points=\"\n",
       "  2145.22,1127.29 2145.22,1447.87 2214.4,1447.87 2214.4,1127.29 2145.22,1127.29 \n",
       "  \"/>\n",
       "<path clip-path=\"url(#clip602)\" d=\"\n",
       "M2214.4 162.047 L2214.4 1447.87 L2283.58 1447.87 L2283.58 162.047 L2214.4 162.047 L2214.4 162.047  Z\n",
       "  \" fill=\"#009af9\" fill-rule=\"evenodd\" fill-opacity=\"1\"/>\n",
       "<polyline clip-path=\"url(#clip602)\" style=\"stroke:#000000; stroke-width:4; stroke-opacity:1; fill:none\" points=\"\n",
       "  2214.4,162.047 2214.4,1447.87 2283.58,1447.87 2283.58,162.047 2214.4,162.047 \n",
       "  \"/>\n",
       "<path clip-path=\"url(#clip602)\" d=\"\n",
       "M2283.58 1243.61 L2283.58 1447.87 L2352.76 1447.87 L2352.76 1243.61 L2283.58 1243.61 L2283.58 1243.61  Z\n",
       "  \" fill=\"#009af9\" fill-rule=\"evenodd\" fill-opacity=\"1\"/>\n",
       "<polyline clip-path=\"url(#clip602)\" style=\"stroke:#000000; stroke-width:4; stroke-opacity:1; fill:none\" points=\"\n",
       "  2283.58,1243.61 2283.58,1447.87 2352.76,1447.87 2352.76,1243.61 2283.58,1243.61 \n",
       "  \"/>\n",
       "<path clip-path=\"url(#clip600)\" d=\"\n",
       "M2000.56 289.865 L2283.58 289.865 L2283.58 168.905 L2000.56 168.905  Z\n",
       "  \" fill=\"#ffffff\" fill-rule=\"evenodd\" fill-opacity=\"1\"/>\n",
       "<polyline clip-path=\"url(#clip600)\" style=\"stroke:#000000; stroke-width:4; stroke-opacity:1; fill:none\" points=\"\n",
       "  2000.56,289.865 2283.58,289.865 2283.58,168.905 2000.56,168.905 2000.56,289.865 \n",
       "  \"/>\n",
       "<path clip-path=\"url(#clip600)\" d=\"\n",
       "M2023.62 253.577 L2161.97 253.577 L2161.97 205.193 L2023.62 205.193 L2023.62 253.577  Z\n",
       "  \" fill=\"#009af9\" fill-rule=\"evenodd\" fill-opacity=\"1\"/>\n",
       "<polyline clip-path=\"url(#clip600)\" style=\"stroke:#000000; stroke-width:4; stroke-opacity:1; fill:none\" points=\"\n",
       "  2023.62,253.577 2161.97,253.577 2161.97,205.193 2023.62,205.193 2023.62,253.577 \n",
       "  \"/>\n",
       "<path clip-path=\"url(#clip600)\" d=\"M 0 0 M2198.87 249.072 Q2197.07 253.702 2195.35 255.114 Q2193.64 256.526 2190.77 256.526 L2187.37 256.526 L2187.37 252.961 L2189.87 252.961 Q2191.63 252.961 2192.6 252.128 Q2193.57 251.294 2194.75 248.192 L2195.52 246.248 L2185.03 220.739 L2189.54 220.739 L2197.65 241.017 L2205.75 220.739 L2210.26 220.739 L2198.87 249.072 Z\" fill=\"#000000\" fill-rule=\"evenodd\" fill-opacity=\"1\" /><path clip-path=\"url(#clip600)\" d=\"M 0 0 M2217.55 242.729 L2225.19 242.729 L2225.19 216.364 L2216.88 218.031 L2216.88 213.771 L2225.15 212.105 L2229.82 212.105 L2229.82 242.729 L2237.46 242.729 L2237.46 246.665 L2217.55 246.665 L2217.55 242.729 Z\" fill=\"#000000\" fill-rule=\"evenodd\" fill-opacity=\"1\" /></svg>\n"
      ]
     },
     "execution_count": 26,
     "metadata": {},
     "output_type": "execute_result"
    }
   ],
   "source": [
    "hist_b_train = histogram(cmf_b_train, #normalize=:probability, \n",
    "    bins=qx_el, #    leg=false,\n",
    "    xlim=(0,1), #ylim=(0,0.15), xlabel=\"CMF\", ylabel=\"Frequency\", lw=0.3, \n",
    "    title=\"Berlin_train (2004_02-2018_12)\")"
   ]
  },
  {
   "cell_type": "code",
   "execution_count": 19,
   "id": "f518999b-3118-4348-adb0-b69276d19a77",
   "metadata": {
    "execution": {
     "iopub.execute_input": "2021-05-26T09:14:58.106000+02:00",
     "iopub.status.busy": "2021-05-26T09:14:58.106000+02:00",
     "iopub.status.idle": "2021-05-26T09:14:58.480000+02:00",
     "shell.execute_reply": "2021-05-26T09:14:58.480000+02:00"
    },
    "tags": []
   },
   "outputs": [
    {
     "data": {
      "image/svg+xml": [
       "<?xml version=\"1.0\" encoding=\"utf-8\"?>\n",
       "<svg xmlns=\"http://www.w3.org/2000/svg\" xmlns:xlink=\"http://www.w3.org/1999/xlink\" width=\"600\" height=\"400\" viewBox=\"0 0 2400 1600\">\n",
       "<defs>\n",
       "  <clipPath id=\"clip360\">\n",
       "    <rect x=\"0\" y=\"0\" width=\"2400\" height=\"1600\"/>\n",
       "  </clipPath>\n",
       "</defs>\n",
       "<path clip-path=\"url(#clip360)\" d=\"\n",
       "M0 1600 L2400 1600 L2400 0 L0 0  Z\n",
       "  \" fill=\"#ffffff\" fill-rule=\"evenodd\" fill-opacity=\"1\"/>\n",
       "<defs>\n",
       "  <clipPath id=\"clip361\">\n",
       "    <rect x=\"480\" y=\"0\" width=\"1681\" height=\"1600\"/>\n",
       "  </clipPath>\n",
       "</defs>\n",
       "<path clip-path=\"url(#clip360)\" d=\"\n",
       "M249.542 1423.18 L2352.76 1423.18 L2352.76 123.472 L249.542 123.472  Z\n",
       "  \" fill=\"#ffffff\" fill-rule=\"evenodd\" fill-opacity=\"1\"/>\n",
       "<defs>\n",
       "  <clipPath id=\"clip362\">\n",
       "    <rect x=\"249\" y=\"123\" width=\"2104\" height=\"1301\"/>\n",
       "  </clipPath>\n",
       "</defs>\n",
       "<polyline clip-path=\"url(#clip362)\" style=\"stroke:#000000; stroke-width:2; stroke-opacity:0.1; fill:none\" points=\"\n",
       "  546.768,1423.18 546.768,123.472 \n",
       "  \"/>\n",
       "<polyline clip-path=\"url(#clip362)\" style=\"stroke:#000000; stroke-width:2; stroke-opacity:0.1; fill:none\" points=\"\n",
       "  969.345,1423.18 969.345,123.472 \n",
       "  \"/>\n",
       "<polyline clip-path=\"url(#clip362)\" style=\"stroke:#000000; stroke-width:2; stroke-opacity:0.1; fill:none\" points=\"\n",
       "  1391.92,1423.18 1391.92,123.472 \n",
       "  \"/>\n",
       "<polyline clip-path=\"url(#clip362)\" style=\"stroke:#000000; stroke-width:2; stroke-opacity:0.1; fill:none\" points=\"\n",
       "  1814.5,1423.18 1814.5,123.472 \n",
       "  \"/>\n",
       "<polyline clip-path=\"url(#clip362)\" style=\"stroke:#000000; stroke-width:2; stroke-opacity:0.1; fill:none\" points=\"\n",
       "  2237.08,1423.18 2237.08,123.472 \n",
       "  \"/>\n",
       "<polyline clip-path=\"url(#clip360)\" style=\"stroke:#000000; stroke-width:4; stroke-opacity:1; fill:none\" points=\"\n",
       "  249.542,1423.18 2352.76,1423.18 \n",
       "  \"/>\n",
       "<polyline clip-path=\"url(#clip360)\" style=\"stroke:#000000; stroke-width:4; stroke-opacity:1; fill:none\" points=\"\n",
       "  546.768,1423.18 546.768,1407.58 \n",
       "  \"/>\n",
       "<polyline clip-path=\"url(#clip360)\" style=\"stroke:#000000; stroke-width:4; stroke-opacity:1; fill:none\" points=\"\n",
       "  969.345,1423.18 969.345,1407.58 \n",
       "  \"/>\n",
       "<polyline clip-path=\"url(#clip360)\" style=\"stroke:#000000; stroke-width:4; stroke-opacity:1; fill:none\" points=\"\n",
       "  1391.92,1423.18 1391.92,1407.58 \n",
       "  \"/>\n",
       "<polyline clip-path=\"url(#clip360)\" style=\"stroke:#000000; stroke-width:4; stroke-opacity:1; fill:none\" points=\"\n",
       "  1814.5,1423.18 1814.5,1407.58 \n",
       "  \"/>\n",
       "<polyline clip-path=\"url(#clip360)\" style=\"stroke:#000000; stroke-width:4; stroke-opacity:1; fill:none\" points=\"\n",
       "  2237.08,1423.18 2237.08,1407.58 \n",
       "  \"/>\n",
       "<path clip-path=\"url(#clip360)\" d=\"M 0 0 M524.951 1452.37 Q521.34 1452.37 519.512 1455.94 Q517.706 1459.48 517.706 1466.61 Q517.706 1473.71 519.512 1477.28 Q521.34 1480.82 524.951 1480.82 Q528.586 1480.82 530.391 1477.28 Q532.22 1473.71 532.22 1466.61 Q532.22 1459.48 530.391 1455.94 Q528.586 1452.37 524.951 1452.37 M524.951 1448.67 Q530.762 1448.67 533.817 1453.27 Q536.896 1457.86 536.896 1466.61 Q536.896 1475.33 533.817 1479.94 Q530.762 1484.52 524.951 1484.52 Q519.141 1484.52 516.063 1479.94 Q513.007 1475.33 513.007 1466.61 Q513.007 1457.86 516.063 1453.27 Q519.141 1448.67 524.951 1448.67 Z\" fill=\"#000000\" fill-rule=\"evenodd\" fill-opacity=\"1\" /><path clip-path=\"url(#clip360)\" d=\"M 0 0 M545.113 1477.97 L549.998 1477.97 L549.998 1483.85 L545.113 1483.85 L545.113 1477.97 Z\" fill=\"#000000\" fill-rule=\"evenodd\" fill-opacity=\"1\" /><path clip-path=\"url(#clip360)\" d=\"M 0 0 M564.211 1479.92 L580.53 1479.92 L580.53 1483.85 L558.586 1483.85 L558.586 1479.92 Q561.248 1477.16 565.831 1472.53 Q570.437 1467.88 571.618 1466.54 Q573.863 1464.01 574.743 1462.28 Q575.646 1460.52 575.646 1458.83 Q575.646 1456.07 573.701 1454.34 Q571.78 1452.6 568.678 1452.6 Q566.479 1452.6 564.025 1453.37 Q561.595 1454.13 558.817 1455.68 L558.817 1450.96 Q561.641 1449.82 564.095 1449.25 Q566.548 1448.67 568.586 1448.67 Q573.956 1448.67 577.15 1451.35 Q580.345 1454.04 580.345 1458.53 Q580.345 1460.66 579.535 1462.58 Q578.747 1464.48 576.641 1467.07 Q576.062 1467.74 572.96 1470.96 Q569.859 1474.15 564.211 1479.92 Z\" fill=\"#000000\" fill-rule=\"evenodd\" fill-opacity=\"1\" /><path clip-path=\"url(#clip360)\" d=\"M 0 0 M946.487 1452.37 Q942.875 1452.37 941.047 1455.94 Q939.241 1459.48 939.241 1466.61 Q939.241 1473.71 941.047 1477.28 Q942.875 1480.82 946.487 1480.82 Q950.121 1480.82 951.926 1477.28 Q953.755 1473.71 953.755 1466.61 Q953.755 1459.48 951.926 1455.94 Q950.121 1452.37 946.487 1452.37 M946.487 1448.67 Q952.297 1448.67 955.352 1453.27 Q958.431 1457.86 958.431 1466.61 Q958.431 1475.33 955.352 1479.94 Q952.297 1484.52 946.487 1484.52 Q940.676 1484.52 937.598 1479.94 Q934.542 1475.33 934.542 1466.61 Q934.542 1457.86 937.598 1453.27 Q940.676 1448.67 946.487 1448.67 Z\" fill=\"#000000\" fill-rule=\"evenodd\" fill-opacity=\"1\" /><path clip-path=\"url(#clip360)\" d=\"M 0 0 M966.648 1477.97 L971.533 1477.97 L971.533 1483.85 L966.648 1483.85 L966.648 1477.97 Z\" fill=\"#000000\" fill-rule=\"evenodd\" fill-opacity=\"1\" /><path clip-path=\"url(#clip360)\" d=\"M 0 0 M994.565 1453.37 L982.76 1471.81 L994.565 1471.81 L994.565 1453.37 M993.338 1449.29 L999.218 1449.29 L999.218 1471.81 L1004.15 1471.81 L1004.15 1475.7 L999.218 1475.7 L999.218 1483.85 L994.565 1483.85 L994.565 1475.7 L978.963 1475.7 L978.963 1471.19 L993.338 1449.29 Z\" fill=\"#000000\" fill-rule=\"evenodd\" fill-opacity=\"1\" /><path clip-path=\"url(#clip360)\" d=\"M 0 0 M1369.23 1452.37 Q1365.61 1452.37 1363.79 1455.94 Q1361.98 1459.48 1361.98 1466.61 Q1361.98 1473.71 1363.79 1477.28 Q1365.61 1480.82 1369.23 1480.82 Q1372.86 1480.82 1374.67 1477.28 Q1376.49 1473.71 1376.49 1466.61 Q1376.49 1459.48 1374.67 1455.94 Q1372.86 1452.37 1369.23 1452.37 M1369.23 1448.67 Q1375.04 1448.67 1378.09 1453.27 Q1381.17 1457.86 1381.17 1466.61 Q1381.17 1475.33 1378.09 1479.94 Q1375.04 1484.52 1369.23 1484.52 Q1363.42 1484.52 1360.34 1479.94 Q1357.28 1475.33 1357.28 1466.61 Q1357.28 1457.86 1360.34 1453.27 Q1363.42 1448.67 1369.23 1448.67 Z\" fill=\"#000000\" fill-rule=\"evenodd\" fill-opacity=\"1\" /><path clip-path=\"url(#clip360)\" d=\"M 0 0 M1389.39 1477.97 L1394.27 1477.97 L1394.27 1483.85 L1389.39 1483.85 L1389.39 1477.97 Z\" fill=\"#000000\" fill-rule=\"evenodd\" fill-opacity=\"1\" /><path clip-path=\"url(#clip360)\" d=\"M 0 0 M1415.04 1464.71 Q1411.89 1464.71 1410.04 1466.86 Q1408.21 1469.01 1408.21 1472.76 Q1408.21 1476.49 1410.04 1478.67 Q1411.89 1480.82 1415.04 1480.82 Q1418.18 1480.82 1420.01 1478.67 Q1421.86 1476.49 1421.86 1472.76 Q1421.86 1469.01 1420.01 1466.86 Q1418.18 1464.71 1415.04 1464.71 M1424.32 1450.06 L1424.32 1454.31 Q1422.56 1453.48 1420.75 1453.04 Q1418.97 1452.6 1417.21 1452.6 Q1412.58 1452.6 1410.13 1455.73 Q1407.7 1458.85 1407.35 1465.17 Q1408.72 1463.16 1410.78 1462.09 Q1412.84 1461 1415.31 1461 Q1420.52 1461 1423.53 1464.18 Q1426.56 1467.32 1426.56 1472.76 Q1426.56 1478.09 1423.41 1481.31 Q1420.27 1484.52 1415.04 1484.52 Q1409.04 1484.52 1405.87 1479.94 Q1402.7 1475.33 1402.7 1466.61 Q1402.7 1458.41 1406.59 1453.55 Q1410.48 1448.67 1417.03 1448.67 Q1418.79 1448.67 1420.57 1449.01 Q1422.37 1449.36 1424.32 1450.06 Z\" fill=\"#000000\" fill-rule=\"evenodd\" fill-opacity=\"1\" /><path clip-path=\"url(#clip360)\" d=\"M 0 0 M1791.93 1452.37 Q1788.32 1452.37 1786.49 1455.94 Q1784.68 1459.48 1784.68 1466.61 Q1784.68 1473.71 1786.49 1477.28 Q1788.32 1480.82 1791.93 1480.82 Q1795.56 1480.82 1797.37 1477.28 Q1799.2 1473.71 1799.2 1466.61 Q1799.2 1459.48 1797.37 1455.94 Q1795.56 1452.37 1791.93 1452.37 M1791.93 1448.67 Q1797.74 1448.67 1800.8 1453.27 Q1803.87 1457.86 1803.87 1466.61 Q1803.87 1475.33 1800.8 1479.94 Q1797.74 1484.52 1791.93 1484.52 Q1786.12 1484.52 1783.04 1479.94 Q1779.98 1475.33 1779.98 1466.61 Q1779.98 1457.86 1783.04 1453.27 Q1786.12 1448.67 1791.93 1448.67 Z\" fill=\"#000000\" fill-rule=\"evenodd\" fill-opacity=\"1\" /><path clip-path=\"url(#clip360)\" d=\"M 0 0 M1812.09 1477.97 L1816.98 1477.97 L1816.98 1483.85 L1812.09 1483.85 L1812.09 1477.97 Z\" fill=\"#000000\" fill-rule=\"evenodd\" fill-opacity=\"1\" /><path clip-path=\"url(#clip360)\" d=\"M 0 0 M1837.16 1467.44 Q1833.83 1467.44 1831.91 1469.22 Q1830.01 1471 1830.01 1474.13 Q1830.01 1477.25 1831.91 1479.04 Q1833.83 1480.82 1837.16 1480.82 Q1840.49 1480.82 1842.42 1479.04 Q1844.34 1477.23 1844.34 1474.13 Q1844.34 1471 1842.42 1469.22 Q1840.52 1467.44 1837.16 1467.44 M1832.48 1465.45 Q1829.48 1464.71 1827.79 1462.65 Q1826.12 1460.59 1826.12 1457.63 Q1826.12 1453.48 1829.06 1451.07 Q1832.02 1448.67 1837.16 1448.67 Q1842.32 1448.67 1845.26 1451.07 Q1848.2 1453.48 1848.2 1457.63 Q1848.2 1460.59 1846.51 1462.65 Q1844.85 1464.71 1841.86 1465.45 Q1845.24 1466.24 1847.11 1468.53 Q1849.01 1470.82 1849.01 1474.13 Q1849.01 1479.15 1845.93 1481.84 Q1842.88 1484.52 1837.16 1484.52 Q1831.44 1484.52 1828.36 1481.84 Q1825.31 1479.15 1825.31 1474.13 Q1825.31 1470.82 1827.21 1468.53 Q1829.11 1466.24 1832.48 1465.45 M1830.77 1458.06 Q1830.77 1460.75 1832.44 1462.25 Q1834.13 1463.76 1837.16 1463.76 Q1840.17 1463.76 1841.86 1462.25 Q1843.57 1460.75 1843.57 1458.06 Q1843.57 1455.38 1841.86 1453.88 Q1840.17 1452.37 1837.16 1452.37 Q1834.13 1452.37 1832.44 1453.88 Q1830.77 1455.38 1830.77 1458.06 Z\" fill=\"#000000\" fill-rule=\"evenodd\" fill-opacity=\"1\" /><path clip-path=\"url(#clip360)\" d=\"M 0 0 M2204.23 1479.92 L2211.87 1479.92 L2211.87 1453.55 L2203.56 1455.22 L2203.56 1450.96 L2211.82 1449.29 L2216.5 1449.29 L2216.5 1479.92 L2224.14 1479.92 L2224.14 1483.85 L2204.23 1483.85 L2204.23 1479.92 Z\" fill=\"#000000\" fill-rule=\"evenodd\" fill-opacity=\"1\" /><path clip-path=\"url(#clip360)\" d=\"M 0 0 M2233.58 1477.97 L2238.46 1477.97 L2238.46 1483.85 L2233.58 1483.85 L2233.58 1477.97 Z\" fill=\"#000000\" fill-rule=\"evenodd\" fill-opacity=\"1\" /><path clip-path=\"url(#clip360)\" d=\"M 0 0 M2258.65 1452.37 Q2255.04 1452.37 2253.21 1455.94 Q2251.4 1459.48 2251.4 1466.61 Q2251.4 1473.71 2253.21 1477.28 Q2255.04 1480.82 2258.65 1480.82 Q2262.28 1480.82 2264.09 1477.28 Q2265.92 1473.71 2265.92 1466.61 Q2265.92 1459.48 2264.09 1455.94 Q2262.28 1452.37 2258.65 1452.37 M2258.65 1448.67 Q2264.46 1448.67 2267.52 1453.27 Q2270.59 1457.86 2270.59 1466.61 Q2270.59 1475.33 2267.52 1479.94 Q2264.46 1484.52 2258.65 1484.52 Q2252.84 1484.52 2249.76 1479.94 Q2246.7 1475.33 2246.7 1466.61 Q2246.7 1457.86 2249.76 1453.27 Q2252.84 1448.67 2258.65 1448.67 Z\" fill=\"#000000\" fill-rule=\"evenodd\" fill-opacity=\"1\" /><path clip-path=\"url(#clip360)\" d=\"M 0 0 M1273.57 1524.18 L1273.57 1530.96 Q1270.32 1527.94 1266.63 1526.44 Q1262.97 1524.95 1258.83 1524.95 Q1250.68 1524.95 1246.36 1529.95 Q1242.03 1534.91 1242.03 1544.33 Q1242.03 1553.72 1246.36 1558.72 Q1250.68 1563.68 1258.83 1563.68 Q1262.97 1563.68 1266.63 1562.19 Q1270.32 1560.69 1273.57 1557.67 L1273.57 1564.38 Q1270.2 1566.68 1266.41 1567.82 Q1262.65 1568.97 1258.45 1568.97 Q1247.66 1568.97 1241.45 1562.38 Q1235.25 1555.76 1235.25 1544.33 Q1235.25 1532.87 1241.45 1526.28 Q1247.66 1519.66 1258.45 1519.66 Q1262.72 1519.66 1266.47 1520.81 Q1270.26 1521.92 1273.57 1524.18 Z\" fill=\"#000000\" fill-rule=\"evenodd\" fill-opacity=\"1\" /><path clip-path=\"url(#clip360)\" d=\"M 0 0 M1283.5 1520.52 L1293.08 1520.52 L1305.21 1552.86 L1317.4 1520.52 L1326.98 1520.52 L1326.98 1568.04 L1320.71 1568.04 L1320.71 1526.32 L1308.45 1558.91 L1301.99 1558.91 L1289.74 1526.32 L1289.74 1568.04 L1283.5 1568.04 L1283.5 1520.52 Z\" fill=\"#000000\" fill-rule=\"evenodd\" fill-opacity=\"1\" /><path clip-path=\"url(#clip360)\" d=\"M 0 0 M1339.74 1520.52 L1367.05 1520.52 L1367.05 1525.93 L1346.17 1525.93 L1346.17 1539.94 L1365.01 1539.94 L1365.01 1545.35 L1346.17 1545.35 L1346.17 1568.04 L1339.74 1568.04 L1339.74 1520.52 Z\" fill=\"#000000\" fill-rule=\"evenodd\" fill-opacity=\"1\" /><polyline clip-path=\"url(#clip362)\" style=\"stroke:#000000; stroke-width:2; stroke-opacity:0.1; fill:none\" points=\"\n",
       "  249.542,1423.18 2352.76,1423.18 \n",
       "  \"/>\n",
       "<polyline clip-path=\"url(#clip362)\" style=\"stroke:#000000; stroke-width:2; stroke-opacity:0.1; fill:none\" points=\"\n",
       "  249.542,1098.25 2352.76,1098.25 \n",
       "  \"/>\n",
       "<polyline clip-path=\"url(#clip362)\" style=\"stroke:#000000; stroke-width:2; stroke-opacity:0.1; fill:none\" points=\"\n",
       "  249.542,773.326 2352.76,773.326 \n",
       "  \"/>\n",
       "<polyline clip-path=\"url(#clip362)\" style=\"stroke:#000000; stroke-width:2; stroke-opacity:0.1; fill:none\" points=\"\n",
       "  249.542,448.399 2352.76,448.399 \n",
       "  \"/>\n",
       "<polyline clip-path=\"url(#clip362)\" style=\"stroke:#000000; stroke-width:2; stroke-opacity:0.1; fill:none\" points=\"\n",
       "  249.542,123.472 2352.76,123.472 \n",
       "  \"/>\n",
       "<polyline clip-path=\"url(#clip360)\" style=\"stroke:#000000; stroke-width:4; stroke-opacity:1; fill:none\" points=\"\n",
       "  249.542,1423.18 249.542,123.472 \n",
       "  \"/>\n",
       "<polyline clip-path=\"url(#clip360)\" style=\"stroke:#000000; stroke-width:4; stroke-opacity:1; fill:none\" points=\"\n",
       "  249.542,1423.18 274.781,1423.18 \n",
       "  \"/>\n",
       "<polyline clip-path=\"url(#clip360)\" style=\"stroke:#000000; stroke-width:4; stroke-opacity:1; fill:none\" points=\"\n",
       "  249.542,1098.25 274.781,1098.25 \n",
       "  \"/>\n",
       "<polyline clip-path=\"url(#clip360)\" style=\"stroke:#000000; stroke-width:4; stroke-opacity:1; fill:none\" points=\"\n",
       "  249.542,773.326 274.781,773.326 \n",
       "  \"/>\n",
       "<polyline clip-path=\"url(#clip360)\" style=\"stroke:#000000; stroke-width:4; stroke-opacity:1; fill:none\" points=\"\n",
       "  249.542,448.399 274.781,448.399 \n",
       "  \"/>\n",
       "<polyline clip-path=\"url(#clip360)\" style=\"stroke:#000000; stroke-width:4; stroke-opacity:1; fill:none\" points=\"\n",
       "  249.542,123.472 274.781,123.472 \n",
       "  \"/>\n",
       "<path clip-path=\"url(#clip360)\" d=\"M 0 0 M126.205 1408.98 Q122.593 1408.98 120.765 1412.54 Q118.959 1416.08 118.959 1423.21 Q118.959 1430.32 120.765 1433.89 Q122.593 1437.43 126.205 1437.43 Q129.839 1437.43 131.644 1433.89 Q133.473 1430.32 133.473 1423.21 Q133.473 1416.08 131.644 1412.54 Q129.839 1408.98 126.205 1408.98 M126.205 1405.27 Q132.015 1405.27 135.07 1409.88 Q138.149 1414.46 138.149 1423.21 Q138.149 1431.94 135.07 1436.55 Q132.015 1441.13 126.205 1441.13 Q120.394 1441.13 117.316 1436.55 Q114.26 1431.94 114.26 1423.21 Q114.26 1414.46 117.316 1409.88 Q120.394 1405.27 126.205 1405.27 Z\" fill=\"#000000\" fill-rule=\"evenodd\" fill-opacity=\"1\" /><path clip-path=\"url(#clip360)\" d=\"M 0 0 M146.366 1434.58 L151.251 1434.58 L151.251 1440.46 L146.366 1440.46 L146.366 1434.58 Z\" fill=\"#000000\" fill-rule=\"evenodd\" fill-opacity=\"1\" /><path clip-path=\"url(#clip360)\" d=\"M 0 0 M171.436 1408.98 Q167.825 1408.98 165.996 1412.54 Q164.19 1416.08 164.19 1423.21 Q164.19 1430.32 165.996 1433.89 Q167.825 1437.43 171.436 1437.43 Q175.07 1437.43 176.876 1433.89 Q178.704 1430.32 178.704 1423.21 Q178.704 1416.08 176.876 1412.54 Q175.07 1408.98 171.436 1408.98 M171.436 1405.27 Q177.246 1405.27 180.301 1409.88 Q183.38 1414.46 183.38 1423.21 Q183.38 1431.94 180.301 1436.55 Q177.246 1441.13 171.436 1441.13 Q165.626 1441.13 162.547 1436.55 Q159.491 1431.94 159.491 1423.21 Q159.491 1414.46 162.547 1409.88 Q165.626 1405.27 171.436 1405.27 Z\" fill=\"#000000\" fill-rule=\"evenodd\" fill-opacity=\"1\" /><path clip-path=\"url(#clip360)\" d=\"M 0 0 M201.598 1408.98 Q197.987 1408.98 196.158 1412.54 Q194.352 1416.08 194.352 1423.21 Q194.352 1430.32 196.158 1433.89 Q197.987 1437.43 201.598 1437.43 Q205.232 1437.43 207.037 1433.89 Q208.866 1430.32 208.866 1423.21 Q208.866 1416.08 207.037 1412.54 Q205.232 1408.98 201.598 1408.98 M201.598 1405.27 Q207.408 1405.27 210.463 1409.88 Q213.542 1414.46 213.542 1423.21 Q213.542 1431.94 210.463 1436.55 Q207.408 1441.13 201.598 1441.13 Q195.787 1441.13 192.709 1436.55 Q189.653 1431.94 189.653 1423.21 Q189.653 1414.46 192.709 1409.88 Q195.787 1405.27 201.598 1405.27 Z\" fill=\"#000000\" fill-rule=\"evenodd\" fill-opacity=\"1\" /><path clip-path=\"url(#clip360)\" d=\"M 0 0 M127.2 1084.05 Q123.589 1084.05 121.76 1087.62 Q119.955 1091.16 119.955 1098.29 Q119.955 1105.39 121.76 1108.96 Q123.589 1112.5 127.2 1112.5 Q130.834 1112.5 132.64 1108.96 Q134.468 1105.39 134.468 1098.29 Q134.468 1091.16 132.64 1087.62 Q130.834 1084.05 127.2 1084.05 M127.2 1080.35 Q133.01 1080.35 136.066 1084.95 Q139.144 1089.54 139.144 1098.29 Q139.144 1107.01 136.066 1111.62 Q133.01 1116.2 127.2 1116.2 Q121.39 1116.2 118.311 1111.62 Q115.256 1107.01 115.256 1098.29 Q115.256 1089.54 118.311 1084.95 Q121.39 1080.35 127.2 1080.35 Z\" fill=\"#000000\" fill-rule=\"evenodd\" fill-opacity=\"1\" /><path clip-path=\"url(#clip360)\" d=\"M 0 0 M147.362 1109.65 L152.246 1109.65 L152.246 1115.53 L147.362 1115.53 L147.362 1109.65 Z\" fill=\"#000000\" fill-rule=\"evenodd\" fill-opacity=\"1\" /><path clip-path=\"url(#clip360)\" d=\"M 0 0 M172.431 1084.05 Q168.82 1084.05 166.991 1087.62 Q165.186 1091.16 165.186 1098.29 Q165.186 1105.39 166.991 1108.96 Q168.82 1112.5 172.431 1112.5 Q176.065 1112.5 177.871 1108.96 Q179.7 1105.39 179.7 1098.29 Q179.7 1091.16 177.871 1087.62 Q176.065 1084.05 172.431 1084.05 M172.431 1080.35 Q178.241 1080.35 181.297 1084.95 Q184.376 1089.54 184.376 1098.29 Q184.376 1107.01 181.297 1111.62 Q178.241 1116.2 172.431 1116.2 Q166.621 1116.2 163.542 1111.62 Q160.487 1107.01 160.487 1098.29 Q160.487 1089.54 163.542 1084.95 Q166.621 1080.35 172.431 1080.35 Z\" fill=\"#000000\" fill-rule=\"evenodd\" fill-opacity=\"1\" /><path clip-path=\"url(#clip360)\" d=\"M 0 0 M192.639 1080.97 L210.996 1080.97 L210.996 1084.91 L196.922 1084.91 L196.922 1093.38 Q197.94 1093.03 198.959 1092.87 Q199.977 1092.69 200.996 1092.69 Q206.783 1092.69 210.162 1095.86 Q213.542 1099.03 213.542 1104.45 Q213.542 1110.02 210.07 1113.13 Q206.598 1116.2 200.278 1116.2 Q198.102 1116.2 195.834 1115.83 Q193.588 1115.46 191.181 1114.72 L191.181 1110.02 Q193.264 1111.16 195.487 1111.71 Q197.709 1112.27 200.186 1112.27 Q204.19 1112.27 206.528 1110.16 Q208.866 1108.06 208.866 1104.45 Q208.866 1100.83 206.528 1098.73 Q204.19 1096.62 200.186 1096.62 Q198.311 1096.62 196.436 1097.04 Q194.584 1097.45 192.639 1098.33 L192.639 1080.97 Z\" fill=\"#000000\" fill-rule=\"evenodd\" fill-opacity=\"1\" /><path clip-path=\"url(#clip360)\" d=\"M 0 0 M126.205 759.125 Q122.593 759.125 120.765 762.689 Q118.959 766.231 118.959 773.361 Q118.959 780.467 120.765 784.032 Q122.593 787.574 126.205 787.574 Q129.839 787.574 131.644 784.032 Q133.473 780.467 133.473 773.361 Q133.473 766.231 131.644 762.689 Q129.839 759.125 126.205 759.125 M126.205 755.421 Q132.015 755.421 135.07 760.027 Q138.149 764.611 138.149 773.361 Q138.149 782.088 135.07 786.694 Q132.015 791.277 126.205 791.277 Q120.394 791.277 117.316 786.694 Q114.26 782.088 114.26 773.361 Q114.26 764.611 117.316 760.027 Q120.394 755.421 126.205 755.421 Z\" fill=\"#000000\" fill-rule=\"evenodd\" fill-opacity=\"1\" /><path clip-path=\"url(#clip360)\" d=\"M 0 0 M146.366 784.726 L151.251 784.726 L151.251 790.606 L146.366 790.606 L146.366 784.726 Z\" fill=\"#000000\" fill-rule=\"evenodd\" fill-opacity=\"1\" /><path clip-path=\"url(#clip360)\" d=\"M 0 0 M162.246 786.671 L169.885 786.671 L169.885 760.305 L161.575 761.972 L161.575 757.713 L169.839 756.046 L174.514 756.046 L174.514 786.671 L182.153 786.671 L182.153 790.606 L162.246 790.606 L162.246 786.671 Z\" fill=\"#000000\" fill-rule=\"evenodd\" fill-opacity=\"1\" /><path clip-path=\"url(#clip360)\" d=\"M 0 0 M201.598 759.125 Q197.987 759.125 196.158 762.689 Q194.352 766.231 194.352 773.361 Q194.352 780.467 196.158 784.032 Q197.987 787.574 201.598 787.574 Q205.232 787.574 207.037 784.032 Q208.866 780.467 208.866 773.361 Q208.866 766.231 207.037 762.689 Q205.232 759.125 201.598 759.125 M201.598 755.421 Q207.408 755.421 210.463 760.027 Q213.542 764.611 213.542 773.361 Q213.542 782.088 210.463 786.694 Q207.408 791.277 201.598 791.277 Q195.787 791.277 192.709 786.694 Q189.653 782.088 189.653 773.361 Q189.653 764.611 192.709 760.027 Q195.787 755.421 201.598 755.421 Z\" fill=\"#000000\" fill-rule=\"evenodd\" fill-opacity=\"1\" /><path clip-path=\"url(#clip360)\" d=\"M 0 0 M127.2 434.198 Q123.589 434.198 121.76 437.763 Q119.955 441.304 119.955 448.434 Q119.955 455.54 121.76 459.105 Q123.589 462.647 127.2 462.647 Q130.834 462.647 132.64 459.105 Q134.468 455.54 134.468 448.434 Q134.468 441.304 132.64 437.763 Q130.834 434.198 127.2 434.198 M127.2 430.494 Q133.01 430.494 136.066 435.101 Q139.144 439.684 139.144 448.434 Q139.144 457.161 136.066 461.767 Q133.01 466.35 127.2 466.35 Q121.39 466.35 118.311 461.767 Q115.256 457.161 115.256 448.434 Q115.256 439.684 118.311 435.101 Q121.39 430.494 127.2 430.494 Z\" fill=\"#000000\" fill-rule=\"evenodd\" fill-opacity=\"1\" /><path clip-path=\"url(#clip360)\" d=\"M 0 0 M147.362 459.799 L152.246 459.799 L152.246 465.679 L147.362 465.679 L147.362 459.799 Z\" fill=\"#000000\" fill-rule=\"evenodd\" fill-opacity=\"1\" /><path clip-path=\"url(#clip360)\" d=\"M 0 0 M163.241 461.744 L170.88 461.744 L170.88 435.378 L162.57 437.045 L162.57 432.786 L170.834 431.119 L175.51 431.119 L175.51 461.744 L183.149 461.744 L183.149 465.679 L163.241 465.679 L163.241 461.744 Z\" fill=\"#000000\" fill-rule=\"evenodd\" fill-opacity=\"1\" /><path clip-path=\"url(#clip360)\" d=\"M 0 0 M192.639 431.119 L210.996 431.119 L210.996 435.054 L196.922 435.054 L196.922 443.526 Q197.94 443.179 198.959 443.017 Q199.977 442.832 200.996 442.832 Q206.783 442.832 210.162 446.003 Q213.542 449.175 213.542 454.591 Q213.542 460.17 210.07 463.272 Q206.598 466.35 200.278 466.35 Q198.102 466.35 195.834 465.98 Q193.588 465.61 191.181 464.869 L191.181 460.17 Q193.264 461.304 195.487 461.86 Q197.709 462.415 200.186 462.415 Q204.19 462.415 206.528 460.309 Q208.866 458.202 208.866 454.591 Q208.866 450.98 206.528 448.874 Q204.19 446.767 200.186 446.767 Q198.311 446.767 196.436 447.184 Q194.584 447.6 192.639 448.48 L192.639 431.119 Z\" fill=\"#000000\" fill-rule=\"evenodd\" fill-opacity=\"1\" /><path clip-path=\"url(#clip360)\" d=\"M 0 0 M126.205 109.271 Q122.593 109.271 120.765 112.836 Q118.959 116.377 118.959 123.507 Q118.959 130.613 120.765 134.178 Q122.593 137.72 126.205 137.72 Q129.839 137.72 131.644 134.178 Q133.473 130.613 133.473 123.507 Q133.473 116.377 131.644 112.836 Q129.839 109.271 126.205 109.271 M126.205 105.567 Q132.015 105.567 135.07 110.174 Q138.149 114.757 138.149 123.507 Q138.149 132.234 135.07 136.84 Q132.015 141.423 126.205 141.423 Q120.394 141.423 117.316 136.84 Q114.26 132.234 114.26 123.507 Q114.26 114.757 117.316 110.174 Q120.394 105.567 126.205 105.567 Z\" fill=\"#000000\" fill-rule=\"evenodd\" fill-opacity=\"1\" /><path clip-path=\"url(#clip360)\" d=\"M 0 0 M146.366 134.873 L151.251 134.873 L151.251 140.752 L146.366 140.752 L146.366 134.873 Z\" fill=\"#000000\" fill-rule=\"evenodd\" fill-opacity=\"1\" /><path clip-path=\"url(#clip360)\" d=\"M 0 0 M165.464 136.817 L181.783 136.817 L181.783 140.752 L159.839 140.752 L159.839 136.817 Q162.501 134.062 167.084 129.433 Q171.69 124.78 172.871 123.437 Q175.116 120.914 175.996 119.178 Q176.899 117.419 176.899 115.729 Q176.899 112.974 174.954 111.238 Q173.033 109.502 169.931 109.502 Q167.732 109.502 165.278 110.266 Q162.848 111.03 160.07 112.581 L160.07 107.859 Q162.894 106.725 165.348 106.146 Q167.802 105.567 169.839 105.567 Q175.209 105.567 178.403 108.252 Q181.598 110.937 181.598 115.428 Q181.598 117.558 180.788 119.479 Q180.001 121.377 177.894 123.97 Q177.315 124.641 174.214 127.859 Q171.112 131.053 165.464 136.817 Z\" fill=\"#000000\" fill-rule=\"evenodd\" fill-opacity=\"1\" /><path clip-path=\"url(#clip360)\" d=\"M 0 0 M201.598 109.271 Q197.987 109.271 196.158 112.836 Q194.352 116.377 194.352 123.507 Q194.352 130.613 196.158 134.178 Q197.987 137.72 201.598 137.72 Q205.232 137.72 207.037 134.178 Q208.866 130.613 208.866 123.507 Q208.866 116.377 207.037 112.836 Q205.232 109.271 201.598 109.271 M201.598 105.567 Q207.408 105.567 210.463 110.174 Q213.542 114.757 213.542 123.507 Q213.542 132.234 210.463 136.84 Q207.408 141.423 201.598 141.423 Q195.787 141.423 192.709 136.84 Q189.653 132.234 189.653 123.507 Q189.653 114.757 192.709 110.174 Q195.787 105.567 201.598 105.567 Z\" fill=\"#000000\" fill-rule=\"evenodd\" fill-opacity=\"1\" /><path clip-path=\"url(#clip360)\" d=\"M 0 0 M16.4842 937.529 L16.4842 910.221 L21.895 910.221 L21.895 931.1 L35.8996 931.1 L35.8996 912.258 L41.3104 912.258 L41.3104 931.1 L64.0042 931.1 L64.0042 937.529 L16.4842 937.529 Z\" fill=\"#000000\" fill-rule=\"evenodd\" fill-opacity=\"1\" /><path clip-path=\"url(#clip360)\" d=\"M 0 0 M33.8307 884.376 Q33.2578 885.362 33.0032 886.54 Q32.7167 887.686 32.7167 889.086 Q32.7167 894.052 35.9632 896.725 Q39.1779 899.367 45.2253 899.367 L64.0042 899.367 L64.0042 905.255 L28.3562 905.255 L28.3562 899.367 L33.8944 899.367 Q30.6479 897.521 29.0883 894.561 Q27.4968 891.601 27.4968 887.368 Q27.4968 886.763 27.5923 886.031 Q27.656 885.299 27.8151 884.408 L33.8307 884.376 Z\" fill=\"#000000\" fill-rule=\"evenodd\" fill-opacity=\"1\" /><path clip-path=\"url(#clip360)\" d=\"M 0 0 M44.7161 849.173 L47.5806 849.173 L47.5806 876.1 Q53.6281 875.718 56.8109 872.472 Q59.9619 869.194 59.9619 863.369 Q59.9619 859.995 59.1344 856.844 Q58.3069 853.661 56.6518 850.542 L62.1899 850.542 Q63.5267 853.693 64.227 857.003 Q64.9272 860.313 64.9272 863.719 Q64.9272 872.249 59.9619 877.246 Q54.9967 882.211 46.5303 882.211 Q37.7774 882.211 32.6531 877.501 Q27.4968 872.758 27.4968 864.738 Q27.4968 857.544 32.1438 853.375 Q36.7589 849.173 44.7161 849.173 M42.9973 855.03 Q38.1912 855.093 35.3266 857.735 Q32.4621 860.345 32.4621 864.674 Q32.4621 869.575 35.2312 872.536 Q38.0002 875.464 43.0292 875.909 L42.9973 855.03 Z\" fill=\"#000000\" fill-rule=\"evenodd\" fill-opacity=\"1\" /><path clip-path=\"url(#clip360)\" d=\"M 0 0 M46.212 836.06 Q52.6732 836.06 56.3653 833.418 Q60.0256 830.745 60.0256 826.098 Q60.0256 821.451 56.3653 818.777 Q52.6732 816.104 46.212 816.104 Q39.7508 816.104 36.0905 818.777 Q32.3984 821.451 32.3984 826.098 Q32.3984 830.745 36.0905 833.418 Q39.7508 836.06 46.212 836.06 M58.657 816.104 Q61.8398 817.95 63.3994 820.782 Q64.9272 823.583 64.9272 827.53 Q64.9272 833.991 59.771 838.065 Q54.6147 842.107 46.212 842.107 Q37.8093 842.107 32.6531 838.065 Q27.4968 833.991 27.4968 827.53 Q27.4968 823.583 29.0564 820.782 Q30.5842 817.95 33.7671 816.104 L28.3562 816.104 L28.3562 810.247 L77.5631 810.247 L77.5631 816.104 L58.657 816.104 Z\" fill=\"#000000\" fill-rule=\"evenodd\" fill-opacity=\"1\" /><path clip-path=\"url(#clip360)\" d=\"M 0 0 M49.9359 798.789 L28.3562 798.789 L28.3562 792.932 L49.7131 792.932 Q54.7739 792.932 57.3202 790.959 Q59.8346 788.986 59.8346 785.039 Q59.8346 780.296 56.8109 777.559 Q53.7872 774.79 48.5673 774.79 L28.3562 774.79 L28.3562 768.934 L64.0042 768.934 L64.0042 774.79 L58.5296 774.79 Q61.7762 776.923 63.3676 779.755 Q64.9272 782.556 64.9272 786.28 Q64.9272 792.423 61.1078 795.606 Q57.2883 798.789 49.9359 798.789 M27.4968 784.052 L27.4968 784.052 Z\" fill=\"#000000\" fill-rule=\"evenodd\" fill-opacity=\"1\" /><path clip-path=\"url(#clip360)\" d=\"M 0 0 M44.7161 726.379 L47.5806 726.379 L47.5806 753.306 Q53.6281 752.924 56.8109 749.677 Q59.9619 746.399 59.9619 740.574 Q59.9619 737.201 59.1344 734.05 Q58.3069 730.867 56.6518 727.748 L62.1899 727.748 Q63.5267 730.899 64.227 734.209 Q64.9272 737.519 64.9272 740.925 Q64.9272 749.455 59.9619 754.452 Q54.9967 759.417 46.5303 759.417 Q37.7774 759.417 32.6531 754.706 Q27.4968 749.964 27.4968 741.943 Q27.4968 734.75 32.1438 730.58 Q36.7589 726.379 44.7161 726.379 M42.9973 732.235 Q38.1912 732.299 35.3266 734.941 Q32.4621 737.551 32.4621 741.879 Q32.4621 746.781 35.2312 749.741 Q38.0002 752.669 43.0292 753.115 L42.9973 732.235 Z\" fill=\"#000000\" fill-rule=\"evenodd\" fill-opacity=\"1\" /><path clip-path=\"url(#clip360)\" d=\"M 0 0 M42.4881 687.134 L64.0042 687.134 L64.0042 692.991 L42.679 692.991 Q37.6183 692.991 35.1038 694.964 Q32.5894 696.938 32.5894 700.884 Q32.5894 705.627 35.6131 708.364 Q38.6368 711.101 43.8567 711.101 L64.0042 711.101 L64.0042 716.989 L28.3562 716.989 L28.3562 711.101 L33.8944 711.101 Q30.6797 709.001 29.0883 706.168 Q27.4968 703.303 27.4968 699.579 Q27.4968 693.436 31.3163 690.285 Q35.1038 687.134 42.4881 687.134 Z\" fill=\"#000000\" fill-rule=\"evenodd\" fill-opacity=\"1\" /><path clip-path=\"url(#clip360)\" d=\"M 0 0 M29.7248 649.799 L35.1993 649.799 Q33.8307 652.282 33.1623 654.797 Q32.4621 657.279 32.4621 659.825 Q32.4621 665.523 36.0905 668.674 Q39.6872 671.825 46.212 671.825 Q52.7369 671.825 56.3653 668.674 Q59.9619 665.523 59.9619 659.825 Q59.9619 657.279 59.2935 654.797 Q58.5933 652.282 57.2247 649.799 L62.6355 649.799 Q63.7814 652.25 64.3543 654.892 Q64.9272 657.502 64.9272 660.462 Q64.9272 668.515 59.8664 673.257 Q54.8057 678 46.212 678 Q37.491 678 32.4939 673.225 Q27.4968 668.419 27.4968 660.08 Q27.4968 657.375 28.0697 654.797 Q28.6108 652.218 29.7248 649.799 Z\" fill=\"#000000\" fill-rule=\"evenodd\" fill-opacity=\"1\" /><path clip-path=\"url(#clip360)\" d=\"M 0 0 M67.3143 624.782 Q73.68 627.265 75.6216 629.62 Q77.5631 631.975 77.5631 635.922 L77.5631 640.601 L72.6615 640.601 L72.6615 637.164 Q72.6615 634.745 71.5157 633.408 Q70.3699 632.071 66.1048 630.448 L63.4312 629.397 L28.3562 643.816 L28.3562 637.609 L56.238 626.469 L28.3562 615.329 L28.3562 609.123 L67.3143 624.782 Z\" fill=\"#000000\" fill-rule=\"evenodd\" fill-opacity=\"1\" /><path clip-path=\"url(#clip360)\" d=\"M 0 0 M945.074 43.6931 L945.074 65.8515 L958.199 65.8515 Q964.802 65.8515 967.962 63.1374 Q971.162 60.3828 971.162 54.752 Q971.162 49.0808 967.962 46.4072 Q964.802 43.6931 958.199 43.6931 L945.074 43.6931 M945.074 18.8205 L945.074 37.0496 L957.187 37.0496 Q963.182 37.0496 966.099 34.8216 Q969.056 32.5531 969.056 27.935 Q969.056 23.3575 966.099 21.089 Q963.182 18.8205 957.187 18.8205 L945.074 18.8205 M936.892 12.096 L957.794 12.096 Q967.152 12.096 972.216 15.9849 Q977.279 19.8737 977.279 27.0438 Q977.279 32.5936 974.687 35.8748 Q972.094 39.156 967.071 39.9662 Q973.107 41.2625 976.428 45.3944 Q979.791 49.4858 979.791 55.6432 Q979.791 63.745 974.282 68.1605 Q968.772 72.576 958.605 72.576 L936.892 72.576 L936.892 12.096 Z\" fill=\"#000000\" fill-rule=\"evenodd\" fill-opacity=\"1\" /><path clip-path=\"url(#clip360)\" d=\"M 0 0 M1032.29 48.0275 L1032.29 51.6733 L998.02 51.6733 Q998.506 59.3701 1002.64 63.421 Q1006.81 67.4314 1014.22 67.4314 Q1018.52 67.4314 1022.53 66.3781 Q1026.58 65.3249 1030.55 63.2184 L1030.55 70.267 Q1026.54 71.9684 1022.33 72.8596 Q1018.11 73.7508 1013.78 73.7508 Q1002.92 73.7508 996.561 67.4314 Q990.242 61.1119 990.242 50.3365 Q990.242 39.1965 996.237 32.6746 Q1002.27 26.1121 1012.48 26.1121 Q1021.64 26.1121 1026.94 32.0264 Q1032.29 37.9003 1032.29 48.0275 M1024.84 45.84 Q1024.76 39.7232 1021.39 36.0774 Q1018.07 32.4315 1012.56 32.4315 Q1006.32 32.4315 1002.56 35.9558 Q998.83 39.4801 998.263 45.8805 L1024.84 45.84 Z\" fill=\"#000000\" fill-rule=\"evenodd\" fill-opacity=\"1\" /><path clip-path=\"url(#clip360)\" d=\"M 0 0 M1070.81 34.1734 Q1069.56 33.4443 1068.06 33.1202 Q1066.6 32.7556 1064.82 32.7556 Q1058.5 32.7556 1055.1 36.8875 Q1051.73 40.9789 1051.73 48.6757 L1051.73 72.576 L1044.24 72.576 L1044.24 27.2059 L1051.73 27.2059 L1051.73 34.2544 Q1054.08 30.1225 1057.85 28.1376 Q1061.62 26.1121 1067.01 26.1121 Q1067.78 26.1121 1068.71 26.2337 Q1069.64 26.3147 1070.77 26.5172 L1070.81 34.1734 Z\" fill=\"#000000\" fill-rule=\"evenodd\" fill-opacity=\"1\" /><path clip-path=\"url(#clip360)\" d=\"M 0 0 M1078.63 9.54393 L1086.09 9.54393 L1086.09 72.576 L1078.63 72.576 L1078.63 9.54393 Z\" fill=\"#000000\" fill-rule=\"evenodd\" fill-opacity=\"1\" /><path clip-path=\"url(#clip360)\" d=\"M 0 0 M1101.68 27.2059 L1109.14 27.2059 L1109.14 72.576 L1101.68 72.576 L1101.68 27.2059 M1101.68 9.54393 L1109.14 9.54393 L1109.14 18.9825 L1101.68 18.9825 L1101.68 9.54393 Z\" fill=\"#000000\" fill-rule=\"evenodd\" fill-opacity=\"1\" /><path clip-path=\"url(#clip360)\" d=\"M 0 0 M1162.45 45.1919 L1162.45 72.576 L1154.99 72.576 L1154.99 45.4349 Q1154.99 38.994 1152.48 35.7938 Q1149.97 32.5936 1144.95 32.5936 Q1138.91 32.5936 1135.43 36.4419 Q1131.94 40.2903 1131.94 46.9338 L1131.94 72.576 L1124.45 72.576 L1124.45 27.2059 L1131.94 27.2059 L1131.94 34.2544 Q1134.62 30.163 1138.22 28.1376 Q1141.87 26.1121 1146.61 26.1121 Q1154.43 26.1121 1158.44 30.9732 Q1162.45 35.7938 1162.45 45.1919 Z\" fill=\"#000000\" fill-rule=\"evenodd\" fill-opacity=\"1\" /><path clip-path=\"url(#clip360)\" d=\"M 0 0 M1211.79 86.3491 L1211.79 92.1419 L1168.68 92.1419 L1168.68 86.3491 L1211.79 86.3491 Z\" fill=\"#000000\" fill-rule=\"evenodd\" fill-opacity=\"1\" /><path clip-path=\"url(#clip360)\" d=\"M 0 0 M1226.17 14.324 L1226.17 27.2059 L1241.52 27.2059 L1241.52 32.9987 L1226.17 32.9987 L1226.17 57.6282 Q1226.17 63.1779 1227.67 64.7578 Q1229.2 66.3376 1233.86 66.3376 L1241.52 66.3376 L1241.52 72.576 L1233.86 72.576 Q1225.24 72.576 1221.95 69.3758 Q1218.67 66.1351 1218.67 57.6282 L1218.67 32.9987 L1213.2 32.9987 L1213.2 27.2059 L1218.67 27.2059 L1218.67 14.324 L1226.17 14.324 Z\" fill=\"#000000\" fill-rule=\"evenodd\" fill-opacity=\"1\" /><path clip-path=\"url(#clip360)\" d=\"M 0 0 M1290.13 48.0275 L1290.13 51.6733 L1255.86 51.6733 Q1256.35 59.3701 1260.48 63.421 Q1264.65 67.4314 1272.06 67.4314 Q1276.36 67.4314 1280.37 66.3781 Q1284.42 65.3249 1288.39 63.2184 L1288.39 70.267 Q1284.38 71.9684 1280.17 72.8596 Q1275.95 73.7508 1271.62 73.7508 Q1260.76 73.7508 1254.4 67.4314 Q1248.08 61.1119 1248.08 50.3365 Q1248.08 39.1965 1254.08 32.6746 Q1260.11 26.1121 1270.32 26.1121 Q1279.48 26.1121 1284.78 32.0264 Q1290.13 37.9003 1290.13 48.0275 M1282.68 45.84 Q1282.6 39.7232 1279.23 36.0774 Q1275.91 32.4315 1270.4 32.4315 Q1264.16 32.4315 1260.4 35.9558 Q1256.67 39.4801 1256.1 45.8805 L1282.68 45.84 Z\" fill=\"#000000\" fill-rule=\"evenodd\" fill-opacity=\"1\" /><path clip-path=\"url(#clip360)\" d=\"M 0 0 M1331.29 28.5427 L1331.29 35.5912 Q1328.13 33.9709 1324.73 33.1607 Q1321.32 32.3505 1317.68 32.3505 Q1312.13 32.3505 1309.33 34.0519 Q1306.58 35.7533 1306.58 39.156 Q1306.58 41.7486 1308.56 43.2475 Q1310.55 44.7058 1316.54 46.0426 L1319.09 46.6097 Q1327.03 48.3111 1330.36 51.4303 Q1333.72 54.509 1333.72 60.0587 Q1333.72 66.3781 1328.7 70.0644 Q1323.71 73.7508 1314.96 73.7508 Q1311.32 73.7508 1307.35 73.0216 Q1303.42 72.3329 1299.04 70.9151 L1299.04 63.2184 Q1303.17 65.3654 1307.18 66.4591 Q1311.2 67.5124 1315.12 67.5124 Q1320.39 67.5124 1323.23 65.73 Q1326.06 63.9071 1326.06 60.6258 Q1326.06 57.5877 1324 55.9673 Q1321.97 54.3469 1315.04 52.8481 L1312.45 52.2405 Q1305.52 50.7821 1302.45 47.7845 Q1299.37 44.7463 1299.37 39.4801 Q1299.37 33.0797 1303.9 29.5959 Q1308.44 26.1121 1316.79 26.1121 Q1320.92 26.1121 1324.56 26.7198 Q1328.21 27.3274 1331.29 28.5427 Z\" fill=\"#000000\" fill-rule=\"evenodd\" fill-opacity=\"1\" /><path clip-path=\"url(#clip360)\" d=\"M 0 0 M1352.96 14.324 L1352.96 27.2059 L1368.31 27.2059 L1368.31 32.9987 L1352.96 32.9987 L1352.96 57.6282 Q1352.96 63.1779 1354.46 64.7578 Q1356 66.3376 1360.66 66.3376 L1368.31 66.3376 L1368.31 72.576 L1360.66 72.576 Q1352.03 72.576 1348.75 69.3758 Q1345.47 66.1351 1345.47 57.6282 L1345.47 32.9987 L1340 32.9987 L1340 27.2059 L1345.47 27.2059 L1345.47 14.324 L1352.96 14.324 Z\" fill=\"#000000\" fill-rule=\"evenodd\" fill-opacity=\"1\" /><path clip-path=\"url(#clip360)\" d=\"M 0 0 M1422.39 9.62495 Q1416.96 18.942 1414.33 28.0566 Q1411.7 37.1711 1411.7 46.5287 Q1411.7 55.8863 1414.33 65.0818 Q1417 74.2369 1422.39 83.5134 L1415.91 83.5134 Q1409.83 73.9938 1406.8 64.7983 Q1403.8 55.6027 1403.8 46.5287 Q1403.8 37.4952 1406.8 28.3401 Q1409.79 19.1851 1415.91 9.62495 L1422.39 9.62495 Z\" fill=\"#000000\" fill-rule=\"evenodd\" fill-opacity=\"1\" /><path clip-path=\"url(#clip360)\" d=\"M 0 0 M1444.96 65.6895 L1473.51 65.6895 L1473.51 72.576 L1435.11 72.576 L1435.11 65.6895 Q1439.77 60.8689 1447.79 52.7671 Q1455.85 44.6248 1457.92 42.2752 Q1461.85 37.8598 1463.39 34.8216 Q1464.97 31.7429 1464.97 28.7857 Q1464.97 23.9651 1461.56 20.927 Q1458.2 17.8888 1452.77 17.8888 Q1448.93 17.8888 1444.63 19.2256 Q1440.38 20.5624 1435.52 23.2765 L1435.52 15.0127 Q1440.46 13.0277 1444.75 12.015 Q1449.05 11.0023 1452.61 11.0023 Q1462.01 11.0023 1467.6 15.7013 Q1473.19 20.4004 1473.19 28.2591 Q1473.19 31.9859 1471.77 35.3482 Q1470.4 38.6699 1466.71 43.2069 Q1465.7 44.3817 1460.27 50.0125 Q1454.84 55.6027 1444.96 65.6895 Z\" fill=\"#000000\" fill-rule=\"evenodd\" fill-opacity=\"1\" /><path clip-path=\"url(#clip360)\" d=\"M 0 0 M1508.19 17.4837 Q1501.87 17.4837 1498.67 23.7221 Q1495.51 29.92 1495.51 42.3968 Q1495.51 54.833 1498.67 61.0714 Q1501.87 67.2693 1508.19 67.2693 Q1514.55 67.2693 1517.71 61.0714 Q1520.91 54.833 1520.91 42.3968 Q1520.91 29.92 1517.71 23.7221 Q1514.55 17.4837 1508.19 17.4837 M1508.19 11.0023 Q1518.36 11.0023 1523.71 19.0636 Q1529.09 27.0843 1529.09 42.3968 Q1529.09 57.6687 1523.71 65.73 Q1518.36 73.7508 1508.19 73.7508 Q1498.02 73.7508 1492.64 65.73 Q1487.29 57.6687 1487.29 42.3968 Q1487.29 27.0843 1492.64 19.0636 Q1498.02 11.0023 1508.19 11.0023 Z\" fill=\"#000000\" fill-rule=\"evenodd\" fill-opacity=\"1\" /><path clip-path=\"url(#clip360)\" d=\"M 0 0 M1544.89 65.6895 L1558.26 65.6895 L1558.26 19.5497 L1543.72 22.4663 L1543.72 15.0127 L1558.18 12.096 L1566.36 12.096 L1566.36 65.6895 L1579.73 65.6895 L1579.73 72.576 L1544.89 72.576 L1544.89 65.6895 Z\" fill=\"#000000\" fill-rule=\"evenodd\" fill-opacity=\"1\" /><path clip-path=\"url(#clip360)\" d=\"M 0 0 M1596.5 71.3202 L1596.5 63.8666 Q1599.58 65.3249 1602.74 66.0946 Q1605.9 66.8642 1608.94 66.8642 Q1617.04 66.8642 1621.29 61.436 Q1625.59 55.9673 1626.19 44.8678 Q1623.84 48.3516 1620.24 50.215 Q1616.63 52.0784 1612.26 52.0784 Q1603.18 52.0784 1597.88 46.6097 Q1592.61 41.1005 1592.61 31.5808 Q1592.61 22.2638 1598.12 16.633 Q1603.63 11.0023 1612.79 11.0023 Q1623.28 11.0023 1628.79 19.0636 Q1634.34 27.0843 1634.34 42.3968 Q1634.34 56.6965 1627.53 65.2439 Q1620.77 73.7508 1609.3 73.7508 Q1606.22 73.7508 1603.06 73.1431 Q1599.9 72.5355 1596.5 71.3202 M1612.79 45.678 Q1618.29 45.678 1621.49 41.9107 Q1624.74 38.1433 1624.74 31.5808 Q1624.74 25.0589 1621.49 21.2916 Q1618.29 17.4837 1612.79 17.4837 Q1607.28 17.4837 1604.04 21.2916 Q1600.83 25.0589 1600.83 31.5808 Q1600.83 38.1433 1604.04 41.9107 Q1607.28 45.678 1612.79 45.678 Z\" fill=\"#000000\" fill-rule=\"evenodd\" fill-opacity=\"1\" /><path clip-path=\"url(#clip360)\" d=\"M 0 0 M1646.81 9.62495 L1653.29 9.62495 Q1659.37 19.1851 1662.37 28.3401 Q1665.41 37.4952 1665.41 46.5287 Q1665.41 55.6027 1662.37 64.7983 Q1659.37 73.9938 1653.29 83.5134 L1646.81 83.5134 Q1652.2 74.2369 1654.83 65.0818 Q1657.51 55.8863 1657.51 46.5287 Q1657.51 37.1711 1654.83 28.0566 Q1652.2 18.942 1646.81 9.62495 Z\" fill=\"#000000\" fill-rule=\"evenodd\" fill-opacity=\"1\" /><path clip-path=\"url(#clip362)\" d=\"\n",
       "M365.223 1416.17 L365.223 1423.18 L429.769 1423.18 L429.769 1416.17 L365.223 1416.17 L365.223 1416.17  Z\n",
       "  \" fill=\"#009af9\" fill-rule=\"evenodd\" fill-opacity=\"1\"/>\n",
       "<polyline clip-path=\"url(#clip362)\" style=\"stroke:#000000; stroke-width:1.2; stroke-opacity:1; fill:none\" points=\"\n",
       "  365.223,1416.17 365.223,1423.18 429.769,1423.18 429.769,1416.17 365.223,1416.17 \n",
       "  \"/>\n",
       "<path clip-path=\"url(#clip362)\" d=\"\n",
       "M429.769 1361.9 L429.769 1423.18 L494.316 1423.18 L494.316 1361.9 L429.769 1361.9 L429.769 1361.9  Z\n",
       "  \" fill=\"#009af9\" fill-rule=\"evenodd\" fill-opacity=\"1\"/>\n",
       "<polyline clip-path=\"url(#clip362)\" style=\"stroke:#000000; stroke-width:1.2; stroke-opacity:1; fill:none\" points=\"\n",
       "  429.769,1361.9 429.769,1423.18 494.316,1423.18 494.316,1361.9 429.769,1361.9 \n",
       "  \"/>\n",
       "<path clip-path=\"url(#clip362)\" d=\"\n",
       "M494.316 1309.49 L494.316 1423.18 L558.862 1423.18 L558.862 1309.49 L494.316 1309.49 L494.316 1309.49  Z\n",
       "  \" fill=\"#009af9\" fill-rule=\"evenodd\" fill-opacity=\"1\"/>\n",
       "<polyline clip-path=\"url(#clip362)\" style=\"stroke:#000000; stroke-width:1.2; stroke-opacity:1; fill:none\" points=\"\n",
       "  494.316,1309.49 494.316,1423.18 558.862,1423.18 558.862,1309.49 494.316,1309.49 \n",
       "  \"/>\n",
       "<path clip-path=\"url(#clip362)\" d=\"\n",
       "M558.862 1316.5 L558.862 1423.18 L623.409 1423.18 L623.409 1316.5 L558.862 1316.5 L558.862 1316.5  Z\n",
       "  \" fill=\"#009af9\" fill-rule=\"evenodd\" fill-opacity=\"1\"/>\n",
       "<polyline clip-path=\"url(#clip362)\" style=\"stroke:#000000; stroke-width:1.2; stroke-opacity:1; fill:none\" points=\"\n",
       "  558.862,1316.5 558.862,1423.18 623.409,1423.18 623.409,1316.5 558.862,1316.5 \n",
       "  \"/>\n",
       "<path clip-path=\"url(#clip362)\" d=\"\n",
       "M623.409 1255.23 L623.409 1423.18 L687.956 1423.18 L687.956 1255.23 L623.409 1255.23 L623.409 1255.23  Z\n",
       "  \" fill=\"#009af9\" fill-rule=\"evenodd\" fill-opacity=\"1\"/>\n",
       "<polyline clip-path=\"url(#clip362)\" style=\"stroke:#000000; stroke-width:1.2; stroke-opacity:1; fill:none\" points=\"\n",
       "  623.409,1255.23 623.409,1423.18 687.956,1423.18 687.956,1255.23 623.409,1255.23 \n",
       "  \"/>\n",
       "<path clip-path=\"url(#clip362)\" d=\"\n",
       "M687.956 1207.98 L687.956 1423.18 L752.502 1423.18 L752.502 1207.98 L687.956 1207.98 L687.956 1207.98  Z\n",
       "  \" fill=\"#009af9\" fill-rule=\"evenodd\" fill-opacity=\"1\"/>\n",
       "<polyline clip-path=\"url(#clip362)\" style=\"stroke:#000000; stroke-width:1.2; stroke-opacity:1; fill:none\" points=\"\n",
       "  687.956,1207.98 687.956,1423.18 752.502,1423.18 752.502,1207.98 687.956,1207.98 \n",
       "  \"/>\n",
       "<path clip-path=\"url(#clip362)\" d=\"\n",
       "M752.502 1207.98 L752.502 1423.18 L817.049 1423.18 L817.049 1207.98 L752.502 1207.98 L752.502 1207.98  Z\n",
       "  \" fill=\"#009af9\" fill-rule=\"evenodd\" fill-opacity=\"1\"/>\n",
       "<polyline clip-path=\"url(#clip362)\" style=\"stroke:#000000; stroke-width:1.2; stroke-opacity:1; fill:none\" points=\"\n",
       "  752.502,1207.98 752.502,1423.18 817.049,1423.18 817.049,1207.98 752.502,1207.98 \n",
       "  \"/>\n",
       "<path clip-path=\"url(#clip362)\" d=\"\n",
       "M817.049 1226.8 L817.049 1423.18 L881.596 1423.18 L881.596 1226.8 L817.049 1226.8 L817.049 1226.8  Z\n",
       "  \" fill=\"#009af9\" fill-rule=\"evenodd\" fill-opacity=\"1\"/>\n",
       "<polyline clip-path=\"url(#clip362)\" style=\"stroke:#000000; stroke-width:1.2; stroke-opacity:1; fill:none\" points=\"\n",
       "  817.049,1226.8 817.049,1423.18 881.596,1423.18 881.596,1226.8 817.049,1226.8 \n",
       "  \"/>\n",
       "<path clip-path=\"url(#clip362)\" d=\"\n",
       "M881.596 1233.45 L881.596 1423.18 L946.142 1423.18 L946.142 1233.45 L881.596 1233.45 L881.596 1233.45  Z\n",
       "  \" fill=\"#009af9\" fill-rule=\"evenodd\" fill-opacity=\"1\"/>\n",
       "<polyline clip-path=\"url(#clip362)\" style=\"stroke:#000000; stroke-width:1.2; stroke-opacity:1; fill:none\" points=\"\n",
       "  881.596,1233.45 881.596,1423.18 946.142,1423.18 946.142,1233.45 881.596,1233.45 \n",
       "  \"/>\n",
       "<path clip-path=\"url(#clip362)\" d=\"\n",
       "M946.142 1230.86 L946.142 1423.18 L1010.69 1423.18 L1010.69 1230.86 L946.142 1230.86 L946.142 1230.86  Z\n",
       "  \" fill=\"#009af9\" fill-rule=\"evenodd\" fill-opacity=\"1\"/>\n",
       "<polyline clip-path=\"url(#clip362)\" style=\"stroke:#000000; stroke-width:1.2; stroke-opacity:1; fill:none\" points=\"\n",
       "  946.142,1230.86 946.142,1423.18 1010.69,1423.18 1010.69,1230.86 946.142,1230.86 \n",
       "  \"/>\n",
       "<path clip-path=\"url(#clip362)\" d=\"\n",
       "M1010.69 1220.9 L1010.69 1423.18 L1075.24 1423.18 L1075.24 1220.9 L1010.69 1220.9 L1010.69 1220.9  Z\n",
       "  \" fill=\"#009af9\" fill-rule=\"evenodd\" fill-opacity=\"1\"/>\n",
       "<polyline clip-path=\"url(#clip362)\" style=\"stroke:#000000; stroke-width:1.2; stroke-opacity:1; fill:none\" points=\"\n",
       "  1010.69,1220.9 1010.69,1423.18 1075.24,1423.18 1075.24,1220.9 1010.69,1220.9 \n",
       "  \"/>\n",
       "<path clip-path=\"url(#clip362)\" d=\"\n",
       "M1075.24 1270.36 L1075.24 1423.18 L1139.78 1423.18 L1139.78 1270.36 L1075.24 1270.36 L1075.24 1270.36  Z\n",
       "  \" fill=\"#009af9\" fill-rule=\"evenodd\" fill-opacity=\"1\"/>\n",
       "<polyline clip-path=\"url(#clip362)\" style=\"stroke:#000000; stroke-width:1.2; stroke-opacity:1; fill:none\" points=\"\n",
       "  1075.24,1270.36 1075.24,1423.18 1139.78,1423.18 1139.78,1270.36 1075.24,1270.36 \n",
       "  \"/>\n",
       "<path clip-path=\"url(#clip362)\" d=\"\n",
       "M1139.78 1281.8 L1139.78 1423.18 L1204.33 1423.18 L1204.33 1281.8 L1139.78 1281.8 L1139.78 1281.8  Z\n",
       "  \" fill=\"#009af9\" fill-rule=\"evenodd\" fill-opacity=\"1\"/>\n",
       "<polyline clip-path=\"url(#clip362)\" style=\"stroke:#000000; stroke-width:1.2; stroke-opacity:1; fill:none\" points=\"\n",
       "  1139.78,1281.8 1139.78,1423.18 1204.33,1423.18 1204.33,1281.8 1139.78,1281.8 \n",
       "  \"/>\n",
       "<path clip-path=\"url(#clip362)\" d=\"\n",
       "M1204.33 1289.19 L1204.33 1423.18 L1268.88 1423.18 L1268.88 1289.19 L1204.33 1289.19 L1204.33 1289.19  Z\n",
       "  \" fill=\"#009af9\" fill-rule=\"evenodd\" fill-opacity=\"1\"/>\n",
       "<polyline clip-path=\"url(#clip362)\" style=\"stroke:#000000; stroke-width:1.2; stroke-opacity:1; fill:none\" points=\"\n",
       "  1204.33,1289.19 1204.33,1423.18 1268.88,1423.18 1268.88,1289.19 1204.33,1289.19 \n",
       "  \"/>\n",
       "<path clip-path=\"url(#clip362)\" d=\"\n",
       "M1268.88 1300.63 L1268.88 1423.18 L1333.42 1423.18 L1333.42 1300.63 L1268.88 1300.63 L1268.88 1300.63  Z\n",
       "  \" fill=\"#009af9\" fill-rule=\"evenodd\" fill-opacity=\"1\"/>\n",
       "<polyline clip-path=\"url(#clip362)\" style=\"stroke:#000000; stroke-width:1.2; stroke-opacity:1; fill:none\" points=\"\n",
       "  1268.88,1300.63 1268.88,1423.18 1333.42,1423.18 1333.42,1300.63 1268.88,1300.63 \n",
       "  \"/>\n",
       "<path clip-path=\"url(#clip362)\" d=\"\n",
       "M1333.42 1297.68 L1333.42 1423.18 L1397.97 1423.18 L1397.97 1297.68 L1333.42 1297.68 L1333.42 1297.68  Z\n",
       "  \" fill=\"#009af9\" fill-rule=\"evenodd\" fill-opacity=\"1\"/>\n",
       "<polyline clip-path=\"url(#clip362)\" style=\"stroke:#000000; stroke-width:1.2; stroke-opacity:1; fill:none\" points=\"\n",
       "  1333.42,1297.68 1333.42,1423.18 1397.97,1423.18 1397.97,1297.68 1333.42,1297.68 \n",
       "  \"/>\n",
       "<path clip-path=\"url(#clip362)\" d=\"\n",
       "M1397.97 1292.14 L1397.97 1423.18 L1462.52 1423.18 L1462.52 1292.14 L1397.97 1292.14 L1397.97 1292.14  Z\n",
       "  \" fill=\"#009af9\" fill-rule=\"evenodd\" fill-opacity=\"1\"/>\n",
       "<polyline clip-path=\"url(#clip362)\" style=\"stroke:#000000; stroke-width:1.2; stroke-opacity:1; fill:none\" points=\"\n",
       "  1397.97,1292.14 1397.97,1423.18 1462.52,1423.18 1462.52,1292.14 1397.97,1292.14 \n",
       "  \"/>\n",
       "<path clip-path=\"url(#clip362)\" d=\"\n",
       "M1462.52 1267.78 L1462.52 1423.18 L1527.06 1423.18 L1527.06 1267.78 L1462.52 1267.78 L1462.52 1267.78  Z\n",
       "  \" fill=\"#009af9\" fill-rule=\"evenodd\" fill-opacity=\"1\"/>\n",
       "<polyline clip-path=\"url(#clip362)\" style=\"stroke:#000000; stroke-width:1.2; stroke-opacity:1; fill:none\" points=\"\n",
       "  1462.52,1267.78 1462.52,1423.18 1527.06,1423.18 1527.06,1267.78 1462.52,1267.78 \n",
       "  \"/>\n",
       "<path clip-path=\"url(#clip362)\" d=\"\n",
       "M1527.06 1268.15 L1527.06 1423.18 L1591.61 1423.18 L1591.61 1268.15 L1527.06 1268.15 L1527.06 1268.15  Z\n",
       "  \" fill=\"#009af9\" fill-rule=\"evenodd\" fill-opacity=\"1\"/>\n",
       "<polyline clip-path=\"url(#clip362)\" style=\"stroke:#000000; stroke-width:1.2; stroke-opacity:1; fill:none\" points=\"\n",
       "  1527.06,1268.15 1527.06,1423.18 1591.61,1423.18 1591.61,1268.15 1527.06,1268.15 \n",
       "  \"/>\n",
       "<path clip-path=\"url(#clip362)\" d=\"\n",
       "M1591.61 1255.59 L1591.61 1423.18 L1656.16 1423.18 L1656.16 1255.59 L1591.61 1255.59 L1591.61 1255.59  Z\n",
       "  \" fill=\"#009af9\" fill-rule=\"evenodd\" fill-opacity=\"1\"/>\n",
       "<polyline clip-path=\"url(#clip362)\" style=\"stroke:#000000; stroke-width:1.2; stroke-opacity:1; fill:none\" points=\"\n",
       "  1591.61,1255.59 1591.61,1423.18 1656.16,1423.18 1656.16,1255.59 1591.61,1255.59 \n",
       "  \"/>\n",
       "<path clip-path=\"url(#clip362)\" d=\"\n",
       "M1656.16 1243.41 L1656.16 1423.18 L1720.7 1423.18 L1720.7 1243.41 L1656.16 1243.41 L1656.16 1243.41  Z\n",
       "  \" fill=\"#009af9\" fill-rule=\"evenodd\" fill-opacity=\"1\"/>\n",
       "<polyline clip-path=\"url(#clip362)\" style=\"stroke:#000000; stroke-width:1.2; stroke-opacity:1; fill:none\" points=\"\n",
       "  1656.16,1243.41 1656.16,1423.18 1720.7,1423.18 1720.7,1243.41 1656.16,1243.41 \n",
       "  \"/>\n",
       "<path clip-path=\"url(#clip362)\" d=\"\n",
       "M1720.7 1166.27 L1720.7 1423.18 L1785.25 1423.18 L1785.25 1166.27 L1720.7 1166.27 L1720.7 1166.27  Z\n",
       "  \" fill=\"#009af9\" fill-rule=\"evenodd\" fill-opacity=\"1\"/>\n",
       "<polyline clip-path=\"url(#clip362)\" style=\"stroke:#000000; stroke-width:1.2; stroke-opacity:1; fill:none\" points=\"\n",
       "  1720.7,1166.27 1720.7,1423.18 1785.25,1423.18 1785.25,1166.27 1720.7,1166.27 \n",
       "  \"/>\n",
       "<path clip-path=\"url(#clip362)\" d=\"\n",
       "M1785.25 1121.6 L1785.25 1423.18 L1849.8 1423.18 L1849.8 1121.6 L1785.25 1121.6 L1785.25 1121.6  Z\n",
       "  \" fill=\"#009af9\" fill-rule=\"evenodd\" fill-opacity=\"1\"/>\n",
       "<polyline clip-path=\"url(#clip362)\" style=\"stroke:#000000; stroke-width:1.2; stroke-opacity:1; fill:none\" points=\"\n",
       "  1785.25,1121.6 1785.25,1423.18 1849.8,1423.18 1849.8,1121.6 1785.25,1121.6 \n",
       "  \"/>\n",
       "<path clip-path=\"url(#clip362)\" d=\"\n",
       "M1849.8 1117.54 L1849.8 1423.18 L1914.34 1423.18 L1914.34 1117.54 L1849.8 1117.54 L1849.8 1117.54  Z\n",
       "  \" fill=\"#009af9\" fill-rule=\"evenodd\" fill-opacity=\"1\"/>\n",
       "<polyline clip-path=\"url(#clip362)\" style=\"stroke:#000000; stroke-width:1.2; stroke-opacity:1; fill:none\" points=\"\n",
       "  1849.8,1117.54 1849.8,1423.18 1914.34,1423.18 1914.34,1117.54 1849.8,1117.54 \n",
       "  \"/>\n",
       "<path clip-path=\"url(#clip362)\" d=\"\n",
       "M1914.34 1041.87 L1914.34 1423.18 L1978.89 1423.18 L1978.89 1041.87 L1914.34 1041.87 L1914.34 1041.87  Z\n",
       "  \" fill=\"#009af9\" fill-rule=\"evenodd\" fill-opacity=\"1\"/>\n",
       "<polyline clip-path=\"url(#clip362)\" style=\"stroke:#000000; stroke-width:1.2; stroke-opacity:1; fill:none\" points=\"\n",
       "  1914.34,1041.87 1914.34,1423.18 1978.89,1423.18 1978.89,1041.87 1914.34,1041.87 \n",
       "  \"/>\n",
       "<path clip-path=\"url(#clip362)\" d=\"\n",
       "M1978.89 1128.98 L1978.89 1423.18 L2043.44 1423.18 L2043.44 1128.98 L1978.89 1128.98 L1978.89 1128.98  Z\n",
       "  \" fill=\"#009af9\" fill-rule=\"evenodd\" fill-opacity=\"1\"/>\n",
       "<polyline clip-path=\"url(#clip362)\" style=\"stroke:#000000; stroke-width:1.2; stroke-opacity:1; fill:none\" points=\"\n",
       "  1978.89,1128.98 1978.89,1423.18 2043.44,1423.18 2043.44,1128.98 1978.89,1128.98 \n",
       "  \"/>\n",
       "<path clip-path=\"url(#clip362)\" d=\"\n",
       "M2043.44 1074.72 L2043.44 1423.18 L2107.98 1423.18 L2107.98 1074.72 L2043.44 1074.72 L2043.44 1074.72  Z\n",
       "  \" fill=\"#009af9\" fill-rule=\"evenodd\" fill-opacity=\"1\"/>\n",
       "<polyline clip-path=\"url(#clip362)\" style=\"stroke:#000000; stroke-width:1.2; stroke-opacity:1; fill:none\" points=\"\n",
       "  2043.44,1074.72 2043.44,1423.18 2107.98,1423.18 2107.98,1074.72 2043.44,1074.72 \n",
       "  \"/>\n",
       "<path clip-path=\"url(#clip362)\" d=\"\n",
       "M2107.98 120.519 L2107.98 1423.18 L2172.53 1423.18 L2172.53 120.519 L2107.98 120.519 L2107.98 120.519  Z\n",
       "  \" fill=\"#009af9\" fill-rule=\"evenodd\" fill-opacity=\"1\"/>\n",
       "<polyline clip-path=\"url(#clip362)\" style=\"stroke:#000000; stroke-width:1.2; stroke-opacity:1; fill:none\" points=\"\n",
       "  2107.98,120.519 2107.98,1423.18 2172.53,1423.18 2172.53,120.519 2107.98,120.519 \n",
       "  \"/>\n",
       "<path clip-path=\"url(#clip362)\" d=\"\n",
       "M2172.53 1248.21 L2172.53 1423.18 L2237.08 1423.18 L2237.08 1248.21 L2172.53 1248.21 L2172.53 1248.21  Z\n",
       "  \" fill=\"#009af9\" fill-rule=\"evenodd\" fill-opacity=\"1\"/>\n",
       "<polyline clip-path=\"url(#clip362)\" style=\"stroke:#000000; stroke-width:1.2; stroke-opacity:1; fill:none\" points=\"\n",
       "  2172.53,1248.21 2172.53,1423.18 2237.08,1423.18 2237.08,1248.21 2172.53,1248.21 \n",
       "  \"/>\n",
       "</svg>\n"
      ]
     },
     "execution_count": 19,
     "metadata": {},
     "output_type": "execute_result"
    }
   ],
   "source": [
    "hist_b_test = histogram(cmf_bb_test, normalize=:probability, bins=range(minimum(cmf_bb_test),stop = maximum(cmf_bb_test), length =30), leg=false, #xlim=(0,1), \n",
    "    ylim=(0,0.2), xlabel=\"CMF\", ylabel=\"Frequency\", lw=0.3,\n",
    "    title=\"Berlin_test (2019)\")"
   ]
  },
  {
   "cell_type": "code",
   "execution_count": 19,
   "id": "80dbf35f-f211-48d1-bcd9-74e20d34d134",
   "metadata": {
    "execution": {
     "iopub.execute_input": "2021-05-26T09:14:58.106000+02:00",
     "iopub.status.busy": "2021-05-26T09:14:58.106000+02:00",
     "iopub.status.idle": "2021-05-26T09:14:58.480000+02:00",
     "shell.execute_reply": "2021-05-26T09:14:58.480000+02:00"
    },
    "tags": []
   },
   "outputs": [
    {
     "data": {
      "image/svg+xml": [
       "<?xml version=\"1.0\" encoding=\"utf-8\"?>\n",
       "<svg xmlns=\"http://www.w3.org/2000/svg\" xmlns:xlink=\"http://www.w3.org/1999/xlink\" width=\"600\" height=\"400\" viewBox=\"0 0 2400 1600\">\n",
       "<defs>\n",
       "  <clipPath id=\"clip360\">\n",
       "    <rect x=\"0\" y=\"0\" width=\"2400\" height=\"1600\"/>\n",
       "  </clipPath>\n",
       "</defs>\n",
       "<path clip-path=\"url(#clip360)\" d=\"\n",
       "M0 1600 L2400 1600 L2400 0 L0 0  Z\n",
       "  \" fill=\"#ffffff\" fill-rule=\"evenodd\" fill-opacity=\"1\"/>\n",
       "<defs>\n",
       "  <clipPath id=\"clip361\">\n",
       "    <rect x=\"480\" y=\"0\" width=\"1681\" height=\"1600\"/>\n",
       "  </clipPath>\n",
       "</defs>\n",
       "<path clip-path=\"url(#clip360)\" d=\"\n",
       "M249.542 1423.18 L2352.76 1423.18 L2352.76 123.472 L249.542 123.472  Z\n",
       "  \" fill=\"#ffffff\" fill-rule=\"evenodd\" fill-opacity=\"1\"/>\n",
       "<defs>\n",
       "  <clipPath id=\"clip362\">\n",
       "    <rect x=\"249\" y=\"123\" width=\"2104\" height=\"1301\"/>\n",
       "  </clipPath>\n",
       "</defs>\n",
       "<polyline clip-path=\"url(#clip362)\" style=\"stroke:#000000; stroke-width:2; stroke-opacity:0.1; fill:none\" points=\"\n",
       "  546.768,1423.18 546.768,123.472 \n",
       "  \"/>\n",
       "<polyline clip-path=\"url(#clip362)\" style=\"stroke:#000000; stroke-width:2; stroke-opacity:0.1; fill:none\" points=\"\n",
       "  969.345,1423.18 969.345,123.472 \n",
       "  \"/>\n",
       "<polyline clip-path=\"url(#clip362)\" style=\"stroke:#000000; stroke-width:2; stroke-opacity:0.1; fill:none\" points=\"\n",
       "  1391.92,1423.18 1391.92,123.472 \n",
       "  \"/>\n",
       "<polyline clip-path=\"url(#clip362)\" style=\"stroke:#000000; stroke-width:2; stroke-opacity:0.1; fill:none\" points=\"\n",
       "  1814.5,1423.18 1814.5,123.472 \n",
       "  \"/>\n",
       "<polyline clip-path=\"url(#clip362)\" style=\"stroke:#000000; stroke-width:2; stroke-opacity:0.1; fill:none\" points=\"\n",
       "  2237.08,1423.18 2237.08,123.472 \n",
       "  \"/>\n",
       "<polyline clip-path=\"url(#clip360)\" style=\"stroke:#000000; stroke-width:4; stroke-opacity:1; fill:none\" points=\"\n",
       "  249.542,1423.18 2352.76,1423.18 \n",
       "  \"/>\n",
       "<polyline clip-path=\"url(#clip360)\" style=\"stroke:#000000; stroke-width:4; stroke-opacity:1; fill:none\" points=\"\n",
       "  546.768,1423.18 546.768,1407.58 \n",
       "  \"/>\n",
       "<polyline clip-path=\"url(#clip360)\" style=\"stroke:#000000; stroke-width:4; stroke-opacity:1; fill:none\" points=\"\n",
       "  969.345,1423.18 969.345,1407.58 \n",
       "  \"/>\n",
       "<polyline clip-path=\"url(#clip360)\" style=\"stroke:#000000; stroke-width:4; stroke-opacity:1; fill:none\" points=\"\n",
       "  1391.92,1423.18 1391.92,1407.58 \n",
       "  \"/>\n",
       "<polyline clip-path=\"url(#clip360)\" style=\"stroke:#000000; stroke-width:4; stroke-opacity:1; fill:none\" points=\"\n",
       "  1814.5,1423.18 1814.5,1407.58 \n",
       "  \"/>\n",
       "<polyline clip-path=\"url(#clip360)\" style=\"stroke:#000000; stroke-width:4; stroke-opacity:1; fill:none\" points=\"\n",
       "  2237.08,1423.18 2237.08,1407.58 \n",
       "  \"/>\n",
       "<path clip-path=\"url(#clip360)\" d=\"M 0 0 M524.951 1452.37 Q521.34 1452.37 519.512 1455.94 Q517.706 1459.48 517.706 1466.61 Q517.706 1473.71 519.512 1477.28 Q521.34 1480.82 524.951 1480.82 Q528.586 1480.82 530.391 1477.28 Q532.22 1473.71 532.22 1466.61 Q532.22 1459.48 530.391 1455.94 Q528.586 1452.37 524.951 1452.37 M524.951 1448.67 Q530.762 1448.67 533.817 1453.27 Q536.896 1457.86 536.896 1466.61 Q536.896 1475.33 533.817 1479.94 Q530.762 1484.52 524.951 1484.52 Q519.141 1484.52 516.063 1479.94 Q513.007 1475.33 513.007 1466.61 Q513.007 1457.86 516.063 1453.27 Q519.141 1448.67 524.951 1448.67 Z\" fill=\"#000000\" fill-rule=\"evenodd\" fill-opacity=\"1\" /><path clip-path=\"url(#clip360)\" d=\"M 0 0 M545.113 1477.97 L549.998 1477.97 L549.998 1483.85 L545.113 1483.85 L545.113 1477.97 Z\" fill=\"#000000\" fill-rule=\"evenodd\" fill-opacity=\"1\" /><path clip-path=\"url(#clip360)\" d=\"M 0 0 M564.211 1479.92 L580.53 1479.92 L580.53 1483.85 L558.586 1483.85 L558.586 1479.92 Q561.248 1477.16 565.831 1472.53 Q570.437 1467.88 571.618 1466.54 Q573.863 1464.01 574.743 1462.28 Q575.646 1460.52 575.646 1458.83 Q575.646 1456.07 573.701 1454.34 Q571.78 1452.6 568.678 1452.6 Q566.479 1452.6 564.025 1453.37 Q561.595 1454.13 558.817 1455.68 L558.817 1450.96 Q561.641 1449.82 564.095 1449.25 Q566.548 1448.67 568.586 1448.67 Q573.956 1448.67 577.15 1451.35 Q580.345 1454.04 580.345 1458.53 Q580.345 1460.66 579.535 1462.58 Q578.747 1464.48 576.641 1467.07 Q576.062 1467.74 572.96 1470.96 Q569.859 1474.15 564.211 1479.92 Z\" fill=\"#000000\" fill-rule=\"evenodd\" fill-opacity=\"1\" /><path clip-path=\"url(#clip360)\" d=\"M 0 0 M946.487 1452.37 Q942.875 1452.37 941.047 1455.94 Q939.241 1459.48 939.241 1466.61 Q939.241 1473.71 941.047 1477.28 Q942.875 1480.82 946.487 1480.82 Q950.121 1480.82 951.926 1477.28 Q953.755 1473.71 953.755 1466.61 Q953.755 1459.48 951.926 1455.94 Q950.121 1452.37 946.487 1452.37 M946.487 1448.67 Q952.297 1448.67 955.352 1453.27 Q958.431 1457.86 958.431 1466.61 Q958.431 1475.33 955.352 1479.94 Q952.297 1484.52 946.487 1484.52 Q940.676 1484.52 937.598 1479.94 Q934.542 1475.33 934.542 1466.61 Q934.542 1457.86 937.598 1453.27 Q940.676 1448.67 946.487 1448.67 Z\" fill=\"#000000\" fill-rule=\"evenodd\" fill-opacity=\"1\" /><path clip-path=\"url(#clip360)\" d=\"M 0 0 M966.648 1477.97 L971.533 1477.97 L971.533 1483.85 L966.648 1483.85 L966.648 1477.97 Z\" fill=\"#000000\" fill-rule=\"evenodd\" fill-opacity=\"1\" /><path clip-path=\"url(#clip360)\" d=\"M 0 0 M994.565 1453.37 L982.76 1471.81 L994.565 1471.81 L994.565 1453.37 M993.338 1449.29 L999.218 1449.29 L999.218 1471.81 L1004.15 1471.81 L1004.15 1475.7 L999.218 1475.7 L999.218 1483.85 L994.565 1483.85 L994.565 1475.7 L978.963 1475.7 L978.963 1471.19 L993.338 1449.29 Z\" fill=\"#000000\" fill-rule=\"evenodd\" fill-opacity=\"1\" /><path clip-path=\"url(#clip360)\" d=\"M 0 0 M1369.23 1452.37 Q1365.61 1452.37 1363.79 1455.94 Q1361.98 1459.48 1361.98 1466.61 Q1361.98 1473.71 1363.79 1477.28 Q1365.61 1480.82 1369.23 1480.82 Q1372.86 1480.82 1374.67 1477.28 Q1376.49 1473.71 1376.49 1466.61 Q1376.49 1459.48 1374.67 1455.94 Q1372.86 1452.37 1369.23 1452.37 M1369.23 1448.67 Q1375.04 1448.67 1378.09 1453.27 Q1381.17 1457.86 1381.17 1466.61 Q1381.17 1475.33 1378.09 1479.94 Q1375.04 1484.52 1369.23 1484.52 Q1363.42 1484.52 1360.34 1479.94 Q1357.28 1475.33 1357.28 1466.61 Q1357.28 1457.86 1360.34 1453.27 Q1363.42 1448.67 1369.23 1448.67 Z\" fill=\"#000000\" fill-rule=\"evenodd\" fill-opacity=\"1\" /><path clip-path=\"url(#clip360)\" d=\"M 0 0 M1389.39 1477.97 L1394.27 1477.97 L1394.27 1483.85 L1389.39 1483.85 L1389.39 1477.97 Z\" fill=\"#000000\" fill-rule=\"evenodd\" fill-opacity=\"1\" /><path clip-path=\"url(#clip360)\" d=\"M 0 0 M1415.04 1464.71 Q1411.89 1464.71 1410.04 1466.86 Q1408.21 1469.01 1408.21 1472.76 Q1408.21 1476.49 1410.04 1478.67 Q1411.89 1480.82 1415.04 1480.82 Q1418.18 1480.82 1420.01 1478.67 Q1421.86 1476.49 1421.86 1472.76 Q1421.86 1469.01 1420.01 1466.86 Q1418.18 1464.71 1415.04 1464.71 M1424.32 1450.06 L1424.32 1454.31 Q1422.56 1453.48 1420.75 1453.04 Q1418.97 1452.6 1417.21 1452.6 Q1412.58 1452.6 1410.13 1455.73 Q1407.7 1458.85 1407.35 1465.17 Q1408.72 1463.16 1410.78 1462.09 Q1412.84 1461 1415.31 1461 Q1420.52 1461 1423.53 1464.18 Q1426.56 1467.32 1426.56 1472.76 Q1426.56 1478.09 1423.41 1481.31 Q1420.27 1484.52 1415.04 1484.52 Q1409.04 1484.52 1405.87 1479.94 Q1402.7 1475.33 1402.7 1466.61 Q1402.7 1458.41 1406.59 1453.55 Q1410.48 1448.67 1417.03 1448.67 Q1418.79 1448.67 1420.57 1449.01 Q1422.37 1449.36 1424.32 1450.06 Z\" fill=\"#000000\" fill-rule=\"evenodd\" fill-opacity=\"1\" /><path clip-path=\"url(#clip360)\" d=\"M 0 0 M1791.93 1452.37 Q1788.32 1452.37 1786.49 1455.94 Q1784.68 1459.48 1784.68 1466.61 Q1784.68 1473.71 1786.49 1477.28 Q1788.32 1480.82 1791.93 1480.82 Q1795.56 1480.82 1797.37 1477.28 Q1799.2 1473.71 1799.2 1466.61 Q1799.2 1459.48 1797.37 1455.94 Q1795.56 1452.37 1791.93 1452.37 M1791.93 1448.67 Q1797.74 1448.67 1800.8 1453.27 Q1803.87 1457.86 1803.87 1466.61 Q1803.87 1475.33 1800.8 1479.94 Q1797.74 1484.52 1791.93 1484.52 Q1786.12 1484.52 1783.04 1479.94 Q1779.98 1475.33 1779.98 1466.61 Q1779.98 1457.86 1783.04 1453.27 Q1786.12 1448.67 1791.93 1448.67 Z\" fill=\"#000000\" fill-rule=\"evenodd\" fill-opacity=\"1\" /><path clip-path=\"url(#clip360)\" d=\"M 0 0 M1812.09 1477.97 L1816.98 1477.97 L1816.98 1483.85 L1812.09 1483.85 L1812.09 1477.97 Z\" fill=\"#000000\" fill-rule=\"evenodd\" fill-opacity=\"1\" /><path clip-path=\"url(#clip360)\" d=\"M 0 0 M1837.16 1467.44 Q1833.83 1467.44 1831.91 1469.22 Q1830.01 1471 1830.01 1474.13 Q1830.01 1477.25 1831.91 1479.04 Q1833.83 1480.82 1837.16 1480.82 Q1840.49 1480.82 1842.42 1479.04 Q1844.34 1477.23 1844.34 1474.13 Q1844.34 1471 1842.42 1469.22 Q1840.52 1467.44 1837.16 1467.44 M1832.48 1465.45 Q1829.48 1464.71 1827.79 1462.65 Q1826.12 1460.59 1826.12 1457.63 Q1826.12 1453.48 1829.06 1451.07 Q1832.02 1448.67 1837.16 1448.67 Q1842.32 1448.67 1845.26 1451.07 Q1848.2 1453.48 1848.2 1457.63 Q1848.2 1460.59 1846.51 1462.65 Q1844.85 1464.71 1841.86 1465.45 Q1845.24 1466.24 1847.11 1468.53 Q1849.01 1470.82 1849.01 1474.13 Q1849.01 1479.15 1845.93 1481.84 Q1842.88 1484.52 1837.16 1484.52 Q1831.44 1484.52 1828.36 1481.84 Q1825.31 1479.15 1825.31 1474.13 Q1825.31 1470.82 1827.21 1468.53 Q1829.11 1466.24 1832.48 1465.45 M1830.77 1458.06 Q1830.77 1460.75 1832.44 1462.25 Q1834.13 1463.76 1837.16 1463.76 Q1840.17 1463.76 1841.86 1462.25 Q1843.57 1460.75 1843.57 1458.06 Q1843.57 1455.38 1841.86 1453.88 Q1840.17 1452.37 1837.16 1452.37 Q1834.13 1452.37 1832.44 1453.88 Q1830.77 1455.38 1830.77 1458.06 Z\" fill=\"#000000\" fill-rule=\"evenodd\" fill-opacity=\"1\" /><path clip-path=\"url(#clip360)\" d=\"M 0 0 M2204.23 1479.92 L2211.87 1479.92 L2211.87 1453.55 L2203.56 1455.22 L2203.56 1450.96 L2211.82 1449.29 L2216.5 1449.29 L2216.5 1479.92 L2224.14 1479.92 L2224.14 1483.85 L2204.23 1483.85 L2204.23 1479.92 Z\" fill=\"#000000\" fill-rule=\"evenodd\" fill-opacity=\"1\" /><path clip-path=\"url(#clip360)\" d=\"M 0 0 M2233.58 1477.97 L2238.46 1477.97 L2238.46 1483.85 L2233.58 1483.85 L2233.58 1477.97 Z\" fill=\"#000000\" fill-rule=\"evenodd\" fill-opacity=\"1\" /><path clip-path=\"url(#clip360)\" d=\"M 0 0 M2258.65 1452.37 Q2255.04 1452.37 2253.21 1455.94 Q2251.4 1459.48 2251.4 1466.61 Q2251.4 1473.71 2253.21 1477.28 Q2255.04 1480.82 2258.65 1480.82 Q2262.28 1480.82 2264.09 1477.28 Q2265.92 1473.71 2265.92 1466.61 Q2265.92 1459.48 2264.09 1455.94 Q2262.28 1452.37 2258.65 1452.37 M2258.65 1448.67 Q2264.46 1448.67 2267.52 1453.27 Q2270.59 1457.86 2270.59 1466.61 Q2270.59 1475.33 2267.52 1479.94 Q2264.46 1484.52 2258.65 1484.52 Q2252.84 1484.52 2249.76 1479.94 Q2246.7 1475.33 2246.7 1466.61 Q2246.7 1457.86 2249.76 1453.27 Q2252.84 1448.67 2258.65 1448.67 Z\" fill=\"#000000\" fill-rule=\"evenodd\" fill-opacity=\"1\" /><path clip-path=\"url(#clip360)\" d=\"M 0 0 M1273.57 1524.18 L1273.57 1530.96 Q1270.32 1527.94 1266.63 1526.44 Q1262.97 1524.95 1258.83 1524.95 Q1250.68 1524.95 1246.36 1529.95 Q1242.03 1534.91 1242.03 1544.33 Q1242.03 1553.72 1246.36 1558.72 Q1250.68 1563.68 1258.83 1563.68 Q1262.97 1563.68 1266.63 1562.19 Q1270.32 1560.69 1273.57 1557.67 L1273.57 1564.38 Q1270.2 1566.68 1266.41 1567.82 Q1262.65 1568.97 1258.45 1568.97 Q1247.66 1568.97 1241.45 1562.38 Q1235.25 1555.76 1235.25 1544.33 Q1235.25 1532.87 1241.45 1526.28 Q1247.66 1519.66 1258.45 1519.66 Q1262.72 1519.66 1266.47 1520.81 Q1270.26 1521.92 1273.57 1524.18 Z\" fill=\"#000000\" fill-rule=\"evenodd\" fill-opacity=\"1\" /><path clip-path=\"url(#clip360)\" d=\"M 0 0 M1283.5 1520.52 L1293.08 1520.52 L1305.21 1552.86 L1317.4 1520.52 L1326.98 1520.52 L1326.98 1568.04 L1320.71 1568.04 L1320.71 1526.32 L1308.45 1558.91 L1301.99 1558.91 L1289.74 1526.32 L1289.74 1568.04 L1283.5 1568.04 L1283.5 1520.52 Z\" fill=\"#000000\" fill-rule=\"evenodd\" fill-opacity=\"1\" /><path clip-path=\"url(#clip360)\" d=\"M 0 0 M1339.74 1520.52 L1367.05 1520.52 L1367.05 1525.93 L1346.17 1525.93 L1346.17 1539.94 L1365.01 1539.94 L1365.01 1545.35 L1346.17 1545.35 L1346.17 1568.04 L1339.74 1568.04 L1339.74 1520.52 Z\" fill=\"#000000\" fill-rule=\"evenodd\" fill-opacity=\"1\" /><polyline clip-path=\"url(#clip362)\" style=\"stroke:#000000; stroke-width:2; stroke-opacity:0.1; fill:none\" points=\"\n",
       "  249.542,1423.18 2352.76,1423.18 \n",
       "  \"/>\n",
       "<polyline clip-path=\"url(#clip362)\" style=\"stroke:#000000; stroke-width:2; stroke-opacity:0.1; fill:none\" points=\"\n",
       "  249.542,1098.25 2352.76,1098.25 \n",
       "  \"/>\n",
       "<polyline clip-path=\"url(#clip362)\" style=\"stroke:#000000; stroke-width:2; stroke-opacity:0.1; fill:none\" points=\"\n",
       "  249.542,773.326 2352.76,773.326 \n",
       "  \"/>\n",
       "<polyline clip-path=\"url(#clip362)\" style=\"stroke:#000000; stroke-width:2; stroke-opacity:0.1; fill:none\" points=\"\n",
       "  249.542,448.399 2352.76,448.399 \n",
       "  \"/>\n",
       "<polyline clip-path=\"url(#clip362)\" style=\"stroke:#000000; stroke-width:2; stroke-opacity:0.1; fill:none\" points=\"\n",
       "  249.542,123.472 2352.76,123.472 \n",
       "  \"/>\n",
       "<polyline clip-path=\"url(#clip360)\" style=\"stroke:#000000; stroke-width:4; stroke-opacity:1; fill:none\" points=\"\n",
       "  249.542,1423.18 249.542,123.472 \n",
       "  \"/>\n",
       "<polyline clip-path=\"url(#clip360)\" style=\"stroke:#000000; stroke-width:4; stroke-opacity:1; fill:none\" points=\"\n",
       "  249.542,1423.18 274.781,1423.18 \n",
       "  \"/>\n",
       "<polyline clip-path=\"url(#clip360)\" style=\"stroke:#000000; stroke-width:4; stroke-opacity:1; fill:none\" points=\"\n",
       "  249.542,1098.25 274.781,1098.25 \n",
       "  \"/>\n",
       "<polyline clip-path=\"url(#clip360)\" style=\"stroke:#000000; stroke-width:4; stroke-opacity:1; fill:none\" points=\"\n",
       "  249.542,773.326 274.781,773.326 \n",
       "  \"/>\n",
       "<polyline clip-path=\"url(#clip360)\" style=\"stroke:#000000; stroke-width:4; stroke-opacity:1; fill:none\" points=\"\n",
       "  249.542,448.399 274.781,448.399 \n",
       "  \"/>\n",
       "<polyline clip-path=\"url(#clip360)\" style=\"stroke:#000000; stroke-width:4; stroke-opacity:1; fill:none\" points=\"\n",
       "  249.542,123.472 274.781,123.472 \n",
       "  \"/>\n",
       "<path clip-path=\"url(#clip360)\" d=\"M 0 0 M126.205 1408.98 Q122.593 1408.98 120.765 1412.54 Q118.959 1416.08 118.959 1423.21 Q118.959 1430.32 120.765 1433.89 Q122.593 1437.43 126.205 1437.43 Q129.839 1437.43 131.644 1433.89 Q133.473 1430.32 133.473 1423.21 Q133.473 1416.08 131.644 1412.54 Q129.839 1408.98 126.205 1408.98 M126.205 1405.27 Q132.015 1405.27 135.07 1409.88 Q138.149 1414.46 138.149 1423.21 Q138.149 1431.94 135.07 1436.55 Q132.015 1441.13 126.205 1441.13 Q120.394 1441.13 117.316 1436.55 Q114.26 1431.94 114.26 1423.21 Q114.26 1414.46 117.316 1409.88 Q120.394 1405.27 126.205 1405.27 Z\" fill=\"#000000\" fill-rule=\"evenodd\" fill-opacity=\"1\" /><path clip-path=\"url(#clip360)\" d=\"M 0 0 M146.366 1434.58 L151.251 1434.58 L151.251 1440.46 L146.366 1440.46 L146.366 1434.58 Z\" fill=\"#000000\" fill-rule=\"evenodd\" fill-opacity=\"1\" /><path clip-path=\"url(#clip360)\" d=\"M 0 0 M171.436 1408.98 Q167.825 1408.98 165.996 1412.54 Q164.19 1416.08 164.19 1423.21 Q164.19 1430.32 165.996 1433.89 Q167.825 1437.43 171.436 1437.43 Q175.07 1437.43 176.876 1433.89 Q178.704 1430.32 178.704 1423.21 Q178.704 1416.08 176.876 1412.54 Q175.07 1408.98 171.436 1408.98 M171.436 1405.27 Q177.246 1405.27 180.301 1409.88 Q183.38 1414.46 183.38 1423.21 Q183.38 1431.94 180.301 1436.55 Q177.246 1441.13 171.436 1441.13 Q165.626 1441.13 162.547 1436.55 Q159.491 1431.94 159.491 1423.21 Q159.491 1414.46 162.547 1409.88 Q165.626 1405.27 171.436 1405.27 Z\" fill=\"#000000\" fill-rule=\"evenodd\" fill-opacity=\"1\" /><path clip-path=\"url(#clip360)\" d=\"M 0 0 M201.598 1408.98 Q197.987 1408.98 196.158 1412.54 Q194.352 1416.08 194.352 1423.21 Q194.352 1430.32 196.158 1433.89 Q197.987 1437.43 201.598 1437.43 Q205.232 1437.43 207.037 1433.89 Q208.866 1430.32 208.866 1423.21 Q208.866 1416.08 207.037 1412.54 Q205.232 1408.98 201.598 1408.98 M201.598 1405.27 Q207.408 1405.27 210.463 1409.88 Q213.542 1414.46 213.542 1423.21 Q213.542 1431.94 210.463 1436.55 Q207.408 1441.13 201.598 1441.13 Q195.787 1441.13 192.709 1436.55 Q189.653 1431.94 189.653 1423.21 Q189.653 1414.46 192.709 1409.88 Q195.787 1405.27 201.598 1405.27 Z\" fill=\"#000000\" fill-rule=\"evenodd\" fill-opacity=\"1\" /><path clip-path=\"url(#clip360)\" d=\"M 0 0 M127.2 1084.05 Q123.589 1084.05 121.76 1087.62 Q119.955 1091.16 119.955 1098.29 Q119.955 1105.39 121.76 1108.96 Q123.589 1112.5 127.2 1112.5 Q130.834 1112.5 132.64 1108.96 Q134.468 1105.39 134.468 1098.29 Q134.468 1091.16 132.64 1087.62 Q130.834 1084.05 127.2 1084.05 M127.2 1080.35 Q133.01 1080.35 136.066 1084.95 Q139.144 1089.54 139.144 1098.29 Q139.144 1107.01 136.066 1111.62 Q133.01 1116.2 127.2 1116.2 Q121.39 1116.2 118.311 1111.62 Q115.256 1107.01 115.256 1098.29 Q115.256 1089.54 118.311 1084.95 Q121.39 1080.35 127.2 1080.35 Z\" fill=\"#000000\" fill-rule=\"evenodd\" fill-opacity=\"1\" /><path clip-path=\"url(#clip360)\" d=\"M 0 0 M147.362 1109.65 L152.246 1109.65 L152.246 1115.53 L147.362 1115.53 L147.362 1109.65 Z\" fill=\"#000000\" fill-rule=\"evenodd\" fill-opacity=\"1\" /><path clip-path=\"url(#clip360)\" d=\"M 0 0 M172.431 1084.05 Q168.82 1084.05 166.991 1087.62 Q165.186 1091.16 165.186 1098.29 Q165.186 1105.39 166.991 1108.96 Q168.82 1112.5 172.431 1112.5 Q176.065 1112.5 177.871 1108.96 Q179.7 1105.39 179.7 1098.29 Q179.7 1091.16 177.871 1087.62 Q176.065 1084.05 172.431 1084.05 M172.431 1080.35 Q178.241 1080.35 181.297 1084.95 Q184.376 1089.54 184.376 1098.29 Q184.376 1107.01 181.297 1111.62 Q178.241 1116.2 172.431 1116.2 Q166.621 1116.2 163.542 1111.62 Q160.487 1107.01 160.487 1098.29 Q160.487 1089.54 163.542 1084.95 Q166.621 1080.35 172.431 1080.35 Z\" fill=\"#000000\" fill-rule=\"evenodd\" fill-opacity=\"1\" /><path clip-path=\"url(#clip360)\" d=\"M 0 0 M192.639 1080.97 L210.996 1080.97 L210.996 1084.91 L196.922 1084.91 L196.922 1093.38 Q197.94 1093.03 198.959 1092.87 Q199.977 1092.69 200.996 1092.69 Q206.783 1092.69 210.162 1095.86 Q213.542 1099.03 213.542 1104.45 Q213.542 1110.02 210.07 1113.13 Q206.598 1116.2 200.278 1116.2 Q198.102 1116.2 195.834 1115.83 Q193.588 1115.46 191.181 1114.72 L191.181 1110.02 Q193.264 1111.16 195.487 1111.71 Q197.709 1112.27 200.186 1112.27 Q204.19 1112.27 206.528 1110.16 Q208.866 1108.06 208.866 1104.45 Q208.866 1100.83 206.528 1098.73 Q204.19 1096.62 200.186 1096.62 Q198.311 1096.62 196.436 1097.04 Q194.584 1097.45 192.639 1098.33 L192.639 1080.97 Z\" fill=\"#000000\" fill-rule=\"evenodd\" fill-opacity=\"1\" /><path clip-path=\"url(#clip360)\" d=\"M 0 0 M126.205 759.125 Q122.593 759.125 120.765 762.689 Q118.959 766.231 118.959 773.361 Q118.959 780.467 120.765 784.032 Q122.593 787.574 126.205 787.574 Q129.839 787.574 131.644 784.032 Q133.473 780.467 133.473 773.361 Q133.473 766.231 131.644 762.689 Q129.839 759.125 126.205 759.125 M126.205 755.421 Q132.015 755.421 135.07 760.027 Q138.149 764.611 138.149 773.361 Q138.149 782.088 135.07 786.694 Q132.015 791.277 126.205 791.277 Q120.394 791.277 117.316 786.694 Q114.26 782.088 114.26 773.361 Q114.26 764.611 117.316 760.027 Q120.394 755.421 126.205 755.421 Z\" fill=\"#000000\" fill-rule=\"evenodd\" fill-opacity=\"1\" /><path clip-path=\"url(#clip360)\" d=\"M 0 0 M146.366 784.726 L151.251 784.726 L151.251 790.606 L146.366 790.606 L146.366 784.726 Z\" fill=\"#000000\" fill-rule=\"evenodd\" fill-opacity=\"1\" /><path clip-path=\"url(#clip360)\" d=\"M 0 0 M162.246 786.671 L169.885 786.671 L169.885 760.305 L161.575 761.972 L161.575 757.713 L169.839 756.046 L174.514 756.046 L174.514 786.671 L182.153 786.671 L182.153 790.606 L162.246 790.606 L162.246 786.671 Z\" fill=\"#000000\" fill-rule=\"evenodd\" fill-opacity=\"1\" /><path clip-path=\"url(#clip360)\" d=\"M 0 0 M201.598 759.125 Q197.987 759.125 196.158 762.689 Q194.352 766.231 194.352 773.361 Q194.352 780.467 196.158 784.032 Q197.987 787.574 201.598 787.574 Q205.232 787.574 207.037 784.032 Q208.866 780.467 208.866 773.361 Q208.866 766.231 207.037 762.689 Q205.232 759.125 201.598 759.125 M201.598 755.421 Q207.408 755.421 210.463 760.027 Q213.542 764.611 213.542 773.361 Q213.542 782.088 210.463 786.694 Q207.408 791.277 201.598 791.277 Q195.787 791.277 192.709 786.694 Q189.653 782.088 189.653 773.361 Q189.653 764.611 192.709 760.027 Q195.787 755.421 201.598 755.421 Z\" fill=\"#000000\" fill-rule=\"evenodd\" fill-opacity=\"1\" /><path clip-path=\"url(#clip360)\" d=\"M 0 0 M127.2 434.198 Q123.589 434.198 121.76 437.763 Q119.955 441.304 119.955 448.434 Q119.955 455.54 121.76 459.105 Q123.589 462.647 127.2 462.647 Q130.834 462.647 132.64 459.105 Q134.468 455.54 134.468 448.434 Q134.468 441.304 132.64 437.763 Q130.834 434.198 127.2 434.198 M127.2 430.494 Q133.01 430.494 136.066 435.101 Q139.144 439.684 139.144 448.434 Q139.144 457.161 136.066 461.767 Q133.01 466.35 127.2 466.35 Q121.39 466.35 118.311 461.767 Q115.256 457.161 115.256 448.434 Q115.256 439.684 118.311 435.101 Q121.39 430.494 127.2 430.494 Z\" fill=\"#000000\" fill-rule=\"evenodd\" fill-opacity=\"1\" /><path clip-path=\"url(#clip360)\" d=\"M 0 0 M147.362 459.799 L152.246 459.799 L152.246 465.679 L147.362 465.679 L147.362 459.799 Z\" fill=\"#000000\" fill-rule=\"evenodd\" fill-opacity=\"1\" /><path clip-path=\"url(#clip360)\" d=\"M 0 0 M163.241 461.744 L170.88 461.744 L170.88 435.378 L162.57 437.045 L162.57 432.786 L170.834 431.119 L175.51 431.119 L175.51 461.744 L183.149 461.744 L183.149 465.679 L163.241 465.679 L163.241 461.744 Z\" fill=\"#000000\" fill-rule=\"evenodd\" fill-opacity=\"1\" /><path clip-path=\"url(#clip360)\" d=\"M 0 0 M192.639 431.119 L210.996 431.119 L210.996 435.054 L196.922 435.054 L196.922 443.526 Q197.94 443.179 198.959 443.017 Q199.977 442.832 200.996 442.832 Q206.783 442.832 210.162 446.003 Q213.542 449.175 213.542 454.591 Q213.542 460.17 210.07 463.272 Q206.598 466.35 200.278 466.35 Q198.102 466.35 195.834 465.98 Q193.588 465.61 191.181 464.869 L191.181 460.17 Q193.264 461.304 195.487 461.86 Q197.709 462.415 200.186 462.415 Q204.19 462.415 206.528 460.309 Q208.866 458.202 208.866 454.591 Q208.866 450.98 206.528 448.874 Q204.19 446.767 200.186 446.767 Q198.311 446.767 196.436 447.184 Q194.584 447.6 192.639 448.48 L192.639 431.119 Z\" fill=\"#000000\" fill-rule=\"evenodd\" fill-opacity=\"1\" /><path clip-path=\"url(#clip360)\" d=\"M 0 0 M126.205 109.271 Q122.593 109.271 120.765 112.836 Q118.959 116.377 118.959 123.507 Q118.959 130.613 120.765 134.178 Q122.593 137.72 126.205 137.72 Q129.839 137.72 131.644 134.178 Q133.473 130.613 133.473 123.507 Q133.473 116.377 131.644 112.836 Q129.839 109.271 126.205 109.271 M126.205 105.567 Q132.015 105.567 135.07 110.174 Q138.149 114.757 138.149 123.507 Q138.149 132.234 135.07 136.84 Q132.015 141.423 126.205 141.423 Q120.394 141.423 117.316 136.84 Q114.26 132.234 114.26 123.507 Q114.26 114.757 117.316 110.174 Q120.394 105.567 126.205 105.567 Z\" fill=\"#000000\" fill-rule=\"evenodd\" fill-opacity=\"1\" /><path clip-path=\"url(#clip360)\" d=\"M 0 0 M146.366 134.873 L151.251 134.873 L151.251 140.752 L146.366 140.752 L146.366 134.873 Z\" fill=\"#000000\" fill-rule=\"evenodd\" fill-opacity=\"1\" /><path clip-path=\"url(#clip360)\" d=\"M 0 0 M165.464 136.817 L181.783 136.817 L181.783 140.752 L159.839 140.752 L159.839 136.817 Q162.501 134.062 167.084 129.433 Q171.69 124.78 172.871 123.437 Q175.116 120.914 175.996 119.178 Q176.899 117.419 176.899 115.729 Q176.899 112.974 174.954 111.238 Q173.033 109.502 169.931 109.502 Q167.732 109.502 165.278 110.266 Q162.848 111.03 160.07 112.581 L160.07 107.859 Q162.894 106.725 165.348 106.146 Q167.802 105.567 169.839 105.567 Q175.209 105.567 178.403 108.252 Q181.598 110.937 181.598 115.428 Q181.598 117.558 180.788 119.479 Q180.001 121.377 177.894 123.97 Q177.315 124.641 174.214 127.859 Q171.112 131.053 165.464 136.817 Z\" fill=\"#000000\" fill-rule=\"evenodd\" fill-opacity=\"1\" /><path clip-path=\"url(#clip360)\" d=\"M 0 0 M201.598 109.271 Q197.987 109.271 196.158 112.836 Q194.352 116.377 194.352 123.507 Q194.352 130.613 196.158 134.178 Q197.987 137.72 201.598 137.72 Q205.232 137.72 207.037 134.178 Q208.866 130.613 208.866 123.507 Q208.866 116.377 207.037 112.836 Q205.232 109.271 201.598 109.271 M201.598 105.567 Q207.408 105.567 210.463 110.174 Q213.542 114.757 213.542 123.507 Q213.542 132.234 210.463 136.84 Q207.408 141.423 201.598 141.423 Q195.787 141.423 192.709 136.84 Q189.653 132.234 189.653 123.507 Q189.653 114.757 192.709 110.174 Q195.787 105.567 201.598 105.567 Z\" fill=\"#000000\" fill-rule=\"evenodd\" fill-opacity=\"1\" /><path clip-path=\"url(#clip360)\" d=\"M 0 0 M16.4842 937.529 L16.4842 910.221 L21.895 910.221 L21.895 931.1 L35.8996 931.1 L35.8996 912.258 L41.3104 912.258 L41.3104 931.1 L64.0042 931.1 L64.0042 937.529 L16.4842 937.529 Z\" fill=\"#000000\" fill-rule=\"evenodd\" fill-opacity=\"1\" /><path clip-path=\"url(#clip360)\" d=\"M 0 0 M33.8307 884.376 Q33.2578 885.362 33.0032 886.54 Q32.7167 887.686 32.7167 889.086 Q32.7167 894.052 35.9632 896.725 Q39.1779 899.367 45.2253 899.367 L64.0042 899.367 L64.0042 905.255 L28.3562 905.255 L28.3562 899.367 L33.8944 899.367 Q30.6479 897.521 29.0883 894.561 Q27.4968 891.601 27.4968 887.368 Q27.4968 886.763 27.5923 886.031 Q27.656 885.299 27.8151 884.408 L33.8307 884.376 Z\" fill=\"#000000\" fill-rule=\"evenodd\" fill-opacity=\"1\" /><path clip-path=\"url(#clip360)\" d=\"M 0 0 M44.7161 849.173 L47.5806 849.173 L47.5806 876.1 Q53.6281 875.718 56.8109 872.472 Q59.9619 869.194 59.9619 863.369 Q59.9619 859.995 59.1344 856.844 Q58.3069 853.661 56.6518 850.542 L62.1899 850.542 Q63.5267 853.693 64.227 857.003 Q64.9272 860.313 64.9272 863.719 Q64.9272 872.249 59.9619 877.246 Q54.9967 882.211 46.5303 882.211 Q37.7774 882.211 32.6531 877.501 Q27.4968 872.758 27.4968 864.738 Q27.4968 857.544 32.1438 853.375 Q36.7589 849.173 44.7161 849.173 M42.9973 855.03 Q38.1912 855.093 35.3266 857.735 Q32.4621 860.345 32.4621 864.674 Q32.4621 869.575 35.2312 872.536 Q38.0002 875.464 43.0292 875.909 L42.9973 855.03 Z\" fill=\"#000000\" fill-rule=\"evenodd\" fill-opacity=\"1\" /><path clip-path=\"url(#clip360)\" d=\"M 0 0 M46.212 836.06 Q52.6732 836.06 56.3653 833.418 Q60.0256 830.745 60.0256 826.098 Q60.0256 821.451 56.3653 818.777 Q52.6732 816.104 46.212 816.104 Q39.7508 816.104 36.0905 818.777 Q32.3984 821.451 32.3984 826.098 Q32.3984 830.745 36.0905 833.418 Q39.7508 836.06 46.212 836.06 M58.657 816.104 Q61.8398 817.95 63.3994 820.782 Q64.9272 823.583 64.9272 827.53 Q64.9272 833.991 59.771 838.065 Q54.6147 842.107 46.212 842.107 Q37.8093 842.107 32.6531 838.065 Q27.4968 833.991 27.4968 827.53 Q27.4968 823.583 29.0564 820.782 Q30.5842 817.95 33.7671 816.104 L28.3562 816.104 L28.3562 810.247 L77.5631 810.247 L77.5631 816.104 L58.657 816.104 Z\" fill=\"#000000\" fill-rule=\"evenodd\" fill-opacity=\"1\" /><path clip-path=\"url(#clip360)\" d=\"M 0 0 M49.9359 798.789 L28.3562 798.789 L28.3562 792.932 L49.7131 792.932 Q54.7739 792.932 57.3202 790.959 Q59.8346 788.986 59.8346 785.039 Q59.8346 780.296 56.8109 777.559 Q53.7872 774.79 48.5673 774.79 L28.3562 774.79 L28.3562 768.934 L64.0042 768.934 L64.0042 774.79 L58.5296 774.79 Q61.7762 776.923 63.3676 779.755 Q64.9272 782.556 64.9272 786.28 Q64.9272 792.423 61.1078 795.606 Q57.2883 798.789 49.9359 798.789 M27.4968 784.052 L27.4968 784.052 Z\" fill=\"#000000\" fill-rule=\"evenodd\" fill-opacity=\"1\" /><path clip-path=\"url(#clip360)\" d=\"M 0 0 M44.7161 726.379 L47.5806 726.379 L47.5806 753.306 Q53.6281 752.924 56.8109 749.677 Q59.9619 746.399 59.9619 740.574 Q59.9619 737.201 59.1344 734.05 Q58.3069 730.867 56.6518 727.748 L62.1899 727.748 Q63.5267 730.899 64.227 734.209 Q64.9272 737.519 64.9272 740.925 Q64.9272 749.455 59.9619 754.452 Q54.9967 759.417 46.5303 759.417 Q37.7774 759.417 32.6531 754.706 Q27.4968 749.964 27.4968 741.943 Q27.4968 734.75 32.1438 730.58 Q36.7589 726.379 44.7161 726.379 M42.9973 732.235 Q38.1912 732.299 35.3266 734.941 Q32.4621 737.551 32.4621 741.879 Q32.4621 746.781 35.2312 749.741 Q38.0002 752.669 43.0292 753.115 L42.9973 732.235 Z\" fill=\"#000000\" fill-rule=\"evenodd\" fill-opacity=\"1\" /><path clip-path=\"url(#clip360)\" d=\"M 0 0 M42.4881 687.134 L64.0042 687.134 L64.0042 692.991 L42.679 692.991 Q37.6183 692.991 35.1038 694.964 Q32.5894 696.938 32.5894 700.884 Q32.5894 705.627 35.6131 708.364 Q38.6368 711.101 43.8567 711.101 L64.0042 711.101 L64.0042 716.989 L28.3562 716.989 L28.3562 711.101 L33.8944 711.101 Q30.6797 709.001 29.0883 706.168 Q27.4968 703.303 27.4968 699.579 Q27.4968 693.436 31.3163 690.285 Q35.1038 687.134 42.4881 687.134 Z\" fill=\"#000000\" fill-rule=\"evenodd\" fill-opacity=\"1\" /><path clip-path=\"url(#clip360)\" d=\"M 0 0 M29.7248 649.799 L35.1993 649.799 Q33.8307 652.282 33.1623 654.797 Q32.4621 657.279 32.4621 659.825 Q32.4621 665.523 36.0905 668.674 Q39.6872 671.825 46.212 671.825 Q52.7369 671.825 56.3653 668.674 Q59.9619 665.523 59.9619 659.825 Q59.9619 657.279 59.2935 654.797 Q58.5933 652.282 57.2247 649.799 L62.6355 649.799 Q63.7814 652.25 64.3543 654.892 Q64.9272 657.502 64.9272 660.462 Q64.9272 668.515 59.8664 673.257 Q54.8057 678 46.212 678 Q37.491 678 32.4939 673.225 Q27.4968 668.419 27.4968 660.08 Q27.4968 657.375 28.0697 654.797 Q28.6108 652.218 29.7248 649.799 Z\" fill=\"#000000\" fill-rule=\"evenodd\" fill-opacity=\"1\" /><path clip-path=\"url(#clip360)\" d=\"M 0 0 M67.3143 624.782 Q73.68 627.265 75.6216 629.62 Q77.5631 631.975 77.5631 635.922 L77.5631 640.601 L72.6615 640.601 L72.6615 637.164 Q72.6615 634.745 71.5157 633.408 Q70.3699 632.071 66.1048 630.448 L63.4312 629.397 L28.3562 643.816 L28.3562 637.609 L56.238 626.469 L28.3562 615.329 L28.3562 609.123 L67.3143 624.782 Z\" fill=\"#000000\" fill-rule=\"evenodd\" fill-opacity=\"1\" /><path clip-path=\"url(#clip360)\" d=\"M 0 0 M945.074 43.6931 L945.074 65.8515 L958.199 65.8515 Q964.802 65.8515 967.962 63.1374 Q971.162 60.3828 971.162 54.752 Q971.162 49.0808 967.962 46.4072 Q964.802 43.6931 958.199 43.6931 L945.074 43.6931 M945.074 18.8205 L945.074 37.0496 L957.187 37.0496 Q963.182 37.0496 966.099 34.8216 Q969.056 32.5531 969.056 27.935 Q969.056 23.3575 966.099 21.089 Q963.182 18.8205 957.187 18.8205 L945.074 18.8205 M936.892 12.096 L957.794 12.096 Q967.152 12.096 972.216 15.9849 Q977.279 19.8737 977.279 27.0438 Q977.279 32.5936 974.687 35.8748 Q972.094 39.156 967.071 39.9662 Q973.107 41.2625 976.428 45.3944 Q979.791 49.4858 979.791 55.6432 Q979.791 63.745 974.282 68.1605 Q968.772 72.576 958.605 72.576 L936.892 72.576 L936.892 12.096 Z\" fill=\"#000000\" fill-rule=\"evenodd\" fill-opacity=\"1\" /><path clip-path=\"url(#clip360)\" d=\"M 0 0 M1032.29 48.0275 L1032.29 51.6733 L998.02 51.6733 Q998.506 59.3701 1002.64 63.421 Q1006.81 67.4314 1014.22 67.4314 Q1018.52 67.4314 1022.53 66.3781 Q1026.58 65.3249 1030.55 63.2184 L1030.55 70.267 Q1026.54 71.9684 1022.33 72.8596 Q1018.11 73.7508 1013.78 73.7508 Q1002.92 73.7508 996.561 67.4314 Q990.242 61.1119 990.242 50.3365 Q990.242 39.1965 996.237 32.6746 Q1002.27 26.1121 1012.48 26.1121 Q1021.64 26.1121 1026.94 32.0264 Q1032.29 37.9003 1032.29 48.0275 M1024.84 45.84 Q1024.76 39.7232 1021.39 36.0774 Q1018.07 32.4315 1012.56 32.4315 Q1006.32 32.4315 1002.56 35.9558 Q998.83 39.4801 998.263 45.8805 L1024.84 45.84 Z\" fill=\"#000000\" fill-rule=\"evenodd\" fill-opacity=\"1\" /><path clip-path=\"url(#clip360)\" d=\"M 0 0 M1070.81 34.1734 Q1069.56 33.4443 1068.06 33.1202 Q1066.6 32.7556 1064.82 32.7556 Q1058.5 32.7556 1055.1 36.8875 Q1051.73 40.9789 1051.73 48.6757 L1051.73 72.576 L1044.24 72.576 L1044.24 27.2059 L1051.73 27.2059 L1051.73 34.2544 Q1054.08 30.1225 1057.85 28.1376 Q1061.62 26.1121 1067.01 26.1121 Q1067.78 26.1121 1068.71 26.2337 Q1069.64 26.3147 1070.77 26.5172 L1070.81 34.1734 Z\" fill=\"#000000\" fill-rule=\"evenodd\" fill-opacity=\"1\" /><path clip-path=\"url(#clip360)\" d=\"M 0 0 M1078.63 9.54393 L1086.09 9.54393 L1086.09 72.576 L1078.63 72.576 L1078.63 9.54393 Z\" fill=\"#000000\" fill-rule=\"evenodd\" fill-opacity=\"1\" /><path clip-path=\"url(#clip360)\" d=\"M 0 0 M1101.68 27.2059 L1109.14 27.2059 L1109.14 72.576 L1101.68 72.576 L1101.68 27.2059 M1101.68 9.54393 L1109.14 9.54393 L1109.14 18.9825 L1101.68 18.9825 L1101.68 9.54393 Z\" fill=\"#000000\" fill-rule=\"evenodd\" fill-opacity=\"1\" /><path clip-path=\"url(#clip360)\" d=\"M 0 0 M1162.45 45.1919 L1162.45 72.576 L1154.99 72.576 L1154.99 45.4349 Q1154.99 38.994 1152.48 35.7938 Q1149.97 32.5936 1144.95 32.5936 Q1138.91 32.5936 1135.43 36.4419 Q1131.94 40.2903 1131.94 46.9338 L1131.94 72.576 L1124.45 72.576 L1124.45 27.2059 L1131.94 27.2059 L1131.94 34.2544 Q1134.62 30.163 1138.22 28.1376 Q1141.87 26.1121 1146.61 26.1121 Q1154.43 26.1121 1158.44 30.9732 Q1162.45 35.7938 1162.45 45.1919 Z\" fill=\"#000000\" fill-rule=\"evenodd\" fill-opacity=\"1\" /><path clip-path=\"url(#clip360)\" d=\"M 0 0 M1211.79 86.3491 L1211.79 92.1419 L1168.68 92.1419 L1168.68 86.3491 L1211.79 86.3491 Z\" fill=\"#000000\" fill-rule=\"evenodd\" fill-opacity=\"1\" /><path clip-path=\"url(#clip360)\" d=\"M 0 0 M1226.17 14.324 L1226.17 27.2059 L1241.52 27.2059 L1241.52 32.9987 L1226.17 32.9987 L1226.17 57.6282 Q1226.17 63.1779 1227.67 64.7578 Q1229.2 66.3376 1233.86 66.3376 L1241.52 66.3376 L1241.52 72.576 L1233.86 72.576 Q1225.24 72.576 1221.95 69.3758 Q1218.67 66.1351 1218.67 57.6282 L1218.67 32.9987 L1213.2 32.9987 L1213.2 27.2059 L1218.67 27.2059 L1218.67 14.324 L1226.17 14.324 Z\" fill=\"#000000\" fill-rule=\"evenodd\" fill-opacity=\"1\" /><path clip-path=\"url(#clip360)\" d=\"M 0 0 M1290.13 48.0275 L1290.13 51.6733 L1255.86 51.6733 Q1256.35 59.3701 1260.48 63.421 Q1264.65 67.4314 1272.06 67.4314 Q1276.36 67.4314 1280.37 66.3781 Q1284.42 65.3249 1288.39 63.2184 L1288.39 70.267 Q1284.38 71.9684 1280.17 72.8596 Q1275.95 73.7508 1271.62 73.7508 Q1260.76 73.7508 1254.4 67.4314 Q1248.08 61.1119 1248.08 50.3365 Q1248.08 39.1965 1254.08 32.6746 Q1260.11 26.1121 1270.32 26.1121 Q1279.48 26.1121 1284.78 32.0264 Q1290.13 37.9003 1290.13 48.0275 M1282.68 45.84 Q1282.6 39.7232 1279.23 36.0774 Q1275.91 32.4315 1270.4 32.4315 Q1264.16 32.4315 1260.4 35.9558 Q1256.67 39.4801 1256.1 45.8805 L1282.68 45.84 Z\" fill=\"#000000\" fill-rule=\"evenodd\" fill-opacity=\"1\" /><path clip-path=\"url(#clip360)\" d=\"M 0 0 M1331.29 28.5427 L1331.29 35.5912 Q1328.13 33.9709 1324.73 33.1607 Q1321.32 32.3505 1317.68 32.3505 Q1312.13 32.3505 1309.33 34.0519 Q1306.58 35.7533 1306.58 39.156 Q1306.58 41.7486 1308.56 43.2475 Q1310.55 44.7058 1316.54 46.0426 L1319.09 46.6097 Q1327.03 48.3111 1330.36 51.4303 Q1333.72 54.509 1333.72 60.0587 Q1333.72 66.3781 1328.7 70.0644 Q1323.71 73.7508 1314.96 73.7508 Q1311.32 73.7508 1307.35 73.0216 Q1303.42 72.3329 1299.04 70.9151 L1299.04 63.2184 Q1303.17 65.3654 1307.18 66.4591 Q1311.2 67.5124 1315.12 67.5124 Q1320.39 67.5124 1323.23 65.73 Q1326.06 63.9071 1326.06 60.6258 Q1326.06 57.5877 1324 55.9673 Q1321.97 54.3469 1315.04 52.8481 L1312.45 52.2405 Q1305.52 50.7821 1302.45 47.7845 Q1299.37 44.7463 1299.37 39.4801 Q1299.37 33.0797 1303.9 29.5959 Q1308.44 26.1121 1316.79 26.1121 Q1320.92 26.1121 1324.56 26.7198 Q1328.21 27.3274 1331.29 28.5427 Z\" fill=\"#000000\" fill-rule=\"evenodd\" fill-opacity=\"1\" /><path clip-path=\"url(#clip360)\" d=\"M 0 0 M1352.96 14.324 L1352.96 27.2059 L1368.31 27.2059 L1368.31 32.9987 L1352.96 32.9987 L1352.96 57.6282 Q1352.96 63.1779 1354.46 64.7578 Q1356 66.3376 1360.66 66.3376 L1368.31 66.3376 L1368.31 72.576 L1360.66 72.576 Q1352.03 72.576 1348.75 69.3758 Q1345.47 66.1351 1345.47 57.6282 L1345.47 32.9987 L1340 32.9987 L1340 27.2059 L1345.47 27.2059 L1345.47 14.324 L1352.96 14.324 Z\" fill=\"#000000\" fill-rule=\"evenodd\" fill-opacity=\"1\" /><path clip-path=\"url(#clip360)\" d=\"M 0 0 M1422.39 9.62495 Q1416.96 18.942 1414.33 28.0566 Q1411.7 37.1711 1411.7 46.5287 Q1411.7 55.8863 1414.33 65.0818 Q1417 74.2369 1422.39 83.5134 L1415.91 83.5134 Q1409.83 73.9938 1406.8 64.7983 Q1403.8 55.6027 1403.8 46.5287 Q1403.8 37.4952 1406.8 28.3401 Q1409.79 19.1851 1415.91 9.62495 L1422.39 9.62495 Z\" fill=\"#000000\" fill-rule=\"evenodd\" fill-opacity=\"1\" /><path clip-path=\"url(#clip360)\" d=\"M 0 0 M1444.96 65.6895 L1473.51 65.6895 L1473.51 72.576 L1435.11 72.576 L1435.11 65.6895 Q1439.77 60.8689 1447.79 52.7671 Q1455.85 44.6248 1457.92 42.2752 Q1461.85 37.8598 1463.39 34.8216 Q1464.97 31.7429 1464.97 28.7857 Q1464.97 23.9651 1461.56 20.927 Q1458.2 17.8888 1452.77 17.8888 Q1448.93 17.8888 1444.63 19.2256 Q1440.38 20.5624 1435.52 23.2765 L1435.52 15.0127 Q1440.46 13.0277 1444.75 12.015 Q1449.05 11.0023 1452.61 11.0023 Q1462.01 11.0023 1467.6 15.7013 Q1473.19 20.4004 1473.19 28.2591 Q1473.19 31.9859 1471.77 35.3482 Q1470.4 38.6699 1466.71 43.2069 Q1465.7 44.3817 1460.27 50.0125 Q1454.84 55.6027 1444.96 65.6895 Z\" fill=\"#000000\" fill-rule=\"evenodd\" fill-opacity=\"1\" /><path clip-path=\"url(#clip360)\" d=\"M 0 0 M1508.19 17.4837 Q1501.87 17.4837 1498.67 23.7221 Q1495.51 29.92 1495.51 42.3968 Q1495.51 54.833 1498.67 61.0714 Q1501.87 67.2693 1508.19 67.2693 Q1514.55 67.2693 1517.71 61.0714 Q1520.91 54.833 1520.91 42.3968 Q1520.91 29.92 1517.71 23.7221 Q1514.55 17.4837 1508.19 17.4837 M1508.19 11.0023 Q1518.36 11.0023 1523.71 19.0636 Q1529.09 27.0843 1529.09 42.3968 Q1529.09 57.6687 1523.71 65.73 Q1518.36 73.7508 1508.19 73.7508 Q1498.02 73.7508 1492.64 65.73 Q1487.29 57.6687 1487.29 42.3968 Q1487.29 27.0843 1492.64 19.0636 Q1498.02 11.0023 1508.19 11.0023 Z\" fill=\"#000000\" fill-rule=\"evenodd\" fill-opacity=\"1\" /><path clip-path=\"url(#clip360)\" d=\"M 0 0 M1544.89 65.6895 L1558.26 65.6895 L1558.26 19.5497 L1543.72 22.4663 L1543.72 15.0127 L1558.18 12.096 L1566.36 12.096 L1566.36 65.6895 L1579.73 65.6895 L1579.73 72.576 L1544.89 72.576 L1544.89 65.6895 Z\" fill=\"#000000\" fill-rule=\"evenodd\" fill-opacity=\"1\" /><path clip-path=\"url(#clip360)\" d=\"M 0 0 M1596.5 71.3202 L1596.5 63.8666 Q1599.58 65.3249 1602.74 66.0946 Q1605.9 66.8642 1608.94 66.8642 Q1617.04 66.8642 1621.29 61.436 Q1625.59 55.9673 1626.19 44.8678 Q1623.84 48.3516 1620.24 50.215 Q1616.63 52.0784 1612.26 52.0784 Q1603.18 52.0784 1597.88 46.6097 Q1592.61 41.1005 1592.61 31.5808 Q1592.61 22.2638 1598.12 16.633 Q1603.63 11.0023 1612.79 11.0023 Q1623.28 11.0023 1628.79 19.0636 Q1634.34 27.0843 1634.34 42.3968 Q1634.34 56.6965 1627.53 65.2439 Q1620.77 73.7508 1609.3 73.7508 Q1606.22 73.7508 1603.06 73.1431 Q1599.9 72.5355 1596.5 71.3202 M1612.79 45.678 Q1618.29 45.678 1621.49 41.9107 Q1624.74 38.1433 1624.74 31.5808 Q1624.74 25.0589 1621.49 21.2916 Q1618.29 17.4837 1612.79 17.4837 Q1607.28 17.4837 1604.04 21.2916 Q1600.83 25.0589 1600.83 31.5808 Q1600.83 38.1433 1604.04 41.9107 Q1607.28 45.678 1612.79 45.678 Z\" fill=\"#000000\" fill-rule=\"evenodd\" fill-opacity=\"1\" /><path clip-path=\"url(#clip360)\" d=\"M 0 0 M1646.81 9.62495 L1653.29 9.62495 Q1659.37 19.1851 1662.37 28.3401 Q1665.41 37.4952 1665.41 46.5287 Q1665.41 55.6027 1662.37 64.7983 Q1659.37 73.9938 1653.29 83.5134 L1646.81 83.5134 Q1652.2 74.2369 1654.83 65.0818 Q1657.51 55.8863 1657.51 46.5287 Q1657.51 37.1711 1654.83 28.0566 Q1652.2 18.942 1646.81 9.62495 Z\" fill=\"#000000\" fill-rule=\"evenodd\" fill-opacity=\"1\" /><path clip-path=\"url(#clip362)\" d=\"\n",
       "M365.223 1416.17 L365.223 1423.18 L429.769 1423.18 L429.769 1416.17 L365.223 1416.17 L365.223 1416.17  Z\n",
       "  \" fill=\"#009af9\" fill-rule=\"evenodd\" fill-opacity=\"1\"/>\n",
       "<polyline clip-path=\"url(#clip362)\" style=\"stroke:#000000; stroke-width:1.2; stroke-opacity:1; fill:none\" points=\"\n",
       "  365.223,1416.17 365.223,1423.18 429.769,1423.18 429.769,1416.17 365.223,1416.17 \n",
       "  \"/>\n",
       "<path clip-path=\"url(#clip362)\" d=\"\n",
       "M429.769 1361.9 L429.769 1423.18 L494.316 1423.18 L494.316 1361.9 L429.769 1361.9 L429.769 1361.9  Z\n",
       "  \" fill=\"#009af9\" fill-rule=\"evenodd\" fill-opacity=\"1\"/>\n",
       "<polyline clip-path=\"url(#clip362)\" style=\"stroke:#000000; stroke-width:1.2; stroke-opacity:1; fill:none\" points=\"\n",
       "  429.769,1361.9 429.769,1423.18 494.316,1423.18 494.316,1361.9 429.769,1361.9 \n",
       "  \"/>\n",
       "<path clip-path=\"url(#clip362)\" d=\"\n",
       "M494.316 1309.49 L494.316 1423.18 L558.862 1423.18 L558.862 1309.49 L494.316 1309.49 L494.316 1309.49  Z\n",
       "  \" fill=\"#009af9\" fill-rule=\"evenodd\" fill-opacity=\"1\"/>\n",
       "<polyline clip-path=\"url(#clip362)\" style=\"stroke:#000000; stroke-width:1.2; stroke-opacity:1; fill:none\" points=\"\n",
       "  494.316,1309.49 494.316,1423.18 558.862,1423.18 558.862,1309.49 494.316,1309.49 \n",
       "  \"/>\n",
       "<path clip-path=\"url(#clip362)\" d=\"\n",
       "M558.862 1316.5 L558.862 1423.18 L623.409 1423.18 L623.409 1316.5 L558.862 1316.5 L558.862 1316.5  Z\n",
       "  \" fill=\"#009af9\" fill-rule=\"evenodd\" fill-opacity=\"1\"/>\n",
       "<polyline clip-path=\"url(#clip362)\" style=\"stroke:#000000; stroke-width:1.2; stroke-opacity:1; fill:none\" points=\"\n",
       "  558.862,1316.5 558.862,1423.18 623.409,1423.18 623.409,1316.5 558.862,1316.5 \n",
       "  \"/>\n",
       "<path clip-path=\"url(#clip362)\" d=\"\n",
       "M623.409 1255.23 L623.409 1423.18 L687.956 1423.18 L687.956 1255.23 L623.409 1255.23 L623.409 1255.23  Z\n",
       "  \" fill=\"#009af9\" fill-rule=\"evenodd\" fill-opacity=\"1\"/>\n",
       "<polyline clip-path=\"url(#clip362)\" style=\"stroke:#000000; stroke-width:1.2; stroke-opacity:1; fill:none\" points=\"\n",
       "  623.409,1255.23 623.409,1423.18 687.956,1423.18 687.956,1255.23 623.409,1255.23 \n",
       "  \"/>\n",
       "<path clip-path=\"url(#clip362)\" d=\"\n",
       "M687.956 1207.98 L687.956 1423.18 L752.502 1423.18 L752.502 1207.98 L687.956 1207.98 L687.956 1207.98  Z\n",
       "  \" fill=\"#009af9\" fill-rule=\"evenodd\" fill-opacity=\"1\"/>\n",
       "<polyline clip-path=\"url(#clip362)\" style=\"stroke:#000000; stroke-width:1.2; stroke-opacity:1; fill:none\" points=\"\n",
       "  687.956,1207.98 687.956,1423.18 752.502,1423.18 752.502,1207.98 687.956,1207.98 \n",
       "  \"/>\n",
       "<path clip-path=\"url(#clip362)\" d=\"\n",
       "M752.502 1207.98 L752.502 1423.18 L817.049 1423.18 L817.049 1207.98 L752.502 1207.98 L752.502 1207.98  Z\n",
       "  \" fill=\"#009af9\" fill-rule=\"evenodd\" fill-opacity=\"1\"/>\n",
       "<polyline clip-path=\"url(#clip362)\" style=\"stroke:#000000; stroke-width:1.2; stroke-opacity:1; fill:none\" points=\"\n",
       "  752.502,1207.98 752.502,1423.18 817.049,1423.18 817.049,1207.98 752.502,1207.98 \n",
       "  \"/>\n",
       "<path clip-path=\"url(#clip362)\" d=\"\n",
       "M817.049 1226.8 L817.049 1423.18 L881.596 1423.18 L881.596 1226.8 L817.049 1226.8 L817.049 1226.8  Z\n",
       "  \" fill=\"#009af9\" fill-rule=\"evenodd\" fill-opacity=\"1\"/>\n",
       "<polyline clip-path=\"url(#clip362)\" style=\"stroke:#000000; stroke-width:1.2; stroke-opacity:1; fill:none\" points=\"\n",
       "  817.049,1226.8 817.049,1423.18 881.596,1423.18 881.596,1226.8 817.049,1226.8 \n",
       "  \"/>\n",
       "<path clip-path=\"url(#clip362)\" d=\"\n",
       "M881.596 1233.45 L881.596 1423.18 L946.142 1423.18 L946.142 1233.45 L881.596 1233.45 L881.596 1233.45  Z\n",
       "  \" fill=\"#009af9\" fill-rule=\"evenodd\" fill-opacity=\"1\"/>\n",
       "<polyline clip-path=\"url(#clip362)\" style=\"stroke:#000000; stroke-width:1.2; stroke-opacity:1; fill:none\" points=\"\n",
       "  881.596,1233.45 881.596,1423.18 946.142,1423.18 946.142,1233.45 881.596,1233.45 \n",
       "  \"/>\n",
       "<path clip-path=\"url(#clip362)\" d=\"\n",
       "M946.142 1230.86 L946.142 1423.18 L1010.69 1423.18 L1010.69 1230.86 L946.142 1230.86 L946.142 1230.86  Z\n",
       "  \" fill=\"#009af9\" fill-rule=\"evenodd\" fill-opacity=\"1\"/>\n",
       "<polyline clip-path=\"url(#clip362)\" style=\"stroke:#000000; stroke-width:1.2; stroke-opacity:1; fill:none\" points=\"\n",
       "  946.142,1230.86 946.142,1423.18 1010.69,1423.18 1010.69,1230.86 946.142,1230.86 \n",
       "  \"/>\n",
       "<path clip-path=\"url(#clip362)\" d=\"\n",
       "M1010.69 1220.9 L1010.69 1423.18 L1075.24 1423.18 L1075.24 1220.9 L1010.69 1220.9 L1010.69 1220.9  Z\n",
       "  \" fill=\"#009af9\" fill-rule=\"evenodd\" fill-opacity=\"1\"/>\n",
       "<polyline clip-path=\"url(#clip362)\" style=\"stroke:#000000; stroke-width:1.2; stroke-opacity:1; fill:none\" points=\"\n",
       "  1010.69,1220.9 1010.69,1423.18 1075.24,1423.18 1075.24,1220.9 1010.69,1220.9 \n",
       "  \"/>\n",
       "<path clip-path=\"url(#clip362)\" d=\"\n",
       "M1075.24 1270.36 L1075.24 1423.18 L1139.78 1423.18 L1139.78 1270.36 L1075.24 1270.36 L1075.24 1270.36  Z\n",
       "  \" fill=\"#009af9\" fill-rule=\"evenodd\" fill-opacity=\"1\"/>\n",
       "<polyline clip-path=\"url(#clip362)\" style=\"stroke:#000000; stroke-width:1.2; stroke-opacity:1; fill:none\" points=\"\n",
       "  1075.24,1270.36 1075.24,1423.18 1139.78,1423.18 1139.78,1270.36 1075.24,1270.36 \n",
       "  \"/>\n",
       "<path clip-path=\"url(#clip362)\" d=\"\n",
       "M1139.78 1281.8 L1139.78 1423.18 L1204.33 1423.18 L1204.33 1281.8 L1139.78 1281.8 L1139.78 1281.8  Z\n",
       "  \" fill=\"#009af9\" fill-rule=\"evenodd\" fill-opacity=\"1\"/>\n",
       "<polyline clip-path=\"url(#clip362)\" style=\"stroke:#000000; stroke-width:1.2; stroke-opacity:1; fill:none\" points=\"\n",
       "  1139.78,1281.8 1139.78,1423.18 1204.33,1423.18 1204.33,1281.8 1139.78,1281.8 \n",
       "  \"/>\n",
       "<path clip-path=\"url(#clip362)\" d=\"\n",
       "M1204.33 1289.19 L1204.33 1423.18 L1268.88 1423.18 L1268.88 1289.19 L1204.33 1289.19 L1204.33 1289.19  Z\n",
       "  \" fill=\"#009af9\" fill-rule=\"evenodd\" fill-opacity=\"1\"/>\n",
       "<polyline clip-path=\"url(#clip362)\" style=\"stroke:#000000; stroke-width:1.2; stroke-opacity:1; fill:none\" points=\"\n",
       "  1204.33,1289.19 1204.33,1423.18 1268.88,1423.18 1268.88,1289.19 1204.33,1289.19 \n",
       "  \"/>\n",
       "<path clip-path=\"url(#clip362)\" d=\"\n",
       "M1268.88 1300.63 L1268.88 1423.18 L1333.42 1423.18 L1333.42 1300.63 L1268.88 1300.63 L1268.88 1300.63  Z\n",
       "  \" fill=\"#009af9\" fill-rule=\"evenodd\" fill-opacity=\"1\"/>\n",
       "<polyline clip-path=\"url(#clip362)\" style=\"stroke:#000000; stroke-width:1.2; stroke-opacity:1; fill:none\" points=\"\n",
       "  1268.88,1300.63 1268.88,1423.18 1333.42,1423.18 1333.42,1300.63 1268.88,1300.63 \n",
       "  \"/>\n",
       "<path clip-path=\"url(#clip362)\" d=\"\n",
       "M1333.42 1297.68 L1333.42 1423.18 L1397.97 1423.18 L1397.97 1297.68 L1333.42 1297.68 L1333.42 1297.68  Z\n",
       "  \" fill=\"#009af9\" fill-rule=\"evenodd\" fill-opacity=\"1\"/>\n",
       "<polyline clip-path=\"url(#clip362)\" style=\"stroke:#000000; stroke-width:1.2; stroke-opacity:1; fill:none\" points=\"\n",
       "  1333.42,1297.68 1333.42,1423.18 1397.97,1423.18 1397.97,1297.68 1333.42,1297.68 \n",
       "  \"/>\n",
       "<path clip-path=\"url(#clip362)\" d=\"\n",
       "M1397.97 1292.14 L1397.97 1423.18 L1462.52 1423.18 L1462.52 1292.14 L1397.97 1292.14 L1397.97 1292.14  Z\n",
       "  \" fill=\"#009af9\" fill-rule=\"evenodd\" fill-opacity=\"1\"/>\n",
       "<polyline clip-path=\"url(#clip362)\" style=\"stroke:#000000; stroke-width:1.2; stroke-opacity:1; fill:none\" points=\"\n",
       "  1397.97,1292.14 1397.97,1423.18 1462.52,1423.18 1462.52,1292.14 1397.97,1292.14 \n",
       "  \"/>\n",
       "<path clip-path=\"url(#clip362)\" d=\"\n",
       "M1462.52 1267.78 L1462.52 1423.18 L1527.06 1423.18 L1527.06 1267.78 L1462.52 1267.78 L1462.52 1267.78  Z\n",
       "  \" fill=\"#009af9\" fill-rule=\"evenodd\" fill-opacity=\"1\"/>\n",
       "<polyline clip-path=\"url(#clip362)\" style=\"stroke:#000000; stroke-width:1.2; stroke-opacity:1; fill:none\" points=\"\n",
       "  1462.52,1267.78 1462.52,1423.18 1527.06,1423.18 1527.06,1267.78 1462.52,1267.78 \n",
       "  \"/>\n",
       "<path clip-path=\"url(#clip362)\" d=\"\n",
       "M1527.06 1268.15 L1527.06 1423.18 L1591.61 1423.18 L1591.61 1268.15 L1527.06 1268.15 L1527.06 1268.15  Z\n",
       "  \" fill=\"#009af9\" fill-rule=\"evenodd\" fill-opacity=\"1\"/>\n",
       "<polyline clip-path=\"url(#clip362)\" style=\"stroke:#000000; stroke-width:1.2; stroke-opacity:1; fill:none\" points=\"\n",
       "  1527.06,1268.15 1527.06,1423.18 1591.61,1423.18 1591.61,1268.15 1527.06,1268.15 \n",
       "  \"/>\n",
       "<path clip-path=\"url(#clip362)\" d=\"\n",
       "M1591.61 1255.59 L1591.61 1423.18 L1656.16 1423.18 L1656.16 1255.59 L1591.61 1255.59 L1591.61 1255.59  Z\n",
       "  \" fill=\"#009af9\" fill-rule=\"evenodd\" fill-opacity=\"1\"/>\n",
       "<polyline clip-path=\"url(#clip362)\" style=\"stroke:#000000; stroke-width:1.2; stroke-opacity:1; fill:none\" points=\"\n",
       "  1591.61,1255.59 1591.61,1423.18 1656.16,1423.18 1656.16,1255.59 1591.61,1255.59 \n",
       "  \"/>\n",
       "<path clip-path=\"url(#clip362)\" d=\"\n",
       "M1656.16 1243.41 L1656.16 1423.18 L1720.7 1423.18 L1720.7 1243.41 L1656.16 1243.41 L1656.16 1243.41  Z\n",
       "  \" fill=\"#009af9\" fill-rule=\"evenodd\" fill-opacity=\"1\"/>\n",
       "<polyline clip-path=\"url(#clip362)\" style=\"stroke:#000000; stroke-width:1.2; stroke-opacity:1; fill:none\" points=\"\n",
       "  1656.16,1243.41 1656.16,1423.18 1720.7,1423.18 1720.7,1243.41 1656.16,1243.41 \n",
       "  \"/>\n",
       "<path clip-path=\"url(#clip362)\" d=\"\n",
       "M1720.7 1166.27 L1720.7 1423.18 L1785.25 1423.18 L1785.25 1166.27 L1720.7 1166.27 L1720.7 1166.27  Z\n",
       "  \" fill=\"#009af9\" fill-rule=\"evenodd\" fill-opacity=\"1\"/>\n",
       "<polyline clip-path=\"url(#clip362)\" style=\"stroke:#000000; stroke-width:1.2; stroke-opacity:1; fill:none\" points=\"\n",
       "  1720.7,1166.27 1720.7,1423.18 1785.25,1423.18 1785.25,1166.27 1720.7,1166.27 \n",
       "  \"/>\n",
       "<path clip-path=\"url(#clip362)\" d=\"\n",
       "M1785.25 1121.6 L1785.25 1423.18 L1849.8 1423.18 L1849.8 1121.6 L1785.25 1121.6 L1785.25 1121.6  Z\n",
       "  \" fill=\"#009af9\" fill-rule=\"evenodd\" fill-opacity=\"1\"/>\n",
       "<polyline clip-path=\"url(#clip362)\" style=\"stroke:#000000; stroke-width:1.2; stroke-opacity:1; fill:none\" points=\"\n",
       "  1785.25,1121.6 1785.25,1423.18 1849.8,1423.18 1849.8,1121.6 1785.25,1121.6 \n",
       "  \"/>\n",
       "<path clip-path=\"url(#clip362)\" d=\"\n",
       "M1849.8 1117.54 L1849.8 1423.18 L1914.34 1423.18 L1914.34 1117.54 L1849.8 1117.54 L1849.8 1117.54  Z\n",
       "  \" fill=\"#009af9\" fill-rule=\"evenodd\" fill-opacity=\"1\"/>\n",
       "<polyline clip-path=\"url(#clip362)\" style=\"stroke:#000000; stroke-width:1.2; stroke-opacity:1; fill:none\" points=\"\n",
       "  1849.8,1117.54 1849.8,1423.18 1914.34,1423.18 1914.34,1117.54 1849.8,1117.54 \n",
       "  \"/>\n",
       "<path clip-path=\"url(#clip362)\" d=\"\n",
       "M1914.34 1041.87 L1914.34 1423.18 L1978.89 1423.18 L1978.89 1041.87 L1914.34 1041.87 L1914.34 1041.87  Z\n",
       "  \" fill=\"#009af9\" fill-rule=\"evenodd\" fill-opacity=\"1\"/>\n",
       "<polyline clip-path=\"url(#clip362)\" style=\"stroke:#000000; stroke-width:1.2; stroke-opacity:1; fill:none\" points=\"\n",
       "  1914.34,1041.87 1914.34,1423.18 1978.89,1423.18 1978.89,1041.87 1914.34,1041.87 \n",
       "  \"/>\n",
       "<path clip-path=\"url(#clip362)\" d=\"\n",
       "M1978.89 1128.98 L1978.89 1423.18 L2043.44 1423.18 L2043.44 1128.98 L1978.89 1128.98 L1978.89 1128.98  Z\n",
       "  \" fill=\"#009af9\" fill-rule=\"evenodd\" fill-opacity=\"1\"/>\n",
       "<polyline clip-path=\"url(#clip362)\" style=\"stroke:#000000; stroke-width:1.2; stroke-opacity:1; fill:none\" points=\"\n",
       "  1978.89,1128.98 1978.89,1423.18 2043.44,1423.18 2043.44,1128.98 1978.89,1128.98 \n",
       "  \"/>\n",
       "<path clip-path=\"url(#clip362)\" d=\"\n",
       "M2043.44 1074.72 L2043.44 1423.18 L2107.98 1423.18 L2107.98 1074.72 L2043.44 1074.72 L2043.44 1074.72  Z\n",
       "  \" fill=\"#009af9\" fill-rule=\"evenodd\" fill-opacity=\"1\"/>\n",
       "<polyline clip-path=\"url(#clip362)\" style=\"stroke:#000000; stroke-width:1.2; stroke-opacity:1; fill:none\" points=\"\n",
       "  2043.44,1074.72 2043.44,1423.18 2107.98,1423.18 2107.98,1074.72 2043.44,1074.72 \n",
       "  \"/>\n",
       "<path clip-path=\"url(#clip362)\" d=\"\n",
       "M2107.98 120.519 L2107.98 1423.18 L2172.53 1423.18 L2172.53 120.519 L2107.98 120.519 L2107.98 120.519  Z\n",
       "  \" fill=\"#009af9\" fill-rule=\"evenodd\" fill-opacity=\"1\"/>\n",
       "<polyline clip-path=\"url(#clip362)\" style=\"stroke:#000000; stroke-width:1.2; stroke-opacity:1; fill:none\" points=\"\n",
       "  2107.98,120.519 2107.98,1423.18 2172.53,1423.18 2172.53,120.519 2107.98,120.519 \n",
       "  \"/>\n",
       "<path clip-path=\"url(#clip362)\" d=\"\n",
       "M2172.53 1248.21 L2172.53 1423.18 L2237.08 1423.18 L2237.08 1248.21 L2172.53 1248.21 L2172.53 1248.21  Z\n",
       "  \" fill=\"#009af9\" fill-rule=\"evenodd\" fill-opacity=\"1\"/>\n",
       "<polyline clip-path=\"url(#clip362)\" style=\"stroke:#000000; stroke-width:1.2; stroke-opacity:1; fill:none\" points=\"\n",
       "  2172.53,1248.21 2172.53,1423.18 2237.08,1423.18 2237.08,1248.21 2172.53,1248.21 \n",
       "  \"/>\n",
       "</svg>\n"
      ]
     },
     "execution_count": 19,
     "metadata": {},
     "output_type": "execute_result"
    }
   ],
   "source": [
    "hist_b_test = histogram(cmf_bb_test, normalize=:probability, bins=range(minimum(cmf_bb_test),stop = maximum(cmf_bb_test), length =30), leg=false, #xlim=(0,1), \n",
    "    ylim=(0,0.2), xlabel=\"CMF\", ylabel=\"Frequency\", lw=0.3,\n",
    "    title=\"Berlin_test (2019)\")"
   ]
  },
  {
   "cell_type": "code",
   "execution_count": null,
   "id": "79b450c0-3887-4cd8-b833-6d3efee23a57",
   "metadata": {
    "tags": []
   },
   "outputs": [],
   "source": []
  },
  {
   "cell_type": "code",
   "execution_count": 7,
   "id": "642a36c5-132e-45a1-8194-6219004a9aba",
   "metadata": {
    "execution": {
     "iopub.execute_input": "2021-05-26T09:07:03.415000+02:00",
     "iopub.status.busy": "2021-05-26T09:07:03.415000+02:00",
     "iopub.status.idle": "2021-05-26T09:07:03.435000+02:00",
     "shell.execute_reply": "2021-05-26T09:07:03.435000+02:00"
    },
    "tags": []
   },
   "outputs": [],
   "source": [
    "cmf_bb_train = dropnan(cmf_b_train)\n",
    "cmf_bb_test = dropnan(cmf_b_test);"
   ]
  },
  {
   "cell_type": "code",
   "execution_count": 7,
   "id": "1cb2d4d6-6918-4164-92d4-47ad7e03e774",
   "metadata": {
    "execution": {
     "iopub.execute_input": "2021-05-25T11:45:59.159000+02:00",
     "iopub.status.busy": "2021-05-25T11:45:59.159000+02:00",
     "iopub.status.idle": "2021-05-25T11:46:00.124000+02:00",
     "shell.execute_reply": "2021-05-25T11:46:00.123000+02:00"
    },
    "tags": []
   },
   "outputs": [
    {
     "name": "stdout",
     "output_type": "stream",
     "text": [
      "Summary Stats:\n",
      "Length:         267607\n",
      "Missing Count:  0\n",
      "Mean:           0.656000\n",
      "Minimum:        0.090035\n",
      "1st Quartile:   0.396534\n",
      "Median:         0.725460\n",
      "3rd Quartile:   0.916181\n",
      "Maximum:        1.000000\n",
      "Type:           Float64\n"
     ]
    }
   ],
   "source": [
    "describe(cmf_bb_train)"
   ]
  },
  {
   "cell_type": "code",
   "execution_count": 134,
   "id": "b95fe20d-36d9-4466-81bc-82aabbf09fee",
   "metadata": {
    "execution": {
     "iopub.execute_input": "2021-05-25T16:10:38.223000+02:00",
     "iopub.status.busy": "2021-05-25T16:10:38.223000+02:00",
     "iopub.status.idle": "2021-05-25T16:10:38.226000+02:00",
     "shell.execute_reply": "2021-05-25T16:10:38.226000+02:00"
    },
    "tags": []
   },
   "outputs": [
    {
     "name": "stdout",
     "output_type": "stream",
     "text": [
      "Summary Stats:\n",
      "Length:         17979\n",
      "Missing Count:  0\n",
      "Mean:           0.690538\n",
      "Minimum:        0.114077\n",
      "1st Quartile:   0.448584\n",
      "Median:         0.779447\n",
      "3rd Quartile:   0.937052\n",
      "Maximum:        1.000000\n",
      "Type:           Float64\n"
     ]
    }
   ],
   "source": [
    "describe(cmf_bb_test)"
   ]
  },
  {
   "cell_type": "code",
   "execution_count": null,
   "id": "9ff63085-7136-4ac0-aca8-b38c1cca2151",
   "metadata": {},
   "outputs": [],
   "source": []
  },
  {
   "cell_type": "code",
   "execution_count": null,
   "id": "8227a167-533b-4b3c-8e71-552fe383d528",
   "metadata": {},
   "outputs": [],
   "source": []
  },
  {
   "cell_type": "code",
   "execution_count": null,
   "id": "8f12961c-fb81-4344-894c-7ce5885d8944",
   "metadata": {},
   "outputs": [],
   "source": []
  },
  {
   "cell_type": "code",
   "execution_count": 147,
   "id": "4f0e4c3b-e8fc-45ab-93c6-d69281a2a4ad",
   "metadata": {
    "execution": {
     "iopub.execute_input": "2021-05-25T16:27:36.628000+02:00",
     "iopub.status.busy": "2021-05-25T16:27:36.628000+02:00",
     "iopub.status.idle": "2021-05-25T16:27:36.635000+02:00",
     "shell.execute_reply": "2021-05-25T16:27:36.635000+02:00"
    },
    "tags": []
   },
   "outputs": [
    {
     "data": {
      "text/plain": [
       "MCFit (generic function with 1 method)"
      ]
     },
     "execution_count": 147,
     "metadata": {},
     "output_type": "execute_result"
    }
   ],
   "source": [
    "function MCFit(cmf_data, n; steps=1) # num_states, time steps\n",
    "#     state = ceil.((cmf_data .- min) ./ binWidth)\n",
    "#     state[argmin(state)] = 1\n",
    "    state = floor.((cmf_data .- min) ./ binWidth)    \n",
    "    state = Int16.(state)\n",
    "    state[state .< 1] .= 1\n",
    "\n",
    "    T = zeros(n, n) # transition matrix\n",
    "    len = length(cmf_data)\n",
    "    for i in 2:len\n",
    "        T[ state[i-1], state[i] ] = T[ state[i-1], state[i] ] + 1\n",
    "    end\n",
    "\n",
    "    # normalize T\n",
    "    rowSums = sum(T; dims=2)\n",
    "    T_norm = T ./ rowSums\n",
    "\n",
    "    TT = T_norm ^ steps\n",
    "    return TT # normalized transition matrix\n",
    "end"
   ]
  },
  {
   "cell_type": "code",
   "execution_count": 66,
   "id": "3ab32257-f1fa-4fb1-b9c3-dbfaac9064c1",
   "metadata": {
    "execution": {
     "iopub.execute_input": "2021-05-25T11:06:00.913000+02:00",
     "iopub.status.busy": "2021-05-25T11:06:00.913000+02:00",
     "iopub.status.idle": "2021-05-25T11:06:00.917000+02:00",
     "shell.execute_reply": "2021-05-25T11:06:00.917000+02:00"
    },
    "tags": []
   },
   "outputs": [
    {
     "data": {
      "text/plain": [
       "MCForecast (generic function with 1 method)"
      ]
     },
     "execution_count": 66,
     "metadata": {},
     "output_type": "execute_result"
    }
   ],
   "source": [
    "function MCForecast(T, binWidth, obsPoint) \n",
    "    binStarts = [min .+ (i-1) * binWidth for i = 1:n]\n",
    "    obsBin = sum(obsPoint .≥ binStarts) + 1 \n",
    "    return binStarts, T[obsBin, :] # piece-wise uniform distribution\n",
    "end"
   ]
  },
  {
   "cell_type": "code",
   "execution_count": 120,
   "id": "277f7ada-a613-4af8-923d-f5035d82d127",
   "metadata": {
    "execution": {
     "iopub.execute_input": "2021-05-25T11:44:19.879000+02:00",
     "iopub.status.busy": "2021-05-25T11:44:19.879000+02:00",
     "iopub.status.idle": "2021-05-25T11:44:19.883000+02:00",
     "shell.execute_reply": "2021-05-25T11:44:19.883000+02:00"
    },
    "tags": []
   },
   "outputs": [
    {
     "data": {
      "text/plain": [
       "MCRand (generic function with 3 methods)"
      ]
     },
     "execution_count": 120,
     "metadata": {},
     "output_type": "execute_result"
    }
   ],
   "source": [
    "function MCRand(binStarts, transProbs)\n",
    "    probCDF = cumsum(transProbs)\n",
    "    randWithinCDF = rand(Uniform(), count)\n",
    "    randWithinBin = rand(Uniform(0, binWidth), count)\n",
    "\n",
    "    fcstSamples = zeros(count)\n",
    "    for i in 1:count\n",
    "        binIdx = sum(randWithinCDF[i] .≤ probCDF) + 1\n",
    "        fcstSamples[i] = binStarts[binIdx] + randWithinBin[i]\n",
    "    end\n",
    "\n",
    "    return Float64.(fcstSamples)\n",
    "end"
   ]
  },
  {
   "cell_type": "code",
   "execution_count": 136,
   "id": "28f2b168-178c-4dbe-a915-4796ab2be397",
   "metadata": {
    "execution": {
     "iopub.execute_input": "2021-05-25T16:16:28.938000+02:00",
     "iopub.status.busy": "2021-05-25T16:16:28.938000+02:00",
     "iopub.status.idle": "2021-05-25T16:16:29.071000+02:00",
     "shell.execute_reply": "2021-05-25T16:16:29.071000+02:00"
    },
    "scrolled": true,
    "tags": []
   },
   "outputs": [],
   "source": [
    "cmf_train = cmf_bb_train # training data\n",
    "\n",
    "n = 30 # num_states or bins\n",
    "# count = 100 #_000 # num_samples from predictive distribution\n",
    "\n",
    "min = minimum(cmf_train)\n",
    "max = maximum(cmf_train)\n",
    "binWidth = (max - min) / n"
   ]
  },
  {
   "cell_type": "code",
   "execution_count": 148,
   "id": "7ca8d23b-63b1-4222-9d3c-f07af31d17ec",
   "metadata": {
    "execution": {
     "iopub.execute_input": "2021-05-25T16:27:45.197000+02:00",
     "iopub.status.busy": "2021-05-25T16:27:45.197000+02:00",
     "iopub.status.idle": "2021-05-25T16:27:45.399000+02:00",
     "shell.execute_reply": "2021-05-25T16:27:45.399000+02:00"
    },
    "scrolled": true,
    "tags": []
   },
   "outputs": [
    {
     "data": {
      "text/plain": [
       "30×30 Matrix{Float64}:\n",
       " 0.405437     0.322695     0.152482     …  0.0          0.0\n",
       " 0.0647881    0.431995     0.232305        0.0          0.0\n",
       " 0.0231889    0.161814     0.328707        0.000169262  0.000169262\n",
       " 0.00427602   0.0706281    0.139782        0.000147449  0.00117959\n",
       " 0.000940439  0.0291536    0.0643678       0.000731452  0.0014629\n",
       " 0.000277316  0.00813459   0.031614     …  0.000554631  0.0012017\n",
       " 0.000493583  0.00523198   0.0140178       0.000493583  0.000197433\n",
       " 0.00170648   0.0155717    0.018558        0.000106655  0.000746587\n",
       " 0.000733048  0.0096518    0.00843005      0.000610874  0.000366524\n",
       " 0.0          0.0250127    0.0385983       0.000888776  0.000253936\n",
       " 0.0          0.000525762  0.0226078    …  0.00105152   0.000394322\n",
       " 0.0          0.0          0.00219849      0.00376884   0.000942211\n",
       " 0.0          0.0          0.000540249     0.000360166  0.000540249\n",
       " ⋮                                      ⋱               \n",
       " 0.0          0.00015186   0.0             0.000607441  0.0129081\n",
       " 0.0          0.0          0.0             0.000852031  0.00227208\n",
       " 0.0          0.0          0.0          …  0.000821693  0.00164339\n",
       " 0.0          0.0          0.0             0.0029304    0.00198849\n",
       " 0.0          0.0          0.0             0.00467661   0.00202947\n",
       " 0.0          0.0          0.0             0.00522151   0.00244758\n",
       " 0.0          0.0          0.0             0.00486259   0.00390481\n",
       " 0.0          0.0          0.0          …  0.00869995   0.00790905\n",
       " 0.0          0.000155763  7.78816e-5      0.0186916    0.0158879\n",
       " 8.81679e-5   2.2042e-5    2.2042e-5       0.0358843    0.0180744\n",
       " 0.0          0.000165645  0.000496936     0.460659     0.162995\n",
       " 0.000197981  0.000197981  0.000197981     0.196199     0.517323"
      ]
     },
     "execution_count": 148,
     "metadata": {},
     "output_type": "execute_result"
    }
   ],
   "source": [
    "T = MCFit(cmf_train, n; steps=1) # time step"
   ]
  },
  {
   "cell_type": "code",
   "execution_count": 115,
   "id": "d50af871-2e96-4308-a414-c0135fc76028",
   "metadata": {
    "collapsed": true,
    "execution": {
     "iopub.execute_input": "2021-05-25T15:57:21.753000+02:00",
     "iopub.status.busy": "2021-05-25T15:57:21.753000+02:00",
     "iopub.status.idle": "2021-05-25T15:57:21.813000+02:00",
     "shell.execute_reply": "2021-05-25T15:57:21.812000+02:00"
    },
    "jupyter": {
     "outputs_hidden": true
    },
    "tags": []
   },
   "outputs": [
    {
     "data": {
      "text/plain": [
       "30-element Vector{Float64}:\n",
       " 0.0900346482311115\n",
       " 0.12036682662340778\n",
       " 0.15069900501570407\n",
       " 0.18103118340800034\n",
       " 0.21136336180029663\n",
       " 0.24169554019259293\n",
       " 0.2720277185848892\n",
       " 0.30235989697718546\n",
       " 0.33269207536948175\n",
       " 0.36302425376177805\n",
       " 0.39335643215407434\n",
       " 0.42368861054637064\n",
       " 0.45402078893866693\n",
       " ⋮\n",
       " 0.6360138592924446\n",
       " 0.6663460376847409\n",
       " 0.6966782160770372\n",
       " 0.7270103944693335\n",
       " 0.7573425728616298\n",
       " 0.787674751253926\n",
       " 0.8180069296462223\n",
       " 0.8483391080385186\n",
       " 0.8786712864308149\n",
       " 0.9090034648231111\n",
       " 0.9393356432154074\n",
       " 0.9696678216077037"
      ]
     },
     "execution_count": 115,
     "metadata": {},
     "output_type": "execute_result"
    }
   ],
   "source": [
    "# forecast from random\n",
    "binStarts = [min .+ (i-1) * binWidth for i = 1:n]"
   ]
  },
  {
   "cell_type": "code",
   "execution_count": 106,
   "id": "9fd439d3-14e8-491c-b035-1140a742100c",
   "metadata": {
    "execution": {
     "iopub.execute_input": "2021-05-25T15:50:36.343000+02:00",
     "iopub.status.busy": "2021-05-25T15:50:36.343000+02:00",
     "iopub.status.idle": "2021-05-25T15:50:36.398000+02:00",
     "shell.execute_reply": "2021-05-25T15:50:36.398000+02:00"
    },
    "tags": []
   },
   "outputs": [
    {
     "data": {
      "text/plain": [
       "17979"
      ]
     },
     "execution_count": 106,
     "metadata": {},
     "output_type": "execute_result"
    }
   ],
   "source": [
    "cmf_test = cmf_bb_test\n",
    "count = length(cmf_test)"
   ]
  },
  {
   "cell_type": "code",
   "execution_count": 149,
   "id": "e01d608b-a045-445d-8207-a5316b0b6c4c",
   "metadata": {
    "execution": {
     "iopub.execute_input": "2021-05-25T16:27:57.651000+02:00",
     "iopub.status.busy": "2021-05-25T16:27:57.651000+02:00",
     "iopub.status.idle": "2021-05-25T16:27:57.652000+02:00",
     "shell.execute_reply": "2021-05-25T16:27:57.652000+02:00"
    },
    "tags": []
   },
   "outputs": [],
   "source": [
    "randWithinCDF = rand(Uniform(), count)\n",
    "randWithinBin = rand(Uniform(0, binWidth), count)\n",
    "fcst = zeros(count);"
   ]
  },
  {
   "cell_type": "code",
   "execution_count": 150,
   "id": "b1bf1864-2153-441b-9ce9-c9b553f6cd82",
   "metadata": {
    "execution": {
     "iopub.execute_input": "2021-05-25T16:27:58.368000+02:00",
     "iopub.status.busy": "2021-05-25T16:27:58.368000+02:00",
     "iopub.status.idle": "2021-05-25T16:27:58.452000+02:00",
     "shell.execute_reply": "2021-05-25T16:27:58.452000+02:00"
    },
    "scrolled": true,
    "tags": []
   },
   "outputs": [
    {
     "data": {
      "text/plain": [
       "17979-element Vector{Float64}:\n",
       " 0.3468447803931097\n",
       " 0.4752657964334184\n",
       " 0.2594494243608603\n",
       " 0.1965607645414775\n",
       " 0.09288530354211386\n",
       " 0.13209153745952187\n",
       " 0.2330614837060312\n",
       " 0.26182619105869076\n",
       " 0.15333071282832916\n",
       " 0.351962308543484\n",
       " 0.15020958755016628\n",
       " 0.14892261684326513\n",
       " 0.16796799414102684\n",
       " ⋮\n",
       " 0.36117131159613086\n",
       " 0.6402169656186364\n",
       " 0.33937907096433834\n",
       " 0.2601120123838084\n",
       " 0.3581003171064797\n",
       " 0.4482171006923494\n",
       " 0.6031555549902712\n",
       " 0.6120375545483606\n",
       " 0.6081855843547535\n",
       " 0.8263208570482249\n",
       " 0.8064838534326307\n",
       " 0.886103127870447"
      ]
     },
     "execution_count": 150,
     "metadata": {},
     "output_type": "execute_result"
    }
   ],
   "source": [
    "for i in 1:count\n",
    "    obsPoint = cmf_test[i]\n",
    "    obsBin = sum(obsPoint .≥ binStarts)\n",
    "    transProbs = T[obsBin, :]    \n",
    "    probCDF = cumsum(transProbs)\n",
    "    binIdx = sum(randWithinCDF[i] .> probCDF) \n",
    "    if binIdx == 0\n",
    "        binIdx = 1\n",
    "    end\n",
    "#     if !(1 ≤ binIdx ≤ 30)\n",
    "        \n",
    "#         println(i)\n",
    "#     end\n",
    "    fcst[i] = binStarts[binIdx] + randWithinBin[i]\n",
    "end\n",
    "fcst"
   ]
  },
  {
   "cell_type": "code",
   "execution_count": 151,
   "id": "b77af46a-8f11-4ad0-ae6e-8724357baeab",
   "metadata": {
    "execution": {
     "iopub.execute_input": "2021-05-25T16:28:01.199000+02:00",
     "iopub.status.busy": "2021-05-25T16:28:01.199000+02:00",
     "iopub.status.idle": "2021-05-25T16:28:01.574000+02:00",
     "shell.execute_reply": "2021-05-25T16:28:01.574000+02:00"
    },
    "tags": []
   },
   "outputs": [
    {
     "data": {
      "image/svg+xml": [
       "<?xml version=\"1.0\" encoding=\"utf-8\"?>\n",
       "<svg xmlns=\"http://www.w3.org/2000/svg\" xmlns:xlink=\"http://www.w3.org/1999/xlink\" width=\"600\" height=\"400\" viewBox=\"0 0 2400 1600\">\n",
       "<defs>\n",
       "  <clipPath id=\"clip690\">\n",
       "    <rect x=\"0\" y=\"0\" width=\"2400\" height=\"1600\"/>\n",
       "  </clipPath>\n",
       "</defs>\n",
       "<path clip-path=\"url(#clip690)\" d=\"\n",
       "M0 1600 L2400 1600 L2400 0 L0 0  Z\n",
       "  \" fill=\"#ffffff\" fill-rule=\"evenodd\" fill-opacity=\"1\"/>\n",
       "<defs>\n",
       "  <clipPath id=\"clip691\">\n",
       "    <rect x=\"480\" y=\"0\" width=\"1681\" height=\"1600\"/>\n",
       "  </clipPath>\n",
       "</defs>\n",
       "<path clip-path=\"url(#clip690)\" d=\"\n",
       "M249.542 1423.18 L2352.76 1423.18 L2352.76 123.472 L249.542 123.472  Z\n",
       "  \" fill=\"#ffffff\" fill-rule=\"evenodd\" fill-opacity=\"1\"/>\n",
       "<defs>\n",
       "  <clipPath id=\"clip692\">\n",
       "    <rect x=\"249\" y=\"123\" width=\"2104\" height=\"1301\"/>\n",
       "  </clipPath>\n",
       "</defs>\n",
       "<polyline clip-path=\"url(#clip692)\" style=\"stroke:#000000; stroke-width:2; stroke-opacity:0.1; fill:none\" points=\"\n",
       "  249.542,1423.18 249.542,123.472 \n",
       "  \"/>\n",
       "<polyline clip-path=\"url(#clip692)\" style=\"stroke:#000000; stroke-width:2; stroke-opacity:0.1; fill:none\" points=\"\n",
       "  670.185,1423.18 670.185,123.472 \n",
       "  \"/>\n",
       "<polyline clip-path=\"url(#clip692)\" style=\"stroke:#000000; stroke-width:2; stroke-opacity:0.1; fill:none\" points=\"\n",
       "  1090.83,1423.18 1090.83,123.472 \n",
       "  \"/>\n",
       "<polyline clip-path=\"url(#clip692)\" style=\"stroke:#000000; stroke-width:2; stroke-opacity:0.1; fill:none\" points=\"\n",
       "  1511.47,1423.18 1511.47,123.472 \n",
       "  \"/>\n",
       "<polyline clip-path=\"url(#clip692)\" style=\"stroke:#000000; stroke-width:2; stroke-opacity:0.1; fill:none\" points=\"\n",
       "  1932.11,1423.18 1932.11,123.472 \n",
       "  \"/>\n",
       "<polyline clip-path=\"url(#clip692)\" style=\"stroke:#000000; stroke-width:2; stroke-opacity:0.1; fill:none\" points=\"\n",
       "  2352.76,1423.18 2352.76,123.472 \n",
       "  \"/>\n",
       "<polyline clip-path=\"url(#clip690)\" style=\"stroke:#000000; stroke-width:4; stroke-opacity:1; fill:none\" points=\"\n",
       "  249.542,1423.18 2352.76,1423.18 \n",
       "  \"/>\n",
       "<polyline clip-path=\"url(#clip690)\" style=\"stroke:#000000; stroke-width:4; stroke-opacity:1; fill:none\" points=\"\n",
       "  249.542,1423.18 249.542,1407.58 \n",
       "  \"/>\n",
       "<polyline clip-path=\"url(#clip690)\" style=\"stroke:#000000; stroke-width:4; stroke-opacity:1; fill:none\" points=\"\n",
       "  670.185,1423.18 670.185,1407.58 \n",
       "  \"/>\n",
       "<polyline clip-path=\"url(#clip690)\" style=\"stroke:#000000; stroke-width:4; stroke-opacity:1; fill:none\" points=\"\n",
       "  1090.83,1423.18 1090.83,1407.58 \n",
       "  \"/>\n",
       "<polyline clip-path=\"url(#clip690)\" style=\"stroke:#000000; stroke-width:4; stroke-opacity:1; fill:none\" points=\"\n",
       "  1511.47,1423.18 1511.47,1407.58 \n",
       "  \"/>\n",
       "<polyline clip-path=\"url(#clip690)\" style=\"stroke:#000000; stroke-width:4; stroke-opacity:1; fill:none\" points=\"\n",
       "  1932.11,1423.18 1932.11,1407.58 \n",
       "  \"/>\n",
       "<polyline clip-path=\"url(#clip690)\" style=\"stroke:#000000; stroke-width:4; stroke-opacity:1; fill:none\" points=\"\n",
       "  2352.76,1423.18 2352.76,1407.58 \n",
       "  \"/>\n",
       "<path clip-path=\"url(#clip690)\" d=\"M 0 0 M226.926 1452.37 Q223.315 1452.37 221.487 1455.94 Q219.681 1459.48 219.681 1466.61 Q219.681 1473.71 221.487 1477.28 Q223.315 1480.82 226.926 1480.82 Q230.561 1480.82 232.366 1477.28 Q234.195 1473.71 234.195 1466.61 Q234.195 1459.48 232.366 1455.94 Q230.561 1452.37 226.926 1452.37 M226.926 1448.67 Q232.737 1448.67 235.792 1453.27 Q238.871 1457.86 238.871 1466.61 Q238.871 1475.33 235.792 1479.94 Q232.737 1484.52 226.926 1484.52 Q221.116 1484.52 218.038 1479.94 Q214.982 1475.33 214.982 1466.61 Q214.982 1457.86 218.038 1453.27 Q221.116 1448.67 226.926 1448.67 Z\" fill=\"#000000\" fill-rule=\"evenodd\" fill-opacity=\"1\" /><path clip-path=\"url(#clip690)\" d=\"M 0 0 M247.088 1477.97 L251.973 1477.97 L251.973 1483.85 L247.088 1483.85 L247.088 1477.97 Z\" fill=\"#000000\" fill-rule=\"evenodd\" fill-opacity=\"1\" /><path clip-path=\"url(#clip690)\" d=\"M 0 0 M272.158 1452.37 Q268.547 1452.37 266.718 1455.94 Q264.912 1459.48 264.912 1466.61 Q264.912 1473.71 266.718 1477.28 Q268.547 1480.82 272.158 1480.82 Q275.792 1480.82 277.597 1477.28 Q279.426 1473.71 279.426 1466.61 Q279.426 1459.48 277.597 1455.94 Q275.792 1452.37 272.158 1452.37 M272.158 1448.67 Q277.968 1448.67 281.023 1453.27 Q284.102 1457.86 284.102 1466.61 Q284.102 1475.33 281.023 1479.94 Q277.968 1484.52 272.158 1484.52 Q266.347 1484.52 263.269 1479.94 Q260.213 1475.33 260.213 1466.61 Q260.213 1457.86 263.269 1453.27 Q266.347 1448.67 272.158 1448.67 Z\" fill=\"#000000\" fill-rule=\"evenodd\" fill-opacity=\"1\" /><path clip-path=\"url(#clip690)\" d=\"M 0 0 M648.368 1452.37 Q644.757 1452.37 642.928 1455.94 Q641.122 1459.48 641.122 1466.61 Q641.122 1473.71 642.928 1477.28 Q644.757 1480.82 648.368 1480.82 Q652.002 1480.82 653.808 1477.28 Q655.636 1473.71 655.636 1466.61 Q655.636 1459.48 653.808 1455.94 Q652.002 1452.37 648.368 1452.37 M648.368 1448.67 Q654.178 1448.67 657.233 1453.27 Q660.312 1457.86 660.312 1466.61 Q660.312 1475.33 657.233 1479.94 Q654.178 1484.52 648.368 1484.52 Q642.558 1484.52 639.479 1479.94 Q636.423 1475.33 636.423 1466.61 Q636.423 1457.86 639.479 1453.27 Q642.558 1448.67 648.368 1448.67 Z\" fill=\"#000000\" fill-rule=\"evenodd\" fill-opacity=\"1\" /><path clip-path=\"url(#clip690)\" d=\"M 0 0 M668.53 1477.97 L673.414 1477.97 L673.414 1483.85 L668.53 1483.85 L668.53 1477.97 Z\" fill=\"#000000\" fill-rule=\"evenodd\" fill-opacity=\"1\" /><path clip-path=\"url(#clip690)\" d=\"M 0 0 M687.627 1479.92 L703.946 1479.92 L703.946 1483.85 L682.002 1483.85 L682.002 1479.92 Q684.664 1477.16 689.247 1472.53 Q693.854 1467.88 695.034 1466.54 Q697.28 1464.01 698.159 1462.28 Q699.062 1460.52 699.062 1458.83 Q699.062 1456.07 697.118 1454.34 Q695.196 1452.6 692.094 1452.6 Q689.895 1452.6 687.442 1453.37 Q685.011 1454.13 682.233 1455.68 L682.233 1450.96 Q685.057 1449.82 687.511 1449.25 Q689.965 1448.67 692.002 1448.67 Q697.372 1448.67 700.567 1451.35 Q703.761 1454.04 703.761 1458.53 Q703.761 1460.66 702.951 1462.58 Q702.164 1464.48 700.057 1467.07 Q699.479 1467.74 696.377 1470.96 Q693.275 1474.15 687.627 1479.92 Z\" fill=\"#000000\" fill-rule=\"evenodd\" fill-opacity=\"1\" /><path clip-path=\"url(#clip690)\" d=\"M 0 0 M1067.97 1452.37 Q1064.36 1452.37 1062.53 1455.94 Q1060.72 1459.48 1060.72 1466.61 Q1060.72 1473.71 1062.53 1477.28 Q1064.36 1480.82 1067.97 1480.82 Q1071.6 1480.82 1073.41 1477.28 Q1075.24 1473.71 1075.24 1466.61 Q1075.24 1459.48 1073.41 1455.94 Q1071.6 1452.37 1067.97 1452.37 M1067.97 1448.67 Q1073.78 1448.67 1076.83 1453.27 Q1079.91 1457.86 1079.91 1466.61 Q1079.91 1475.33 1076.83 1479.94 Q1073.78 1484.52 1067.97 1484.52 Q1062.16 1484.52 1059.08 1479.94 Q1056.02 1475.33 1056.02 1466.61 Q1056.02 1457.86 1059.08 1453.27 Q1062.16 1448.67 1067.97 1448.67 Z\" fill=\"#000000\" fill-rule=\"evenodd\" fill-opacity=\"1\" /><path clip-path=\"url(#clip690)\" d=\"M 0 0 M1088.13 1477.97 L1093.02 1477.97 L1093.02 1483.85 L1088.13 1483.85 L1088.13 1477.97 Z\" fill=\"#000000\" fill-rule=\"evenodd\" fill-opacity=\"1\" /><path clip-path=\"url(#clip690)\" d=\"M 0 0 M1116.05 1453.37 L1104.24 1471.81 L1116.05 1471.81 L1116.05 1453.37 M1114.82 1449.29 L1120.7 1449.29 L1120.7 1471.81 L1125.63 1471.81 L1125.63 1475.7 L1120.7 1475.7 L1120.7 1483.85 L1116.05 1483.85 L1116.05 1475.7 L1100.45 1475.7 L1100.45 1471.19 L1114.82 1449.29 Z\" fill=\"#000000\" fill-rule=\"evenodd\" fill-opacity=\"1\" /><path clip-path=\"url(#clip690)\" d=\"M 0 0 M1488.77 1452.37 Q1485.16 1452.37 1483.33 1455.94 Q1481.53 1459.48 1481.53 1466.61 Q1481.53 1473.71 1483.33 1477.28 Q1485.16 1480.82 1488.77 1480.82 Q1492.41 1480.82 1494.21 1477.28 Q1496.04 1473.71 1496.04 1466.61 Q1496.04 1459.48 1494.21 1455.94 Q1492.41 1452.37 1488.77 1452.37 M1488.77 1448.67 Q1494.58 1448.67 1497.64 1453.27 Q1500.72 1457.86 1500.72 1466.61 Q1500.72 1475.33 1497.64 1479.94 Q1494.58 1484.52 1488.77 1484.52 Q1482.96 1484.52 1479.88 1479.94 Q1476.83 1475.33 1476.83 1466.61 Q1476.83 1457.86 1479.88 1453.27 Q1482.96 1448.67 1488.77 1448.67 Z\" fill=\"#000000\" fill-rule=\"evenodd\" fill-opacity=\"1\" /><path clip-path=\"url(#clip690)\" d=\"M 0 0 M1508.94 1477.97 L1513.82 1477.97 L1513.82 1483.85 L1508.94 1483.85 L1508.94 1477.97 Z\" fill=\"#000000\" fill-rule=\"evenodd\" fill-opacity=\"1\" /><path clip-path=\"url(#clip690)\" d=\"M 0 0 M1534.58 1464.71 Q1531.44 1464.71 1529.58 1466.86 Q1527.75 1469.01 1527.75 1472.76 Q1527.75 1476.49 1529.58 1478.67 Q1531.44 1480.82 1534.58 1480.82 Q1537.73 1480.82 1539.56 1478.67 Q1541.41 1476.49 1541.41 1472.76 Q1541.41 1469.01 1539.56 1466.86 Q1537.73 1464.71 1534.58 1464.71 M1543.87 1450.06 L1543.87 1454.31 Q1542.11 1453.48 1540.3 1453.04 Q1538.52 1452.6 1536.76 1452.6 Q1532.13 1452.6 1529.68 1455.73 Q1527.25 1458.85 1526.9 1465.17 Q1528.26 1463.16 1530.32 1462.09 Q1532.38 1461 1534.86 1461 Q1540.07 1461 1543.08 1464.18 Q1546.11 1467.32 1546.11 1472.76 Q1546.11 1478.09 1542.96 1481.31 Q1539.82 1484.52 1534.58 1484.52 Q1528.59 1484.52 1525.42 1479.94 Q1522.25 1475.33 1522.25 1466.61 Q1522.25 1458.41 1526.13 1453.55 Q1530.02 1448.67 1536.57 1448.67 Q1538.33 1448.67 1540.12 1449.01 Q1541.92 1449.36 1543.87 1450.06 Z\" fill=\"#000000\" fill-rule=\"evenodd\" fill-opacity=\"1\" /><path clip-path=\"url(#clip690)\" d=\"M 0 0 M1909.54 1452.37 Q1905.93 1452.37 1904.1 1455.94 Q1902.3 1459.48 1902.3 1466.61 Q1902.3 1473.71 1904.1 1477.28 Q1905.93 1480.82 1909.54 1480.82 Q1913.18 1480.82 1914.98 1477.28 Q1916.81 1473.71 1916.81 1466.61 Q1916.81 1459.48 1914.98 1455.94 Q1913.18 1452.37 1909.54 1452.37 M1909.54 1448.67 Q1915.35 1448.67 1918.41 1453.27 Q1921.49 1457.86 1921.49 1466.61 Q1921.49 1475.33 1918.41 1479.94 Q1915.35 1484.52 1909.54 1484.52 Q1903.73 1484.52 1900.65 1479.94 Q1897.6 1475.33 1897.6 1466.61 Q1897.6 1457.86 1900.65 1453.27 Q1903.73 1448.67 1909.54 1448.67 Z\" fill=\"#000000\" fill-rule=\"evenodd\" fill-opacity=\"1\" /><path clip-path=\"url(#clip690)\" d=\"M 0 0 M1929.71 1477.97 L1934.59 1477.97 L1934.59 1483.85 L1929.71 1483.85 L1929.71 1477.97 Z\" fill=\"#000000\" fill-rule=\"evenodd\" fill-opacity=\"1\" /><path clip-path=\"url(#clip690)\" d=\"M 0 0 M1954.78 1467.44 Q1951.44 1467.44 1949.52 1469.22 Q1947.62 1471 1947.62 1474.13 Q1947.62 1477.25 1949.52 1479.04 Q1951.44 1480.82 1954.78 1480.82 Q1958.11 1480.82 1960.03 1479.04 Q1961.95 1477.23 1961.95 1474.13 Q1961.95 1471 1960.03 1469.22 Q1958.13 1467.44 1954.78 1467.44 M1950.1 1465.45 Q1947.09 1464.71 1945.4 1462.65 Q1943.73 1460.59 1943.73 1457.63 Q1943.73 1453.48 1946.67 1451.07 Q1949.64 1448.67 1954.78 1448.67 Q1959.94 1448.67 1962.88 1451.07 Q1965.82 1453.48 1965.82 1457.63 Q1965.82 1460.59 1964.13 1462.65 Q1962.46 1464.71 1959.47 1465.45 Q1962.85 1466.24 1964.73 1468.53 Q1966.63 1470.82 1966.63 1474.13 Q1966.63 1479.15 1963.55 1481.84 Q1960.49 1484.52 1954.78 1484.52 Q1949.06 1484.52 1945.98 1481.84 Q1942.92 1479.15 1942.92 1474.13 Q1942.92 1470.82 1944.82 1468.53 Q1946.72 1466.24 1950.1 1465.45 M1948.39 1458.06 Q1948.39 1460.75 1950.05 1462.25 Q1951.74 1463.76 1954.78 1463.76 Q1957.78 1463.76 1959.47 1462.25 Q1961.19 1460.75 1961.19 1458.06 Q1961.19 1455.38 1959.47 1453.88 Q1957.78 1452.37 1954.78 1452.37 Q1951.74 1452.37 1950.05 1453.88 Q1948.39 1455.38 1948.39 1458.06 Z\" fill=\"#000000\" fill-rule=\"evenodd\" fill-opacity=\"1\" /><path clip-path=\"url(#clip690)\" d=\"M 0 0 M2319.91 1479.92 L2327.55 1479.92 L2327.55 1453.55 L2319.24 1455.22 L2319.24 1450.96 L2327.5 1449.29 L2332.18 1449.29 L2332.18 1479.92 L2339.82 1479.92 L2339.82 1483.85 L2319.91 1483.85 L2319.91 1479.92 Z\" fill=\"#000000\" fill-rule=\"evenodd\" fill-opacity=\"1\" /><path clip-path=\"url(#clip690)\" d=\"M 0 0 M2349.26 1477.97 L2354.14 1477.97 L2354.14 1483.85 L2349.26 1483.85 L2349.26 1477.97 Z\" fill=\"#000000\" fill-rule=\"evenodd\" fill-opacity=\"1\" /><path clip-path=\"url(#clip690)\" d=\"M 0 0 M2374.33 1452.37 Q2370.72 1452.37 2368.89 1455.94 Q2367.08 1459.48 2367.08 1466.61 Q2367.08 1473.71 2368.89 1477.28 Q2370.72 1480.82 2374.33 1480.82 Q2377.96 1480.82 2379.77 1477.28 Q2381.6 1473.71 2381.6 1466.61 Q2381.6 1459.48 2379.77 1455.94 Q2377.96 1452.37 2374.33 1452.37 M2374.33 1448.67 Q2380.14 1448.67 2383.2 1453.27 Q2386.27 1457.86 2386.27 1466.61 Q2386.27 1475.33 2383.2 1479.94 Q2380.14 1484.52 2374.33 1484.52 Q2368.52 1484.52 2365.44 1479.94 Q2362.39 1475.33 2362.39 1466.61 Q2362.39 1457.86 2365.44 1453.27 Q2368.52 1448.67 2374.33 1448.67 Z\" fill=\"#000000\" fill-rule=\"evenodd\" fill-opacity=\"1\" /><path clip-path=\"url(#clip690)\" d=\"M 0 0 M1273.57 1524.18 L1273.57 1530.96 Q1270.32 1527.94 1266.63 1526.44 Q1262.97 1524.95 1258.83 1524.95 Q1250.68 1524.95 1246.36 1529.95 Q1242.03 1534.91 1242.03 1544.33 Q1242.03 1553.72 1246.36 1558.72 Q1250.68 1563.68 1258.83 1563.68 Q1262.97 1563.68 1266.63 1562.19 Q1270.32 1560.69 1273.57 1557.67 L1273.57 1564.38 Q1270.2 1566.68 1266.41 1567.82 Q1262.65 1568.97 1258.45 1568.97 Q1247.66 1568.97 1241.45 1562.38 Q1235.25 1555.76 1235.25 1544.33 Q1235.25 1532.87 1241.45 1526.28 Q1247.66 1519.66 1258.45 1519.66 Q1262.72 1519.66 1266.47 1520.81 Q1270.26 1521.92 1273.57 1524.18 Z\" fill=\"#000000\" fill-rule=\"evenodd\" fill-opacity=\"1\" /><path clip-path=\"url(#clip690)\" d=\"M 0 0 M1283.5 1520.52 L1293.08 1520.52 L1305.21 1552.86 L1317.4 1520.52 L1326.98 1520.52 L1326.98 1568.04 L1320.71 1568.04 L1320.71 1526.32 L1308.45 1558.91 L1301.99 1558.91 L1289.74 1526.32 L1289.74 1568.04 L1283.5 1568.04 L1283.5 1520.52 Z\" fill=\"#000000\" fill-rule=\"evenodd\" fill-opacity=\"1\" /><path clip-path=\"url(#clip690)\" d=\"M 0 0 M1339.74 1520.52 L1367.05 1520.52 L1367.05 1525.93 L1346.17 1525.93 L1346.17 1539.94 L1365.01 1539.94 L1365.01 1545.35 L1346.17 1545.35 L1346.17 1568.04 L1339.74 1568.04 L1339.74 1520.52 Z\" fill=\"#000000\" fill-rule=\"evenodd\" fill-opacity=\"1\" /><polyline clip-path=\"url(#clip692)\" style=\"stroke:#000000; stroke-width:2; stroke-opacity:0.1; fill:none\" points=\"\n",
       "  249.542,1423.18 2352.76,1423.18 \n",
       "  \"/>\n",
       "<polyline clip-path=\"url(#clip692)\" style=\"stroke:#000000; stroke-width:2; stroke-opacity:0.1; fill:none\" points=\"\n",
       "  249.542,1098.25 2352.76,1098.25 \n",
       "  \"/>\n",
       "<polyline clip-path=\"url(#clip692)\" style=\"stroke:#000000; stroke-width:2; stroke-opacity:0.1; fill:none\" points=\"\n",
       "  249.542,773.326 2352.76,773.326 \n",
       "  \"/>\n",
       "<polyline clip-path=\"url(#clip692)\" style=\"stroke:#000000; stroke-width:2; stroke-opacity:0.1; fill:none\" points=\"\n",
       "  249.542,448.399 2352.76,448.399 \n",
       "  \"/>\n",
       "<polyline clip-path=\"url(#clip692)\" style=\"stroke:#000000; stroke-width:2; stroke-opacity:0.1; fill:none\" points=\"\n",
       "  249.542,123.472 2352.76,123.472 \n",
       "  \"/>\n",
       "<polyline clip-path=\"url(#clip690)\" style=\"stroke:#000000; stroke-width:4; stroke-opacity:1; fill:none\" points=\"\n",
       "  249.542,1423.18 249.542,123.472 \n",
       "  \"/>\n",
       "<polyline clip-path=\"url(#clip690)\" style=\"stroke:#000000; stroke-width:4; stroke-opacity:1; fill:none\" points=\"\n",
       "  249.542,1423.18 274.781,1423.18 \n",
       "  \"/>\n",
       "<polyline clip-path=\"url(#clip690)\" style=\"stroke:#000000; stroke-width:4; stroke-opacity:1; fill:none\" points=\"\n",
       "  249.542,1098.25 274.781,1098.25 \n",
       "  \"/>\n",
       "<polyline clip-path=\"url(#clip690)\" style=\"stroke:#000000; stroke-width:4; stroke-opacity:1; fill:none\" points=\"\n",
       "  249.542,773.326 274.781,773.326 \n",
       "  \"/>\n",
       "<polyline clip-path=\"url(#clip690)\" style=\"stroke:#000000; stroke-width:4; stroke-opacity:1; fill:none\" points=\"\n",
       "  249.542,448.399 274.781,448.399 \n",
       "  \"/>\n",
       "<polyline clip-path=\"url(#clip690)\" style=\"stroke:#000000; stroke-width:4; stroke-opacity:1; fill:none\" points=\"\n",
       "  249.542,123.472 274.781,123.472 \n",
       "  \"/>\n",
       "<path clip-path=\"url(#clip690)\" d=\"M 0 0 M126.205 1408.98 Q122.593 1408.98 120.765 1412.54 Q118.959 1416.08 118.959 1423.21 Q118.959 1430.32 120.765 1433.89 Q122.593 1437.43 126.205 1437.43 Q129.839 1437.43 131.644 1433.89 Q133.473 1430.32 133.473 1423.21 Q133.473 1416.08 131.644 1412.54 Q129.839 1408.98 126.205 1408.98 M126.205 1405.27 Q132.015 1405.27 135.07 1409.88 Q138.149 1414.46 138.149 1423.21 Q138.149 1431.94 135.07 1436.55 Q132.015 1441.13 126.205 1441.13 Q120.394 1441.13 117.316 1436.55 Q114.26 1431.94 114.26 1423.21 Q114.26 1414.46 117.316 1409.88 Q120.394 1405.27 126.205 1405.27 Z\" fill=\"#000000\" fill-rule=\"evenodd\" fill-opacity=\"1\" /><path clip-path=\"url(#clip690)\" d=\"M 0 0 M146.366 1434.58 L151.251 1434.58 L151.251 1440.46 L146.366 1440.46 L146.366 1434.58 Z\" fill=\"#000000\" fill-rule=\"evenodd\" fill-opacity=\"1\" /><path clip-path=\"url(#clip690)\" d=\"M 0 0 M171.436 1408.98 Q167.825 1408.98 165.996 1412.54 Q164.19 1416.08 164.19 1423.21 Q164.19 1430.32 165.996 1433.89 Q167.825 1437.43 171.436 1437.43 Q175.07 1437.43 176.876 1433.89 Q178.704 1430.32 178.704 1423.21 Q178.704 1416.08 176.876 1412.54 Q175.07 1408.98 171.436 1408.98 M171.436 1405.27 Q177.246 1405.27 180.301 1409.88 Q183.38 1414.46 183.38 1423.21 Q183.38 1431.94 180.301 1436.55 Q177.246 1441.13 171.436 1441.13 Q165.626 1441.13 162.547 1436.55 Q159.491 1431.94 159.491 1423.21 Q159.491 1414.46 162.547 1409.88 Q165.626 1405.27 171.436 1405.27 Z\" fill=\"#000000\" fill-rule=\"evenodd\" fill-opacity=\"1\" /><path clip-path=\"url(#clip690)\" d=\"M 0 0 M201.598 1408.98 Q197.987 1408.98 196.158 1412.54 Q194.352 1416.08 194.352 1423.21 Q194.352 1430.32 196.158 1433.89 Q197.987 1437.43 201.598 1437.43 Q205.232 1437.43 207.037 1433.89 Q208.866 1430.32 208.866 1423.21 Q208.866 1416.08 207.037 1412.54 Q205.232 1408.98 201.598 1408.98 M201.598 1405.27 Q207.408 1405.27 210.463 1409.88 Q213.542 1414.46 213.542 1423.21 Q213.542 1431.94 210.463 1436.55 Q207.408 1441.13 201.598 1441.13 Q195.787 1441.13 192.709 1436.55 Q189.653 1431.94 189.653 1423.21 Q189.653 1414.46 192.709 1409.88 Q195.787 1405.27 201.598 1405.27 Z\" fill=\"#000000\" fill-rule=\"evenodd\" fill-opacity=\"1\" /><path clip-path=\"url(#clip690)\" d=\"M 0 0 M127.2 1084.05 Q123.589 1084.05 121.76 1087.62 Q119.955 1091.16 119.955 1098.29 Q119.955 1105.39 121.76 1108.96 Q123.589 1112.5 127.2 1112.5 Q130.834 1112.5 132.64 1108.96 Q134.468 1105.39 134.468 1098.29 Q134.468 1091.16 132.64 1087.62 Q130.834 1084.05 127.2 1084.05 M127.2 1080.35 Q133.01 1080.35 136.066 1084.95 Q139.144 1089.54 139.144 1098.29 Q139.144 1107.01 136.066 1111.62 Q133.01 1116.2 127.2 1116.2 Q121.39 1116.2 118.311 1111.62 Q115.256 1107.01 115.256 1098.29 Q115.256 1089.54 118.311 1084.95 Q121.39 1080.35 127.2 1080.35 Z\" fill=\"#000000\" fill-rule=\"evenodd\" fill-opacity=\"1\" /><path clip-path=\"url(#clip690)\" d=\"M 0 0 M147.362 1109.65 L152.246 1109.65 L152.246 1115.53 L147.362 1115.53 L147.362 1109.65 Z\" fill=\"#000000\" fill-rule=\"evenodd\" fill-opacity=\"1\" /><path clip-path=\"url(#clip690)\" d=\"M 0 0 M172.431 1084.05 Q168.82 1084.05 166.991 1087.62 Q165.186 1091.16 165.186 1098.29 Q165.186 1105.39 166.991 1108.96 Q168.82 1112.5 172.431 1112.5 Q176.065 1112.5 177.871 1108.96 Q179.7 1105.39 179.7 1098.29 Q179.7 1091.16 177.871 1087.62 Q176.065 1084.05 172.431 1084.05 M172.431 1080.35 Q178.241 1080.35 181.297 1084.95 Q184.376 1089.54 184.376 1098.29 Q184.376 1107.01 181.297 1111.62 Q178.241 1116.2 172.431 1116.2 Q166.621 1116.2 163.542 1111.62 Q160.487 1107.01 160.487 1098.29 Q160.487 1089.54 163.542 1084.95 Q166.621 1080.35 172.431 1080.35 Z\" fill=\"#000000\" fill-rule=\"evenodd\" fill-opacity=\"1\" /><path clip-path=\"url(#clip690)\" d=\"M 0 0 M192.639 1080.97 L210.996 1080.97 L210.996 1084.91 L196.922 1084.91 L196.922 1093.38 Q197.94 1093.03 198.959 1092.87 Q199.977 1092.69 200.996 1092.69 Q206.783 1092.69 210.162 1095.86 Q213.542 1099.03 213.542 1104.45 Q213.542 1110.02 210.07 1113.13 Q206.598 1116.2 200.278 1116.2 Q198.102 1116.2 195.834 1115.83 Q193.588 1115.46 191.181 1114.72 L191.181 1110.02 Q193.264 1111.16 195.487 1111.71 Q197.709 1112.27 200.186 1112.27 Q204.19 1112.27 206.528 1110.16 Q208.866 1108.06 208.866 1104.45 Q208.866 1100.83 206.528 1098.73 Q204.19 1096.62 200.186 1096.62 Q198.311 1096.62 196.436 1097.04 Q194.584 1097.45 192.639 1098.33 L192.639 1080.97 Z\" fill=\"#000000\" fill-rule=\"evenodd\" fill-opacity=\"1\" /><path clip-path=\"url(#clip690)\" d=\"M 0 0 M126.205 759.125 Q122.593 759.125 120.765 762.689 Q118.959 766.231 118.959 773.361 Q118.959 780.467 120.765 784.032 Q122.593 787.574 126.205 787.574 Q129.839 787.574 131.644 784.032 Q133.473 780.467 133.473 773.361 Q133.473 766.231 131.644 762.689 Q129.839 759.125 126.205 759.125 M126.205 755.421 Q132.015 755.421 135.07 760.027 Q138.149 764.611 138.149 773.361 Q138.149 782.088 135.07 786.694 Q132.015 791.277 126.205 791.277 Q120.394 791.277 117.316 786.694 Q114.26 782.088 114.26 773.361 Q114.26 764.611 117.316 760.027 Q120.394 755.421 126.205 755.421 Z\" fill=\"#000000\" fill-rule=\"evenodd\" fill-opacity=\"1\" /><path clip-path=\"url(#clip690)\" d=\"M 0 0 M146.366 784.726 L151.251 784.726 L151.251 790.606 L146.366 790.606 L146.366 784.726 Z\" fill=\"#000000\" fill-rule=\"evenodd\" fill-opacity=\"1\" /><path clip-path=\"url(#clip690)\" d=\"M 0 0 M162.246 786.671 L169.885 786.671 L169.885 760.305 L161.575 761.972 L161.575 757.713 L169.839 756.046 L174.514 756.046 L174.514 786.671 L182.153 786.671 L182.153 790.606 L162.246 790.606 L162.246 786.671 Z\" fill=\"#000000\" fill-rule=\"evenodd\" fill-opacity=\"1\" /><path clip-path=\"url(#clip690)\" d=\"M 0 0 M201.598 759.125 Q197.987 759.125 196.158 762.689 Q194.352 766.231 194.352 773.361 Q194.352 780.467 196.158 784.032 Q197.987 787.574 201.598 787.574 Q205.232 787.574 207.037 784.032 Q208.866 780.467 208.866 773.361 Q208.866 766.231 207.037 762.689 Q205.232 759.125 201.598 759.125 M201.598 755.421 Q207.408 755.421 210.463 760.027 Q213.542 764.611 213.542 773.361 Q213.542 782.088 210.463 786.694 Q207.408 791.277 201.598 791.277 Q195.787 791.277 192.709 786.694 Q189.653 782.088 189.653 773.361 Q189.653 764.611 192.709 760.027 Q195.787 755.421 201.598 755.421 Z\" fill=\"#000000\" fill-rule=\"evenodd\" fill-opacity=\"1\" /><path clip-path=\"url(#clip690)\" d=\"M 0 0 M127.2 434.198 Q123.589 434.198 121.76 437.763 Q119.955 441.304 119.955 448.434 Q119.955 455.54 121.76 459.105 Q123.589 462.647 127.2 462.647 Q130.834 462.647 132.64 459.105 Q134.468 455.54 134.468 448.434 Q134.468 441.304 132.64 437.763 Q130.834 434.198 127.2 434.198 M127.2 430.494 Q133.01 430.494 136.066 435.101 Q139.144 439.684 139.144 448.434 Q139.144 457.161 136.066 461.767 Q133.01 466.35 127.2 466.35 Q121.39 466.35 118.311 461.767 Q115.256 457.161 115.256 448.434 Q115.256 439.684 118.311 435.101 Q121.39 430.494 127.2 430.494 Z\" fill=\"#000000\" fill-rule=\"evenodd\" fill-opacity=\"1\" /><path clip-path=\"url(#clip690)\" d=\"M 0 0 M147.362 459.799 L152.246 459.799 L152.246 465.679 L147.362 465.679 L147.362 459.799 Z\" fill=\"#000000\" fill-rule=\"evenodd\" fill-opacity=\"1\" /><path clip-path=\"url(#clip690)\" d=\"M 0 0 M163.241 461.744 L170.88 461.744 L170.88 435.378 L162.57 437.045 L162.57 432.786 L170.834 431.119 L175.51 431.119 L175.51 461.744 L183.149 461.744 L183.149 465.679 L163.241 465.679 L163.241 461.744 Z\" fill=\"#000000\" fill-rule=\"evenodd\" fill-opacity=\"1\" /><path clip-path=\"url(#clip690)\" d=\"M 0 0 M192.639 431.119 L210.996 431.119 L210.996 435.054 L196.922 435.054 L196.922 443.526 Q197.94 443.179 198.959 443.017 Q199.977 442.832 200.996 442.832 Q206.783 442.832 210.162 446.003 Q213.542 449.175 213.542 454.591 Q213.542 460.17 210.07 463.272 Q206.598 466.35 200.278 466.35 Q198.102 466.35 195.834 465.98 Q193.588 465.61 191.181 464.869 L191.181 460.17 Q193.264 461.304 195.487 461.86 Q197.709 462.415 200.186 462.415 Q204.19 462.415 206.528 460.309 Q208.866 458.202 208.866 454.591 Q208.866 450.98 206.528 448.874 Q204.19 446.767 200.186 446.767 Q198.311 446.767 196.436 447.184 Q194.584 447.6 192.639 448.48 L192.639 431.119 Z\" fill=\"#000000\" fill-rule=\"evenodd\" fill-opacity=\"1\" /><path clip-path=\"url(#clip690)\" d=\"M 0 0 M126.205 109.271 Q122.593 109.271 120.765 112.836 Q118.959 116.377 118.959 123.507 Q118.959 130.613 120.765 134.178 Q122.593 137.72 126.205 137.72 Q129.839 137.72 131.644 134.178 Q133.473 130.613 133.473 123.507 Q133.473 116.377 131.644 112.836 Q129.839 109.271 126.205 109.271 M126.205 105.567 Q132.015 105.567 135.07 110.174 Q138.149 114.757 138.149 123.507 Q138.149 132.234 135.07 136.84 Q132.015 141.423 126.205 141.423 Q120.394 141.423 117.316 136.84 Q114.26 132.234 114.26 123.507 Q114.26 114.757 117.316 110.174 Q120.394 105.567 126.205 105.567 Z\" fill=\"#000000\" fill-rule=\"evenodd\" fill-opacity=\"1\" /><path clip-path=\"url(#clip690)\" d=\"M 0 0 M146.366 134.873 L151.251 134.873 L151.251 140.752 L146.366 140.752 L146.366 134.873 Z\" fill=\"#000000\" fill-rule=\"evenodd\" fill-opacity=\"1\" /><path clip-path=\"url(#clip690)\" d=\"M 0 0 M165.464 136.817 L181.783 136.817 L181.783 140.752 L159.839 140.752 L159.839 136.817 Q162.501 134.062 167.084 129.433 Q171.69 124.78 172.871 123.437 Q175.116 120.914 175.996 119.178 Q176.899 117.419 176.899 115.729 Q176.899 112.974 174.954 111.238 Q173.033 109.502 169.931 109.502 Q167.732 109.502 165.278 110.266 Q162.848 111.03 160.07 112.581 L160.07 107.859 Q162.894 106.725 165.348 106.146 Q167.802 105.567 169.839 105.567 Q175.209 105.567 178.403 108.252 Q181.598 110.937 181.598 115.428 Q181.598 117.558 180.788 119.479 Q180.001 121.377 177.894 123.97 Q177.315 124.641 174.214 127.859 Q171.112 131.053 165.464 136.817 Z\" fill=\"#000000\" fill-rule=\"evenodd\" fill-opacity=\"1\" /><path clip-path=\"url(#clip690)\" d=\"M 0 0 M201.598 109.271 Q197.987 109.271 196.158 112.836 Q194.352 116.377 194.352 123.507 Q194.352 130.613 196.158 134.178 Q197.987 137.72 201.598 137.72 Q205.232 137.72 207.037 134.178 Q208.866 130.613 208.866 123.507 Q208.866 116.377 207.037 112.836 Q205.232 109.271 201.598 109.271 M201.598 105.567 Q207.408 105.567 210.463 110.174 Q213.542 114.757 213.542 123.507 Q213.542 132.234 210.463 136.84 Q207.408 141.423 201.598 141.423 Q195.787 141.423 192.709 136.84 Q189.653 132.234 189.653 123.507 Q189.653 114.757 192.709 110.174 Q195.787 105.567 201.598 105.567 Z\" fill=\"#000000\" fill-rule=\"evenodd\" fill-opacity=\"1\" /><path clip-path=\"url(#clip690)\" d=\"M 0 0 M16.4842 937.529 L16.4842 910.221 L21.895 910.221 L21.895 931.1 L35.8996 931.1 L35.8996 912.258 L41.3104 912.258 L41.3104 931.1 L64.0042 931.1 L64.0042 937.529 L16.4842 937.529 Z\" fill=\"#000000\" fill-rule=\"evenodd\" fill-opacity=\"1\" /><path clip-path=\"url(#clip690)\" d=\"M 0 0 M33.8307 884.376 Q33.2578 885.362 33.0032 886.54 Q32.7167 887.686 32.7167 889.086 Q32.7167 894.052 35.9632 896.725 Q39.1779 899.367 45.2253 899.367 L64.0042 899.367 L64.0042 905.255 L28.3562 905.255 L28.3562 899.367 L33.8944 899.367 Q30.6479 897.521 29.0883 894.561 Q27.4968 891.601 27.4968 887.368 Q27.4968 886.763 27.5923 886.031 Q27.656 885.299 27.8151 884.408 L33.8307 884.376 Z\" fill=\"#000000\" fill-rule=\"evenodd\" fill-opacity=\"1\" /><path clip-path=\"url(#clip690)\" d=\"M 0 0 M44.7161 849.173 L47.5806 849.173 L47.5806 876.1 Q53.6281 875.718 56.8109 872.472 Q59.9619 869.194 59.9619 863.369 Q59.9619 859.995 59.1344 856.844 Q58.3069 853.661 56.6518 850.542 L62.1899 850.542 Q63.5267 853.693 64.227 857.003 Q64.9272 860.313 64.9272 863.719 Q64.9272 872.249 59.9619 877.246 Q54.9967 882.211 46.5303 882.211 Q37.7774 882.211 32.6531 877.501 Q27.4968 872.758 27.4968 864.738 Q27.4968 857.544 32.1438 853.375 Q36.7589 849.173 44.7161 849.173 M42.9973 855.03 Q38.1912 855.093 35.3266 857.735 Q32.4621 860.345 32.4621 864.674 Q32.4621 869.575 35.2312 872.536 Q38.0002 875.464 43.0292 875.909 L42.9973 855.03 Z\" fill=\"#000000\" fill-rule=\"evenodd\" fill-opacity=\"1\" /><path clip-path=\"url(#clip690)\" d=\"M 0 0 M46.212 836.06 Q52.6732 836.06 56.3653 833.418 Q60.0256 830.745 60.0256 826.098 Q60.0256 821.451 56.3653 818.777 Q52.6732 816.104 46.212 816.104 Q39.7508 816.104 36.0905 818.777 Q32.3984 821.451 32.3984 826.098 Q32.3984 830.745 36.0905 833.418 Q39.7508 836.06 46.212 836.06 M58.657 816.104 Q61.8398 817.95 63.3994 820.782 Q64.9272 823.583 64.9272 827.53 Q64.9272 833.991 59.771 838.065 Q54.6147 842.107 46.212 842.107 Q37.8093 842.107 32.6531 838.065 Q27.4968 833.991 27.4968 827.53 Q27.4968 823.583 29.0564 820.782 Q30.5842 817.95 33.7671 816.104 L28.3562 816.104 L28.3562 810.247 L77.5631 810.247 L77.5631 816.104 L58.657 816.104 Z\" fill=\"#000000\" fill-rule=\"evenodd\" fill-opacity=\"1\" /><path clip-path=\"url(#clip690)\" d=\"M 0 0 M49.9359 798.789 L28.3562 798.789 L28.3562 792.932 L49.7131 792.932 Q54.7739 792.932 57.3202 790.959 Q59.8346 788.986 59.8346 785.039 Q59.8346 780.296 56.8109 777.559 Q53.7872 774.79 48.5673 774.79 L28.3562 774.79 L28.3562 768.934 L64.0042 768.934 L64.0042 774.79 L58.5296 774.79 Q61.7762 776.923 63.3676 779.755 Q64.9272 782.556 64.9272 786.28 Q64.9272 792.423 61.1078 795.606 Q57.2883 798.789 49.9359 798.789 M27.4968 784.052 L27.4968 784.052 Z\" fill=\"#000000\" fill-rule=\"evenodd\" fill-opacity=\"1\" /><path clip-path=\"url(#clip690)\" d=\"M 0 0 M44.7161 726.379 L47.5806 726.379 L47.5806 753.306 Q53.6281 752.924 56.8109 749.677 Q59.9619 746.399 59.9619 740.574 Q59.9619 737.201 59.1344 734.05 Q58.3069 730.867 56.6518 727.748 L62.1899 727.748 Q63.5267 730.899 64.227 734.209 Q64.9272 737.519 64.9272 740.925 Q64.9272 749.455 59.9619 754.452 Q54.9967 759.417 46.5303 759.417 Q37.7774 759.417 32.6531 754.706 Q27.4968 749.964 27.4968 741.943 Q27.4968 734.75 32.1438 730.58 Q36.7589 726.379 44.7161 726.379 M42.9973 732.235 Q38.1912 732.299 35.3266 734.941 Q32.4621 737.551 32.4621 741.879 Q32.4621 746.781 35.2312 749.741 Q38.0002 752.669 43.0292 753.115 L42.9973 732.235 Z\" fill=\"#000000\" fill-rule=\"evenodd\" fill-opacity=\"1\" /><path clip-path=\"url(#clip690)\" d=\"M 0 0 M42.4881 687.134 L64.0042 687.134 L64.0042 692.991 L42.679 692.991 Q37.6183 692.991 35.1038 694.964 Q32.5894 696.938 32.5894 700.884 Q32.5894 705.627 35.6131 708.364 Q38.6368 711.101 43.8567 711.101 L64.0042 711.101 L64.0042 716.989 L28.3562 716.989 L28.3562 711.101 L33.8944 711.101 Q30.6797 709.001 29.0883 706.168 Q27.4968 703.303 27.4968 699.579 Q27.4968 693.436 31.3163 690.285 Q35.1038 687.134 42.4881 687.134 Z\" fill=\"#000000\" fill-rule=\"evenodd\" fill-opacity=\"1\" /><path clip-path=\"url(#clip690)\" d=\"M 0 0 M29.7248 649.799 L35.1993 649.799 Q33.8307 652.282 33.1623 654.797 Q32.4621 657.279 32.4621 659.825 Q32.4621 665.523 36.0905 668.674 Q39.6872 671.825 46.212 671.825 Q52.7369 671.825 56.3653 668.674 Q59.9619 665.523 59.9619 659.825 Q59.9619 657.279 59.2935 654.797 Q58.5933 652.282 57.2247 649.799 L62.6355 649.799 Q63.7814 652.25 64.3543 654.892 Q64.9272 657.502 64.9272 660.462 Q64.9272 668.515 59.8664 673.257 Q54.8057 678 46.212 678 Q37.491 678 32.4939 673.225 Q27.4968 668.419 27.4968 660.08 Q27.4968 657.375 28.0697 654.797 Q28.6108 652.218 29.7248 649.799 Z\" fill=\"#000000\" fill-rule=\"evenodd\" fill-opacity=\"1\" /><path clip-path=\"url(#clip690)\" d=\"M 0 0 M67.3143 624.782 Q73.68 627.265 75.6216 629.62 Q77.5631 631.975 77.5631 635.922 L77.5631 640.601 L72.6615 640.601 L72.6615 637.164 Q72.6615 634.745 71.5157 633.408 Q70.3699 632.071 66.1048 630.448 L63.4312 629.397 L28.3562 643.816 L28.3562 637.609 L56.238 626.469 L28.3562 615.329 L28.3562 609.123 L67.3143 624.782 Z\" fill=\"#000000\" fill-rule=\"evenodd\" fill-opacity=\"1\" /><path clip-path=\"url(#clip690)\" d=\"M 0 0 M825.573 43.6931 L825.573 65.8515 L838.698 65.8515 Q845.301 65.8515 848.46 63.1374 Q851.661 60.3828 851.661 54.752 Q851.661 49.0808 848.46 46.4072 Q845.301 43.6931 838.698 43.6931 L825.573 43.6931 M825.573 18.8205 L825.573 37.0496 L837.685 37.0496 Q843.68 37.0496 846.597 34.8216 Q849.554 32.5531 849.554 27.935 Q849.554 23.3575 846.597 21.089 Q843.68 18.8205 837.685 18.8205 L825.573 18.8205 M817.39 12.096 L838.293 12.096 Q847.65 12.096 852.714 15.9849 Q857.778 19.8737 857.778 27.0438 Q857.778 32.5936 855.185 35.8748 Q852.592 39.156 847.569 39.9662 Q853.605 41.2625 856.927 45.3944 Q860.289 49.4858 860.289 55.6432 Q860.289 63.745 854.78 68.1605 Q849.271 72.576 839.103 72.576 L817.39 72.576 L817.39 12.096 Z\" fill=\"#000000\" fill-rule=\"evenodd\" fill-opacity=\"1\" /><path clip-path=\"url(#clip690)\" d=\"M 0 0 M912.789 48.0275 L912.789 51.6733 L878.518 51.6733 Q879.004 59.3701 883.136 63.421 Q887.309 67.4314 894.722 67.4314 Q899.016 67.4314 903.026 66.3781 Q907.077 65.3249 911.047 63.2184 L911.047 70.267 Q907.036 71.9684 902.824 72.8596 Q898.611 73.7508 894.276 73.7508 Q883.42 73.7508 877.06 67.4314 Q870.74 61.1119 870.74 50.3365 Q870.74 39.1965 876.736 32.6746 Q882.772 26.1121 892.98 26.1121 Q902.135 26.1121 907.442 32.0264 Q912.789 37.9003 912.789 48.0275 M905.335 45.84 Q905.254 39.7232 901.892 36.0774 Q898.57 32.4315 893.061 32.4315 Q886.822 32.4315 883.055 35.9558 Q879.328 39.4801 878.761 45.8805 L905.335 45.84 Z\" fill=\"#000000\" fill-rule=\"evenodd\" fill-opacity=\"1\" /><path clip-path=\"url(#clip690)\" d=\"M 0 0 M951.313 34.1734 Q950.057 33.4443 948.558 33.1202 Q947.1 32.7556 945.318 32.7556 Q938.998 32.7556 935.595 36.8875 Q932.233 40.9789 932.233 48.6757 L932.233 72.576 L924.739 72.576 L924.739 27.2059 L932.233 27.2059 L932.233 34.2544 Q934.583 30.1225 938.35 28.1376 Q942.117 26.1121 947.505 26.1121 Q948.275 26.1121 949.206 26.2337 Q950.138 26.3147 951.272 26.5172 L951.313 34.1734 Z\" fill=\"#000000\" fill-rule=\"evenodd\" fill-opacity=\"1\" /><path clip-path=\"url(#clip690)\" d=\"M 0 0 M959.131 9.54393 L966.585 9.54393 L966.585 72.576 L959.131 72.576 L959.131 9.54393 Z\" fill=\"#000000\" fill-rule=\"evenodd\" fill-opacity=\"1\" /><path clip-path=\"url(#clip690)\" d=\"M 0 0 M982.181 27.2059 L989.634 27.2059 L989.634 72.576 L982.181 72.576 L982.181 27.2059 M982.181 9.54393 L989.634 9.54393 L989.634 18.9825 L982.181 18.9825 L982.181 9.54393 Z\" fill=\"#000000\" fill-rule=\"evenodd\" fill-opacity=\"1\" /><path clip-path=\"url(#clip690)\" d=\"M 0 0 M1042.94 45.1919 L1042.94 72.576 L1035.49 72.576 L1035.49 45.4349 Q1035.49 38.994 1032.98 35.7938 Q1030.47 32.5936 1025.44 32.5936 Q1019.41 32.5936 1015.92 36.4419 Q1012.44 40.2903 1012.44 46.9338 L1012.44 72.576 L1004.95 72.576 L1004.95 27.2059 L1012.44 27.2059 L1012.44 34.2544 Q1015.11 30.163 1018.72 28.1376 Q1022.37 26.1121 1027.11 26.1121 Q1034.92 26.1121 1038.93 30.9732 Q1042.94 35.7938 1042.94 45.1919 Z\" fill=\"#000000\" fill-rule=\"evenodd\" fill-opacity=\"1\" /><path clip-path=\"url(#clip690)\" d=\"M 0 0 M1092.28 86.3491 L1092.28 92.1419 L1049.18 92.1419 L1049.18 86.3491 L1092.28 86.3491 Z\" fill=\"#000000\" fill-rule=\"evenodd\" fill-opacity=\"1\" /><path clip-path=\"url(#clip690)\" d=\"M 0 0 M1106.5 65.7705 L1106.5 89.8329 L1099.01 89.8329 L1099.01 27.2059 L1106.5 27.2059 L1106.5 34.0924 Q1108.85 30.0415 1112.42 28.0971 Q1116.02 26.1121 1121.01 26.1121 Q1129.27 26.1121 1134.41 32.6746 Q1139.6 39.2371 1139.6 49.9314 Q1139.6 60.6258 1134.41 67.1883 Q1129.27 73.7508 1121.01 73.7508 Q1116.02 73.7508 1112.42 71.8063 Q1108.85 69.8214 1106.5 65.7705 M1131.86 49.9314 Q1131.86 41.7081 1128.46 37.0496 Q1125.1 32.3505 1119.18 32.3505 Q1113.27 32.3505 1109.87 37.0496 Q1106.5 41.7081 1106.5 49.9314 Q1106.5 58.1548 1109.87 62.8538 Q1113.27 67.5124 1119.18 67.5124 Q1125.1 67.5124 1128.46 62.8538 Q1131.86 58.1548 1131.86 49.9314 Z\" fill=\"#000000\" fill-rule=\"evenodd\" fill-opacity=\"1\" /><path clip-path=\"url(#clip690)\" d=\"M 0 0 M1178.24 34.1734 Q1176.99 33.4443 1175.49 33.1202 Q1174.03 32.7556 1172.25 32.7556 Q1165.93 32.7556 1162.53 36.8875 Q1159.16 40.9789 1159.16 48.6757 L1159.16 72.576 L1151.67 72.576 L1151.67 27.2059 L1159.16 27.2059 L1159.16 34.2544 Q1161.51 30.1225 1165.28 28.1376 Q1169.05 26.1121 1174.44 26.1121 Q1175.21 26.1121 1176.14 26.2337 Q1177.07 26.3147 1178.2 26.5172 L1178.24 34.1734 Z\" fill=\"#000000\" fill-rule=\"evenodd\" fill-opacity=\"1\" /><path clip-path=\"url(#clip690)\" d=\"M 0 0 M1223.05 48.0275 L1223.05 51.6733 L1188.78 51.6733 Q1189.26 59.3701 1193.39 63.421 Q1197.57 67.4314 1204.98 67.4314 Q1209.27 67.4314 1213.28 66.3781 Q1217.34 65.3249 1221.31 63.2184 L1221.31 70.267 Q1217.3 71.9684 1213.08 72.8596 Q1208.87 73.7508 1204.53 73.7508 Q1193.68 73.7508 1187.32 67.4314 Q1181 61.1119 1181 50.3365 Q1181 39.1965 1186.99 32.6746 Q1193.03 26.1121 1203.24 26.1121 Q1212.39 26.1121 1217.7 32.0264 Q1223.05 37.9003 1223.05 48.0275 M1215.59 45.84 Q1215.51 39.7232 1212.15 36.0774 Q1208.83 32.4315 1203.32 32.4315 Q1197.08 32.4315 1193.31 35.9558 Q1189.59 39.4801 1189.02 45.8805 L1215.59 45.84 Z\" fill=\"#000000\" fill-rule=\"evenodd\" fill-opacity=\"1\" /><path clip-path=\"url(#clip690)\" d=\"M 0 0 M1265.14 34.0924 L1265.14 9.54393 L1272.59 9.54393 L1272.59 72.576 L1265.14 72.576 L1265.14 65.7705 Q1262.79 69.8214 1259.18 71.8063 Q1255.62 73.7508 1250.59 73.7508 Q1242.37 73.7508 1237.19 67.1883 Q1232.04 60.6258 1232.04 49.9314 Q1232.04 39.2371 1237.19 32.6746 Q1242.37 26.1121 1250.59 26.1121 Q1255.62 26.1121 1259.18 28.0971 Q1262.79 30.0415 1265.14 34.0924 M1239.74 49.9314 Q1239.74 58.1548 1243.1 62.8538 Q1246.5 67.5124 1252.42 67.5124 Q1258.33 67.5124 1261.73 62.8538 Q1265.14 58.1548 1265.14 49.9314 Q1265.14 41.7081 1261.73 37.0496 Q1258.33 32.3505 1252.42 32.3505 Q1246.5 32.3505 1243.1 37.0496 Q1239.74 41.7081 1239.74 49.9314 Z\" fill=\"#000000\" fill-rule=\"evenodd\" fill-opacity=\"1\" /><path clip-path=\"url(#clip690)\" d=\"M 0 0 M1287.94 27.2059 L1295.4 27.2059 L1295.4 72.576 L1287.94 72.576 L1287.94 27.2059 M1287.94 9.54393 L1295.4 9.54393 L1295.4 18.9825 L1287.94 18.9825 L1287.94 9.54393 Z\" fill=\"#000000\" fill-rule=\"evenodd\" fill-opacity=\"1\" /><path clip-path=\"url(#clip690)\" d=\"M 0 0 M1343.64 28.9478 L1343.64 35.9153 Q1340.48 34.1734 1337.28 33.3227 Q1334.12 32.4315 1330.88 32.4315 Q1323.63 32.4315 1319.62 37.0496 Q1315.61 41.6271 1315.61 49.9314 Q1315.61 58.2358 1319.62 62.8538 Q1323.63 67.4314 1330.88 67.4314 Q1334.12 67.4314 1337.28 66.5807 Q1340.48 65.6895 1343.64 63.9476 L1343.64 70.8341 Q1340.52 72.2924 1337.16 73.0216 Q1333.84 73.7508 1330.07 73.7508 Q1319.82 73.7508 1313.79 67.3098 Q1307.75 60.8689 1307.75 49.9314 Q1307.75 38.832 1313.83 32.472 Q1319.95 26.1121 1330.56 26.1121 Q1334 26.1121 1337.28 26.8413 Q1340.56 27.5299 1343.64 28.9478 Z\" fill=\"#000000\" fill-rule=\"evenodd\" fill-opacity=\"1\" /><path clip-path=\"url(#clip690)\" d=\"M 0 0 M1363.98 14.324 L1363.98 27.2059 L1379.33 27.2059 L1379.33 32.9987 L1363.98 32.9987 L1363.98 57.6282 Q1363.98 63.1779 1365.48 64.7578 Q1367.02 66.3376 1371.68 66.3376 L1379.33 66.3376 L1379.33 72.576 L1371.68 72.576 Q1363.05 72.576 1359.77 69.3758 Q1356.48 66.1351 1356.48 57.6282 L1356.48 32.9987 L1351.02 32.9987 L1351.02 27.2059 L1356.48 27.2059 L1356.48 14.324 L1363.98 14.324 Z\" fill=\"#000000\" fill-rule=\"evenodd\" fill-opacity=\"1\" /><path clip-path=\"url(#clip690)\" d=\"M 0 0 M1445.85 20.5624 L1445.85 43.1259 L1468.41 43.1259 L1468.41 50.0125 L1445.85 50.0125 L1445.85 72.576 L1439.04 72.576 L1439.04 50.0125 L1416.48 50.0125 L1416.48 43.1259 L1439.04 43.1259 L1439.04 20.5624 L1445.85 20.5624 Z\" fill=\"#000000\" fill-rule=\"evenodd\" fill-opacity=\"1\" /><path clip-path=\"url(#clip690)\" d=\"M 0 0 M1513.86 65.6895 L1527.23 65.6895 L1527.23 19.5497 L1512.69 22.4663 L1512.69 15.0127 L1527.15 12.096 L1535.33 12.096 L1535.33 65.6895 L1548.7 65.6895 L1548.7 72.576 L1513.86 72.576 L1513.86 65.6895 Z\" fill=\"#000000\" fill-rule=\"evenodd\" fill-opacity=\"1\" /><path clip-path=\"url(#clip690)\" d=\"M 0 0 M1565.31 12.096 L1597.43 12.096 L1597.43 18.9825 L1572.8 18.9825 L1572.8 33.8088 Q1574.59 33.2012 1576.37 32.9176 Q1578.15 32.5936 1579.93 32.5936 Q1590.06 32.5936 1595.97 38.1433 Q1601.89 43.6931 1601.89 53.1722 Q1601.89 62.9348 1595.81 68.3631 Q1589.74 73.7508 1578.68 73.7508 Q1574.87 73.7508 1570.9 73.1026 Q1566.97 72.4545 1562.76 71.1582 L1562.76 62.9348 Q1566.4 64.9198 1570.29 65.892 Q1574.18 66.8642 1578.51 66.8642 Q1585.52 66.8642 1589.61 63.1779 Q1593.71 59.4916 1593.71 53.1722 Q1593.71 46.8528 1589.61 43.1664 Q1585.52 39.4801 1578.51 39.4801 Q1575.23 39.4801 1571.95 40.2093 Q1568.71 40.9384 1565.31 42.4778 L1565.31 12.096 Z\" fill=\"#000000\" fill-rule=\"evenodd\" fill-opacity=\"1\" /><path clip-path=\"url(#clip690)\" d=\"M 0 0 M1678.65 35.9153 Q1681.45 30.8922 1685.34 28.5022 Q1689.23 26.1121 1694.49 26.1121 Q1701.58 26.1121 1705.43 31.0947 Q1709.28 36.0368 1709.28 45.1919 L1709.28 72.576 L1701.78 72.576 L1701.78 45.4349 Q1701.78 38.913 1699.47 35.7533 Q1697.17 32.5936 1692.43 32.5936 Q1686.63 32.5936 1683.27 36.4419 Q1679.91 40.2903 1679.91 46.9338 L1679.91 72.576 L1672.41 72.576 L1672.41 45.4349 Q1672.41 38.8725 1670.11 35.7533 Q1667.8 32.5936 1662.98 32.5936 Q1657.26 32.5936 1653.9 36.4824 Q1650.54 40.3308 1650.54 46.9338 L1650.54 72.576 L1643.05 72.576 L1643.05 27.2059 L1650.54 27.2059 L1650.54 34.2544 Q1653.09 30.082 1656.66 28.0971 Q1660.22 26.1121 1665.12 26.1121 Q1670.06 26.1121 1673.51 28.6237 Q1676.99 31.1352 1678.65 35.9153 Z\" fill=\"#000000\" fill-rule=\"evenodd\" fill-opacity=\"1\" /><path clip-path=\"url(#clip690)\" d=\"M 0 0 M1724.14 27.2059 L1731.6 27.2059 L1731.6 72.576 L1724.14 72.576 L1724.14 27.2059 M1724.14 9.54393 L1731.6 9.54393 L1731.6 18.9825 L1724.14 18.9825 L1724.14 9.54393 Z\" fill=\"#000000\" fill-rule=\"evenodd\" fill-opacity=\"1\" /><path clip-path=\"url(#clip690)\" d=\"M 0 0 M1784.91 45.1919 L1784.91 72.576 L1777.45 72.576 L1777.45 45.4349 Q1777.45 38.994 1774.94 35.7938 Q1772.43 32.5936 1767.41 32.5936 Q1761.37 32.5936 1757.89 36.4419 Q1754.4 40.2903 1754.4 46.9338 L1754.4 72.576 L1746.91 72.576 L1746.91 27.2059 L1754.4 27.2059 L1754.4 34.2544 Q1757.08 30.163 1760.68 28.1376 Q1764.33 26.1121 1769.07 26.1121 Q1776.89 26.1121 1780.9 30.9732 Q1784.91 35.7938 1784.91 45.1919 Z\" fill=\"#000000\" fill-rule=\"evenodd\" fill-opacity=\"1\" /><path clip-path=\"url(#clip692)\" d=\"\n",
       "M354.703 1405.47 L354.703 1423.18 L459.863 1423.18 L459.863 1405.47 L354.703 1405.47 L354.703 1405.47  Z\n",
       "  \" fill=\"#009af9\" fill-rule=\"evenodd\" fill-opacity=\"1\"/>\n",
       "<polyline clip-path=\"url(#clip692)\" style=\"stroke:#000000; stroke-width:1.2; stroke-opacity:1; fill:none\" points=\"\n",
       "  354.703,1405.47 354.703,1423.18 459.863,1423.18 459.863,1405.47 354.703,1405.47 \n",
       "  \"/>\n",
       "<path clip-path=\"url(#clip692)\" d=\"\n",
       "M459.863 1316.19 L459.863 1423.18 L565.024 1423.18 L565.024 1316.19 L459.863 1316.19 L459.863 1316.19  Z\n",
       "  \" fill=\"#009af9\" fill-rule=\"evenodd\" fill-opacity=\"1\"/>\n",
       "<polyline clip-path=\"url(#clip692)\" style=\"stroke:#000000; stroke-width:1.2; stroke-opacity:1; fill:none\" points=\"\n",
       "  459.863,1316.19 459.863,1423.18 565.024,1423.18 565.024,1316.19 459.863,1316.19 \n",
       "  \"/>\n",
       "<path clip-path=\"url(#clip692)\" d=\"\n",
       "M565.024 1220.77 L565.024 1423.18 L670.185 1423.18 L670.185 1220.77 L565.024 1220.77 L565.024 1220.77  Z\n",
       "  \" fill=\"#009af9\" fill-rule=\"evenodd\" fill-opacity=\"1\"/>\n",
       "<polyline clip-path=\"url(#clip692)\" style=\"stroke:#000000; stroke-width:1.2; stroke-opacity:1; fill:none\" points=\"\n",
       "  565.024,1220.77 565.024,1423.18 670.185,1423.18 670.185,1220.77 565.024,1220.77 \n",
       "  \"/>\n",
       "<path clip-path=\"url(#clip692)\" d=\"\n",
       "M670.185 1135.46 L670.185 1423.18 L775.346 1423.18 L775.346 1135.46 L670.185 1135.46 L670.185 1135.46  Z\n",
       "  \" fill=\"#009af9\" fill-rule=\"evenodd\" fill-opacity=\"1\"/>\n",
       "<polyline clip-path=\"url(#clip692)\" style=\"stroke:#000000; stroke-width:1.2; stroke-opacity:1; fill:none\" points=\"\n",
       "  670.185,1135.46 670.185,1423.18 775.346,1423.18 775.346,1135.46 670.185,1135.46 \n",
       "  \"/>\n",
       "<path clip-path=\"url(#clip692)\" d=\"\n",
       "M775.346 1088.84 L775.346 1423.18 L880.506 1423.18 L880.506 1088.84 L775.346 1088.84 L775.346 1088.84  Z\n",
       "  \" fill=\"#009af9\" fill-rule=\"evenodd\" fill-opacity=\"1\"/>\n",
       "<polyline clip-path=\"url(#clip692)\" style=\"stroke:#000000; stroke-width:1.2; stroke-opacity:1; fill:none\" points=\"\n",
       "  775.346,1088.84 775.346,1423.18 880.506,1423.18 880.506,1088.84 775.346,1088.84 \n",
       "  \"/>\n",
       "<path clip-path=\"url(#clip692)\" d=\"\n",
       "M880.506 1090.28 L880.506 1423.18 L985.667 1423.18 L985.667 1090.28 L880.506 1090.28 L880.506 1090.28  Z\n",
       "  \" fill=\"#009af9\" fill-rule=\"evenodd\" fill-opacity=\"1\"/>\n",
       "<polyline clip-path=\"url(#clip692)\" style=\"stroke:#000000; stroke-width:1.2; stroke-opacity:1; fill:none\" points=\"\n",
       "  880.506,1090.28 880.506,1423.18 985.667,1423.18 985.667,1090.28 880.506,1090.28 \n",
       "  \"/>\n",
       "<path clip-path=\"url(#clip692)\" d=\"\n",
       "M985.667 1071.85 L985.667 1423.18 L1090.83 1423.18 L1090.83 1071.85 L985.667 1071.85 L985.667 1071.85  Z\n",
       "  \" fill=\"#009af9\" fill-rule=\"evenodd\" fill-opacity=\"1\"/>\n",
       "<polyline clip-path=\"url(#clip692)\" style=\"stroke:#000000; stroke-width:1.2; stroke-opacity:1; fill:none\" points=\"\n",
       "  985.667,1071.85 985.667,1423.18 1090.83,1423.18 1090.83,1071.85 985.667,1071.85 \n",
       "  \"/>\n",
       "<path clip-path=\"url(#clip692)\" d=\"\n",
       "M1090.83 1169.8 L1090.83 1423.18 L1195.99 1423.18 L1195.99 1169.8 L1090.83 1169.8 L1090.83 1169.8  Z\n",
       "  \" fill=\"#009af9\" fill-rule=\"evenodd\" fill-opacity=\"1\"/>\n",
       "<polyline clip-path=\"url(#clip692)\" style=\"stroke:#000000; stroke-width:1.2; stroke-opacity:1; fill:none\" points=\"\n",
       "  1090.83,1169.8 1090.83,1423.18 1195.99,1423.18 1195.99,1169.8 1090.83,1169.8 \n",
       "  \"/>\n",
       "<path clip-path=\"url(#clip692)\" d=\"\n",
       "M1195.99 1203.06 L1195.99 1423.18 L1301.15 1423.18 L1301.15 1203.06 L1195.99 1203.06 L1195.99 1203.06  Z\n",
       "  \" fill=\"#009af9\" fill-rule=\"evenodd\" fill-opacity=\"1\"/>\n",
       "<polyline clip-path=\"url(#clip692)\" style=\"stroke:#000000; stroke-width:1.2; stroke-opacity:1; fill:none\" points=\"\n",
       "  1195.99,1203.06 1195.99,1423.18 1301.15,1423.18 1301.15,1203.06 1195.99,1203.06 \n",
       "  \"/>\n",
       "<path clip-path=\"url(#clip692)\" d=\"\n",
       "M1301.15 1225.1 L1301.15 1423.18 L1406.31 1423.18 L1406.31 1225.1 L1301.15 1225.1 L1301.15 1225.1  Z\n",
       "  \" fill=\"#009af9\" fill-rule=\"evenodd\" fill-opacity=\"1\"/>\n",
       "<polyline clip-path=\"url(#clip692)\" style=\"stroke:#000000; stroke-width:1.2; stroke-opacity:1; fill:none\" points=\"\n",
       "  1301.15,1225.1 1301.15,1423.18 1406.31,1423.18 1406.31,1225.1 1301.15,1225.1 \n",
       "  \"/>\n",
       "<path clip-path=\"url(#clip692)\" d=\"\n",
       "M1406.31 1194.02 L1406.31 1423.18 L1511.47 1423.18 L1511.47 1194.02 L1406.31 1194.02 L1406.31 1194.02  Z\n",
       "  \" fill=\"#009af9\" fill-rule=\"evenodd\" fill-opacity=\"1\"/>\n",
       "<polyline clip-path=\"url(#clip692)\" style=\"stroke:#000000; stroke-width:1.2; stroke-opacity:1; fill:none\" points=\"\n",
       "  1406.31,1194.02 1406.31,1423.18 1511.47,1423.18 1511.47,1194.02 1406.31,1194.02 \n",
       "  \"/>\n",
       "<path clip-path=\"url(#clip692)\" d=\"\n",
       "M1511.47 1156.43 L1511.47 1423.18 L1616.63 1423.18 L1616.63 1156.43 L1511.47 1156.43 L1511.47 1156.43  Z\n",
       "  \" fill=\"#009af9\" fill-rule=\"evenodd\" fill-opacity=\"1\"/>\n",
       "<polyline clip-path=\"url(#clip692)\" style=\"stroke:#000000; stroke-width:1.2; stroke-opacity:1; fill:none\" points=\"\n",
       "  1511.47,1156.43 1511.47,1423.18 1616.63,1423.18 1616.63,1156.43 1511.47,1156.43 \n",
       "  \"/>\n",
       "<path clip-path=\"url(#clip692)\" d=\"\n",
       "M1616.63 1136.55 L1616.63 1423.18 L1721.79 1423.18 L1721.79 1136.55 L1616.63 1136.55 L1616.63 1136.55  Z\n",
       "  \" fill=\"#009af9\" fill-rule=\"evenodd\" fill-opacity=\"1\"/>\n",
       "<polyline clip-path=\"url(#clip692)\" style=\"stroke:#000000; stroke-width:1.2; stroke-opacity:1; fill:none\" points=\"\n",
       "  1616.63,1136.55 1616.63,1423.18 1721.79,1423.18 1721.79,1136.55 1616.63,1136.55 \n",
       "  \"/>\n",
       "<path clip-path=\"url(#clip692)\" d=\"\n",
       "M1721.79 1055.22 L1721.79 1423.18 L1826.95 1423.18 L1826.95 1055.22 L1721.79 1055.22 L1721.79 1055.22  Z\n",
       "  \" fill=\"#009af9\" fill-rule=\"evenodd\" fill-opacity=\"1\"/>\n",
       "<polyline clip-path=\"url(#clip692)\" style=\"stroke:#000000; stroke-width:1.2; stroke-opacity:1; fill:none\" points=\"\n",
       "  1721.79,1055.22 1721.79,1423.18 1826.95,1423.18 1826.95,1055.22 1721.79,1055.22 \n",
       "  \"/>\n",
       "<path clip-path=\"url(#clip692)\" d=\"\n",
       "M1826.95 955.1 L1826.95 1423.18 L1932.11 1423.18 L1932.11 955.1 L1826.95 955.1 L1826.95 955.1  Z\n",
       "  \" fill=\"#009af9\" fill-rule=\"evenodd\" fill-opacity=\"1\"/>\n",
       "<polyline clip-path=\"url(#clip692)\" style=\"stroke:#000000; stroke-width:1.2; stroke-opacity:1; fill:none\" points=\"\n",
       "  1826.95,955.1 1826.95,1423.18 1932.11,1423.18 1932.11,955.1 1826.95,955.1 \n",
       "  \"/>\n",
       "<path clip-path=\"url(#clip692)\" d=\"\n",
       "M1932.11 877.026 L1932.11 1423.18 L2037.27 1423.18 L2037.27 877.026 L1932.11 877.026 L1932.11 877.026  Z\n",
       "  \" fill=\"#009af9\" fill-rule=\"evenodd\" fill-opacity=\"1\"/>\n",
       "<polyline clip-path=\"url(#clip692)\" style=\"stroke:#000000; stroke-width:1.2; stroke-opacity:1; fill:none\" points=\"\n",
       "  1932.11,877.026 1932.11,1423.18 2037.27,1423.18 2037.27,877.026 1932.11,877.026 \n",
       "  \"/>\n",
       "<path clip-path=\"url(#clip692)\" d=\"\n",
       "M2037.27 660.878 L2037.27 1423.18 L2142.43 1423.18 L2142.43 660.878 L2037.27 660.878 L2037.27 660.878  Z\n",
       "  \" fill=\"#009af9\" fill-rule=\"evenodd\" fill-opacity=\"1\"/>\n",
       "<polyline clip-path=\"url(#clip692)\" style=\"stroke:#000000; stroke-width:1.2; stroke-opacity:1; fill:none\" points=\"\n",
       "  2037.27,660.878 2037.27,1423.18 2142.43,1423.18 2142.43,660.878 2037.27,660.878 \n",
       "  \"/>\n",
       "<path clip-path=\"url(#clip692)\" d=\"\n",
       "M2142.43 405.332 L2142.43 1423.18 L2247.6 1423.18 L2247.6 405.332 L2142.43 405.332 L2142.43 405.332  Z\n",
       "  \" fill=\"#009af9\" fill-rule=\"evenodd\" fill-opacity=\"1\"/>\n",
       "<polyline clip-path=\"url(#clip692)\" style=\"stroke:#000000; stroke-width:1.2; stroke-opacity:1; fill:none\" points=\"\n",
       "  2142.43,405.332 2142.43,1423.18 2247.6,1423.18 2247.6,405.332 2142.43,405.332 \n",
       "  \"/>\n",
       "<path clip-path=\"url(#clip692)\" d=\"\n",
       "M2247.6 1174.5 L2247.6 1423.18 L2352.76 1423.18 L2352.76 1174.5 L2247.6 1174.5 L2247.6 1174.5  Z\n",
       "  \" fill=\"#009af9\" fill-rule=\"evenodd\" fill-opacity=\"1\"/>\n",
       "<polyline clip-path=\"url(#clip692)\" style=\"stroke:#000000; stroke-width:1.2; stroke-opacity:1; fill:none\" points=\"\n",
       "  2247.6,1174.5 2247.6,1423.18 2352.76,1423.18 2352.76,1174.5 2247.6,1174.5 \n",
       "  \"/>\n",
       "</svg>\n"
      ]
     },
     "execution_count": 151,
     "metadata": {},
     "output_type": "execute_result"
    }
   ],
   "source": [
    "histogram(fcst, normalize=:probability, bins=n, lw=0.3, leg=false,\n",
    "    xlim=(0,1), ylim=(0,0.2), xlabel=\"CMF\", ylabel=\"Frequency\", \n",
    "    title=\"Berlin_predict + 15 min\")"
   ]
  },
  {
   "cell_type": "code",
   "execution_count": 98,
   "id": "7df68ca4-3438-428c-9c8b-5a5c2dce00f0",
   "metadata": {
    "execution": {
     "iopub.execute_input": "2021-05-25T15:23:34.885000+02:00",
     "iopub.status.busy": "2021-05-25T15:23:34.885000+02:00",
     "iopub.status.idle": "2021-05-25T15:23:34.926000+02:00",
     "shell.execute_reply": "2021-05-25T15:23:34.926000+02:00"
    },
    "tags": []
   },
   "outputs": [
    {
     "data": {
      "image/svg+xml": [
       "<?xml version=\"1.0\" encoding=\"utf-8\"?>\n",
       "<svg xmlns=\"http://www.w3.org/2000/svg\" xmlns:xlink=\"http://www.w3.org/1999/xlink\" width=\"600\" height=\"400\" viewBox=\"0 0 2400 1600\">\n",
       "<defs>\n",
       "  <clipPath id=\"clip290\">\n",
       "    <rect x=\"0\" y=\"0\" width=\"2400\" height=\"1600\"/>\n",
       "  </clipPath>\n",
       "</defs>\n",
       "<path clip-path=\"url(#clip290)\" d=\"\n",
       "M0 1600 L2400 1600 L2400 0 L0 0  Z\n",
       "  \" fill=\"#ffffff\" fill-rule=\"evenodd\" fill-opacity=\"1\"/>\n",
       "<defs>\n",
       "  <clipPath id=\"clip291\">\n",
       "    <rect x=\"480\" y=\"0\" width=\"1681\" height=\"1600\"/>\n",
       "  </clipPath>\n",
       "</defs>\n",
       "<path clip-path=\"url(#clip290)\" d=\"\n",
       "M249.542 1423.18 L2352.76 1423.18 L2352.76 123.472 L249.542 123.472  Z\n",
       "  \" fill=\"#ffffff\" fill-rule=\"evenodd\" fill-opacity=\"1\"/>\n",
       "<defs>\n",
       "  <clipPath id=\"clip292\">\n",
       "    <rect x=\"249\" y=\"123\" width=\"2104\" height=\"1301\"/>\n",
       "  </clipPath>\n",
       "</defs>\n",
       "<polyline clip-path=\"url(#clip292)\" style=\"stroke:#000000; stroke-width:2; stroke-opacity:0.1; fill:none\" points=\"\n",
       "  249.542,1423.18 249.542,123.472 \n",
       "  \"/>\n",
       "<polyline clip-path=\"url(#clip292)\" style=\"stroke:#000000; stroke-width:2; stroke-opacity:0.1; fill:none\" points=\"\n",
       "  670.185,1423.18 670.185,123.472 \n",
       "  \"/>\n",
       "<polyline clip-path=\"url(#clip292)\" style=\"stroke:#000000; stroke-width:2; stroke-opacity:0.1; fill:none\" points=\"\n",
       "  1090.83,1423.18 1090.83,123.472 \n",
       "  \"/>\n",
       "<polyline clip-path=\"url(#clip292)\" style=\"stroke:#000000; stroke-width:2; stroke-opacity:0.1; fill:none\" points=\"\n",
       "  1511.47,1423.18 1511.47,123.472 \n",
       "  \"/>\n",
       "<polyline clip-path=\"url(#clip292)\" style=\"stroke:#000000; stroke-width:2; stroke-opacity:0.1; fill:none\" points=\"\n",
       "  1932.11,1423.18 1932.11,123.472 \n",
       "  \"/>\n",
       "<polyline clip-path=\"url(#clip292)\" style=\"stroke:#000000; stroke-width:2; stroke-opacity:0.1; fill:none\" points=\"\n",
       "  2352.76,1423.18 2352.76,123.472 \n",
       "  \"/>\n",
       "<polyline clip-path=\"url(#clip290)\" style=\"stroke:#000000; stroke-width:4; stroke-opacity:1; fill:none\" points=\"\n",
       "  249.542,1423.18 2352.76,1423.18 \n",
       "  \"/>\n",
       "<polyline clip-path=\"url(#clip290)\" style=\"stroke:#000000; stroke-width:4; stroke-opacity:1; fill:none\" points=\"\n",
       "  249.542,1423.18 249.542,1407.58 \n",
       "  \"/>\n",
       "<polyline clip-path=\"url(#clip290)\" style=\"stroke:#000000; stroke-width:4; stroke-opacity:1; fill:none\" points=\"\n",
       "  670.185,1423.18 670.185,1407.58 \n",
       "  \"/>\n",
       "<polyline clip-path=\"url(#clip290)\" style=\"stroke:#000000; stroke-width:4; stroke-opacity:1; fill:none\" points=\"\n",
       "  1090.83,1423.18 1090.83,1407.58 \n",
       "  \"/>\n",
       "<polyline clip-path=\"url(#clip290)\" style=\"stroke:#000000; stroke-width:4; stroke-opacity:1; fill:none\" points=\"\n",
       "  1511.47,1423.18 1511.47,1407.58 \n",
       "  \"/>\n",
       "<polyline clip-path=\"url(#clip290)\" style=\"stroke:#000000; stroke-width:4; stroke-opacity:1; fill:none\" points=\"\n",
       "  1932.11,1423.18 1932.11,1407.58 \n",
       "  \"/>\n",
       "<polyline clip-path=\"url(#clip290)\" style=\"stroke:#000000; stroke-width:4; stroke-opacity:1; fill:none\" points=\"\n",
       "  2352.76,1423.18 2352.76,1407.58 \n",
       "  \"/>\n",
       "<path clip-path=\"url(#clip290)\" d=\"M 0 0 M226.926 1452.37 Q223.315 1452.37 221.487 1455.94 Q219.681 1459.48 219.681 1466.61 Q219.681 1473.71 221.487 1477.28 Q223.315 1480.82 226.926 1480.82 Q230.561 1480.82 232.366 1477.28 Q234.195 1473.71 234.195 1466.61 Q234.195 1459.48 232.366 1455.94 Q230.561 1452.37 226.926 1452.37 M226.926 1448.67 Q232.737 1448.67 235.792 1453.27 Q238.871 1457.86 238.871 1466.61 Q238.871 1475.33 235.792 1479.94 Q232.737 1484.52 226.926 1484.52 Q221.116 1484.52 218.038 1479.94 Q214.982 1475.33 214.982 1466.61 Q214.982 1457.86 218.038 1453.27 Q221.116 1448.67 226.926 1448.67 Z\" fill=\"#000000\" fill-rule=\"evenodd\" fill-opacity=\"1\" /><path clip-path=\"url(#clip290)\" d=\"M 0 0 M247.088 1477.97 L251.973 1477.97 L251.973 1483.85 L247.088 1483.85 L247.088 1477.97 Z\" fill=\"#000000\" fill-rule=\"evenodd\" fill-opacity=\"1\" /><path clip-path=\"url(#clip290)\" d=\"M 0 0 M272.158 1452.37 Q268.547 1452.37 266.718 1455.94 Q264.912 1459.48 264.912 1466.61 Q264.912 1473.71 266.718 1477.28 Q268.547 1480.82 272.158 1480.82 Q275.792 1480.82 277.597 1477.28 Q279.426 1473.71 279.426 1466.61 Q279.426 1459.48 277.597 1455.94 Q275.792 1452.37 272.158 1452.37 M272.158 1448.67 Q277.968 1448.67 281.023 1453.27 Q284.102 1457.86 284.102 1466.61 Q284.102 1475.33 281.023 1479.94 Q277.968 1484.52 272.158 1484.52 Q266.347 1484.52 263.269 1479.94 Q260.213 1475.33 260.213 1466.61 Q260.213 1457.86 263.269 1453.27 Q266.347 1448.67 272.158 1448.67 Z\" fill=\"#000000\" fill-rule=\"evenodd\" fill-opacity=\"1\" /><path clip-path=\"url(#clip290)\" d=\"M 0 0 M648.368 1452.37 Q644.757 1452.37 642.928 1455.94 Q641.122 1459.48 641.122 1466.61 Q641.122 1473.71 642.928 1477.28 Q644.757 1480.82 648.368 1480.82 Q652.002 1480.82 653.808 1477.28 Q655.636 1473.71 655.636 1466.61 Q655.636 1459.48 653.808 1455.94 Q652.002 1452.37 648.368 1452.37 M648.368 1448.67 Q654.178 1448.67 657.233 1453.27 Q660.312 1457.86 660.312 1466.61 Q660.312 1475.33 657.233 1479.94 Q654.178 1484.52 648.368 1484.52 Q642.558 1484.52 639.479 1479.94 Q636.423 1475.33 636.423 1466.61 Q636.423 1457.86 639.479 1453.27 Q642.558 1448.67 648.368 1448.67 Z\" fill=\"#000000\" fill-rule=\"evenodd\" fill-opacity=\"1\" /><path clip-path=\"url(#clip290)\" d=\"M 0 0 M668.53 1477.97 L673.414 1477.97 L673.414 1483.85 L668.53 1483.85 L668.53 1477.97 Z\" fill=\"#000000\" fill-rule=\"evenodd\" fill-opacity=\"1\" /><path clip-path=\"url(#clip290)\" d=\"M 0 0 M687.627 1479.92 L703.946 1479.92 L703.946 1483.85 L682.002 1483.85 L682.002 1479.92 Q684.664 1477.16 689.247 1472.53 Q693.854 1467.88 695.034 1466.54 Q697.28 1464.01 698.159 1462.28 Q699.062 1460.52 699.062 1458.83 Q699.062 1456.07 697.118 1454.34 Q695.196 1452.6 692.094 1452.6 Q689.895 1452.6 687.442 1453.37 Q685.011 1454.13 682.233 1455.68 L682.233 1450.96 Q685.057 1449.82 687.511 1449.25 Q689.965 1448.67 692.002 1448.67 Q697.372 1448.67 700.567 1451.35 Q703.761 1454.04 703.761 1458.53 Q703.761 1460.66 702.951 1462.58 Q702.164 1464.48 700.057 1467.07 Q699.479 1467.74 696.377 1470.96 Q693.275 1474.15 687.627 1479.92 Z\" fill=\"#000000\" fill-rule=\"evenodd\" fill-opacity=\"1\" /><path clip-path=\"url(#clip290)\" d=\"M 0 0 M1067.97 1452.37 Q1064.36 1452.37 1062.53 1455.94 Q1060.72 1459.48 1060.72 1466.61 Q1060.72 1473.71 1062.53 1477.28 Q1064.36 1480.82 1067.97 1480.82 Q1071.6 1480.82 1073.41 1477.28 Q1075.24 1473.71 1075.24 1466.61 Q1075.24 1459.48 1073.41 1455.94 Q1071.6 1452.37 1067.97 1452.37 M1067.97 1448.67 Q1073.78 1448.67 1076.83 1453.27 Q1079.91 1457.86 1079.91 1466.61 Q1079.91 1475.33 1076.83 1479.94 Q1073.78 1484.52 1067.97 1484.52 Q1062.16 1484.52 1059.08 1479.94 Q1056.02 1475.33 1056.02 1466.61 Q1056.02 1457.86 1059.08 1453.27 Q1062.16 1448.67 1067.97 1448.67 Z\" fill=\"#000000\" fill-rule=\"evenodd\" fill-opacity=\"1\" /><path clip-path=\"url(#clip290)\" d=\"M 0 0 M1088.13 1477.97 L1093.02 1477.97 L1093.02 1483.85 L1088.13 1483.85 L1088.13 1477.97 Z\" fill=\"#000000\" fill-rule=\"evenodd\" fill-opacity=\"1\" /><path clip-path=\"url(#clip290)\" d=\"M 0 0 M1116.05 1453.37 L1104.24 1471.81 L1116.05 1471.81 L1116.05 1453.37 M1114.82 1449.29 L1120.7 1449.29 L1120.7 1471.81 L1125.63 1471.81 L1125.63 1475.7 L1120.7 1475.7 L1120.7 1483.85 L1116.05 1483.85 L1116.05 1475.7 L1100.45 1475.7 L1100.45 1471.19 L1114.82 1449.29 Z\" fill=\"#000000\" fill-rule=\"evenodd\" fill-opacity=\"1\" /><path clip-path=\"url(#clip290)\" d=\"M 0 0 M1488.77 1452.37 Q1485.16 1452.37 1483.33 1455.94 Q1481.53 1459.48 1481.53 1466.61 Q1481.53 1473.71 1483.33 1477.28 Q1485.16 1480.82 1488.77 1480.82 Q1492.41 1480.82 1494.21 1477.28 Q1496.04 1473.71 1496.04 1466.61 Q1496.04 1459.48 1494.21 1455.94 Q1492.41 1452.37 1488.77 1452.37 M1488.77 1448.67 Q1494.58 1448.67 1497.64 1453.27 Q1500.72 1457.86 1500.72 1466.61 Q1500.72 1475.33 1497.64 1479.94 Q1494.58 1484.52 1488.77 1484.52 Q1482.96 1484.52 1479.88 1479.94 Q1476.83 1475.33 1476.83 1466.61 Q1476.83 1457.86 1479.88 1453.27 Q1482.96 1448.67 1488.77 1448.67 Z\" fill=\"#000000\" fill-rule=\"evenodd\" fill-opacity=\"1\" /><path clip-path=\"url(#clip290)\" d=\"M 0 0 M1508.94 1477.97 L1513.82 1477.97 L1513.82 1483.85 L1508.94 1483.85 L1508.94 1477.97 Z\" fill=\"#000000\" fill-rule=\"evenodd\" fill-opacity=\"1\" /><path clip-path=\"url(#clip290)\" d=\"M 0 0 M1534.58 1464.71 Q1531.44 1464.71 1529.58 1466.86 Q1527.75 1469.01 1527.75 1472.76 Q1527.75 1476.49 1529.58 1478.67 Q1531.44 1480.82 1534.58 1480.82 Q1537.73 1480.82 1539.56 1478.67 Q1541.41 1476.49 1541.41 1472.76 Q1541.41 1469.01 1539.56 1466.86 Q1537.73 1464.71 1534.58 1464.71 M1543.87 1450.06 L1543.87 1454.31 Q1542.11 1453.48 1540.3 1453.04 Q1538.52 1452.6 1536.76 1452.6 Q1532.13 1452.6 1529.68 1455.73 Q1527.25 1458.85 1526.9 1465.17 Q1528.26 1463.16 1530.32 1462.09 Q1532.38 1461 1534.86 1461 Q1540.07 1461 1543.08 1464.18 Q1546.11 1467.32 1546.11 1472.76 Q1546.11 1478.09 1542.96 1481.31 Q1539.82 1484.52 1534.58 1484.52 Q1528.59 1484.52 1525.42 1479.94 Q1522.25 1475.33 1522.25 1466.61 Q1522.25 1458.41 1526.13 1453.55 Q1530.02 1448.67 1536.57 1448.67 Q1538.33 1448.67 1540.12 1449.01 Q1541.92 1449.36 1543.87 1450.06 Z\" fill=\"#000000\" fill-rule=\"evenodd\" fill-opacity=\"1\" /><path clip-path=\"url(#clip290)\" d=\"M 0 0 M1909.54 1452.37 Q1905.93 1452.37 1904.1 1455.94 Q1902.3 1459.48 1902.3 1466.61 Q1902.3 1473.71 1904.1 1477.28 Q1905.93 1480.82 1909.54 1480.82 Q1913.18 1480.82 1914.98 1477.28 Q1916.81 1473.71 1916.81 1466.61 Q1916.81 1459.48 1914.98 1455.94 Q1913.18 1452.37 1909.54 1452.37 M1909.54 1448.67 Q1915.35 1448.67 1918.41 1453.27 Q1921.49 1457.86 1921.49 1466.61 Q1921.49 1475.33 1918.41 1479.94 Q1915.35 1484.52 1909.54 1484.52 Q1903.73 1484.52 1900.65 1479.94 Q1897.6 1475.33 1897.6 1466.61 Q1897.6 1457.86 1900.65 1453.27 Q1903.73 1448.67 1909.54 1448.67 Z\" fill=\"#000000\" fill-rule=\"evenodd\" fill-opacity=\"1\" /><path clip-path=\"url(#clip290)\" d=\"M 0 0 M1929.71 1477.97 L1934.59 1477.97 L1934.59 1483.85 L1929.71 1483.85 L1929.71 1477.97 Z\" fill=\"#000000\" fill-rule=\"evenodd\" fill-opacity=\"1\" /><path clip-path=\"url(#clip290)\" d=\"M 0 0 M1954.78 1467.44 Q1951.44 1467.44 1949.52 1469.22 Q1947.62 1471 1947.62 1474.13 Q1947.62 1477.25 1949.52 1479.04 Q1951.44 1480.82 1954.78 1480.82 Q1958.11 1480.82 1960.03 1479.04 Q1961.95 1477.23 1961.95 1474.13 Q1961.95 1471 1960.03 1469.22 Q1958.13 1467.44 1954.78 1467.44 M1950.1 1465.45 Q1947.09 1464.71 1945.4 1462.65 Q1943.73 1460.59 1943.73 1457.63 Q1943.73 1453.48 1946.67 1451.07 Q1949.64 1448.67 1954.78 1448.67 Q1959.94 1448.67 1962.88 1451.07 Q1965.82 1453.48 1965.82 1457.63 Q1965.82 1460.59 1964.13 1462.65 Q1962.46 1464.71 1959.47 1465.45 Q1962.85 1466.24 1964.73 1468.53 Q1966.63 1470.82 1966.63 1474.13 Q1966.63 1479.15 1963.55 1481.84 Q1960.49 1484.52 1954.78 1484.52 Q1949.06 1484.52 1945.98 1481.84 Q1942.92 1479.15 1942.92 1474.13 Q1942.92 1470.82 1944.82 1468.53 Q1946.72 1466.24 1950.1 1465.45 M1948.39 1458.06 Q1948.39 1460.75 1950.05 1462.25 Q1951.74 1463.76 1954.78 1463.76 Q1957.78 1463.76 1959.47 1462.25 Q1961.19 1460.75 1961.19 1458.06 Q1961.19 1455.38 1959.47 1453.88 Q1957.78 1452.37 1954.78 1452.37 Q1951.74 1452.37 1950.05 1453.88 Q1948.39 1455.38 1948.39 1458.06 Z\" fill=\"#000000\" fill-rule=\"evenodd\" fill-opacity=\"1\" /><path clip-path=\"url(#clip290)\" d=\"M 0 0 M2319.91 1479.92 L2327.55 1479.92 L2327.55 1453.55 L2319.24 1455.22 L2319.24 1450.96 L2327.5 1449.29 L2332.18 1449.29 L2332.18 1479.92 L2339.82 1479.92 L2339.82 1483.85 L2319.91 1483.85 L2319.91 1479.92 Z\" fill=\"#000000\" fill-rule=\"evenodd\" fill-opacity=\"1\" /><path clip-path=\"url(#clip290)\" d=\"M 0 0 M2349.26 1477.97 L2354.14 1477.97 L2354.14 1483.85 L2349.26 1483.85 L2349.26 1477.97 Z\" fill=\"#000000\" fill-rule=\"evenodd\" fill-opacity=\"1\" /><path clip-path=\"url(#clip290)\" d=\"M 0 0 M2374.33 1452.37 Q2370.72 1452.37 2368.89 1455.94 Q2367.08 1459.48 2367.08 1466.61 Q2367.08 1473.71 2368.89 1477.28 Q2370.72 1480.82 2374.33 1480.82 Q2377.96 1480.82 2379.77 1477.28 Q2381.6 1473.71 2381.6 1466.61 Q2381.6 1459.48 2379.77 1455.94 Q2377.96 1452.37 2374.33 1452.37 M2374.33 1448.67 Q2380.14 1448.67 2383.2 1453.27 Q2386.27 1457.86 2386.27 1466.61 Q2386.27 1475.33 2383.2 1479.94 Q2380.14 1484.52 2374.33 1484.52 Q2368.52 1484.52 2365.44 1479.94 Q2362.39 1475.33 2362.39 1466.61 Q2362.39 1457.86 2365.44 1453.27 Q2368.52 1448.67 2374.33 1448.67 Z\" fill=\"#000000\" fill-rule=\"evenodd\" fill-opacity=\"1\" /><path clip-path=\"url(#clip290)\" d=\"M 0 0 M1273.57 1524.18 L1273.57 1530.96 Q1270.32 1527.94 1266.63 1526.44 Q1262.97 1524.95 1258.83 1524.95 Q1250.68 1524.95 1246.36 1529.95 Q1242.03 1534.91 1242.03 1544.33 Q1242.03 1553.72 1246.36 1558.72 Q1250.68 1563.68 1258.83 1563.68 Q1262.97 1563.68 1266.63 1562.19 Q1270.32 1560.69 1273.57 1557.67 L1273.57 1564.38 Q1270.2 1566.68 1266.41 1567.82 Q1262.65 1568.97 1258.45 1568.97 Q1247.66 1568.97 1241.45 1562.38 Q1235.25 1555.76 1235.25 1544.33 Q1235.25 1532.87 1241.45 1526.28 Q1247.66 1519.66 1258.45 1519.66 Q1262.72 1519.66 1266.47 1520.81 Q1270.26 1521.92 1273.57 1524.18 Z\" fill=\"#000000\" fill-rule=\"evenodd\" fill-opacity=\"1\" /><path clip-path=\"url(#clip290)\" d=\"M 0 0 M1283.5 1520.52 L1293.08 1520.52 L1305.21 1552.86 L1317.4 1520.52 L1326.98 1520.52 L1326.98 1568.04 L1320.71 1568.04 L1320.71 1526.32 L1308.45 1558.91 L1301.99 1558.91 L1289.74 1526.32 L1289.74 1568.04 L1283.5 1568.04 L1283.5 1520.52 Z\" fill=\"#000000\" fill-rule=\"evenodd\" fill-opacity=\"1\" /><path clip-path=\"url(#clip290)\" d=\"M 0 0 M1339.74 1520.52 L1367.05 1520.52 L1367.05 1525.93 L1346.17 1525.93 L1346.17 1539.94 L1365.01 1539.94 L1365.01 1545.35 L1346.17 1545.35 L1346.17 1568.04 L1339.74 1568.04 L1339.74 1520.52 Z\" fill=\"#000000\" fill-rule=\"evenodd\" fill-opacity=\"1\" /><polyline clip-path=\"url(#clip292)\" style=\"stroke:#000000; stroke-width:2; stroke-opacity:0.1; fill:none\" points=\"\n",
       "  249.542,1423.18 2352.76,1423.18 \n",
       "  \"/>\n",
       "<polyline clip-path=\"url(#clip292)\" style=\"stroke:#000000; stroke-width:2; stroke-opacity:0.1; fill:none\" points=\"\n",
       "  249.542,1098.25 2352.76,1098.25 \n",
       "  \"/>\n",
       "<polyline clip-path=\"url(#clip292)\" style=\"stroke:#000000; stroke-width:2; stroke-opacity:0.1; fill:none\" points=\"\n",
       "  249.542,773.326 2352.76,773.326 \n",
       "  \"/>\n",
       "<polyline clip-path=\"url(#clip292)\" style=\"stroke:#000000; stroke-width:2; stroke-opacity:0.1; fill:none\" points=\"\n",
       "  249.542,448.399 2352.76,448.399 \n",
       "  \"/>\n",
       "<polyline clip-path=\"url(#clip292)\" style=\"stroke:#000000; stroke-width:2; stroke-opacity:0.1; fill:none\" points=\"\n",
       "  249.542,123.472 2352.76,123.472 \n",
       "  \"/>\n",
       "<polyline clip-path=\"url(#clip290)\" style=\"stroke:#000000; stroke-width:4; stroke-opacity:1; fill:none\" points=\"\n",
       "  249.542,1423.18 249.542,123.472 \n",
       "  \"/>\n",
       "<polyline clip-path=\"url(#clip290)\" style=\"stroke:#000000; stroke-width:4; stroke-opacity:1; fill:none\" points=\"\n",
       "  249.542,1423.18 274.781,1423.18 \n",
       "  \"/>\n",
       "<polyline clip-path=\"url(#clip290)\" style=\"stroke:#000000; stroke-width:4; stroke-opacity:1; fill:none\" points=\"\n",
       "  249.542,1098.25 274.781,1098.25 \n",
       "  \"/>\n",
       "<polyline clip-path=\"url(#clip290)\" style=\"stroke:#000000; stroke-width:4; stroke-opacity:1; fill:none\" points=\"\n",
       "  249.542,773.326 274.781,773.326 \n",
       "  \"/>\n",
       "<polyline clip-path=\"url(#clip290)\" style=\"stroke:#000000; stroke-width:4; stroke-opacity:1; fill:none\" points=\"\n",
       "  249.542,448.399 274.781,448.399 \n",
       "  \"/>\n",
       "<polyline clip-path=\"url(#clip290)\" style=\"stroke:#000000; stroke-width:4; stroke-opacity:1; fill:none\" points=\"\n",
       "  249.542,123.472 274.781,123.472 \n",
       "  \"/>\n",
       "<path clip-path=\"url(#clip290)\" d=\"M 0 0 M126.205 1408.98 Q122.593 1408.98 120.765 1412.54 Q118.959 1416.08 118.959 1423.21 Q118.959 1430.32 120.765 1433.89 Q122.593 1437.43 126.205 1437.43 Q129.839 1437.43 131.644 1433.89 Q133.473 1430.32 133.473 1423.21 Q133.473 1416.08 131.644 1412.54 Q129.839 1408.98 126.205 1408.98 M126.205 1405.27 Q132.015 1405.27 135.07 1409.88 Q138.149 1414.46 138.149 1423.21 Q138.149 1431.94 135.07 1436.55 Q132.015 1441.13 126.205 1441.13 Q120.394 1441.13 117.316 1436.55 Q114.26 1431.94 114.26 1423.21 Q114.26 1414.46 117.316 1409.88 Q120.394 1405.27 126.205 1405.27 Z\" fill=\"#000000\" fill-rule=\"evenodd\" fill-opacity=\"1\" /><path clip-path=\"url(#clip290)\" d=\"M 0 0 M146.366 1434.58 L151.251 1434.58 L151.251 1440.46 L146.366 1440.46 L146.366 1434.58 Z\" fill=\"#000000\" fill-rule=\"evenodd\" fill-opacity=\"1\" /><path clip-path=\"url(#clip290)\" d=\"M 0 0 M171.436 1408.98 Q167.825 1408.98 165.996 1412.54 Q164.19 1416.08 164.19 1423.21 Q164.19 1430.32 165.996 1433.89 Q167.825 1437.43 171.436 1437.43 Q175.07 1437.43 176.876 1433.89 Q178.704 1430.32 178.704 1423.21 Q178.704 1416.08 176.876 1412.54 Q175.07 1408.98 171.436 1408.98 M171.436 1405.27 Q177.246 1405.27 180.301 1409.88 Q183.38 1414.46 183.38 1423.21 Q183.38 1431.94 180.301 1436.55 Q177.246 1441.13 171.436 1441.13 Q165.626 1441.13 162.547 1436.55 Q159.491 1431.94 159.491 1423.21 Q159.491 1414.46 162.547 1409.88 Q165.626 1405.27 171.436 1405.27 Z\" fill=\"#000000\" fill-rule=\"evenodd\" fill-opacity=\"1\" /><path clip-path=\"url(#clip290)\" d=\"M 0 0 M201.598 1408.98 Q197.987 1408.98 196.158 1412.54 Q194.352 1416.08 194.352 1423.21 Q194.352 1430.32 196.158 1433.89 Q197.987 1437.43 201.598 1437.43 Q205.232 1437.43 207.037 1433.89 Q208.866 1430.32 208.866 1423.21 Q208.866 1416.08 207.037 1412.54 Q205.232 1408.98 201.598 1408.98 M201.598 1405.27 Q207.408 1405.27 210.463 1409.88 Q213.542 1414.46 213.542 1423.21 Q213.542 1431.94 210.463 1436.55 Q207.408 1441.13 201.598 1441.13 Q195.787 1441.13 192.709 1436.55 Q189.653 1431.94 189.653 1423.21 Q189.653 1414.46 192.709 1409.88 Q195.787 1405.27 201.598 1405.27 Z\" fill=\"#000000\" fill-rule=\"evenodd\" fill-opacity=\"1\" /><path clip-path=\"url(#clip290)\" d=\"M 0 0 M127.2 1084.05 Q123.589 1084.05 121.76 1087.62 Q119.955 1091.16 119.955 1098.29 Q119.955 1105.39 121.76 1108.96 Q123.589 1112.5 127.2 1112.5 Q130.834 1112.5 132.64 1108.96 Q134.468 1105.39 134.468 1098.29 Q134.468 1091.16 132.64 1087.62 Q130.834 1084.05 127.2 1084.05 M127.2 1080.35 Q133.01 1080.35 136.066 1084.95 Q139.144 1089.54 139.144 1098.29 Q139.144 1107.01 136.066 1111.62 Q133.01 1116.2 127.2 1116.2 Q121.39 1116.2 118.311 1111.62 Q115.256 1107.01 115.256 1098.29 Q115.256 1089.54 118.311 1084.95 Q121.39 1080.35 127.2 1080.35 Z\" fill=\"#000000\" fill-rule=\"evenodd\" fill-opacity=\"1\" /><path clip-path=\"url(#clip290)\" d=\"M 0 0 M147.362 1109.65 L152.246 1109.65 L152.246 1115.53 L147.362 1115.53 L147.362 1109.65 Z\" fill=\"#000000\" fill-rule=\"evenodd\" fill-opacity=\"1\" /><path clip-path=\"url(#clip290)\" d=\"M 0 0 M172.431 1084.05 Q168.82 1084.05 166.991 1087.62 Q165.186 1091.16 165.186 1098.29 Q165.186 1105.39 166.991 1108.96 Q168.82 1112.5 172.431 1112.5 Q176.065 1112.5 177.871 1108.96 Q179.7 1105.39 179.7 1098.29 Q179.7 1091.16 177.871 1087.62 Q176.065 1084.05 172.431 1084.05 M172.431 1080.35 Q178.241 1080.35 181.297 1084.95 Q184.376 1089.54 184.376 1098.29 Q184.376 1107.01 181.297 1111.62 Q178.241 1116.2 172.431 1116.2 Q166.621 1116.2 163.542 1111.62 Q160.487 1107.01 160.487 1098.29 Q160.487 1089.54 163.542 1084.95 Q166.621 1080.35 172.431 1080.35 Z\" fill=\"#000000\" fill-rule=\"evenodd\" fill-opacity=\"1\" /><path clip-path=\"url(#clip290)\" d=\"M 0 0 M192.639 1080.97 L210.996 1080.97 L210.996 1084.91 L196.922 1084.91 L196.922 1093.38 Q197.94 1093.03 198.959 1092.87 Q199.977 1092.69 200.996 1092.69 Q206.783 1092.69 210.162 1095.86 Q213.542 1099.03 213.542 1104.45 Q213.542 1110.02 210.07 1113.13 Q206.598 1116.2 200.278 1116.2 Q198.102 1116.2 195.834 1115.83 Q193.588 1115.46 191.181 1114.72 L191.181 1110.02 Q193.264 1111.16 195.487 1111.71 Q197.709 1112.27 200.186 1112.27 Q204.19 1112.27 206.528 1110.16 Q208.866 1108.06 208.866 1104.45 Q208.866 1100.83 206.528 1098.73 Q204.19 1096.62 200.186 1096.62 Q198.311 1096.62 196.436 1097.04 Q194.584 1097.45 192.639 1098.33 L192.639 1080.97 Z\" fill=\"#000000\" fill-rule=\"evenodd\" fill-opacity=\"1\" /><path clip-path=\"url(#clip290)\" d=\"M 0 0 M126.205 759.125 Q122.593 759.125 120.765 762.689 Q118.959 766.231 118.959 773.361 Q118.959 780.467 120.765 784.032 Q122.593 787.574 126.205 787.574 Q129.839 787.574 131.644 784.032 Q133.473 780.467 133.473 773.361 Q133.473 766.231 131.644 762.689 Q129.839 759.125 126.205 759.125 M126.205 755.421 Q132.015 755.421 135.07 760.027 Q138.149 764.611 138.149 773.361 Q138.149 782.088 135.07 786.694 Q132.015 791.277 126.205 791.277 Q120.394 791.277 117.316 786.694 Q114.26 782.088 114.26 773.361 Q114.26 764.611 117.316 760.027 Q120.394 755.421 126.205 755.421 Z\" fill=\"#000000\" fill-rule=\"evenodd\" fill-opacity=\"1\" /><path clip-path=\"url(#clip290)\" d=\"M 0 0 M146.366 784.726 L151.251 784.726 L151.251 790.606 L146.366 790.606 L146.366 784.726 Z\" fill=\"#000000\" fill-rule=\"evenodd\" fill-opacity=\"1\" /><path clip-path=\"url(#clip290)\" d=\"M 0 0 M162.246 786.671 L169.885 786.671 L169.885 760.305 L161.575 761.972 L161.575 757.713 L169.839 756.046 L174.514 756.046 L174.514 786.671 L182.153 786.671 L182.153 790.606 L162.246 790.606 L162.246 786.671 Z\" fill=\"#000000\" fill-rule=\"evenodd\" fill-opacity=\"1\" /><path clip-path=\"url(#clip290)\" d=\"M 0 0 M201.598 759.125 Q197.987 759.125 196.158 762.689 Q194.352 766.231 194.352 773.361 Q194.352 780.467 196.158 784.032 Q197.987 787.574 201.598 787.574 Q205.232 787.574 207.037 784.032 Q208.866 780.467 208.866 773.361 Q208.866 766.231 207.037 762.689 Q205.232 759.125 201.598 759.125 M201.598 755.421 Q207.408 755.421 210.463 760.027 Q213.542 764.611 213.542 773.361 Q213.542 782.088 210.463 786.694 Q207.408 791.277 201.598 791.277 Q195.787 791.277 192.709 786.694 Q189.653 782.088 189.653 773.361 Q189.653 764.611 192.709 760.027 Q195.787 755.421 201.598 755.421 Z\" fill=\"#000000\" fill-rule=\"evenodd\" fill-opacity=\"1\" /><path clip-path=\"url(#clip290)\" d=\"M 0 0 M127.2 434.198 Q123.589 434.198 121.76 437.763 Q119.955 441.304 119.955 448.434 Q119.955 455.54 121.76 459.105 Q123.589 462.647 127.2 462.647 Q130.834 462.647 132.64 459.105 Q134.468 455.54 134.468 448.434 Q134.468 441.304 132.64 437.763 Q130.834 434.198 127.2 434.198 M127.2 430.494 Q133.01 430.494 136.066 435.101 Q139.144 439.684 139.144 448.434 Q139.144 457.161 136.066 461.767 Q133.01 466.35 127.2 466.35 Q121.39 466.35 118.311 461.767 Q115.256 457.161 115.256 448.434 Q115.256 439.684 118.311 435.101 Q121.39 430.494 127.2 430.494 Z\" fill=\"#000000\" fill-rule=\"evenodd\" fill-opacity=\"1\" /><path clip-path=\"url(#clip290)\" d=\"M 0 0 M147.362 459.799 L152.246 459.799 L152.246 465.679 L147.362 465.679 L147.362 459.799 Z\" fill=\"#000000\" fill-rule=\"evenodd\" fill-opacity=\"1\" /><path clip-path=\"url(#clip290)\" d=\"M 0 0 M163.241 461.744 L170.88 461.744 L170.88 435.378 L162.57 437.045 L162.57 432.786 L170.834 431.119 L175.51 431.119 L175.51 461.744 L183.149 461.744 L183.149 465.679 L163.241 465.679 L163.241 461.744 Z\" fill=\"#000000\" fill-rule=\"evenodd\" fill-opacity=\"1\" /><path clip-path=\"url(#clip290)\" d=\"M 0 0 M192.639 431.119 L210.996 431.119 L210.996 435.054 L196.922 435.054 L196.922 443.526 Q197.94 443.179 198.959 443.017 Q199.977 442.832 200.996 442.832 Q206.783 442.832 210.162 446.003 Q213.542 449.175 213.542 454.591 Q213.542 460.17 210.07 463.272 Q206.598 466.35 200.278 466.35 Q198.102 466.35 195.834 465.98 Q193.588 465.61 191.181 464.869 L191.181 460.17 Q193.264 461.304 195.487 461.86 Q197.709 462.415 200.186 462.415 Q204.19 462.415 206.528 460.309 Q208.866 458.202 208.866 454.591 Q208.866 450.98 206.528 448.874 Q204.19 446.767 200.186 446.767 Q198.311 446.767 196.436 447.184 Q194.584 447.6 192.639 448.48 L192.639 431.119 Z\" fill=\"#000000\" fill-rule=\"evenodd\" fill-opacity=\"1\" /><path clip-path=\"url(#clip290)\" d=\"M 0 0 M126.205 109.271 Q122.593 109.271 120.765 112.836 Q118.959 116.377 118.959 123.507 Q118.959 130.613 120.765 134.178 Q122.593 137.72 126.205 137.72 Q129.839 137.72 131.644 134.178 Q133.473 130.613 133.473 123.507 Q133.473 116.377 131.644 112.836 Q129.839 109.271 126.205 109.271 M126.205 105.567 Q132.015 105.567 135.07 110.174 Q138.149 114.757 138.149 123.507 Q138.149 132.234 135.07 136.84 Q132.015 141.423 126.205 141.423 Q120.394 141.423 117.316 136.84 Q114.26 132.234 114.26 123.507 Q114.26 114.757 117.316 110.174 Q120.394 105.567 126.205 105.567 Z\" fill=\"#000000\" fill-rule=\"evenodd\" fill-opacity=\"1\" /><path clip-path=\"url(#clip290)\" d=\"M 0 0 M146.366 134.873 L151.251 134.873 L151.251 140.752 L146.366 140.752 L146.366 134.873 Z\" fill=\"#000000\" fill-rule=\"evenodd\" fill-opacity=\"1\" /><path clip-path=\"url(#clip290)\" d=\"M 0 0 M165.464 136.817 L181.783 136.817 L181.783 140.752 L159.839 140.752 L159.839 136.817 Q162.501 134.062 167.084 129.433 Q171.69 124.78 172.871 123.437 Q175.116 120.914 175.996 119.178 Q176.899 117.419 176.899 115.729 Q176.899 112.974 174.954 111.238 Q173.033 109.502 169.931 109.502 Q167.732 109.502 165.278 110.266 Q162.848 111.03 160.07 112.581 L160.07 107.859 Q162.894 106.725 165.348 106.146 Q167.802 105.567 169.839 105.567 Q175.209 105.567 178.403 108.252 Q181.598 110.937 181.598 115.428 Q181.598 117.558 180.788 119.479 Q180.001 121.377 177.894 123.97 Q177.315 124.641 174.214 127.859 Q171.112 131.053 165.464 136.817 Z\" fill=\"#000000\" fill-rule=\"evenodd\" fill-opacity=\"1\" /><path clip-path=\"url(#clip290)\" d=\"M 0 0 M201.598 109.271 Q197.987 109.271 196.158 112.836 Q194.352 116.377 194.352 123.507 Q194.352 130.613 196.158 134.178 Q197.987 137.72 201.598 137.72 Q205.232 137.72 207.037 134.178 Q208.866 130.613 208.866 123.507 Q208.866 116.377 207.037 112.836 Q205.232 109.271 201.598 109.271 M201.598 105.567 Q207.408 105.567 210.463 110.174 Q213.542 114.757 213.542 123.507 Q213.542 132.234 210.463 136.84 Q207.408 141.423 201.598 141.423 Q195.787 141.423 192.709 136.84 Q189.653 132.234 189.653 123.507 Q189.653 114.757 192.709 110.174 Q195.787 105.567 201.598 105.567 Z\" fill=\"#000000\" fill-rule=\"evenodd\" fill-opacity=\"1\" /><path clip-path=\"url(#clip290)\" d=\"M 0 0 M16.4842 937.529 L16.4842 910.221 L21.895 910.221 L21.895 931.1 L35.8996 931.1 L35.8996 912.258 L41.3104 912.258 L41.3104 931.1 L64.0042 931.1 L64.0042 937.529 L16.4842 937.529 Z\" fill=\"#000000\" fill-rule=\"evenodd\" fill-opacity=\"1\" /><path clip-path=\"url(#clip290)\" d=\"M 0 0 M33.8307 884.376 Q33.2578 885.362 33.0032 886.54 Q32.7167 887.686 32.7167 889.086 Q32.7167 894.052 35.9632 896.725 Q39.1779 899.367 45.2253 899.367 L64.0042 899.367 L64.0042 905.255 L28.3562 905.255 L28.3562 899.367 L33.8944 899.367 Q30.6479 897.521 29.0883 894.561 Q27.4968 891.601 27.4968 887.368 Q27.4968 886.763 27.5923 886.031 Q27.656 885.299 27.8151 884.408 L33.8307 884.376 Z\" fill=\"#000000\" fill-rule=\"evenodd\" fill-opacity=\"1\" /><path clip-path=\"url(#clip290)\" d=\"M 0 0 M44.7161 849.173 L47.5806 849.173 L47.5806 876.1 Q53.6281 875.718 56.8109 872.472 Q59.9619 869.194 59.9619 863.369 Q59.9619 859.995 59.1344 856.844 Q58.3069 853.661 56.6518 850.542 L62.1899 850.542 Q63.5267 853.693 64.227 857.003 Q64.9272 860.313 64.9272 863.719 Q64.9272 872.249 59.9619 877.246 Q54.9967 882.211 46.5303 882.211 Q37.7774 882.211 32.6531 877.501 Q27.4968 872.758 27.4968 864.738 Q27.4968 857.544 32.1438 853.375 Q36.7589 849.173 44.7161 849.173 M42.9973 855.03 Q38.1912 855.093 35.3266 857.735 Q32.4621 860.345 32.4621 864.674 Q32.4621 869.575 35.2312 872.536 Q38.0002 875.464 43.0292 875.909 L42.9973 855.03 Z\" fill=\"#000000\" fill-rule=\"evenodd\" fill-opacity=\"1\" /><path clip-path=\"url(#clip290)\" d=\"M 0 0 M46.212 836.06 Q52.6732 836.06 56.3653 833.418 Q60.0256 830.745 60.0256 826.098 Q60.0256 821.451 56.3653 818.777 Q52.6732 816.104 46.212 816.104 Q39.7508 816.104 36.0905 818.777 Q32.3984 821.451 32.3984 826.098 Q32.3984 830.745 36.0905 833.418 Q39.7508 836.06 46.212 836.06 M58.657 816.104 Q61.8398 817.95 63.3994 820.782 Q64.9272 823.583 64.9272 827.53 Q64.9272 833.991 59.771 838.065 Q54.6147 842.107 46.212 842.107 Q37.8093 842.107 32.6531 838.065 Q27.4968 833.991 27.4968 827.53 Q27.4968 823.583 29.0564 820.782 Q30.5842 817.95 33.7671 816.104 L28.3562 816.104 L28.3562 810.247 L77.5631 810.247 L77.5631 816.104 L58.657 816.104 Z\" fill=\"#000000\" fill-rule=\"evenodd\" fill-opacity=\"1\" /><path clip-path=\"url(#clip290)\" d=\"M 0 0 M49.9359 798.789 L28.3562 798.789 L28.3562 792.932 L49.7131 792.932 Q54.7739 792.932 57.3202 790.959 Q59.8346 788.986 59.8346 785.039 Q59.8346 780.296 56.8109 777.559 Q53.7872 774.79 48.5673 774.79 L28.3562 774.79 L28.3562 768.934 L64.0042 768.934 L64.0042 774.79 L58.5296 774.79 Q61.7762 776.923 63.3676 779.755 Q64.9272 782.556 64.9272 786.28 Q64.9272 792.423 61.1078 795.606 Q57.2883 798.789 49.9359 798.789 M27.4968 784.052 L27.4968 784.052 Z\" fill=\"#000000\" fill-rule=\"evenodd\" fill-opacity=\"1\" /><path clip-path=\"url(#clip290)\" d=\"M 0 0 M44.7161 726.379 L47.5806 726.379 L47.5806 753.306 Q53.6281 752.924 56.8109 749.677 Q59.9619 746.399 59.9619 740.574 Q59.9619 737.201 59.1344 734.05 Q58.3069 730.867 56.6518 727.748 L62.1899 727.748 Q63.5267 730.899 64.227 734.209 Q64.9272 737.519 64.9272 740.925 Q64.9272 749.455 59.9619 754.452 Q54.9967 759.417 46.5303 759.417 Q37.7774 759.417 32.6531 754.706 Q27.4968 749.964 27.4968 741.943 Q27.4968 734.75 32.1438 730.58 Q36.7589 726.379 44.7161 726.379 M42.9973 732.235 Q38.1912 732.299 35.3266 734.941 Q32.4621 737.551 32.4621 741.879 Q32.4621 746.781 35.2312 749.741 Q38.0002 752.669 43.0292 753.115 L42.9973 732.235 Z\" fill=\"#000000\" fill-rule=\"evenodd\" fill-opacity=\"1\" /><path clip-path=\"url(#clip290)\" d=\"M 0 0 M42.4881 687.134 L64.0042 687.134 L64.0042 692.991 L42.679 692.991 Q37.6183 692.991 35.1038 694.964 Q32.5894 696.938 32.5894 700.884 Q32.5894 705.627 35.6131 708.364 Q38.6368 711.101 43.8567 711.101 L64.0042 711.101 L64.0042 716.989 L28.3562 716.989 L28.3562 711.101 L33.8944 711.101 Q30.6797 709.001 29.0883 706.168 Q27.4968 703.303 27.4968 699.579 Q27.4968 693.436 31.3163 690.285 Q35.1038 687.134 42.4881 687.134 Z\" fill=\"#000000\" fill-rule=\"evenodd\" fill-opacity=\"1\" /><path clip-path=\"url(#clip290)\" d=\"M 0 0 M29.7248 649.799 L35.1993 649.799 Q33.8307 652.282 33.1623 654.797 Q32.4621 657.279 32.4621 659.825 Q32.4621 665.523 36.0905 668.674 Q39.6872 671.825 46.212 671.825 Q52.7369 671.825 56.3653 668.674 Q59.9619 665.523 59.9619 659.825 Q59.9619 657.279 59.2935 654.797 Q58.5933 652.282 57.2247 649.799 L62.6355 649.799 Q63.7814 652.25 64.3543 654.892 Q64.9272 657.502 64.9272 660.462 Q64.9272 668.515 59.8664 673.257 Q54.8057 678 46.212 678 Q37.491 678 32.4939 673.225 Q27.4968 668.419 27.4968 660.08 Q27.4968 657.375 28.0697 654.797 Q28.6108 652.218 29.7248 649.799 Z\" fill=\"#000000\" fill-rule=\"evenodd\" fill-opacity=\"1\" /><path clip-path=\"url(#clip290)\" d=\"M 0 0 M67.3143 624.782 Q73.68 627.265 75.6216 629.62 Q77.5631 631.975 77.5631 635.922 L77.5631 640.601 L72.6615 640.601 L72.6615 637.164 Q72.6615 634.745 71.5157 633.408 Q70.3699 632.071 66.1048 630.448 L63.4312 629.397 L28.3562 643.816 L28.3562 637.609 L56.238 626.469 L28.3562 615.329 L28.3562 609.123 L67.3143 624.782 Z\" fill=\"#000000\" fill-rule=\"evenodd\" fill-opacity=\"1\" /><path clip-path=\"url(#clip290)\" d=\"M 0 0 M825.573 43.6931 L825.573 65.8515 L838.698 65.8515 Q845.301 65.8515 848.46 63.1374 Q851.661 60.3828 851.661 54.752 Q851.661 49.0808 848.46 46.4072 Q845.301 43.6931 838.698 43.6931 L825.573 43.6931 M825.573 18.8205 L825.573 37.0496 L837.685 37.0496 Q843.68 37.0496 846.597 34.8216 Q849.554 32.5531 849.554 27.935 Q849.554 23.3575 846.597 21.089 Q843.68 18.8205 837.685 18.8205 L825.573 18.8205 M817.39 12.096 L838.293 12.096 Q847.65 12.096 852.714 15.9849 Q857.778 19.8737 857.778 27.0438 Q857.778 32.5936 855.185 35.8748 Q852.592 39.156 847.569 39.9662 Q853.605 41.2625 856.927 45.3944 Q860.289 49.4858 860.289 55.6432 Q860.289 63.745 854.78 68.1605 Q849.271 72.576 839.103 72.576 L817.39 72.576 L817.39 12.096 Z\" fill=\"#000000\" fill-rule=\"evenodd\" fill-opacity=\"1\" /><path clip-path=\"url(#clip290)\" d=\"M 0 0 M912.789 48.0275 L912.789 51.6733 L878.518 51.6733 Q879.004 59.3701 883.136 63.421 Q887.309 67.4314 894.722 67.4314 Q899.016 67.4314 903.026 66.3781 Q907.077 65.3249 911.047 63.2184 L911.047 70.267 Q907.036 71.9684 902.824 72.8596 Q898.611 73.7508 894.276 73.7508 Q883.42 73.7508 877.06 67.4314 Q870.74 61.1119 870.74 50.3365 Q870.74 39.1965 876.736 32.6746 Q882.772 26.1121 892.98 26.1121 Q902.135 26.1121 907.442 32.0264 Q912.789 37.9003 912.789 48.0275 M905.335 45.84 Q905.254 39.7232 901.892 36.0774 Q898.57 32.4315 893.061 32.4315 Q886.822 32.4315 883.055 35.9558 Q879.328 39.4801 878.761 45.8805 L905.335 45.84 Z\" fill=\"#000000\" fill-rule=\"evenodd\" fill-opacity=\"1\" /><path clip-path=\"url(#clip290)\" d=\"M 0 0 M951.313 34.1734 Q950.057 33.4443 948.558 33.1202 Q947.1 32.7556 945.318 32.7556 Q938.998 32.7556 935.595 36.8875 Q932.233 40.9789 932.233 48.6757 L932.233 72.576 L924.739 72.576 L924.739 27.2059 L932.233 27.2059 L932.233 34.2544 Q934.583 30.1225 938.35 28.1376 Q942.117 26.1121 947.505 26.1121 Q948.275 26.1121 949.206 26.2337 Q950.138 26.3147 951.272 26.5172 L951.313 34.1734 Z\" fill=\"#000000\" fill-rule=\"evenodd\" fill-opacity=\"1\" /><path clip-path=\"url(#clip290)\" d=\"M 0 0 M959.131 9.54393 L966.585 9.54393 L966.585 72.576 L959.131 72.576 L959.131 9.54393 Z\" fill=\"#000000\" fill-rule=\"evenodd\" fill-opacity=\"1\" /><path clip-path=\"url(#clip290)\" d=\"M 0 0 M982.181 27.2059 L989.634 27.2059 L989.634 72.576 L982.181 72.576 L982.181 27.2059 M982.181 9.54393 L989.634 9.54393 L989.634 18.9825 L982.181 18.9825 L982.181 9.54393 Z\" fill=\"#000000\" fill-rule=\"evenodd\" fill-opacity=\"1\" /><path clip-path=\"url(#clip290)\" d=\"M 0 0 M1042.94 45.1919 L1042.94 72.576 L1035.49 72.576 L1035.49 45.4349 Q1035.49 38.994 1032.98 35.7938 Q1030.47 32.5936 1025.44 32.5936 Q1019.41 32.5936 1015.92 36.4419 Q1012.44 40.2903 1012.44 46.9338 L1012.44 72.576 L1004.95 72.576 L1004.95 27.2059 L1012.44 27.2059 L1012.44 34.2544 Q1015.11 30.163 1018.72 28.1376 Q1022.37 26.1121 1027.11 26.1121 Q1034.92 26.1121 1038.93 30.9732 Q1042.94 35.7938 1042.94 45.1919 Z\" fill=\"#000000\" fill-rule=\"evenodd\" fill-opacity=\"1\" /><path clip-path=\"url(#clip290)\" d=\"M 0 0 M1092.28 86.3491 L1092.28 92.1419 L1049.18 92.1419 L1049.18 86.3491 L1092.28 86.3491 Z\" fill=\"#000000\" fill-rule=\"evenodd\" fill-opacity=\"1\" /><path clip-path=\"url(#clip290)\" d=\"M 0 0 M1106.5 65.7705 L1106.5 89.8329 L1099.01 89.8329 L1099.01 27.2059 L1106.5 27.2059 L1106.5 34.0924 Q1108.85 30.0415 1112.42 28.0971 Q1116.02 26.1121 1121.01 26.1121 Q1129.27 26.1121 1134.41 32.6746 Q1139.6 39.2371 1139.6 49.9314 Q1139.6 60.6258 1134.41 67.1883 Q1129.27 73.7508 1121.01 73.7508 Q1116.02 73.7508 1112.42 71.8063 Q1108.85 69.8214 1106.5 65.7705 M1131.86 49.9314 Q1131.86 41.7081 1128.46 37.0496 Q1125.1 32.3505 1119.18 32.3505 Q1113.27 32.3505 1109.87 37.0496 Q1106.5 41.7081 1106.5 49.9314 Q1106.5 58.1548 1109.87 62.8538 Q1113.27 67.5124 1119.18 67.5124 Q1125.1 67.5124 1128.46 62.8538 Q1131.86 58.1548 1131.86 49.9314 Z\" fill=\"#000000\" fill-rule=\"evenodd\" fill-opacity=\"1\" /><path clip-path=\"url(#clip290)\" d=\"M 0 0 M1178.24 34.1734 Q1176.99 33.4443 1175.49 33.1202 Q1174.03 32.7556 1172.25 32.7556 Q1165.93 32.7556 1162.53 36.8875 Q1159.16 40.9789 1159.16 48.6757 L1159.16 72.576 L1151.67 72.576 L1151.67 27.2059 L1159.16 27.2059 L1159.16 34.2544 Q1161.51 30.1225 1165.28 28.1376 Q1169.05 26.1121 1174.44 26.1121 Q1175.21 26.1121 1176.14 26.2337 Q1177.07 26.3147 1178.2 26.5172 L1178.24 34.1734 Z\" fill=\"#000000\" fill-rule=\"evenodd\" fill-opacity=\"1\" /><path clip-path=\"url(#clip290)\" d=\"M 0 0 M1223.05 48.0275 L1223.05 51.6733 L1188.78 51.6733 Q1189.26 59.3701 1193.39 63.421 Q1197.57 67.4314 1204.98 67.4314 Q1209.27 67.4314 1213.28 66.3781 Q1217.34 65.3249 1221.31 63.2184 L1221.31 70.267 Q1217.3 71.9684 1213.08 72.8596 Q1208.87 73.7508 1204.53 73.7508 Q1193.68 73.7508 1187.32 67.4314 Q1181 61.1119 1181 50.3365 Q1181 39.1965 1186.99 32.6746 Q1193.03 26.1121 1203.24 26.1121 Q1212.39 26.1121 1217.7 32.0264 Q1223.05 37.9003 1223.05 48.0275 M1215.59 45.84 Q1215.51 39.7232 1212.15 36.0774 Q1208.83 32.4315 1203.32 32.4315 Q1197.08 32.4315 1193.31 35.9558 Q1189.59 39.4801 1189.02 45.8805 L1215.59 45.84 Z\" fill=\"#000000\" fill-rule=\"evenodd\" fill-opacity=\"1\" /><path clip-path=\"url(#clip290)\" d=\"M 0 0 M1265.14 34.0924 L1265.14 9.54393 L1272.59 9.54393 L1272.59 72.576 L1265.14 72.576 L1265.14 65.7705 Q1262.79 69.8214 1259.18 71.8063 Q1255.62 73.7508 1250.59 73.7508 Q1242.37 73.7508 1237.19 67.1883 Q1232.04 60.6258 1232.04 49.9314 Q1232.04 39.2371 1237.19 32.6746 Q1242.37 26.1121 1250.59 26.1121 Q1255.62 26.1121 1259.18 28.0971 Q1262.79 30.0415 1265.14 34.0924 M1239.74 49.9314 Q1239.74 58.1548 1243.1 62.8538 Q1246.5 67.5124 1252.42 67.5124 Q1258.33 67.5124 1261.73 62.8538 Q1265.14 58.1548 1265.14 49.9314 Q1265.14 41.7081 1261.73 37.0496 Q1258.33 32.3505 1252.42 32.3505 Q1246.5 32.3505 1243.1 37.0496 Q1239.74 41.7081 1239.74 49.9314 Z\" fill=\"#000000\" fill-rule=\"evenodd\" fill-opacity=\"1\" /><path clip-path=\"url(#clip290)\" d=\"M 0 0 M1287.94 27.2059 L1295.4 27.2059 L1295.4 72.576 L1287.94 72.576 L1287.94 27.2059 M1287.94 9.54393 L1295.4 9.54393 L1295.4 18.9825 L1287.94 18.9825 L1287.94 9.54393 Z\" fill=\"#000000\" fill-rule=\"evenodd\" fill-opacity=\"1\" /><path clip-path=\"url(#clip290)\" d=\"M 0 0 M1343.64 28.9478 L1343.64 35.9153 Q1340.48 34.1734 1337.28 33.3227 Q1334.12 32.4315 1330.88 32.4315 Q1323.63 32.4315 1319.62 37.0496 Q1315.61 41.6271 1315.61 49.9314 Q1315.61 58.2358 1319.62 62.8538 Q1323.63 67.4314 1330.88 67.4314 Q1334.12 67.4314 1337.28 66.5807 Q1340.48 65.6895 1343.64 63.9476 L1343.64 70.8341 Q1340.52 72.2924 1337.16 73.0216 Q1333.84 73.7508 1330.07 73.7508 Q1319.82 73.7508 1313.79 67.3098 Q1307.75 60.8689 1307.75 49.9314 Q1307.75 38.832 1313.83 32.472 Q1319.95 26.1121 1330.56 26.1121 Q1334 26.1121 1337.28 26.8413 Q1340.56 27.5299 1343.64 28.9478 Z\" fill=\"#000000\" fill-rule=\"evenodd\" fill-opacity=\"1\" /><path clip-path=\"url(#clip290)\" d=\"M 0 0 M1363.98 14.324 L1363.98 27.2059 L1379.33 27.2059 L1379.33 32.9987 L1363.98 32.9987 L1363.98 57.6282 Q1363.98 63.1779 1365.48 64.7578 Q1367.02 66.3376 1371.68 66.3376 L1379.33 66.3376 L1379.33 72.576 L1371.68 72.576 Q1363.05 72.576 1359.77 69.3758 Q1356.48 66.1351 1356.48 57.6282 L1356.48 32.9987 L1351.02 32.9987 L1351.02 27.2059 L1356.48 27.2059 L1356.48 14.324 L1363.98 14.324 Z\" fill=\"#000000\" fill-rule=\"evenodd\" fill-opacity=\"1\" /><path clip-path=\"url(#clip290)\" d=\"M 0 0 M1445.85 20.5624 L1445.85 43.1259 L1468.41 43.1259 L1468.41 50.0125 L1445.85 50.0125 L1445.85 72.576 L1439.04 72.576 L1439.04 50.0125 L1416.48 50.0125 L1416.48 43.1259 L1439.04 43.1259 L1439.04 20.5624 L1445.85 20.5624 Z\" fill=\"#000000\" fill-rule=\"evenodd\" fill-opacity=\"1\" /><path clip-path=\"url(#clip290)\" d=\"M 0 0 M1537.24 39.9662 Q1543.11 41.222 1546.39 45.1919 Q1549.71 49.1618 1549.71 54.9951 Q1549.71 63.9476 1543.56 68.8492 Q1537.4 73.7508 1526.06 73.7508 Q1522.25 73.7508 1518.2 72.9811 Q1514.19 72.2519 1509.89 70.7531 L1509.89 62.8538 Q1513.29 64.8388 1517.35 65.8515 Q1521.4 66.8642 1525.81 66.8642 Q1533.51 66.8642 1537.52 63.826 Q1541.57 60.7879 1541.57 54.9951 Q1541.57 49.6479 1537.8 46.6502 Q1534.08 43.612 1527.39 43.612 L1520.34 43.612 L1520.34 36.8875 L1527.72 36.8875 Q1533.75 36.8875 1536.95 34.4975 Q1540.15 32.067 1540.15 27.5299 Q1540.15 22.8714 1536.83 20.4004 Q1533.55 17.8888 1527.39 17.8888 Q1524.03 17.8888 1520.18 18.618 Q1516.33 19.3471 1511.71 20.8865 L1511.71 13.5948 Q1516.37 12.2985 1520.42 11.6504 Q1524.52 11.0023 1528.12 11.0023 Q1537.44 11.0023 1542.87 15.2557 Q1548.29 19.4686 1548.29 26.6793 Q1548.29 31.7024 1545.42 35.1862 Q1542.54 38.6294 1537.24 39.9662 Z\" fill=\"#000000\" fill-rule=\"evenodd\" fill-opacity=\"1\" /><path clip-path=\"url(#clip290)\" d=\"M 0 0 M1582.73 17.4837 Q1576.41 17.4837 1573.21 23.7221 Q1570.05 29.92 1570.05 42.3968 Q1570.05 54.833 1573.21 61.0714 Q1576.41 67.2693 1582.73 67.2693 Q1589.09 67.2693 1592.25 61.0714 Q1595.45 54.833 1595.45 42.3968 Q1595.45 29.92 1592.25 23.7221 Q1589.09 17.4837 1582.73 17.4837 M1582.73 11.0023 Q1592.9 11.0023 1598.24 19.0636 Q1603.63 27.0843 1603.63 42.3968 Q1603.63 57.6687 1598.24 65.73 Q1592.9 73.7508 1582.73 73.7508 Q1572.56 73.7508 1567.17 65.73 Q1561.82 57.6687 1561.82 42.3968 Q1561.82 27.0843 1567.17 19.0636 Q1572.56 11.0023 1582.73 11.0023 Z\" fill=\"#000000\" fill-rule=\"evenodd\" fill-opacity=\"1\" /><path clip-path=\"url(#clip290)\" d=\"M 0 0 M1678.65 35.9153 Q1681.45 30.8922 1685.34 28.5022 Q1689.23 26.1121 1694.49 26.1121 Q1701.58 26.1121 1705.43 31.0947 Q1709.28 36.0368 1709.28 45.1919 L1709.28 72.576 L1701.78 72.576 L1701.78 45.4349 Q1701.78 38.913 1699.47 35.7533 Q1697.17 32.5936 1692.43 32.5936 Q1686.63 32.5936 1683.27 36.4419 Q1679.91 40.2903 1679.91 46.9338 L1679.91 72.576 L1672.41 72.576 L1672.41 45.4349 Q1672.41 38.8725 1670.11 35.7533 Q1667.8 32.5936 1662.98 32.5936 Q1657.26 32.5936 1653.9 36.4824 Q1650.54 40.3308 1650.54 46.9338 L1650.54 72.576 L1643.05 72.576 L1643.05 27.2059 L1650.54 27.2059 L1650.54 34.2544 Q1653.09 30.082 1656.66 28.0971 Q1660.22 26.1121 1665.12 26.1121 Q1670.06 26.1121 1673.51 28.6237 Q1676.99 31.1352 1678.65 35.9153 Z\" fill=\"#000000\" fill-rule=\"evenodd\" fill-opacity=\"1\" /><path clip-path=\"url(#clip290)\" d=\"M 0 0 M1724.14 27.2059 L1731.6 27.2059 L1731.6 72.576 L1724.14 72.576 L1724.14 27.2059 M1724.14 9.54393 L1731.6 9.54393 L1731.6 18.9825 L1724.14 18.9825 L1724.14 9.54393 Z\" fill=\"#000000\" fill-rule=\"evenodd\" fill-opacity=\"1\" /><path clip-path=\"url(#clip290)\" d=\"M 0 0 M1784.91 45.1919 L1784.91 72.576 L1777.45 72.576 L1777.45 45.4349 Q1777.45 38.994 1774.94 35.7938 Q1772.43 32.5936 1767.41 32.5936 Q1761.37 32.5936 1757.89 36.4419 Q1754.4 40.2903 1754.4 46.9338 L1754.4 72.576 L1746.91 72.576 L1746.91 27.2059 L1754.4 27.2059 L1754.4 34.2544 Q1757.08 30.163 1760.68 28.1376 Q1764.33 26.1121 1769.07 26.1121 Q1776.89 26.1121 1780.9 30.9732 Q1784.91 35.7938 1784.91 45.1919 Z\" fill=\"#000000\" fill-rule=\"evenodd\" fill-opacity=\"1\" /><path clip-path=\"url(#clip292)\" d=\"\n",
       "M354.703 1311.85 L354.703 1423.18 L459.863 1423.18 L459.863 1311.85 L354.703 1311.85 L354.703 1311.85  Z\n",
       "  \" fill=\"#009af9\" fill-rule=\"evenodd\" fill-opacity=\"1\"/>\n",
       "<polyline clip-path=\"url(#clip292)\" style=\"stroke:#000000; stroke-width:1.2; stroke-opacity:1; fill:none\" points=\"\n",
       "  354.703,1311.85 354.703,1423.18 459.863,1423.18 459.863,1311.85 354.703,1311.85 \n",
       "  \"/>\n",
       "<path clip-path=\"url(#clip292)\" d=\"\n",
       "M459.863 772.928 L459.863 1423.18 L565.024 1423.18 L565.024 772.928 L459.863 772.928 L459.863 772.928  Z\n",
       "  \" fill=\"#009af9\" fill-rule=\"evenodd\" fill-opacity=\"1\"/>\n",
       "<polyline clip-path=\"url(#clip292)\" style=\"stroke:#000000; stroke-width:1.2; stroke-opacity:1; fill:none\" points=\"\n",
       "  459.863,772.928 459.863,1423.18 565.024,1423.18 565.024,772.928 459.863,772.928 \n",
       "  \"/>\n",
       "<path clip-path=\"url(#clip292)\" d=\"\n",
       "M565.024 377.862 L565.024 1423.18 L670.185 1423.18 L670.185 377.862 L565.024 377.862 L565.024 377.862  Z\n",
       "  \" fill=\"#009af9\" fill-rule=\"evenodd\" fill-opacity=\"1\"/>\n",
       "<polyline clip-path=\"url(#clip292)\" style=\"stroke:#000000; stroke-width:1.2; stroke-opacity:1; fill:none\" points=\"\n",
       "  565.024,377.862 565.024,1423.18 670.185,1423.18 670.185,377.862 565.024,377.862 \n",
       "  \"/>\n",
       "<path clip-path=\"url(#clip292)\" d=\"\n",
       "M670.185 933.051 L670.185 1423.18 L775.346 1423.18 L775.346 933.051 L670.185 933.051 L670.185 933.051  Z\n",
       "  \" fill=\"#009af9\" fill-rule=\"evenodd\" fill-opacity=\"1\"/>\n",
       "<polyline clip-path=\"url(#clip292)\" style=\"stroke:#000000; stroke-width:1.2; stroke-opacity:1; fill:none\" points=\"\n",
       "  670.185,933.051 670.185,1423.18 775.346,1423.18 775.346,933.051 670.185,933.051 \n",
       "  \"/>\n",
       "<path clip-path=\"url(#clip292)\" d=\"\n",
       "M775.346 886.786 L775.346 1423.18 L880.506 1423.18 L880.506 886.786 L775.346 886.786 L775.346 886.786  Z\n",
       "  \" fill=\"#009af9\" fill-rule=\"evenodd\" fill-opacity=\"1\"/>\n",
       "<polyline clip-path=\"url(#clip292)\" style=\"stroke:#000000; stroke-width:1.2; stroke-opacity:1; fill:none\" points=\"\n",
       "  775.346,886.786 775.346,1423.18 880.506,1423.18 880.506,886.786 775.346,886.786 \n",
       "  \"/>\n",
       "<path clip-path=\"url(#clip292)\" d=\"\n",
       "M880.506 1027.03 L880.506 1423.18 L985.667 1423.18 L985.667 1027.03 L880.506 1027.03 L880.506 1027.03  Z\n",
       "  \" fill=\"#009af9\" fill-rule=\"evenodd\" fill-opacity=\"1\"/>\n",
       "<polyline clip-path=\"url(#clip292)\" style=\"stroke:#000000; stroke-width:1.2; stroke-opacity:1; fill:none\" points=\"\n",
       "  880.506,1027.03 880.506,1423.18 985.667,1423.18 985.667,1027.03 880.506,1027.03 \n",
       "  \"/>\n",
       "<path clip-path=\"url(#clip292)\" d=\"\n",
       "M985.667 1120.28 L985.667 1423.18 L1090.83 1423.18 L1090.83 1120.28 L985.667 1120.28 L985.667 1120.28  Z\n",
       "  \" fill=\"#009af9\" fill-rule=\"evenodd\" fill-opacity=\"1\"/>\n",
       "<polyline clip-path=\"url(#clip292)\" style=\"stroke:#000000; stroke-width:1.2; stroke-opacity:1; fill:none\" points=\"\n",
       "  985.667,1120.28 985.667,1423.18 1090.83,1423.18 1090.83,1120.28 985.667,1120.28 \n",
       "  \"/>\n",
       "<path clip-path=\"url(#clip292)\" d=\"\n",
       "M1090.83 1167.27 L1090.83 1423.18 L1195.99 1423.18 L1195.99 1167.27 L1090.83 1167.27 L1090.83 1167.27  Z\n",
       "  \" fill=\"#009af9\" fill-rule=\"evenodd\" fill-opacity=\"1\"/>\n",
       "<polyline clip-path=\"url(#clip292)\" style=\"stroke:#000000; stroke-width:1.2; stroke-opacity:1; fill:none\" points=\"\n",
       "  1090.83,1167.27 1090.83,1423.18 1195.99,1423.18 1195.99,1167.27 1090.83,1167.27 \n",
       "  \"/>\n",
       "<path clip-path=\"url(#clip292)\" d=\"\n",
       "M1195.99 1190.77 L1195.99 1423.18 L1301.15 1423.18 L1301.15 1190.77 L1195.99 1190.77 L1195.99 1190.77  Z\n",
       "  \" fill=\"#009af9\" fill-rule=\"evenodd\" fill-opacity=\"1\"/>\n",
       "<polyline clip-path=\"url(#clip292)\" style=\"stroke:#000000; stroke-width:1.2; stroke-opacity:1; fill:none\" points=\"\n",
       "  1195.99,1190.77 1195.99,1423.18 1301.15,1423.18 1301.15,1190.77 1195.99,1190.77 \n",
       "  \"/>\n",
       "<path clip-path=\"url(#clip292)\" d=\"\n",
       "M1301.15 1215.71 L1301.15 1423.18 L1406.31 1423.18 L1406.31 1215.71 L1301.15 1215.71 L1301.15 1215.71  Z\n",
       "  \" fill=\"#009af9\" fill-rule=\"evenodd\" fill-opacity=\"1\"/>\n",
       "<polyline clip-path=\"url(#clip292)\" style=\"stroke:#000000; stroke-width:1.2; stroke-opacity:1; fill:none\" points=\"\n",
       "  1301.15,1215.71 1301.15,1423.18 1406.31,1423.18 1406.31,1215.71 1301.15,1215.71 \n",
       "  \"/>\n",
       "<path clip-path=\"url(#clip292)\" d=\"\n",
       "M1406.31 1216.07 L1406.31 1423.18 L1511.47 1423.18 L1511.47 1216.07 L1406.31 1216.07 L1406.31 1216.07  Z\n",
       "  \" fill=\"#009af9\" fill-rule=\"evenodd\" fill-opacity=\"1\"/>\n",
       "<polyline clip-path=\"url(#clip292)\" style=\"stroke:#000000; stroke-width:1.2; stroke-opacity:1; fill:none\" points=\"\n",
       "  1406.31,1216.07 1406.31,1423.18 1511.47,1423.18 1511.47,1216.07 1406.31,1216.07 \n",
       "  \"/>\n",
       "<path clip-path=\"url(#clip292)\" d=\"\n",
       "M1511.47 1169.44 L1511.47 1423.18 L1616.63 1423.18 L1616.63 1169.44 L1511.47 1169.44 L1511.47 1169.44  Z\n",
       "  \" fill=\"#009af9\" fill-rule=\"evenodd\" fill-opacity=\"1\"/>\n",
       "<polyline clip-path=\"url(#clip292)\" style=\"stroke:#000000; stroke-width:1.2; stroke-opacity:1; fill:none\" points=\"\n",
       "  1511.47,1169.44 1511.47,1423.18 1616.63,1423.18 1616.63,1169.44 1511.47,1169.44 \n",
       "  \"/>\n",
       "<path clip-path=\"url(#clip292)\" d=\"\n",
       "M1616.63 1085.22 L1616.63 1423.18 L1721.79 1423.18 L1721.79 1085.22 L1616.63 1085.22 L1616.63 1085.22  Z\n",
       "  \" fill=\"#009af9\" fill-rule=\"evenodd\" fill-opacity=\"1\"/>\n",
       "<polyline clip-path=\"url(#clip292)\" style=\"stroke:#000000; stroke-width:1.2; stroke-opacity:1; fill:none\" points=\"\n",
       "  1616.63,1085.22 1616.63,1423.18 1721.79,1423.18 1721.79,1085.22 1616.63,1085.22 \n",
       "  \"/>\n",
       "<path clip-path=\"url(#clip292)\" d=\"\n",
       "M1721.79 1081.61 L1721.79 1423.18 L1826.95 1423.18 L1826.95 1081.61 L1721.79 1081.61 L1721.79 1081.61  Z\n",
       "  \" fill=\"#009af9\" fill-rule=\"evenodd\" fill-opacity=\"1\"/>\n",
       "<polyline clip-path=\"url(#clip292)\" style=\"stroke:#000000; stroke-width:1.2; stroke-opacity:1; fill:none\" points=\"\n",
       "  1721.79,1081.61 1721.79,1423.18 1826.95,1423.18 1826.95,1081.61 1721.79,1081.61 \n",
       "  \"/>\n",
       "<path clip-path=\"url(#clip292)\" d=\"\n",
       "M1826.95 1081.61 L1826.95 1423.18 L1932.11 1423.18 L1932.11 1081.61 L1826.95 1081.61 L1826.95 1081.61  Z\n",
       "  \" fill=\"#009af9\" fill-rule=\"evenodd\" fill-opacity=\"1\"/>\n",
       "<polyline clip-path=\"url(#clip292)\" style=\"stroke:#000000; stroke-width:1.2; stroke-opacity:1; fill:none\" points=\"\n",
       "  1826.95,1081.61 1826.95,1423.18 1932.11,1423.18 1932.11,1081.61 1826.95,1081.61 \n",
       "  \"/>\n",
       "<path clip-path=\"url(#clip292)\" d=\"\n",
       "M1932.11 1074.02 L1932.11 1423.18 L2037.27 1423.18 L2037.27 1074.02 L1932.11 1074.02 L1932.11 1074.02  Z\n",
       "  \" fill=\"#009af9\" fill-rule=\"evenodd\" fill-opacity=\"1\"/>\n",
       "<polyline clip-path=\"url(#clip292)\" style=\"stroke:#000000; stroke-width:1.2; stroke-opacity:1; fill:none\" points=\"\n",
       "  1932.11,1074.02 1932.11,1423.18 2037.27,1423.18 2037.27,1074.02 1932.11,1074.02 \n",
       "  \"/>\n",
       "<path clip-path=\"url(#clip292)\" d=\"\n",
       "M2037.27 1181.73 L2037.27 1423.18 L2142.43 1423.18 L2142.43 1181.73 L2037.27 1181.73 L2037.27 1181.73  Z\n",
       "  \" fill=\"#009af9\" fill-rule=\"evenodd\" fill-opacity=\"1\"/>\n",
       "<polyline clip-path=\"url(#clip292)\" style=\"stroke:#000000; stroke-width:1.2; stroke-opacity:1; fill:none\" points=\"\n",
       "  2037.27,1181.73 2037.27,1423.18 2142.43,1423.18 2142.43,1181.73 2037.27,1181.73 \n",
       "  \"/>\n",
       "<path clip-path=\"url(#clip292)\" d=\"\n",
       "M2142.43 1270.29 L2142.43 1423.18 L2247.6 1423.18 L2247.6 1270.29 L2142.43 1270.29 L2142.43 1270.29  Z\n",
       "  \" fill=\"#009af9\" fill-rule=\"evenodd\" fill-opacity=\"1\"/>\n",
       "<polyline clip-path=\"url(#clip292)\" style=\"stroke:#000000; stroke-width:1.2; stroke-opacity:1; fill:none\" points=\"\n",
       "  2142.43,1270.29 2142.43,1423.18 2247.6,1423.18 2247.6,1270.29 2142.43,1270.29 \n",
       "  \"/>\n",
       "<path clip-path=\"url(#clip292)\" d=\"\n",
       "M2247.6 1378.36 L2247.6 1423.18 L2352.76 1423.18 L2352.76 1378.36 L2247.6 1378.36 L2247.6 1378.36  Z\n",
       "  \" fill=\"#009af9\" fill-rule=\"evenodd\" fill-opacity=\"1\"/>\n",
       "<polyline clip-path=\"url(#clip292)\" style=\"stroke:#000000; stroke-width:1.2; stroke-opacity:1; fill:none\" points=\"\n",
       "  2247.6,1378.36 2247.6,1423.18 2352.76,1423.18 2352.76,1378.36 2247.6,1378.36 \n",
       "  \"/>\n",
       "<path clip-path=\"url(#clip290)\" d=\"\n",
       "M1996.53 287.756 L2282.65 287.756 L2282.65 166.796 L1996.53 166.796  Z\n",
       "  \" fill=\"#ffffff\" fill-rule=\"evenodd\" fill-opacity=\"1\"/>\n",
       "<polyline clip-path=\"url(#clip290)\" style=\"stroke:#000000; stroke-width:4; stroke-opacity:1; fill:none\" points=\"\n",
       "  1996.53,287.756 2282.65,287.756 2282.65,166.796 1996.53,166.796 1996.53,287.756 \n",
       "  \"/>\n",
       "<path clip-path=\"url(#clip290)\" d=\"\n",
       "M2019.9 251.468 L2160.11 251.468 L2160.11 203.084 L2019.9 203.084 L2019.9 251.468  Z\n",
       "  \" fill=\"#009af9\" fill-rule=\"evenodd\" fill-opacity=\"1\"/>\n",
       "<polyline clip-path=\"url(#clip290)\" style=\"stroke:#000000; stroke-width:1.2; stroke-opacity:1; fill:none\" points=\"\n",
       "  2019.9,251.468 2160.11,251.468 2160.11,203.084 2019.9,203.084 2019.9,251.468 \n",
       "  \"/>\n",
       "<path clip-path=\"url(#clip290)\" d=\"M 0 0 M2197.32 246.963 Q2195.52 251.593 2193.8 253.005 Q2192.09 254.417 2189.22 254.417 L2185.82 254.417 L2185.82 250.852 L2188.32 250.852 Q2190.08 250.852 2191.05 250.019 Q2192.02 249.185 2193.2 246.083 L2193.97 244.139 L2183.48 218.63 L2187.99 218.63 L2196.1 238.908 L2204.2 218.63 L2208.71 218.63 L2197.32 246.963 Z\" fill=\"#000000\" fill-rule=\"evenodd\" fill-opacity=\"1\" /><path clip-path=\"url(#clip290)\" d=\"M 0 0 M2216 240.621 L2223.64 240.621 L2223.64 214.255 L2215.33 215.922 L2215.33 211.662 L2223.6 209.996 L2228.27 209.996 L2228.27 240.621 L2235.91 240.621 L2235.91 244.556 L2216 244.556 L2216 240.621 Z\" fill=\"#000000\" fill-rule=\"evenodd\" fill-opacity=\"1\" /></svg>\n"
      ]
     },
     "execution_count": 98,
     "metadata": {},
     "output_type": "execute_result"
    }
   ],
   "source": [
    "histogram(fcst, normalize=:probability, bins=n, lw=0.3, \n",
    "    xlim=(0,1), ylim=(0,0.2), xlabel=\"CMF\", ylabel=\"Frequency\", \n",
    "    title=\"Berlin_predict + 30 min\")"
   ]
  },
  {
   "cell_type": "markdown",
   "id": "6502fb2d-c500-4133-b31e-f9398a51b087",
   "metadata": {},
   "source": [
    "### apply piecewise to series"
   ]
  },
  {
   "cell_type": "code",
   "execution_count": 88,
   "id": "0d21c69f-5aa2-4042-bf5d-ee7bb7797ebc",
   "metadata": {
    "execution": {
     "iopub.execute_input": "2021-05-25T11:32:03.634000+02:00",
     "iopub.status.busy": "2021-05-25T11:32:03.633000+02:00",
     "iopub.status.idle": "2021-05-25T11:32:04.002000+02:00",
     "shell.execute_reply": "2021-05-25T11:32:04.001000+02:00"
    }
   },
   "outputs": [
    {
     "data": {
      "text/plain": [
       "1"
      ]
     },
     "execution_count": 88,
     "metadata": {},
     "output_type": "execute_result"
    }
   ],
   "source": [
    "count = 1"
   ]
  },
  {
   "cell_type": "code",
   "execution_count": 99,
   "id": "ded9a64a-7d87-46e9-ba7a-efbbbc189403",
   "metadata": {
    "execution": {
     "iopub.execute_input": "2021-05-25T11:36:33.701000+02:00",
     "iopub.status.busy": "2021-05-25T11:36:33.700000+02:00",
     "iopub.status.idle": "2021-05-25T11:36:33.702000+02:00",
     "shell.execute_reply": "2021-05-25T11:36:33.701000+02:00"
    },
    "tags": []
   },
   "outputs": [
    {
     "data": {
      "text/plain": [
       "100"
      ]
     },
     "execution_count": 99,
     "metadata": {},
     "output_type": "execute_result"
    }
   ],
   "source": [
    "cmf_test = cmf_bb_test\n",
    "len = 100 #length(cmf_test)"
   ]
  },
  {
   "cell_type": "code",
   "execution_count": 107,
   "id": "b33e23e0-4137-4674-936a-f11cb26686be",
   "metadata": {
    "collapsed": true,
    "execution": {
     "iopub.execute_input": "2021-05-25T11:38:40.573000+02:00",
     "iopub.status.busy": "2021-05-25T11:38:40.573000+02:00",
     "iopub.status.idle": "2021-05-25T11:38:40.575000+02:00",
     "shell.execute_reply": "2021-05-25T11:38:40.575000+02:00"
    },
    "jupyter": {
     "outputs_hidden": true
    },
    "tags": []
   },
   "outputs": [
    {
     "data": {
      "text/plain": [
       "17979-element Vector{Float64}:\n",
       " 0.44469196601764\n",
       " 0.4351617737683957\n",
       " 0.269436723419728\n",
       " 0.17068227409802456\n",
       " 0.1429488917122064\n",
       " 0.15129203466407165\n",
       " 0.2401452489621812\n",
       " 0.22737657362189478\n",
       " 0.18280183122008878\n",
       " 0.18156954657218516\n",
       " 0.18007800118079556\n",
       " 0.17809116453805593\n",
       " 0.18458954524943652\n",
       " ⋮\n",
       " 0.403451396683371\n",
       " 0.37111900127524317\n",
       " 0.3512261624529648\n",
       " 0.3654462465213288\n",
       " 0.43314935585746206\n",
       " 0.5053020493139164\n",
       " 0.5916213600795741\n",
       " 0.653059553669952\n",
       " 0.7160528373997062\n",
       " 0.7139817138829445\n",
       " 0.8317632961413673\n",
       " 0.9169679834730434"
      ]
     },
     "execution_count": 107,
     "metadata": {},
     "output_type": "execute_result"
    }
   ],
   "source": [
    "cmf_bb_test"
   ]
  },
  {
   "cell_type": "code",
   "execution_count": 109,
   "id": "daaf13a4-54b5-4fe6-a89f-76de292441fb",
   "metadata": {
    "execution": {
     "iopub.execute_input": "2021-05-25T11:39:19.830000+02:00",
     "iopub.status.busy": "2021-05-25T11:39:19.830000+02:00",
     "iopub.status.idle": "2021-05-25T11:39:19.832000+02:00",
     "shell.execute_reply": "2021-05-25T11:39:19.831000+02:00"
    },
    "tags": []
   },
   "outputs": [
    {
     "data": {
      "text/plain": [
       "0.44469196601764"
      ]
     },
     "execution_count": 109,
     "metadata": {},
     "output_type": "execute_result"
    }
   ],
   "source": [
    "obsPoint = cmf_test[1]"
   ]
  },
  {
   "cell_type": "code",
   "execution_count": 110,
   "id": "c96bf98c-c8ed-4a17-8549-77b35838cffa",
   "metadata": {
    "execution": {
     "iopub.execute_input": "2021-05-25T11:39:35.807000+02:00",
     "iopub.status.busy": "2021-05-25T11:39:35.807000+02:00",
     "iopub.status.idle": "2021-05-25T11:39:36.262000+02:00",
     "shell.execute_reply": "2021-05-25T11:39:36.262000+02:00"
    }
   },
   "outputs": [
    {
     "data": {
      "text/plain": [
       "([0.0900346482311115, 0.12036682662340778, 0.15069900501570407, 0.18103118340800034, 0.21136336180029663, 0.24169554019259293, 0.2720277185848892, 0.30235989697718546, 0.33269207536948175, 0.36302425376177805  …  0.6966782160770372, 0.7270103944693335, 0.7573425728616298, 0.787674751253926, 0.8180069296462223, 0.8483391080385186, 0.8786712864308149, 0.9090034648231111, 0.9393356432154074, 0.9696678216077037], [0.0, 0.0, 0.0, 0.0021984924623115578, 0.004239949748743719, 0.012405778894472362, 0.025753768844221106, 0.029522613065326633, 0.035804020100502515, 0.0625  …  0.023712311557788943, 0.026853015075376883, 0.019158291457286432, 0.010207286432160805, 0.002512562814070352, 0.0051821608040201, 0.000785175879396985, 0.0009422110552763819, 0.00157035175879397, 0.004711055276381909])"
      ]
     },
     "execution_count": 110,
     "metadata": {},
     "output_type": "execute_result"
    }
   ],
   "source": [
    "binStarts, transProbs = MCForecast(T, binWidth, obsPoint)"
   ]
  },
  {
   "cell_type": "code",
   "execution_count": 111,
   "id": "7b057174-241e-4881-8d9e-105666b161aa",
   "metadata": {
    "collapsed": true,
    "execution": {
     "iopub.execute_input": "2021-05-25T11:39:40.013000+02:00",
     "iopub.status.busy": "2021-05-25T11:39:40.013000+02:00",
     "iopub.status.idle": "2021-05-25T11:39:40.015000+02:00",
     "shell.execute_reply": "2021-05-25T11:39:40.015000+02:00"
    },
    "jupyter": {
     "outputs_hidden": true
    },
    "tags": []
   },
   "outputs": [
    {
     "data": {
      "text/plain": [
       "30-element Vector{Float64}:\n",
       " 0.0900346482311115\n",
       " 0.12036682662340778\n",
       " 0.15069900501570407\n",
       " 0.18103118340800034\n",
       " 0.21136336180029663\n",
       " 0.24169554019259293\n",
       " 0.2720277185848892\n",
       " 0.30235989697718546\n",
       " 0.33269207536948175\n",
       " 0.36302425376177805\n",
       " 0.39335643215407434\n",
       " 0.42368861054637064\n",
       " 0.45402078893866693\n",
       " ⋮\n",
       " 0.6360138592924446\n",
       " 0.6663460376847409\n",
       " 0.6966782160770372\n",
       " 0.7270103944693335\n",
       " 0.7573425728616298\n",
       " 0.787674751253926\n",
       " 0.8180069296462223\n",
       " 0.8483391080385186\n",
       " 0.8786712864308149\n",
       " 0.9090034648231111\n",
       " 0.9393356432154074\n",
       " 0.9696678216077037"
      ]
     },
     "execution_count": 111,
     "metadata": {},
     "output_type": "execute_result"
    }
   ],
   "source": [
    "binStarts"
   ]
  },
  {
   "cell_type": "code",
   "execution_count": 112,
   "id": "2fdc8859-a903-4750-84f5-0e218b0520ec",
   "metadata": {
    "collapsed": true,
    "execution": {
     "iopub.execute_input": "2021-05-25T11:39:51.917000+02:00",
     "iopub.status.busy": "2021-05-25T11:39:51.917000+02:00",
     "iopub.status.idle": "2021-05-25T11:39:51.919000+02:00",
     "shell.execute_reply": "2021-05-25T11:39:51.919000+02:00"
    },
    "jupyter": {
     "outputs_hidden": true
    },
    "tags": []
   },
   "outputs": [
    {
     "data": {
      "text/plain": [
       "30-element Vector{Float64}:\n",
       " 0.0\n",
       " 0.0\n",
       " 0.0\n",
       " 0.0021984924623115578\n",
       " 0.004239949748743719\n",
       " 0.012405778894472362\n",
       " 0.025753768844221106\n",
       " 0.029522613065326633\n",
       " 0.035804020100502515\n",
       " 0.0625\n",
       " 0.08464195979899497\n",
       " 0.11447864321608041\n",
       " 0.15907663316582915\n",
       " ⋮\n",
       " 0.03344849246231156\n",
       " 0.02858040201005025\n",
       " 0.023712311557788943\n",
       " 0.026853015075376883\n",
       " 0.019158291457286432\n",
       " 0.010207286432160805\n",
       " 0.002512562814070352\n",
       " 0.0051821608040201\n",
       " 0.000785175879396985\n",
       " 0.0009422110552763819\n",
       " 0.00157035175879397\n",
       " 0.004711055276381909"
      ]
     },
     "execution_count": 112,
     "metadata": {},
     "output_type": "execute_result"
    }
   ],
   "source": [
    "transProbs"
   ]
  },
  {
   "cell_type": "code",
   "execution_count": 121,
   "id": "9e924ece-53ac-40fd-b6e0-a42714229031",
   "metadata": {
    "execution": {
     "iopub.execute_input": "2021-05-25T11:44:27.863000+02:00",
     "iopub.status.busy": "2021-05-25T11:44:27.862000+02:00",
     "iopub.status.idle": "2021-05-25T11:44:27.897000+02:00",
     "shell.execute_reply": "2021-05-25T11:44:27.896000+02:00"
    },
    "tags": []
   },
   "outputs": [
    {
     "data": {
      "text/plain": [
       "1-element Vector{Float64}:\n",
       " 0.8351327086477062"
      ]
     },
     "execution_count": 121,
     "metadata": {},
     "output_type": "execute_result"
    }
   ],
   "source": [
    "fcst = MCRand(binStarts, transProbs)"
   ]
  },
  {
   "cell_type": "code",
   "execution_count": 115,
   "id": "1140b4a7-66ee-48a3-a0c9-26519881eb79",
   "metadata": {
    "execution": {
     "iopub.execute_input": "2021-05-25T11:41:41.495000+02:00",
     "iopub.status.busy": "2021-05-25T11:41:41.495000+02:00",
     "iopub.status.idle": "2021-05-25T11:41:41.497000+02:00",
     "shell.execute_reply": "2021-05-25T11:41:41.497000+02:00"
    }
   },
   "outputs": [
    {
     "data": {
      "text/plain": [
       "10-element Vector{Float64}:\n",
       " 0.0\n",
       " 0.0\n",
       " 0.0\n",
       " 0.0\n",
       " 0.0\n",
       " 0.0\n",
       " 0.0\n",
       " 0.0\n",
       " 0.0\n",
       " 0.0"
      ]
     },
     "execution_count": 115,
     "metadata": {},
     "output_type": "execute_result"
    }
   ],
   "source": [
    "cmf_fcst"
   ]
  },
  {
   "cell_type": "code",
   "execution_count": 114,
   "id": "a47992c4-8624-4204-ae2d-105d65be85cd",
   "metadata": {
    "collapsed": true,
    "execution": {
     "iopub.execute_input": "2021-05-25T11:41:17.654000+02:00",
     "iopub.status.busy": "2021-05-25T11:41:17.653000+02:00",
     "iopub.status.idle": "2021-05-25T11:41:17.773000+02:00",
     "shell.execute_reply": "2021-05-25T11:41:17.773000+02:00"
    },
    "jupyter": {
     "outputs_hidden": true
    },
    "tags": []
   },
   "outputs": [
    {
     "ename": "LoadError",
     "evalue": "MethodError: \u001b[0mCannot `convert` an object of type \u001b[92mVector{Float64}\u001b[39m\u001b[0m to an object of type \u001b[91mFloat64\u001b[39m\n\u001b[0mClosest candidates are:\n\u001b[0m  convert(::Type{T}, \u001b[91m::Gray24\u001b[39m) where T<:Real at C:\\Users\\xinyuan.hou\\.julia\\packages\\ColorTypes\\6m8P7\\src\\conversions.jl:114\n\u001b[0m  convert(::Type{T}, \u001b[91m::Gray\u001b[39m) where T<:Real at C:\\Users\\xinyuan.hou\\.julia\\packages\\ColorTypes\\6m8P7\\src\\conversions.jl:113\n\u001b[0m  convert(::Type{T}, \u001b[91m::Base.TwicePrecision\u001b[39m) where T<:Number at twiceprecision.jl:250\n\u001b[0m  ...",
     "output_type": "error",
     "traceback": [
      "MethodError: \u001b[0mCannot `convert` an object of type \u001b[92mVector{Float64}\u001b[39m\u001b[0m to an object of type \u001b[91mFloat64\u001b[39m\n\u001b[0mClosest candidates are:\n\u001b[0m  convert(::Type{T}, \u001b[91m::Gray24\u001b[39m) where T<:Real at C:\\Users\\xinyuan.hou\\.julia\\packages\\ColorTypes\\6m8P7\\src\\conversions.jl:114\n\u001b[0m  convert(::Type{T}, \u001b[91m::Gray\u001b[39m) where T<:Real at C:\\Users\\xinyuan.hou\\.julia\\packages\\ColorTypes\\6m8P7\\src\\conversions.jl:113\n\u001b[0m  convert(::Type{T}, \u001b[91m::Base.TwicePrecision\u001b[39m) where T<:Number at twiceprecision.jl:250\n\u001b[0m  ...",
      "",
      "Stacktrace:",
      " [1] setindex!(A::Vector{Float64}, x::Vector{Float64}, i1::Int64)",
      "   @ Base .\\array.jl:839",
      " [2] top-level scope",
      "   @ .\\In[114]:6",
      " [3] eval",
      "   @ .\\boot.jl:360 [inlined]",
      " [4] include_string(mapexpr::typeof(REPL.softscope), mod::Module, code::String, filename::String)",
      "   @ Base .\\loading.jl:1094"
     ]
    }
   ],
   "source": [
    "len = 10\n",
    "cmf_fcst = zeros(len)\n",
    "for i in 1:len\n",
    "    obsPoint = cmf_test[i]\n",
    "    binStarts, transProbs = MCForecast(T, binWidth, obsPoint)\n",
    "    cmf_fcst[i] = MCRand(binStarts, transProbs);\n",
    "end\n",
    "cmf_fcst"
   ]
  },
  {
   "cell_type": "markdown",
   "id": "6fcfdefe-41da-4ee8-b614-a970f3490ee1",
   "metadata": {},
   "source": [
    "### call Markov"
   ]
  },
  {
   "cell_type": "code",
   "execution_count": 77,
   "id": "5e69f5f5-e4b1-44b8-801d-b2e2cbfe7cdc",
   "metadata": {
    "execution": {
     "iopub.execute_input": "2021-05-25T11:12:20.604000+02:00",
     "iopub.status.busy": "2021-05-25T11:12:20.604000+02:00",
     "iopub.status.idle": "2021-05-25T11:12:20.607000+02:00",
     "shell.execute_reply": "2021-05-25T11:12:20.606000+02:00"
    },
    "tags": []
   },
   "outputs": [
    {
     "data": {
      "text/plain": [
       "0.5"
      ]
     },
     "execution_count": 77,
     "metadata": {},
     "output_type": "execute_result"
    }
   ],
   "source": [
    "obsPoint = 0.5 #mean(cmf_data)"
   ]
  },
  {
   "cell_type": "code",
   "execution_count": 91,
   "id": "a0d87cf5-3131-4ae3-9fed-05955ad0219d",
   "metadata": {
    "execution": {
     "iopub.execute_input": "2021-05-25T11:32:26.182000+02:00",
     "iopub.status.busy": "2021-05-25T11:32:26.181000+02:00",
     "iopub.status.idle": "2021-05-25T11:32:26.505000+02:00",
     "shell.execute_reply": "2021-05-25T11:32:26.504000+02:00"
    },
    "tags": []
   },
   "outputs": [],
   "source": [
    "cmf_data = cmf_bb_train # training data\n",
    "\n",
    "n = 30 # num_states or bins\n",
    "count = 2000 # 10_000_000 # num_samples from predictive distribution\n",
    "\n",
    "min = minimum(cmf_data)\n",
    "max = maximum(cmf_data)\n",
    "binWidth = (max - min) / n\n",
    "\n",
    "T = MCFit(cmf_data, n; steps=1) # time step"
   ]
  },
  {
   "cell_type": "code",
   "execution_count": 91,
   "id": "e4e2b4df-bb7e-4f66-be78-26cab336af29",
   "metadata": {
    "execution": {
     "iopub.execute_input": "2021-05-25T11:32:26.182000+02:00",
     "iopub.status.busy": "2021-05-25T11:32:26.181000+02:00",
     "iopub.status.idle": "2021-05-25T11:32:26.505000+02:00",
     "shell.execute_reply": "2021-05-25T11:32:26.504000+02:00"
    },
    "tags": []
   },
   "outputs": [
    {
     "name": "stdout",
     "output_type": "stream",
     "text": [
      "  0.000037 seconds (15 allocations: 976 bytes)\n"
     ]
    }
   ],
   "source": [
    "binStarts, transProbs = MCForecast(T, binWidth, obsPoint)\n",
    "@time fcstSamples = MCRand(transProbs);"
   ]
  },
  {
   "cell_type": "code",
   "execution_count": 105,
   "id": "ee6d2d1e-0855-405f-bc93-5a98ce97a482",
   "metadata": {
    "execution": {
     "iopub.execute_input": "2021-05-25T11:37:51.342000+02:00",
     "iopub.status.busy": "2021-05-25T11:37:51.341000+02:00",
     "iopub.status.idle": "2021-05-25T11:37:51.345000+02:00",
     "shell.execute_reply": "2021-05-25T11:37:51.345000+02:00"
    }
   },
   "outputs": [
    {
     "data": {
      "text/plain": [
       "30×30 Matrix{Float64}:\n",
       " 0.483333     0.241667     0.141667     …  0.0          0.0\n",
       " 0.0564738    0.296143     0.352617        0.0          0.0\n",
       " 0.00310628   0.0616818    0.431995        0.000221877  0.0\n",
       " 0.0          0.0231889    0.161814        0.0          0.000338524\n",
       " 0.0          0.00427602   0.0706281       0.000884695  0.00132704\n",
       " 0.0          0.000940439  0.0291536    …  0.00104493   0.00219436\n",
       " 9.24385e-5   0.000184877  0.00813459      0.00175633   0.00175633\n",
       " 0.0          0.000493583  0.00523198      0.0017769    0.000691017\n",
       " 0.000106655  0.00159983   0.0155717       0.0019198    0.000853242\n",
       " 0.0          0.000733048  0.0096518       0.00122175   0.000977398\n",
       " 0.0          0.0          0.0250127    …  0.00126968   0.00114271\n",
       " 0.0          0.0          0.000525762     0.000394322  0.00144585\n",
       " 0.0          0.0          0.0             0.00157035   0.00471106\n",
       " ⋮                                      ⋱               \n",
       " 0.000166889  0.0          0.0             0.00534045   0.00667557\n",
       " 0.0          0.0          0.00015186      0.00835232   0.0135156\n",
       " 0.0          0.0          0.0          …  0.0103664    0.00312411\n",
       " 0.0          0.0          0.0             0.0125993    0.00246508\n",
       " 0.0          0.0          0.0             0.0123496    0.00491889\n",
       " 0.0          0.0          0.0             0.0140298    0.00670608\n",
       " 0.0          0.0          0.0             0.0300237    0.00766909\n",
       " 0.0          0.0          0.0          …  0.0503942    0.00876741\n",
       " 0.0          0.0          0.0             0.168759     0.016609\n",
       " 0.0          0.0          0.000155763     0.275312     0.0345794\n",
       " 8.81679e-5   0.0          2.2042e-5       0.819917     0.0539587\n",
       " 0.0          9.01876e-5   0.000180375     0.109488     0.664592"
      ]
     },
     "execution_count": 105,
     "metadata": {},
     "output_type": "execute_result"
    }
   ],
   "source": [
    "T"
   ]
  },
  {
   "cell_type": "code",
   "execution_count": 92,
   "id": "5c633d7c-7b51-4c75-ac37-2fd80b4bd94d",
   "metadata": {
    "execution": {
     "iopub.execute_input": "2021-05-25T11:32:26.678000+02:00",
     "iopub.status.busy": "2021-05-25T11:32:26.677000+02:00",
     "iopub.status.idle": "2021-05-25T11:32:26.680000+02:00",
     "shell.execute_reply": "2021-05-25T11:32:26.680000+02:00"
    },
    "tags": []
   },
   "outputs": [
    {
     "data": {
      "text/plain": [
       "1-element Vector{Float64}:\n",
       " 0.5589727147988095"
      ]
     },
     "execution_count": 92,
     "metadata": {},
     "output_type": "execute_result"
    }
   ],
   "source": [
    "fcstSamples"
   ]
  },
  {
   "cell_type": "code",
   "execution_count": 85,
   "id": "56b7fa50-0716-41b6-b30b-4110b9bf50d0",
   "metadata": {
    "execution": {
     "iopub.execute_input": "2021-05-25T11:13:09.572000+02:00",
     "iopub.status.busy": "2021-05-25T11:13:09.572000+02:00",
     "iopub.status.idle": "2021-05-25T11:13:09.621000+02:00",
     "shell.execute_reply": "2021-05-25T11:13:09.621000+02:00"
    },
    "tags": []
   },
   "outputs": [
    {
     "data": {
      "image/svg+xml": [
       "<?xml version=\"1.0\" encoding=\"utf-8\"?>\n",
       "<svg xmlns=\"http://www.w3.org/2000/svg\" xmlns:xlink=\"http://www.w3.org/1999/xlink\" width=\"600\" height=\"400\" viewBox=\"0 0 2400 1600\">\n",
       "<defs>\n",
       "  <clipPath id=\"clip960\">\n",
       "    <rect x=\"0\" y=\"0\" width=\"2400\" height=\"1600\"/>\n",
       "  </clipPath>\n",
       "</defs>\n",
       "<path clip-path=\"url(#clip960)\" d=\"\n",
       "M0 1600 L2400 1600 L2400 0 L0 0  Z\n",
       "  \" fill=\"#ffffff\" fill-rule=\"evenodd\" fill-opacity=\"1\"/>\n",
       "<defs>\n",
       "  <clipPath id=\"clip961\">\n",
       "    <rect x=\"480\" y=\"0\" width=\"1681\" height=\"1600\"/>\n",
       "  </clipPath>\n",
       "</defs>\n",
       "<path clip-path=\"url(#clip960)\" d=\"\n",
       "M249.542 1423.18 L2352.76 1423.18 L2352.76 123.472 L249.542 123.472  Z\n",
       "  \" fill=\"#ffffff\" fill-rule=\"evenodd\" fill-opacity=\"1\"/>\n",
       "<defs>\n",
       "  <clipPath id=\"clip962\">\n",
       "    <rect x=\"249\" y=\"123\" width=\"2104\" height=\"1301\"/>\n",
       "  </clipPath>\n",
       "</defs>\n",
       "<polyline clip-path=\"url(#clip962)\" style=\"stroke:#000000; stroke-width:2; stroke-opacity:0.1; fill:none\" points=\"\n",
       "  249.542,1423.18 249.542,123.472 \n",
       "  \"/>\n",
       "<polyline clip-path=\"url(#clip962)\" style=\"stroke:#000000; stroke-width:2; stroke-opacity:0.1; fill:none\" points=\"\n",
       "  670.185,1423.18 670.185,123.472 \n",
       "  \"/>\n",
       "<polyline clip-path=\"url(#clip962)\" style=\"stroke:#000000; stroke-width:2; stroke-opacity:0.1; fill:none\" points=\"\n",
       "  1090.83,1423.18 1090.83,123.472 \n",
       "  \"/>\n",
       "<polyline clip-path=\"url(#clip962)\" style=\"stroke:#000000; stroke-width:2; stroke-opacity:0.1; fill:none\" points=\"\n",
       "  1511.47,1423.18 1511.47,123.472 \n",
       "  \"/>\n",
       "<polyline clip-path=\"url(#clip962)\" style=\"stroke:#000000; stroke-width:2; stroke-opacity:0.1; fill:none\" points=\"\n",
       "  1932.11,1423.18 1932.11,123.472 \n",
       "  \"/>\n",
       "<polyline clip-path=\"url(#clip962)\" style=\"stroke:#000000; stroke-width:2; stroke-opacity:0.1; fill:none\" points=\"\n",
       "  2352.76,1423.18 2352.76,123.472 \n",
       "  \"/>\n",
       "<polyline clip-path=\"url(#clip960)\" style=\"stroke:#000000; stroke-width:4; stroke-opacity:1; fill:none\" points=\"\n",
       "  249.542,1423.18 2352.76,1423.18 \n",
       "  \"/>\n",
       "<polyline clip-path=\"url(#clip960)\" style=\"stroke:#000000; stroke-width:4; stroke-opacity:1; fill:none\" points=\"\n",
       "  249.542,1423.18 249.542,1407.58 \n",
       "  \"/>\n",
       "<polyline clip-path=\"url(#clip960)\" style=\"stroke:#000000; stroke-width:4; stroke-opacity:1; fill:none\" points=\"\n",
       "  670.185,1423.18 670.185,1407.58 \n",
       "  \"/>\n",
       "<polyline clip-path=\"url(#clip960)\" style=\"stroke:#000000; stroke-width:4; stroke-opacity:1; fill:none\" points=\"\n",
       "  1090.83,1423.18 1090.83,1407.58 \n",
       "  \"/>\n",
       "<polyline clip-path=\"url(#clip960)\" style=\"stroke:#000000; stroke-width:4; stroke-opacity:1; fill:none\" points=\"\n",
       "  1511.47,1423.18 1511.47,1407.58 \n",
       "  \"/>\n",
       "<polyline clip-path=\"url(#clip960)\" style=\"stroke:#000000; stroke-width:4; stroke-opacity:1; fill:none\" points=\"\n",
       "  1932.11,1423.18 1932.11,1407.58 \n",
       "  \"/>\n",
       "<polyline clip-path=\"url(#clip960)\" style=\"stroke:#000000; stroke-width:4; stroke-opacity:1; fill:none\" points=\"\n",
       "  2352.76,1423.18 2352.76,1407.58 \n",
       "  \"/>\n",
       "<path clip-path=\"url(#clip960)\" d=\"M 0 0 M226.926 1452.37 Q223.315 1452.37 221.487 1455.94 Q219.681 1459.48 219.681 1466.61 Q219.681 1473.71 221.487 1477.28 Q223.315 1480.82 226.926 1480.82 Q230.561 1480.82 232.366 1477.28 Q234.195 1473.71 234.195 1466.61 Q234.195 1459.48 232.366 1455.94 Q230.561 1452.37 226.926 1452.37 M226.926 1448.67 Q232.737 1448.67 235.792 1453.27 Q238.871 1457.86 238.871 1466.61 Q238.871 1475.33 235.792 1479.94 Q232.737 1484.52 226.926 1484.52 Q221.116 1484.52 218.038 1479.94 Q214.982 1475.33 214.982 1466.61 Q214.982 1457.86 218.038 1453.27 Q221.116 1448.67 226.926 1448.67 Z\" fill=\"#000000\" fill-rule=\"evenodd\" fill-opacity=\"1\" /><path clip-path=\"url(#clip960)\" d=\"M 0 0 M247.088 1477.97 L251.973 1477.97 L251.973 1483.85 L247.088 1483.85 L247.088 1477.97 Z\" fill=\"#000000\" fill-rule=\"evenodd\" fill-opacity=\"1\" /><path clip-path=\"url(#clip960)\" d=\"M 0 0 M272.158 1452.37 Q268.547 1452.37 266.718 1455.94 Q264.912 1459.48 264.912 1466.61 Q264.912 1473.71 266.718 1477.28 Q268.547 1480.82 272.158 1480.82 Q275.792 1480.82 277.597 1477.28 Q279.426 1473.71 279.426 1466.61 Q279.426 1459.48 277.597 1455.94 Q275.792 1452.37 272.158 1452.37 M272.158 1448.67 Q277.968 1448.67 281.023 1453.27 Q284.102 1457.86 284.102 1466.61 Q284.102 1475.33 281.023 1479.94 Q277.968 1484.52 272.158 1484.52 Q266.347 1484.52 263.269 1479.94 Q260.213 1475.33 260.213 1466.61 Q260.213 1457.86 263.269 1453.27 Q266.347 1448.67 272.158 1448.67 Z\" fill=\"#000000\" fill-rule=\"evenodd\" fill-opacity=\"1\" /><path clip-path=\"url(#clip960)\" d=\"M 0 0 M648.368 1452.37 Q644.757 1452.37 642.928 1455.94 Q641.122 1459.48 641.122 1466.61 Q641.122 1473.71 642.928 1477.28 Q644.757 1480.82 648.368 1480.82 Q652.002 1480.82 653.808 1477.28 Q655.636 1473.71 655.636 1466.61 Q655.636 1459.48 653.808 1455.94 Q652.002 1452.37 648.368 1452.37 M648.368 1448.67 Q654.178 1448.67 657.233 1453.27 Q660.312 1457.86 660.312 1466.61 Q660.312 1475.33 657.233 1479.94 Q654.178 1484.52 648.368 1484.52 Q642.558 1484.52 639.479 1479.94 Q636.423 1475.33 636.423 1466.61 Q636.423 1457.86 639.479 1453.27 Q642.558 1448.67 648.368 1448.67 Z\" fill=\"#000000\" fill-rule=\"evenodd\" fill-opacity=\"1\" /><path clip-path=\"url(#clip960)\" d=\"M 0 0 M668.53 1477.97 L673.414 1477.97 L673.414 1483.85 L668.53 1483.85 L668.53 1477.97 Z\" fill=\"#000000\" fill-rule=\"evenodd\" fill-opacity=\"1\" /><path clip-path=\"url(#clip960)\" d=\"M 0 0 M687.627 1479.92 L703.946 1479.92 L703.946 1483.85 L682.002 1483.85 L682.002 1479.92 Q684.664 1477.16 689.247 1472.53 Q693.854 1467.88 695.034 1466.54 Q697.28 1464.01 698.159 1462.28 Q699.062 1460.52 699.062 1458.83 Q699.062 1456.07 697.118 1454.34 Q695.196 1452.6 692.094 1452.6 Q689.895 1452.6 687.442 1453.37 Q685.011 1454.13 682.233 1455.68 L682.233 1450.96 Q685.057 1449.82 687.511 1449.25 Q689.965 1448.67 692.002 1448.67 Q697.372 1448.67 700.567 1451.35 Q703.761 1454.04 703.761 1458.53 Q703.761 1460.66 702.951 1462.58 Q702.164 1464.48 700.057 1467.07 Q699.479 1467.74 696.377 1470.96 Q693.275 1474.15 687.627 1479.92 Z\" fill=\"#000000\" fill-rule=\"evenodd\" fill-opacity=\"1\" /><path clip-path=\"url(#clip960)\" d=\"M 0 0 M1067.97 1452.37 Q1064.36 1452.37 1062.53 1455.94 Q1060.72 1459.48 1060.72 1466.61 Q1060.72 1473.71 1062.53 1477.28 Q1064.36 1480.82 1067.97 1480.82 Q1071.6 1480.82 1073.41 1477.28 Q1075.24 1473.71 1075.24 1466.61 Q1075.24 1459.48 1073.41 1455.94 Q1071.6 1452.37 1067.97 1452.37 M1067.97 1448.67 Q1073.78 1448.67 1076.83 1453.27 Q1079.91 1457.86 1079.91 1466.61 Q1079.91 1475.33 1076.83 1479.94 Q1073.78 1484.52 1067.97 1484.52 Q1062.16 1484.52 1059.08 1479.94 Q1056.02 1475.33 1056.02 1466.61 Q1056.02 1457.86 1059.08 1453.27 Q1062.16 1448.67 1067.97 1448.67 Z\" fill=\"#000000\" fill-rule=\"evenodd\" fill-opacity=\"1\" /><path clip-path=\"url(#clip960)\" d=\"M 0 0 M1088.13 1477.97 L1093.02 1477.97 L1093.02 1483.85 L1088.13 1483.85 L1088.13 1477.97 Z\" fill=\"#000000\" fill-rule=\"evenodd\" fill-opacity=\"1\" /><path clip-path=\"url(#clip960)\" d=\"M 0 0 M1116.05 1453.37 L1104.24 1471.81 L1116.05 1471.81 L1116.05 1453.37 M1114.82 1449.29 L1120.7 1449.29 L1120.7 1471.81 L1125.63 1471.81 L1125.63 1475.7 L1120.7 1475.7 L1120.7 1483.85 L1116.05 1483.85 L1116.05 1475.7 L1100.45 1475.7 L1100.45 1471.19 L1114.82 1449.29 Z\" fill=\"#000000\" fill-rule=\"evenodd\" fill-opacity=\"1\" /><path clip-path=\"url(#clip960)\" d=\"M 0 0 M1488.77 1452.37 Q1485.16 1452.37 1483.33 1455.94 Q1481.53 1459.48 1481.53 1466.61 Q1481.53 1473.71 1483.33 1477.28 Q1485.16 1480.82 1488.77 1480.82 Q1492.41 1480.82 1494.21 1477.28 Q1496.04 1473.71 1496.04 1466.61 Q1496.04 1459.48 1494.21 1455.94 Q1492.41 1452.37 1488.77 1452.37 M1488.77 1448.67 Q1494.58 1448.67 1497.64 1453.27 Q1500.72 1457.86 1500.72 1466.61 Q1500.72 1475.33 1497.64 1479.94 Q1494.58 1484.52 1488.77 1484.52 Q1482.96 1484.52 1479.88 1479.94 Q1476.83 1475.33 1476.83 1466.61 Q1476.83 1457.86 1479.88 1453.27 Q1482.96 1448.67 1488.77 1448.67 Z\" fill=\"#000000\" fill-rule=\"evenodd\" fill-opacity=\"1\" /><path clip-path=\"url(#clip960)\" d=\"M 0 0 M1508.94 1477.97 L1513.82 1477.97 L1513.82 1483.85 L1508.94 1483.85 L1508.94 1477.97 Z\" fill=\"#000000\" fill-rule=\"evenodd\" fill-opacity=\"1\" /><path clip-path=\"url(#clip960)\" d=\"M 0 0 M1534.58 1464.71 Q1531.44 1464.71 1529.58 1466.86 Q1527.75 1469.01 1527.75 1472.76 Q1527.75 1476.49 1529.58 1478.67 Q1531.44 1480.82 1534.58 1480.82 Q1537.73 1480.82 1539.56 1478.67 Q1541.41 1476.49 1541.41 1472.76 Q1541.41 1469.01 1539.56 1466.86 Q1537.73 1464.71 1534.58 1464.71 M1543.87 1450.06 L1543.87 1454.31 Q1542.11 1453.48 1540.3 1453.04 Q1538.52 1452.6 1536.76 1452.6 Q1532.13 1452.6 1529.68 1455.73 Q1527.25 1458.85 1526.9 1465.17 Q1528.26 1463.16 1530.32 1462.09 Q1532.38 1461 1534.86 1461 Q1540.07 1461 1543.08 1464.18 Q1546.11 1467.32 1546.11 1472.76 Q1546.11 1478.09 1542.96 1481.31 Q1539.82 1484.52 1534.58 1484.52 Q1528.59 1484.52 1525.42 1479.94 Q1522.25 1475.33 1522.25 1466.61 Q1522.25 1458.41 1526.13 1453.55 Q1530.02 1448.67 1536.57 1448.67 Q1538.33 1448.67 1540.12 1449.01 Q1541.92 1449.36 1543.87 1450.06 Z\" fill=\"#000000\" fill-rule=\"evenodd\" fill-opacity=\"1\" /><path clip-path=\"url(#clip960)\" d=\"M 0 0 M1909.54 1452.37 Q1905.93 1452.37 1904.1 1455.94 Q1902.3 1459.48 1902.3 1466.61 Q1902.3 1473.71 1904.1 1477.28 Q1905.93 1480.82 1909.54 1480.82 Q1913.18 1480.82 1914.98 1477.28 Q1916.81 1473.71 1916.81 1466.61 Q1916.81 1459.48 1914.98 1455.94 Q1913.18 1452.37 1909.54 1452.37 M1909.54 1448.67 Q1915.35 1448.67 1918.41 1453.27 Q1921.49 1457.86 1921.49 1466.61 Q1921.49 1475.33 1918.41 1479.94 Q1915.35 1484.52 1909.54 1484.52 Q1903.73 1484.52 1900.65 1479.94 Q1897.6 1475.33 1897.6 1466.61 Q1897.6 1457.86 1900.65 1453.27 Q1903.73 1448.67 1909.54 1448.67 Z\" fill=\"#000000\" fill-rule=\"evenodd\" fill-opacity=\"1\" /><path clip-path=\"url(#clip960)\" d=\"M 0 0 M1929.71 1477.97 L1934.59 1477.97 L1934.59 1483.85 L1929.71 1483.85 L1929.71 1477.97 Z\" fill=\"#000000\" fill-rule=\"evenodd\" fill-opacity=\"1\" /><path clip-path=\"url(#clip960)\" d=\"M 0 0 M1954.78 1467.44 Q1951.44 1467.44 1949.52 1469.22 Q1947.62 1471 1947.62 1474.13 Q1947.62 1477.25 1949.52 1479.04 Q1951.44 1480.82 1954.78 1480.82 Q1958.11 1480.82 1960.03 1479.04 Q1961.95 1477.23 1961.95 1474.13 Q1961.95 1471 1960.03 1469.22 Q1958.13 1467.44 1954.78 1467.44 M1950.1 1465.45 Q1947.09 1464.71 1945.4 1462.65 Q1943.73 1460.59 1943.73 1457.63 Q1943.73 1453.48 1946.67 1451.07 Q1949.64 1448.67 1954.78 1448.67 Q1959.94 1448.67 1962.88 1451.07 Q1965.82 1453.48 1965.82 1457.63 Q1965.82 1460.59 1964.13 1462.65 Q1962.46 1464.71 1959.47 1465.45 Q1962.85 1466.24 1964.73 1468.53 Q1966.63 1470.82 1966.63 1474.13 Q1966.63 1479.15 1963.55 1481.84 Q1960.49 1484.52 1954.78 1484.52 Q1949.06 1484.52 1945.98 1481.84 Q1942.92 1479.15 1942.92 1474.13 Q1942.92 1470.82 1944.82 1468.53 Q1946.72 1466.24 1950.1 1465.45 M1948.39 1458.06 Q1948.39 1460.75 1950.05 1462.25 Q1951.74 1463.76 1954.78 1463.76 Q1957.78 1463.76 1959.47 1462.25 Q1961.19 1460.75 1961.19 1458.06 Q1961.19 1455.38 1959.47 1453.88 Q1957.78 1452.37 1954.78 1452.37 Q1951.74 1452.37 1950.05 1453.88 Q1948.39 1455.38 1948.39 1458.06 Z\" fill=\"#000000\" fill-rule=\"evenodd\" fill-opacity=\"1\" /><path clip-path=\"url(#clip960)\" d=\"M 0 0 M2319.91 1479.92 L2327.55 1479.92 L2327.55 1453.55 L2319.24 1455.22 L2319.24 1450.96 L2327.5 1449.29 L2332.18 1449.29 L2332.18 1479.92 L2339.82 1479.92 L2339.82 1483.85 L2319.91 1483.85 L2319.91 1479.92 Z\" fill=\"#000000\" fill-rule=\"evenodd\" fill-opacity=\"1\" /><path clip-path=\"url(#clip960)\" d=\"M 0 0 M2349.26 1477.97 L2354.14 1477.97 L2354.14 1483.85 L2349.26 1483.85 L2349.26 1477.97 Z\" fill=\"#000000\" fill-rule=\"evenodd\" fill-opacity=\"1\" /><path clip-path=\"url(#clip960)\" d=\"M 0 0 M2374.33 1452.37 Q2370.72 1452.37 2368.89 1455.94 Q2367.08 1459.48 2367.08 1466.61 Q2367.08 1473.71 2368.89 1477.28 Q2370.72 1480.82 2374.33 1480.82 Q2377.96 1480.82 2379.77 1477.28 Q2381.6 1473.71 2381.6 1466.61 Q2381.6 1459.48 2379.77 1455.94 Q2377.96 1452.37 2374.33 1452.37 M2374.33 1448.67 Q2380.14 1448.67 2383.2 1453.27 Q2386.27 1457.86 2386.27 1466.61 Q2386.27 1475.33 2383.2 1479.94 Q2380.14 1484.52 2374.33 1484.52 Q2368.52 1484.52 2365.44 1479.94 Q2362.39 1475.33 2362.39 1466.61 Q2362.39 1457.86 2365.44 1453.27 Q2368.52 1448.67 2374.33 1448.67 Z\" fill=\"#000000\" fill-rule=\"evenodd\" fill-opacity=\"1\" /><path clip-path=\"url(#clip960)\" d=\"M 0 0 M1273.57 1524.18 L1273.57 1530.96 Q1270.32 1527.94 1266.63 1526.44 Q1262.97 1524.95 1258.83 1524.95 Q1250.68 1524.95 1246.36 1529.95 Q1242.03 1534.91 1242.03 1544.33 Q1242.03 1553.72 1246.36 1558.72 Q1250.68 1563.68 1258.83 1563.68 Q1262.97 1563.68 1266.63 1562.19 Q1270.32 1560.69 1273.57 1557.67 L1273.57 1564.38 Q1270.2 1566.68 1266.41 1567.82 Q1262.65 1568.97 1258.45 1568.97 Q1247.66 1568.97 1241.45 1562.38 Q1235.25 1555.76 1235.25 1544.33 Q1235.25 1532.87 1241.45 1526.28 Q1247.66 1519.66 1258.45 1519.66 Q1262.72 1519.66 1266.47 1520.81 Q1270.26 1521.92 1273.57 1524.18 Z\" fill=\"#000000\" fill-rule=\"evenodd\" fill-opacity=\"1\" /><path clip-path=\"url(#clip960)\" d=\"M 0 0 M1283.5 1520.52 L1293.08 1520.52 L1305.21 1552.86 L1317.4 1520.52 L1326.98 1520.52 L1326.98 1568.04 L1320.71 1568.04 L1320.71 1526.32 L1308.45 1558.91 L1301.99 1558.91 L1289.74 1526.32 L1289.74 1568.04 L1283.5 1568.04 L1283.5 1520.52 Z\" fill=\"#000000\" fill-rule=\"evenodd\" fill-opacity=\"1\" /><path clip-path=\"url(#clip960)\" d=\"M 0 0 M1339.74 1520.52 L1367.05 1520.52 L1367.05 1525.93 L1346.17 1525.93 L1346.17 1539.94 L1365.01 1539.94 L1365.01 1545.35 L1346.17 1545.35 L1346.17 1568.04 L1339.74 1568.04 L1339.74 1520.52 Z\" fill=\"#000000\" fill-rule=\"evenodd\" fill-opacity=\"1\" /><polyline clip-path=\"url(#clip962)\" style=\"stroke:#000000; stroke-width:2; stroke-opacity:0.1; fill:none\" points=\"\n",
       "  249.542,1423.18 2352.76,1423.18 \n",
       "  \"/>\n",
       "<polyline clip-path=\"url(#clip962)\" style=\"stroke:#000000; stroke-width:2; stroke-opacity:0.1; fill:none\" points=\"\n",
       "  249.542,1098.25 2352.76,1098.25 \n",
       "  \"/>\n",
       "<polyline clip-path=\"url(#clip962)\" style=\"stroke:#000000; stroke-width:2; stroke-opacity:0.1; fill:none\" points=\"\n",
       "  249.542,773.326 2352.76,773.326 \n",
       "  \"/>\n",
       "<polyline clip-path=\"url(#clip962)\" style=\"stroke:#000000; stroke-width:2; stroke-opacity:0.1; fill:none\" points=\"\n",
       "  249.542,448.399 2352.76,448.399 \n",
       "  \"/>\n",
       "<polyline clip-path=\"url(#clip962)\" style=\"stroke:#000000; stroke-width:2; stroke-opacity:0.1; fill:none\" points=\"\n",
       "  249.542,123.472 2352.76,123.472 \n",
       "  \"/>\n",
       "<polyline clip-path=\"url(#clip960)\" style=\"stroke:#000000; stroke-width:4; stroke-opacity:1; fill:none\" points=\"\n",
       "  249.542,1423.18 249.542,123.472 \n",
       "  \"/>\n",
       "<polyline clip-path=\"url(#clip960)\" style=\"stroke:#000000; stroke-width:4; stroke-opacity:1; fill:none\" points=\"\n",
       "  249.542,1423.18 274.781,1423.18 \n",
       "  \"/>\n",
       "<polyline clip-path=\"url(#clip960)\" style=\"stroke:#000000; stroke-width:4; stroke-opacity:1; fill:none\" points=\"\n",
       "  249.542,1098.25 274.781,1098.25 \n",
       "  \"/>\n",
       "<polyline clip-path=\"url(#clip960)\" style=\"stroke:#000000; stroke-width:4; stroke-opacity:1; fill:none\" points=\"\n",
       "  249.542,773.326 274.781,773.326 \n",
       "  \"/>\n",
       "<polyline clip-path=\"url(#clip960)\" style=\"stroke:#000000; stroke-width:4; stroke-opacity:1; fill:none\" points=\"\n",
       "  249.542,448.399 274.781,448.399 \n",
       "  \"/>\n",
       "<polyline clip-path=\"url(#clip960)\" style=\"stroke:#000000; stroke-width:4; stroke-opacity:1; fill:none\" points=\"\n",
       "  249.542,123.472 274.781,123.472 \n",
       "  \"/>\n",
       "<path clip-path=\"url(#clip960)\" d=\"M 0 0 M126.205 1408.98 Q122.593 1408.98 120.765 1412.54 Q118.959 1416.08 118.959 1423.21 Q118.959 1430.32 120.765 1433.89 Q122.593 1437.43 126.205 1437.43 Q129.839 1437.43 131.644 1433.89 Q133.473 1430.32 133.473 1423.21 Q133.473 1416.08 131.644 1412.54 Q129.839 1408.98 126.205 1408.98 M126.205 1405.27 Q132.015 1405.27 135.07 1409.88 Q138.149 1414.46 138.149 1423.21 Q138.149 1431.94 135.07 1436.55 Q132.015 1441.13 126.205 1441.13 Q120.394 1441.13 117.316 1436.55 Q114.26 1431.94 114.26 1423.21 Q114.26 1414.46 117.316 1409.88 Q120.394 1405.27 126.205 1405.27 Z\" fill=\"#000000\" fill-rule=\"evenodd\" fill-opacity=\"1\" /><path clip-path=\"url(#clip960)\" d=\"M 0 0 M146.366 1434.58 L151.251 1434.58 L151.251 1440.46 L146.366 1440.46 L146.366 1434.58 Z\" fill=\"#000000\" fill-rule=\"evenodd\" fill-opacity=\"1\" /><path clip-path=\"url(#clip960)\" d=\"M 0 0 M171.436 1408.98 Q167.825 1408.98 165.996 1412.54 Q164.19 1416.08 164.19 1423.21 Q164.19 1430.32 165.996 1433.89 Q167.825 1437.43 171.436 1437.43 Q175.07 1437.43 176.876 1433.89 Q178.704 1430.32 178.704 1423.21 Q178.704 1416.08 176.876 1412.54 Q175.07 1408.98 171.436 1408.98 M171.436 1405.27 Q177.246 1405.27 180.301 1409.88 Q183.38 1414.46 183.38 1423.21 Q183.38 1431.94 180.301 1436.55 Q177.246 1441.13 171.436 1441.13 Q165.626 1441.13 162.547 1436.55 Q159.491 1431.94 159.491 1423.21 Q159.491 1414.46 162.547 1409.88 Q165.626 1405.27 171.436 1405.27 Z\" fill=\"#000000\" fill-rule=\"evenodd\" fill-opacity=\"1\" /><path clip-path=\"url(#clip960)\" d=\"M 0 0 M201.598 1408.98 Q197.987 1408.98 196.158 1412.54 Q194.352 1416.08 194.352 1423.21 Q194.352 1430.32 196.158 1433.89 Q197.987 1437.43 201.598 1437.43 Q205.232 1437.43 207.037 1433.89 Q208.866 1430.32 208.866 1423.21 Q208.866 1416.08 207.037 1412.54 Q205.232 1408.98 201.598 1408.98 M201.598 1405.27 Q207.408 1405.27 210.463 1409.88 Q213.542 1414.46 213.542 1423.21 Q213.542 1431.94 210.463 1436.55 Q207.408 1441.13 201.598 1441.13 Q195.787 1441.13 192.709 1436.55 Q189.653 1431.94 189.653 1423.21 Q189.653 1414.46 192.709 1409.88 Q195.787 1405.27 201.598 1405.27 Z\" fill=\"#000000\" fill-rule=\"evenodd\" fill-opacity=\"1\" /><path clip-path=\"url(#clip960)\" d=\"M 0 0 M127.2 1084.05 Q123.589 1084.05 121.76 1087.62 Q119.955 1091.16 119.955 1098.29 Q119.955 1105.39 121.76 1108.96 Q123.589 1112.5 127.2 1112.5 Q130.834 1112.5 132.64 1108.96 Q134.468 1105.39 134.468 1098.29 Q134.468 1091.16 132.64 1087.62 Q130.834 1084.05 127.2 1084.05 M127.2 1080.35 Q133.01 1080.35 136.066 1084.95 Q139.144 1089.54 139.144 1098.29 Q139.144 1107.01 136.066 1111.62 Q133.01 1116.2 127.2 1116.2 Q121.39 1116.2 118.311 1111.62 Q115.256 1107.01 115.256 1098.29 Q115.256 1089.54 118.311 1084.95 Q121.39 1080.35 127.2 1080.35 Z\" fill=\"#000000\" fill-rule=\"evenodd\" fill-opacity=\"1\" /><path clip-path=\"url(#clip960)\" d=\"M 0 0 M147.362 1109.65 L152.246 1109.65 L152.246 1115.53 L147.362 1115.53 L147.362 1109.65 Z\" fill=\"#000000\" fill-rule=\"evenodd\" fill-opacity=\"1\" /><path clip-path=\"url(#clip960)\" d=\"M 0 0 M172.431 1084.05 Q168.82 1084.05 166.991 1087.62 Q165.186 1091.16 165.186 1098.29 Q165.186 1105.39 166.991 1108.96 Q168.82 1112.5 172.431 1112.5 Q176.065 1112.5 177.871 1108.96 Q179.7 1105.39 179.7 1098.29 Q179.7 1091.16 177.871 1087.62 Q176.065 1084.05 172.431 1084.05 M172.431 1080.35 Q178.241 1080.35 181.297 1084.95 Q184.376 1089.54 184.376 1098.29 Q184.376 1107.01 181.297 1111.62 Q178.241 1116.2 172.431 1116.2 Q166.621 1116.2 163.542 1111.62 Q160.487 1107.01 160.487 1098.29 Q160.487 1089.54 163.542 1084.95 Q166.621 1080.35 172.431 1080.35 Z\" fill=\"#000000\" fill-rule=\"evenodd\" fill-opacity=\"1\" /><path clip-path=\"url(#clip960)\" d=\"M 0 0 M192.639 1080.97 L210.996 1080.97 L210.996 1084.91 L196.922 1084.91 L196.922 1093.38 Q197.94 1093.03 198.959 1092.87 Q199.977 1092.69 200.996 1092.69 Q206.783 1092.69 210.162 1095.86 Q213.542 1099.03 213.542 1104.45 Q213.542 1110.02 210.07 1113.13 Q206.598 1116.2 200.278 1116.2 Q198.102 1116.2 195.834 1115.83 Q193.588 1115.46 191.181 1114.72 L191.181 1110.02 Q193.264 1111.16 195.487 1111.71 Q197.709 1112.27 200.186 1112.27 Q204.19 1112.27 206.528 1110.16 Q208.866 1108.06 208.866 1104.45 Q208.866 1100.83 206.528 1098.73 Q204.19 1096.62 200.186 1096.62 Q198.311 1096.62 196.436 1097.04 Q194.584 1097.45 192.639 1098.33 L192.639 1080.97 Z\" fill=\"#000000\" fill-rule=\"evenodd\" fill-opacity=\"1\" /><path clip-path=\"url(#clip960)\" d=\"M 0 0 M126.205 759.125 Q122.593 759.125 120.765 762.689 Q118.959 766.231 118.959 773.361 Q118.959 780.467 120.765 784.032 Q122.593 787.574 126.205 787.574 Q129.839 787.574 131.644 784.032 Q133.473 780.467 133.473 773.361 Q133.473 766.231 131.644 762.689 Q129.839 759.125 126.205 759.125 M126.205 755.421 Q132.015 755.421 135.07 760.027 Q138.149 764.611 138.149 773.361 Q138.149 782.088 135.07 786.694 Q132.015 791.277 126.205 791.277 Q120.394 791.277 117.316 786.694 Q114.26 782.088 114.26 773.361 Q114.26 764.611 117.316 760.027 Q120.394 755.421 126.205 755.421 Z\" fill=\"#000000\" fill-rule=\"evenodd\" fill-opacity=\"1\" /><path clip-path=\"url(#clip960)\" d=\"M 0 0 M146.366 784.726 L151.251 784.726 L151.251 790.606 L146.366 790.606 L146.366 784.726 Z\" fill=\"#000000\" fill-rule=\"evenodd\" fill-opacity=\"1\" /><path clip-path=\"url(#clip960)\" d=\"M 0 0 M162.246 786.671 L169.885 786.671 L169.885 760.305 L161.575 761.972 L161.575 757.713 L169.839 756.046 L174.514 756.046 L174.514 786.671 L182.153 786.671 L182.153 790.606 L162.246 790.606 L162.246 786.671 Z\" fill=\"#000000\" fill-rule=\"evenodd\" fill-opacity=\"1\" /><path clip-path=\"url(#clip960)\" d=\"M 0 0 M201.598 759.125 Q197.987 759.125 196.158 762.689 Q194.352 766.231 194.352 773.361 Q194.352 780.467 196.158 784.032 Q197.987 787.574 201.598 787.574 Q205.232 787.574 207.037 784.032 Q208.866 780.467 208.866 773.361 Q208.866 766.231 207.037 762.689 Q205.232 759.125 201.598 759.125 M201.598 755.421 Q207.408 755.421 210.463 760.027 Q213.542 764.611 213.542 773.361 Q213.542 782.088 210.463 786.694 Q207.408 791.277 201.598 791.277 Q195.787 791.277 192.709 786.694 Q189.653 782.088 189.653 773.361 Q189.653 764.611 192.709 760.027 Q195.787 755.421 201.598 755.421 Z\" fill=\"#000000\" fill-rule=\"evenodd\" fill-opacity=\"1\" /><path clip-path=\"url(#clip960)\" d=\"M 0 0 M127.2 434.198 Q123.589 434.198 121.76 437.763 Q119.955 441.304 119.955 448.434 Q119.955 455.54 121.76 459.105 Q123.589 462.647 127.2 462.647 Q130.834 462.647 132.64 459.105 Q134.468 455.54 134.468 448.434 Q134.468 441.304 132.64 437.763 Q130.834 434.198 127.2 434.198 M127.2 430.494 Q133.01 430.494 136.066 435.101 Q139.144 439.684 139.144 448.434 Q139.144 457.161 136.066 461.767 Q133.01 466.35 127.2 466.35 Q121.39 466.35 118.311 461.767 Q115.256 457.161 115.256 448.434 Q115.256 439.684 118.311 435.101 Q121.39 430.494 127.2 430.494 Z\" fill=\"#000000\" fill-rule=\"evenodd\" fill-opacity=\"1\" /><path clip-path=\"url(#clip960)\" d=\"M 0 0 M147.362 459.799 L152.246 459.799 L152.246 465.679 L147.362 465.679 L147.362 459.799 Z\" fill=\"#000000\" fill-rule=\"evenodd\" fill-opacity=\"1\" /><path clip-path=\"url(#clip960)\" d=\"M 0 0 M163.241 461.744 L170.88 461.744 L170.88 435.378 L162.57 437.045 L162.57 432.786 L170.834 431.119 L175.51 431.119 L175.51 461.744 L183.149 461.744 L183.149 465.679 L163.241 465.679 L163.241 461.744 Z\" fill=\"#000000\" fill-rule=\"evenodd\" fill-opacity=\"1\" /><path clip-path=\"url(#clip960)\" d=\"M 0 0 M192.639 431.119 L210.996 431.119 L210.996 435.054 L196.922 435.054 L196.922 443.526 Q197.94 443.179 198.959 443.017 Q199.977 442.832 200.996 442.832 Q206.783 442.832 210.162 446.003 Q213.542 449.175 213.542 454.591 Q213.542 460.17 210.07 463.272 Q206.598 466.35 200.278 466.35 Q198.102 466.35 195.834 465.98 Q193.588 465.61 191.181 464.869 L191.181 460.17 Q193.264 461.304 195.487 461.86 Q197.709 462.415 200.186 462.415 Q204.19 462.415 206.528 460.309 Q208.866 458.202 208.866 454.591 Q208.866 450.98 206.528 448.874 Q204.19 446.767 200.186 446.767 Q198.311 446.767 196.436 447.184 Q194.584 447.6 192.639 448.48 L192.639 431.119 Z\" fill=\"#000000\" fill-rule=\"evenodd\" fill-opacity=\"1\" /><path clip-path=\"url(#clip960)\" d=\"M 0 0 M126.205 109.271 Q122.593 109.271 120.765 112.836 Q118.959 116.377 118.959 123.507 Q118.959 130.613 120.765 134.178 Q122.593 137.72 126.205 137.72 Q129.839 137.72 131.644 134.178 Q133.473 130.613 133.473 123.507 Q133.473 116.377 131.644 112.836 Q129.839 109.271 126.205 109.271 M126.205 105.567 Q132.015 105.567 135.07 110.174 Q138.149 114.757 138.149 123.507 Q138.149 132.234 135.07 136.84 Q132.015 141.423 126.205 141.423 Q120.394 141.423 117.316 136.84 Q114.26 132.234 114.26 123.507 Q114.26 114.757 117.316 110.174 Q120.394 105.567 126.205 105.567 Z\" fill=\"#000000\" fill-rule=\"evenodd\" fill-opacity=\"1\" /><path clip-path=\"url(#clip960)\" d=\"M 0 0 M146.366 134.873 L151.251 134.873 L151.251 140.752 L146.366 140.752 L146.366 134.873 Z\" fill=\"#000000\" fill-rule=\"evenodd\" fill-opacity=\"1\" /><path clip-path=\"url(#clip960)\" d=\"M 0 0 M165.464 136.817 L181.783 136.817 L181.783 140.752 L159.839 140.752 L159.839 136.817 Q162.501 134.062 167.084 129.433 Q171.69 124.78 172.871 123.437 Q175.116 120.914 175.996 119.178 Q176.899 117.419 176.899 115.729 Q176.899 112.974 174.954 111.238 Q173.033 109.502 169.931 109.502 Q167.732 109.502 165.278 110.266 Q162.848 111.03 160.07 112.581 L160.07 107.859 Q162.894 106.725 165.348 106.146 Q167.802 105.567 169.839 105.567 Q175.209 105.567 178.403 108.252 Q181.598 110.937 181.598 115.428 Q181.598 117.558 180.788 119.479 Q180.001 121.377 177.894 123.97 Q177.315 124.641 174.214 127.859 Q171.112 131.053 165.464 136.817 Z\" fill=\"#000000\" fill-rule=\"evenodd\" fill-opacity=\"1\" /><path clip-path=\"url(#clip960)\" d=\"M 0 0 M201.598 109.271 Q197.987 109.271 196.158 112.836 Q194.352 116.377 194.352 123.507 Q194.352 130.613 196.158 134.178 Q197.987 137.72 201.598 137.72 Q205.232 137.72 207.037 134.178 Q208.866 130.613 208.866 123.507 Q208.866 116.377 207.037 112.836 Q205.232 109.271 201.598 109.271 M201.598 105.567 Q207.408 105.567 210.463 110.174 Q213.542 114.757 213.542 123.507 Q213.542 132.234 210.463 136.84 Q207.408 141.423 201.598 141.423 Q195.787 141.423 192.709 136.84 Q189.653 132.234 189.653 123.507 Q189.653 114.757 192.709 110.174 Q195.787 105.567 201.598 105.567 Z\" fill=\"#000000\" fill-rule=\"evenodd\" fill-opacity=\"1\" /><path clip-path=\"url(#clip960)\" d=\"M 0 0 M16.4842 937.529 L16.4842 910.221 L21.895 910.221 L21.895 931.1 L35.8996 931.1 L35.8996 912.258 L41.3104 912.258 L41.3104 931.1 L64.0042 931.1 L64.0042 937.529 L16.4842 937.529 Z\" fill=\"#000000\" fill-rule=\"evenodd\" fill-opacity=\"1\" /><path clip-path=\"url(#clip960)\" d=\"M 0 0 M33.8307 884.376 Q33.2578 885.362 33.0032 886.54 Q32.7167 887.686 32.7167 889.086 Q32.7167 894.052 35.9632 896.725 Q39.1779 899.367 45.2253 899.367 L64.0042 899.367 L64.0042 905.255 L28.3562 905.255 L28.3562 899.367 L33.8944 899.367 Q30.6479 897.521 29.0883 894.561 Q27.4968 891.601 27.4968 887.368 Q27.4968 886.763 27.5923 886.031 Q27.656 885.299 27.8151 884.408 L33.8307 884.376 Z\" fill=\"#000000\" fill-rule=\"evenodd\" fill-opacity=\"1\" /><path clip-path=\"url(#clip960)\" d=\"M 0 0 M44.7161 849.173 L47.5806 849.173 L47.5806 876.1 Q53.6281 875.718 56.8109 872.472 Q59.9619 869.194 59.9619 863.369 Q59.9619 859.995 59.1344 856.844 Q58.3069 853.661 56.6518 850.542 L62.1899 850.542 Q63.5267 853.693 64.227 857.003 Q64.9272 860.313 64.9272 863.719 Q64.9272 872.249 59.9619 877.246 Q54.9967 882.211 46.5303 882.211 Q37.7774 882.211 32.6531 877.501 Q27.4968 872.758 27.4968 864.738 Q27.4968 857.544 32.1438 853.375 Q36.7589 849.173 44.7161 849.173 M42.9973 855.03 Q38.1912 855.093 35.3266 857.735 Q32.4621 860.345 32.4621 864.674 Q32.4621 869.575 35.2312 872.536 Q38.0002 875.464 43.0292 875.909 L42.9973 855.03 Z\" fill=\"#000000\" fill-rule=\"evenodd\" fill-opacity=\"1\" /><path clip-path=\"url(#clip960)\" d=\"M 0 0 M46.212 836.06 Q52.6732 836.06 56.3653 833.418 Q60.0256 830.745 60.0256 826.098 Q60.0256 821.451 56.3653 818.777 Q52.6732 816.104 46.212 816.104 Q39.7508 816.104 36.0905 818.777 Q32.3984 821.451 32.3984 826.098 Q32.3984 830.745 36.0905 833.418 Q39.7508 836.06 46.212 836.06 M58.657 816.104 Q61.8398 817.95 63.3994 820.782 Q64.9272 823.583 64.9272 827.53 Q64.9272 833.991 59.771 838.065 Q54.6147 842.107 46.212 842.107 Q37.8093 842.107 32.6531 838.065 Q27.4968 833.991 27.4968 827.53 Q27.4968 823.583 29.0564 820.782 Q30.5842 817.95 33.7671 816.104 L28.3562 816.104 L28.3562 810.247 L77.5631 810.247 L77.5631 816.104 L58.657 816.104 Z\" fill=\"#000000\" fill-rule=\"evenodd\" fill-opacity=\"1\" /><path clip-path=\"url(#clip960)\" d=\"M 0 0 M49.9359 798.789 L28.3562 798.789 L28.3562 792.932 L49.7131 792.932 Q54.7739 792.932 57.3202 790.959 Q59.8346 788.986 59.8346 785.039 Q59.8346 780.296 56.8109 777.559 Q53.7872 774.79 48.5673 774.79 L28.3562 774.79 L28.3562 768.934 L64.0042 768.934 L64.0042 774.79 L58.5296 774.79 Q61.7762 776.923 63.3676 779.755 Q64.9272 782.556 64.9272 786.28 Q64.9272 792.423 61.1078 795.606 Q57.2883 798.789 49.9359 798.789 M27.4968 784.052 L27.4968 784.052 Z\" fill=\"#000000\" fill-rule=\"evenodd\" fill-opacity=\"1\" /><path clip-path=\"url(#clip960)\" d=\"M 0 0 M44.7161 726.379 L47.5806 726.379 L47.5806 753.306 Q53.6281 752.924 56.8109 749.677 Q59.9619 746.399 59.9619 740.574 Q59.9619 737.201 59.1344 734.05 Q58.3069 730.867 56.6518 727.748 L62.1899 727.748 Q63.5267 730.899 64.227 734.209 Q64.9272 737.519 64.9272 740.925 Q64.9272 749.455 59.9619 754.452 Q54.9967 759.417 46.5303 759.417 Q37.7774 759.417 32.6531 754.706 Q27.4968 749.964 27.4968 741.943 Q27.4968 734.75 32.1438 730.58 Q36.7589 726.379 44.7161 726.379 M42.9973 732.235 Q38.1912 732.299 35.3266 734.941 Q32.4621 737.551 32.4621 741.879 Q32.4621 746.781 35.2312 749.741 Q38.0002 752.669 43.0292 753.115 L42.9973 732.235 Z\" fill=\"#000000\" fill-rule=\"evenodd\" fill-opacity=\"1\" /><path clip-path=\"url(#clip960)\" d=\"M 0 0 M42.4881 687.134 L64.0042 687.134 L64.0042 692.991 L42.679 692.991 Q37.6183 692.991 35.1038 694.964 Q32.5894 696.938 32.5894 700.884 Q32.5894 705.627 35.6131 708.364 Q38.6368 711.101 43.8567 711.101 L64.0042 711.101 L64.0042 716.989 L28.3562 716.989 L28.3562 711.101 L33.8944 711.101 Q30.6797 709.001 29.0883 706.168 Q27.4968 703.303 27.4968 699.579 Q27.4968 693.436 31.3163 690.285 Q35.1038 687.134 42.4881 687.134 Z\" fill=\"#000000\" fill-rule=\"evenodd\" fill-opacity=\"1\" /><path clip-path=\"url(#clip960)\" d=\"M 0 0 M29.7248 649.799 L35.1993 649.799 Q33.8307 652.282 33.1623 654.797 Q32.4621 657.279 32.4621 659.825 Q32.4621 665.523 36.0905 668.674 Q39.6872 671.825 46.212 671.825 Q52.7369 671.825 56.3653 668.674 Q59.9619 665.523 59.9619 659.825 Q59.9619 657.279 59.2935 654.797 Q58.5933 652.282 57.2247 649.799 L62.6355 649.799 Q63.7814 652.25 64.3543 654.892 Q64.9272 657.502 64.9272 660.462 Q64.9272 668.515 59.8664 673.257 Q54.8057 678 46.212 678 Q37.491 678 32.4939 673.225 Q27.4968 668.419 27.4968 660.08 Q27.4968 657.375 28.0697 654.797 Q28.6108 652.218 29.7248 649.799 Z\" fill=\"#000000\" fill-rule=\"evenodd\" fill-opacity=\"1\" /><path clip-path=\"url(#clip960)\" d=\"M 0 0 M67.3143 624.782 Q73.68 627.265 75.6216 629.62 Q77.5631 631.975 77.5631 635.922 L77.5631 640.601 L72.6615 640.601 L72.6615 637.164 Q72.6615 634.745 71.5157 633.408 Q70.3699 632.071 66.1048 630.448 L63.4312 629.397 L28.3562 643.816 L28.3562 637.609 L56.238 626.469 L28.3562 615.329 L28.3562 609.123 L67.3143 624.782 Z\" fill=\"#000000\" fill-rule=\"evenodd\" fill-opacity=\"1\" /><path clip-path=\"url(#clip960)\" d=\"M 0 0 M1028.36 43.6931 L1028.36 65.8515 L1041.49 65.8515 Q1048.09 65.8515 1051.25 63.1374 Q1054.45 60.3828 1054.45 54.752 Q1054.45 49.0808 1051.25 46.4072 Q1048.09 43.6931 1041.49 43.6931 L1028.36 43.6931 M1028.36 18.8205 L1028.36 37.0496 L1040.47 37.0496 Q1046.47 37.0496 1049.39 34.8216 Q1052.34 32.5531 1052.34 27.935 Q1052.34 23.3575 1049.39 21.089 Q1046.47 18.8205 1040.47 18.8205 L1028.36 18.8205 M1020.18 12.096 L1041.08 12.096 Q1050.44 12.096 1055.5 15.9849 Q1060.57 19.8737 1060.57 27.0438 Q1060.57 32.5936 1057.97 35.8748 Q1055.38 39.156 1050.36 39.9662 Q1056.39 41.2625 1059.72 45.3944 Q1063.08 49.4858 1063.08 55.6432 Q1063.08 63.745 1057.57 68.1605 Q1052.06 72.576 1041.89 72.576 L1020.18 72.576 L1020.18 12.096 Z\" fill=\"#000000\" fill-rule=\"evenodd\" fill-opacity=\"1\" /><path clip-path=\"url(#clip960)\" d=\"M 0 0 M1115.58 48.0275 L1115.58 51.6733 L1081.31 51.6733 Q1081.79 59.3701 1085.92 63.421 Q1090.1 67.4314 1097.51 67.4314 Q1101.8 67.4314 1105.81 66.3781 Q1109.87 65.3249 1113.84 63.2184 L1113.84 70.267 Q1109.82 71.9684 1105.61 72.8596 Q1101.4 73.7508 1097.06 73.7508 Q1086.21 73.7508 1079.85 67.4314 Q1073.53 61.1119 1073.53 50.3365 Q1073.53 39.1965 1079.52 32.6746 Q1085.56 26.1121 1095.77 26.1121 Q1104.92 26.1121 1110.23 32.0264 Q1115.58 37.9003 1115.58 48.0275 M1108.12 45.84 Q1108.04 39.7232 1104.68 36.0774 Q1101.36 32.4315 1095.85 32.4315 Q1089.61 32.4315 1085.84 35.9558 Q1082.12 39.4801 1081.55 45.8805 L1108.12 45.84 Z\" fill=\"#000000\" fill-rule=\"evenodd\" fill-opacity=\"1\" /><path clip-path=\"url(#clip960)\" d=\"M 0 0 M1154.1 34.1734 Q1152.85 33.4443 1151.35 33.1202 Q1149.89 32.7556 1148.11 32.7556 Q1141.79 32.7556 1138.38 36.8875 Q1135.02 40.9789 1135.02 48.6757 L1135.02 72.576 L1127.53 72.576 L1127.53 27.2059 L1135.02 27.2059 L1135.02 34.2544 Q1137.37 30.1225 1141.14 28.1376 Q1144.91 26.1121 1150.29 26.1121 Q1151.06 26.1121 1151.99 26.2337 Q1152.93 26.3147 1154.06 26.5172 L1154.1 34.1734 Z\" fill=\"#000000\" fill-rule=\"evenodd\" fill-opacity=\"1\" /><path clip-path=\"url(#clip960)\" d=\"M 0 0 M1161.92 9.54393 L1169.37 9.54393 L1169.37 72.576 L1161.92 72.576 L1161.92 9.54393 Z\" fill=\"#000000\" fill-rule=\"evenodd\" fill-opacity=\"1\" /><path clip-path=\"url(#clip960)\" d=\"M 0 0 M1184.97 27.2059 L1192.42 27.2059 L1192.42 72.576 L1184.97 72.576 L1184.97 27.2059 M1184.97 9.54393 L1192.42 9.54393 L1192.42 18.9825 L1184.97 18.9825 L1184.97 9.54393 Z\" fill=\"#000000\" fill-rule=\"evenodd\" fill-opacity=\"1\" /><path clip-path=\"url(#clip960)\" d=\"M 0 0 M1245.73 45.1919 L1245.73 72.576 L1238.28 72.576 L1238.28 45.4349 Q1238.28 38.994 1235.77 35.7938 Q1233.26 32.5936 1228.23 32.5936 Q1222.2 32.5936 1218.71 36.4419 Q1215.23 40.2903 1215.23 46.9338 L1215.23 72.576 L1207.74 72.576 L1207.74 27.2059 L1215.23 27.2059 L1215.23 34.2544 Q1217.9 30.163 1221.51 28.1376 Q1225.15 26.1121 1229.89 26.1121 Q1237.71 26.1121 1241.72 30.9732 Q1245.73 35.7938 1245.73 45.1919 Z\" fill=\"#000000\" fill-rule=\"evenodd\" fill-opacity=\"1\" /><path clip-path=\"url(#clip960)\" d=\"M 0 0 M1295.07 86.3491 L1295.07 92.1419 L1251.97 92.1419 L1251.97 86.3491 L1295.07 86.3491 Z\" fill=\"#000000\" fill-rule=\"evenodd\" fill-opacity=\"1\" /><path clip-path=\"url(#clip960)\" d=\"M 0 0 M1309.29 65.7705 L1309.29 89.8329 L1301.8 89.8329 L1301.8 27.2059 L1309.29 27.2059 L1309.29 34.0924 Q1311.64 30.0415 1315.21 28.0971 Q1318.81 26.1121 1323.79 26.1121 Q1332.06 26.1121 1337.2 32.6746 Q1342.39 39.2371 1342.39 49.9314 Q1342.39 60.6258 1337.2 67.1883 Q1332.06 73.7508 1323.79 73.7508 Q1318.81 73.7508 1315.21 71.8063 Q1311.64 69.8214 1309.29 65.7705 M1334.65 49.9314 Q1334.65 41.7081 1331.25 37.0496 Q1327.88 32.3505 1321.97 32.3505 Q1316.06 32.3505 1312.65 37.0496 Q1309.29 41.7081 1309.29 49.9314 Q1309.29 58.1548 1312.65 62.8538 Q1316.06 67.5124 1321.97 67.5124 Q1327.88 67.5124 1331.25 62.8538 Q1334.65 58.1548 1334.65 49.9314 Z\" fill=\"#000000\" fill-rule=\"evenodd\" fill-opacity=\"1\" /><path clip-path=\"url(#clip960)\" d=\"M 0 0 M1381.03 34.1734 Q1379.78 33.4443 1378.28 33.1202 Q1376.82 32.7556 1375.04 32.7556 Q1368.72 32.7556 1365.32 36.8875 Q1361.95 40.9789 1361.95 48.6757 L1361.95 72.576 L1354.46 72.576 L1354.46 27.2059 L1361.95 27.2059 L1361.95 34.2544 Q1364.3 30.1225 1368.07 28.1376 Q1371.84 26.1121 1377.22 26.1121 Q1377.99 26.1121 1378.93 26.2337 Q1379.86 26.3147 1380.99 26.5172 L1381.03 34.1734 Z\" fill=\"#000000\" fill-rule=\"evenodd\" fill-opacity=\"1\" /><path clip-path=\"url(#clip960)\" d=\"M 0 0 M1425.84 48.0275 L1425.84 51.6733 L1391.57 51.6733 Q1392.05 59.3701 1396.18 63.421 Q1400.36 67.4314 1407.77 67.4314 Q1412.06 67.4314 1416.07 66.3781 Q1420.12 65.3249 1424.09 63.2184 L1424.09 70.267 Q1420.08 71.9684 1415.87 72.8596 Q1411.66 73.7508 1407.32 73.7508 Q1396.47 73.7508 1390.11 67.4314 Q1383.79 61.1119 1383.79 50.3365 Q1383.79 39.1965 1389.78 32.6746 Q1395.82 26.1121 1406.03 26.1121 Q1415.18 26.1121 1420.49 32.0264 Q1425.84 37.9003 1425.84 48.0275 M1418.38 45.84 Q1418.3 39.7232 1414.94 36.0774 Q1411.62 32.4315 1406.11 32.4315 Q1399.87 32.4315 1396.1 35.9558 Q1392.38 39.4801 1391.81 45.8805 L1418.38 45.84 Z\" fill=\"#000000\" fill-rule=\"evenodd\" fill-opacity=\"1\" /><path clip-path=\"url(#clip960)\" d=\"M 0 0 M1467.92 34.0924 L1467.92 9.54393 L1475.38 9.54393 L1475.38 72.576 L1467.92 72.576 L1467.92 65.7705 Q1465.58 69.8214 1461.97 71.8063 Q1458.41 73.7508 1453.38 73.7508 Q1445.16 73.7508 1439.97 67.1883 Q1434.83 60.6258 1434.83 49.9314 Q1434.83 39.2371 1439.97 32.6746 Q1445.16 26.1121 1453.38 26.1121 Q1458.41 26.1121 1461.97 28.0971 Q1465.58 30.0415 1467.92 34.0924 M1442.53 49.9314 Q1442.53 58.1548 1445.89 62.8538 Q1449.29 67.5124 1455.2 67.5124 Q1461.12 67.5124 1464.52 62.8538 Q1467.92 58.1548 1467.92 49.9314 Q1467.92 41.7081 1464.52 37.0496 Q1461.12 32.3505 1455.2 32.3505 Q1449.29 32.3505 1445.89 37.0496 Q1442.53 41.7081 1442.53 49.9314 Z\" fill=\"#000000\" fill-rule=\"evenodd\" fill-opacity=\"1\" /><path clip-path=\"url(#clip960)\" d=\"M 0 0 M1490.73 27.2059 L1498.18 27.2059 L1498.18 72.576 L1490.73 72.576 L1490.73 27.2059 M1490.73 9.54393 L1498.18 9.54393 L1498.18 18.9825 L1490.73 18.9825 L1490.73 9.54393 Z\" fill=\"#000000\" fill-rule=\"evenodd\" fill-opacity=\"1\" /><path clip-path=\"url(#clip960)\" d=\"M 0 0 M1546.43 28.9478 L1546.43 35.9153 Q1543.27 34.1734 1540.07 33.3227 Q1536.91 32.4315 1533.67 32.4315 Q1526.42 32.4315 1522.41 37.0496 Q1518.4 41.6271 1518.4 49.9314 Q1518.4 58.2358 1522.41 62.8538 Q1526.42 67.4314 1533.67 67.4314 Q1536.91 67.4314 1540.07 66.5807 Q1543.27 65.6895 1546.43 63.9476 L1546.43 70.8341 Q1543.31 72.2924 1539.95 73.0216 Q1536.63 73.7508 1532.86 73.7508 Q1522.61 73.7508 1516.58 67.3098 Q1510.54 60.8689 1510.54 49.9314 Q1510.54 38.832 1516.62 32.472 Q1522.73 26.1121 1533.35 26.1121 Q1536.79 26.1121 1540.07 26.8413 Q1543.35 27.5299 1546.43 28.9478 Z\" fill=\"#000000\" fill-rule=\"evenodd\" fill-opacity=\"1\" /><path clip-path=\"url(#clip960)\" d=\"M 0 0 M1566.77 14.324 L1566.77 27.2059 L1582.12 27.2059 L1582.12 32.9987 L1566.77 32.9987 L1566.77 57.6282 Q1566.77 63.1779 1568.27 64.7578 Q1569.8 66.3376 1574.46 66.3376 L1582.12 66.3376 L1582.12 72.576 L1574.46 72.576 Q1565.84 72.576 1562.55 69.3758 Q1559.27 66.1351 1559.27 57.6282 L1559.27 32.9987 L1553.8 32.9987 L1553.8 27.2059 L1559.27 27.2059 L1559.27 14.324 L1566.77 14.324 Z\" fill=\"#000000\" fill-rule=\"evenodd\" fill-opacity=\"1\" /><path clip-path=\"url(#clip962)\" d=\"\n",
       "M459.863 1416.91 L459.863 1423.18 L565.024 1423.18 L565.024 1416.91 L459.863 1416.91 L459.863 1416.91  Z\n",
       "  \" fill=\"#009af9\" fill-rule=\"evenodd\" fill-opacity=\"1\"/>\n",
       "<polyline clip-path=\"url(#clip962)\" style=\"stroke:#000000; stroke-width:1.2; stroke-opacity:1; fill:none\" points=\"\n",
       "  459.863,1416.91 459.863,1423.18 565.024,1423.18 565.024,1416.91 459.863,1416.91 \n",
       "  \"/>\n",
       "<path clip-path=\"url(#clip962)\" d=\"\n",
       "M565.024 1418.5 L565.024 1423.18 L670.185 1423.18 L670.185 1418.5 L565.024 1418.5 L565.024 1418.5  Z\n",
       "  \" fill=\"#009af9\" fill-rule=\"evenodd\" fill-opacity=\"1\"/>\n",
       "<polyline clip-path=\"url(#clip962)\" style=\"stroke:#000000; stroke-width:1.2; stroke-opacity:1; fill:none\" points=\"\n",
       "  565.024,1418.5 565.024,1423.18 670.185,1423.18 670.185,1418.5 565.024,1418.5 \n",
       "  \"/>\n",
       "<path clip-path=\"url(#clip962)\" d=\"\n",
       "M670.185 1411.68 L670.185 1423.18 L775.346 1423.18 L775.346 1411.68 L670.185 1411.68 L670.185 1411.68  Z\n",
       "  \" fill=\"#009af9\" fill-rule=\"evenodd\" fill-opacity=\"1\"/>\n",
       "<polyline clip-path=\"url(#clip962)\" style=\"stroke:#000000; stroke-width:1.2; stroke-opacity:1; fill:none\" points=\"\n",
       "  670.185,1411.68 670.185,1423.18 775.346,1423.18 775.346,1411.68 670.185,1411.68 \n",
       "  \"/>\n",
       "<path clip-path=\"url(#clip962)\" d=\"\n",
       "M775.346 1374.8 L775.346 1423.18 L880.506 1423.18 L880.506 1374.8 L775.346 1374.8 L775.346 1374.8  Z\n",
       "  \" fill=\"#009af9\" fill-rule=\"evenodd\" fill-opacity=\"1\"/>\n",
       "<polyline clip-path=\"url(#clip962)\" style=\"stroke:#000000; stroke-width:1.2; stroke-opacity:1; fill:none\" points=\"\n",
       "  775.346,1374.8 775.346,1423.18 880.506,1423.18 880.506,1374.8 775.346,1374.8 \n",
       "  \"/>\n",
       "<path clip-path=\"url(#clip962)\" d=\"\n",
       "M880.506 1276.54 L880.506 1423.18 L985.667 1423.18 L985.667 1276.54 L880.506 1276.54 L880.506 1276.54  Z\n",
       "  \" fill=\"#009af9\" fill-rule=\"evenodd\" fill-opacity=\"1\"/>\n",
       "<polyline clip-path=\"url(#clip962)\" style=\"stroke:#000000; stroke-width:1.2; stroke-opacity:1; fill:none\" points=\"\n",
       "  880.506,1276.54 880.506,1423.18 985.667,1423.18 985.667,1276.54 880.506,1276.54 \n",
       "  \"/>\n",
       "<path clip-path=\"url(#clip962)\" d=\"\n",
       "M985.667 1006.2 L985.667 1423.18 L1090.83 1423.18 L1090.83 1006.2 L985.667 1006.2 L985.667 1006.2  Z\n",
       "  \" fill=\"#009af9\" fill-rule=\"evenodd\" fill-opacity=\"1\"/>\n",
       "<polyline clip-path=\"url(#clip962)\" style=\"stroke:#000000; stroke-width:1.2; stroke-opacity:1; fill:none\" points=\"\n",
       "  985.667,1006.2 985.667,1423.18 1090.83,1423.18 1090.83,1006.2 985.667,1006.2 \n",
       "  \"/>\n",
       "<path clip-path=\"url(#clip962)\" d=\"\n",
       "M1090.83 922.89 L1090.83 1423.18 L1195.99 1423.18 L1195.99 922.89 L1090.83 922.89 L1090.83 922.89  Z\n",
       "  \" fill=\"#009af9\" fill-rule=\"evenodd\" fill-opacity=\"1\"/>\n",
       "<polyline clip-path=\"url(#clip962)\" style=\"stroke:#000000; stroke-width:1.2; stroke-opacity:1; fill:none\" points=\"\n",
       "  1090.83,922.89 1090.83,1423.18 1195.99,1423.18 1195.99,922.89 1090.83,922.89 \n",
       "  \"/>\n",
       "<path clip-path=\"url(#clip962)\" d=\"\n",
       "M1195.99 774.268 L1195.99 1423.18 L1301.15 1423.18 L1301.15 774.268 L1195.99 774.268 L1195.99 774.268  Z\n",
       "  \" fill=\"#009af9\" fill-rule=\"evenodd\" fill-opacity=\"1\"/>\n",
       "<polyline clip-path=\"url(#clip962)\" style=\"stroke:#000000; stroke-width:1.2; stroke-opacity:1; fill:none\" points=\"\n",
       "  1195.99,774.268 1195.99,1423.18 1301.15,1423.18 1301.15,774.268 1195.99,774.268 \n",
       "  \"/>\n",
       "<path clip-path=\"url(#clip962)\" d=\"\n",
       "M1301.15 587.175 L1301.15 1423.18 L1406.31 1423.18 L1406.31 587.175 L1301.15 587.175 L1301.15 587.175  Z\n",
       "  \" fill=\"#009af9\" fill-rule=\"evenodd\" fill-opacity=\"1\"/>\n",
       "<polyline clip-path=\"url(#clip962)\" style=\"stroke:#000000; stroke-width:1.2; stroke-opacity:1; fill:none\" points=\"\n",
       "  1301.15,587.175 1301.15,1423.18 1406.31,1423.18 1406.31,587.175 1301.15,587.175 \n",
       "  \"/>\n",
       "<path clip-path=\"url(#clip962)\" d=\"\n",
       "M1406.31 270.891 L1406.31 1423.18 L1511.47 1423.18 L1511.47 270.891 L1406.31 270.891 L1406.31 270.891  Z\n",
       "  \" fill=\"#009af9\" fill-rule=\"evenodd\" fill-opacity=\"1\"/>\n",
       "<polyline clip-path=\"url(#clip962)\" style=\"stroke:#000000; stroke-width:1.2; stroke-opacity:1; fill:none\" points=\"\n",
       "  1406.31,270.891 1406.31,1423.18 1511.47,1423.18 1511.47,270.891 1406.31,270.891 \n",
       "  \"/>\n",
       "<path clip-path=\"url(#clip962)\" d=\"\n",
       "M1511.47 460.909 L1511.47 1423.18 L1616.63 1423.18 L1616.63 460.909 L1511.47 460.909 L1511.47 460.909  Z\n",
       "  \" fill=\"#009af9\" fill-rule=\"evenodd\" fill-opacity=\"1\"/>\n",
       "<polyline clip-path=\"url(#clip962)\" style=\"stroke:#000000; stroke-width:1.2; stroke-opacity:1; fill:none\" points=\"\n",
       "  1511.47,460.909 1511.47,1423.18 1616.63,1423.18 1616.63,460.909 1511.47,460.909 \n",
       "  \"/>\n",
       "<path clip-path=\"url(#clip962)\" d=\"\n",
       "M1616.63 726.439 L1616.63 1423.18 L1721.79 1423.18 L1721.79 726.439 L1616.63 726.439 L1616.63 726.439  Z\n",
       "  \" fill=\"#009af9\" fill-rule=\"evenodd\" fill-opacity=\"1\"/>\n",
       "<polyline clip-path=\"url(#clip962)\" style=\"stroke:#000000; stroke-width:1.2; stroke-opacity:1; fill:none\" points=\"\n",
       "  1616.63,726.439 1616.63,1423.18 1721.79,1423.18 1721.79,726.439 1616.63,726.439 \n",
       "  \"/>\n",
       "<path clip-path=\"url(#clip962)\" d=\"\n",
       "M1721.79 927.731 L1721.79 1423.18 L1826.95 1423.18 L1826.95 927.731 L1721.79 927.731 L1721.79 927.731  Z\n",
       "  \" fill=\"#009af9\" fill-rule=\"evenodd\" fill-opacity=\"1\"/>\n",
       "<polyline clip-path=\"url(#clip962)\" style=\"stroke:#000000; stroke-width:1.2; stroke-opacity:1; fill:none\" points=\"\n",
       "  1721.79,927.731 1721.79,1423.18 1826.95,1423.18 1826.95,927.731 1721.79,927.731 \n",
       "  \"/>\n",
       "<path clip-path=\"url(#clip962)\" d=\"\n",
       "M1826.95 1086.88 L1826.95 1423.18 L1932.11 1423.18 L1932.11 1086.88 L1826.95 1086.88 L1826.95 1086.88  Z\n",
       "  \" fill=\"#009af9\" fill-rule=\"evenodd\" fill-opacity=\"1\"/>\n",
       "<polyline clip-path=\"url(#clip962)\" style=\"stroke:#000000; stroke-width:1.2; stroke-opacity:1; fill:none\" points=\"\n",
       "  1826.95,1086.88 1826.95,1423.18 1932.11,1423.18 1932.11,1086.88 1826.95,1086.88 \n",
       "  \"/>\n",
       "<path clip-path=\"url(#clip962)\" d=\"\n",
       "M1932.11 1244.54 L1932.11 1423.18 L2037.27 1423.18 L2037.27 1244.54 L1932.11 1244.54 L1932.11 1244.54  Z\n",
       "  \" fill=\"#009af9\" fill-rule=\"evenodd\" fill-opacity=\"1\"/>\n",
       "<polyline clip-path=\"url(#clip962)\" style=\"stroke:#000000; stroke-width:1.2; stroke-opacity:1; fill:none\" points=\"\n",
       "  1932.11,1244.54 1932.11,1423.18 2037.27,1423.18 2037.27,1244.54 1932.11,1244.54 \n",
       "  \"/>\n",
       "<path clip-path=\"url(#clip962)\" d=\"\n",
       "M2037.27 1373.34 L2037.27 1423.18 L2142.43 1423.18 L2142.43 1373.34 L2037.27 1373.34 L2037.27 1373.34  Z\n",
       "  \" fill=\"#009af9\" fill-rule=\"evenodd\" fill-opacity=\"1\"/>\n",
       "<polyline clip-path=\"url(#clip962)\" style=\"stroke:#000000; stroke-width:1.2; stroke-opacity:1; fill:none\" points=\"\n",
       "  2037.27,1373.34 2037.27,1423.18 2142.43,1423.18 2142.43,1373.34 2037.27,1373.34 \n",
       "  \"/>\n",
       "<path clip-path=\"url(#clip962)\" d=\"\n",
       "M2142.43 1415.84 L2142.43 1423.18 L2247.6 1423.18 L2247.6 1415.84 L2142.43 1415.84 L2142.43 1415.84  Z\n",
       "  \" fill=\"#009af9\" fill-rule=\"evenodd\" fill-opacity=\"1\"/>\n",
       "<polyline clip-path=\"url(#clip962)\" style=\"stroke:#000000; stroke-width:1.2; stroke-opacity:1; fill:none\" points=\"\n",
       "  2142.43,1415.84 2142.43,1423.18 2247.6,1423.18 2247.6,1415.84 2142.43,1415.84 \n",
       "  \"/>\n",
       "<polyline clip-path=\"url(#clip962)\" style=\"stroke:#e26f46; stroke-width:4; stroke-opacity:1; fill:none\" points=\"\n",
       "  438.904,1423.18 502.699,1423.18 566.494,1423.18 630.289,1419.31 694.084,1405.11 757.879,1384.47 821.675,1336.72 885.47,1267.04 949.265,1210.26 1013.06,1175.42 \n",
       "  1076.85,1077.35 1140.65,1014.12 1204.44,961.211 1268.24,815.394 1332.03,673.448 1395.83,774.1 1459.63,919.917 1523.42,965.082 1587.22,1045.09 1651.01,1092.83 \n",
       "  1714.81,1158.64 1778.6,1116.06 1842.4,1300.59 1906.19,1348.34 1969.99,1383.18 2033.78,1408.99 2097.58,1419.31 2161.37,1415.44 2225.17,1423.18 2288.96,1416.73 \n",
       "  \n",
       "  \"/>\n",
       "<path clip-path=\"url(#clip960)\" d=\"\n",
       "M1996.53 348.236 L2282.65 348.236 L2282.65 166.796 L1996.53 166.796  Z\n",
       "  \" fill=\"#ffffff\" fill-rule=\"evenodd\" fill-opacity=\"1\"/>\n",
       "<polyline clip-path=\"url(#clip960)\" style=\"stroke:#000000; stroke-width:4; stroke-opacity:1; fill:none\" points=\"\n",
       "  1996.53,348.236 2282.65,348.236 2282.65,166.796 1996.53,166.796 1996.53,348.236 \n",
       "  \"/>\n",
       "<path clip-path=\"url(#clip960)\" d=\"\n",
       "M2019.9 251.468 L2160.11 251.468 L2160.11 203.084 L2019.9 203.084 L2019.9 251.468  Z\n",
       "  \" fill=\"#009af9\" fill-rule=\"evenodd\" fill-opacity=\"1\"/>\n",
       "<polyline clip-path=\"url(#clip960)\" style=\"stroke:#000000; stroke-width:1.2; stroke-opacity:1; fill:none\" points=\"\n",
       "  2019.9,251.468 2160.11,251.468 2160.11,203.084 2019.9,203.084 2019.9,251.468 \n",
       "  \"/>\n",
       "<path clip-path=\"url(#clip960)\" d=\"M 0 0 M2197.32 246.963 Q2195.52 251.593 2193.8 253.005 Q2192.09 254.417 2189.22 254.417 L2185.82 254.417 L2185.82 250.852 L2188.32 250.852 Q2190.08 250.852 2191.05 250.019 Q2192.02 249.185 2193.2 246.083 L2193.97 244.139 L2183.48 218.63 L2187.99 218.63 L2196.1 238.908 L2204.2 218.63 L2208.71 218.63 L2197.32 246.963 Z\" fill=\"#000000\" fill-rule=\"evenodd\" fill-opacity=\"1\" /><path clip-path=\"url(#clip960)\" d=\"M 0 0 M2216 240.621 L2223.64 240.621 L2223.64 214.255 L2215.33 215.922 L2215.33 211.662 L2223.6 209.996 L2228.27 209.996 L2228.27 240.621 L2235.91 240.621 L2235.91 244.556 L2216 244.556 L2216 240.621 Z\" fill=\"#000000\" fill-rule=\"evenodd\" fill-opacity=\"1\" /><polyline clip-path=\"url(#clip960)\" style=\"stroke:#e26f46; stroke-width:4; stroke-opacity:1; fill:none\" points=\"\n",
       "  2019.9,287.756 2160.11,287.756 \n",
       "  \"/>\n",
       "<path clip-path=\"url(#clip960)\" d=\"M 0 0 M2197.32 307.443 Q2195.52 312.073 2193.8 313.485 Q2192.09 314.897 2189.22 314.897 L2185.82 314.897 L2185.82 311.332 L2188.32 311.332 Q2190.08 311.332 2191.05 310.499 Q2192.02 309.665 2193.2 306.563 L2193.97 304.619 L2183.48 279.11 L2187.99 279.11 L2196.1 299.388 L2204.2 279.11 L2208.71 279.11 L2197.32 307.443 Z\" fill=\"#000000\" fill-rule=\"evenodd\" fill-opacity=\"1\" /><path clip-path=\"url(#clip960)\" d=\"M 0 0 M2219.22 301.101 L2235.54 301.101 L2235.54 305.036 L2213.6 305.036 L2213.6 301.101 Q2216.26 298.346 2220.84 293.716 Q2225.45 289.064 2226.63 287.721 Q2228.87 285.198 2229.75 283.462 Q2230.66 281.703 2230.66 280.013 Q2230.66 277.258 2228.71 275.522 Q2226.79 273.786 2223.69 273.786 Q2221.49 273.786 2219.04 274.55 Q2216.61 275.314 2213.83 276.865 L2213.83 272.142 Q2216.65 271.008 2219.11 270.429 Q2221.56 269.851 2223.6 269.851 Q2228.97 269.851 2232.16 272.536 Q2235.36 275.221 2235.36 279.712 Q2235.36 281.841 2234.54 283.763 Q2233.76 285.661 2231.65 288.253 Q2231.07 288.925 2227.97 292.142 Q2224.87 295.337 2219.22 301.101 Z\" fill=\"#000000\" fill-rule=\"evenodd\" fill-opacity=\"1\" /></svg>\n"
      ]
     },
     "execution_count": 85,
     "metadata": {},
     "output_type": "execute_result"
    }
   ],
   "source": [
    "histogram(fcstSamples, normalize=:probability, bins=n, lw=0.3, \n",
    "    xlim=(0,1), ylim=(0,0.2), xlabel=\"CMF\", ylabel=\"Frequency\", \n",
    "    title=\"Berlin_predict\")\n",
    "plot!(binStarts, transProbs) #, lc=:blue)"
   ]
  },
  {
   "cell_type": "code",
   "execution_count": null,
   "id": "ef9284ee-79bf-4f33-b4d0-1f71dd0261c3",
   "metadata": {},
   "outputs": [],
   "source": []
  },
  {
   "cell_type": "code",
   "execution_count": null,
   "id": "70db6791-16f4-4c94-b405-74d33a2747d9",
   "metadata": {},
   "outputs": [],
   "source": []
  },
  {
   "cell_type": "code",
   "execution_count": null,
   "id": "63443205-979f-412e-91c3-d736f0fc95a4",
   "metadata": {},
   "outputs": [],
   "source": []
  },
  {
   "cell_type": "code",
   "execution_count": null,
   "id": "30b75979-36ff-48ce-9746-efd299671805",
   "metadata": {},
   "outputs": [],
   "source": []
  },
  {
   "cell_type": "code",
   "execution_count": null,
   "id": "7473a601-6da6-49f1-a0e2-db9f0160e4b4",
   "metadata": {},
   "outputs": [],
   "source": []
  },
  {
   "cell_type": "code",
   "execution_count": 8,
   "id": "f4778e0c-ece7-40b8-8f7c-40bc55b9d925",
   "metadata": {
    "execution": {
     "iopub.execute_input": "2021-05-26T09:07:14.669000+02:00",
     "iopub.status.busy": "2021-05-26T09:07:14.669000+02:00",
     "iopub.status.idle": "2021-05-26T09:07:16.627000+02:00",
     "shell.execute_reply": "2021-05-26T09:07:16.627000+02:00"
    }
   },
   "outputs": [
    {
     "data": {
      "text/plain": [
       "267607-element Vector{Float64}:\n",
       " 0.25300818171573625\n",
       " 0.25114843250478547\n",
       " 0.22158832728772718\n",
       " 0.18179115729880074\n",
       " 0.15113926484883422\n",
       " 0.165566104963329\n",
       " 0.3466782860167718\n",
       " 0.31671983957807137\n",
       " 0.36398169822529436\n",
       " 0.41458791214159674\n",
       " 0.2877386670255639\n",
       " 0.24396654210666427\n",
       " 0.24159470981093112\n",
       " ⋮\n",
       " 0.32742781316244157\n",
       " 0.43239978237534843\n",
       " 0.4847562973172902\n",
       " 0.42879282344472974\n",
       " 0.562585022521856\n",
       " 0.5562563972920771\n",
       " 0.740902732523057\n",
       " 0.8464298692171635\n",
       " 0.8553437322878059\n",
       " 0.8214015279512967\n",
       " 0.8961348158326929\n",
       " 0.9577757923480762"
      ]
     },
     "execution_count": 8,
     "metadata": {},
     "output_type": "execute_result"
    }
   ],
   "source": [
    "cmf_data = cmf_bb_train"
   ]
  },
  {
   "cell_type": "code",
   "execution_count": 27,
   "id": "e1ce0431-5b85-4f4d-a83f-1988ddeebafe",
   "metadata": {
    "execution": {
     "iopub.execute_input": "2021-05-26T09:46:47.433000+02:00",
     "iopub.status.busy": "2021-05-26T09:46:47.433000+02:00",
     "iopub.status.idle": "2021-05-26T09:46:47.465000+02:00",
     "shell.execute_reply": "2021-05-26T09:46:47.465000+02:00"
    },
    "tags": []
   },
   "outputs": [
    {
     "data": {
      "text/plain": [
       "31-element Vector{Float64}:\n",
       " 0.0900346482311115\n",
       " 0.19845949759237494\n",
       " 0.2409067781933869\n",
       " 0.26946708376590045\n",
       " 0.2945530461470078\n",
       " 0.32037413045072666\n",
       " 0.34839012593267826\n",
       " 0.37891459265564215\n",
       " 0.4137052013032702\n",
       " 0.44852957174822566\n",
       " 0.49099578180061504\n",
       " 0.5423505565005856\n",
       " 0.5951202294339194\n",
       " ⋮\n",
       " 0.8367313458445514\n",
       " 0.8560362099398299\n",
       " 0.8765232849420324\n",
       " 0.902279354891852\n",
       " 0.928341034591938\n",
       " 0.9424088958914856\n",
       " 0.9486330461551061\n",
       " 0.9521029371562085\n",
       " 0.9552602518874201\n",
       " 0.9605250556635135\n",
       " 0.974820620977865\n",
       " 1.0"
      ]
     },
     "execution_count": 27,
     "metadata": {},
     "output_type": "execute_result"
    }
   ],
   "source": [
    "# equal population\n",
    "qx_ep = quantile(cmf_data, 0:(1/30):1)"
   ]
  },
  {
   "cell_type": "code",
   "execution_count": 11,
   "id": "18812887-5802-447d-b1a4-c1ff0d82e190",
   "metadata": {
    "execution": {
     "iopub.execute_input": "2021-05-26T09:08:02.169000+02:00",
     "iopub.status.busy": "2021-05-26T09:08:02.169000+02:00",
     "iopub.status.idle": "2021-05-26T09:08:02.200000+02:00",
     "shell.execute_reply": "2021-05-26T09:08:02.200000+02:00"
    },
    "tags": []
   },
   "outputs": [
    {
     "data": {
      "text/plain": [
       "31-element Vector{Float64}:\n",
       " 0.0\n",
       " 0.19845949759237494\n",
       " 0.2409067781933869\n",
       " 0.26946708376590045\n",
       " 0.2945530461470078\n",
       " 0.32037413045072666\n",
       " 0.34839012593267826\n",
       " 0.37891459265564215\n",
       " 0.4137052013032702\n",
       " 0.44852957174822566\n",
       " 0.49099578180061504\n",
       " 0.5423505565005856\n",
       " 0.5951202294339194\n",
       " ⋮\n",
       " 0.8367313458445514\n",
       " 0.8560362099398299\n",
       " 0.8765232849420324\n",
       " 0.902279354891852\n",
       " 0.928341034591938\n",
       " 0.9424088958914856\n",
       " 0.9486330461551061\n",
       " 0.9521029371562085\n",
       " 0.9552602518874201\n",
       " 0.9605250556635135\n",
       " 0.974820620977865\n",
       " 1.0"
      ]
     },
     "execution_count": 11,
     "metadata": {},
     "output_type": "execute_result"
    }
   ],
   "source": [
    "qx_ep[1] = 0\n",
    "qx_ep"
   ]
  },
  {
   "cell_type": "code",
   "execution_count": 13,
   "id": "7b94c8e1-98de-4625-8eb4-bbdd0a5da993",
   "metadata": {
    "execution": {
     "iopub.execute_input": "2021-05-26T09:08:47.427000+02:00",
     "iopub.status.busy": "2021-05-26T09:08:47.427000+02:00",
     "iopub.status.idle": "2021-05-26T09:08:47.431000+02:00",
     "shell.execute_reply": "2021-05-26T09:08:47.430000+02:00"
    },
    "tags": []
   },
   "outputs": [
    {
     "data": {
      "text/plain": [
       "31-element Vector{Float64}:\n",
       " 0.0\n",
       " 0.03333333333333333\n",
       " 0.06666666666666667\n",
       " 0.1\n",
       " 0.13333333333333333\n",
       " 0.16666666666666666\n",
       " 0.2\n",
       " 0.23333333333333334\n",
       " 0.26666666666666666\n",
       " 0.3\n",
       " 0.3333333333333333\n",
       " 0.36666666666666664\n",
       " 0.4\n",
       " ⋮\n",
       " 0.6333333333333333\n",
       " 0.6666666666666666\n",
       " 0.7\n",
       " 0.7333333333333333\n",
       " 0.7666666666666667\n",
       " 0.8\n",
       " 0.8333333333333334\n",
       " 0.8666666666666667\n",
       " 0.9\n",
       " 0.9333333333333333\n",
       " 0.9666666666666667\n",
       " 1.0"
      ]
     },
     "execution_count": 13,
     "metadata": {},
     "output_type": "execute_result"
    }
   ],
   "source": [
    "# equal length\n",
    "qx_el = [i for i in 0:(1/30):1]"
   ]
  },
  {
   "cell_type": "code",
   "execution_count": null,
   "id": "5b4a0516-3e20-411a-b5e0-ea469cdad9d5",
   "metadata": {},
   "outputs": [],
   "source": []
  },
  {
   "cell_type": "code",
   "execution_count": null,
   "id": "0b471d6b-57b2-448a-bb99-f27de52c7635",
   "metadata": {},
   "outputs": [],
   "source": []
  },
  {
   "cell_type": "code",
   "execution_count": null,
   "id": "0cf86ad1-e49d-4b0e-87af-c33a0b1dfc55",
   "metadata": {},
   "outputs": [],
   "source": []
  },
  {
   "cell_type": "code",
   "execution_count": null,
   "id": "bf9f24fb-1896-4b59-8f1e-152a656ec9fa",
   "metadata": {},
   "outputs": [],
   "source": []
  },
  {
   "cell_type": "code",
   "execution_count": null,
   "id": "1d5c402d-2557-444f-ad3b-572f6e4f5f4c",
   "metadata": {},
   "outputs": [],
   "source": [
    "min = minimum(cmf_data)\n",
    "max = maximum(cmf_data);\n",
    "binWidth = (max - min) / n\n",
    "\n",
    "state = ceil.((cmf_data .- min) ./ binWidth)\n",
    "state[argmin(state)] = 1\n",
    "state = Int16.(state)"
   ]
  },
  {
   "cell_type": "code",
   "execution_count": null,
   "id": "a422c600-db37-428c-8174-311746213f7b",
   "metadata": {
    "tags": []
   },
   "outputs": [],
   "source": [
    "T = zeros(n, n) # transition matrix\n",
    "len = length(cmf_data)\n",
    "for i in 2:len\n",
    "    T[ state[i-1], state[i] ] = T[ state[i-1], state[i] ] + 1\n",
    "end\n",
    "T"
   ]
  },
  {
   "cell_type": "code",
   "execution_count": null,
   "id": "a5ca4f08-27aa-41f7-b354-004e18bd1369",
   "metadata": {},
   "outputs": [],
   "source": []
  },
  {
   "cell_type": "code",
   "execution_count": null,
   "id": "032e441e-a3a1-4101-a190-9bd374c8e52f",
   "metadata": {},
   "outputs": [],
   "source": []
  },
  {
   "cell_type": "code",
   "execution_count": null,
   "id": "9fd42efd-79de-4e3c-b3b8-dfec7f0c8035",
   "metadata": {
    "tags": []
   },
   "outputs": [],
   "source": [
    "@model HiddenMarkovModel(y, K) = begin\n",
    "    # get observation length\n",
    "    N = length(y)\n",
    "    # state sequence\n",
    "    s = tzeros(Int, N)\n",
    "    # emission matrix\n",
    "    m = Vector(undef, K)\n",
    "    # transition matrix\n",
    "    T = Vector{Vector}(undef, K)\n",
    "    \n",
    "    # assign distri to each element of T & m\n",
    "    for i = 1:K\n",
    "        T[i] ~ Dirichlet(ones(K)/K)\n",
    "        m[i] ~ \n",
    "    end\n",
    "    \n",
    "    # observe each point of input\n",
    "    s[1] ~ Categorical(K)\n",
    "#     y[1] ~ Uniform()\n",
    "    \n",
    "    for i = 2:N\n",
    "        s[i] ~ Categorical( vec( T[ s[i-1] ] ) )\n",
    "        y[i] ~ Uniform()\n",
    "    end\n",
    "end;"
   ]
  },
  {
   "cell_type": "code",
   "execution_count": null,
   "id": "e096cd6f-eb10-4c7f-af13-c9958b51de84",
   "metadata": {
    "tags": []
   },
   "outputs": [],
   "source": [
    "y = state[1:15]"
   ]
  },
  {
   "cell_type": "code",
   "execution_count": null,
   "id": "d788fc98-a674-4747-93fb-1b42de00b76e",
   "metadata": {
    "tags": []
   },
   "outputs": [],
   "source": [
    "plot(y, ylim=(0,11))"
   ]
  },
  {
   "cell_type": "code",
   "execution_count": null,
   "id": "2f045774-4d4a-4fa5-b95d-424048601362",
   "metadata": {
    "tags": []
   },
   "outputs": [],
   "source": [
    "# run sampler, Hamiltonian(leapfrog step size, n_leapfrog step), Particle Gibbs(n_particles, space)\n",
    "g = Gibbs(HMC(0.001, 7, :m, :T), PG(20, :s)) \n",
    "c = sample(HiddenMarkovModel(y, n), g, 15); # return 100 samples"
   ]
  },
  {
   "cell_type": "code",
   "execution_count": null,
   "id": "51cd62b2-33a9-4528-84cb-e7e62daf28ab",
   "metadata": {
    "tags": []
   },
   "outputs": [],
   "source": [
    "m_set = c[:,101:111,:].value.data\n",
    "s_set = c[:,112:126,:].value.data;\n",
    "\n",
    "Ns = 1:length(c)"
   ]
  },
  {
   "cell_type": "code",
   "execution_count": null,
   "id": "202a0890-3c7d-4eb2-b10b-d045689945eb",
   "metadata": {
    "tags": []
   },
   "outputs": [],
   "source": [
    "animation = @animate for N in Ns\n",
    "    m = m_set[i, :]; \n",
    "    s = Int.(s_set[i,:]);\n",
    "    emissions = collect(skipmissing(m[s]))\n",
    "    \n",
    "    p = plot(y, c = :red,\n",
    "        size = (500, 250),\n",
    "        xlabel = \"Time\",\n",
    "        ylabel = \"State\",\n",
    "        legend = :topright, label = \"True data\",\n",
    "        xlim = (0,15));\n",
    "#         ylim = (-1,5));\n",
    "    plot!(emissions, color = :blue, label = \"Sample $N\")\n",
    "end every 10;"
   ]
  },
  {
   "cell_type": "code",
   "execution_count": null,
   "id": "e9476ec2-1491-4fbd-b6a1-47bc6ae2917d",
   "metadata": {},
   "outputs": [],
   "source": []
  },
  {
   "cell_type": "markdown",
   "id": "275a7f45-9078-4a86-a6a3-606cb767c3c3",
   "metadata": {},
   "source": [
    "### try BSRN data"
   ]
  },
  {
   "cell_type": "code",
   "execution_count": 98,
   "id": "519644f8-243c-47bb-801a-f0ee006b76b5",
   "metadata": {
    "collapsed": true,
    "execution": {
     "iopub.execute_input": "2021-07-19T17:39:52.173000+02:00",
     "iopub.status.busy": "2021-07-19T17:39:52.173000+02:00",
     "iopub.status.idle": "2021-07-19T17:39:52.182000+02:00",
     "shell.execute_reply": "2021-07-19T17:39:52.182000+02:00"
    },
    "jupyter": {
     "outputs_hidden": true,
     "source_hidden": true
    },
    "tags": []
   },
   "outputs": [
    {
     "data": {
      "text/plain": [
       "29-element Vector{SubString{String}}:\n",
       " \"Date/Time\"\n",
       " \"Height [m]\"\n",
       " \"SWD [W/m**2]\"\n",
       " \"SWD std dev [W/m**2]\"\n",
       " \"SWD min [W/m**2]\"\n",
       " \"SWD max [W/m**2]\"\n",
       " \"DIR [W/m**2]\"\n",
       " \"DIR std dev [W/m**2]\"\n",
       " \"DIR min [W/m**2]\"\n",
       " \"DIR max [W/m**2]\"\n",
       " \"DIF [W/m**2]\"\n",
       " \"DIF std dev [W/m**2]\"\n",
       " \"DIF min [W/m**2]\"\n",
       " ⋮\n",
       " \"LWD max [W/m**2]\"\n",
       " \"SWU [W/m**2]\"\n",
       " \"SWU std dev [W/m**2]\"\n",
       " \"SWU min [W/m**2]\"\n",
       " \"SWU max [W/m**2]\"\n",
       " \"LWU [W/m**2]\"\n",
       " \"LWU std dev [W/m**2]\"\n",
       " \"LWU min [W/m**2]\"\n",
       " \"LWU max [W/m**2]\"\n",
       " \"T2 [°C]\"\n",
       " \"RH [%]\"\n",
       " \"PoPoPoPo [hPa]\""
      ]
     },
     "execution_count": 98,
     "metadata": {},
     "output_type": "execute_result"
    }
   ],
   "source": [
    "colnames = split(\"Date/Time\tHeight [m]\tSWD [W/m**2]\tSWD std dev [W/m**2]\tSWD min [W/m**2]\tSWD max [W/m**2]\tDIR [W/m**2]\tDIR std dev [W/m**2]\tDIR min [W/m**2]\tDIR max [W/m**2]\tDIF [W/m**2]\tDIF std dev [W/m**2]\tDIF min [W/m**2]\tDIF max [W/m**2]\tLWD [W/m**2]\tLWD std dev [W/m**2]\tLWD min [W/m**2]\tLWD max [W/m**2]\tSWU [W/m**2]\tSWU std dev [W/m**2]\tSWU min [W/m**2]\tSWU max [W/m**2]\tLWU [W/m**2]\tLWU std dev [W/m**2]\tLWU min [W/m**2]\tLWU max [W/m**2]\tT2 [°C]\tRH [%]\tPoPoPoPo [hPa]\", '\t')"
   ]
  },
  {
   "cell_type": "code",
   "execution_count": 100,
   "id": "b2f8079a-d72b-4910-8998-569bedb12f10",
   "metadata": {
    "collapsed": true,
    "execution": {
     "iopub.execute_input": "2021-07-19T17:40:50.241000+02:00",
     "iopub.status.busy": "2021-07-19T17:40:50.241000+02:00",
     "iopub.status.idle": "2021-07-19T17:40:50.341000+02:00",
     "shell.execute_reply": "2021-07-19T17:40:50.341000+02:00"
    },
    "jupyter": {
     "outputs_hidden": true,
     "source_hidden": true
    },
    "scrolled": true,
    "tags": []
   },
   "outputs": [
    {
     "data": {
      "text/html": [
       "<table class=\"data-frame\"><thead><tr><th></th><th>Column1</th><th>Column2</th><th>Column3</th><th>Column4</th><th>Column5</th><th>Column6</th><th>Column7</th><th>Column8</th><th>Column9</th><th>Column10</th><th>Column11</th><th>Column12</th><th>Column13</th><th>Column14</th><th>Column15</th><th>Column16</th><th>Column17</th><th>Column18</th><th>Column19</th><th>Column20</th></tr><tr><th></th><th>DateTim…</th><th>Int64</th><th>Int64?</th><th>Float64?</th><th>Int64?</th><th>Int64?</th><th>Int64?</th><th>Float64?</th><th>Int64?</th><th>Int64?</th><th>Int64?</th><th>Float64?</th><th>Int64?</th><th>Int64?</th><th>Int64?</th><th>Float64?</th><th>Int64?</th><th>Int64?</th><th>Int64?</th><th>Float64?</th></tr></thead><tbody><p>44,640 rows × 29 columns (omitted printing of 9 columns)</p><tr><th>1</th><td>2020-07-01T00:00:00</td><td>2</td><td><em>missing</em></td><td><em>missing</em></td><td><em>missing</em></td><td><em>missing</em></td><td><em>missing</em></td><td><em>missing</em></td><td><em>missing</em></td><td><em>missing</em></td><td><em>missing</em></td><td><em>missing</em></td><td><em>missing</em></td><td><em>missing</em></td><td><em>missing</em></td><td><em>missing</em></td><td><em>missing</em></td><td><em>missing</em></td><td><em>missing</em></td><td><em>missing</em></td></tr><tr><th>2</th><td>2020-07-01T00:01:00</td><td>2</td><td>0</td><td>0.1</td><td>0</td><td>0</td><td>0</td><td>0.0</td><td>0</td><td>0</td><td>0</td><td>0.2</td><td>-1</td><td>0</td><td>337</td><td>0.2</td><td>337</td><td>338</td><td>0</td><td>0.1</td></tr><tr><th>3</th><td>2020-07-01T00:02:00</td><td>2</td><td>0</td><td>0.1</td><td>0</td><td>0</td><td>0</td><td>0.0</td><td>0</td><td>0</td><td>0</td><td>0.2</td><td>-1</td><td>0</td><td>337</td><td>0.1</td><td>337</td><td>338</td><td>0</td><td>0.1</td></tr><tr><th>4</th><td>2020-07-01T00:03:00</td><td>2</td><td>0</td><td>0.1</td><td>0</td><td>0</td><td>0</td><td>0.0</td><td>0</td><td>0</td><td>0</td><td>0.2</td><td>-1</td><td>1</td><td>337</td><td>0.1</td><td>337</td><td>337</td><td>0</td><td>0.1</td></tr><tr><th>5</th><td>2020-07-01T00:04:00</td><td>2</td><td>0</td><td>0.1</td><td>0</td><td>0</td><td>0</td><td>0.0</td><td>0</td><td>0</td><td>0</td><td>0.3</td><td>-1</td><td>1</td><td>337</td><td>0.1</td><td>337</td><td>337</td><td>0</td><td>0.1</td></tr><tr><th>6</th><td>2020-07-01T00:05:00</td><td>2</td><td>0</td><td>0.1</td><td>0</td><td>0</td><td>0</td><td>0.0</td><td>0</td><td>0</td><td>0</td><td>0.2</td><td>-1</td><td>0</td><td>337</td><td>0.1</td><td>337</td><td>337</td><td>0</td><td>0.1</td></tr><tr><th>7</th><td>2020-07-01T00:06:00</td><td>2</td><td>0</td><td>0.1</td><td>0</td><td>0</td><td>0</td><td>0.0</td><td>0</td><td>0</td><td>0</td><td>0.3</td><td>-1</td><td>1</td><td>337</td><td>0.1</td><td>336</td><td>337</td><td>0</td><td>0.1</td></tr><tr><th>8</th><td>2020-07-01T00:07:00</td><td>2</td><td>0</td><td>0.1</td><td>0</td><td>0</td><td>0</td><td>0.0</td><td>0</td><td>0</td><td>0</td><td>0.2</td><td>-1</td><td>0</td><td>337</td><td>0.1</td><td>336</td><td>337</td><td>0</td><td>0.1</td></tr><tr><th>9</th><td>2020-07-01T00:08:00</td><td>2</td><td>0</td><td>0.1</td><td>0</td><td>0</td><td>0</td><td>0.0</td><td>0</td><td>0</td><td>0</td><td>0.2</td><td>0</td><td>1</td><td>337</td><td>0.1</td><td>337</td><td>337</td><td>0</td><td>0.1</td></tr><tr><th>10</th><td>2020-07-01T00:09:00</td><td>2</td><td>0</td><td>0.1</td><td>0</td><td>0</td><td>0</td><td>0.0</td><td>0</td><td>0</td><td>0</td><td>0.2</td><td>-1</td><td>0</td><td>337</td><td>0.1</td><td>336</td><td>337</td><td>0</td><td>0.1</td></tr><tr><th>11</th><td>2020-07-01T00:10:00</td><td>2</td><td>0</td><td>0.1</td><td>0</td><td>0</td><td>0</td><td>0.0</td><td>0</td><td>0</td><td>0</td><td>0.3</td><td>-1</td><td>1</td><td>337</td><td>0.2</td><td>337</td><td>337</td><td>0</td><td>0.1</td></tr><tr><th>12</th><td>2020-07-01T00:11:00</td><td>2</td><td>0</td><td>0.1</td><td>0</td><td>0</td><td>0</td><td>0.0</td><td>0</td><td>0</td><td>0</td><td>0.2</td><td>-1</td><td>0</td><td>337</td><td>0.2</td><td>337</td><td>338</td><td>0</td><td>0.1</td></tr><tr><th>13</th><td>2020-07-01T00:12:00</td><td>2</td><td>0</td><td>0.1</td><td>0</td><td>0</td><td>0</td><td>0.0</td><td>0</td><td>0</td><td>0</td><td>0.2</td><td>0</td><td>1</td><td>337</td><td>0.1</td><td>337</td><td>337</td><td>0</td><td>0.1</td></tr><tr><th>14</th><td>2020-07-01T00:13:00</td><td>2</td><td>0</td><td>0.1</td><td>0</td><td>0</td><td>0</td><td>0.0</td><td>0</td><td>0</td><td>0</td><td>0.2</td><td>0</td><td>1</td><td>337</td><td>0.1</td><td>337</td><td>337</td><td>0</td><td>0.1</td></tr><tr><th>15</th><td>2020-07-01T00:14:00</td><td>2</td><td>0</td><td>0.1</td><td>0</td><td>0</td><td>0</td><td>0.0</td><td>0</td><td>0</td><td>0</td><td>0.2</td><td>0</td><td>0</td><td>337</td><td>0.1</td><td>337</td><td>337</td><td>0</td><td>0.1</td></tr><tr><th>16</th><td>2020-07-01T00:15:00</td><td>2</td><td>0</td><td>0.1</td><td>0</td><td>0</td><td>0</td><td>0.0</td><td>0</td><td>0</td><td>0</td><td>0.3</td><td>-1</td><td>1</td><td>337</td><td>0.1</td><td>337</td><td>337</td><td>0</td><td>0.1</td></tr><tr><th>17</th><td>2020-07-01T00:16:00</td><td>2</td><td>0</td><td>0.1</td><td>0</td><td>0</td><td>0</td><td>0.0</td><td>0</td><td>0</td><td>0</td><td>0.2</td><td>-1</td><td>0</td><td>337</td><td>0.2</td><td>336</td><td>337</td><td>0</td><td>0.1</td></tr><tr><th>18</th><td>2020-07-01T00:17:00</td><td>2</td><td>0</td><td>0.1</td><td>0</td><td>0</td><td>0</td><td>0.0</td><td>0</td><td>0</td><td>0</td><td>0.2</td><td>0</td><td>0</td><td>337</td><td>0.1</td><td>337</td><td>337</td><td>0</td><td>0.1</td></tr><tr><th>19</th><td>2020-07-01T00:18:00</td><td>2</td><td>0</td><td>0.1</td><td>0</td><td>0</td><td>0</td><td>0.0</td><td>0</td><td>0</td><td>0</td><td>0.3</td><td>-1</td><td>1</td><td>337</td><td>0.1</td><td>337</td><td>337</td><td>0</td><td>0.1</td></tr><tr><th>20</th><td>2020-07-01T00:19:00</td><td>2</td><td>0</td><td>0.1</td><td>0</td><td>0</td><td>0</td><td>0.0</td><td>0</td><td>0</td><td>0</td><td>0.2</td><td>-1</td><td>1</td><td>337</td><td>0.1</td><td>337</td><td>337</td><td>0</td><td>0.1</td></tr><tr><th>21</th><td>2020-07-01T00:20:00</td><td>2</td><td>0</td><td>0.1</td><td>0</td><td>0</td><td>0</td><td>0.0</td><td>0</td><td>0</td><td>0</td><td>0.2</td><td>-1</td><td>0</td><td>337</td><td>0.1</td><td>337</td><td>337</td><td>0</td><td>0.1</td></tr><tr><th>22</th><td>2020-07-01T00:21:00</td><td>2</td><td>0</td><td>0.1</td><td>0</td><td>0</td><td>0</td><td>0.0</td><td>0</td><td>0</td><td>0</td><td>0.2</td><td>0</td><td>0</td><td>337</td><td>0.2</td><td>337</td><td>337</td><td>0</td><td>0.1</td></tr><tr><th>23</th><td>2020-07-01T00:22:00</td><td>2</td><td>0</td><td>0.1</td><td>0</td><td>0</td><td>0</td><td>0.0</td><td>0</td><td>0</td><td>0</td><td>0.2</td><td>-1</td><td>1</td><td>337</td><td>0.2</td><td>337</td><td>337</td><td>0</td><td>0.1</td></tr><tr><th>24</th><td>2020-07-01T00:23:00</td><td>2</td><td>0</td><td>0.1</td><td>0</td><td>0</td><td>0</td><td>0.0</td><td>0</td><td>0</td><td>0</td><td>0.2</td><td>0</td><td>0</td><td>337</td><td>0.1</td><td>337</td><td>337</td><td>0</td><td>0.1</td></tr><tr><th>25</th><td>2020-07-01T00:24:00</td><td>2</td><td>0</td><td>0.1</td><td>0</td><td>0</td><td>0</td><td>0.0</td><td>0</td><td>0</td><td>0</td><td>0.2</td><td>0</td><td>1</td><td>337</td><td>0.1</td><td>337</td><td>337</td><td>0</td><td>0.1</td></tr><tr><th>26</th><td>2020-07-01T00:25:00</td><td>2</td><td>0</td><td>0.1</td><td>0</td><td>0</td><td>0</td><td>0.0</td><td>0</td><td>0</td><td>0</td><td>0.3</td><td>-1</td><td>1</td><td>337</td><td>0.2</td><td>336</td><td>337</td><td>0</td><td>0.1</td></tr><tr><th>27</th><td>2020-07-01T00:26:00</td><td>2</td><td>0</td><td>0.1</td><td>0</td><td>0</td><td>0</td><td>0.0</td><td>0</td><td>0</td><td>0</td><td>0.2</td><td>0</td><td>1</td><td>337</td><td>0.2</td><td>336</td><td>337</td><td>0</td><td>0.1</td></tr><tr><th>28</th><td>2020-07-01T00:27:00</td><td>2</td><td>0</td><td>0.1</td><td>0</td><td>0</td><td>0</td><td>0.0</td><td>0</td><td>0</td><td>0</td><td>0.2</td><td>-1</td><td>0</td><td>337</td><td>0.2</td><td>337</td><td>337</td><td>0</td><td>0.1</td></tr><tr><th>29</th><td>2020-07-01T00:28:00</td><td>2</td><td>0</td><td>0.1</td><td>0</td><td>0</td><td>0</td><td>0.0</td><td>0</td><td>0</td><td>0</td><td>0.2</td><td>0</td><td>1</td><td>337</td><td>0.2</td><td>336</td><td>337</td><td>0</td><td>0.1</td></tr><tr><th>30</th><td>2020-07-01T00:29:00</td><td>2</td><td>0</td><td>0.1</td><td>0</td><td>0</td><td>0</td><td>0.0</td><td>0</td><td>0</td><td>0</td><td>0.3</td><td>-1</td><td>1</td><td>337</td><td>0.2</td><td>336</td><td>337</td><td>0</td><td>0.1</td></tr><tr><th>&vellip;</th><td>&vellip;</td><td>&vellip;</td><td>&vellip;</td><td>&vellip;</td><td>&vellip;</td><td>&vellip;</td><td>&vellip;</td><td>&vellip;</td><td>&vellip;</td><td>&vellip;</td><td>&vellip;</td><td>&vellip;</td><td>&vellip;</td><td>&vellip;</td><td>&vellip;</td><td>&vellip;</td><td>&vellip;</td><td>&vellip;</td><td>&vellip;</td><td>&vellip;</td></tr></tbody></table>"
      ],
      "text/latex": [
       "\\begin{tabular}{r|ccccccccccccccccccccc}\n",
       "\t& Column1 & Column2 & Column3 & Column4 & Column5 & Column6 & Column7 & Column8 & Column9 & Column10 & Column11 & Column12 & Column13 & Column14 & Column15 & Column16 & Column17 & Column18 & Column19 & Column20 & \\\\\n",
       "\t\\hline\n",
       "\t& DateTim… & Int64 & Int64? & Float64? & Int64? & Int64? & Int64? & Float64? & Int64? & Int64? & Int64? & Float64? & Int64? & Int64? & Int64? & Float64? & Int64? & Int64? & Int64? & Float64? & \\\\\n",
       "\t\\hline\n",
       "\t1 & 2020-07-01T00:00:00 & 2 & \\emph{missing} & \\emph{missing} & \\emph{missing} & \\emph{missing} & \\emph{missing} & \\emph{missing} & \\emph{missing} & \\emph{missing} & \\emph{missing} & \\emph{missing} & \\emph{missing} & \\emph{missing} & \\emph{missing} & \\emph{missing} & \\emph{missing} & \\emph{missing} & \\emph{missing} & \\emph{missing} & $\\dots$ \\\\\n",
       "\t2 & 2020-07-01T00:01:00 & 2 & 0 & 0.1 & 0 & 0 & 0 & 0.0 & 0 & 0 & 0 & 0.2 & -1 & 0 & 337 & 0.2 & 337 & 338 & 0 & 0.1 & $\\dots$ \\\\\n",
       "\t3 & 2020-07-01T00:02:00 & 2 & 0 & 0.1 & 0 & 0 & 0 & 0.0 & 0 & 0 & 0 & 0.2 & -1 & 0 & 337 & 0.1 & 337 & 338 & 0 & 0.1 & $\\dots$ \\\\\n",
       "\t4 & 2020-07-01T00:03:00 & 2 & 0 & 0.1 & 0 & 0 & 0 & 0.0 & 0 & 0 & 0 & 0.2 & -1 & 1 & 337 & 0.1 & 337 & 337 & 0 & 0.1 & $\\dots$ \\\\\n",
       "\t5 & 2020-07-01T00:04:00 & 2 & 0 & 0.1 & 0 & 0 & 0 & 0.0 & 0 & 0 & 0 & 0.3 & -1 & 1 & 337 & 0.1 & 337 & 337 & 0 & 0.1 & $\\dots$ \\\\\n",
       "\t6 & 2020-07-01T00:05:00 & 2 & 0 & 0.1 & 0 & 0 & 0 & 0.0 & 0 & 0 & 0 & 0.2 & -1 & 0 & 337 & 0.1 & 337 & 337 & 0 & 0.1 & $\\dots$ \\\\\n",
       "\t7 & 2020-07-01T00:06:00 & 2 & 0 & 0.1 & 0 & 0 & 0 & 0.0 & 0 & 0 & 0 & 0.3 & -1 & 1 & 337 & 0.1 & 336 & 337 & 0 & 0.1 & $\\dots$ \\\\\n",
       "\t8 & 2020-07-01T00:07:00 & 2 & 0 & 0.1 & 0 & 0 & 0 & 0.0 & 0 & 0 & 0 & 0.2 & -1 & 0 & 337 & 0.1 & 336 & 337 & 0 & 0.1 & $\\dots$ \\\\\n",
       "\t9 & 2020-07-01T00:08:00 & 2 & 0 & 0.1 & 0 & 0 & 0 & 0.0 & 0 & 0 & 0 & 0.2 & 0 & 1 & 337 & 0.1 & 337 & 337 & 0 & 0.1 & $\\dots$ \\\\\n",
       "\t10 & 2020-07-01T00:09:00 & 2 & 0 & 0.1 & 0 & 0 & 0 & 0.0 & 0 & 0 & 0 & 0.2 & -1 & 0 & 337 & 0.1 & 336 & 337 & 0 & 0.1 & $\\dots$ \\\\\n",
       "\t11 & 2020-07-01T00:10:00 & 2 & 0 & 0.1 & 0 & 0 & 0 & 0.0 & 0 & 0 & 0 & 0.3 & -1 & 1 & 337 & 0.2 & 337 & 337 & 0 & 0.1 & $\\dots$ \\\\\n",
       "\t12 & 2020-07-01T00:11:00 & 2 & 0 & 0.1 & 0 & 0 & 0 & 0.0 & 0 & 0 & 0 & 0.2 & -1 & 0 & 337 & 0.2 & 337 & 338 & 0 & 0.1 & $\\dots$ \\\\\n",
       "\t13 & 2020-07-01T00:12:00 & 2 & 0 & 0.1 & 0 & 0 & 0 & 0.0 & 0 & 0 & 0 & 0.2 & 0 & 1 & 337 & 0.1 & 337 & 337 & 0 & 0.1 & $\\dots$ \\\\\n",
       "\t14 & 2020-07-01T00:13:00 & 2 & 0 & 0.1 & 0 & 0 & 0 & 0.0 & 0 & 0 & 0 & 0.2 & 0 & 1 & 337 & 0.1 & 337 & 337 & 0 & 0.1 & $\\dots$ \\\\\n",
       "\t15 & 2020-07-01T00:14:00 & 2 & 0 & 0.1 & 0 & 0 & 0 & 0.0 & 0 & 0 & 0 & 0.2 & 0 & 0 & 337 & 0.1 & 337 & 337 & 0 & 0.1 & $\\dots$ \\\\\n",
       "\t16 & 2020-07-01T00:15:00 & 2 & 0 & 0.1 & 0 & 0 & 0 & 0.0 & 0 & 0 & 0 & 0.3 & -1 & 1 & 337 & 0.1 & 337 & 337 & 0 & 0.1 & $\\dots$ \\\\\n",
       "\t17 & 2020-07-01T00:16:00 & 2 & 0 & 0.1 & 0 & 0 & 0 & 0.0 & 0 & 0 & 0 & 0.2 & -1 & 0 & 337 & 0.2 & 336 & 337 & 0 & 0.1 & $\\dots$ \\\\\n",
       "\t18 & 2020-07-01T00:17:00 & 2 & 0 & 0.1 & 0 & 0 & 0 & 0.0 & 0 & 0 & 0 & 0.2 & 0 & 0 & 337 & 0.1 & 337 & 337 & 0 & 0.1 & $\\dots$ \\\\\n",
       "\t19 & 2020-07-01T00:18:00 & 2 & 0 & 0.1 & 0 & 0 & 0 & 0.0 & 0 & 0 & 0 & 0.3 & -1 & 1 & 337 & 0.1 & 337 & 337 & 0 & 0.1 & $\\dots$ \\\\\n",
       "\t20 & 2020-07-01T00:19:00 & 2 & 0 & 0.1 & 0 & 0 & 0 & 0.0 & 0 & 0 & 0 & 0.2 & -1 & 1 & 337 & 0.1 & 337 & 337 & 0 & 0.1 & $\\dots$ \\\\\n",
       "\t21 & 2020-07-01T00:20:00 & 2 & 0 & 0.1 & 0 & 0 & 0 & 0.0 & 0 & 0 & 0 & 0.2 & -1 & 0 & 337 & 0.1 & 337 & 337 & 0 & 0.1 & $\\dots$ \\\\\n",
       "\t22 & 2020-07-01T00:21:00 & 2 & 0 & 0.1 & 0 & 0 & 0 & 0.0 & 0 & 0 & 0 & 0.2 & 0 & 0 & 337 & 0.2 & 337 & 337 & 0 & 0.1 & $\\dots$ \\\\\n",
       "\t23 & 2020-07-01T00:22:00 & 2 & 0 & 0.1 & 0 & 0 & 0 & 0.0 & 0 & 0 & 0 & 0.2 & -1 & 1 & 337 & 0.2 & 337 & 337 & 0 & 0.1 & $\\dots$ \\\\\n",
       "\t24 & 2020-07-01T00:23:00 & 2 & 0 & 0.1 & 0 & 0 & 0 & 0.0 & 0 & 0 & 0 & 0.2 & 0 & 0 & 337 & 0.1 & 337 & 337 & 0 & 0.1 & $\\dots$ \\\\\n",
       "\t25 & 2020-07-01T00:24:00 & 2 & 0 & 0.1 & 0 & 0 & 0 & 0.0 & 0 & 0 & 0 & 0.2 & 0 & 1 & 337 & 0.1 & 337 & 337 & 0 & 0.1 & $\\dots$ \\\\\n",
       "\t26 & 2020-07-01T00:25:00 & 2 & 0 & 0.1 & 0 & 0 & 0 & 0.0 & 0 & 0 & 0 & 0.3 & -1 & 1 & 337 & 0.2 & 336 & 337 & 0 & 0.1 & $\\dots$ \\\\\n",
       "\t27 & 2020-07-01T00:26:00 & 2 & 0 & 0.1 & 0 & 0 & 0 & 0.0 & 0 & 0 & 0 & 0.2 & 0 & 1 & 337 & 0.2 & 336 & 337 & 0 & 0.1 & $\\dots$ \\\\\n",
       "\t28 & 2020-07-01T00:27:00 & 2 & 0 & 0.1 & 0 & 0 & 0 & 0.0 & 0 & 0 & 0 & 0.2 & -1 & 0 & 337 & 0.2 & 337 & 337 & 0 & 0.1 & $\\dots$ \\\\\n",
       "\t29 & 2020-07-01T00:28:00 & 2 & 0 & 0.1 & 0 & 0 & 0 & 0.0 & 0 & 0 & 0 & 0.2 & 0 & 1 & 337 & 0.2 & 336 & 337 & 0 & 0.1 & $\\dots$ \\\\\n",
       "\t30 & 2020-07-01T00:29:00 & 2 & 0 & 0.1 & 0 & 0 & 0 & 0.0 & 0 & 0 & 0 & 0.3 & -1 & 1 & 337 & 0.2 & 336 & 337 & 0 & 0.1 & $\\dots$ \\\\\n",
       "\t$\\dots$ & $\\dots$ & $\\dots$ & $\\dots$ & $\\dots$ & $\\dots$ & $\\dots$ & $\\dots$ & $\\dots$ & $\\dots$ & $\\dots$ & $\\dots$ & $\\dots$ & $\\dots$ & $\\dots$ & $\\dots$ & $\\dots$ & $\\dots$ & $\\dots$ & $\\dots$ & $\\dots$ &  \\\\\n",
       "\\end{tabular}\n"
      ],
      "text/plain": [
       "\u001b[1m44640×29 DataFrame\u001b[0m\n",
       "\u001b[1m   Row \u001b[0m│\u001b[1m Column1             \u001b[0m\u001b[1m Column2 \u001b[0m\u001b[1m Column3 \u001b[0m\u001b[1m Column4   \u001b[0m\u001b[1m Column5 \u001b[0m\u001b[1m Column6 \u001b[0m\u001b[1m Column7 \u001b[0m\u001b[1m Column8   \u001b[0m\u001b[1m Column9 \u001b[0m\u001b[1m Column10 \u001b[0m\u001b[1m Column11 \u001b[0m\u001b[1m Column12  \u001b[0m\u001b[1m Column13 \u001b[0m\u001b[1m Column14 \u001b[0m\u001b[1m Column15 \u001b[0m\u001b[1m Column16  \u001b[0m\u001b[1m Column17 \u001b[0m\u001b[1m Column18 \u001b[0m\u001b[1m \u001b[0m ⋯\n",
       "\u001b[1m       \u001b[0m│\u001b[90m DateTime…           \u001b[0m\u001b[90m Int64   \u001b[0m\u001b[90m Int64?  \u001b[0m\u001b[90m Float64?  \u001b[0m\u001b[90m Int64?  \u001b[0m\u001b[90m Int64?  \u001b[0m\u001b[90m Int64?  \u001b[0m\u001b[90m Float64?  \u001b[0m\u001b[90m Int64?  \u001b[0m\u001b[90m Int64?   \u001b[0m\u001b[90m Int64?   \u001b[0m\u001b[90m Float64?  \u001b[0m\u001b[90m Int64?   \u001b[0m\u001b[90m Int64?   \u001b[0m\u001b[90m Int64?   \u001b[0m\u001b[90m Float64?  \u001b[0m\u001b[90m Int64?   \u001b[0m\u001b[90m Int64?   \u001b[0m\u001b[90m \u001b[0m ⋯\n",
       "───────┼────────────────────────────────────────────────────────────────────────────────────────────────────────────────────────────────────────────────────────────────────────────────────────────────\n",
       "     1 │ 2020-07-01T00:00:00        2 \u001b[90m missing \u001b[0m\u001b[90m missing   \u001b[0m\u001b[90m missing \u001b[0m\u001b[90m missing \u001b[0m\u001b[90m missing \u001b[0m\u001b[90m missing   \u001b[0m\u001b[90m missing \u001b[0m\u001b[90m  missing \u001b[0m\u001b[90m  missing \u001b[0m\u001b[90m missing   \u001b[0m\u001b[90m  missing \u001b[0m\u001b[90m  missing \u001b[0m\u001b[90m  missing \u001b[0m\u001b[90m missing   \u001b[0m\u001b[90m  missing \u001b[0m\u001b[90m  missing \u001b[0m\u001b[90m \u001b[0m ⋯\n",
       "     2 │ 2020-07-01T00:01:00        2        0        0.1        0        0        0        0.0        0         0         0        0.2        -1         0       337        0.2       337       338\n",
       "     3 │ 2020-07-01T00:02:00        2        0        0.1        0        0        0        0.0        0         0         0        0.2        -1         0       337        0.1       337       338\n",
       "     4 │ 2020-07-01T00:03:00        2        0        0.1        0        0        0        0.0        0         0         0        0.2        -1         1       337        0.1       337       337\n",
       "     5 │ 2020-07-01T00:04:00        2        0        0.1        0        0        0        0.0        0         0         0        0.3        -1         1       337        0.1       337       337   ⋯\n",
       "     6 │ 2020-07-01T00:05:00        2        0        0.1        0        0        0        0.0        0         0         0        0.2        -1         0       337        0.1       337       337\n",
       "     7 │ 2020-07-01T00:06:00        2        0        0.1        0        0        0        0.0        0         0         0        0.3        -1         1       337        0.1       336       337\n",
       "     8 │ 2020-07-01T00:07:00        2        0        0.1        0        0        0        0.0        0         0         0        0.2        -1         0       337        0.1       336       337\n",
       "     9 │ 2020-07-01T00:08:00        2        0        0.1        0        0        0        0.0        0         0         0        0.2         0         1       337        0.1       337       337   ⋯\n",
       "    10 │ 2020-07-01T00:09:00        2        0        0.1        0        0        0        0.0        0         0         0        0.2        -1         0       337        0.1       336       337\n",
       "    11 │ 2020-07-01T00:10:00        2        0        0.1        0        0        0        0.0        0         0         0        0.3        -1         1       337        0.2       337       337\n",
       "   ⋮   │          ⋮              ⋮        ⋮         ⋮         ⋮        ⋮        ⋮         ⋮         ⋮        ⋮         ⋮          ⋮         ⋮         ⋮         ⋮          ⋮         ⋮         ⋮       ⋱\n",
       " 44631 │ 2020-07-31T23:50:00        2        0        0.1        0        0        0        0.0        0         0         0        0.3        -1         1       377        0.5       376       378\n",
       " 44632 │ 2020-07-31T23:51:00        2        0        0.1        0        0        0        0.0        0         0         0        0.3        -1         1       376        0.2       376       377   ⋯\n",
       " 44633 │ 2020-07-31T23:52:00        2        0        0.1        0        0        0        0.0        0         0         0        0.3        -1         1       377        0.5       376       378\n",
       " 44634 │ 2020-07-31T23:53:00        2        0        0.1        0        0        0        0.0        0         0         0        0.2        -1         0       377        0.2       376       377\n",
       " 44635 │ 2020-07-31T23:54:00        2        0        0.1        0        0        0        0.0        0         0         0        0.2        -1         0       375        0.4       375       376\n",
       " 44636 │ 2020-07-31T23:55:00        2        0        0.1        0        0        0        0.0        0         0         0        0.3        -1         1       375        0.3       375       376   ⋯\n",
       " 44637 │ 2020-07-31T23:56:00        2        0        0.1        0        0        0        0.0        0         0         0        0.2        -1         0       376        0.8       375       378\n",
       " 44638 │ 2020-07-31T23:57:00        2        0        0.1        0        0        0        0.0        0         0         0        0.3        -1         1       377        0.2       377       378\n",
       " 44639 │ 2020-07-31T23:58:00        2        0        0.1        0        0        0        0.0        0         0         0        0.3        -1         0       378        0.3       377       378\n",
       " 44640 │ 2020-07-31T23:59:00        2 \u001b[90m missing \u001b[0m\u001b[90m missing   \u001b[0m\u001b[90m missing \u001b[0m\u001b[90m missing \u001b[0m\u001b[90m missing \u001b[0m\u001b[90m missing   \u001b[0m\u001b[90m missing \u001b[0m\u001b[90m  missing \u001b[0m\u001b[90m  missing \u001b[0m\u001b[90m missing   \u001b[0m\u001b[90m  missing \u001b[0m\u001b[90m  missing \u001b[0m\u001b[90m  missing \u001b[0m\u001b[90m missing   \u001b[0m\u001b[90m  missing \u001b[0m\u001b[90m  missing \u001b[0m\u001b[90m \u001b[0m ⋯\n",
       "\u001b[36m                                                                                                                                                                       11 columns and 44619 rows omitted\u001b[0m"
      ]
     },
     "execution_count": 100,
     "metadata": {},
     "output_type": "execute_result"
    }
   ],
   "source": [
    "df = CSV.File(\"PAY_radiation_2020-07.tab\"; header=false, skipto=42, delim='\t', silencewarnings=true) |> DataFrame"
   ]
  },
  {
   "cell_type": "code",
   "execution_count": 101,
   "id": "59fe07b8-c039-4ce1-ac3b-2301da71045c",
   "metadata": {
    "collapsed": true,
    "execution": {
     "iopub.execute_input": "2021-07-19T17:41:12.486000+02:00",
     "iopub.status.busy": "2021-07-19T17:41:12.486000+02:00",
     "iopub.status.idle": "2021-07-19T17:41:12.644000+02:00",
     "shell.execute_reply": "2021-07-19T17:41:12.644000+02:00"
    },
    "jupyter": {
     "outputs_hidden": true,
     "source_hidden": true
    },
    "tags": []
   },
   "outputs": [
    {
     "data": {
      "text/html": [
       "<table class=\"data-frame\"><thead><tr><th></th><th>Date/Time</th><th>Height [m]</th><th>SWD [W/m**2]</th><th>SWD std dev [W/m**2]</th><th>SWD min [W/m**2]</th><th>SWD max [W/m**2]</th><th>DIR [W/m**2]</th><th>DIR std dev [W/m**2]</th><th>DIR min [W/m**2]</th><th>DIR max [W/m**2]</th><th>DIF [W/m**2]</th><th>DIF std dev [W/m**2]</th></tr><tr><th></th><th>DateTim…</th><th>Int64</th><th>Int64?</th><th>Float64?</th><th>Int64?</th><th>Int64?</th><th>Int64?</th><th>Float64?</th><th>Int64?</th><th>Int64?</th><th>Int64?</th><th>Float64?</th></tr></thead><tbody><p>44,640 rows × 29 columns (omitted printing of 17 columns)</p><tr><th>1</th><td>2020-07-01T00:00:00</td><td>2</td><td><em>missing</em></td><td><em>missing</em></td><td><em>missing</em></td><td><em>missing</em></td><td><em>missing</em></td><td><em>missing</em></td><td><em>missing</em></td><td><em>missing</em></td><td><em>missing</em></td><td><em>missing</em></td></tr><tr><th>2</th><td>2020-07-01T00:01:00</td><td>2</td><td>0</td><td>0.1</td><td>0</td><td>0</td><td>0</td><td>0.0</td><td>0</td><td>0</td><td>0</td><td>0.2</td></tr><tr><th>3</th><td>2020-07-01T00:02:00</td><td>2</td><td>0</td><td>0.1</td><td>0</td><td>0</td><td>0</td><td>0.0</td><td>0</td><td>0</td><td>0</td><td>0.2</td></tr><tr><th>4</th><td>2020-07-01T00:03:00</td><td>2</td><td>0</td><td>0.1</td><td>0</td><td>0</td><td>0</td><td>0.0</td><td>0</td><td>0</td><td>0</td><td>0.2</td></tr><tr><th>5</th><td>2020-07-01T00:04:00</td><td>2</td><td>0</td><td>0.1</td><td>0</td><td>0</td><td>0</td><td>0.0</td><td>0</td><td>0</td><td>0</td><td>0.3</td></tr><tr><th>6</th><td>2020-07-01T00:05:00</td><td>2</td><td>0</td><td>0.1</td><td>0</td><td>0</td><td>0</td><td>0.0</td><td>0</td><td>0</td><td>0</td><td>0.2</td></tr><tr><th>7</th><td>2020-07-01T00:06:00</td><td>2</td><td>0</td><td>0.1</td><td>0</td><td>0</td><td>0</td><td>0.0</td><td>0</td><td>0</td><td>0</td><td>0.3</td></tr><tr><th>8</th><td>2020-07-01T00:07:00</td><td>2</td><td>0</td><td>0.1</td><td>0</td><td>0</td><td>0</td><td>0.0</td><td>0</td><td>0</td><td>0</td><td>0.2</td></tr><tr><th>9</th><td>2020-07-01T00:08:00</td><td>2</td><td>0</td><td>0.1</td><td>0</td><td>0</td><td>0</td><td>0.0</td><td>0</td><td>0</td><td>0</td><td>0.2</td></tr><tr><th>10</th><td>2020-07-01T00:09:00</td><td>2</td><td>0</td><td>0.1</td><td>0</td><td>0</td><td>0</td><td>0.0</td><td>0</td><td>0</td><td>0</td><td>0.2</td></tr><tr><th>11</th><td>2020-07-01T00:10:00</td><td>2</td><td>0</td><td>0.1</td><td>0</td><td>0</td><td>0</td><td>0.0</td><td>0</td><td>0</td><td>0</td><td>0.3</td></tr><tr><th>12</th><td>2020-07-01T00:11:00</td><td>2</td><td>0</td><td>0.1</td><td>0</td><td>0</td><td>0</td><td>0.0</td><td>0</td><td>0</td><td>0</td><td>0.2</td></tr><tr><th>13</th><td>2020-07-01T00:12:00</td><td>2</td><td>0</td><td>0.1</td><td>0</td><td>0</td><td>0</td><td>0.0</td><td>0</td><td>0</td><td>0</td><td>0.2</td></tr><tr><th>14</th><td>2020-07-01T00:13:00</td><td>2</td><td>0</td><td>0.1</td><td>0</td><td>0</td><td>0</td><td>0.0</td><td>0</td><td>0</td><td>0</td><td>0.2</td></tr><tr><th>15</th><td>2020-07-01T00:14:00</td><td>2</td><td>0</td><td>0.1</td><td>0</td><td>0</td><td>0</td><td>0.0</td><td>0</td><td>0</td><td>0</td><td>0.2</td></tr><tr><th>16</th><td>2020-07-01T00:15:00</td><td>2</td><td>0</td><td>0.1</td><td>0</td><td>0</td><td>0</td><td>0.0</td><td>0</td><td>0</td><td>0</td><td>0.3</td></tr><tr><th>17</th><td>2020-07-01T00:16:00</td><td>2</td><td>0</td><td>0.1</td><td>0</td><td>0</td><td>0</td><td>0.0</td><td>0</td><td>0</td><td>0</td><td>0.2</td></tr><tr><th>18</th><td>2020-07-01T00:17:00</td><td>2</td><td>0</td><td>0.1</td><td>0</td><td>0</td><td>0</td><td>0.0</td><td>0</td><td>0</td><td>0</td><td>0.2</td></tr><tr><th>19</th><td>2020-07-01T00:18:00</td><td>2</td><td>0</td><td>0.1</td><td>0</td><td>0</td><td>0</td><td>0.0</td><td>0</td><td>0</td><td>0</td><td>0.3</td></tr><tr><th>20</th><td>2020-07-01T00:19:00</td><td>2</td><td>0</td><td>0.1</td><td>0</td><td>0</td><td>0</td><td>0.0</td><td>0</td><td>0</td><td>0</td><td>0.2</td></tr><tr><th>21</th><td>2020-07-01T00:20:00</td><td>2</td><td>0</td><td>0.1</td><td>0</td><td>0</td><td>0</td><td>0.0</td><td>0</td><td>0</td><td>0</td><td>0.2</td></tr><tr><th>22</th><td>2020-07-01T00:21:00</td><td>2</td><td>0</td><td>0.1</td><td>0</td><td>0</td><td>0</td><td>0.0</td><td>0</td><td>0</td><td>0</td><td>0.2</td></tr><tr><th>23</th><td>2020-07-01T00:22:00</td><td>2</td><td>0</td><td>0.1</td><td>0</td><td>0</td><td>0</td><td>0.0</td><td>0</td><td>0</td><td>0</td><td>0.2</td></tr><tr><th>24</th><td>2020-07-01T00:23:00</td><td>2</td><td>0</td><td>0.1</td><td>0</td><td>0</td><td>0</td><td>0.0</td><td>0</td><td>0</td><td>0</td><td>0.2</td></tr><tr><th>25</th><td>2020-07-01T00:24:00</td><td>2</td><td>0</td><td>0.1</td><td>0</td><td>0</td><td>0</td><td>0.0</td><td>0</td><td>0</td><td>0</td><td>0.2</td></tr><tr><th>26</th><td>2020-07-01T00:25:00</td><td>2</td><td>0</td><td>0.1</td><td>0</td><td>0</td><td>0</td><td>0.0</td><td>0</td><td>0</td><td>0</td><td>0.3</td></tr><tr><th>27</th><td>2020-07-01T00:26:00</td><td>2</td><td>0</td><td>0.1</td><td>0</td><td>0</td><td>0</td><td>0.0</td><td>0</td><td>0</td><td>0</td><td>0.2</td></tr><tr><th>28</th><td>2020-07-01T00:27:00</td><td>2</td><td>0</td><td>0.1</td><td>0</td><td>0</td><td>0</td><td>0.0</td><td>0</td><td>0</td><td>0</td><td>0.2</td></tr><tr><th>29</th><td>2020-07-01T00:28:00</td><td>2</td><td>0</td><td>0.1</td><td>0</td><td>0</td><td>0</td><td>0.0</td><td>0</td><td>0</td><td>0</td><td>0.2</td></tr><tr><th>30</th><td>2020-07-01T00:29:00</td><td>2</td><td>0</td><td>0.1</td><td>0</td><td>0</td><td>0</td><td>0.0</td><td>0</td><td>0</td><td>0</td><td>0.3</td></tr><tr><th>&vellip;</th><td>&vellip;</td><td>&vellip;</td><td>&vellip;</td><td>&vellip;</td><td>&vellip;</td><td>&vellip;</td><td>&vellip;</td><td>&vellip;</td><td>&vellip;</td><td>&vellip;</td><td>&vellip;</td><td>&vellip;</td></tr></tbody></table>"
      ],
      "text/latex": [
       "\\begin{tabular}{r|ccccccccccccc}\n",
       "\t& Date/Time & Height [m] & SWD [W/m**2] & SWD std dev [W/m**2] & SWD min [W/m**2] & SWD max [W/m**2] & DIR [W/m**2] & DIR std dev [W/m**2] & DIR min [W/m**2] & DIR max [W/m**2] & DIF [W/m**2] & DIF std dev [W/m**2] & \\\\\n",
       "\t\\hline\n",
       "\t& DateTim… & Int64 & Int64? & Float64? & Int64? & Int64? & Int64? & Float64? & Int64? & Int64? & Int64? & Float64? & \\\\\n",
       "\t\\hline\n",
       "\t1 & 2020-07-01T00:00:00 & 2 & \\emph{missing} & \\emph{missing} & \\emph{missing} & \\emph{missing} & \\emph{missing} & \\emph{missing} & \\emph{missing} & \\emph{missing} & \\emph{missing} & \\emph{missing} & $\\dots$ \\\\\n",
       "\t2 & 2020-07-01T00:01:00 & 2 & 0 & 0.1 & 0 & 0 & 0 & 0.0 & 0 & 0 & 0 & 0.2 & $\\dots$ \\\\\n",
       "\t3 & 2020-07-01T00:02:00 & 2 & 0 & 0.1 & 0 & 0 & 0 & 0.0 & 0 & 0 & 0 & 0.2 & $\\dots$ \\\\\n",
       "\t4 & 2020-07-01T00:03:00 & 2 & 0 & 0.1 & 0 & 0 & 0 & 0.0 & 0 & 0 & 0 & 0.2 & $\\dots$ \\\\\n",
       "\t5 & 2020-07-01T00:04:00 & 2 & 0 & 0.1 & 0 & 0 & 0 & 0.0 & 0 & 0 & 0 & 0.3 & $\\dots$ \\\\\n",
       "\t6 & 2020-07-01T00:05:00 & 2 & 0 & 0.1 & 0 & 0 & 0 & 0.0 & 0 & 0 & 0 & 0.2 & $\\dots$ \\\\\n",
       "\t7 & 2020-07-01T00:06:00 & 2 & 0 & 0.1 & 0 & 0 & 0 & 0.0 & 0 & 0 & 0 & 0.3 & $\\dots$ \\\\\n",
       "\t8 & 2020-07-01T00:07:00 & 2 & 0 & 0.1 & 0 & 0 & 0 & 0.0 & 0 & 0 & 0 & 0.2 & $\\dots$ \\\\\n",
       "\t9 & 2020-07-01T00:08:00 & 2 & 0 & 0.1 & 0 & 0 & 0 & 0.0 & 0 & 0 & 0 & 0.2 & $\\dots$ \\\\\n",
       "\t10 & 2020-07-01T00:09:00 & 2 & 0 & 0.1 & 0 & 0 & 0 & 0.0 & 0 & 0 & 0 & 0.2 & $\\dots$ \\\\\n",
       "\t11 & 2020-07-01T00:10:00 & 2 & 0 & 0.1 & 0 & 0 & 0 & 0.0 & 0 & 0 & 0 & 0.3 & $\\dots$ \\\\\n",
       "\t12 & 2020-07-01T00:11:00 & 2 & 0 & 0.1 & 0 & 0 & 0 & 0.0 & 0 & 0 & 0 & 0.2 & $\\dots$ \\\\\n",
       "\t13 & 2020-07-01T00:12:00 & 2 & 0 & 0.1 & 0 & 0 & 0 & 0.0 & 0 & 0 & 0 & 0.2 & $\\dots$ \\\\\n",
       "\t14 & 2020-07-01T00:13:00 & 2 & 0 & 0.1 & 0 & 0 & 0 & 0.0 & 0 & 0 & 0 & 0.2 & $\\dots$ \\\\\n",
       "\t15 & 2020-07-01T00:14:00 & 2 & 0 & 0.1 & 0 & 0 & 0 & 0.0 & 0 & 0 & 0 & 0.2 & $\\dots$ \\\\\n",
       "\t16 & 2020-07-01T00:15:00 & 2 & 0 & 0.1 & 0 & 0 & 0 & 0.0 & 0 & 0 & 0 & 0.3 & $\\dots$ \\\\\n",
       "\t17 & 2020-07-01T00:16:00 & 2 & 0 & 0.1 & 0 & 0 & 0 & 0.0 & 0 & 0 & 0 & 0.2 & $\\dots$ \\\\\n",
       "\t18 & 2020-07-01T00:17:00 & 2 & 0 & 0.1 & 0 & 0 & 0 & 0.0 & 0 & 0 & 0 & 0.2 & $\\dots$ \\\\\n",
       "\t19 & 2020-07-01T00:18:00 & 2 & 0 & 0.1 & 0 & 0 & 0 & 0.0 & 0 & 0 & 0 & 0.3 & $\\dots$ \\\\\n",
       "\t20 & 2020-07-01T00:19:00 & 2 & 0 & 0.1 & 0 & 0 & 0 & 0.0 & 0 & 0 & 0 & 0.2 & $\\dots$ \\\\\n",
       "\t21 & 2020-07-01T00:20:00 & 2 & 0 & 0.1 & 0 & 0 & 0 & 0.0 & 0 & 0 & 0 & 0.2 & $\\dots$ \\\\\n",
       "\t22 & 2020-07-01T00:21:00 & 2 & 0 & 0.1 & 0 & 0 & 0 & 0.0 & 0 & 0 & 0 & 0.2 & $\\dots$ \\\\\n",
       "\t23 & 2020-07-01T00:22:00 & 2 & 0 & 0.1 & 0 & 0 & 0 & 0.0 & 0 & 0 & 0 & 0.2 & $\\dots$ \\\\\n",
       "\t24 & 2020-07-01T00:23:00 & 2 & 0 & 0.1 & 0 & 0 & 0 & 0.0 & 0 & 0 & 0 & 0.2 & $\\dots$ \\\\\n",
       "\t25 & 2020-07-01T00:24:00 & 2 & 0 & 0.1 & 0 & 0 & 0 & 0.0 & 0 & 0 & 0 & 0.2 & $\\dots$ \\\\\n",
       "\t26 & 2020-07-01T00:25:00 & 2 & 0 & 0.1 & 0 & 0 & 0 & 0.0 & 0 & 0 & 0 & 0.3 & $\\dots$ \\\\\n",
       "\t27 & 2020-07-01T00:26:00 & 2 & 0 & 0.1 & 0 & 0 & 0 & 0.0 & 0 & 0 & 0 & 0.2 & $\\dots$ \\\\\n",
       "\t28 & 2020-07-01T00:27:00 & 2 & 0 & 0.1 & 0 & 0 & 0 & 0.0 & 0 & 0 & 0 & 0.2 & $\\dots$ \\\\\n",
       "\t29 & 2020-07-01T00:28:00 & 2 & 0 & 0.1 & 0 & 0 & 0 & 0.0 & 0 & 0 & 0 & 0.2 & $\\dots$ \\\\\n",
       "\t30 & 2020-07-01T00:29:00 & 2 & 0 & 0.1 & 0 & 0 & 0 & 0.0 & 0 & 0 & 0 & 0.3 & $\\dots$ \\\\\n",
       "\t$\\dots$ & $\\dots$ & $\\dots$ & $\\dots$ & $\\dots$ & $\\dots$ & $\\dots$ & $\\dots$ & $\\dots$ & $\\dots$ & $\\dots$ & $\\dots$ & $\\dots$ &  \\\\\n",
       "\\end{tabular}\n"
      ],
      "text/plain": [
       "\u001b[1m44640×29 DataFrame\u001b[0m\n",
       "\u001b[1m   Row \u001b[0m│\u001b[1m Date/Time           \u001b[0m\u001b[1m Height [m] \u001b[0m\u001b[1m SWD [W/m**2] \u001b[0m\u001b[1m SWD std dev [W/m**2] \u001b[0m\u001b[1m SWD min [W/m**2] \u001b[0m\u001b[1m SWD max [W/m**2] \u001b[0m\u001b[1m DIR [W/m**2] \u001b[0m\u001b[1m DIR std dev [W/m**2] \u001b[0m\u001b[1m DIR min [W/m**2] \u001b[0m\u001b[1m DIR max [W/m**2] \u001b[0m\u001b[1m DIF [W/m**2]\u001b[0m ⋯\n",
       "\u001b[1m       \u001b[0m│\u001b[90m DateTime…           \u001b[0m\u001b[90m Int64      \u001b[0m\u001b[90m Int64?       \u001b[0m\u001b[90m Float64?             \u001b[0m\u001b[90m Int64?           \u001b[0m\u001b[90m Int64?           \u001b[0m\u001b[90m Int64?       \u001b[0m\u001b[90m Float64?             \u001b[0m\u001b[90m Int64?           \u001b[0m\u001b[90m Int64?           \u001b[0m\u001b[90m Int64?      \u001b[0m ⋯\n",
       "───────┼────────────────────────────────────────────────────────────────────────────────────────────────────────────────────────────────────────────────────────────────────────────────────────────────\n",
       "     1 │ 2020-07-01T00:00:00           2 \u001b[90m      missing \u001b[0m\u001b[90m            missing   \u001b[0m\u001b[90m          missing \u001b[0m\u001b[90m          missing \u001b[0m\u001b[90m      missing \u001b[0m\u001b[90m            missing   \u001b[0m\u001b[90m          missing \u001b[0m\u001b[90m          missing \u001b[0m\u001b[90m      missing\u001b[0m ⋯\n",
       "     2 │ 2020-07-01T00:01:00           2             0                   0.1                 0                 0             0                   0.0                 0                 0             0\n",
       "     3 │ 2020-07-01T00:02:00           2             0                   0.1                 0                 0             0                   0.0                 0                 0             0\n",
       "     4 │ 2020-07-01T00:03:00           2             0                   0.1                 0                 0             0                   0.0                 0                 0             0\n",
       "     5 │ 2020-07-01T00:04:00           2             0                   0.1                 0                 0             0                   0.0                 0                 0             0 ⋯\n",
       "     6 │ 2020-07-01T00:05:00           2             0                   0.1                 0                 0             0                   0.0                 0                 0             0\n",
       "     7 │ 2020-07-01T00:06:00           2             0                   0.1                 0                 0             0                   0.0                 0                 0             0\n",
       "     8 │ 2020-07-01T00:07:00           2             0                   0.1                 0                 0             0                   0.0                 0                 0             0\n",
       "     9 │ 2020-07-01T00:08:00           2             0                   0.1                 0                 0             0                   0.0                 0                 0             0 ⋯\n",
       "    10 │ 2020-07-01T00:09:00           2             0                   0.1                 0                 0             0                   0.0                 0                 0             0\n",
       "    11 │ 2020-07-01T00:10:00           2             0                   0.1                 0                 0             0                   0.0                 0                 0             0\n",
       "   ⋮   │          ⋮               ⋮            ⋮                 ⋮                   ⋮                 ⋮               ⋮                 ⋮                   ⋮                 ⋮               ⋮       ⋱\n",
       " 44631 │ 2020-07-31T23:50:00           2             0                   0.1                 0                 0             0                   0.0                 0                 0             0\n",
       " 44632 │ 2020-07-31T23:51:00           2             0                   0.1                 0                 0             0                   0.0                 0                 0             0 ⋯\n",
       " 44633 │ 2020-07-31T23:52:00           2             0                   0.1                 0                 0             0                   0.0                 0                 0             0\n",
       " 44634 │ 2020-07-31T23:53:00           2             0                   0.1                 0                 0             0                   0.0                 0                 0             0\n",
       " 44635 │ 2020-07-31T23:54:00           2             0                   0.1                 0                 0             0                   0.0                 0                 0             0\n",
       " 44636 │ 2020-07-31T23:55:00           2             0                   0.1                 0                 0             0                   0.0                 0                 0             0 ⋯\n",
       " 44637 │ 2020-07-31T23:56:00           2             0                   0.1                 0                 0             0                   0.0                 0                 0             0\n",
       " 44638 │ 2020-07-31T23:57:00           2             0                   0.1                 0                 0             0                   0.0                 0                 0             0\n",
       " 44639 │ 2020-07-31T23:58:00           2             0                   0.1                 0                 0             0                   0.0                 0                 0             0\n",
       " 44640 │ 2020-07-31T23:59:00           2 \u001b[90m      missing \u001b[0m\u001b[90m            missing   \u001b[0m\u001b[90m          missing \u001b[0m\u001b[90m          missing \u001b[0m\u001b[90m      missing \u001b[0m\u001b[90m            missing   \u001b[0m\u001b[90m          missing \u001b[0m\u001b[90m          missing \u001b[0m\u001b[90m      missing\u001b[0m ⋯\n",
       "\u001b[36m                                                                                                                                                                       18 columns and 44619 rows omitted\u001b[0m"
      ]
     },
     "execution_count": 101,
     "metadata": {},
     "output_type": "execute_result"
    }
   ],
   "source": [
    "rename!(df, colnames)"
   ]
  },
  {
   "cell_type": "code",
   "execution_count": 111,
   "id": "a41f49e4-a074-474d-a19b-4dce2b7643af",
   "metadata": {
    "collapsed": true,
    "execution": {
     "iopub.execute_input": "2021-07-19T17:47:03.593000+02:00",
     "iopub.status.busy": "2021-07-19T17:47:03.593000+02:00",
     "iopub.status.idle": "2021-07-19T17:47:03.597000+02:00",
     "shell.execute_reply": "2021-07-19T17:47:03.597000+02:00"
    },
    "jupyter": {
     "outputs_hidden": true,
     "source_hidden": true
    },
    "tags": []
   },
   "outputs": [
    {
     "data": {
      "text/plain": [
       "44607-element Vector{Union{Missing, Int64}}:\n",
       " 0\n",
       " 0\n",
       " 0\n",
       " 0\n",
       " 0\n",
       " 0\n",
       " 0\n",
       " 0\n",
       " 0\n",
       " 0\n",
       " 0\n",
       " 0\n",
       " 0\n",
       " ⋮\n",
       " 0\n",
       " 0\n",
       " 0\n",
       " 0\n",
       " 0\n",
       " 0\n",
       " 0\n",
       " 0\n",
       " 0\n",
       " 0\n",
       " 0\n",
       " 0"
      ]
     },
     "execution_count": 111,
     "metadata": {},
     "output_type": "execute_result"
    }
   ],
   "source": [
    "rad = df.\"SWD [W/m**2]\""
   ]
  },
  {
   "cell_type": "code",
   "execution_count": 109,
   "id": "279496d4-401e-4b53-8798-9d8268111e16",
   "metadata": {
    "collapsed": true,
    "execution": {
     "iopub.execute_input": "2021-07-19T17:46:54.137000+02:00",
     "iopub.status.busy": "2021-07-19T17:46:54.137000+02:00",
     "iopub.status.idle": "2021-07-19T17:46:54.161000+02:00",
     "shell.execute_reply": "2021-07-19T17:46:54.161000+02:00"
    },
    "jupyter": {
     "outputs_hidden": true,
     "source_hidden": true
    },
    "tags": []
   },
   "outputs": [
    {
     "data": {
      "text/plain": [
       "44607-element Vector{Union{Missing, Int64}}:\n",
       " 0\n",
       " 0\n",
       " 0\n",
       " 0\n",
       " 0\n",
       " 0\n",
       " 0\n",
       " 0\n",
       " 0\n",
       " 0\n",
       " 0\n",
       " 0\n",
       " 0\n",
       " ⋮\n",
       " 0\n",
       " 0\n",
       " 0\n",
       " 0\n",
       " 0\n",
       " 0\n",
       " 0\n",
       " 0\n",
       " 0\n",
       " 0\n",
       " 0\n",
       " 0"
      ]
     },
     "execution_count": 109,
     "metadata": {},
     "output_type": "execute_result"
    }
   ],
   "source": [
    "rad = filter!(rad -> !ismissing(rad), rad)"
   ]
  },
  {
   "cell_type": "code",
   "execution_count": 112,
   "id": "86f0cf03-ac02-44d8-8585-59387c581fae",
   "metadata": {
    "collapsed": true,
    "execution": {
     "iopub.execute_input": "2021-07-19T17:47:16.451000+02:00",
     "iopub.status.busy": "2021-07-19T17:47:16.451000+02:00",
     "iopub.status.idle": "2021-07-19T17:47:16.468000+02:00",
     "shell.execute_reply": "2021-07-19T17:47:16.468000+02:00"
    },
    "jupyter": {
     "outputs_hidden": true,
     "source_hidden": true
    },
    "tags": []
   },
   "outputs": [
    {
     "ename": "LoadError",
     "evalue": "MethodError: no method matching describe(::Vector{Union{Missing, Int64}})\n\u001b[0mClosest candidates are:\n\u001b[0m  describe(\u001b[91m::AbstractDataFrame\u001b[39m; cols) at C:\\Users\\xinyuan.hou\\.julia\\packages\\DataFrames\\nxjiD\\src\\abstractdataframe\\abstractdataframe.jl:573\n\u001b[0m  describe(\u001b[91m::AbstractDataFrame\u001b[39m, \u001b[91m::Union{Symbol, Pair{var\"#s15\", var\"#s14\"} where {var\"#s15\"<:Union{Function, Type}, var\"#s14\"<:Union{AbstractString, Symbol}}}...\u001b[39m; cols) at C:\\Users\\xinyuan.hou\\.julia\\packages\\DataFrames\\nxjiD\\src\\abstractdataframe\\abstractdataframe.jl:570",
     "output_type": "error",
     "traceback": [
      "MethodError: no method matching describe(::Vector{Union{Missing, Int64}})\n\u001b[0mClosest candidates are:\n\u001b[0m  describe(\u001b[91m::AbstractDataFrame\u001b[39m; cols) at C:\\Users\\xinyuan.hou\\.julia\\packages\\DataFrames\\nxjiD\\src\\abstractdataframe\\abstractdataframe.jl:573\n\u001b[0m  describe(\u001b[91m::AbstractDataFrame\u001b[39m, \u001b[91m::Union{Symbol, Pair{var\"#s15\", var\"#s14\"} where {var\"#s15\"<:Union{Function, Type}, var\"#s14\"<:Union{AbstractString, Symbol}}}...\u001b[39m; cols) at C:\\Users\\xinyuan.hou\\.julia\\packages\\DataFrames\\nxjiD\\src\\abstractdataframe\\abstractdataframe.jl:570",
      "",
      "Stacktrace:",
      " [1] top-level scope",
      "   @ In[112]:1",
      " [2] eval",
      "   @ .\\boot.jl:360 [inlined]",
      " [3] include_string(mapexpr::typeof(REPL.softscope), mod::Module, code::String, filename::String)",
      "   @ Base .\\loading.jl:1094"
     ]
    }
   ],
   "source": [
    "describe(rad)"
   ]
  },
  {
   "cell_type": "code",
   "execution_count": 114,
   "id": "4d6376f5-4808-447f-a300-b42f094105a0",
   "metadata": {
    "collapsed": true,
    "execution": {
     "iopub.execute_input": "2021-07-19T17:47:31.139000+02:00",
     "iopub.status.busy": "2021-07-19T17:47:31.139000+02:00",
     "iopub.status.idle": "2021-07-19T17:47:31.581000+02:00",
     "shell.execute_reply": "2021-07-19T17:47:31.581000+02:00"
    },
    "jupyter": {
     "outputs_hidden": true,
     "source_hidden": true
    },
    "tags": []
   },
   "outputs": [
    {
     "data": {
      "text/plain": [
       "1277"
      ]
     },
     "execution_count": 114,
     "metadata": {},
     "output_type": "execute_result"
    }
   ],
   "source": [
    "maximum(rad)"
   ]
  },
  {
   "cell_type": "code",
   "execution_count": 115,
   "id": "0222c299-dd2e-4da1-a8fe-92bf63654c4b",
   "metadata": {
    "collapsed": true,
    "execution": {
     "iopub.execute_input": "2021-07-19T17:47:38.443000+02:00",
     "iopub.status.busy": "2021-07-19T17:47:38.443000+02:00",
     "iopub.status.idle": "2021-07-19T17:47:38.564000+02:00",
     "shell.execute_reply": "2021-07-19T17:47:38.564000+02:00"
    },
    "jupyter": {
     "outputs_hidden": true,
     "source_hidden": true
    }
   },
   "outputs": [
    {
     "data": {
      "text/plain": [
       "-1"
      ]
     },
     "execution_count": 115,
     "metadata": {},
     "output_type": "execute_result"
    }
   ],
   "source": [
    "minimum(rad)"
   ]
  },
  {
   "cell_type": "code",
   "execution_count": null,
   "id": "9b069de2-e4da-49ec-ada7-5e72ee34bf45",
   "metadata": {
    "collapsed": true,
    "jupyter": {
     "outputs_hidden": true,
     "source_hidden": true
    }
   },
   "outputs": [],
   "source": []
  },
  {
   "cell_type": "code",
   "execution_count": 1,
   "id": "6f60088a-005c-4832-b10f-12502d2fb471",
   "metadata": {
    "execution": {
     "iopub.execute_input": "2021-08-16T15:29:17.810000+02:00",
     "iopub.status.busy": "2021-08-16T15:29:16.941000+02:00",
     "iopub.status.idle": "2021-08-16T15:29:24.831000+02:00",
     "shell.execute_reply": "2021-08-16T15:29:24.799000+02:00"
    }
   },
   "outputs": [
    {
     "data": {
      "text/plain": [
       "Plots.GRBackend()"
      ]
     },
     "execution_count": 1,
     "metadata": {},
     "output_type": "execute_result"
    }
   ],
   "source": [
    "using Plots\n",
    "gr()"
   ]
  },
  {
   "cell_type": "code",
   "execution_count": 2,
   "id": "6d17eee9-7cd8-42d5-9a0f-ac570ce01f28",
   "metadata": {
    "execution": {
     "iopub.execute_input": "2021-08-16T15:29:28.448000+02:00",
     "iopub.status.busy": "2021-08-16T15:29:27.115000+02:00",
     "iopub.status.idle": "2021-08-16T15:29:41.665000+02:00",
     "shell.execute_reply": "2021-08-16T15:29:41.665000+02:00"
    }
   },
   "outputs": [],
   "source": [
    "p = plot([sin, cos], zeros(0), leg = false, xlims = (0, 2π), ylims = (-1, 1))\n",
    "anim = Animation()\n",
    "for x = range(0, stop = 2π, length = 20)\n",
    "    push!(p, x, Float64[sin(x), cos(x)])\n",
    "    frame(anim)\n",
    "end"
   ]
  },
  {
   "cell_type": "code",
   "execution_count": null,
   "id": "7f54b560-e141-408b-a9c5-aabc7222cc21",
   "metadata": {},
   "outputs": [],
   "source": []
  }
 ],
 "metadata": {
  "kernelspec": {
   "display_name": "Julia 1.6.1",
   "language": "julia",
   "name": "julia-1.6"
  },
  "language_info": {
   "file_extension": ".jl",
   "mimetype": "application/julia",
   "name": "julia",
   "version": "1.6.1"
  },
  "toc-autonumbering": false,
  "toc-showcode": false,
  "toc-showmarkdowntxt": false,
  "toc-showtags": false
 },
 "nbformat": 4,
 "nbformat_minor": 5
}
